{
 "cells": [
  {
   "cell_type": "markdown",
   "metadata": {},
   "source": [
    "<center><img src=\"img/skillfactorylogo.png\"></center>\n",
    "\n",
    "<h1><center>Курс \"Практический Machine Learning\"</center></h1>\n",
    "<h3><center>Шестаков Андрей</center></h3>\n",
    "<hr>\n",
    "<h2><center>Введение в рекомендательные системы</center></h2>"
   ]
  },
  {
   "cell_type": "code",
   "execution_count": null,
   "metadata": {
    "collapsed": true
   },
   "outputs": [],
   "source": [
    "import pandas as pd\n",
    "import numpy as np\n",
    "import matplotlib.pyplot as plt\n",
    "\n",
    "\n",
    "%matplotlib inline\n",
    "\n",
    "plt.style.use('ggplot')\n",
    "plt.rcParams['figure.figsize'] = (12, 8)"
   ]
  },
  {
   "cell_type": "code",
   "execution_count": null,
   "metadata": {
    "collapsed": true
   },
   "outputs": [],
   "source": [
    "import warnings\n",
    "warnings.filterwarnings('ignore')\n",
    "\n",
    "from ipywidgets import interact, IntSlider, fixed, FloatSlider"
   ]
  },
  {
   "cell_type": "markdown",
   "metadata": {},
   "source": [
    "# Мотивация"
   ]
  },
  {
   "cell_type": "markdown",
   "metadata": {},
   "source": [
    "* Люди - потребители контента и услуг\n",
    "    * Музыка\n",
    "    * Фильмы\n",
    "    * Книги\n",
    "    * Игры\n",
    "    * Еда\n",
    "    * ...\n",
    "\n",
    "\n",
    "* Но выбор слишком велик..\n",
    "    * Spotify - 30 млн. песен\n",
    "    * Netflix - 20 тыс. фильмов\n",
    "    * Amazon - 500 тыс. книг\n",
    "    * Steam - 20 тыс. игр"
   ]
  },
  {
   "cell_type": "markdown",
   "metadata": {},
   "source": [
    "Надо как-то фильтровать..\n",
    "* Можно спросить у друзей (вкусы могут отличаться)\n",
    "* Можно почитать обзоры (много времени)\n",
    "* Автоматическая рекомендательная система!\n",
    "\n",
    "<center><img src=\"img/recsys.jpg\" width=400></center>\n",
    "\n"
   ]
  },
  {
   "cell_type": "markdown",
   "metadata": {},
   "source": [
    "### Netflix Prize\n",
    "<center><img src=\"img/netflix.jpg\" width=500></center>"
   ]
  },
  {
   "cell_type": "markdown",
   "metadata": {},
   "source": [
    "### Источники персональных рекомендаций\n",
    "* На основе предпочтений пользователя\n",
    "    * Рассчитывается некоторый \"профиль\" пользователя, для которого определяются наиболее подходящие товары\n",
    "* На основе похожих пользователей\n",
    "    * Находим других пользователей с похожими интересами и доставляем рекомендацию\n",
    "* На основе похожих товоров\n",
    "    * Рекомендуем товары, похожие на те, что мне нравятся"
   ]
  },
  {
   "cell_type": "markdown",
   "metadata": {
    "slideshow": {
     "slide_type": "slide"
    }
   },
   "source": [
    "# Постановка проблемы"
   ]
  },
  {
   "cell_type": "markdown",
   "metadata": {
    "slideshow": {
     "slide_type": "subslide"
    }
   },
   "source": [
    "* Пользователи ставят оценку товарам\n",
    "    * Бинарную\n",
    "    * Количество \"звезд\"\n",
    "    * Неявную (кол-во потраченого времени\\денег)\n",
    "<center><img src=\"img/rating.png\" width=600></center>\n",
    "* Надо заполнить пропуски\n",
    "* Предоставить рекомендацию\n",
    "\n"
   ]
  },
  {
   "cell_type": "markdown",
   "metadata": {},
   "source": [
    "### Нюансы\n",
    "* Хорошее восстановление рейтингов $\\neq$ хорошая рекомендательная система\n",
    "* Учет экономических предпочтений продавцов\n",
    "* Learning Loop\n",
    "* Холодный старт\n",
    "* Возникает для новых товаров и пользователей\n",
    "* Масштабируемость\n",
    "* Накручивание рейтингов\n",
    "* Неактивные пользователи\n",
    "* Тривиальные рекомендации"
   ]
  },
  {
   "cell_type": "markdown",
   "metadata": {},
   "source": [
    "<center><img src=\"img/hp-rec.png\" width=600></center>"
   ]
  },
  {
   "cell_type": "markdown",
   "metadata": {},
   "source": [
    "## Подходы к решению\n",
    "* Коллаборативная фильтрация\n",
    "* Латентные методы (матричные разложения)"
   ]
  },
  {
   "cell_type": "markdown",
   "metadata": {},
   "source": [
    "# Коллаборативная фильтрация"
   ]
  },
  {
   "cell_type": "markdown",
   "metadata": {},
   "source": [
    "* User-based\n",
    "* Item-based"
   ]
  },
  {
   "cell_type": "markdown",
   "metadata": {},
   "source": [
    "## User-based CF\n",
    "<center><img src=\"img/ub-collab.png\" width=700></center>"
   ]
  },
  {
   "cell_type": "markdown",
   "metadata": {},
   "source": [
    "Введем обозначения:\n",
    "* $U$ - множество пользователей\n",
    "* $I$ - множество товаров\n",
    "* $U_i$ - множество пользователей, оценивших товар $i$\n",
    "* $I_u$ - множество товаров, оценненных пользователем $u$\n",
    "* $R_{ui}$ - оценка, которую дал пользователь $u$ товару $i$\n",
    "* $\\hat{R}_{ui}$ - прогноз оценки\n",
    "\n"
   ]
  },
  {
   "cell_type": "markdown",
   "metadata": {
    "slideshow": {
     "slide_type": "subslide"
    }
   },
   "source": [
    "### Прогнозирование рейтинга\n",
    "* Посчитаем сходство между пользователями $s \\in \\mathbb{R}^{U \\times U}$\n",
    "* Для целевого пользователя $u$ найти похожих пользователей $N(u)$\n",
    "$$ \\hat{R}_{ui} = \\bar{R}_u + \\frac{\\sum_{v \\in N(u)} s_{uv}(R_{vi} - \\bar{R}_v)}{\\sum_{v \\in N(u)} \\left| s_{uv}\\right|} $$\n",
    "\n",
    "* $\\bar{R}_u$ - поправка на писсимизм\\оптимизм пользователей"
   ]
  },
  {
   "cell_type": "markdown",
   "metadata": {
    "slideshow": {
     "slide_type": "subslide"
    }
   },
   "source": [
    "### Как определять $N(u)$?\n",
    "* $N(u)$ можно определять по разным соображениям:\n",
    "    * Брать всех\n",
    "    * Top-k\n",
    "    * $s_{uv} > \\theta$"
   ]
  },
  {
   "cell_type": "markdown",
   "metadata": {
    "slideshow": {
     "slide_type": "subslide"
    }
   },
   "source": [
    "### Как определять схожесть пользователей\n",
    "\n",
    "* Для каждой пары $(u,v)$ надо пересечь множество оцененных товаров\n",
    "\n",
    "* Корреляция пирсона\n",
    "$$ s_{uv} = \\frac{\\sum\\limits_{i \\in I_u\\cap I_v} (R_{ui} - \\bar{R}_u)(R_{vi} - \\bar{R}_v)}{\\sqrt{\\sum\\limits_{i \\in I_u\\cap I_v}(R_{ui} - \\bar{R}_u)^2}\\sqrt{\\sum\\limits_{i \\in I_u\\cap I_v}(R_{vi} - \\bar{R}_v)^2}}$$\n",
    "* Корреляция Спирмана\n",
    "* Косинусная мера\n",
    "$$ s_{uv} = \\frac{\\sum\\limits_{i \\in I_u\\cap I_v} R_{ui} R_{vi}}{\\sqrt{{\\sum\\limits_{i \\in I_u\\cap I_v}R_{ui}^2}}\\sqrt{{\\sum\\limits_{i \\in I_u\\cap I_v}R_{vi}^2}}}$$\n"
   ]
  },
  {
   "cell_type": "markdown",
   "metadata": {},
   "source": [
    "### Пример\n",
    "\n",
    "<img src='img/example1.png'>"
   ]
  },
  {
   "cell_type": "markdown",
   "metadata": {},
   "source": [
    "<img src='img/example2.png'>"
   ]
  },
  {
   "cell_type": "markdown",
   "metadata": {
    "slideshow": {
     "slide_type": "slide"
    }
   },
   "source": [
    "## Item-based CF"
   ]
  },
  {
   "cell_type": "markdown",
   "metadata": {
    "slideshow": {
     "slide_type": "subslide"
    }
   },
   "source": [
    "<center><img src='http://dataconomy.com/wp-content/uploads/2015/03/Beginners-Guide-Recommender-Systems-Content-Based-Filtering.png' width=350></center>"
   ]
  },
  {
   "cell_type": "markdown",
   "metadata": {
    "slideshow": {
     "slide_type": "subslide"
    }
   },
   "source": [
    "### Прогнозирование рейтинга\n",
    "* Посчитаем сходство между товарами $s \\in \\mathbb{R}^{I \\times I}$\n",
    "* Для товара $i$ найти оцененные пользователем $u$ похожие товары: $N(i)$\n",
    "\n",
    "$$ \\hat{R}_{ui} = \\frac{\\sum_{j \\in N(i)} s_{ij}R_{uj}}{\\sum_{j \\in N(i)} \\left| s_{ij}\\right|} $$"
   ]
  },
  {
   "cell_type": "markdown",
   "metadata": {
    "slideshow": {
     "slide_type": "subslide"
    }
   },
   "source": [
    "### Схожесть товаров\n",
    "\n",
    "* Условная вероятность\n",
    "$$ s_{ij} = \\frac{n_{ij}}{n_i} $$\n",
    "* Зависимость\n",
    "$$ s_{ij} = \\frac{n_{ij}}{n_i n_j} $$"
   ]
  },
  {
   "cell_type": "markdown",
   "metadata": {},
   "source": [
    "Попробуем что-то сделать с модулем [surprice](http://surprise.readthedocs.io/en/stable/index.html)"
   ]
  },
  {
   "cell_type": "markdown",
   "metadata": {},
   "source": [
    "## Демо CF"
   ]
  },
  {
   "cell_type": "code",
   "execution_count": null,
   "metadata": {
    "collapsed": true
   },
   "outputs": [],
   "source": [
    "filepath = './data/user_ratedmovies.dat'\n",
    "df_rates = pd.read_csv(filepath, sep='\\t')\n",
    "\n",
    "filepath = './data/movies.dat'\n",
    "df_movies = pd.read_csv(filepath, sep='\\t', encoding='iso-8859-1')"
   ]
  },
  {
   "cell_type": "code",
   "execution_count": null,
   "metadata": {
    "scrolled": true
   },
   "outputs": [],
   "source": [
    "df_movies.head()"
   ]
  },
  {
   "cell_type": "code",
   "execution_count": null,
   "metadata": {
    "collapsed": true
   },
   "outputs": [],
   "source": [
    "df_movies.loc[:, 'id'] = df_movies.loc[:, 'id'].astype('str')\n",
    "df_movies = df_movies.set_index('id')"
   ]
  },
  {
   "cell_type": "code",
   "execution_count": null,
   "metadata": {},
   "outputs": [],
   "source": [
    "df_rates.head()"
   ]
  },
  {
   "cell_type": "code",
   "execution_count": null,
   "metadata": {
    "collapsed": true
   },
   "outputs": [],
   "source": [
    "q = df_rates.datetime.quantile(0.85)"
   ]
  },
  {
   "cell_type": "code",
   "execution_count": null,
   "metadata": {
    "collapsed": true
   },
   "outputs": [],
   "source": [
    "filepath = './data/user_ratedmovies_train.dat'\n",
    "idx = df_rates.datetime < q\n",
    "df_rates.loc[idx].to_csv(filepath, sep='\\t', columns=['userID', 'movieID', 'rating'], index=None)\n",
    "\n",
    "filepath = './data/user_ratedmovies_test.dat'\n",
    "df_rates.loc[~idx].to_csv(filepath, sep='\\t', columns=['userID', 'movieID', 'rating'], index=None)"
   ]
  },
  {
   "cell_type": "code",
   "execution_count": null,
   "metadata": {
    "collapsed": true
   },
   "outputs": [],
   "source": [
    "from surprise import Dataset"
   ]
  },
  {
   "cell_type": "code",
   "execution_count": null,
   "metadata": {
    "collapsed": true
   },
   "outputs": [],
   "source": [
    "filepaths = [('./data/user_ratedmovies_train.dat', './data/user_ratedmovies_test.dat')]\n",
    "reader = Reader(line_format='user item rating', sep='\\t', skip_lines=1)\n",
    "data = Dataset.load_from_folds(filepaths, reader=reader)"
   ]
  },
  {
   "cell_type": "code",
   "execution_count": null,
   "metadata": {
    "collapsed": true
   },
   "outputs": [],
   "source": [
    "from surprise import KNNBasic, KNNWithMeans\n",
    "from surprise.accuracy import rmse\n",
    "from surprise import dump"
   ]
  },
  {
   "cell_type": "markdown",
   "metadata": {},
   "source": [
    "Описание алгоритмов, основанных на CF - [туть](http://surprise.readthedocs.io/en/stable/knn_inspired.html)"
   ]
  },
  {
   "cell_type": "code",
   "execution_count": null,
   "metadata": {
    "collapsed": true
   },
   "outputs": [],
   "source": [
    "sim_options = {'name': 'cosine',\n",
    "               'user_based': True\n",
    "               }"
   ]
  },
  {
   "cell_type": "code",
   "execution_count": null,
   "metadata": {
    "collapsed": true
   },
   "outputs": [],
   "source": [
    "dumpfile = './alg.dump'"
   ]
  },
  {
   "cell_type": "code",
   "execution_count": null,
   "metadata": {
    "collapsed": true
   },
   "outputs": [],
   "source": [
    "dump.dump(dumpfile, predictions, algo)"
   ]
  },
  {
   "cell_type": "code",
   "execution_count": null,
   "metadata": {},
   "outputs": [],
   "source": [
    "algo = KNNWithMeans(k=20, min_k=1, sim_options=sim_options)                                                       \n",
    "\n",
    "for trainset, testset in data.folds(): \n",
    "    algo.train(trainset)                             \n",
    "    predictions = algo.test(testset)\n",
    "    rmse(predictions)\n",
    "    \n",
    "    dump.dump(dumpfile, predictions, algo)"
   ]
  },
  {
   "cell_type": "code",
   "execution_count": null,
   "metadata": {
    "collapsed": true
   },
   "outputs": [],
   "source": [
    "df_predictions = pd.DataFrame(predictions, columns=['uid', 'iid', 'rui', 'est', 'details']) "
   ]
  },
  {
   "cell_type": "code",
   "execution_count": null,
   "metadata": {},
   "outputs": [],
   "source": [
    "df_predictions.head()"
   ]
  },
  {
   "cell_type": "code",
   "execution_count": null,
   "metadata": {},
   "outputs": [],
   "source": [
    "algo.predict('190', '173', verbose=2)"
   ]
  },
  {
   "cell_type": "code",
   "execution_count": null,
   "metadata": {
    "collapsed": true
   },
   "outputs": [],
   "source": [
    "anti_train = trainset.build_anti_testset()"
   ]
  },
  {
   "cell_type": "code",
   "execution_count": null,
   "metadata": {
    "collapsed": true
   },
   "outputs": [],
   "source": [
    "one_user = filter(lambda r: r[0] == '75', anti_train)"
   ]
  },
  {
   "cell_type": "code",
   "execution_count": null,
   "metadata": {
    "collapsed": true
   },
   "outputs": [],
   "source": [
    "# Это будет долго..\n",
    "# anti_train_predictions = algo.test(one_user)\n",
    "\n",
    "anti_train_predictions = algo.test(one_user)"
   ]
  },
  {
   "cell_type": "code",
   "execution_count": null,
   "metadata": {
    "collapsed": true
   },
   "outputs": [],
   "source": [
    "from collections import defaultdict\n",
    "\n",
    "def get_top_n(predictions, n=10):\n",
    "\n",
    "    # First map the predictions to each user.\n",
    "    top_n = defaultdict(list)\n",
    "    for uid, iid, true_r, est, _ in predictions:\n",
    "        top_n[uid].append((iid, est))\n",
    "\n",
    "    # Then sort the predictions for each user and retrieve the k highest ones.\n",
    "    for uid, user_ratings in top_n.items():\n",
    "        user_ratings.sort(key=lambda x: x[1], reverse=True)\n",
    "        top_n[uid] = user_ratings[:n]\n",
    "\n",
    "    return top_n"
   ]
  },
  {
   "cell_type": "code",
   "execution_count": null,
   "metadata": {},
   "outputs": [],
   "source": [
    "df_movies.loc['5695', 'title']"
   ]
  },
  {
   "cell_type": "code",
   "execution_count": null,
   "metadata": {},
   "outputs": [],
   "source": [
    "top_n = get_top_n(anti_train_predictions, n=10)\n",
    "\n",
    "for uid, user_ratings in top_n.items():\n",
    "    print(uid, [df_movies.loc[iid, 'title'] for (iid, _) in user_ratings])"
   ]
  },
  {
   "cell_type": "markdown",
   "metadata": {
    "slideshow": {
     "slide_type": "slide"
    }
   },
   "source": [
    "# Модели со скрытыми факторами"
   ]
  },
  {
   "cell_type": "markdown",
   "metadata": {
    "collapsed": true,
    "slideshow": {
     "slide_type": "subslide"
    }
   },
   "source": [
    "Для каждого пользователя и товара построим векторы $p_u\\in \\mathbb{R}^{k}$ и $q_i \\in \\mathbb{R}^{k}$ так, чтобы\n",
    "$$ R_{ui} \\approx p_u^\\top q_i $$\n",
    "\n",
    "* $p_u$ иногда получается интерпретировать как заинтересованность пользователя в некоторой категории товаров\n",
    "* $q_i$ иногда получается интерпретировать как принадлежность товара к определенной категории\n",
    "\n",
    "Кроме того, в полученном пространстве, можно считать похожесть пользователей и товаров"
   ]
  },
  {
   "cell_type": "markdown",
   "metadata": {
    "slideshow": {
     "slide_type": "subslide"
    }
   },
   "source": [
    "<center><img src='img/matrix_factorization.png' width=600></center>"
   ]
  },
  {
   "cell_type": "markdown",
   "metadata": {},
   "source": [
    "## Non-negative Matrix Factorization\n",
    "\n",
    "* $P \\geq 0$\n",
    "* $Q \\geq 0$"
   ]
  },
  {
   "cell_type": "markdown",
   "metadata": {
    "slideshow": {
     "slide_type": "subslide"
    }
   },
   "source": [
    "## SVD разложение\n",
    "<center><img src='img/svd.png' width=600></center>"
   ]
  },
  {
   "cell_type": "markdown",
   "metadata": {
    "slideshow": {
     "slide_type": "subslide"
    }
   },
   "source": [
    "* Надо чем-то заполнить пропуски\n",
    "    * Нулями\n",
    "    * Базовыми предсказаниями\n",
    "* Как вариант \n",
    "    * $R' = R-B$ и заполнить $0$\n",
    "* Таким образом:\n",
    "    * $P = U\\sqrt{\\Sigma}$\n",
    "    * $Q = \\sqrt{\\Sigma}V^\\top$\n",
    "    * $\\hat{R} = P^\\top Q$\n",
    "* А как делать предсказания для новых пользователей?"
   ]
  },
  {
   "cell_type": "markdown",
   "metadata": {},
   "source": [
    "## Non-negative Matrix Factorization\n",
    "\n",
    "* $P \\geq 0$\n",
    "* $Q \\geq 0$"
   ]
  },
  {
   "cell_type": "markdown",
   "metadata": {
    "slideshow": {
     "slide_type": "subslide"
    }
   },
   "source": [
    "##  Latent Factor Model\n",
    "* Будем оптимизировать следующий функционал\n",
    "$$ \\sum\\limits_{u,i}(R_{ui} - \\bar{R}_u - \\bar{R}_i - \\langle p_u, q_i \\rangle)^2 + \\lambda \\sum_u\\| p_u \\|^2 + \\mu\\sum_i\\| q_i \\|^2 \\rightarrow \\min\\limits_{P, Q} $$\n",
    "* С помощью градиентного спуска (на каждом шаге случайно выбирая пару $(u,i)$:\n",
    "$$ p_{uk} = p_{uk} + 2\\alpha \\left(q_{ik}(R_{ui} - \\bar{R}_u - \\bar{R}_i - \\langle p_u, q_i \\rangle) - \\lambda p_{uk}\\right)$$\n",
    "$$ q_{ik} = q_{ik} + 2\\alpha \\left(p_{uk}(R_{ui} - \\bar{R}_u - \\bar{R}_i - \\langle p_u, q_i \\rangle) - \\mu q_{ik}\\right)$$"
   ]
  },
  {
   "cell_type": "markdown",
   "metadata": {},
   "source": [
    "## Демо SVD"
   ]
  },
  {
   "cell_type": "markdown",
   "metadata": {},
   "source": [
    "### Перекодируем ID фильмов и пользователей"
   ]
  },
  {
   "cell_type": "code",
   "execution_count": null,
   "metadata": {
    "collapsed": true
   },
   "outputs": [],
   "source": [
    "filepath = './data/user_ratedmovies.dat'\n",
    "df_rates = pd.read_csv(filepath, sep='\\t')\n",
    "\n",
    "filepath = './data/movies.dat'\n",
    "df_movies = pd.read_csv(filepath, sep='\\t', encoding='iso-8859-1')"
   ]
  },
  {
   "cell_type": "code",
   "execution_count": null,
   "metadata": {
    "collapsed": true
   },
   "outputs": [],
   "source": [
    "from sklearn.preprocessing import LabelEncoder"
   ]
  },
  {
   "cell_type": "code",
   "execution_count": null,
   "metadata": {
    "collapsed": true
   },
   "outputs": [],
   "source": [
    "mov_enc = LabelEncoder()\n",
    "mov_enc.fit(df_rates.movieID.values)\n",
    "n_movies = df_rates.movieID.nunique()"
   ]
  },
  {
   "cell_type": "code",
   "execution_count": null,
   "metadata": {
    "collapsed": true
   },
   "outputs": [],
   "source": [
    "user_enc = LabelEncoder()\n",
    "user_enc.fit(df_rates.userID.values)\n",
    "n_users = df_rates.userID.nunique()"
   ]
  },
  {
   "cell_type": "code",
   "execution_count": null,
   "metadata": {
    "collapsed": true
   },
   "outputs": [],
   "source": [
    "idx = df_movies.loc[:, 'id'].isin(df_rates.movieID)\n",
    "df_movies = df_movies.loc[idx, :]"
   ]
  },
  {
   "cell_type": "code",
   "execution_count": null,
   "metadata": {
    "collapsed": true
   },
   "outputs": [],
   "source": [
    "df_rates.loc[:, 'movieID'] = mov_enc.transform(df_rates.movieID.values)\n",
    "df_movies.loc[:, 'id'] = mov_enc.transform(df_movies.loc[:, 'id'].values)\n",
    "df_rates.loc[:, 'userID'] = user_enc.transform(df_rates.userID.values)"
   ]
  },
  {
   "cell_type": "code",
   "execution_count": null,
   "metadata": {
    "scrolled": true
   },
   "outputs": [],
   "source": [
    "df_rates.head()"
   ]
  },
  {
   "cell_type": "markdown",
   "metadata": {},
   "source": [
    "### В явном виде запишем матрицу рейтингов"
   ]
  },
  {
   "cell_type": "code",
   "execution_count": null,
   "metadata": {
    "collapsed": true
   },
   "outputs": [],
   "source": [
    "from scipy.sparse import coo_matrix, csr_matrix"
   ]
  },
  {
   "cell_type": "code",
   "execution_count": null,
   "metadata": {
    "collapsed": true
   },
   "outputs": [],
   "source": [
    "n_users_train = df_rates.userID.nunique()\n",
    "R_train = coo_matrix((df_rates.rating, \n",
    "                     (df_rates.userID.values, df_rates.movieID.values)),\n",
    "                     shape=(n_users, n_movies))"
   ]
  },
  {
   "cell_type": "code",
   "execution_count": null,
   "metadata": {
    "collapsed": true
   },
   "outputs": [],
   "source": [
    "from scipy.sparse.linalg import svds"
   ]
  },
  {
   "cell_type": "code",
   "execution_count": null,
   "metadata": {
    "collapsed": true
   },
   "outputs": [],
   "source": [
    "u, s, vt = svds(R_train, k=10, )"
   ]
  },
  {
   "cell_type": "code",
   "execution_count": null,
   "metadata": {},
   "outputs": [],
   "source": [
    "vt.shape"
   ]
  },
  {
   "cell_type": "code",
   "execution_count": null,
   "metadata": {
    "collapsed": true
   },
   "outputs": [],
   "source": [
    "from sklearn.neighbors import NearestNeighbors"
   ]
  },
  {
   "cell_type": "code",
   "execution_count": null,
   "metadata": {
    "collapsed": true
   },
   "outputs": [],
   "source": [
    "nn = NearestNeighbors(n_neighbors=10, metric='cosine')"
   ]
  },
  {
   "cell_type": "code",
   "execution_count": null,
   "metadata": {
    "collapsed": true
   },
   "outputs": [],
   "source": [
    "v = vt.T"
   ]
  },
  {
   "cell_type": "code",
   "execution_count": null,
   "metadata": {},
   "outputs": [],
   "source": [
    "nn.fit(v)"
   ]
  },
  {
   "cell_type": "code",
   "execution_count": null,
   "metadata": {
    "collapsed": true
   },
   "outputs": [],
   "source": [
    "ind = nn.kneighbors(v, return_distance=False)"
   ]
  },
  {
   "cell_type": "code",
   "execution_count": null,
   "metadata": {
    "collapsed": true
   },
   "outputs": [],
   "source": [
    "m_names = df_movies.title.values"
   ]
  },
  {
   "cell_type": "code",
   "execution_count": null,
   "metadata": {
    "collapsed": true
   },
   "outputs": [],
   "source": [
    "m_names = pd.DataFrame(data=m_names[ind], columns=['movie']+['nn_{}'.format(i) for i in range(1,10)])"
   ]
  },
  {
   "cell_type": "code",
   "execution_count": null,
   "metadata": {},
   "outputs": [],
   "source": [
    "idx = m_names.movie.str.contains('Terminator')\n",
    "m_names.loc[idx]"
   ]
  },
  {
   "cell_type": "markdown",
   "metadata": {},
   "source": [
    "# Оценка качества"
   ]
  },
  {
   "cell_type": "markdown",
   "metadata": {},
   "source": [
    "* Качество рейтингов\n",
    "    * MAE, MSE\n",
    "* Качество событий\n",
    "    * F-score, ROC-AUC, PR-AUC\n",
    "    * precision@k, recall@k"
   ]
  }
 ],
 "metadata": {
  "anaconda-cloud": {},
  "kernelspec": {
   "display_name": "Python [conda root]",
   "language": "python",
   "name": "conda-root-py"
  },
  "language_info": {
   "codemirror_mode": {
    "name": "ipython",
    "version": 2
   },
   "file_extension": ".py",
   "mimetype": "text/x-python",
   "name": "python",
   "nbconvert_exporter": "python",
   "pygments_lexer": "ipython2",
   "version": "2.7.14"
  },
  "nav_menu": {},
  "toc": {
   "colors": {
    "hover_highlight": "#DAA520",
    "navigate_num": "#000000",
    "navigate_text": "#333333",
    "running_highlight": "#FF0000",
    "selected_highlight": "#FFD700",
    "sidebar_border": "#EEEEEE",
    "wrapper_background": "#FFFFFF"
   },
   "moveMenuLeft": true,
   "nav_menu": {
    "height": "347px",
    "width": "253px"
   },
   "navigate_menu": true,
   "number_sections": false,
   "sideBar": false,
   "threshold": 4,
   "toc_cell": true,
   "toc_position": {
    "height": "40px",
    "left": "952px",
    "right": "9.46667px",
    "top": "100px",
    "width": "182px"
   },
   "toc_section_display": "none",
   "toc_window_display": true,
   "widenNotebook": false
  },
  "toc_position": {
   "height": "40px",
   "left": "816px",
   "right": "38.6667px",
   "top": "0px",
   "width": "212px"
  }
 },
 "nbformat": 4,
 "nbformat_minor": 1
}
