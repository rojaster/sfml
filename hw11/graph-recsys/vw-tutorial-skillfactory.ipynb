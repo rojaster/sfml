{
 "cells": [
  {
   "cell_type": "markdown",
   "metadata": {},
   "source": [
    "<center><img src=\"img/skillfactorylogo.png\"></center>\n",
    "\n",
    "<h1><center>Курс \"Практический Machine Learning\"</center></h1>\n",
    "<h3><center>Шестаков Андрей</center></h3>\n",
    "<hr>\n",
    "<h2><center>Онлайн обучение и VowpalWabbit</center></h2>"
   ]
  },
  {
   "cell_type": "markdown",
   "metadata": {},
   "source": [
    "<img src=https://cdn.dribbble.com/users/261617/screenshots/3146111/vw-dribbble_1x.png>"
   ]
  },
  {
   "cell_type": "markdown",
   "metadata": {},
   "source": [
    "[Vowpal Wabbit](https://github.com/JohnLangford/vowpal_wabbit) - это библиотека с большим набором оптимизированных итеративных алгоритмов машинного обучения\n",
    "\n",
    "В этом туториале мы применим эту библиотеку с целью решить задачу классификации с помощью логистической регрессии.\n",
    "\n",
    "**Туториалы:**\n",
    "https://github.com/JohnLangford/vowpal_wabbit/wiki/Tutorial\n",
    "\n",
    "**Туториал для сборки в unix:**\n",
    "https://github.com/JohnLangford/vowpal_wabbit/wiki/v7.0_tutorial.pdf\n",
    "\n",
    "**Установка**\n",
    "https://github.com/JohnLangford/vowpal_wabbit/wiki/Download"
   ]
  },
  {
   "cell_type": "markdown",
   "metadata": {},
   "source": [
    "# Загрузка и подготовка данных"
   ]
  },
  {
   "cell_type": "markdown",
   "metadata": {},
   "source": [
    "https://www.kaggle.com/dalpozz/creditcardfraud/data"
   ]
  },
  {
   "cell_type": "code",
   "execution_count": 2,
   "metadata": {
    "collapsed": false
   },
   "outputs": [],
   "source": [
    "import shutil\n",
    "import os\n",
    "import pandas as pd\n",
    "import numpy as np\n",
    "from sklearn.model_selection import train_test_split\n",
    "from sklearn.metrics import roc_auc_score, roc_curve, precision_recall_curve\n",
    "import matplotlib.pyplot as plt\n",
    "from tqdm import tqdm_notebook\n",
    "import warnings\n",
    "warnings.filterwarnings('ignore')\n",
    "%matplotlib inline\n",
    "\n",
    "plt.style.use('ggplot')\n",
    "plt.rcParams['figure.figsize'] = (12,8)\n"
   ]
  },
  {
   "cell_type": "code",
   "execution_count": 3,
   "metadata": {
    "collapsed": true
   },
   "outputs": [],
   "source": [
    "fn = './data/creditcard.csv.zip'\n",
    "fn_out_train = './data/creditcard_vw_format_train'\n",
    "fn_out_test = './data/creditcard_vw_format_test'\n",
    "fn_out_validation = './data/creditcard_vw_format_validation'\n",
    "\n",
    "fn_out_train_weight = './data/creditcard_vw_format_train_weight'\n",
    "fn_out_test_weight = './data/creditcard_vw_format_test_weight'\n",
    "fn_out_validation_weight = './data/creditcard_vw_format_validation_weight'"
   ]
  },
  {
   "cell_type": "code",
   "execution_count": 4,
   "metadata": {
    "collapsed": true
   },
   "outputs": [],
   "source": [
    "df = pd.read_csv(fn, compression='zip', header=0, sep=',', quotechar='\"')"
   ]
  },
  {
   "cell_type": "code",
   "execution_count": 5,
   "metadata": {
    "collapsed": false
   },
   "outputs": [
    {
     "data": {
      "text/html": [
       "<div>\n",
       "<style scoped>\n",
       "    .dataframe tbody tr th:only-of-type {\n",
       "        vertical-align: middle;\n",
       "    }\n",
       "\n",
       "    .dataframe tbody tr th {\n",
       "        vertical-align: top;\n",
       "    }\n",
       "\n",
       "    .dataframe thead th {\n",
       "        text-align: right;\n",
       "    }\n",
       "</style>\n",
       "<table border=\"1\" class=\"dataframe\">\n",
       "  <thead>\n",
       "    <tr style=\"text-align: right;\">\n",
       "      <th></th>\n",
       "      <th>Time</th>\n",
       "      <th>V1</th>\n",
       "      <th>V2</th>\n",
       "      <th>V3</th>\n",
       "      <th>V4</th>\n",
       "      <th>V5</th>\n",
       "      <th>V6</th>\n",
       "      <th>V7</th>\n",
       "      <th>V8</th>\n",
       "      <th>V9</th>\n",
       "      <th>...</th>\n",
       "      <th>V21</th>\n",
       "      <th>V22</th>\n",
       "      <th>V23</th>\n",
       "      <th>V24</th>\n",
       "      <th>V25</th>\n",
       "      <th>V26</th>\n",
       "      <th>V27</th>\n",
       "      <th>V28</th>\n",
       "      <th>Amount</th>\n",
       "      <th>Class</th>\n",
       "    </tr>\n",
       "  </thead>\n",
       "  <tbody>\n",
       "    <tr>\n",
       "      <th>0</th>\n",
       "      <td>0.0</td>\n",
       "      <td>-1.359807</td>\n",
       "      <td>-0.072781</td>\n",
       "      <td>2.536347</td>\n",
       "      <td>1.378155</td>\n",
       "      <td>-0.338321</td>\n",
       "      <td>0.462388</td>\n",
       "      <td>0.239599</td>\n",
       "      <td>0.098698</td>\n",
       "      <td>0.363787</td>\n",
       "      <td>...</td>\n",
       "      <td>-0.018307</td>\n",
       "      <td>0.277838</td>\n",
       "      <td>-0.110474</td>\n",
       "      <td>0.066928</td>\n",
       "      <td>0.128539</td>\n",
       "      <td>-0.189115</td>\n",
       "      <td>0.133558</td>\n",
       "      <td>-0.021053</td>\n",
       "      <td>149.62</td>\n",
       "      <td>0</td>\n",
       "    </tr>\n",
       "    <tr>\n",
       "      <th>1</th>\n",
       "      <td>0.0</td>\n",
       "      <td>1.191857</td>\n",
       "      <td>0.266151</td>\n",
       "      <td>0.166480</td>\n",
       "      <td>0.448154</td>\n",
       "      <td>0.060018</td>\n",
       "      <td>-0.082361</td>\n",
       "      <td>-0.078803</td>\n",
       "      <td>0.085102</td>\n",
       "      <td>-0.255425</td>\n",
       "      <td>...</td>\n",
       "      <td>-0.225775</td>\n",
       "      <td>-0.638672</td>\n",
       "      <td>0.101288</td>\n",
       "      <td>-0.339846</td>\n",
       "      <td>0.167170</td>\n",
       "      <td>0.125895</td>\n",
       "      <td>-0.008983</td>\n",
       "      <td>0.014724</td>\n",
       "      <td>2.69</td>\n",
       "      <td>0</td>\n",
       "    </tr>\n",
       "    <tr>\n",
       "      <th>2</th>\n",
       "      <td>1.0</td>\n",
       "      <td>-1.358354</td>\n",
       "      <td>-1.340163</td>\n",
       "      <td>1.773209</td>\n",
       "      <td>0.379780</td>\n",
       "      <td>-0.503198</td>\n",
       "      <td>1.800499</td>\n",
       "      <td>0.791461</td>\n",
       "      <td>0.247676</td>\n",
       "      <td>-1.514654</td>\n",
       "      <td>...</td>\n",
       "      <td>0.247998</td>\n",
       "      <td>0.771679</td>\n",
       "      <td>0.909412</td>\n",
       "      <td>-0.689281</td>\n",
       "      <td>-0.327642</td>\n",
       "      <td>-0.139097</td>\n",
       "      <td>-0.055353</td>\n",
       "      <td>-0.059752</td>\n",
       "      <td>378.66</td>\n",
       "      <td>0</td>\n",
       "    </tr>\n",
       "    <tr>\n",
       "      <th>3</th>\n",
       "      <td>1.0</td>\n",
       "      <td>-0.966272</td>\n",
       "      <td>-0.185226</td>\n",
       "      <td>1.792993</td>\n",
       "      <td>-0.863291</td>\n",
       "      <td>-0.010309</td>\n",
       "      <td>1.247203</td>\n",
       "      <td>0.237609</td>\n",
       "      <td>0.377436</td>\n",
       "      <td>-1.387024</td>\n",
       "      <td>...</td>\n",
       "      <td>-0.108300</td>\n",
       "      <td>0.005274</td>\n",
       "      <td>-0.190321</td>\n",
       "      <td>-1.175575</td>\n",
       "      <td>0.647376</td>\n",
       "      <td>-0.221929</td>\n",
       "      <td>0.062723</td>\n",
       "      <td>0.061458</td>\n",
       "      <td>123.50</td>\n",
       "      <td>0</td>\n",
       "    </tr>\n",
       "    <tr>\n",
       "      <th>4</th>\n",
       "      <td>2.0</td>\n",
       "      <td>-1.158233</td>\n",
       "      <td>0.877737</td>\n",
       "      <td>1.548718</td>\n",
       "      <td>0.403034</td>\n",
       "      <td>-0.407193</td>\n",
       "      <td>0.095921</td>\n",
       "      <td>0.592941</td>\n",
       "      <td>-0.270533</td>\n",
       "      <td>0.817739</td>\n",
       "      <td>...</td>\n",
       "      <td>-0.009431</td>\n",
       "      <td>0.798278</td>\n",
       "      <td>-0.137458</td>\n",
       "      <td>0.141267</td>\n",
       "      <td>-0.206010</td>\n",
       "      <td>0.502292</td>\n",
       "      <td>0.219422</td>\n",
       "      <td>0.215153</td>\n",
       "      <td>69.99</td>\n",
       "      <td>0</td>\n",
       "    </tr>\n",
       "  </tbody>\n",
       "</table>\n",
       "<p>5 rows × 31 columns</p>\n",
       "</div>"
      ],
      "text/plain": [
       "   Time        V1        V2        V3        V4        V5        V6        V7  \\\n",
       "0   0.0 -1.359807 -0.072781  2.536347  1.378155 -0.338321  0.462388  0.239599   \n",
       "1   0.0  1.191857  0.266151  0.166480  0.448154  0.060018 -0.082361 -0.078803   \n",
       "2   1.0 -1.358354 -1.340163  1.773209  0.379780 -0.503198  1.800499  0.791461   \n",
       "3   1.0 -0.966272 -0.185226  1.792993 -0.863291 -0.010309  1.247203  0.237609   \n",
       "4   2.0 -1.158233  0.877737  1.548718  0.403034 -0.407193  0.095921  0.592941   \n",
       "\n",
       "         V8        V9  ...         V21       V22       V23       V24  \\\n",
       "0  0.098698  0.363787  ...   -0.018307  0.277838 -0.110474  0.066928   \n",
       "1  0.085102 -0.255425  ...   -0.225775 -0.638672  0.101288 -0.339846   \n",
       "2  0.247676 -1.514654  ...    0.247998  0.771679  0.909412 -0.689281   \n",
       "3  0.377436 -1.387024  ...   -0.108300  0.005274 -0.190321 -1.175575   \n",
       "4 -0.270533  0.817739  ...   -0.009431  0.798278 -0.137458  0.141267   \n",
       "\n",
       "        V25       V26       V27       V28  Amount  Class  \n",
       "0  0.128539 -0.189115  0.133558 -0.021053  149.62      0  \n",
       "1  0.167170  0.125895 -0.008983  0.014724    2.69      0  \n",
       "2 -0.327642 -0.139097 -0.055353 -0.059752  378.66      0  \n",
       "3  0.647376 -0.221929  0.062723  0.061458  123.50      0  \n",
       "4 -0.206010  0.502292  0.219422  0.215153   69.99      0  \n",
       "\n",
       "[5 rows x 31 columns]"
      ]
     },
     "execution_count": 5,
     "metadata": {},
     "output_type": "execute_result"
    }
   ],
   "source": [
    "df.head()"
   ]
  },
  {
   "cell_type": "code",
   "execution_count": 6,
   "metadata": {
    "collapsed": true
   },
   "outputs": [],
   "source": [
    "df['Class'] = df['Class']* 2 - 1"
   ]
  },
  {
   "cell_type": "code",
   "execution_count": 7,
   "metadata": {
    "collapsed": false
   },
   "outputs": [
    {
     "data": {
      "text/html": [
       "<div>\n",
       "<style scoped>\n",
       "    .dataframe tbody tr th:only-of-type {\n",
       "        vertical-align: middle;\n",
       "    }\n",
       "\n",
       "    .dataframe tbody tr th {\n",
       "        vertical-align: top;\n",
       "    }\n",
       "\n",
       "    .dataframe thead th {\n",
       "        text-align: right;\n",
       "    }\n",
       "</style>\n",
       "<table border=\"1\" class=\"dataframe\">\n",
       "  <thead>\n",
       "    <tr style=\"text-align: right;\">\n",
       "      <th></th>\n",
       "      <th>Time</th>\n",
       "      <th>V1</th>\n",
       "      <th>V2</th>\n",
       "      <th>V3</th>\n",
       "      <th>V4</th>\n",
       "      <th>V5</th>\n",
       "      <th>V6</th>\n",
       "      <th>V7</th>\n",
       "      <th>V8</th>\n",
       "      <th>V9</th>\n",
       "      <th>...</th>\n",
       "      <th>V21</th>\n",
       "      <th>V22</th>\n",
       "      <th>V23</th>\n",
       "      <th>V24</th>\n",
       "      <th>V25</th>\n",
       "      <th>V26</th>\n",
       "      <th>V27</th>\n",
       "      <th>V28</th>\n",
       "      <th>Amount</th>\n",
       "      <th>Class</th>\n",
       "    </tr>\n",
       "  </thead>\n",
       "  <tbody>\n",
       "    <tr>\n",
       "      <th>0</th>\n",
       "      <td>0.0</td>\n",
       "      <td>-1.359807</td>\n",
       "      <td>-0.072781</td>\n",
       "      <td>2.536347</td>\n",
       "      <td>1.378155</td>\n",
       "      <td>-0.338321</td>\n",
       "      <td>0.462388</td>\n",
       "      <td>0.239599</td>\n",
       "      <td>0.098698</td>\n",
       "      <td>0.363787</td>\n",
       "      <td>...</td>\n",
       "      <td>-0.018307</td>\n",
       "      <td>0.277838</td>\n",
       "      <td>-0.110474</td>\n",
       "      <td>0.066928</td>\n",
       "      <td>0.128539</td>\n",
       "      <td>-0.189115</td>\n",
       "      <td>0.133558</td>\n",
       "      <td>-0.021053</td>\n",
       "      <td>149.62</td>\n",
       "      <td>-1</td>\n",
       "    </tr>\n",
       "    <tr>\n",
       "      <th>1</th>\n",
       "      <td>0.0</td>\n",
       "      <td>1.191857</td>\n",
       "      <td>0.266151</td>\n",
       "      <td>0.166480</td>\n",
       "      <td>0.448154</td>\n",
       "      <td>0.060018</td>\n",
       "      <td>-0.082361</td>\n",
       "      <td>-0.078803</td>\n",
       "      <td>0.085102</td>\n",
       "      <td>-0.255425</td>\n",
       "      <td>...</td>\n",
       "      <td>-0.225775</td>\n",
       "      <td>-0.638672</td>\n",
       "      <td>0.101288</td>\n",
       "      <td>-0.339846</td>\n",
       "      <td>0.167170</td>\n",
       "      <td>0.125895</td>\n",
       "      <td>-0.008983</td>\n",
       "      <td>0.014724</td>\n",
       "      <td>2.69</td>\n",
       "      <td>-1</td>\n",
       "    </tr>\n",
       "    <tr>\n",
       "      <th>2</th>\n",
       "      <td>1.0</td>\n",
       "      <td>-1.358354</td>\n",
       "      <td>-1.340163</td>\n",
       "      <td>1.773209</td>\n",
       "      <td>0.379780</td>\n",
       "      <td>-0.503198</td>\n",
       "      <td>1.800499</td>\n",
       "      <td>0.791461</td>\n",
       "      <td>0.247676</td>\n",
       "      <td>-1.514654</td>\n",
       "      <td>...</td>\n",
       "      <td>0.247998</td>\n",
       "      <td>0.771679</td>\n",
       "      <td>0.909412</td>\n",
       "      <td>-0.689281</td>\n",
       "      <td>-0.327642</td>\n",
       "      <td>-0.139097</td>\n",
       "      <td>-0.055353</td>\n",
       "      <td>-0.059752</td>\n",
       "      <td>378.66</td>\n",
       "      <td>-1</td>\n",
       "    </tr>\n",
       "    <tr>\n",
       "      <th>3</th>\n",
       "      <td>1.0</td>\n",
       "      <td>-0.966272</td>\n",
       "      <td>-0.185226</td>\n",
       "      <td>1.792993</td>\n",
       "      <td>-0.863291</td>\n",
       "      <td>-0.010309</td>\n",
       "      <td>1.247203</td>\n",
       "      <td>0.237609</td>\n",
       "      <td>0.377436</td>\n",
       "      <td>-1.387024</td>\n",
       "      <td>...</td>\n",
       "      <td>-0.108300</td>\n",
       "      <td>0.005274</td>\n",
       "      <td>-0.190321</td>\n",
       "      <td>-1.175575</td>\n",
       "      <td>0.647376</td>\n",
       "      <td>-0.221929</td>\n",
       "      <td>0.062723</td>\n",
       "      <td>0.061458</td>\n",
       "      <td>123.50</td>\n",
       "      <td>-1</td>\n",
       "    </tr>\n",
       "    <tr>\n",
       "      <th>4</th>\n",
       "      <td>2.0</td>\n",
       "      <td>-1.158233</td>\n",
       "      <td>0.877737</td>\n",
       "      <td>1.548718</td>\n",
       "      <td>0.403034</td>\n",
       "      <td>-0.407193</td>\n",
       "      <td>0.095921</td>\n",
       "      <td>0.592941</td>\n",
       "      <td>-0.270533</td>\n",
       "      <td>0.817739</td>\n",
       "      <td>...</td>\n",
       "      <td>-0.009431</td>\n",
       "      <td>0.798278</td>\n",
       "      <td>-0.137458</td>\n",
       "      <td>0.141267</td>\n",
       "      <td>-0.206010</td>\n",
       "      <td>0.502292</td>\n",
       "      <td>0.219422</td>\n",
       "      <td>0.215153</td>\n",
       "      <td>69.99</td>\n",
       "      <td>-1</td>\n",
       "    </tr>\n",
       "  </tbody>\n",
       "</table>\n",
       "<p>5 rows × 31 columns</p>\n",
       "</div>"
      ],
      "text/plain": [
       "   Time        V1        V2        V3        V4        V5        V6        V7  \\\n",
       "0   0.0 -1.359807 -0.072781  2.536347  1.378155 -0.338321  0.462388  0.239599   \n",
       "1   0.0  1.191857  0.266151  0.166480  0.448154  0.060018 -0.082361 -0.078803   \n",
       "2   1.0 -1.358354 -1.340163  1.773209  0.379780 -0.503198  1.800499  0.791461   \n",
       "3   1.0 -0.966272 -0.185226  1.792993 -0.863291 -0.010309  1.247203  0.237609   \n",
       "4   2.0 -1.158233  0.877737  1.548718  0.403034 -0.407193  0.095921  0.592941   \n",
       "\n",
       "         V8        V9  ...         V21       V22       V23       V24  \\\n",
       "0  0.098698  0.363787  ...   -0.018307  0.277838 -0.110474  0.066928   \n",
       "1  0.085102 -0.255425  ...   -0.225775 -0.638672  0.101288 -0.339846   \n",
       "2  0.247676 -1.514654  ...    0.247998  0.771679  0.909412 -0.689281   \n",
       "3  0.377436 -1.387024  ...   -0.108300  0.005274 -0.190321 -1.175575   \n",
       "4 -0.270533  0.817739  ...   -0.009431  0.798278 -0.137458  0.141267   \n",
       "\n",
       "        V25       V26       V27       V28  Amount  Class  \n",
       "0  0.128539 -0.189115  0.133558 -0.021053  149.62     -1  \n",
       "1  0.167170  0.125895 -0.008983  0.014724    2.69     -1  \n",
       "2 -0.327642 -0.139097 -0.055353 -0.059752  378.66     -1  \n",
       "3  0.647376 -0.221929  0.062723  0.061458  123.50     -1  \n",
       "4 -0.206010  0.502292  0.219422  0.215153   69.99     -1  \n",
       "\n",
       "[5 rows x 31 columns]"
      ]
     },
     "execution_count": 7,
     "metadata": {},
     "output_type": "execute_result"
    }
   ],
   "source": [
    "df.head()"
   ]
  },
  {
   "cell_type": "code",
   "execution_count": 8,
   "metadata": {
    "collapsed": false
   },
   "outputs": [
    {
     "data": {
      "text/plain": [
       "-1    284315\n",
       " 1       492\n",
       "Name: Class, dtype: int64"
      ]
     },
     "execution_count": 8,
     "metadata": {},
     "output_type": "execute_result"
    }
   ],
   "source": [
    "df['Class'].value_counts()"
   ]
  },
  {
   "cell_type": "code",
   "execution_count": 9,
   "metadata": {
    "collapsed": false
   },
   "outputs": [
    {
     "name": "stdout",
     "output_type": "stream",
     "text": [
      "<class 'pandas.core.frame.DataFrame'>\n",
      "RangeIndex: 284807 entries, 0 to 284806\n",
      "Data columns (total 31 columns):\n",
      "Time      284807 non-null float64\n",
      "V1        284807 non-null float64\n",
      "V2        284807 non-null float64\n",
      "V3        284807 non-null float64\n",
      "V4        284807 non-null float64\n",
      "V5        284807 non-null float64\n",
      "V6        284807 non-null float64\n",
      "V7        284807 non-null float64\n",
      "V8        284807 non-null float64\n",
      "V9        284807 non-null float64\n",
      "V10       284807 non-null float64\n",
      "V11       284807 non-null float64\n",
      "V12       284807 non-null float64\n",
      "V13       284807 non-null float64\n",
      "V14       284807 non-null float64\n",
      "V15       284807 non-null float64\n",
      "V16       284807 non-null float64\n",
      "V17       284807 non-null float64\n",
      "V18       284807 non-null float64\n",
      "V19       284807 non-null float64\n",
      "V20       284807 non-null float64\n",
      "V21       284807 non-null float64\n",
      "V22       284807 non-null float64\n",
      "V23       284807 non-null float64\n",
      "V24       284807 non-null float64\n",
      "V25       284807 non-null float64\n",
      "V26       284807 non-null float64\n",
      "V27       284807 non-null float64\n",
      "V28       284807 non-null float64\n",
      "Amount    284807 non-null float64\n",
      "Class     284807 non-null int64\n",
      "dtypes: float64(30), int64(1)\n",
      "memory usage: 67.4 MB\n"
     ]
    }
   ],
   "source": [
    "df.info()"
   ]
  },
  {
   "cell_type": "code",
   "execution_count": 10,
   "metadata": {
    "collapsed": false
   },
   "outputs": [
    {
     "data": {
      "text/html": [
       "<div>\n",
       "<style scoped>\n",
       "    .dataframe tbody tr th:only-of-type {\n",
       "        vertical-align: middle;\n",
       "    }\n",
       "\n",
       "    .dataframe tbody tr th {\n",
       "        vertical-align: top;\n",
       "    }\n",
       "\n",
       "    .dataframe thead th {\n",
       "        text-align: right;\n",
       "    }\n",
       "</style>\n",
       "<table border=\"1\" class=\"dataframe\">\n",
       "  <thead>\n",
       "    <tr style=\"text-align: right;\">\n",
       "      <th></th>\n",
       "      <th>Time</th>\n",
       "      <th>V1</th>\n",
       "      <th>V2</th>\n",
       "      <th>V3</th>\n",
       "      <th>V4</th>\n",
       "      <th>V5</th>\n",
       "      <th>V6</th>\n",
       "      <th>V7</th>\n",
       "      <th>V8</th>\n",
       "      <th>V9</th>\n",
       "      <th>...</th>\n",
       "      <th>V21</th>\n",
       "      <th>V22</th>\n",
       "      <th>V23</th>\n",
       "      <th>V24</th>\n",
       "      <th>V25</th>\n",
       "      <th>V26</th>\n",
       "      <th>V27</th>\n",
       "      <th>V28</th>\n",
       "      <th>Amount</th>\n",
       "      <th>Class</th>\n",
       "    </tr>\n",
       "  </thead>\n",
       "  <tbody>\n",
       "    <tr>\n",
       "      <th>count</th>\n",
       "      <td>284807.000000</td>\n",
       "      <td>2.848070e+05</td>\n",
       "      <td>2.848070e+05</td>\n",
       "      <td>2.848070e+05</td>\n",
       "      <td>2.848070e+05</td>\n",
       "      <td>2.848070e+05</td>\n",
       "      <td>2.848070e+05</td>\n",
       "      <td>2.848070e+05</td>\n",
       "      <td>2.848070e+05</td>\n",
       "      <td>2.848070e+05</td>\n",
       "      <td>...</td>\n",
       "      <td>2.848070e+05</td>\n",
       "      <td>2.848070e+05</td>\n",
       "      <td>2.848070e+05</td>\n",
       "      <td>2.848070e+05</td>\n",
       "      <td>2.848070e+05</td>\n",
       "      <td>2.848070e+05</td>\n",
       "      <td>2.848070e+05</td>\n",
       "      <td>2.848070e+05</td>\n",
       "      <td>284807.000000</td>\n",
       "      <td>284807.000000</td>\n",
       "    </tr>\n",
       "    <tr>\n",
       "      <th>mean</th>\n",
       "      <td>94813.859575</td>\n",
       "      <td>1.165980e-15</td>\n",
       "      <td>3.416908e-16</td>\n",
       "      <td>-1.373150e-15</td>\n",
       "      <td>2.086869e-15</td>\n",
       "      <td>9.604066e-16</td>\n",
       "      <td>1.490107e-15</td>\n",
       "      <td>-5.556467e-16</td>\n",
       "      <td>1.177556e-16</td>\n",
       "      <td>-2.406455e-15</td>\n",
       "      <td>...</td>\n",
       "      <td>1.656562e-16</td>\n",
       "      <td>-3.444850e-16</td>\n",
       "      <td>2.578648e-16</td>\n",
       "      <td>4.471968e-15</td>\n",
       "      <td>5.340915e-16</td>\n",
       "      <td>1.687098e-15</td>\n",
       "      <td>-3.666453e-16</td>\n",
       "      <td>-1.220404e-16</td>\n",
       "      <td>88.349619</td>\n",
       "      <td>-0.996545</td>\n",
       "    </tr>\n",
       "    <tr>\n",
       "      <th>std</th>\n",
       "      <td>47488.145955</td>\n",
       "      <td>1.958696e+00</td>\n",
       "      <td>1.651309e+00</td>\n",
       "      <td>1.516255e+00</td>\n",
       "      <td>1.415869e+00</td>\n",
       "      <td>1.380247e+00</td>\n",
       "      <td>1.332271e+00</td>\n",
       "      <td>1.237094e+00</td>\n",
       "      <td>1.194353e+00</td>\n",
       "      <td>1.098632e+00</td>\n",
       "      <td>...</td>\n",
       "      <td>7.345240e-01</td>\n",
       "      <td>7.257016e-01</td>\n",
       "      <td>6.244603e-01</td>\n",
       "      <td>6.056471e-01</td>\n",
       "      <td>5.212781e-01</td>\n",
       "      <td>4.822270e-01</td>\n",
       "      <td>4.036325e-01</td>\n",
       "      <td>3.300833e-01</td>\n",
       "      <td>250.120109</td>\n",
       "      <td>0.083054</td>\n",
       "    </tr>\n",
       "    <tr>\n",
       "      <th>min</th>\n",
       "      <td>0.000000</td>\n",
       "      <td>-5.640751e+01</td>\n",
       "      <td>-7.271573e+01</td>\n",
       "      <td>-4.832559e+01</td>\n",
       "      <td>-5.683171e+00</td>\n",
       "      <td>-1.137433e+02</td>\n",
       "      <td>-2.616051e+01</td>\n",
       "      <td>-4.355724e+01</td>\n",
       "      <td>-7.321672e+01</td>\n",
       "      <td>-1.343407e+01</td>\n",
       "      <td>...</td>\n",
       "      <td>-3.483038e+01</td>\n",
       "      <td>-1.093314e+01</td>\n",
       "      <td>-4.480774e+01</td>\n",
       "      <td>-2.836627e+00</td>\n",
       "      <td>-1.029540e+01</td>\n",
       "      <td>-2.604551e+00</td>\n",
       "      <td>-2.256568e+01</td>\n",
       "      <td>-1.543008e+01</td>\n",
       "      <td>0.000000</td>\n",
       "      <td>-1.000000</td>\n",
       "    </tr>\n",
       "    <tr>\n",
       "      <th>25%</th>\n",
       "      <td>54201.500000</td>\n",
       "      <td>-9.203734e-01</td>\n",
       "      <td>-5.985499e-01</td>\n",
       "      <td>-8.903648e-01</td>\n",
       "      <td>-8.486401e-01</td>\n",
       "      <td>-6.915971e-01</td>\n",
       "      <td>-7.682956e-01</td>\n",
       "      <td>-5.540759e-01</td>\n",
       "      <td>-2.086297e-01</td>\n",
       "      <td>-6.430976e-01</td>\n",
       "      <td>...</td>\n",
       "      <td>-2.283949e-01</td>\n",
       "      <td>-5.423504e-01</td>\n",
       "      <td>-1.618463e-01</td>\n",
       "      <td>-3.545861e-01</td>\n",
       "      <td>-3.171451e-01</td>\n",
       "      <td>-3.269839e-01</td>\n",
       "      <td>-7.083953e-02</td>\n",
       "      <td>-5.295979e-02</td>\n",
       "      <td>5.600000</td>\n",
       "      <td>-1.000000</td>\n",
       "    </tr>\n",
       "    <tr>\n",
       "      <th>50%</th>\n",
       "      <td>84692.000000</td>\n",
       "      <td>1.810880e-02</td>\n",
       "      <td>6.548556e-02</td>\n",
       "      <td>1.798463e-01</td>\n",
       "      <td>-1.984653e-02</td>\n",
       "      <td>-5.433583e-02</td>\n",
       "      <td>-2.741871e-01</td>\n",
       "      <td>4.010308e-02</td>\n",
       "      <td>2.235804e-02</td>\n",
       "      <td>-5.142873e-02</td>\n",
       "      <td>...</td>\n",
       "      <td>-2.945017e-02</td>\n",
       "      <td>6.781943e-03</td>\n",
       "      <td>-1.119293e-02</td>\n",
       "      <td>4.097606e-02</td>\n",
       "      <td>1.659350e-02</td>\n",
       "      <td>-5.213911e-02</td>\n",
       "      <td>1.342146e-03</td>\n",
       "      <td>1.124383e-02</td>\n",
       "      <td>22.000000</td>\n",
       "      <td>-1.000000</td>\n",
       "    </tr>\n",
       "    <tr>\n",
       "      <th>75%</th>\n",
       "      <td>139320.500000</td>\n",
       "      <td>1.315642e+00</td>\n",
       "      <td>8.037239e-01</td>\n",
       "      <td>1.027196e+00</td>\n",
       "      <td>7.433413e-01</td>\n",
       "      <td>6.119264e-01</td>\n",
       "      <td>3.985649e-01</td>\n",
       "      <td>5.704361e-01</td>\n",
       "      <td>3.273459e-01</td>\n",
       "      <td>5.971390e-01</td>\n",
       "      <td>...</td>\n",
       "      <td>1.863772e-01</td>\n",
       "      <td>5.285536e-01</td>\n",
       "      <td>1.476421e-01</td>\n",
       "      <td>4.395266e-01</td>\n",
       "      <td>3.507156e-01</td>\n",
       "      <td>2.409522e-01</td>\n",
       "      <td>9.104512e-02</td>\n",
       "      <td>7.827995e-02</td>\n",
       "      <td>77.165000</td>\n",
       "      <td>-1.000000</td>\n",
       "    </tr>\n",
       "    <tr>\n",
       "      <th>max</th>\n",
       "      <td>172792.000000</td>\n",
       "      <td>2.454930e+00</td>\n",
       "      <td>2.205773e+01</td>\n",
       "      <td>9.382558e+00</td>\n",
       "      <td>1.687534e+01</td>\n",
       "      <td>3.480167e+01</td>\n",
       "      <td>7.330163e+01</td>\n",
       "      <td>1.205895e+02</td>\n",
       "      <td>2.000721e+01</td>\n",
       "      <td>1.559499e+01</td>\n",
       "      <td>...</td>\n",
       "      <td>2.720284e+01</td>\n",
       "      <td>1.050309e+01</td>\n",
       "      <td>2.252841e+01</td>\n",
       "      <td>4.584549e+00</td>\n",
       "      <td>7.519589e+00</td>\n",
       "      <td>3.517346e+00</td>\n",
       "      <td>3.161220e+01</td>\n",
       "      <td>3.384781e+01</td>\n",
       "      <td>25691.160000</td>\n",
       "      <td>1.000000</td>\n",
       "    </tr>\n",
       "  </tbody>\n",
       "</table>\n",
       "<p>8 rows × 31 columns</p>\n",
       "</div>"
      ],
      "text/plain": [
       "                Time            V1            V2            V3            V4  \\\n",
       "count  284807.000000  2.848070e+05  2.848070e+05  2.848070e+05  2.848070e+05   \n",
       "mean    94813.859575  1.165980e-15  3.416908e-16 -1.373150e-15  2.086869e-15   \n",
       "std     47488.145955  1.958696e+00  1.651309e+00  1.516255e+00  1.415869e+00   \n",
       "min         0.000000 -5.640751e+01 -7.271573e+01 -4.832559e+01 -5.683171e+00   \n",
       "25%     54201.500000 -9.203734e-01 -5.985499e-01 -8.903648e-01 -8.486401e-01   \n",
       "50%     84692.000000  1.810880e-02  6.548556e-02  1.798463e-01 -1.984653e-02   \n",
       "75%    139320.500000  1.315642e+00  8.037239e-01  1.027196e+00  7.433413e-01   \n",
       "max    172792.000000  2.454930e+00  2.205773e+01  9.382558e+00  1.687534e+01   \n",
       "\n",
       "                 V5            V6            V7            V8            V9  \\\n",
       "count  2.848070e+05  2.848070e+05  2.848070e+05  2.848070e+05  2.848070e+05   \n",
       "mean   9.604066e-16  1.490107e-15 -5.556467e-16  1.177556e-16 -2.406455e-15   \n",
       "std    1.380247e+00  1.332271e+00  1.237094e+00  1.194353e+00  1.098632e+00   \n",
       "min   -1.137433e+02 -2.616051e+01 -4.355724e+01 -7.321672e+01 -1.343407e+01   \n",
       "25%   -6.915971e-01 -7.682956e-01 -5.540759e-01 -2.086297e-01 -6.430976e-01   \n",
       "50%   -5.433583e-02 -2.741871e-01  4.010308e-02  2.235804e-02 -5.142873e-02   \n",
       "75%    6.119264e-01  3.985649e-01  5.704361e-01  3.273459e-01  5.971390e-01   \n",
       "max    3.480167e+01  7.330163e+01  1.205895e+02  2.000721e+01  1.559499e+01   \n",
       "\n",
       "           ...                 V21           V22           V23           V24  \\\n",
       "count      ...        2.848070e+05  2.848070e+05  2.848070e+05  2.848070e+05   \n",
       "mean       ...        1.656562e-16 -3.444850e-16  2.578648e-16  4.471968e-15   \n",
       "std        ...        7.345240e-01  7.257016e-01  6.244603e-01  6.056471e-01   \n",
       "min        ...       -3.483038e+01 -1.093314e+01 -4.480774e+01 -2.836627e+00   \n",
       "25%        ...       -2.283949e-01 -5.423504e-01 -1.618463e-01 -3.545861e-01   \n",
       "50%        ...       -2.945017e-02  6.781943e-03 -1.119293e-02  4.097606e-02   \n",
       "75%        ...        1.863772e-01  5.285536e-01  1.476421e-01  4.395266e-01   \n",
       "max        ...        2.720284e+01  1.050309e+01  2.252841e+01  4.584549e+00   \n",
       "\n",
       "                V25           V26           V27           V28         Amount  \\\n",
       "count  2.848070e+05  2.848070e+05  2.848070e+05  2.848070e+05  284807.000000   \n",
       "mean   5.340915e-16  1.687098e-15 -3.666453e-16 -1.220404e-16      88.349619   \n",
       "std    5.212781e-01  4.822270e-01  4.036325e-01  3.300833e-01     250.120109   \n",
       "min   -1.029540e+01 -2.604551e+00 -2.256568e+01 -1.543008e+01       0.000000   \n",
       "25%   -3.171451e-01 -3.269839e-01 -7.083953e-02 -5.295979e-02       5.600000   \n",
       "50%    1.659350e-02 -5.213911e-02  1.342146e-03  1.124383e-02      22.000000   \n",
       "75%    3.507156e-01  2.409522e-01  9.104512e-02  7.827995e-02      77.165000   \n",
       "max    7.519589e+00  3.517346e+00  3.161220e+01  3.384781e+01   25691.160000   \n",
       "\n",
       "               Class  \n",
       "count  284807.000000  \n",
       "mean       -0.996545  \n",
       "std         0.083054  \n",
       "min        -1.000000  \n",
       "25%        -1.000000  \n",
       "50%        -1.000000  \n",
       "75%        -1.000000  \n",
       "max         1.000000  \n",
       "\n",
       "[8 rows x 31 columns]"
      ]
     },
     "execution_count": 10,
     "metadata": {},
     "output_type": "execute_result"
    }
   ],
   "source": [
    "df.describe()"
   ]
  },
  {
   "cell_type": "markdown",
   "metadata": {},
   "source": [
    "**Time** - the seconds elapsed between each transaction and the first transaction in the dataset. Numeric  \n",
    "**V1** - First principle component Numeric  \n",
    "**V2** - Second principle component Numeric  \n",
    "**V3** - Third principle component Numeric  \n",
    "...  \n",
    "**V28** - Twenty-eighth principle component Numeric  \n",
    "**Amount** - Transaction Amount Numeric   \n",
    "**Class** - The actual classification classes Numeric  "
   ]
  },
  {
   "cell_type": "markdown",
   "metadata": {},
   "source": [
    "The datasets contains transactions made by credit cards in September 2013 by european cardholders. This dataset presents transactions that occurred in two days, where we have 492 frauds out of 284,807 transactions. The dataset is highly unbalanced, the positive class (frauds) account for 0.172% of all transactions.\n",
    "\n",
    "It contains only numerical input variables which are the result of a PCA transformation. Unfortunately, due to confidentiality issues, we cannot provide the original features and more background information about the data. Features V1, V2, ... V28 are the principal components obtained with PCA, the only features which have not been transformed with PCA are 'Time' and 'Amount'. Feature 'Time' contains the seconds elapsed between each transaction and the first transaction in the dataset. The feature 'Amount' is the transaction Amount, this feature can be used for example-dependant cost-senstive learning. Feature 'Class' is the response variable and it takes value 1 in case of fraud and 0 otherwise.\n",
    "\n",
    "Given the class imbalance ratio, we recommend measuring the accuracy using the Area Under the Precision-Recall Curve (AUPRC). Confusion matrix accuracy is not meaningful for unbalanced classification.\n",
    "\n",
    "The dataset has been collected and analysed during a research collaboration of Worldline and the Machine Learning Group (http://mlg.ulb.ac.be) of ULB (Université Libre de Bruxelles) on big data mining and fraud detection. More details on current and past projects on related topics are available on http://mlg.ulb.ac.be/BruFence and http://mlg.ulb.ac.be/ARTML\n",
    "\n",
    "Please cite: Andrea Dal Pozzolo, Olivier Caelen, Reid A. Johnson and Gianluca Bontempi. Calibrating Probability with Undersampling for Unbalanced Classification. In Symposium on Computational Intelligence and Data Mining (CIDM), IEEE, 2015"
   ]
  },
  {
   "cell_type": "markdown",
   "metadata": {},
   "source": [
    "# Формат данных\n",
    "\n",
    "[Описание формата](https://github.com/JohnLangford/vowpal_wabbit/wiki/Input-format)\n"
   ]
  },
  {
   "cell_type": "raw",
   "metadata": {},
   "source": [
    "[Label] [Importance] [Base] [Tag]|Namespace Features |Namespace Features ... |Namespace Features"
   ]
  },
  {
   "cell_type": "markdown",
   "metadata": {},
   "source": [
    "Например:"
   ]
  },
  {
   "cell_type": "markdown",
   "metadata": {},
   "source": [
    "1 1.0 zebra|MetricFeatures:3.28 height:1.5 length:2.0 |Says black with white stripes |OtherFeatures NumberOfLegs:4.0 HasStripes"
   ]
  },
  {
   "cell_type": "markdown",
   "metadata": {},
   "source": [
    "Приведем данные к этому формату"
   ]
  },
  {
   "cell_type": "code",
   "execution_count": 14,
   "metadata": {
    "collapsed": true
   },
   "outputs": [],
   "source": [
    "skip_columns = {'Class', 'Index', 'Time'}\n",
    "\n",
    "def df_to_file(file_name, data):\n",
    "    with open(file_name, 'w') as f:\n",
    "        for row in tqdm_notebook(data.itertuples()):\n",
    "            features = row._asdict()\n",
    "            features_formatted = ' '.join('{}:{}'.format(k, v) for k, v in features.items() if k not in skip_columns)\n",
    "            f.write('{} | {}\\n'.format(row.Class, features_formatted))"
   ]
  },
  {
   "cell_type": "code",
   "execution_count": 15,
   "metadata": {
    "collapsed": true
   },
   "outputs": [],
   "source": [
    "train, test = train_test_split(df, test_size=0.2)\n",
    "train, validation = train_test_split(train, test_size=0.2)"
   ]
  },
  {
   "cell_type": "code",
   "execution_count": 16,
   "metadata": {
    "collapsed": false
   },
   "outputs": [
    {
     "data": {
      "application/vnd.jupyter.widget-view+json": {
       "model_id": "a8a9e798c277414c8dfc722a8011b7df",
       "version_major": 2,
       "version_minor": 0
      },
      "text/plain": [
       "HBox(children=(IntProgress(value=1, bar_style='info', max=1), HTML(value='')))"
      ]
     },
     "metadata": {},
     "output_type": "display_data"
    },
    {
     "name": "stdout",
     "output_type": "stream",
     "text": [
      "\n"
     ]
    },
    {
     "data": {
      "application/vnd.jupyter.widget-view+json": {
       "model_id": "8dec911fb4e1451a8d1c9ff3f4ea3a93",
       "version_major": 2,
       "version_minor": 0
      },
      "text/plain": [
       "HBox(children=(IntProgress(value=1, bar_style='info', max=1), HTML(value='')))"
      ]
     },
     "metadata": {},
     "output_type": "display_data"
    },
    {
     "name": "stdout",
     "output_type": "stream",
     "text": [
      "\n"
     ]
    }
   ],
   "source": [
    "df_to_file(fn_out_train, train)\n",
    "df_to_file(fn_out_validation, validation)"
   ]
  },
  {
   "cell_type": "code",
   "execution_count": 17,
   "metadata": {
    "collapsed": false
   },
   "outputs": [
    {
     "name": "stdout",
     "output_type": "stream",
     "text": [
      "182276 ./data/creditcard_vw_format_train\n",
      "-1 | V1:-0.46437120399950804 V2:1.52192001850498 V3:-0.599020536536089 V4:0.981530901404785 V5:0.793713405993499 V6:-0.21866228287178502 V7:0.698947265548961 V8:0.48942879849019394 V9:-0.979977920099288 V10:-0.580326388785876 V11:0.993780231154375 V12:0.43314254370932304 V13:-0.401504503965624 V14:-0.316049844680435 V15:-0.34897321623084904 V16:-0.0290462058051958 V17:0.8759019633954529 V18:0.7368077087959839 V19:0.7460483524714699 V20:0.079412671526558 V21:-0.0959438039858343 V22:-0.29881653882818604 V23:-0.0147227598657024 V24:0.55274714677681 V25:0.0868010992584598 V26:-0.6442950910306601 V27:0.198226061355053 V28:0.0562464098113088 Amount:29.85\n",
      "-1 | V1:1.3528619913419802 V2:-0.541155860037134 V3:0.652703013886707 V4:-0.355968863796718 V5:-1.0430213235460302 V6:-0.47056521270144297 V7:-0.795911759157862 V8:-0.0614342967480467 V9:0.693959919298486 V10:0.31108444598477003 V11:1.9264938671258798 V12:-2.54389402266487 V13:0.860149139112062 V14:1.31087795695523 V15:-1.84671064844128 V16:0.778181838303738 V17:1.20358272674124 V18:-0.9102663267857208 V19:1.03076640491306 V20:-0.0339116871717007 V21:-0.12865163774829902 V22:-0.10226776661915099 V23:-0.0253754227203436 V24:0.275050019029037 V25:0.47924565274854397 V26:-0.29757889177558505 V27:-0.0214553340996177 V28:-0.004970355134015479 Amount:10.0\n",
      "-1 | V1:-2.7507210037920697 V2:2.9744927520565296 V3:-2.36086279194528 V4:-1.6624909016910703 V5:0.40056309432564796 V6:-1.42595668285774 V7:1.1245982317926102 V8:0.356269595737636 V9:0.958142371373646 V10:2.32306596162526 V11:0.482339024058339 V12:0.692733271966207 V13:-0.213198829956995 V14:0.5620179220365961 V15:-0.7296062716493492 V16:-0.44444604553536204 V17:-0.7057767336166741 V18:0.126357883571866 V19:0.0594531311138673 V20:0.874429972980417 V21:-0.0623595396718885 V22:0.871752840224869 V23:-0.219541395505043 V24:-0.384635142107914 V25:0.0835912474230717 V26:-0.00416333530256274 V27:-0.0830472854346583 V28:-0.623615143976739 Amount:7.7\n",
      "-1 | V1:-1.4803745862660602 V2:-0.639896583449691 V3:0.6228489394524829 V4:0.281264548097148 V5:-0.316449169446762 V6:0.516530106311194 V7:2.0737508169162 V8:0.10103971366989299 V9:-0.798594538996721 V10:-0.7883553972864109 V11:0.7265308477370881 V12:-0.206508105926295 V13:-1.34111488915313 V14:0.7660646614817109 V15:-0.0634457790776614 V16:0.3912060213910829 V17:-0.761649139113905 V18:0.431428175263079 V19:-1.03880555647612 V20:0.7796315725478041 V21:0.468379762016436 V22:0.38581027334967205 V23:0.8636785863325809 V24:-0.39843039043979295 V25:0.11287950610583199 V26:-0.495708388632972 V27:-0.0439928504500914 V28:0.157946313174917 Amount:448.0\n",
      "-1 | V1:1.89604017985279 V2:-0.43776461096648106 V3:-1.58514552911645 V4:0.272011405123088 V5:0.35809985539236894 V6:0.00280036457074045 V7:0.0860157201042136 V8:-0.025676639532113 V9:0.7475415017669269 V10:-0.00904205878977288 V11:0.261607765250934 V12:0.8971849999570949 V13:-0.44364108945665504 V14:0.43286812987878903 V15:-0.9498873601008871 V16:-0.35463452202398904 V17:-0.45272333299216294 V18:0.0873749930069251 V19:0.624917162017584 V20:-0.0935519182240988 V21:0.0071116203333261 V22:0.0667151070965338 V23:0.0204471522569789 V24:0.23192383760351398 V25:0.18045846677599103 V26:-0.32139498356629104 V27:-0.0308096995034073 V28:-0.0537174764251812 Amount:75.19\n",
      "-1 | V1:-1.08743805432554 V2:2.01774036534724 V3:-0.56700035751337 V4:0.713958495619968 V5:-0.0236150389535423 V6:-0.810597355552391 V7:0.47939749413103 V8:0.38598207702571796 V9:0.178915301721427 V10:1.1927753957032 V11:-0.5025642045216071 V12:-0.165962205464224 V13:-0.7619509071087921 V14:0.712624306267343 V15:1.0219748237332 V16:-0.776576740607128 V17:0.310267588413617 V18:-0.502633544498014 V19:-0.0971247162082197 V20:0.36941620751236603 V21:0.0763399317556772 V22:0.560858682442389 V23:0.141606619286259 V24:0.0525415523714804 V25:-0.5839647911449339 V26:-0.36281689417850205 V27:0.751281769191817 V28:0.396963682343541 Amount:2.3\n",
      "-1 | V1:-0.736701952131364 V2:-1.0227050603427599 V3:1.3925149458006498 V4:-1.3639574080251202 V5:-0.119859151976538 V6:1.54368700376562 V7:-0.417115631068279 V8:0.523380230684526 V9:-0.600496126338733 V10:-0.028622361412903998 V11:-0.6869143687701189 V12:-0.547527282069048 V13:-0.129476438226779 V14:-0.7793330103148409 V15:-1.19087121511807 V16:1.05294736929726 V17:0.12128858580670901 V18:-0.635035328712934 V19:1.6508854294318998 V20:0.534410133972049 V21:0.18748337638454798 V22:0.315676577314967 V23:0.10050702525794199 V24:-1.7129707384953898 V25:-0.10797454261504401 V26:-0.202680300708029 V27:0.11636555814109698 V28:0.127669962648226 Amount:152.07\n",
      "-1 | V1:2.2482888416405897 V2:-1.81561484066312 V3:-1.91214739800282 V4:-2.56250788131787 V5:0.7849702723073829 V6:3.74221936735933 V7:-2.07946842067409 V8:0.935036189911254 V9:-1.04032288924282 V10:1.57670951974723 V11:-0.33090422494687705 V12:-0.770805403433209 V13:0.43462839317631297 V14:-0.49075696322779605 V15:0.44044554525839097 V16:-0.459666599991144 V17:0.29356485510969 V18:0.274927065486503 V19:-0.553875487450588 V20:-0.33933028069513893 V21:0.161007618217094 V22:0.9335534201095659 V23:0.121978281503112 V24:0.7325448881070071 V25:-0.0542786529393416 V26:0.140718758515715 V27:0.055798365755839005 V28:-0.0516456495546993 Amount:20.0\n",
      "-1 | V1:0.23215570819936499 V2:-1.99125964870872 V3:0.152821015097569 V4:0.8386846818178759 V5:-1.3557613039139098 V6:0.0428991724692567 V7:0.12552591498765198 V8:-0.18775373537972898 V9:-1.00811738589231 V10:0.47013475479350797 V11:-0.251663067652619 V12:0.5936354264835079 V13:1.63149197725304 V14:-0.0788022653356 V15:1.23790146201761 V16:-1.4545868868656 V17:-0.0854997805687125 V18:1.11055411199906 V19:-1.89073836008695 V20:0.615547305821745 V21:0.21496194851409198 V22:0.0164682920690801 V23:-0.5257240151595639 V24:0.121393092078634 V25:0.29244977837148806 V26:-0.236691198933457 V27:-0.0133017302015775 V28:0.126599457141349 Amount:549.45\n",
      "-1 | V1:-0.956977475124718 V2:1.2436990597572801 V3:-0.7557415479749641 V4:-0.9514281216865799 V5:1.2890545392634498 V6:-0.171688705397688 V7:0.8900663103452809 V8:-1.1391874244738402 V9:0.885070781594048 V10:0.913537143903384 V11:0.7325563079415609 V12:-0.11913040916457901 V13:-0.9055233189282049 V14:-1.33666282726872 V15:-0.6876876657676079 V16:0.49180602928960904 V17:-0.18905697685376202 V18:0.42193657730396295 V19:0.17566281778339699 V20:0.13795310982864 V21:0.184953758427148 V22:-1.11321988652607 V23:0.290250640081757 V24:0.0458500668474339 V25:-0.254180756559059 V26:0.0912147190168085 V27:0.190810387950412 V28:-0.219870799690761 Amount:9.88\n",
      "45569 ./data/creditcard_vw_format_validation\n"
     ]
    }
   ],
   "source": [
    "%%sh -s \"$fn_out_train\" \"$fn_out_validation\" \"$fn_out_test\"\n",
    "\n",
    "wc -l $1\n",
    "head $1\n",
    "wc -l $2"
   ]
  },
  {
   "cell_type": "markdown",
   "metadata": {},
   "source": [
    "# Команды"
   ]
  },
  {
   "cell_type": "markdown",
   "metadata": {},
   "source": [
    "[Описание аргументов](https://github.com/JohnLangford/vowpal_wabbit/wiki/Command-line-arguments)"
   ]
  },
  {
   "cell_type": "markdown",
   "metadata": {},
   "source": [
    "## Обучение"
   ]
  },
  {
   "cell_type": "markdown",
   "metadata": {},
   "source": [
    "В vw реализован модифицированный градиентный спуск: http://www.cs.cmu.edu/~sross1/publications/uai13_normalized.pdf"
   ]
  },
  {
   "cell_type": "code",
   "execution_count": 18,
   "metadata": {
    "collapsed": false,
    "scrolled": true
   },
   "outputs": [
    {
     "name": "stderr",
     "output_type": "stream",
     "text": [
      "final_regressor = ./simple_model.vw\n",
      "Num weight bits = 18\n",
      "learning rate = 0.5\n",
      "initial_t = 0\n",
      "power_t = 0.5\n",
      "decay_learning_rate = 0.95\n",
      "creating cache_file = ./data.cache\n",
      "Reading datafile = ./data/creditcard_vw_format_train\n",
      "num sources = 1\n",
      "average  since         example        example  current  current  current\n",
      "loss     last          counter         weight    label  predict features\n",
      "0.693147 0.693147            1            1.0  -1.0000   0.0000       30\n",
      "1.147006 1.600864            2            2.0  -1.0000   1.3756       30\n",
      "0.806092 0.465179            4            4.0  -1.0000  -0.2284       30\n",
      "0.694745 0.583398            8            8.0  -1.0000  -0.0675       30\n",
      "0.651088 0.607432           16           16.0  -1.0000  -0.3063       30\n",
      "0.513206 0.375323           32           32.0  -1.0000  -1.0816       30\n",
      "0.385826 0.258447           64           64.0  -1.0000  -1.2134       30\n",
      "0.273281 0.160737          128          128.0  -1.0000  -2.1446       30\n",
      "0.175994 0.078706          256          256.0  -1.0000  -2.8767       30\n",
      "0.105094 0.034195          512          512.0  -1.0000  -3.7727       30\n",
      "0.066501 0.027907         1024         1024.0  -1.0000  -4.1136       30\n",
      "0.044654 0.022808         2048         2048.0  -1.0000  -4.8688       30\n",
      "0.027012 0.009369         4096         4096.0  -1.0000  -5.5074       30\n",
      "0.017578 0.008145         8192         8192.0  -1.0000  -6.2083       30\n",
      "0.012762 0.007946        16384        16384.0  -1.0000  -6.3313       30\n",
      "0.009017 0.005272        32768        32768.0  -1.0000  -6.6447       30\n",
      "0.007158 0.005299        65536        65536.0  -1.0000  -7.7254       30\n",
      "0.006352 0.005545       131072       131072.0  -1.0000  -6.9807       30\n",
      "0.005440 0.004528       262144       262144.0  -1.0000  -7.9895       30\n",
      "0.005088 0.004737       524288       524288.0  -1.0000  -7.8917       30\n",
      "\n",
      "finished run\n",
      "number of examples per pass = 182276\n",
      "passes used = 4\n",
      "weighted example sum = 729104.000000\n",
      "weighted label sum = -726576.000000\n",
      "average loss = 0.004884\n",
      "best constant = -6.355800\n",
      "best constant's loss = 0.012754\n",
      "total feature number = 21868432\n"
     ]
    }
   ],
   "source": [
    "%%sh -s \"$fn_out_train\" \"$fn_out_validation\" \"$fn_out_test\"\n",
    "\n",
    "vw -d $1 -f ./simple_model.vw \\\n",
    "--sgd --adaptive --normalized --invariant \\\n",
    "--loss_function=logistic -l 0.5  --decay_learning_rate 0.95 \\\n",
    "--passes 4 --holdout_off --cache_file ./data.cache\n",
    "\n",
    "rm ./data.cache"
   ]
  },
  {
   "cell_type": "markdown",
   "metadata": {},
   "source": [
    "## Предсказание"
   ]
  },
  {
   "cell_type": "code",
   "execution_count": 19,
   "metadata": {
    "collapsed": false,
    "scrolled": true
   },
   "outputs": [
    {
     "name": "stderr",
     "output_type": "stream",
     "text": [
      "only testing\n",
      "predictions = ./simple_model_predictions.vw\n",
      "Num weight bits = 18\n",
      "learning rate = 0.5\n",
      "initial_t = 0\n",
      "power_t = 0.5\n",
      "using no cache\n",
      "Reading datafile = ./data/creditcard_vw_format_validation\n",
      "num sources = 1\n",
      "average  since         example        example  current  current  current\n",
      "loss     last          counter         weight    label  predict features\n",
      "92.380470 92.380470            1            1.0  -1.0000 -10.6115       30\n",
      "79.635719 66.890968            2            2.0  -1.0000  -9.1787       30\n",
      "73.576347 67.516975            4            4.0  -1.0000  -9.0456       30\n",
      "73.246724 72.917101            8            8.0  -1.0000  -9.6724       30\n",
      "66.646777 60.046830           16           16.0  -1.0000  -8.1120       30\n",
      "62.608521 58.570265           32           32.0  -1.0000  -8.4377       30\n",
      "62.810739 63.012957           64           64.0  -1.0000  -8.1466       30\n",
      "62.226731 61.642724          128          128.0  -1.0000  -8.7198       30\n",
      "62.264041 62.301351          256          256.0  -1.0000  -8.4672       30\n",
      "63.221866 64.179690          512          512.0  -1.0000  -9.4307       30\n",
      "63.356992 63.492118         1024         1024.0  -1.0000  -8.7171       30\n",
      "63.152972 62.948953         2048         2048.0  -1.0000  -8.4997       30\n",
      "63.204956 63.256939         4096         4096.0  -1.0000  -8.6400       30\n",
      "62.803957 62.402959         8192         8192.0  -1.0000  -7.6442       30\n",
      "62.904080 63.004202        16384        16384.0  -1.0000  -7.6215       30\n",
      "62.906856 62.909632        32768        32768.0  -1.0000  -9.1651       30\n",
      "\n",
      "finished run\n",
      "number of examples per pass = 45569\n",
      "passes used = 1\n",
      "weighted example sum = 45569.000000\n",
      "weighted label sum = -45393.000000\n",
      "average loss = 62.849885\n",
      "best constant = -0.996138\n",
      "best constant's loss = 0.007710\n",
      "total feature number = 1366762\n"
     ]
    }
   ],
   "source": [
    "%%sh -s \"$fn_out_train\" \"$fn_out_validation\" \"$fn_out_test\"\n",
    "\n",
    "vw -i ./simple_model.vw -t -d $2 -p ./simple_model_predictions.vw \\\n",
    "--invert_hash ./simple_model.vw.read"
   ]
  },
  {
   "cell_type": "code",
   "execution_count": 20,
   "metadata": {
    "collapsed": false
   },
   "outputs": [
    {
     "name": "stdout",
     "output_type": "stream",
     "text": [
      "Version 8.1.1\r\n",
      "Min label:-50.000000\r\n",
      "Max label:50.000000\r\n",
      "bits:18\r\n",
      "lda:0\r\n",
      "0 ngram: \r\n",
      "0 skip: \r\n",
      "options:\r\n",
      "Checksum: -578274599\r\n",
      ":0\r\n",
      "Amount:48761:-0.000017\r\n",
      "Constant:116060:-8.855013\r\n",
      "V1:142282:0.002728\r\n",
      "V10:95918:-0.169084\r\n",
      "V11:133386:0.412344\r\n",
      "V12:151819:-0.270243\r\n",
      "V13:39141:-0.404427\r\n",
      "V14:78068:-0.443217\r\n",
      "V15:249132:-0.115978\r\n",
      "V16:253701:-0.207119\r\n",
      "V17:52164:-0.056199\r\n",
      "V18:228631:0.054567\r\n",
      "V19:175012:-0.078193\r\n",
      "V2:40106:-0.002816\r\n",
      "V20:68712:-0.015740\r\n",
      "V21:150712:0.043542\r\n",
      "V22:180395:0.149973\r\n",
      "V23:191497:-0.029073\r\n",
      "V24:19755:-0.321929\r\n",
      "V25:130312:-0.090700\r\n",
      "V26:72606:-0.019753\r\n",
      "V27:115973:-0.182959\r\n",
      "V28:260221:-0.025208\r\n",
      "V3:35450:-0.039859\r\n",
      "V4:189175:0.402957\r\n",
      "V5:94135:0.059047\r\n",
      "V6:24536:-0.040503\r\n",
      "V7:33330:0.009001\r\n",
      "V8:36993:-0.063668\r\n",
      "V9:148873:-0.232742\r\n"
     ]
    }
   ],
   "source": [
    "!cat ./simple_model.vw.read"
   ]
  },
  {
   "cell_type": "code",
   "execution_count": 21,
   "metadata": {
    "collapsed": false,
    "scrolled": true
   },
   "outputs": [
    {
     "name": "stdout",
     "output_type": "stream",
     "text": [
      "-10.611476\r\n",
      "-9.178690\r\n",
      "-9.384615\r\n",
      "-9.045631\r\n",
      "-9.829701\r\n",
      "-9.259619\r\n",
      "-9.382895\r\n",
      "-9.672400\r\n",
      "-8.720467\r\n",
      "-9.289483\r\n"
     ]
    }
   ],
   "source": [
    "!head simple_model_predictions.vw"
   ]
  },
  {
   "cell_type": "markdown",
   "metadata": {},
   "source": [
    "## Оценка качества"
   ]
  },
  {
   "cell_type": "code",
   "execution_count": 22,
   "metadata": {
    "collapsed": false,
    "scrolled": true
   },
   "outputs": [
    {
     "data": {
      "image/png": "[encoded data removed]",
      "text/plain": [
       "<Figure size 864x576 with 1 Axes>"
      ]
     },
     "metadata": {},
     "output_type": "display_data"
    }
   ],
   "source": [
    "with open('simple_model_predictions.vw') as pred_file:\n",
    "    validation_prediction = [float(label) for label in pred_file.readlines()]\n",
    "\n",
    "auc = roc_auc_score(validation['Class'], validation_prediction)\n",
    "curve = roc_curve(validation['Class'], validation_prediction)\n",
    "\n",
    "plt.plot(curve[0], curve[1]);\n",
    "plt.plot([0,1], [0,1])\n",
    "plt.xlabel('FPR'); plt.ylabel('TPR'); plt.title('test AUC = %f' % (auc)); plt.axis([-0.05,1.05,-0.05,1.05]);"
   ]
  },
  {
   "cell_type": "markdown",
   "metadata": {},
   "source": [
    "## Взвешивание объектов"
   ]
  },
  {
   "cell_type": "markdown",
   "metadata": {},
   "source": [
    "Добавим вес меньшему классу"
   ]
  },
  {
   "cell_type": "code",
   "execution_count": 24,
   "metadata": {
    "collapsed": true
   },
   "outputs": [],
   "source": [
    "from sklearn.utils import compute_class_weight"
   ]
  },
  {
   "cell_type": "code",
   "execution_count": 25,
   "metadata": {
    "collapsed": true
   },
   "outputs": [],
   "source": [
    "compute_class_weight('balanced', [-1, 1], train.Class.values)\n",
    "\n",
    "class_weights = dict(zip([-1., 1.], compute_class_weight('balanced', [-1, 1], train.Class.values)))"
   ]
  },
  {
   "cell_type": "code",
   "execution_count": 26,
   "metadata": {
    "collapsed": false
   },
   "outputs": [
    {
     "data": {
      "text/plain": [
       "{-1.0: 0.5008683227082875, 1.0: 288.4113924050633}"
      ]
     },
     "execution_count": 26,
     "metadata": {},
     "output_type": "execute_result"
    }
   ],
   "source": [
    "class_weights"
   ]
  },
  {
   "cell_type": "markdown",
   "metadata": {},
   "source": [
    "C помощью фунции `compute_class_weight` посчитайте веса классов и напишите функцию `df_to_file_weight`"
   ]
  },
  {
   "cell_type": "code",
   "execution_count": 27,
   "metadata": {
    "collapsed": true
   },
   "outputs": [],
   "source": [
    "skip_columns = {'Class', 'Index', 'Time'}\n",
    "\n",
    "def df_to_file_weight(file_name, data):\n",
    "    with open(file_name, 'w') as f:\n",
    "        for row in tqdm_notebook(data.itertuples()):\n",
    "            features = row._asdict()\n",
    "            features_formatted = ' '.join('{}:{}'.format(k, v) for k, v in features.items() if k not in skip_columns)\n",
    "            weight = class_weights.get(features['Class'])\n",
    "            f.write('{} {} | {}\\n'.format(row.Class, weight, features_formatted))"
   ]
  },
  {
   "cell_type": "code",
   "execution_count": 28,
   "metadata": {
    "collapsed": false
   },
   "outputs": [
    {
     "data": {
      "application/vnd.jupyter.widget-view+json": {
       "model_id": "6c32916c091b467a8e982b7d8ec3de18",
       "version_major": 2,
       "version_minor": 0
      },
      "text/plain": [
       "HBox(children=(IntProgress(value=1, bar_style='info', max=1), HTML(value='')))"
      ]
     },
     "metadata": {},
     "output_type": "display_data"
    },
    {
     "name": "stdout",
     "output_type": "stream",
     "text": [
      "\n"
     ]
    },
    {
     "data": {
      "application/vnd.jupyter.widget-view+json": {
       "model_id": "73911834866d434fb8264481d283bfd7",
       "version_major": 2,
       "version_minor": 0
      },
      "text/plain": [
       "HBox(children=(IntProgress(value=1, bar_style='info', max=1), HTML(value='')))"
      ]
     },
     "metadata": {},
     "output_type": "display_data"
    },
    {
     "name": "stdout",
     "output_type": "stream",
     "text": [
      "\n"
     ]
    }
   ],
   "source": [
    "df_to_file_weight(fn_out_train_weight, train)\n",
    "df_to_file_weight(fn_out_validation_weight, validation)"
   ]
  },
  {
   "cell_type": "code",
   "execution_count": 29,
   "metadata": {
    "collapsed": false
   },
   "outputs": [
    {
     "name": "stdout",
     "output_type": "stream",
     "text": [
      "182276 ./data/creditcard_vw_format_train_weight\n",
      "-1 0.5008683227082875 | V1:-0.46437120399950804 V2:1.52192001850498 V3:-0.599020536536089 V4:0.981530901404785 V5:0.793713405993499 V6:-0.21866228287178502 V7:0.698947265548961 V8:0.48942879849019394 V9:-0.979977920099288 V10:-0.580326388785876 V11:0.993780231154375 V12:0.43314254370932304 V13:-0.401504503965624 V14:-0.316049844680435 V15:-0.34897321623084904 V16:-0.0290462058051958 V17:0.8759019633954529 V18:0.7368077087959839 V19:0.7460483524714699 V20:0.079412671526558 V21:-0.0959438039858343 V22:-0.29881653882818604 V23:-0.0147227598657024 V24:0.55274714677681 V25:0.0868010992584598 V26:-0.6442950910306601 V27:0.198226061355053 V28:0.0562464098113088 Amount:29.85\n",
      "-1 0.5008683227082875 | V1:1.3528619913419802 V2:-0.541155860037134 V3:0.652703013886707 V4:-0.355968863796718 V5:-1.0430213235460302 V6:-0.47056521270144297 V7:-0.795911759157862 V8:-0.0614342967480467 V9:0.693959919298486 V10:0.31108444598477003 V11:1.9264938671258798 V12:-2.54389402266487 V13:0.860149139112062 V14:1.31087795695523 V15:-1.84671064844128 V16:0.778181838303738 V17:1.20358272674124 V18:-0.9102663267857208 V19:1.03076640491306 V20:-0.0339116871717007 V21:-0.12865163774829902 V22:-0.10226776661915099 V23:-0.0253754227203436 V24:0.275050019029037 V25:0.47924565274854397 V26:-0.29757889177558505 V27:-0.0214553340996177 V28:-0.004970355134015479 Amount:10.0\n",
      "-1 0.5008683227082875 | V1:-2.7507210037920697 V2:2.9744927520565296 V3:-2.36086279194528 V4:-1.6624909016910703 V5:0.40056309432564796 V6:-1.42595668285774 V7:1.1245982317926102 V8:0.356269595737636 V9:0.958142371373646 V10:2.32306596162526 V11:0.482339024058339 V12:0.692733271966207 V13:-0.213198829956995 V14:0.5620179220365961 V15:-0.7296062716493492 V16:-0.44444604553536204 V17:-0.7057767336166741 V18:0.126357883571866 V19:0.0594531311138673 V20:0.874429972980417 V21:-0.0623595396718885 V22:0.871752840224869 V23:-0.219541395505043 V24:-0.384635142107914 V25:0.0835912474230717 V26:-0.00416333530256274 V27:-0.0830472854346583 V28:-0.623615143976739 Amount:7.7\n",
      "-1 0.5008683227082875 | V1:-1.4803745862660602 V2:-0.639896583449691 V3:0.6228489394524829 V4:0.281264548097148 V5:-0.316449169446762 V6:0.516530106311194 V7:2.0737508169162 V8:0.10103971366989299 V9:-0.798594538996721 V10:-0.7883553972864109 V11:0.7265308477370881 V12:-0.206508105926295 V13:-1.34111488915313 V14:0.7660646614817109 V15:-0.0634457790776614 V16:0.3912060213910829 V17:-0.761649139113905 V18:0.431428175263079 V19:-1.03880555647612 V20:0.7796315725478041 V21:0.468379762016436 V22:0.38581027334967205 V23:0.8636785863325809 V24:-0.39843039043979295 V25:0.11287950610583199 V26:-0.495708388632972 V27:-0.0439928504500914 V28:0.157946313174917 Amount:448.0\n",
      "-1 0.5008683227082875 | V1:1.89604017985279 V2:-0.43776461096648106 V3:-1.58514552911645 V4:0.272011405123088 V5:0.35809985539236894 V6:0.00280036457074045 V7:0.0860157201042136 V8:-0.025676639532113 V9:0.7475415017669269 V10:-0.00904205878977288 V11:0.261607765250934 V12:0.8971849999570949 V13:-0.44364108945665504 V14:0.43286812987878903 V15:-0.9498873601008871 V16:-0.35463452202398904 V17:-0.45272333299216294 V18:0.0873749930069251 V19:0.624917162017584 V20:-0.0935519182240988 V21:0.0071116203333261 V22:0.0667151070965338 V23:0.0204471522569789 V24:0.23192383760351398 V25:0.18045846677599103 V26:-0.32139498356629104 V27:-0.0308096995034073 V28:-0.0537174764251812 Amount:75.19\n",
      "-1 0.5008683227082875 | V1:-1.08743805432554 V2:2.01774036534724 V3:-0.56700035751337 V4:0.713958495619968 V5:-0.0236150389535423 V6:-0.810597355552391 V7:0.47939749413103 V8:0.38598207702571796 V9:0.178915301721427 V10:1.1927753957032 V11:-0.5025642045216071 V12:-0.165962205464224 V13:-0.7619509071087921 V14:0.712624306267343 V15:1.0219748237332 V16:-0.776576740607128 V17:0.310267588413617 V18:-0.502633544498014 V19:-0.0971247162082197 V20:0.36941620751236603 V21:0.0763399317556772 V22:0.560858682442389 V23:0.141606619286259 V24:0.0525415523714804 V25:-0.5839647911449339 V26:-0.36281689417850205 V27:0.751281769191817 V28:0.396963682343541 Amount:2.3\n",
      "-1 0.5008683227082875 | V1:-0.736701952131364 V2:-1.0227050603427599 V3:1.3925149458006498 V4:-1.3639574080251202 V5:-0.119859151976538 V6:1.54368700376562 V7:-0.417115631068279 V8:0.523380230684526 V9:-0.600496126338733 V10:-0.028622361412903998 V11:-0.6869143687701189 V12:-0.547527282069048 V13:-0.129476438226779 V14:-0.7793330103148409 V15:-1.19087121511807 V16:1.05294736929726 V17:0.12128858580670901 V18:-0.635035328712934 V19:1.6508854294318998 V20:0.534410133972049 V21:0.18748337638454798 V22:0.315676577314967 V23:0.10050702525794199 V24:-1.7129707384953898 V25:-0.10797454261504401 V26:-0.202680300708029 V27:0.11636555814109698 V28:0.127669962648226 Amount:152.07\n",
      "-1 0.5008683227082875 | V1:2.2482888416405897 V2:-1.81561484066312 V3:-1.91214739800282 V4:-2.56250788131787 V5:0.7849702723073829 V6:3.74221936735933 V7:-2.07946842067409 V8:0.935036189911254 V9:-1.04032288924282 V10:1.57670951974723 V11:-0.33090422494687705 V12:-0.770805403433209 V13:0.43462839317631297 V14:-0.49075696322779605 V15:0.44044554525839097 V16:-0.459666599991144 V17:0.29356485510969 V18:0.274927065486503 V19:-0.553875487450588 V20:-0.33933028069513893 V21:0.161007618217094 V22:0.9335534201095659 V23:0.121978281503112 V24:0.7325448881070071 V25:-0.0542786529393416 V26:0.140718758515715 V27:0.055798365755839005 V28:-0.0516456495546993 Amount:20.0\n",
      "-1 0.5008683227082875 | V1:0.23215570819936499 V2:-1.99125964870872 V3:0.152821015097569 V4:0.8386846818178759 V5:-1.3557613039139098 V6:0.0428991724692567 V7:0.12552591498765198 V8:-0.18775373537972898 V9:-1.00811738589231 V10:0.47013475479350797 V11:-0.251663067652619 V12:0.5936354264835079 V13:1.63149197725304 V14:-0.0788022653356 V15:1.23790146201761 V16:-1.4545868868656 V17:-0.0854997805687125 V18:1.11055411199906 V19:-1.89073836008695 V20:0.615547305821745 V21:0.21496194851409198 V22:0.0164682920690801 V23:-0.5257240151595639 V24:0.121393092078634 V25:0.29244977837148806 V26:-0.236691198933457 V27:-0.0133017302015775 V28:0.126599457141349 Amount:549.45\n",
      "-1 0.5008683227082875 | V1:-0.956977475124718 V2:1.2436990597572801 V3:-0.7557415479749641 V4:-0.9514281216865799 V5:1.2890545392634498 V6:-0.171688705397688 V7:0.8900663103452809 V8:-1.1391874244738402 V9:0.885070781594048 V10:0.913537143903384 V11:0.7325563079415609 V12:-0.11913040916457901 V13:-0.9055233189282049 V14:-1.33666282726872 V15:-0.6876876657676079 V16:0.49180602928960904 V17:-0.18905697685376202 V18:0.42193657730396295 V19:0.17566281778339699 V20:0.13795310982864 V21:0.184953758427148 V22:-1.11321988652607 V23:0.290250640081757 V24:0.0458500668474339 V25:-0.254180756559059 V26:0.0912147190168085 V27:0.190810387950412 V28:-0.219870799690761 Amount:9.88\n",
      "182276 ./data/creditcard_vw_format_train_weight\n"
     ]
    }
   ],
   "source": [
    "%%sh -s \"$fn_out_train_weight\" \"$fn_out_train_weight\"\n",
    "\n",
    "wc -l $1\n",
    "head $1\n",
    "wc -l $2"
   ]
  },
  {
   "cell_type": "code",
   "execution_count": 30,
   "metadata": {
    "collapsed": false
   },
   "outputs": [
    {
     "name": "stderr",
     "output_type": "stream",
     "text": [
      "final_regressor = ./model_weights.vw\n",
      "Num weight bits = 18\n",
      "learning rate = 0.9\n",
      "initial_t = 0\n",
      "power_t = 0.5\n",
      "decay_learning_rate = 0.95\n",
      "creating cache_file = ./data.cache\n",
      "Reading datafile = ./data/creditcard_vw_format_train_weight\n",
      "num sources = 1\n",
      "average  since         example        example  current  current  current\n",
      "loss     last          counter         weight    label  predict features\n",
      "1.228345 1.228345            2            1.0  -1.0000   1.5755       30\n",
      "0.837693 0.447041            4            2.0  -1.0000  -0.2270       30\n",
      "0.701691 0.565690            8            4.0  -1.0000  -0.0989       30\n",
      "0.646921 0.592152           16            8.0  -1.0000  -0.3729       30\n",
      "0.490168 0.333414           32           16.0  -1.0000  -1.3056       30\n",
      "0.353063 0.215958           64           32.1  -1.0000  -1.4332       30\n",
      "0.933242 0.996303           78          327.0   1.0000  -0.5657       30\n",
      "0.525196 0.117259          731          654.0  -1.0000  -2.5242       30\n",
      "0.800999 1.076629          888         1308.5  -1.0000  -1.9020       30\n",
      "0.669698 0.549436         1441         2737.1   1.0000   1.6821       30\n",
      "0.502021 0.340791         4825         5583.7   1.0000  -1.7781       30\n",
      "0.463435 0.425755        10493        11301.7   1.0000   4.3452       30\n",
      "0.327544 0.191657        19837        22603.8  -1.0000  -2.3144       30\n",
      "0.256404 0.185264        44848        45207.9  -1.0000  -2.9652       30\n",
      "0.268329 0.280255        87972        90416.0  -1.0000  -1.8912       30\n",
      "0.227644 0.186959       180543       180832.2  -1.0000  -3.1267       30\n",
      "0.206816 0.186003       360769       361793.5   1.0000   6.3287       30\n",
      "0.188577 0.170344       721772       723704.2   1.0000  18.3906       30\n",
      "\n",
      "finished run\n",
      "number of examples per pass = 182276\n",
      "passes used = 4\n",
      "weighted example sum = 729104.017410\n",
      "weighted label sum = 0.020676\n",
      "average loss = 0.187543\n",
      "best constant = 0.000000\n",
      "best constant's loss = 0.693147\n",
      "total feature number = 21868432\n"
     ]
    }
   ],
   "source": [
    "%%sh -s \"$fn_out_train_weight\" \"$fn_out_validation_weight\" \"$fn_out_test_weight\"\n",
    "\n",
    "vw -d $1 -f ./model_weights.vw \\\n",
    "--sgd --adaptive --normalized --invariant \\\n",
    "--loss_function=logistic -l 0.9 --decay_learning_rate 0.95 \\\n",
    "--passes 4 --holdout_off --cache_file ./data.cache\n",
    "\n",
    "rm ./data.cache"
   ]
  },
  {
   "cell_type": "code",
   "execution_count": 31,
   "metadata": {
    "collapsed": false
   },
   "outputs": [
    {
     "name": "stderr",
     "output_type": "stream",
     "text": [
      "only testing\n",
      "predictions = model_weights_predictions.vw\n",
      "Num weight bits = 18\n",
      "learning rate = 0.5\n",
      "initial_t = 0\n",
      "power_t = 0.5\n",
      "using no cache\n",
      "Reading datafile = ./data/creditcard_vw_format_validation_weight\n",
      "num sources = 1\n",
      "average  since         example        example  current  current  current\n",
      "loss     last          counter         weight    label  predict features\n",
      "44.284303 44.284303            2            1.0  -1.0000   0.0013       30\n",
      "31.746023 19.207743            4            2.0  -1.0000   0.0019       30\n",
      "25.418543 19.091063            8            4.0  -1.0000   0.0100       30\n",
      "17.976739 10.534936           16            8.0  -1.0000   0.0153       30\n",
      "15.090613 12.204487           32           16.0  -1.0000   0.0313       30\n",
      "311.598921 327.850882           41          308.4   1.0000   1.0000       30\n",
      "359.608921 398.064666          235          693.5   1.0000   1.0000       30\n",
      "221.949997 84.308686         1045         1387.1  -1.0000   0.0167       30\n",
      "187.949552 157.600239         2998         2941.2   1.0000   1.0000       30\n",
      "109.764332 31.583830         7146         5882.5  -1.0000   0.0022       30\n",
      "94.457890 79.635846        14101        11957.2   1.0000   1.0000       30\n",
      "162.760588 231.042431        25910        23918.1   1.0000   0.0418       30\n",
      "173.537728 184.296872        45002        47876.2   1.0000   0.4663       30\n",
      "\n",
      "finished run\n",
      "number of examples per pass = 45569\n",
      "passes used = 1\n",
      "weighted example sum = 48160.195940\n",
      "weighted label sum = 2600.211774\n",
      "average loss = 172.597289\n",
      "best constant = 0.053991\n",
      "best constant's loss = 0.997085\n",
      "total feature number = 1366762\n"
     ]
    }
   ],
   "source": [
    "%%sh -s \"$fn_out_train_weight\" \"$fn_out_validation_weight\" \"$fn_out_test_weight\"\n",
    "\n",
    "vw -i model_weights.vw  -t -d $2 -p model_weights_predictions.vw --link=logistic \\\n",
    "--invert_hash ./model_weights.vw.read"
   ]
  },
  {
   "cell_type": "code",
   "execution_count": 32,
   "metadata": {
    "collapsed": false,
    "scrolled": false
   },
   "outputs": [
    {
     "name": "stdout",
     "output_type": "stream",
     "text": [
      "Version 8.1.1\r\n",
      "Min label:-50.000000\r\n",
      "Max label:50.000000\r\n",
      "bits:18\r\n",
      "lda:0\r\n",
      "0 ngram: \r\n",
      "0 skip: \r\n",
      "options: --link=logistic \r\n",
      "Checksum: -248441464\r\n",
      ":0\r\n",
      "Amount:48761:0.000305\r\n",
      "Constant:116060:-4.271125\r\n",
      "V1:142282:-0.036481\r\n",
      "V10:95918:-0.418283\r\n",
      "V11:133386:0.473056\r\n",
      "V12:151819:-0.696925\r\n",
      "V13:39141:-0.466729\r\n",
      "V14:78068:-0.658312\r\n",
      "V15:249132:-0.080759\r\n",
      "V16:253701:-0.326012\r\n",
      "V17:52164:-0.117374\r\n",
      "V18:228631:-0.275936\r\n",
      "V19:175012:-0.045846\r\n",
      "V2:40106:-0.003743\r\n",
      "V20:68712:-0.018345\r\n",
      "V21:150712:0.125954\r\n",
      "V22:180395:0.269293\r\n",
      "V23:191497:-0.261742\r\n",
      "V24:19755:-0.157297\r\n",
      "V25:130312:0.443818\r\n",
      "V26:72606:-1.750470\r\n",
      "V27:115973:0.321568\r\n",
      "V28:260221:0.101465\r\n",
      "V3:35450:-0.034617\r\n",
      "V4:189175:0.790397\r\n",
      "V5:94135:0.045957\r\n",
      "V6:24536:-0.215348\r\n",
      "V7:33330:0.123307\r\n",
      "V8:36993:-0.390730\r\n",
      "V9:148873:-0.254674\r\n"
     ]
    }
   ],
   "source": [
    "!cat model_weights.vw.read"
   ]
  },
  {
   "cell_type": "code",
   "execution_count": 33,
   "metadata": {
    "collapsed": false
   },
   "outputs": [
    {
     "data": {
      "image/png": "[encoded data removed]",
      "text/plain": [
       "<Figure size 864x576 with 1 Axes>"
      ]
     },
     "metadata": {},
     "output_type": "display_data"
    }
   ],
   "source": [
    "with open('model_weights_predictions.vw') as pred_file:\n",
    "    validation_prediction = [float(label) for label in pred_file.readlines()]\n",
    "\n",
    "auc = roc_auc_score(validation['Class'], validation_prediction)\n",
    "curve = roc_curve(validation['Class'], validation_prediction)\n",
    "\n",
    "plt.plot(curve[0], curve[1]);\n",
    "plt.plot([0,1], [0,1])\n",
    "plt.xlabel('FPR'); plt.ylabel('TPR'); plt.title('test AUC = %f' % (auc)); plt.axis([-0.05,1.05,-0.05,1.05]);"
   ]
  },
  {
   "cell_type": "markdown",
   "metadata": {},
   "source": [
    "Исследуйте другие \"фичи\", например Stagewise Polynomial, Quadratic features, --nn, --boosting..."
   ]
  },
  {
   "cell_type": "markdown",
   "metadata": {},
   "source": [
    "# Большие данные! (не очень, на самом деле)"
   ]
  },
  {
   "cell_type": "code",
   "execution_count": 34,
   "metadata": {
    "collapsed": false
   },
   "outputs": [
    {
     "name": "stdout",
     "output_type": "stream",
     "text": [
      "du: cannot access './data/stackoverflow_10mln/*.vw': No such file or directory\r\n"
     ]
    }
   ],
   "source": [
    "!du -hs ./data/stackoverflow_10mln/*.vw"
   ]
  },
  {
   "cell_type": "code",
   "execution_count": null,
   "metadata": {
    "collapsed": true
   },
   "outputs": [],
   "source": [
    "!wc -l ./data/stackoverflow_10mln/stackoverflow_train.vw"
   ]
  },
  {
   "cell_type": "code",
   "execution_count": null,
   "metadata": {
    "collapsed": true
   },
   "outputs": [],
   "source": [
    "!head ./data/stackoverflow_10mln/stackoverflow_train.vw"
   ]
  },
  {
   "cell_type": "code",
   "execution_count": null,
   "metadata": {
    "collapsed": true,
    "scrolled": true
   },
   "outputs": [],
   "source": [
    "!vw --oaa 10 -d data/stackoverflow_10mln/stackoverflow_train.vw -f vw_model1_10mln.vw -b 28"
   ]
  },
  {
   "cell_type": "code",
   "execution_count": null,
   "metadata": {
    "collapsed": true
   },
   "outputs": [],
   "source": [
    "!vw -t -i vw_model1_10mln.vw -d data/stackoverflow_10mln/stackoverflow_test.vw -p vw_test_pred.csv\n"
   ]
  },
  {
   "cell_type": "code",
   "execution_count": null,
   "metadata": {
    "collapsed": true
   },
   "outputs": [],
   "source": [
    "from sklearn.metrics import accuracy_score"
   ]
  },
  {
   "cell_type": "code",
   "execution_count": null,
   "metadata": {
    "collapsed": true
   },
   "outputs": [],
   "source": [
    "filepath = os.path.join('data', 'stackoverflow_10mln', 'vw_test_pred.csv')\n",
    "vw_pred = np.loadtxt(filepath)\n",
    "\n",
    "filepath = os.path.join('data', 'stackoverflow_10mln', 'stackoverflow_test_labels.txt')\n",
    "test_labels = np.loadtxt(filepath)\n",
    "\n",
    "accuracy_score(test_labels, vw_pred)"
   ]
  },
  {
   "cell_type": "code",
   "execution_count": null,
   "metadata": {
    "collapsed": true
   },
   "outputs": [],
   "source": []
  }
 ],
 "metadata": {
  "anaconda-cloud": {},
  "kernelspec": {
   "display_name": "Python 3",
   "language": "python",
   "name": "python3"
  },
  "language_info": {
   "codemirror_mode": {
    "name": "ipython",
    "version": 3
   },
   "file_extension": ".py",
   "mimetype": "text/x-python",
   "name": "python",
   "nbconvert_exporter": "python",
   "pygments_lexer": "ipython3",
   "version": "3.6.3"
  },
  "toc": {
   "colors": {
    "hover_highlight": "#DAA520",
    "navigate_num": "#000000",
    "navigate_text": "#333333",
    "running_highlight": "#FF0000",
    "selected_highlight": "#FFD700",
    "sidebar_border": "#EEEEEE",
    "wrapper_background": "#FFFFFF"
   },
   "moveMenuLeft": true,
   "nav_menu": {
    "height": "179px",
    "width": "252px"
   },
   "navigate_menu": true,
   "number_sections": false,
   "sideBar": true,
   "threshold": 4,
   "toc_cell": false,
   "toc_section_display": "block",
   "toc_window_display": true,
   "widenNotebook": false
  }
 },
 "nbformat": 4,
 "nbformat_minor": 2
}
