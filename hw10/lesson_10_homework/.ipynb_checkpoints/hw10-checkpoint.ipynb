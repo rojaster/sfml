{
 "cells": [
  {
   "cell_type": "markdown",
   "metadata": {
    "toc": "true"
   },
   "source": [
    "# Table of Contents\n",
    " <p><div class=\"lev1 toc-item\"><a href=\"#Skillfactory---Практический-Machine-Learning\" data-toc-modified-id=\"Skillfactory---Практический-Machine-Learning-1\"><span class=\"toc-item-num\">1&nbsp;&nbsp;</span>Skillfactory - Практический Machine Learning</a></div><div class=\"lev2 toc-item\"><a href=\"#19/02/2018---Аномалии,-работа-с-признаками,-пайплайны-(практика)\" data-toc-modified-id=\"19/02/2018---Аномалии,-работа-с-признаками,-пайплайны-(практика)-11\"><span class=\"toc-item-num\">1.1&nbsp;&nbsp;</span>19/02/2018 - Аномалии, работа с признаками, пайплайны (практика)</a></div><div class=\"lev1 toc-item\"><a href=\"#Создание-пайплайна-и-генерация-признаков\" data-toc-modified-id=\"Создание-пайплайна-и-генерация-признаков-2\"><span class=\"toc-item-num\">2&nbsp;&nbsp;</span>Создание пайплайна и генерация признаков</a></div><div class=\"lev2 toc-item\"><a href=\"#Посмотрим-на-данные\" data-toc-modified-id=\"Посмотрим-на-данные-21\"><span class=\"toc-item-num\">2.1&nbsp;&nbsp;</span>Посмотрим на данные</a></div><div class=\"lev2 toc-item\"><a href=\"#Генерим-признаки\" data-toc-modified-id=\"Генерим-признаки-22\"><span class=\"toc-item-num\">2.2&nbsp;&nbsp;</span>Генерим признаки</a></div><div class=\"lev2 toc-item\"><a href=\"#Подбор-гипер-параметров\" data-toc-modified-id=\"Подбор-гипер-параметров-23\"><span class=\"toc-item-num\">2.3&nbsp;&nbsp;</span>Подбор гипер-параметров</a></div><div class=\"lev3 toc-item\"><a href=\"#Pipeline\" data-toc-modified-id=\"Pipeline-231\"><span class=\"toc-item-num\">2.3.1&nbsp;&nbsp;</span>Pipeline</a></div><div class=\"lev3 toc-item\"><a href=\"#Подбор-гиперпараметров\" data-toc-modified-id=\"Подбор-гиперпараметров-232\"><span class=\"toc-item-num\">2.3.2&nbsp;&nbsp;</span>Подбор гиперпараметров</a></div><div class=\"lev4 toc-item\"><a href=\"#Grid-search\" data-toc-modified-id=\"Grid-search-2321\"><span class=\"toc-item-num\">2.3.2.1&nbsp;&nbsp;</span>Grid search</a></div><div class=\"lev4 toc-item\"><a href=\"#Random-Search\" data-toc-modified-id=\"Random-Search-2322\"><span class=\"toc-item-num\">2.3.2.2&nbsp;&nbsp;</span>Random Search</a></div><div class=\"lev3 toc-item\"><a href=\"#HyperOpt\" data-toc-modified-id=\"HyperOpt-233\"><span class=\"toc-item-num\">2.3.3&nbsp;&nbsp;</span>HyperOpt</a></div><div class=\"lev2 toc-item\"><a href=\"#Ваш-черед\" data-toc-modified-id=\"Ваш-черед-24\"><span class=\"toc-item-num\">2.4&nbsp;&nbsp;</span>Ваш черед</a></div><div class=\"lev3 toc-item\"><a href=\"#Новые-признаки\" data-toc-modified-id=\"Новые-признаки-241\"><span class=\"toc-item-num\">2.4.1&nbsp;&nbsp;</span>Новые признаки</a></div><div class=\"lev2 toc-item\"><a href=\"#Поиск-гиперпараметров\" data-toc-modified-id=\"Поиск-гиперпараметров-25\"><span class=\"toc-item-num\">2.5&nbsp;&nbsp;</span>Поиск гиперпараметров</a></div>"
   ]
  },
  {
   "cell_type": "markdown",
   "metadata": {},
   "source": [
    "# Skillfactory - Практический Machine Learning\n",
    "## 19/02/2018 - Аномалии, работа с признаками, пайплайны (практика)\n",
    "\n",
    "<center> Шестаков Андрей </center>"
   ]
  },
  {
   "cell_type": "code",
   "execution_count": 1,
   "metadata": {
    "collapsed": false
   },
   "outputs": [
    {
     "name": "stderr",
     "output_type": "stream",
     "text": [
      "/usr/lib/python3.6/importlib/_bootstrap.py:219: RuntimeWarning: numpy.dtype size changed, may indicate binary incompatibility. Expected 96, got 88\n",
      "  return f(*args, **kwds)\n",
      "/usr/lib/python3.6/importlib/_bootstrap.py:219: RuntimeWarning: numpy.dtype size changed, may indicate binary incompatibility. Expected 96, got 88\n",
      "  return f(*args, **kwds)\n"
     ]
    }
   ],
   "source": [
    "import pandas as pd\n",
    "import numpy as np\n",
    "import matplotlib.pyplot as plt\n",
    "\n",
    "\n",
    "%matplotlib inline\n",
    "\n",
    "plt.style.use('ggplot')\n",
    "plt.rcParams['figure.figsize'] = (12, 8)"
   ]
  },
  {
   "cell_type": "markdown",
   "metadata": {},
   "source": [
    "# Создание пайплайна и генерация признаков\n",
    "<center>Шестаков Андрей</center>"
   ]
  },
  {
   "cell_type": "markdown",
   "metadata": {},
   "source": [
    "В этом задании мы рассмотрим данные с предыдущего Sberbank Data Science Contest. К сожалению найти страницу с конкурсом уже не получается.\n",
    "\n",
    "Одной из задач была опредление пола владельца карты по его транзакциям на карте. Зачем это нужно - одному сберу известно, но эта задача была хороша тем, что в ней можно нагенерировать много разных признаков\n",
    "\n",
    "Есть такая [презентация](https://alexanderdyakonov.files.wordpress.com/2016/10/dj2016_sdsj_vis.pdf) с предварительным анализом данных и идеями про признаки\n",
    "\n",
    "Нам понадобятся файлы `customers_gender_train.csv`, `transactions.tsv.gz`, `mcc_types.tsv` и `trans_types.tsv`."
   ]
  },
  {
   "cell_type": "markdown",
   "metadata": {},
   "source": [
    "## Посмотрим на данные"
   ]
  },
  {
   "cell_type": "markdown",
   "metadata": {},
   "source": [
    "Это метки ответов"
   ]
  },
  {
   "cell_type": "code",
   "execution_count": 2,
   "metadata": {
    "collapsed": false
   },
   "outputs": [
    {
     "data": {
      "text/html": [
       "<div>\n",
       "<style scoped>\n",
       "    .dataframe tbody tr th:only-of-type {\n",
       "        vertical-align: middle;\n",
       "    }\n",
       "\n",
       "    .dataframe tbody tr th {\n",
       "        vertical-align: top;\n",
       "    }\n",
       "\n",
       "    .dataframe thead th {\n",
       "        text-align: right;\n",
       "    }\n",
       "</style>\n",
       "<table border=\"1\" class=\"dataframe\">\n",
       "  <thead>\n",
       "    <tr style=\"text-align: right;\">\n",
       "      <th></th>\n",
       "      <th>customer_id</th>\n",
       "      <th>gender</th>\n",
       "    </tr>\n",
       "  </thead>\n",
       "  <tbody>\n",
       "    <tr>\n",
       "      <th>0</th>\n",
       "      <td>75562265</td>\n",
       "      <td>0</td>\n",
       "    </tr>\n",
       "    <tr>\n",
       "      <th>1</th>\n",
       "      <td>10928546</td>\n",
       "      <td>1</td>\n",
       "    </tr>\n",
       "    <tr>\n",
       "      <th>2</th>\n",
       "      <td>69348468</td>\n",
       "      <td>1</td>\n",
       "    </tr>\n",
       "    <tr>\n",
       "      <th>3</th>\n",
       "      <td>84816985</td>\n",
       "      <td>1</td>\n",
       "    </tr>\n",
       "    <tr>\n",
       "      <th>4</th>\n",
       "      <td>61009479</td>\n",
       "      <td>0</td>\n",
       "    </tr>\n",
       "  </tbody>\n",
       "</table>\n",
       "</div>"
      ],
      "text/plain": [
       "   customer_id  gender\n",
       "0     75562265       0\n",
       "1     10928546       1\n",
       "2     69348468       1\n",
       "3     84816985       1\n",
       "4     61009479       0"
      ]
     },
     "execution_count": 2,
     "metadata": {},
     "output_type": "execute_result"
    }
   ],
   "source": [
    "df_gender = pd.read_csv('data/customers_gender_train.csv')\n",
    "df_gender.head()"
   ]
  },
  {
   "cell_type": "markdown",
   "metadata": {},
   "source": [
    "Это сами транзакции (отрицательные транзакции - списывание, положительные - зачисление на счет)"
   ]
  },
  {
   "cell_type": "code",
   "execution_count": 3,
   "metadata": {
    "collapsed": false
   },
   "outputs": [
    {
     "data": {
      "text/html": [
       "<div>\n",
       "<style scoped>\n",
       "    .dataframe tbody tr th:only-of-type {\n",
       "        vertical-align: middle;\n",
       "    }\n",
       "\n",
       "    .dataframe tbody tr th {\n",
       "        vertical-align: top;\n",
       "    }\n",
       "\n",
       "    .dataframe thead th {\n",
       "        text-align: right;\n",
       "    }\n",
       "</style>\n",
       "<table border=\"1\" class=\"dataframe\">\n",
       "  <thead>\n",
       "    <tr style=\"text-align: right;\">\n",
       "      <th></th>\n",
       "      <th>customer_id</th>\n",
       "      <th>tr_datetime</th>\n",
       "      <th>mcc_code</th>\n",
       "      <th>tr_type</th>\n",
       "      <th>amount</th>\n",
       "      <th>term_id</th>\n",
       "    </tr>\n",
       "  </thead>\n",
       "  <tbody>\n",
       "    <tr>\n",
       "      <th>0</th>\n",
       "      <td>39026145</td>\n",
       "      <td>0 10:23:26</td>\n",
       "      <td>4814</td>\n",
       "      <td>1030</td>\n",
       "      <td>-2245.92</td>\n",
       "      <td>NaN</td>\n",
       "    </tr>\n",
       "    <tr>\n",
       "      <th>1</th>\n",
       "      <td>39026145</td>\n",
       "      <td>1 10:19:29</td>\n",
       "      <td>6011</td>\n",
       "      <td>7010</td>\n",
       "      <td>56147.89</td>\n",
       "      <td>NaN</td>\n",
       "    </tr>\n",
       "    <tr>\n",
       "      <th>2</th>\n",
       "      <td>39026145</td>\n",
       "      <td>1 10:20:56</td>\n",
       "      <td>4829</td>\n",
       "      <td>2330</td>\n",
       "      <td>-56147.89</td>\n",
       "      <td>NaN</td>\n",
       "    </tr>\n",
       "    <tr>\n",
       "      <th>3</th>\n",
       "      <td>39026145</td>\n",
       "      <td>1 10:39:54</td>\n",
       "      <td>5499</td>\n",
       "      <td>1010</td>\n",
       "      <td>-1392.47</td>\n",
       "      <td>NaN</td>\n",
       "    </tr>\n",
       "    <tr>\n",
       "      <th>4</th>\n",
       "      <td>39026145</td>\n",
       "      <td>2 15:33:42</td>\n",
       "      <td>5499</td>\n",
       "      <td>1010</td>\n",
       "      <td>-920.83</td>\n",
       "      <td>NaN</td>\n",
       "    </tr>\n",
       "  </tbody>\n",
       "</table>\n",
       "</div>"
      ],
      "text/plain": [
       "   customer_id tr_datetime  mcc_code  tr_type    amount term_id\n",
       "0     39026145  0 10:23:26      4814     1030  -2245.92     NaN\n",
       "1     39026145  1 10:19:29      6011     7010  56147.89     NaN\n",
       "2     39026145  1 10:20:56      4829     2330 -56147.89     NaN\n",
       "3     39026145  1 10:39:54      5499     1010  -1392.47     NaN\n",
       "4     39026145  2 15:33:42      5499     1010   -920.83     NaN"
      ]
     },
     "execution_count": 3,
     "metadata": {},
     "output_type": "execute_result"
    }
   ],
   "source": [
    "df_transactions = pd.read_csv('data/transactions.csv.gz')\n",
    "df_transactions.head()"
   ]
  },
  {
   "cell_type": "markdown",
   "metadata": {},
   "source": [
    "Далее, расшифровки кодов [mcc](https://ru.wikipedia.org/wiki/Merchant_Category_Code) и транзакций"
   ]
  },
  {
   "cell_type": "code",
   "execution_count": 12,
   "metadata": {
    "collapsed": false
   },
   "outputs": [
    {
     "data": {
      "text/html": [
       "<div>\n",
       "<style scoped>\n",
       "    .dataframe tbody tr th:only-of-type {\n",
       "        vertical-align: middle;\n",
       "    }\n",
       "\n",
       "    .dataframe tbody tr th {\n",
       "        vertical-align: top;\n",
       "    }\n",
       "\n",
       "    .dataframe thead th {\n",
       "        text-align: right;\n",
       "    }\n",
       "</style>\n",
       "<table border=\"1\" class=\"dataframe\">\n",
       "  <thead>\n",
       "    <tr style=\"text-align: right;\">\n",
       "      <th></th>\n",
       "      <th>tr_type</th>\n",
       "      <th>tr_description</th>\n",
       "    </tr>\n",
       "  </thead>\n",
       "  <tbody>\n",
       "    <tr>\n",
       "      <th>0</th>\n",
       "      <td>3200</td>\n",
       "      <td>Плата за предоставление услуг посредством моби...</td>\n",
       "    </tr>\n",
       "    <tr>\n",
       "      <th>1</th>\n",
       "      <td>3210</td>\n",
       "      <td>Плата за предоставление отчета по счету карты ...</td>\n",
       "    </tr>\n",
       "    <tr>\n",
       "      <th>2</th>\n",
       "      <td>3800</td>\n",
       "      <td>Плата за обслуживание банковской карты (за пер...</td>\n",
       "    </tr>\n",
       "    <tr>\n",
       "      <th>3</th>\n",
       "      <td>4000</td>\n",
       "      <td>Плата за получение наличных в Сбербанке</td>\n",
       "    </tr>\n",
       "    <tr>\n",
       "      <th>4</th>\n",
       "      <td>4001</td>\n",
       "      <td>Плата за получение наличных в Сбербанке (в дру...</td>\n",
       "    </tr>\n",
       "  </tbody>\n",
       "</table>\n",
       "</div>"
      ],
      "text/plain": [
       "   tr_type                                     tr_description\n",
       "0     3200  Плата за предоставление услуг посредством моби...\n",
       "1     3210  Плата за предоставление отчета по счету карты ...\n",
       "2     3800  Плата за обслуживание банковской карты (за пер...\n",
       "3     4000            Плата за получение наличных в Сбербанке\n",
       "4     4001  Плата за получение наличных в Сбербанке (в дру..."
      ]
     },
     "execution_count": 12,
     "metadata": {},
     "output_type": "execute_result"
    }
   ],
   "source": [
    "df_tr = pd.read_csv('data/tr_types.csv', sep=';')\n",
    "df_tr.head()"
   ]
  },
  {
   "cell_type": "code",
   "execution_count": 14,
   "metadata": {
    "collapsed": false
   },
   "outputs": [
    {
     "data": {
      "text/html": [
       "<div>\n",
       "<style scoped>\n",
       "    .dataframe tbody tr th:only-of-type {\n",
       "        vertical-align: middle;\n",
       "    }\n",
       "\n",
       "    .dataframe tbody tr th {\n",
       "        vertical-align: top;\n",
       "    }\n",
       "\n",
       "    .dataframe thead th {\n",
       "        text-align: right;\n",
       "    }\n",
       "</style>\n",
       "<table border=\"1\" class=\"dataframe\">\n",
       "  <thead>\n",
       "    <tr style=\"text-align: right;\">\n",
       "      <th></th>\n",
       "      <th>mcc_code</th>\n",
       "      <th>mcc_description</th>\n",
       "    </tr>\n",
       "  </thead>\n",
       "  <tbody>\n",
       "    <tr>\n",
       "      <th>0</th>\n",
       "      <td>742</td>\n",
       "      <td>Ветеринарные услуги</td>\n",
       "    </tr>\n",
       "    <tr>\n",
       "      <th>1</th>\n",
       "      <td>1711</td>\n",
       "      <td>Генеральные подрядчики по вентиляции, теплосна...</td>\n",
       "    </tr>\n",
       "    <tr>\n",
       "      <th>2</th>\n",
       "      <td>1731</td>\n",
       "      <td>Подрядчики по электричеству</td>\n",
       "    </tr>\n",
       "    <tr>\n",
       "      <th>3</th>\n",
       "      <td>1799</td>\n",
       "      <td>Подрядчики, специализированная торговля — нигд...</td>\n",
       "    </tr>\n",
       "    <tr>\n",
       "      <th>4</th>\n",
       "      <td>2741</td>\n",
       "      <td>Разнообразные издательства/печатное дело</td>\n",
       "    </tr>\n",
       "  </tbody>\n",
       "</table>\n",
       "</div>"
      ],
      "text/plain": [
       "   mcc_code                                    mcc_description\n",
       "0       742                                Ветеринарные услуги\n",
       "1      1711  Генеральные подрядчики по вентиляции, теплосна...\n",
       "2      1731                        Подрядчики по электричеству\n",
       "3      1799  Подрядчики, специализированная торговля — нигд...\n",
       "4      2741           Разнообразные издательства/печатное дело"
      ]
     },
     "execution_count": 14,
     "metadata": {},
     "output_type": "execute_result"
    }
   ],
   "source": [
    "df_mcc = pd.read_csv('data/tr_mcc_codes.csv', sep=';')\n",
    "df_mcc.head()"
   ]
  },
  {
   "cell_type": "code",
   "execution_count": 5,
   "metadata": {
    "collapsed": false
   },
   "outputs": [
    {
     "data": {
      "text/plain": [
       "15000"
      ]
     },
     "execution_count": 5,
     "metadata": {},
     "output_type": "execute_result"
    }
   ],
   "source": [
    "df_transactions['customer_id'].unique().__len__()"
   ]
  },
  {
   "cell_type": "code",
   "execution_count": null,
   "metadata": {
    "collapsed": false
   },
   "outputs": [],
   "source": []
  },
  {
   "cell_type": "markdown",
   "metadata": {},
   "source": [
    "Первое что мы видем - это странная дата и суммы в транзакциях. \n",
    "\n",
    "В принципе, посмотрев на исходное распределение \"относительных\" дат по какой-нибудь гендерной группы mcc, становится примерно понятно, что за даты закодированы.\n",
    "\n",
    "Ну а суммы транзакций организаторы просто умножили на $\\pi^{\\exp}$ =)\n",
    "\n",
    "Преобразование будет проделано ниже, но при желании, можете сами со всем разобраться."
   ]
  },
  {
   "cell_type": "code",
   "execution_count": 6,
   "metadata": {
    "collapsed": true
   },
   "outputs": [],
   "source": [
    "from pandas import Timestamp, DateOffset"
   ]
  },
  {
   "cell_type": "code",
   "execution_count": 7,
   "metadata": {
    "collapsed": true
   },
   "outputs": [],
   "source": [
    "def preproc_transactions(df_transactions):\n",
    "    sec_per_day = 86400\n",
    "    sec_per_hour = 3600\n",
    "    \n",
    "    start_date = 1420070400 - 154 * sec_per_day - 3 * sec_per_hour\n",
    "    \n",
    "    df_transactions.loc[:, 'day'] = df_transactions.tr_datetime\\\n",
    "                                               .str.split(' ')\\\n",
    "                                               .str.get(0)\\\n",
    "                                               .astype(int)\n",
    "    df_transactions.loc[:, 'time_raw'] = df_transactions.tr_datetime\\\n",
    "                                                    .str.split(' ')\\\n",
    "                                                    .str.get(1)\n",
    "\n",
    "    # set temp dt\n",
    "    df_transactions.loc[:, 'dt_temp'] = pd.to_datetime(df_transactions.loc[:, 'time_raw'], \n",
    "                                                    format='%H:%M:%S')\\\n",
    "                                        + DateOffset(years=115)\n",
    "    \n",
    "    df_transactions = df_transactions.assign(dt = lambda x: x.dt_temp.astype(np.int64) // 10**9\n",
    "                                             + (x.day - 153) * sec_per_day)\\\n",
    "                                     .assign(weekday = lambda x: ((x.day + 4) % 7 + 1))\n",
    "        \n",
    "    df_transactions.loc[:, 'datetime'] = pd.to_datetime(df_transactions.dt, unit='s')\n",
    "    df_transactions.loc[:, 'date'] = df_transactions.loc[:, 'datetime'].dt.strftime('%Y-%m-%d')\n",
    "    df_transactions.loc[:, 'hour'] = df_transactions.loc[:, 'datetime'].dt.strftime('%H')\n",
    "    \n",
    "    df_transactions = df_transactions.drop(['dt_temp', 'time_raw', 'tr_datetime'], axis=1)\n",
    "    \n",
    "    df_transactions.loc[:, 'amount'] = np.round(df_transactions.loc[:, 'amount']/(np.pi**np.exp(1)))\n",
    "            \n",
    "    return df_transactions"
   ]
  },
  {
   "cell_type": "code",
   "execution_count": 8,
   "metadata": {
    "collapsed": true
   },
   "outputs": [],
   "source": [
    "df_transactions = df_transactions.pipe(preproc_transactions)"
   ]
  },
  {
   "cell_type": "code",
   "execution_count": 9,
   "metadata": {
    "collapsed": false
   },
   "outputs": [
    {
     "data": {
      "text/html": [
       "<div>\n",
       "<style scoped>\n",
       "    .dataframe tbody tr th:only-of-type {\n",
       "        vertical-align: middle;\n",
       "    }\n",
       "\n",
       "    .dataframe tbody tr th {\n",
       "        vertical-align: top;\n",
       "    }\n",
       "\n",
       "    .dataframe thead th {\n",
       "        text-align: right;\n",
       "    }\n",
       "</style>\n",
       "<table border=\"1\" class=\"dataframe\">\n",
       "  <thead>\n",
       "    <tr style=\"text-align: right;\">\n",
       "      <th></th>\n",
       "      <th>customer_id</th>\n",
       "      <th>mcc_code</th>\n",
       "      <th>tr_type</th>\n",
       "      <th>amount</th>\n",
       "      <th>term_id</th>\n",
       "      <th>day</th>\n",
       "      <th>dt</th>\n",
       "      <th>weekday</th>\n",
       "      <th>datetime</th>\n",
       "      <th>date</th>\n",
       "      <th>hour</th>\n",
       "    </tr>\n",
       "  </thead>\n",
       "  <tbody>\n",
       "    <tr>\n",
       "      <th>0</th>\n",
       "      <td>39026145</td>\n",
       "      <td>4814</td>\n",
       "      <td>1030</td>\n",
       "      <td>-100.0</td>\n",
       "      <td>NaN</td>\n",
       "      <td>0</td>\n",
       "      <td>1406888606</td>\n",
       "      <td>5</td>\n",
       "      <td>2014-08-01 10:23:26</td>\n",
       "      <td>2014-08-01</td>\n",
       "      <td>10</td>\n",
       "    </tr>\n",
       "    <tr>\n",
       "      <th>1</th>\n",
       "      <td>39026145</td>\n",
       "      <td>6011</td>\n",
       "      <td>7010</td>\n",
       "      <td>2500.0</td>\n",
       "      <td>NaN</td>\n",
       "      <td>1</td>\n",
       "      <td>1406974769</td>\n",
       "      <td>6</td>\n",
       "      <td>2014-08-02 10:19:29</td>\n",
       "      <td>2014-08-02</td>\n",
       "      <td>10</td>\n",
       "    </tr>\n",
       "    <tr>\n",
       "      <th>2</th>\n",
       "      <td>39026145</td>\n",
       "      <td>4829</td>\n",
       "      <td>2330</td>\n",
       "      <td>-2500.0</td>\n",
       "      <td>NaN</td>\n",
       "      <td>1</td>\n",
       "      <td>1406974856</td>\n",
       "      <td>6</td>\n",
       "      <td>2014-08-02 10:20:56</td>\n",
       "      <td>2014-08-02</td>\n",
       "      <td>10</td>\n",
       "    </tr>\n",
       "    <tr>\n",
       "      <th>3</th>\n",
       "      <td>39026145</td>\n",
       "      <td>5499</td>\n",
       "      <td>1010</td>\n",
       "      <td>-62.0</td>\n",
       "      <td>NaN</td>\n",
       "      <td>1</td>\n",
       "      <td>1406975994</td>\n",
       "      <td>6</td>\n",
       "      <td>2014-08-02 10:39:54</td>\n",
       "      <td>2014-08-02</td>\n",
       "      <td>10</td>\n",
       "    </tr>\n",
       "    <tr>\n",
       "      <th>4</th>\n",
       "      <td>39026145</td>\n",
       "      <td>5499</td>\n",
       "      <td>1010</td>\n",
       "      <td>-41.0</td>\n",
       "      <td>NaN</td>\n",
       "      <td>2</td>\n",
       "      <td>1407080022</td>\n",
       "      <td>7</td>\n",
       "      <td>2014-08-03 15:33:42</td>\n",
       "      <td>2014-08-03</td>\n",
       "      <td>15</td>\n",
       "    </tr>\n",
       "  </tbody>\n",
       "</table>\n",
       "</div>"
      ],
      "text/plain": [
       "   customer_id  mcc_code  tr_type  amount term_id  day          dt  weekday  \\\n",
       "0     39026145      4814     1030  -100.0     NaN    0  1406888606        5   \n",
       "1     39026145      6011     7010  2500.0     NaN    1  1406974769        6   \n",
       "2     39026145      4829     2330 -2500.0     NaN    1  1406974856        6   \n",
       "3     39026145      5499     1010   -62.0     NaN    1  1406975994        6   \n",
       "4     39026145      5499     1010   -41.0     NaN    2  1407080022        7   \n",
       "\n",
       "             datetime        date hour  \n",
       "0 2014-08-01 10:23:26  2014-08-01   10  \n",
       "1 2014-08-02 10:19:29  2014-08-02   10  \n",
       "2 2014-08-02 10:20:56  2014-08-02   10  \n",
       "3 2014-08-02 10:39:54  2014-08-02   10  \n",
       "4 2014-08-03 15:33:42  2014-08-03   15  "
      ]
     },
     "execution_count": 9,
     "metadata": {},
     "output_type": "execute_result"
    }
   ],
   "source": [
    "df_transactions.head()"
   ]
  },
  {
   "cell_type": "markdown",
   "metadata": {},
   "source": [
    "## Генерим признаки"
   ]
  },
  {
   "cell_type": "markdown",
   "metadata": {},
   "source": [
    "В качестве базовых признаков, можно взять, например, \n",
    "* количество (доля) транзакций по каждому mcc_code\n",
    "* количество (доля) транзакций в разные промежутки времени"
   ]
  },
  {
   "cell_type": "code",
   "execution_count": 11,
   "metadata": {
    "collapsed": true
   },
   "outputs": [],
   "source": [
    "def gen_features(df_gender, df_transactions):\n",
    "    \n",
    "    df_mcc_counts = \\\n",
    "        df_transactions.pivot_table(index=['customer_id'], columns='mcc_code', values='amount', \n",
    "                             aggfunc=np.size, fill_value=0)\n",
    "\n",
    "    df_mcc_counts = df_mcc_counts.rename(lambda x: 'mcc_{}_count'.format(x), axis=1)\n",
    "\n",
    "    df_hour_rations = \\\n",
    "        df_transactions.pivot_table(index=['customer_id'], columns='hour', values='amount', \n",
    "                             aggfunc=np.size, fill_value=0)\n",
    "\n",
    "        \n",
    "    # Сложная и нетривиальная конструкция\n",
    "    total = df_hour_rations.sum(axis=1)\n",
    "    \n",
    "    df_hour_rations.loc[:, 'morning'] = (df_hour_rations.loc[:, '05':'11'].sum(axis=1).T/total).T\n",
    "    df_hour_rations.loc[:, 'day'] = (df_hour_rations.loc[:, '12':'17'].sum(axis=1).T/total).T\n",
    "    df_hour_rations.loc[:, 'evening'] = (df_hour_rations.loc[:, '18':'23'].sum(axis=1).T/total).T\n",
    "    df_hour_rations.loc[:, 'night'] = (df_hour_rations.loc[:, '00':'04'].sum(axis=1).T/total).T\n",
    "\n",
    "\n",
    "    # Объединяем:\n",
    "    df_features = df_gender.join(df_mcc_counts, on='customer_id', how='left')\\\n",
    "                           .join(df_hour_rations.loc[:, ['morning', 'day', 'evening', 'night']], on='customer_id', how='left')\n",
    "        \n",
    "    return df_features"
   ]
  },
  {
   "cell_type": "code",
   "execution_count": null,
   "metadata": {
    "collapsed": false
   },
   "outputs": [],
   "source": []
  },
  {
   "cell_type": "code",
   "execution_count": 12,
   "metadata": {
    "collapsed": false
   },
   "outputs": [],
   "source": [
    "df_features = df_gender.pipe(gen_features, df_transactions)"
   ]
  },
  {
   "cell_type": "code",
   "execution_count": 13,
   "metadata": {
    "collapsed": false
   },
   "outputs": [
    {
     "data": {
      "text/html": [
       "<div>\n",
       "<style scoped>\n",
       "    .dataframe tbody tr th:only-of-type {\n",
       "        vertical-align: middle;\n",
       "    }\n",
       "\n",
       "    .dataframe tbody tr th {\n",
       "        vertical-align: top;\n",
       "    }\n",
       "\n",
       "    .dataframe thead th {\n",
       "        text-align: right;\n",
       "    }\n",
       "</style>\n",
       "<table border=\"1\" class=\"dataframe\">\n",
       "  <thead>\n",
       "    <tr style=\"text-align: right;\">\n",
       "      <th></th>\n",
       "      <th>customer_id</th>\n",
       "      <th>gender</th>\n",
       "      <th>mcc_742_count</th>\n",
       "      <th>mcc_1711_count</th>\n",
       "      <th>mcc_1731_count</th>\n",
       "      <th>mcc_1799_count</th>\n",
       "      <th>mcc_2741_count</th>\n",
       "      <th>mcc_3000_count</th>\n",
       "      <th>mcc_3351_count</th>\n",
       "      <th>mcc_3501_count</th>\n",
       "      <th>...</th>\n",
       "      <th>mcc_8999_count</th>\n",
       "      <th>mcc_9211_count</th>\n",
       "      <th>mcc_9222_count</th>\n",
       "      <th>mcc_9311_count</th>\n",
       "      <th>mcc_9399_count</th>\n",
       "      <th>mcc_9402_count</th>\n",
       "      <th>morning</th>\n",
       "      <th>day</th>\n",
       "      <th>evening</th>\n",
       "      <th>night</th>\n",
       "    </tr>\n",
       "  </thead>\n",
       "  <tbody>\n",
       "    <tr>\n",
       "      <th>0</th>\n",
       "      <td>75562265</td>\n",
       "      <td>0</td>\n",
       "      <td>0</td>\n",
       "      <td>0</td>\n",
       "      <td>0</td>\n",
       "      <td>0</td>\n",
       "      <td>0</td>\n",
       "      <td>0</td>\n",
       "      <td>0</td>\n",
       "      <td>0</td>\n",
       "      <td>...</td>\n",
       "      <td>0</td>\n",
       "      <td>0</td>\n",
       "      <td>0</td>\n",
       "      <td>0</td>\n",
       "      <td>0</td>\n",
       "      <td>0</td>\n",
       "      <td>0.262658</td>\n",
       "      <td>0.329114</td>\n",
       "      <td>0.325949</td>\n",
       "      <td>0.082278</td>\n",
       "    </tr>\n",
       "    <tr>\n",
       "      <th>1</th>\n",
       "      <td>10928546</td>\n",
       "      <td>1</td>\n",
       "      <td>0</td>\n",
       "      <td>0</td>\n",
       "      <td>0</td>\n",
       "      <td>0</td>\n",
       "      <td>0</td>\n",
       "      <td>0</td>\n",
       "      <td>0</td>\n",
       "      <td>0</td>\n",
       "      <td>...</td>\n",
       "      <td>1</td>\n",
       "      <td>0</td>\n",
       "      <td>0</td>\n",
       "      <td>0</td>\n",
       "      <td>2</td>\n",
       "      <td>0</td>\n",
       "      <td>0.352697</td>\n",
       "      <td>0.413555</td>\n",
       "      <td>0.042877</td>\n",
       "      <td>0.190871</td>\n",
       "    </tr>\n",
       "    <tr>\n",
       "      <th>2</th>\n",
       "      <td>69348468</td>\n",
       "      <td>1</td>\n",
       "      <td>0</td>\n",
       "      <td>0</td>\n",
       "      <td>0</td>\n",
       "      <td>0</td>\n",
       "      <td>0</td>\n",
       "      <td>0</td>\n",
       "      <td>0</td>\n",
       "      <td>0</td>\n",
       "      <td>...</td>\n",
       "      <td>2</td>\n",
       "      <td>0</td>\n",
       "      <td>0</td>\n",
       "      <td>0</td>\n",
       "      <td>0</td>\n",
       "      <td>0</td>\n",
       "      <td>0.296804</td>\n",
       "      <td>0.493151</td>\n",
       "      <td>0.196347</td>\n",
       "      <td>0.013699</td>\n",
       "    </tr>\n",
       "    <tr>\n",
       "      <th>3</th>\n",
       "      <td>84816985</td>\n",
       "      <td>1</td>\n",
       "      <td>0</td>\n",
       "      <td>0</td>\n",
       "      <td>0</td>\n",
       "      <td>0</td>\n",
       "      <td>0</td>\n",
       "      <td>0</td>\n",
       "      <td>0</td>\n",
       "      <td>0</td>\n",
       "      <td>...</td>\n",
       "      <td>0</td>\n",
       "      <td>0</td>\n",
       "      <td>0</td>\n",
       "      <td>0</td>\n",
       "      <td>0</td>\n",
       "      <td>0</td>\n",
       "      <td>0.247423</td>\n",
       "      <td>0.494845</td>\n",
       "      <td>0.216495</td>\n",
       "      <td>0.041237</td>\n",
       "    </tr>\n",
       "    <tr>\n",
       "      <th>4</th>\n",
       "      <td>61009479</td>\n",
       "      <td>0</td>\n",
       "      <td>0</td>\n",
       "      <td>0</td>\n",
       "      <td>0</td>\n",
       "      <td>0</td>\n",
       "      <td>0</td>\n",
       "      <td>0</td>\n",
       "      <td>0</td>\n",
       "      <td>0</td>\n",
       "      <td>...</td>\n",
       "      <td>0</td>\n",
       "      <td>0</td>\n",
       "      <td>0</td>\n",
       "      <td>0</td>\n",
       "      <td>0</td>\n",
       "      <td>0</td>\n",
       "      <td>0.636943</td>\n",
       "      <td>0.239915</td>\n",
       "      <td>0.004246</td>\n",
       "      <td>0.118896</td>\n",
       "    </tr>\n",
       "  </tbody>\n",
       "</table>\n",
       "<p>5 rows × 190 columns</p>\n",
       "</div>"
      ],
      "text/plain": [
       "   customer_id  gender  mcc_742_count  mcc_1711_count  mcc_1731_count  \\\n",
       "0     75562265       0              0               0               0   \n",
       "1     10928546       1              0               0               0   \n",
       "2     69348468       1              0               0               0   \n",
       "3     84816985       1              0               0               0   \n",
       "4     61009479       0              0               0               0   \n",
       "\n",
       "   mcc_1799_count  mcc_2741_count  mcc_3000_count  mcc_3351_count  \\\n",
       "0               0               0               0               0   \n",
       "1               0               0               0               0   \n",
       "2               0               0               0               0   \n",
       "3               0               0               0               0   \n",
       "4               0               0               0               0   \n",
       "\n",
       "   mcc_3501_count    ...     mcc_8999_count  mcc_9211_count  mcc_9222_count  \\\n",
       "0               0    ...                  0               0               0   \n",
       "1               0    ...                  1               0               0   \n",
       "2               0    ...                  2               0               0   \n",
       "3               0    ...                  0               0               0   \n",
       "4               0    ...                  0               0               0   \n",
       "\n",
       "   mcc_9311_count  mcc_9399_count  mcc_9402_count   morning       day  \\\n",
       "0               0               0               0  0.262658  0.329114   \n",
       "1               0               2               0  0.352697  0.413555   \n",
       "2               0               0               0  0.296804  0.493151   \n",
       "3               0               0               0  0.247423  0.494845   \n",
       "4               0               0               0  0.636943  0.239915   \n",
       "\n",
       "    evening     night  \n",
       "0  0.325949  0.082278  \n",
       "1  0.042877  0.190871  \n",
       "2  0.196347  0.013699  \n",
       "3  0.216495  0.041237  \n",
       "4  0.004246  0.118896  \n",
       "\n",
       "[5 rows x 190 columns]"
      ]
     },
     "execution_count": 13,
     "metadata": {},
     "output_type": "execute_result"
    }
   ],
   "source": [
    "df_features.head()"
   ]
  },
  {
   "cell_type": "code",
   "execution_count": 14,
   "metadata": {
    "collapsed": true
   },
   "outputs": [],
   "source": [
    "label = 'gender'\n",
    "idx_features = df_features.columns != label"
   ]
  },
  {
   "cell_type": "code",
   "execution_count": 15,
   "metadata": {
    "collapsed": false
   },
   "outputs": [
    {
     "data": {
      "text/plain": [
       "array([ True, False,  True,  True,  True,  True,  True,  True,  True,\n",
       "        True,  True,  True,  True,  True,  True,  True,  True,  True,\n",
       "        True,  True,  True,  True,  True,  True,  True,  True,  True,\n",
       "        True,  True,  True,  True,  True,  True,  True,  True,  True,\n",
       "        True,  True,  True,  True,  True,  True,  True,  True,  True,\n",
       "        True,  True,  True,  True,  True,  True,  True,  True,  True,\n",
       "        True,  True,  True,  True,  True,  True,  True,  True,  True,\n",
       "        True,  True,  True,  True,  True,  True,  True,  True,  True,\n",
       "        True,  True,  True,  True,  True,  True,  True,  True,  True,\n",
       "        True,  True,  True,  True,  True,  True,  True,  True,  True,\n",
       "        True,  True,  True,  True,  True,  True,  True,  True,  True,\n",
       "        True,  True,  True,  True,  True,  True,  True,  True,  True,\n",
       "        True,  True,  True,  True,  True,  True,  True,  True,  True,\n",
       "        True,  True,  True,  True,  True,  True,  True,  True,  True,\n",
       "        True,  True,  True,  True,  True,  True,  True,  True,  True,\n",
       "        True,  True,  True,  True,  True,  True,  True,  True,  True,\n",
       "        True,  True,  True,  True,  True,  True,  True,  True,  True,\n",
       "        True,  True,  True,  True,  True,  True,  True,  True,  True,\n",
       "        True,  True,  True,  True,  True,  True,  True,  True,  True,\n",
       "        True,  True,  True,  True,  True,  True,  True,  True,  True,\n",
       "        True,  True,  True,  True,  True,  True,  True,  True,  True,\n",
       "        True])"
      ]
     },
     "execution_count": 15,
     "metadata": {},
     "output_type": "execute_result"
    }
   ],
   "source": [
    "idx_features"
   ]
  },
  {
   "cell_type": "code",
   "execution_count": 16,
   "metadata": {
    "collapsed": true
   },
   "outputs": [],
   "source": [
    "X = df_features.loc[:, idx_features].values\n",
    "y = df_features.loc[:, ~idx_features].values.flatten()"
   ]
  },
  {
   "cell_type": "code",
   "execution_count": null,
   "metadata": {
    "collapsed": false
   },
   "outputs": [],
   "source": []
  },
  {
   "cell_type": "markdown",
   "metadata": {},
   "source": [
    "## Подбор гипер-параметров"
   ]
  },
  {
   "cell_type": "markdown",
   "metadata": {
    "collapsed": true
   },
   "source": [
    "### Pipeline"
   ]
  },
  {
   "cell_type": "markdown",
   "metadata": {},
   "source": [
    "Сделаем простой sklearn пайплайн, который делает следующее:\n",
    "* Нормирует признаки через StandartScaler\n",
    "* Запускает лог-регрессию"
   ]
  },
  {
   "cell_type": "code",
   "execution_count": 17,
   "metadata": {
    "collapsed": true
   },
   "outputs": [],
   "source": [
    "from sklearn.pipeline import Pipeline, FeatureUnion\n",
    "from sklearn.preprocessing import OneHotEncoder, StandardScaler\n",
    "\n",
    "from sklearn.linear_model import LogisticRegression"
   ]
  },
  {
   "cell_type": "code",
   "execution_count": 18,
   "metadata": {
    "collapsed": true
   },
   "outputs": [],
   "source": [
    "model = Pipeline([\n",
    "    ('scaler', StandardScaler()),\n",
    "    ('clf', LogisticRegression())\n",
    "])"
   ]
  },
  {
   "cell_type": "code",
   "execution_count": 19,
   "metadata": {
    "collapsed": true
   },
   "outputs": [],
   "source": [
    "RND_SEED = 123"
   ]
  },
  {
   "cell_type": "markdown",
   "metadata": {},
   "source": [
    "### Подбор гиперпараметров\n",
    "\n",
    "До этого мы исключительно смотрели, как влияет на меру качества какой-то один параметр при фиксированных остальных. Пришло время перебирать все что можно!\n",
    "\n",
    "В базовом варианте, это делается либо через `Grid Search`, либо через `Random Search`. Какие ключевые отличия?\n",
    "* В `Grid Search` вы в явнов виде задаете возможные значения каждого гипер-параметра, который хотите варьировать. Соответственно, выполняется **полный** перебор всех возможных комбинаций\n",
    "* В `Random Search` допукается указание распределения параметров, например \"равномерно, на интервале от 0 до 100\" или \"нормальное распределение с таким-то цетром и такой-то дисперсией. Соответственно, так как это случайный перебор, то **вы** просто **задаете** количество случайных комбинаций, которые будут проверяться\n",
    "\n",
    "Может показаться, что делать случайный перебор опасно - там же все случайно. Но на практике именно он и искользуется в силу двух причин\n",
    "* Полный перебор большого количества комбинаций очень долгий\n",
    "* Мы можем просто пропустить значения гиперпараметра, которые сильно влияют на метрику качества (см рисунок снизу)"
   ]
  },
  {
   "cell_type": "markdown",
   "metadata": {},
   "source": [
    "<img src='img/gridsearch.jpeg'>"
   ]
  },
  {
   "cell_type": "markdown",
   "metadata": {},
   "source": [
    "Попробуем оба варианта"
   ]
  },
  {
   "cell_type": "markdown",
   "metadata": {},
   "source": [
    "#### Grid search"
   ]
  },
  {
   "cell_type": "code",
   "execution_count": 20,
   "metadata": {
    "collapsed": true
   },
   "outputs": [],
   "source": [
    "from sklearn.model_selection import GridSearchCV, RandomizedSearchCV\n",
    "from sklearn.model_selection import StratifiedKFold\n"
   ]
  },
  {
   "cell_type": "code",
   "execution_count": 21,
   "metadata": {
    "collapsed": false
   },
   "outputs": [
    {
     "name": "stdout",
     "output_type": "stream",
     "text": [
      "{'scaler__with_mean': [False, True], 'clf__penalty': ['l1', 'l2'], 'clf__random_state': [123], 'clf__C': array([1.00000000e-05, 7.74263683e-05, 5.99484250e-04, 4.64158883e-03,\n",
      "       3.59381366e-02, 2.78255940e-01, 2.15443469e+00, 1.66810054e+01,\n",
      "       1.29154967e+02, 1.00000000e+03])}\n"
     ]
    }
   ],
   "source": [
    "# Задаем значения параметров, которые хотим проверить\n",
    "\n",
    "# в данном случае \"__\" разленяет название гиперпараметра от этапа, где этот гиперпараметр используется\n",
    "# если у нас будет не пайплайн, а просто один классификатор, то разделитель указывать не нужно\n",
    "param_grid = {\n",
    "    'scaler__with_mean': [False, True],\n",
    "    'clf__penalty': ['l1', 'l2'],\n",
    "    'clf__random_state': [RND_SEED],\n",
    "    'clf__C': np.logspace(-5, 3, 10)\n",
    "}\n",
    "\n",
    "print(param_grid)\n",
    "\n",
    "# Задаем схему кросс-валидации\n",
    "cv = StratifiedKFold(n_splits=5, random_state=RND_SEED, shuffle=True)"
   ]
  },
  {
   "cell_type": "code",
   "execution_count": 22,
   "metadata": {
    "collapsed": false,
    "scrolled": true
   },
   "outputs": [
    {
     "name": "stdout",
     "output_type": "stream",
     "text": [
      "Fitting 5 folds for each of 40 candidates, totalling 200 fits\n",
      "[CV] clf__C=1e-05, clf__penalty=l1, clf__random_state=123, scaler__with_mean=False \n",
      "[CV] clf__C=1e-05, clf__penalty=l1, clf__random_state=123, scaler__with_mean=False \n",
      "[CV] clf__C=1e-05, clf__penalty=l1, clf__random_state=123, scaler__with_mean=False \n",
      "[CV] clf__C=1e-05, clf__penalty=l1, clf__random_state=123, scaler__with_mean=False \n",
      "[CV] clf__C=1e-05, clf__penalty=l1, clf__random_state=123, scaler__with_mean=False \n",
      "[CV] clf__C=1e-05, clf__penalty=l1, clf__random_state=123, scaler__with_mean=True \n",
      "[CV]  clf__C=1e-05, clf__penalty=l1, clf__random_state=123, scaler__with_mean=False, total=   0.2s\n",
      "[CV] clf__C=1e-05, clf__penalty=l1, clf__random_state=123, scaler__with_mean=True \n",
      "[CV] clf__C=1e-05, clf__penalty=l1, clf__random_state=123, scaler__with_mean=True \n",
      "[CV]  clf__C=1e-05, clf__penalty=l1, clf__random_state=123, scaler__with_mean=False, total=   0.2s\n",
      "[CV] clf__C=1e-05, clf__penalty=l1, clf__random_state=123, scaler__with_mean=True \n",
      "[CV]  clf__C=1e-05, clf__penalty=l1, clf__random_state=123, scaler__with_mean=False, total=   0.3s\n",
      "[CV] clf__C=1e-05, clf__penalty=l1, clf__random_state=123, scaler__with_mean=True \n",
      "[CV]  clf__C=1e-05, clf__penalty=l1, clf__random_state=123, scaler__with_mean=False, total=   0.3s\n",
      "[CV]  clf__C=1e-05, clf__penalty=l1, clf__random_state=123, scaler__with_mean=False, total=   0.3s\n",
      "[CV] clf__C=1e-05, clf__penalty=l2, clf__random_state=123, scaler__with_mean=False \n",
      "[CV] clf__C=1e-05, clf__penalty=l2, clf__random_state=123, scaler__with_mean=False \n",
      "[CV] clf__C=1e-05, clf__penalty=l2, clf__random_state=123, scaler__with_mean=False \n",
      "[CV]  clf__C=1e-05, clf__penalty=l1, clf__random_state=123, scaler__with_mean=True, total=   0.5s\n",
      "[CV] clf__C=1e-05, clf__penalty=l2, clf__random_state=123, scaler__with_mean=False \n",
      "[CV]  clf__C=1e-05, clf__penalty=l1, clf__random_state=123, scaler__with_mean=True, total=   0.4s\n",
      "[CV] clf__C=1e-05, clf__penalty=l2, clf__random_state=123, scaler__with_mean=False \n",
      "[CV]  clf__C=1e-05, clf__penalty=l1, clf__random_state=123, scaler__with_mean=True, total=   0.7s\n",
      "[CV]  clf__C=1e-05, clf__penalty=l1, clf__random_state=123, scaler__with_mean=True, total=   0.5s\n",
      "[CV] clf__C=1e-05, clf__penalty=l2, clf__random_state=123, scaler__with_mean=True \n",
      "[CV] clf__C=1e-05, clf__penalty=l2, clf__random_state=123, scaler__with_mean=True \n",
      "[CV]  clf__C=1e-05, clf__penalty=l2, clf__random_state=123, scaler__with_mean=False, total=   0.4s\n",
      "[CV]  clf__C=1e-05, clf__penalty=l1, clf__random_state=123, scaler__with_mean=True, total=   0.8s\n",
      "[CV]  clf__C=1e-05, clf__penalty=l2, clf__random_state=123, scaler__with_mean=False, total=   0.4s\n",
      "[CV]  clf__C=1e-05, clf__penalty=l2, clf__random_state=123, scaler__with_mean=False, total=   0.3s\n",
      "[CV] clf__C=1e-05, clf__penalty=l2, clf__random_state=123, scaler__with_mean=True \n",
      "[CV] clf__C=1e-05, clf__penalty=l2, clf__random_state=123, scaler__with_mean=True \n",
      "[CV] clf__C=1e-05, clf__penalty=l2, clf__random_state=123, scaler__with_mean=True \n",
      "[CV] clf__C=7.742636826811278e-05, clf__penalty=l1, clf__random_state=123, scaler__with_mean=False \n",
      "[CV]  clf__C=1e-05, clf__penalty=l2, clf__random_state=123, scaler__with_mean=False, total=   0.5s\n",
      "[CV]  clf__C=1e-05, clf__penalty=l2, clf__random_state=123, scaler__with_mean=False, total=   0.4s\n",
      "[CV] clf__C=7.742636826811278e-05, clf__penalty=l1, clf__random_state=123, scaler__with_mean=False \n",
      "[CV]  clf__C=1e-05, clf__penalty=l2, clf__random_state=123, scaler__with_mean=True, total=   0.4s\n",
      "[CV]  clf__C=1e-05, clf__penalty=l2, clf__random_state=123, scaler__with_mean=True, total=   0.4s\n",
      "[CV] clf__C=7.742636826811278e-05, clf__penalty=l1, clf__random_state=123, scaler__with_mean=False \n",
      "[CV] clf__C=7.742636826811278e-05, clf__penalty=l1, clf__random_state=123, scaler__with_mean=False \n",
      "[CV]  clf__C=7.742636826811278e-05, clf__penalty=l1, clf__random_state=123, scaler__with_mean=False, total=   0.3s\n",
      "[CV] clf__C=7.742636826811278e-05, clf__penalty=l1, clf__random_state=123, scaler__with_mean=False \n",
      "[CV]  clf__C=7.742636826811278e-05, clf__penalty=l1, clf__random_state=123, scaler__with_mean=False, total=   0.2s\n",
      "[CV] clf__C=7.742636826811278e-05, clf__penalty=l1, clf__random_state=123, scaler__with_mean=True \n",
      "[CV]  clf__C=1e-05, clf__penalty=l2, clf__random_state=123, scaler__with_mean=True, total=   0.7s\n",
      "[CV]  clf__C=1e-05, clf__penalty=l2, clf__random_state=123, scaler__with_mean=True, total=   0.6s\n",
      "[CV] clf__C=7.742636826811278e-05, clf__penalty=l1, clf__random_state=123, scaler__with_mean=True \n",
      "[CV] clf__C=7.742636826811278e-05, clf__penalty=l1, clf__random_state=123, scaler__with_mean=True \n",
      "[CV]  clf__C=7.742636826811278e-05, clf__penalty=l1, clf__random_state=123, scaler__with_mean=False, total=   0.2s\n",
      "[CV]  clf__C=1e-05, clf__penalty=l2, clf__random_state=123, scaler__with_mean=True, total=   0.8s\n",
      "[CV]  clf__C=7.742636826811278e-05, clf__penalty=l1, clf__random_state=123, scaler__with_mean=False, total=   0.4s\n",
      "[CV]  clf__C=7.742636826811278e-05, clf__penalty=l1, clf__random_state=123, scaler__with_mean=False, total=   0.4s\n",
      "[CV] clf__C=7.742636826811278e-05, clf__penalty=l1, clf__random_state=123, scaler__with_mean=True \n",
      "[CV] clf__C=7.742636826811278e-05, clf__penalty=l1, clf__random_state=123, scaler__with_mean=True \n",
      "[CV] clf__C=7.742636826811278e-05, clf__penalty=l2, clf__random_state=123, scaler__with_mean=False \n",
      "[CV] clf__C=7.742636826811278e-05, clf__penalty=l2, clf__random_state=123, scaler__with_mean=False \n"
     ]
    },
    {
     "name": "stderr",
     "output_type": "stream",
     "text": [
      "[Parallel(n_jobs=-1)]: Done  25 tasks      | elapsed:    2.4s\n"
     ]
    },
    {
     "name": "stdout",
     "output_type": "stream",
     "text": [
      "[CV] clf__C=7.742636826811278e-05, clf__penalty=l2, clf__random_state=123, scaler__with_mean=False \n",
      "[CV]  clf__C=7.742636826811278e-05, clf__penalty=l1, clf__random_state=123, scaler__with_mean=True, total=   0.4s\n",
      "[CV]  clf__C=7.742636826811278e-05, clf__penalty=l1, clf__random_state=123, scaler__with_mean=True, total=   0.5s\n",
      "[CV] clf__C=7.742636826811278e-05, clf__penalty=l2, clf__random_state=123, scaler__with_mean=False \n",
      "[CV]  clf__C=7.742636826811278e-05, clf__penalty=l1, clf__random_state=123, scaler__with_mean=True, total=   0.3s\n",
      "[CV] clf__C=7.742636826811278e-05, clf__penalty=l2, clf__random_state=123, scaler__with_mean=False \n",
      "[CV]  clf__C=7.742636826811278e-05, clf__penalty=l1, clf__random_state=123, scaler__with_mean=True, total=   0.5s\n",
      "[CV] clf__C=7.742636826811278e-05, clf__penalty=l2, clf__random_state=123, scaler__with_mean=True \n",
      "[CV]  clf__C=7.742636826811278e-05, clf__penalty=l2, clf__random_state=123, scaler__with_mean=False, total=   0.3s\n",
      "[CV] clf__C=7.742636826811278e-05, clf__penalty=l2, clf__random_state=123, scaler__with_mean=True \n",
      "[CV] clf__C=7.742636826811278e-05, clf__penalty=l2, clf__random_state=123, scaler__with_mean=True \n",
      "[CV]  clf__C=7.742636826811278e-05, clf__penalty=l2, clf__random_state=123, scaler__with_mean=False, total=   0.4s\n",
      "[CV] clf__C=7.742636826811278e-05, clf__penalty=l2, clf__random_state=123, scaler__with_mean=True \n",
      "[CV]  clf__C=7.742636826811278e-05, clf__penalty=l2, clf__random_state=123, scaler__with_mean=False, total=   0.4s\n",
      "[CV]  clf__C=7.742636826811278e-05, clf__penalty=l2, clf__random_state=123, scaler__with_mean=False, total=   0.3s\n",
      "[CV]  clf__C=7.742636826811278e-05, clf__penalty=l1, clf__random_state=123, scaler__with_mean=True, total=   0.5s\n",
      "[CV] clf__C=7.742636826811278e-05, clf__penalty=l2, clf__random_state=123, scaler__with_mean=True \n",
      "[CV] clf__C=0.0005994842503189409, clf__penalty=l1, clf__random_state=123, scaler__with_mean=False \n",
      "[CV]  clf__C=7.742636826811278e-05, clf__penalty=l2, clf__random_state=123, scaler__with_mean=False, total=   0.5s\n",
      "[CV] clf__C=0.0005994842503189409, clf__penalty=l1, clf__random_state=123, scaler__with_mean=False \n",
      "[CV] clf__C=0.0005994842503189409, clf__penalty=l1, clf__random_state=123, scaler__with_mean=False \n",
      "[CV]  clf__C=7.742636826811278e-05, clf__penalty=l2, clf__random_state=123, scaler__with_mean=True, total=   0.5s\n",
      "[CV] clf__C=0.0005994842503189409, clf__penalty=l1, clf__random_state=123, scaler__with_mean=False \n",
      "[CV]  clf__C=0.0005994842503189409, clf__penalty=l1, clf__random_state=123, scaler__with_mean=False, total=   0.3s\n",
      "[CV] clf__C=0.0005994842503189409, clf__penalty=l1, clf__random_state=123, scaler__with_mean=False \n",
      "[CV]  clf__C=0.0005994842503189409, clf__penalty=l1, clf__random_state=123, scaler__with_mean=False, total=   0.3s\n",
      "[CV]  clf__C=7.742636826811278e-05, clf__penalty=l2, clf__random_state=123, scaler__with_mean=True, total=   0.6s\n",
      "[CV] clf__C=0.0005994842503189409, clf__penalty=l1, clf__random_state=123, scaler__with_mean=True \n",
      "[CV]  clf__C=0.0005994842503189409, clf__penalty=l1, clf__random_state=123, scaler__with_mean=False, total=   0.3s\n",
      "[CV] clf__C=0.0005994842503189409, clf__penalty=l1, clf__random_state=123, scaler__with_mean=True \n",
      "[CV] clf__C=0.0005994842503189409, clf__penalty=l1, clf__random_state=123, scaler__with_mean=True \n",
      "[CV]  clf__C=7.742636826811278e-05, clf__penalty=l2, clf__random_state=123, scaler__with_mean=True, total=   0.8s\n",
      "[CV] clf__C=0.0005994842503189409, clf__penalty=l1, clf__random_state=123, scaler__with_mean=True \n",
      "[CV]  clf__C=7.742636826811278e-05, clf__penalty=l2, clf__random_state=123, scaler__with_mean=True, total=   0.8s\n",
      "[CV] clf__C=0.0005994842503189409, clf__penalty=l1, clf__random_state=123, scaler__with_mean=True \n",
      "[CV]  clf__C=0.0005994842503189409, clf__penalty=l1, clf__random_state=123, scaler__with_mean=False, total=   0.2s\n",
      "[CV] clf__C=0.0005994842503189409, clf__penalty=l2, clf__random_state=123, scaler__with_mean=False \n",
      "[CV]  clf__C=0.0005994842503189409, clf__penalty=l1, clf__random_state=123, scaler__with_mean=False, total=   0.4s\n",
      "[CV]  clf__C=7.742636826811278e-05, clf__penalty=l2, clf__random_state=123, scaler__with_mean=True, total=   1.0s\n",
      "[CV] clf__C=0.0005994842503189409, clf__penalty=l2, clf__random_state=123, scaler__with_mean=False \n",
      "[CV]  clf__C=0.0005994842503189409, clf__penalty=l1, clf__random_state=123, scaler__with_mean=True, total=   0.4s\n",
      "[CV] clf__C=0.0005994842503189409, clf__penalty=l2, clf__random_state=123, scaler__with_mean=False \n",
      "[CV]  clf__C=0.0005994842503189409, clf__penalty=l1, clf__random_state=123, scaler__with_mean=True, total=   0.4s\n",
      "[CV] clf__C=0.0005994842503189409, clf__penalty=l2, clf__random_state=123, scaler__with_mean=False \n",
      "[CV] clf__C=0.0005994842503189409, clf__penalty=l2, clf__random_state=123, scaler__with_mean=False \n",
      "[CV]  clf__C=0.0005994842503189409, clf__penalty=l1, clf__random_state=123, scaler__with_mean=True, total=   0.5s\n",
      "[CV]  clf__C=0.0005994842503189409, clf__penalty=l1, clf__random_state=123, scaler__with_mean=True, total=   0.5s\n",
      "[CV] clf__C=0.0005994842503189409, clf__penalty=l2, clf__random_state=123, scaler__with_mean=True \n",
      "[CV] clf__C=0.0005994842503189409, clf__penalty=l2, clf__random_state=123, scaler__with_mean=True \n",
      "[CV]  clf__C=0.0005994842503189409, clf__penalty=l2, clf__random_state=123, scaler__with_mean=False, total=   0.5s\n",
      "[CV]  clf__C=0.0005994842503189409, clf__penalty=l1, clf__random_state=123, scaler__with_mean=True, total=   0.6s\n",
      "[CV] clf__C=0.0005994842503189409, clf__penalty=l2, clf__random_state=123, scaler__with_mean=True \n",
      "[CV]  clf__C=0.0005994842503189409, clf__penalty=l2, clf__random_state=123, scaler__with_mean=False, total=   0.4s\n",
      "[CV] clf__C=0.0005994842503189409, clf__penalty=l2, clf__random_state=123, scaler__with_mean=True \n",
      "[CV]  clf__C=0.0005994842503189409, clf__penalty=l2, clf__random_state=123, scaler__with_mean=False, total=   0.4s\n",
      "[CV] clf__C=0.0005994842503189409, clf__penalty=l2, clf__random_state=123, scaler__with_mean=True \n",
      "[CV]  clf__C=0.0005994842503189409, clf__penalty=l2, clf__random_state=123, scaler__with_mean=False, total=   0.7s\n",
      "[CV] clf__C=0.004641588833612777, clf__penalty=l1, clf__random_state=123, scaler__with_mean=False \n",
      "[CV]  clf__C=0.0005994842503189409, clf__penalty=l2, clf__random_state=123, scaler__with_mean=False, total=   0.6s\n",
      "[CV] clf__C=0.004641588833612777, clf__penalty=l1, clf__random_state=123, scaler__with_mean=False \n",
      "[CV] clf__C=0.004641588833612777, clf__penalty=l1, clf__random_state=123, scaler__with_mean=False \n",
      "[CV]  clf__C=0.0005994842503189409, clf__penalty=l2, clf__random_state=123, scaler__with_mean=True, total=   0.7s\n",
      "[CV] clf__C=0.004641588833612777, clf__penalty=l1, clf__random_state=123, scaler__with_mean=False \n",
      "[CV]  clf__C=0.004641588833612777, clf__penalty=l1, clf__random_state=123, scaler__with_mean=False, total=   0.4s\n",
      "[CV] clf__C=0.004641588833612777, clf__penalty=l1, clf__random_state=123, scaler__with_mean=False \n",
      "[CV]  clf__C=0.004641588833612777, clf__penalty=l1, clf__random_state=123, scaler__with_mean=False, total=   0.3s\n",
      "[CV] clf__C=0.004641588833612777, clf__penalty=l1, clf__random_state=123, scaler__with_mean=True \n",
      "[CV]  clf__C=0.0005994842503189409, clf__penalty=l2, clf__random_state=123, scaler__with_mean=True, total=   0.6s\n",
      "[CV]  clf__C=0.0005994842503189409, clf__penalty=l2, clf__random_state=123, scaler__with_mean=True, total=   0.9s\n",
      "[CV] clf__C=0.004641588833612777, clf__penalty=l1, clf__random_state=123, scaler__with_mean=True \n",
      "[CV] clf__C=0.004641588833612777, clf__penalty=l1, clf__random_state=123, scaler__with_mean=True \n",
      "[CV]  clf__C=0.0005994842503189409, clf__penalty=l2, clf__random_state=123, scaler__with_mean=True, total=   1.0s\n",
      "[CV] clf__C=0.004641588833612777, clf__penalty=l1, clf__random_state=123, scaler__with_mean=True \n",
      "[CV]  clf__C=0.0005994842503189409, clf__penalty=l2, clf__random_state=123, scaler__with_mean=True, total=   1.1s\n",
      "[CV]  clf__C=0.004641588833612777, clf__penalty=l1, clf__random_state=123, scaler__with_mean=False, total=   0.7s\n",
      "[CV] clf__C=0.004641588833612777, clf__penalty=l1, clf__random_state=123, scaler__with_mean=True \n",
      "[CV]  clf__C=0.004641588833612777, clf__penalty=l1, clf__random_state=123, scaler__with_mean=False, total=   0.5s\n",
      "[CV] clf__C=0.004641588833612777, clf__penalty=l2, clf__random_state=123, scaler__with_mean=False \n",
      "[CV] clf__C=0.004641588833612777, clf__penalty=l2, clf__random_state=123, scaler__with_mean=False \n",
      "[CV]  clf__C=0.004641588833612777, clf__penalty=l1, clf__random_state=123, scaler__with_mean=False, total=   0.6s\n",
      "[CV] clf__C=0.004641588833612777, clf__penalty=l2, clf__random_state=123, scaler__with_mean=False \n",
      "[CV]  clf__C=0.004641588833612777, clf__penalty=l1, clf__random_state=123, scaler__with_mean=True, total=   0.4s\n",
      "[CV] clf__C=0.004641588833612777, clf__penalty=l2, clf__random_state=123, scaler__with_mean=False \n",
      "[CV]  clf__C=0.004641588833612777, clf__penalty=l1, clf__random_state=123, scaler__with_mean=True, total=   0.6s\n",
      "[CV]  clf__C=0.004641588833612777, clf__penalty=l1, clf__random_state=123, scaler__with_mean=True, total=   0.7s\n",
      "[CV] clf__C=0.004641588833612777, clf__penalty=l2, clf__random_state=123, scaler__with_mean=False \n",
      "[CV]  clf__C=0.004641588833612777, clf__penalty=l1, clf__random_state=123, scaler__with_mean=True, total=   0.6s\n",
      "[CV] clf__C=0.004641588833612777, clf__penalty=l2, clf__random_state=123, scaler__with_mean=True \n",
      "[CV]  clf__C=0.004641588833612777, clf__penalty=l2, clf__random_state=123, scaler__with_mean=False, total=   0.4s\n",
      "[CV] clf__C=0.004641588833612777, clf__penalty=l2, clf__random_state=123, scaler__with_mean=True \n",
      "[CV] clf__C=0.004641588833612777, clf__penalty=l2, clf__random_state=123, scaler__with_mean=True \n",
      "[CV]  clf__C=0.004641588833612777, clf__penalty=l1, clf__random_state=123, scaler__with_mean=True, total=   0.6s\n",
      "[CV] clf__C=0.004641588833612777, clf__penalty=l2, clf__random_state=123, scaler__with_mean=True \n",
      "[CV]  clf__C=0.004641588833612777, clf__penalty=l2, clf__random_state=123, scaler__with_mean=False, total=   0.4s\n",
      "[CV]  clf__C=0.004641588833612777, clf__penalty=l2, clf__random_state=123, scaler__with_mean=False, total=   0.6s\n",
      "[CV] clf__C=0.004641588833612777, clf__penalty=l2, clf__random_state=123, scaler__with_mean=True \n",
      "[CV] clf__C=0.03593813663804626, clf__penalty=l1, clf__random_state=123, scaler__with_mean=False \n",
      "[CV]  clf__C=0.004641588833612777, clf__penalty=l2, clf__random_state=123, scaler__with_mean=False, total=   0.6s\n",
      "[CV] clf__C=0.03593813663804626, clf__penalty=l1, clf__random_state=123, scaler__with_mean=False \n",
      "[CV]  clf__C=0.004641588833612777, clf__penalty=l2, clf__random_state=123, scaler__with_mean=False, total=   0.7s\n",
      "[CV] clf__C=0.03593813663804626, clf__penalty=l1, clf__random_state=123, scaler__with_mean=False \n",
      "[CV]  clf__C=0.03593813663804626, clf__penalty=l1, clf__random_state=123, scaler__with_mean=False, total=   0.4s\n",
      "[CV]  clf__C=0.03593813663804626, clf__penalty=l1, clf__random_state=123, scaler__with_mean=False, total=   0.5s\n",
      "[CV] clf__C=0.03593813663804626, clf__penalty=l1, clf__random_state=123, scaler__with_mean=False \n",
      "[CV] clf__C=0.03593813663804626, clf__penalty=l1, clf__random_state=123, scaler__with_mean=False \n",
      "[CV]  clf__C=0.004641588833612777, clf__penalty=l2, clf__random_state=123, scaler__with_mean=True, total=   1.3s\n",
      "[CV]  clf__C=0.004641588833612777, clf__penalty=l2, clf__random_state=123, scaler__with_mean=True, total=   1.3s\n",
      "[CV]  clf__C=0.03593813663804626, clf__penalty=l1, clf__random_state=123, scaler__with_mean=False, total=   0.5s\n",
      "[CV]  clf__C=0.03593813663804626, clf__penalty=l1, clf__random_state=123, scaler__with_mean=False, total=   0.4s\n",
      "[CV] clf__C=0.03593813663804626, clf__penalty=l1, clf__random_state=123, scaler__with_mean=True \n",
      "[CV] clf__C=0.03593813663804626, clf__penalty=l1, clf__random_state=123, scaler__with_mean=True \n",
      "[CV]  clf__C=0.03593813663804626, clf__penalty=l1, clf__random_state=123, scaler__with_mean=False, total=   0.6s\n",
      "[CV] clf__C=0.03593813663804626, clf__penalty=l1, clf__random_state=123, scaler__with_mean=True \n",
      "[CV]  clf__C=0.004641588833612777, clf__penalty=l2, clf__random_state=123, scaler__with_mean=True, total=   1.2s\n",
      "[CV]  clf__C=0.004641588833612777, clf__penalty=l2, clf__random_state=123, scaler__with_mean=True, total=   1.3s\n",
      "[CV]  clf__C=0.004641588833612777, clf__penalty=l2, clf__random_state=123, scaler__with_mean=True, total=   1.5s\n",
      "[CV] clf__C=0.03593813663804626, clf__penalty=l1, clf__random_state=123, scaler__with_mean=True \n",
      "[CV] clf__C=0.03593813663804626, clf__penalty=l1, clf__random_state=123, scaler__with_mean=True \n",
      "[CV] clf__C=0.03593813663804626, clf__penalty=l2, clf__random_state=123, scaler__with_mean=False \n",
      "[CV] clf__C=0.03593813663804626, clf__penalty=l2, clf__random_state=123, scaler__with_mean=False \n",
      "[CV] clf__C=0.03593813663804626, clf__penalty=l2, clf__random_state=123, scaler__with_mean=False \n",
      "[CV]  clf__C=0.03593813663804626, clf__penalty=l2, clf__random_state=123, scaler__with_mean=False, total=   0.5s\n",
      "[CV] clf__C=0.03593813663804626, clf__penalty=l2, clf__random_state=123, scaler__with_mean=False \n",
      "[CV]  clf__C=0.03593813663804626, clf__penalty=l2, clf__random_state=123, scaler__with_mean=False, total=   0.7s\n",
      "[CV] clf__C=0.03593813663804626, clf__penalty=l2, clf__random_state=123, scaler__with_mean=False \n",
      "[CV]  clf__C=0.03593813663804626, clf__penalty=l2, clf__random_state=123, scaler__with_mean=False, total=   0.8s\n",
      "[CV]  clf__C=0.03593813663804626, clf__penalty=l1, clf__random_state=123, scaler__with_mean=True, total=   1.0s\n",
      "[CV] clf__C=0.03593813663804626, clf__penalty=l2, clf__random_state=123, scaler__with_mean=True \n",
      "[CV] clf__C=0.03593813663804626, clf__penalty=l2, clf__random_state=123, scaler__with_mean=True \n",
      "[CV]  clf__C=0.03593813663804626, clf__penalty=l1, clf__random_state=123, scaler__with_mean=True, total=   1.2s\n",
      "[CV] clf__C=0.03593813663804626, clf__penalty=l2, clf__random_state=123, scaler__with_mean=True \n",
      "[CV]  clf__C=0.03593813663804626, clf__penalty=l1, clf__random_state=123, scaler__with_mean=True, total=   1.3s\n",
      "[CV] clf__C=0.03593813663804626, clf__penalty=l2, clf__random_state=123, scaler__with_mean=True \n",
      "[CV]  clf__C=0.03593813663804626, clf__penalty=l2, clf__random_state=123, scaler__with_mean=False, total=   0.7s\n",
      "[CV] clf__C=0.03593813663804626, clf__penalty=l2, clf__random_state=123, scaler__with_mean=True \n",
      "[CV]  clf__C=0.03593813663804626, clf__penalty=l1, clf__random_state=123, scaler__with_mean=True, total=   1.8s\n",
      "[CV]  clf__C=0.03593813663804626, clf__penalty=l2, clf__random_state=123, scaler__with_mean=False, total=   0.8s\n",
      "[CV] clf__C=0.2782559402207126, clf__penalty=l1, clf__random_state=123, scaler__with_mean=False \n",
      "[CV]  clf__C=0.03593813663804626, clf__penalty=l1, clf__random_state=123, scaler__with_mean=True, total=   1.9s\n",
      "[CV] clf__C=0.2782559402207126, clf__penalty=l1, clf__random_state=123, scaler__with_mean=False \n",
      "[CV] clf__C=0.2782559402207126, clf__penalty=l1, clf__random_state=123, scaler__with_mean=False \n",
      "[CV]  clf__C=0.2782559402207126, clf__penalty=l1, clf__random_state=123, scaler__with_mean=False, total=   0.5s\n",
      "[CV] clf__C=0.2782559402207126, clf__penalty=l1, clf__random_state=123, scaler__with_mean=False \n",
      "[CV]  clf__C=0.2782559402207126, clf__penalty=l1, clf__random_state=123, scaler__with_mean=False, total=   0.7s\n",
      "[CV]  clf__C=0.03593813663804626, clf__penalty=l2, clf__random_state=123, scaler__with_mean=True, total=   1.4s\n",
      "[CV] clf__C=0.2782559402207126, clf__penalty=l1, clf__random_state=123, scaler__with_mean=False \n",
      "[CV]  clf__C=0.2782559402207126, clf__penalty=l1, clf__random_state=123, scaler__with_mean=False, total=   0.7s\n",
      "[CV] clf__C=0.2782559402207126, clf__penalty=l1, clf__random_state=123, scaler__with_mean=True \n",
      "[CV] clf__C=0.2782559402207126, clf__penalty=l1, clf__random_state=123, scaler__with_mean=True \n",
      "[CV]  clf__C=0.03593813663804626, clf__penalty=l2, clf__random_state=123, scaler__with_mean=True, total=   1.7s\n",
      "[CV] clf__C=0.2782559402207126, clf__penalty=l1, clf__random_state=123, scaler__with_mean=True \n",
      "[CV]  clf__C=0.03593813663804626, clf__penalty=l2, clf__random_state=123, scaler__with_mean=True, total=   1.7s\n",
      "[CV] clf__C=0.2782559402207126, clf__penalty=l1, clf__random_state=123, scaler__with_mean=True \n",
      "[CV]  clf__C=0.2782559402207126, clf__penalty=l1, clf__random_state=123, scaler__with_mean=False, total=   0.7s\n",
      "[CV]  clf__C=0.03593813663804626, clf__penalty=l2, clf__random_state=123, scaler__with_mean=True, total=   1.9s\n",
      "[CV] clf__C=0.2782559402207126, clf__penalty=l1, clf__random_state=123, scaler__with_mean=True \n",
      "[CV] clf__C=0.2782559402207126, clf__penalty=l2, clf__random_state=123, scaler__with_mean=False \n",
      "[CV]  clf__C=0.2782559402207126, clf__penalty=l1, clf__random_state=123, scaler__with_mean=False, total=   0.8s\n",
      "[CV] clf__C=0.2782559402207126, clf__penalty=l2, clf__random_state=123, scaler__with_mean=False \n",
      "[CV]  clf__C=0.03593813663804626, clf__penalty=l2, clf__random_state=123, scaler__with_mean=True, total=   2.0s\n",
      "[CV] clf__C=0.2782559402207126, clf__penalty=l2, clf__random_state=123, scaler__with_mean=False \n",
      "[CV]  clf__C=0.2782559402207126, clf__penalty=l1, clf__random_state=123, scaler__with_mean=True, total=   0.9s\n",
      "[CV] clf__C=0.2782559402207126, clf__penalty=l2, clf__random_state=123, scaler__with_mean=False \n",
      "[CV]  clf__C=0.2782559402207126, clf__penalty=l1, clf__random_state=123, scaler__with_mean=True, total=   0.9s\n",
      "[CV] clf__C=0.2782559402207126, clf__penalty=l2, clf__random_state=123, scaler__with_mean=False \n",
      "[CV]  clf__C=0.2782559402207126, clf__penalty=l1, clf__random_state=123, scaler__with_mean=True, total=   1.2s\n",
      "[CV] clf__C=0.2782559402207126, clf__penalty=l2, clf__random_state=123, scaler__with_mean=True \n",
      "[CV]  clf__C=0.2782559402207126, clf__penalty=l2, clf__random_state=123, scaler__with_mean=False, total=   0.8s\n",
      "[CV] clf__C=0.2782559402207126, clf__penalty=l2, clf__random_state=123, scaler__with_mean=True \n",
      "[CV]  clf__C=0.2782559402207126, clf__penalty=l2, clf__random_state=123, scaler__with_mean=False, total=   0.8s\n",
      "[CV] clf__C=0.2782559402207126, clf__penalty=l2, clf__random_state=123, scaler__with_mean=True \n",
      "[CV]  clf__C=0.2782559402207126, clf__penalty=l2, clf__random_state=123, scaler__with_mean=False, total=   1.1s\n",
      "[CV] clf__C=0.2782559402207126, clf__penalty=l2, clf__random_state=123, scaler__with_mean=True \n",
      "[CV]  clf__C=0.2782559402207126, clf__penalty=l2, clf__random_state=123, scaler__with_mean=False, total=   0.9s\n",
      "[CV] clf__C=0.2782559402207126, clf__penalty=l2, clf__random_state=123, scaler__with_mean=True \n",
      "[CV]  clf__C=0.2782559402207126, clf__penalty=l2, clf__random_state=123, scaler__with_mean=False, total=   1.2s\n",
      "[CV] clf__C=2.154434690031882, clf__penalty=l1, clf__random_state=123, scaler__with_mean=False \n",
      "[CV]  clf__C=0.2782559402207126, clf__penalty=l2, clf__random_state=123, scaler__with_mean=True, total=   2.5s\n",
      "[CV] clf__C=2.154434690031882, clf__penalty=l1, clf__random_state=123, scaler__with_mean=False \n",
      "[CV]  clf__C=0.2782559402207126, clf__penalty=l2, clf__random_state=123, scaler__with_mean=True, total=   2.8s\n",
      "[CV] clf__C=2.154434690031882, clf__penalty=l1, clf__random_state=123, scaler__with_mean=False \n",
      "[CV]  clf__C=2.154434690031882, clf__penalty=l1, clf__random_state=123, scaler__with_mean=False, total=   1.9s\n",
      "[CV]  clf__C=0.2782559402207126, clf__penalty=l2, clf__random_state=123, scaler__with_mean=True, total=   2.5s\n",
      "[CV] clf__C=2.154434690031882, clf__penalty=l1, clf__random_state=123, scaler__with_mean=False \n",
      "[CV] clf__C=2.154434690031882, clf__penalty=l1, clf__random_state=123, scaler__with_mean=False \n",
      "[CV]  clf__C=0.2782559402207126, clf__penalty=l2, clf__random_state=123, scaler__with_mean=True, total=   2.9s\n",
      "[CV] clf__C=2.154434690031882, clf__penalty=l1, clf__random_state=123, scaler__with_mean=True \n",
      "[CV]  clf__C=0.2782559402207126, clf__penalty=l2, clf__random_state=123, scaler__with_mean=True, total=   3.0s\n",
      "[CV] clf__C=2.154434690031882, clf__penalty=l1, clf__random_state=123, scaler__with_mean=True \n",
      "[CV]  clf__C=2.154434690031882, clf__penalty=l1, clf__random_state=123, scaler__with_mean=False, total=   1.1s\n",
      "[CV] clf__C=2.154434690031882, clf__penalty=l1, clf__random_state=123, scaler__with_mean=True \n",
      "[CV]  clf__C=2.154434690031882, clf__penalty=l1, clf__random_state=123, scaler__with_mean=False, total=   1.0s\n",
      "[CV] clf__C=2.154434690031882, clf__penalty=l1, clf__random_state=123, scaler__with_mean=True \n",
      "[CV]  clf__C=2.154434690031882, clf__penalty=l1, clf__random_state=123, scaler__with_mean=True, total=   0.8s\n",
      "[CV] clf__C=2.154434690031882, clf__penalty=l1, clf__random_state=123, scaler__with_mean=True \n",
      "[CV]  clf__C=2.154434690031882, clf__penalty=l1, clf__random_state=123, scaler__with_mean=True, total=   0.7s\n",
      "[CV] clf__C=2.154434690031882, clf__penalty=l2, clf__random_state=123, scaler__with_mean=False \n",
      "[CV]  clf__C=2.154434690031882, clf__penalty=l1, clf__random_state=123, scaler__with_mean=False, total=   1.7s\n",
      "[CV]  clf__C=2.154434690031882, clf__penalty=l1, clf__random_state=123, scaler__with_mean=False, total=   1.9s\n",
      "[CV] clf__C=2.154434690031882, clf__penalty=l2, clf__random_state=123, scaler__with_mean=False \n",
      "[CV] clf__C=2.154434690031882, clf__penalty=l2, clf__random_state=123, scaler__with_mean=False \n",
      "[CV]  clf__C=2.154434690031882, clf__penalty=l1, clf__random_state=123, scaler__with_mean=True, total=   0.8s\n",
      "[CV] clf__C=2.154434690031882, clf__penalty=l2, clf__random_state=123, scaler__with_mean=False \n",
      "[CV]  clf__C=2.154434690031882, clf__penalty=l1, clf__random_state=123, scaler__with_mean=True, total=   1.2s\n",
      "[CV] clf__C=2.154434690031882, clf__penalty=l2, clf__random_state=123, scaler__with_mean=False \n",
      "[CV]  clf__C=2.154434690031882, clf__penalty=l1, clf__random_state=123, scaler__with_mean=True, total=   1.0s\n",
      "[CV]  clf__C=2.154434690031882, clf__penalty=l2, clf__random_state=123, scaler__with_mean=False, total=   0.8s\n",
      "[CV] clf__C=2.154434690031882, clf__penalty=l2, clf__random_state=123, scaler__with_mean=True \n",
      "[CV] clf__C=2.154434690031882, clf__penalty=l2, clf__random_state=123, scaler__with_mean=True \n",
      "[CV]  clf__C=2.154434690031882, clf__penalty=l2, clf__random_state=123, scaler__with_mean=False, total=   1.1s\n",
      "[CV] clf__C=2.154434690031882, clf__penalty=l2, clf__random_state=123, scaler__with_mean=True \n",
      "[CV]  clf__C=2.154434690031882, clf__penalty=l2, clf__random_state=123, scaler__with_mean=False, total=   0.8s\n",
      "[CV]  clf__C=2.154434690031882, clf__penalty=l2, clf__random_state=123, scaler__with_mean=False, total=   1.0s\n",
      "[CV] clf__C=2.154434690031882, clf__penalty=l2, clf__random_state=123, scaler__with_mean=True \n",
      "[CV] clf__C=2.154434690031882, clf__penalty=l2, clf__random_state=123, scaler__with_mean=True \n",
      "[CV]  clf__C=2.154434690031882, clf__penalty=l2, clf__random_state=123, scaler__with_mean=False, total=   1.3s\n",
      "[CV] clf__C=16.681005372000556, clf__penalty=l1, clf__random_state=123, scaler__with_mean=False \n",
      "[CV]  clf__C=16.681005372000556, clf__penalty=l1, clf__random_state=123, scaler__with_mean=False, total=   0.7s\n",
      "[CV] clf__C=16.681005372000556, clf__penalty=l1, clf__random_state=123, scaler__with_mean=False \n",
      "[CV]  clf__C=2.154434690031882, clf__penalty=l2, clf__random_state=123, scaler__with_mean=True, total=   2.8s\n",
      "[CV] clf__C=16.681005372000556, clf__penalty=l1, clf__random_state=123, scaler__with_mean=False \n",
      "[CV]  clf__C=16.681005372000556, clf__penalty=l1, clf__random_state=123, scaler__with_mean=False, total=   0.5s\n",
      "[CV] clf__C=16.681005372000556, clf__penalty=l1, clf__random_state=123, scaler__with_mean=False \n",
      "[CV]  clf__C=16.681005372000556, clf__penalty=l1, clf__random_state=123, scaler__with_mean=False, total=   0.5s\n",
      "[CV] clf__C=16.681005372000556, clf__penalty=l1, clf__random_state=123, scaler__with_mean=False \n",
      "[CV]  clf__C=2.154434690031882, clf__penalty=l2, clf__random_state=123, scaler__with_mean=True, total=   3.5s\n",
      "[CV]  clf__C=2.154434690031882, clf__penalty=l2, clf__random_state=123, scaler__with_mean=True, total=   3.1s\n",
      "[CV] clf__C=16.681005372000556, clf__penalty=l1, clf__random_state=123, scaler__with_mean=True \n",
      "[CV]  clf__C=16.681005372000556, clf__penalty=l1, clf__random_state=123, scaler__with_mean=False, total=   0.7s\n",
      "[CV] clf__C=16.681005372000556, clf__penalty=l1, clf__random_state=123, scaler__with_mean=True \n",
      "[CV] clf__C=16.681005372000556, clf__penalty=l1, clf__random_state=123, scaler__with_mean=True \n",
      "[CV]  clf__C=2.154434690031882, clf__penalty=l2, clf__random_state=123, scaler__with_mean=True, total=   3.4s\n",
      "[CV] clf__C=16.681005372000556, clf__penalty=l1, clf__random_state=123, scaler__with_mean=True \n",
      "[CV]  clf__C=2.154434690031882, clf__penalty=l2, clf__random_state=123, scaler__with_mean=True, total=   3.8s\n",
      "[CV] clf__C=16.681005372000556, clf__penalty=l1, clf__random_state=123, scaler__with_mean=True \n",
      "[CV]  clf__C=16.681005372000556, clf__penalty=l1, clf__random_state=123, scaler__with_mean=False, total=   0.5s\n",
      "[CV] clf__C=16.681005372000556, clf__penalty=l2, clf__random_state=123, scaler__with_mean=False \n",
      "[CV]  clf__C=16.681005372000556, clf__penalty=l1, clf__random_state=123, scaler__with_mean=True, total=   0.8s\n",
      "[CV]  clf__C=16.681005372000556, clf__penalty=l1, clf__random_state=123, scaler__with_mean=True, total=   1.0s\n",
      "[CV] clf__C=16.681005372000556, clf__penalty=l2, clf__random_state=123, scaler__with_mean=False \n",
      "[CV]  clf__C=16.681005372000556, clf__penalty=l1, clf__random_state=123, scaler__with_mean=True, total=   0.9s\n",
      "[CV] clf__C=16.681005372000556, clf__penalty=l2, clf__random_state=123, scaler__with_mean=False \n",
      "[CV] clf__C=16.681005372000556, clf__penalty=l2, clf__random_state=123, scaler__with_mean=False \n"
     ]
    },
    {
     "name": "stderr",
     "output_type": "stream",
     "text": [
      "[Parallel(n_jobs=-1)]: Done 146 tasks      | elapsed:   23.8s\n"
     ]
    },
    {
     "name": "stdout",
     "output_type": "stream",
     "text": [
      "[CV]  clf__C=16.681005372000556, clf__penalty=l1, clf__random_state=123, scaler__with_mean=True, total=   0.8s\n",
      "[CV] clf__C=16.681005372000556, clf__penalty=l2, clf__random_state=123, scaler__with_mean=False \n",
      "[CV]  clf__C=16.681005372000556, clf__penalty=l1, clf__random_state=123, scaler__with_mean=True, total=   1.1s\n",
      "[CV] clf__C=16.681005372000556, clf__penalty=l2, clf__random_state=123, scaler__with_mean=True \n",
      "[CV]  clf__C=16.681005372000556, clf__penalty=l2, clf__random_state=123, scaler__with_mean=False, total=   1.0s\n",
      "[CV] clf__C=16.681005372000556, clf__penalty=l2, clf__random_state=123, scaler__with_mean=True \n",
      "[CV]  clf__C=16.681005372000556, clf__penalty=l2, clf__random_state=123, scaler__with_mean=False, total=   1.2s\n",
      "[CV] clf__C=16.681005372000556, clf__penalty=l2, clf__random_state=123, scaler__with_mean=True \n",
      "[CV]  clf__C=16.681005372000556, clf__penalty=l2, clf__random_state=123, scaler__with_mean=False, total=   1.3s\n",
      "[CV]  clf__C=16.681005372000556, clf__penalty=l2, clf__random_state=123, scaler__with_mean=False, total=   1.0s\n",
      "[CV] clf__C=16.681005372000556, clf__penalty=l2, clf__random_state=123, scaler__with_mean=True \n",
      "[CV]  clf__C=16.681005372000556, clf__penalty=l2, clf__random_state=123, scaler__with_mean=False, total=   1.5s\n",
      "[CV] clf__C=16.681005372000556, clf__penalty=l2, clf__random_state=123, scaler__with_mean=True \n",
      "[CV] clf__C=129.15496650148827, clf__penalty=l1, clf__random_state=123, scaler__with_mean=False \n",
      "[CV]  clf__C=0.2782559402207126, clf__penalty=l1, clf__random_state=123, scaler__with_mean=True, total=  13.5s\n",
      "[CV] clf__C=129.15496650148827, clf__penalty=l1, clf__random_state=123, scaler__with_mean=False \n",
      "[CV]  clf__C=129.15496650148827, clf__penalty=l1, clf__random_state=123, scaler__with_mean=False, total=   0.5s\n",
      "[CV] clf__C=129.15496650148827, clf__penalty=l1, clf__random_state=123, scaler__with_mean=False \n",
      "[CV]  clf__C=0.2782559402207126, clf__penalty=l1, clf__random_state=123, scaler__with_mean=True, total=  14.2s\n",
      "[CV] clf__C=129.15496650148827, clf__penalty=l1, clf__random_state=123, scaler__with_mean=False \n",
      "[CV]  clf__C=129.15496650148827, clf__penalty=l1, clf__random_state=123, scaler__with_mean=False, total=   0.4s\n",
      "[CV] clf__C=129.15496650148827, clf__penalty=l1, clf__random_state=123, scaler__with_mean=False \n",
      "[CV]  clf__C=129.15496650148827, clf__penalty=l1, clf__random_state=123, scaler__with_mean=False, total=   0.6s\n",
      "[CV] clf__C=129.15496650148827, clf__penalty=l1, clf__random_state=123, scaler__with_mean=True \n",
      "[CV]  clf__C=129.15496650148827, clf__penalty=l1, clf__random_state=123, scaler__with_mean=False, total=   0.4s\n",
      "[CV] clf__C=129.15496650148827, clf__penalty=l1, clf__random_state=123, scaler__with_mean=True \n",
      "[CV]  clf__C=129.15496650148827, clf__penalty=l1, clf__random_state=123, scaler__with_mean=False, total=   0.7s\n",
      "[CV] clf__C=129.15496650148827, clf__penalty=l1, clf__random_state=123, scaler__with_mean=True \n",
      "[CV]  clf__C=16.681005372000556, clf__penalty=l2, clf__random_state=123, scaler__with_mean=True, total=   3.0s\n",
      "[CV] clf__C=129.15496650148827, clf__penalty=l1, clf__random_state=123, scaler__with_mean=True \n",
      "[CV]  clf__C=129.15496650148827, clf__penalty=l1, clf__random_state=123, scaler__with_mean=True, total=   1.0s\n",
      "[CV] clf__C=129.15496650148827, clf__penalty=l1, clf__random_state=123, scaler__with_mean=True \n",
      "[CV]  clf__C=16.681005372000556, clf__penalty=l2, clf__random_state=123, scaler__with_mean=True, total=   2.7s\n",
      "[CV] clf__C=129.15496650148827, clf__penalty=l2, clf__random_state=123, scaler__with_mean=False \n",
      "[CV]  clf__C=129.15496650148827, clf__penalty=l1, clf__random_state=123, scaler__with_mean=True, total=   1.0s\n",
      "[CV] clf__C=129.15496650148827, clf__penalty=l2, clf__random_state=123, scaler__with_mean=False \n",
      "[CV]  clf__C=16.681005372000556, clf__penalty=l2, clf__random_state=123, scaler__with_mean=True, total=   4.2s\n",
      "[CV] clf__C=129.15496650148827, clf__penalty=l2, clf__random_state=123, scaler__with_mean=False \n",
      "[CV]  clf__C=129.15496650148827, clf__penalty=l1, clf__random_state=123, scaler__with_mean=True, total=   1.0s\n",
      "[CV]  clf__C=129.15496650148827, clf__penalty=l1, clf__random_state=123, scaler__with_mean=True, total=   1.5s\n",
      "[CV]  clf__C=16.681005372000556, clf__penalty=l2, clf__random_state=123, scaler__with_mean=True, total=   3.6s\n",
      "[CV] clf__C=129.15496650148827, clf__penalty=l2, clf__random_state=123, scaler__with_mean=False \n",
      "[CV]  clf__C=16.681005372000556, clf__penalty=l2, clf__random_state=123, scaler__with_mean=True, total=   3.5s\n",
      "[CV] clf__C=129.15496650148827, clf__penalty=l2, clf__random_state=123, scaler__with_mean=False \n",
      "[CV] clf__C=129.15496650148827, clf__penalty=l2, clf__random_state=123, scaler__with_mean=True \n",
      "[CV] clf__C=129.15496650148827, clf__penalty=l2, clf__random_state=123, scaler__with_mean=True \n",
      "[CV]  clf__C=129.15496650148827, clf__penalty=l1, clf__random_state=123, scaler__with_mean=True, total=   0.9s\n",
      "[CV] clf__C=129.15496650148827, clf__penalty=l2, clf__random_state=123, scaler__with_mean=True \n",
      "[CV]  clf__C=129.15496650148827, clf__penalty=l2, clf__random_state=123, scaler__with_mean=False, total=   0.9s\n",
      "[CV] clf__C=129.15496650148827, clf__penalty=l2, clf__random_state=123, scaler__with_mean=True \n",
      "[CV]  clf__C=129.15496650148827, clf__penalty=l2, clf__random_state=123, scaler__with_mean=False, total=   0.9s\n",
      "[CV] clf__C=129.15496650148827, clf__penalty=l2, clf__random_state=123, scaler__with_mean=True \n",
      "[CV]  clf__C=129.15496650148827, clf__penalty=l2, clf__random_state=123, scaler__with_mean=False, total=   1.0s\n",
      "[CV] clf__C=1000.0, clf__penalty=l1, clf__random_state=123, scaler__with_mean=False \n",
      "[CV]  clf__C=129.15496650148827, clf__penalty=l2, clf__random_state=123, scaler__with_mean=False, total=   1.4s\n",
      "[CV] clf__C=1000.0, clf__penalty=l1, clf__random_state=123, scaler__with_mean=False \n",
      "[CV]  clf__C=129.15496650148827, clf__penalty=l2, clf__random_state=123, scaler__with_mean=False, total=   1.2s\n",
      "[CV] clf__C=1000.0, clf__penalty=l1, clf__random_state=123, scaler__with_mean=False \n",
      "[CV]  clf__C=1000.0, clf__penalty=l1, clf__random_state=123, scaler__with_mean=False, total=   0.6s\n",
      "[CV]  clf__C=1000.0, clf__penalty=l1, clf__random_state=123, scaler__with_mean=False, total=   0.6s\n",
      "[CV] clf__C=1000.0, clf__penalty=l1, clf__random_state=123, scaler__with_mean=False \n",
      "[CV] clf__C=1000.0, clf__penalty=l1, clf__random_state=123, scaler__with_mean=False \n",
      "[CV]  clf__C=1000.0, clf__penalty=l1, clf__random_state=123, scaler__with_mean=False, total=   0.9s\n",
      "[CV] clf__C=1000.0, clf__penalty=l1, clf__random_state=123, scaler__with_mean=True \n",
      "[CV]  clf__C=1000.0, clf__penalty=l1, clf__random_state=123, scaler__with_mean=False, total=   0.4s\n",
      "[CV] clf__C=1000.0, clf__penalty=l1, clf__random_state=123, scaler__with_mean=True \n",
      "[CV]  clf__C=1000.0, clf__penalty=l1, clf__random_state=123, scaler__with_mean=False, total=   0.7s\n",
      "[CV] clf__C=1000.0, clf__penalty=l1, clf__random_state=123, scaler__with_mean=True \n",
      "[CV]  clf__C=129.15496650148827, clf__penalty=l2, clf__random_state=123, scaler__with_mean=True, total=   2.6s\n",
      "[CV] clf__C=1000.0, clf__penalty=l1, clf__random_state=123, scaler__with_mean=True \n",
      "[CV]  clf__C=1000.0, clf__penalty=l1, clf__random_state=123, scaler__with_mean=True, total=   1.0s\n",
      "[CV] clf__C=1000.0, clf__penalty=l1, clf__random_state=123, scaler__with_mean=True \n",
      "[CV]  clf__C=129.15496650148827, clf__penalty=l2, clf__random_state=123, scaler__with_mean=True, total=   3.3s\n",
      "[CV] clf__C=1000.0, clf__penalty=l2, clf__random_state=123, scaler__with_mean=False \n",
      "[CV]  clf__C=1000.0, clf__penalty=l1, clf__random_state=123, scaler__with_mean=True, total=   1.0s\n",
      "[CV]  clf__C=1000.0, clf__penalty=l1, clf__random_state=123, scaler__with_mean=True, total=   1.4s\n",
      "[CV] clf__C=1000.0, clf__penalty=l2, clf__random_state=123, scaler__with_mean=False \n",
      "[CV]  clf__C=129.15496650148827, clf__penalty=l2, clf__random_state=123, scaler__with_mean=True, total=   3.8s\n",
      "[CV] clf__C=1000.0, clf__penalty=l2, clf__random_state=123, scaler__with_mean=False \n",
      "[CV] clf__C=1000.0, clf__penalty=l2, clf__random_state=123, scaler__with_mean=False \n",
      "[CV]  clf__C=129.15496650148827, clf__penalty=l2, clf__random_state=123, scaler__with_mean=True, total=   3.8s\n",
      "[CV]  clf__C=129.15496650148827, clf__penalty=l2, clf__random_state=123, scaler__with_mean=True, total=   4.0s\n",
      "[CV] clf__C=1000.0, clf__penalty=l2, clf__random_state=123, scaler__with_mean=False \n",
      "[CV] clf__C=1000.0, clf__penalty=l2, clf__random_state=123, scaler__with_mean=True \n",
      "[CV]  clf__C=1000.0, clf__penalty=l2, clf__random_state=123, scaler__with_mean=False, total=   0.8s\n",
      "[CV]  clf__C=1000.0, clf__penalty=l1, clf__random_state=123, scaler__with_mean=True, total=   1.0s\n",
      "[CV] clf__C=1000.0, clf__penalty=l2, clf__random_state=123, scaler__with_mean=True \n",
      "[CV] clf__C=1000.0, clf__penalty=l2, clf__random_state=123, scaler__with_mean=True \n",
      "[CV]  clf__C=1000.0, clf__penalty=l1, clf__random_state=123, scaler__with_mean=True, total=   1.3s\n",
      "[CV] clf__C=1000.0, clf__penalty=l2, clf__random_state=123, scaler__with_mean=True \n",
      "[CV]  clf__C=1000.0, clf__penalty=l2, clf__random_state=123, scaler__with_mean=False, total=   0.8s\n",
      "[CV] clf__C=1000.0, clf__penalty=l2, clf__random_state=123, scaler__with_mean=True \n",
      "[CV]  clf__C=1000.0, clf__penalty=l2, clf__random_state=123, scaler__with_mean=False, total=   0.7s\n",
      "[CV]  clf__C=1000.0, clf__penalty=l2, clf__random_state=123, scaler__with_mean=False, total=   1.2s\n",
      "[CV]  clf__C=1000.0, clf__penalty=l2, clf__random_state=123, scaler__with_mean=False, total=   1.3s\n",
      "[CV]  clf__C=1000.0, clf__penalty=l2, clf__random_state=123, scaler__with_mean=True, total=   2.6s\n",
      "[CV]  clf__C=1000.0, clf__penalty=l2, clf__random_state=123, scaler__with_mean=True, total=   2.6s\n",
      "[CV]  clf__C=1000.0, clf__penalty=l2, clf__random_state=123, scaler__with_mean=True, total=   3.1s\n",
      "[CV]  clf__C=1000.0, clf__penalty=l2, clf__random_state=123, scaler__with_mean=True, total=   2.9s\n",
      "[CV]  clf__C=1000.0, clf__penalty=l2, clf__random_state=123, scaler__with_mean=True, total=   2.8s\n"
     ]
    },
    {
     "name": "stderr",
     "output_type": "stream",
     "text": [
      "[Parallel(n_jobs=-1)]: Done 200 out of 200 | elapsed:   36.9s finished\n"
     ]
    },
    {
     "data": {
      "text/plain": [
       "GridSearchCV(cv=StratifiedKFold(n_splits=5, random_state=123, shuffle=True),\n",
       "       error_score='raise',\n",
       "       estimator=Pipeline(memory=None,\n",
       "     steps=[('scaler', StandardScaler(copy=True, with_mean=True, with_std=True)), ('clf', LogisticRegression(C=1.0, class_weight=None, dual=False, fit_intercept=True,\n",
       "          intercept_scaling=1, max_iter=100, multi_class='ovr', n_jobs=1,\n",
       "          penalty='l2', random_state=None, solver='liblinear', tol=0.0001,\n",
       "          verbose=0, warm_start=False))]),\n",
       "       fit_params=None, iid=True, n_jobs=-1,\n",
       "       param_grid={'scaler__with_mean': [False, True], 'clf__penalty': ['l1', 'l2'], 'clf__random_state': [123], 'clf__C': array([1.00000e-05, 7.74264e-05, 5.99484e-04, 4.64159e-03, 3.59381e-02,\n",
       "       2.78256e-01, 2.15443e+00, 1.66810e+01, 1.29155e+02, 1.00000e+03])},\n",
       "       pre_dispatch='2*n_jobs', refit=True, return_train_score='warn',\n",
       "       scoring='roc_auc', verbose=2)"
      ]
     },
     "execution_count": 22,
     "metadata": {},
     "output_type": "execute_result"
    }
   ],
   "source": [
    "grid_searcher = GridSearchCV(model, param_grid, \n",
    "                             scoring='roc_auc', \n",
    "                             n_jobs=-1, cv=cv, \n",
    "                             verbose=2)\n",
    "\n",
    "grid_searcher.fit(X, y)"
   ]
  },
  {
   "cell_type": "markdown",
   "metadata": {},
   "source": [
    "На выходе в grid_searcher можно посмотреть, какая комбинация оказалась наилучшей, сколько занял рачет и напрямую достать лучшую модель."
   ]
  },
  {
   "cell_type": "code",
   "execution_count": 23,
   "metadata": {
    "collapsed": false
   },
   "outputs": [
    {
     "data": {
      "text/plain": [
       "{'clf__C': 0.03593813663804626,\n",
       " 'clf__penalty': 'l1',\n",
       " 'clf__random_state': 123,\n",
       " 'scaler__with_mean': True}"
      ]
     },
     "execution_count": 23,
     "metadata": {},
     "output_type": "execute_result"
    }
   ],
   "source": [
    "grid_searcher.best_params_"
   ]
  },
  {
   "cell_type": "code",
   "execution_count": 24,
   "metadata": {
    "collapsed": false
   },
   "outputs": [
    {
     "data": {
      "text/plain": [
       "0.8333700479549012"
      ]
     },
     "execution_count": 24,
     "metadata": {},
     "output_type": "execute_result"
    }
   ],
   "source": [
    "grid_searcher.best_score_"
   ]
  },
  {
   "cell_type": "code",
   "execution_count": 25,
   "metadata": {
    "collapsed": false
   },
   "outputs": [
    {
     "name": "stderr",
     "output_type": "stream",
     "text": [
      "/home/alekum/.local/lib/python3.6/site-packages/sklearn/utils/deprecation.py:122: FutureWarning: You are accessing a training score ('split0_train_score'), which will not be available by default any more in 0.21. If you need training scores, please set return_train_score=True\n",
      "  warnings.warn(*warn_args, **warn_kwargs)\n",
      "/home/alekum/.local/lib/python3.6/site-packages/sklearn/utils/deprecation.py:122: FutureWarning: You are accessing a training score ('split1_train_score'), which will not be available by default any more in 0.21. If you need training scores, please set return_train_score=True\n",
      "  warnings.warn(*warn_args, **warn_kwargs)\n",
      "/home/alekum/.local/lib/python3.6/site-packages/sklearn/utils/deprecation.py:122: FutureWarning: You are accessing a training score ('split2_train_score'), which will not be available by default any more in 0.21. If you need training scores, please set return_train_score=True\n",
      "  warnings.warn(*warn_args, **warn_kwargs)\n",
      "/home/alekum/.local/lib/python3.6/site-packages/sklearn/utils/deprecation.py:122: FutureWarning: You are accessing a training score ('split3_train_score'), which will not be available by default any more in 0.21. If you need training scores, please set return_train_score=True\n",
      "  warnings.warn(*warn_args, **warn_kwargs)\n",
      "/home/alekum/.local/lib/python3.6/site-packages/sklearn/utils/deprecation.py:122: FutureWarning: You are accessing a training score ('split4_train_score'), which will not be available by default any more in 0.21. If you need training scores, please set return_train_score=True\n",
      "  warnings.warn(*warn_args, **warn_kwargs)\n",
      "/home/alekum/.local/lib/python3.6/site-packages/sklearn/utils/deprecation.py:122: FutureWarning: You are accessing a training score ('mean_train_score'), which will not be available by default any more in 0.21. If you need training scores, please set return_train_score=True\n",
      "  warnings.warn(*warn_args, **warn_kwargs)\n",
      "/home/alekum/.local/lib/python3.6/site-packages/sklearn/utils/deprecation.py:122: FutureWarning: You are accessing a training score ('std_train_score'), which will not be available by default any more in 0.21. If you need training scores, please set return_train_score=True\n",
      "  warnings.warn(*warn_args, **warn_kwargs)\n"
     ]
    }
   ],
   "source": [
    "results = pd.DataFrame(grid_searcher.cv_results_)"
   ]
  },
  {
   "cell_type": "code",
   "execution_count": 26,
   "metadata": {
    "collapsed": false
   },
   "outputs": [
    {
     "data": {
      "text/html": [
       "<div>\n",
       "<style scoped>\n",
       "    .dataframe tbody tr th:only-of-type {\n",
       "        vertical-align: middle;\n",
       "    }\n",
       "\n",
       "    .dataframe tbody tr th {\n",
       "        vertical-align: top;\n",
       "    }\n",
       "\n",
       "    .dataframe thead th {\n",
       "        text-align: right;\n",
       "    }\n",
       "</style>\n",
       "<table border=\"1\" class=\"dataframe\">\n",
       "  <thead>\n",
       "    <tr style=\"text-align: right;\">\n",
       "      <th></th>\n",
       "      <th>mean_fit_time</th>\n",
       "      <th>std_fit_time</th>\n",
       "      <th>mean_score_time</th>\n",
       "      <th>std_score_time</th>\n",
       "      <th>param_clf__C</th>\n",
       "      <th>param_clf__penalty</th>\n",
       "      <th>param_clf__random_state</th>\n",
       "      <th>param_scaler__with_mean</th>\n",
       "      <th>params</th>\n",
       "      <th>split0_test_score</th>\n",
       "      <th>...</th>\n",
       "      <th>mean_test_score</th>\n",
       "      <th>std_test_score</th>\n",
       "      <th>rank_test_score</th>\n",
       "      <th>split0_train_score</th>\n",
       "      <th>split1_train_score</th>\n",
       "      <th>split2_train_score</th>\n",
       "      <th>split3_train_score</th>\n",
       "      <th>split4_train_score</th>\n",
       "      <th>mean_train_score</th>\n",
       "      <th>std_train_score</th>\n",
       "    </tr>\n",
       "  </thead>\n",
       "  <tbody>\n",
       "    <tr>\n",
       "      <th>0</th>\n",
       "      <td>0.222603</td>\n",
       "      <td>0.078432</td>\n",
       "      <td>0.037341</td>\n",
       "      <td>0.004024</td>\n",
       "      <td>1e-05</td>\n",
       "      <td>l1</td>\n",
       "      <td>123</td>\n",
       "      <td>False</td>\n",
       "      <td>{'clf__C': 1e-05, 'clf__penalty': 'l1', 'clf__...</td>\n",
       "      <td>0.500000</td>\n",
       "      <td>...</td>\n",
       "      <td>0.500000</td>\n",
       "      <td>0.000000</td>\n",
       "      <td>36</td>\n",
       "      <td>0.500000</td>\n",
       "      <td>0.500000</td>\n",
       "      <td>0.500000</td>\n",
       "      <td>0.500000</td>\n",
       "      <td>0.500000</td>\n",
       "      <td>0.500000</td>\n",
       "      <td>0.000000</td>\n",
       "    </tr>\n",
       "    <tr>\n",
       "      <th>1</th>\n",
       "      <td>0.476209</td>\n",
       "      <td>0.139327</td>\n",
       "      <td>0.118773</td>\n",
       "      <td>0.047610</td>\n",
       "      <td>1e-05</td>\n",
       "      <td>l1</td>\n",
       "      <td>123</td>\n",
       "      <td>True</td>\n",
       "      <td>{'clf__C': 1e-05, 'clf__penalty': 'l1', 'clf__...</td>\n",
       "      <td>0.500000</td>\n",
       "      <td>...</td>\n",
       "      <td>0.500000</td>\n",
       "      <td>0.000000</td>\n",
       "      <td>36</td>\n",
       "      <td>0.500000</td>\n",
       "      <td>0.500000</td>\n",
       "      <td>0.500000</td>\n",
       "      <td>0.500000</td>\n",
       "      <td>0.500000</td>\n",
       "      <td>0.500000</td>\n",
       "      <td>0.000000</td>\n",
       "    </tr>\n",
       "    <tr>\n",
       "      <th>2</th>\n",
       "      <td>0.311443</td>\n",
       "      <td>0.068447</td>\n",
       "      <td>0.104655</td>\n",
       "      <td>0.018586</td>\n",
       "      <td>1e-05</td>\n",
       "      <td>l2</td>\n",
       "      <td>123</td>\n",
       "      <td>False</td>\n",
       "      <td>{'clf__C': 1e-05, 'clf__penalty': 'l2', 'clf__...</td>\n",
       "      <td>0.785334</td>\n",
       "      <td>...</td>\n",
       "      <td>0.793321</td>\n",
       "      <td>0.006108</td>\n",
       "      <td>34</td>\n",
       "      <td>0.797821</td>\n",
       "      <td>0.800335</td>\n",
       "      <td>0.800359</td>\n",
       "      <td>0.796988</td>\n",
       "      <td>0.800062</td>\n",
       "      <td>0.799113</td>\n",
       "      <td>0.001423</td>\n",
       "    </tr>\n",
       "    <tr>\n",
       "      <th>3</th>\n",
       "      <td>0.494838</td>\n",
       "      <td>0.145320</td>\n",
       "      <td>0.095012</td>\n",
       "      <td>0.003382</td>\n",
       "      <td>1e-05</td>\n",
       "      <td>l2</td>\n",
       "      <td>123</td>\n",
       "      <td>True</td>\n",
       "      <td>{'clf__C': 1e-05, 'clf__penalty': 'l2', 'clf__...</td>\n",
       "      <td>0.786911</td>\n",
       "      <td>...</td>\n",
       "      <td>0.797828</td>\n",
       "      <td>0.010103</td>\n",
       "      <td>33</td>\n",
       "      <td>0.799328</td>\n",
       "      <td>0.810066</td>\n",
       "      <td>0.808778</td>\n",
       "      <td>0.799038</td>\n",
       "      <td>0.803717</td>\n",
       "      <td>0.804185</td>\n",
       "      <td>0.004604</td>\n",
       "    </tr>\n",
       "    <tr>\n",
       "      <th>4</th>\n",
       "      <td>0.229021</td>\n",
       "      <td>0.095533</td>\n",
       "      <td>0.093473</td>\n",
       "      <td>0.006378</td>\n",
       "      <td>7.74264e-05</td>\n",
       "      <td>l1</td>\n",
       "      <td>123</td>\n",
       "      <td>False</td>\n",
       "      <td>{'clf__C': 7.742636826811278e-05, 'clf__penalt...</td>\n",
       "      <td>0.500000</td>\n",
       "      <td>...</td>\n",
       "      <td>0.500000</td>\n",
       "      <td>0.000000</td>\n",
       "      <td>36</td>\n",
       "      <td>0.500000</td>\n",
       "      <td>0.500000</td>\n",
       "      <td>0.500000</td>\n",
       "      <td>0.500000</td>\n",
       "      <td>0.500000</td>\n",
       "      <td>0.500000</td>\n",
       "      <td>0.000000</td>\n",
       "    </tr>\n",
       "  </tbody>\n",
       "</table>\n",
       "<p>5 rows × 24 columns</p>\n",
       "</div>"
      ],
      "text/plain": [
       "   mean_fit_time  std_fit_time  mean_score_time  std_score_time param_clf__C  \\\n",
       "0       0.222603      0.078432         0.037341        0.004024        1e-05   \n",
       "1       0.476209      0.139327         0.118773        0.047610        1e-05   \n",
       "2       0.311443      0.068447         0.104655        0.018586        1e-05   \n",
       "3       0.494838      0.145320         0.095012        0.003382        1e-05   \n",
       "4       0.229021      0.095533         0.093473        0.006378  7.74264e-05   \n",
       "\n",
       "  param_clf__penalty param_clf__random_state param_scaler__with_mean  \\\n",
       "0                 l1                     123                   False   \n",
       "1                 l1                     123                    True   \n",
       "2                 l2                     123                   False   \n",
       "3                 l2                     123                    True   \n",
       "4                 l1                     123                   False   \n",
       "\n",
       "                                              params  split0_test_score  \\\n",
       "0  {'clf__C': 1e-05, 'clf__penalty': 'l1', 'clf__...           0.500000   \n",
       "1  {'clf__C': 1e-05, 'clf__penalty': 'l1', 'clf__...           0.500000   \n",
       "2  {'clf__C': 1e-05, 'clf__penalty': 'l2', 'clf__...           0.785334   \n",
       "3  {'clf__C': 1e-05, 'clf__penalty': 'l2', 'clf__...           0.786911   \n",
       "4  {'clf__C': 7.742636826811278e-05, 'clf__penalt...           0.500000   \n",
       "\n",
       "        ...         mean_test_score  std_test_score  rank_test_score  \\\n",
       "0       ...                0.500000        0.000000               36   \n",
       "1       ...                0.500000        0.000000               36   \n",
       "2       ...                0.793321        0.006108               34   \n",
       "3       ...                0.797828        0.010103               33   \n",
       "4       ...                0.500000        0.000000               36   \n",
       "\n",
       "   split0_train_score  split1_train_score  split2_train_score  \\\n",
       "0            0.500000            0.500000            0.500000   \n",
       "1            0.500000            0.500000            0.500000   \n",
       "2            0.797821            0.800335            0.800359   \n",
       "3            0.799328            0.810066            0.808778   \n",
       "4            0.500000            0.500000            0.500000   \n",
       "\n",
       "   split3_train_score  split4_train_score  mean_train_score  std_train_score  \n",
       "0            0.500000            0.500000          0.500000         0.000000  \n",
       "1            0.500000            0.500000          0.500000         0.000000  \n",
       "2            0.796988            0.800062          0.799113         0.001423  \n",
       "3            0.799038            0.803717          0.804185         0.004604  \n",
       "4            0.500000            0.500000          0.500000         0.000000  \n",
       "\n",
       "[5 rows x 24 columns]"
      ]
     },
     "execution_count": 26,
     "metadata": {},
     "output_type": "execute_result"
    }
   ],
   "source": [
    "results.head()"
   ]
  },
  {
   "cell_type": "code",
   "execution_count": 27,
   "metadata": {
    "collapsed": true
   },
   "outputs": [],
   "source": [
    "best_model = grid_searcher.best_estimator_"
   ]
  },
  {
   "cell_type": "markdown",
   "metadata": {},
   "source": [
    "#### Random Search"
   ]
  },
  {
   "cell_type": "code",
   "execution_count": 28,
   "metadata": {
    "collapsed": true
   },
   "outputs": [],
   "source": [
    "from scipy.stats import randint as sp_randint\n",
    "from scipy.stats import lognorm as sp_lognorm"
   ]
  },
  {
   "cell_type": "code",
   "execution_count": 29,
   "metadata": {
    "collapsed": false
   },
   "outputs": [
    {
     "data": {
      "text/plain": [
       "0.006327727514235228"
      ]
     },
     "execution_count": 29,
     "metadata": {},
     "output_type": "execute_result"
    }
   ],
   "source": [
    "sp_lognorm(4).rvs()"
   ]
  },
  {
   "cell_type": "code",
   "execution_count": 30,
   "metadata": {
    "collapsed": false
   },
   "outputs": [
    {
     "name": "stdout",
     "output_type": "stream",
     "text": [
      "{'scaler__with_mean': [False, True], 'clf__penalty': ['l1', 'l2'], 'clf__random_state': [123], 'clf__C': <scipy.stats._distn_infrastructure.rv_frozen object at 0x7f1981824d30>}\n"
     ]
    }
   ],
   "source": [
    "# Задаем значения параметров, которые хотим проверить\n",
    "# Теперь с распределениями\n",
    "param_grid = {\n",
    "    'scaler__with_mean': [False, True],\n",
    "    'clf__penalty': ['l1', 'l2'],\n",
    "    'clf__random_state': [RND_SEED],\n",
    "    'clf__C': sp_lognorm(4)\n",
    "}\n",
    "\n",
    "print(param_grid)"
   ]
  },
  {
   "cell_type": "code",
   "execution_count": 31,
   "metadata": {
    "collapsed": false,
    "scrolled": true
   },
   "outputs": [
    {
     "name": "stdout",
     "output_type": "stream",
     "text": [
      "Fitting 5 folds for each of 20 candidates, totalling 100 fits\n",
      "[CV] clf__C=0.013003686130638284, clf__penalty=l1, clf__random_state=123, scaler__with_mean=False \n",
      "[CV] clf__C=0.013003686130638284, clf__penalty=l1, clf__random_state=123, scaler__with_mean=False \n",
      "[CV] clf__C=0.013003686130638284, clf__penalty=l1, clf__random_state=123, scaler__with_mean=False \n",
      "[CV] clf__C=0.013003686130638284, clf__penalty=l1, clf__random_state=123, scaler__with_mean=False \n",
      "[CV] clf__C=0.013003686130638284, clf__penalty=l1, clf__random_state=123, scaler__with_mean=False \n",
      "[CV] clf__C=54.02148221946703, clf__penalty=l1, clf__random_state=123, scaler__with_mean=True \n",
      "[CV] clf__C=54.02148221946703, clf__penalty=l1, clf__random_state=123, scaler__with_mean=True \n",
      "[CV] clf__C=54.02148221946703, clf__penalty=l1, clf__random_state=123, scaler__with_mean=True \n",
      "[CV]  clf__C=0.013003686130638284, clf__penalty=l1, clf__random_state=123, scaler__with_mean=False, total=   0.2s\n",
      "[CV] clf__C=54.02148221946703, clf__penalty=l1, clf__random_state=123, scaler__with_mean=True \n",
      "[CV]  clf__C=0.013003686130638284, clf__penalty=l1, clf__random_state=123, scaler__with_mean=False, total=   0.3s\n",
      "[CV] clf__C=54.02148221946703, clf__penalty=l1, clf__random_state=123, scaler__with_mean=True \n",
      "[CV]  clf__C=0.013003686130638284, clf__penalty=l1, clf__random_state=123, scaler__with_mean=False, total=   0.4s\n",
      "[CV]  clf__C=0.013003686130638284, clf__penalty=l1, clf__random_state=123, scaler__with_mean=False, total=   0.3s\n",
      "[CV] clf__C=0.09882536189042468, clf__penalty=l1, clf__random_state=123, scaler__with_mean=True \n",
      "[CV] clf__C=0.09882536189042468, clf__penalty=l1, clf__random_state=123, scaler__with_mean=True \n",
      "[CV]  clf__C=0.013003686130638284, clf__penalty=l1, clf__random_state=123, scaler__with_mean=False, total=   0.4s\n",
      "[CV] clf__C=0.09882536189042468, clf__penalty=l1, clf__random_state=123, scaler__with_mean=True \n",
      "[CV]  clf__C=54.02148221946703, clf__penalty=l1, clf__random_state=123, scaler__with_mean=True, total=   1.0s\n",
      "[CV] clf__C=0.09882536189042468, clf__penalty=l1, clf__random_state=123, scaler__with_mean=True \n",
      "[CV]  clf__C=54.02148221946703, clf__penalty=l1, clf__random_state=123, scaler__with_mean=True, total=   0.9s\n",
      "[CV] clf__C=0.09882536189042468, clf__penalty=l1, clf__random_state=123, scaler__with_mean=True \n",
      "[CV]  clf__C=54.02148221946703, clf__penalty=l1, clf__random_state=123, scaler__with_mean=True, total=   1.2s\n",
      "[CV]  clf__C=54.02148221946703, clf__penalty=l1, clf__random_state=123, scaler__with_mean=True, total=   1.1s\n",
      "[CV] clf__C=739.3313143249965, clf__penalty=l1, clf__random_state=123, scaler__with_mean=True \n",
      "[CV] clf__C=739.3313143249965, clf__penalty=l1, clf__random_state=123, scaler__with_mean=True \n",
      "[CV]  clf__C=54.02148221946703, clf__penalty=l1, clf__random_state=123, scaler__with_mean=True, total=   1.3s\n",
      "[CV] clf__C=739.3313143249965, clf__penalty=l1, clf__random_state=123, scaler__with_mean=True \n",
      "[CV]  clf__C=739.3313143249965, clf__penalty=l1, clf__random_state=123, scaler__with_mean=True, total=   0.8s\n",
      "[CV]  clf__C=739.3313143249965, clf__penalty=l1, clf__random_state=123, scaler__with_mean=True, total=   0.8s\n",
      "[CV]  clf__C=739.3313143249965, clf__penalty=l1, clf__random_state=123, scaler__with_mean=True, total=   0.8s\n",
      "[CV] clf__C=739.3313143249965, clf__penalty=l1, clf__random_state=123, scaler__with_mean=True \n",
      "[CV] clf__C=739.3313143249965, clf__penalty=l1, clf__random_state=123, scaler__with_mean=True \n",
      "[CV] clf__C=6.0873234832561394e-05, clf__penalty=l1, clf__random_state=123, scaler__with_mean=False \n",
      "[CV]  clf__C=6.0873234832561394e-05, clf__penalty=l1, clf__random_state=123, scaler__with_mean=False, total=   0.2s\n",
      "[CV] clf__C=6.0873234832561394e-05, clf__penalty=l1, clf__random_state=123, scaler__with_mean=False \n",
      "[CV]  clf__C=6.0873234832561394e-05, clf__penalty=l1, clf__random_state=123, scaler__with_mean=False, total=   0.2s\n",
      "[CV]  clf__C=739.3313143249965, clf__penalty=l1, clf__random_state=123, scaler__with_mean=True, total=   0.8s\n",
      "[CV] clf__C=6.0873234832561394e-05, clf__penalty=l1, clf__random_state=123, scaler__with_mean=False \n",
      "[CV]  clf__C=739.3313143249965, clf__penalty=l1, clf__random_state=123, scaler__with_mean=True, total=   0.9s\n",
      "[CV] clf__C=6.0873234832561394e-05, clf__penalty=l1, clf__random_state=123, scaler__with_mean=False \n",
      "[CV] clf__C=6.0873234832561394e-05, clf__penalty=l1, clf__random_state=123, scaler__with_mean=False \n",
      "[CV]  clf__C=6.0873234832561394e-05, clf__penalty=l1, clf__random_state=123, scaler__with_mean=False, total=   0.3s\n",
      "[CV]  clf__C=6.0873234832561394e-05, clf__penalty=l1, clf__random_state=123, scaler__with_mean=False, total=   0.2s\n",
      "[CV] clf__C=0.17984668960629735, clf__penalty=l2, clf__random_state=123, scaler__with_mean=True \n",
      "[CV] clf__C=0.17984668960629735, clf__penalty=l2, clf__random_state=123, scaler__with_mean=True \n",
      "[CV]  clf__C=6.0873234832561394e-05, clf__penalty=l1, clf__random_state=123, scaler__with_mean=False, total=   0.3s\n",
      "[CV] clf__C=0.17984668960629735, clf__penalty=l2, clf__random_state=123, scaler__with_mean=True \n",
      "[CV]  clf__C=0.09882536189042468, clf__penalty=l1, clf__random_state=123, scaler__with_mean=True, total=   3.2s\n",
      "[CV] clf__C=0.17984668960629735, clf__penalty=l2, clf__random_state=123, scaler__with_mean=True \n",
      "[CV]  clf__C=0.09882536189042468, clf__penalty=l1, clf__random_state=123, scaler__with_mean=True, total=   4.1s\n",
      "[CV] clf__C=0.17984668960629735, clf__penalty=l2, clf__random_state=123, scaler__with_mean=True \n",
      "[CV]  clf__C=0.09882536189042468, clf__penalty=l1, clf__random_state=123, scaler__with_mean=True, total=   3.5s\n",
      "[CV] clf__C=0.066168907176401, clf__penalty=l1, clf__random_state=123, scaler__with_mean=False \n",
      "[CV]  clf__C=0.09882536189042468, clf__penalty=l1, clf__random_state=123, scaler__with_mean=True, total=   4.2s\n",
      "[CV] clf__C=0.066168907176401, clf__penalty=l1, clf__random_state=123, scaler__with_mean=False \n",
      "[CV]  clf__C=0.09882536189042468, clf__penalty=l1, clf__random_state=123, scaler__with_mean=True, total=   4.3s\n",
      "[CV] clf__C=0.066168907176401, clf__penalty=l1, clf__random_state=123, scaler__with_mean=False \n",
      "[CV]  clf__C=0.066168907176401, clf__penalty=l1, clf__random_state=123, scaler__with_mean=False, total=   0.3s\n",
      "[CV] clf__C=0.066168907176401, clf__penalty=l1, clf__random_state=123, scaler__with_mean=False \n"
     ]
    },
    {
     "name": "stderr",
     "output_type": "stream",
     "text": [
      "[Parallel(n_jobs=-1)]: Done  25 tasks      | elapsed:    5.3s\n"
     ]
    },
    {
     "name": "stdout",
     "output_type": "stream",
     "text": [
      "[CV]  clf__C=0.066168907176401, clf__penalty=l1, clf__random_state=123, scaler__with_mean=False, total=   0.6s\n",
      "[CV]  clf__C=0.066168907176401, clf__penalty=l1, clf__random_state=123, scaler__with_mean=False, total=   0.5s\n",
      "[CV] clf__C=0.066168907176401, clf__penalty=l1, clf__random_state=123, scaler__with_mean=False \n",
      "[CV] clf__C=0.6846579724234434, clf__penalty=l1, clf__random_state=123, scaler__with_mean=True \n",
      "[CV]  clf__C=0.066168907176401, clf__penalty=l1, clf__random_state=123, scaler__with_mean=False, total=   0.4s\n",
      "[CV] clf__C=0.6846579724234434, clf__penalty=l1, clf__random_state=123, scaler__with_mean=True \n",
      "[CV]  clf__C=0.17984668960629735, clf__penalty=l2, clf__random_state=123, scaler__with_mean=True, total=   1.9s\n",
      "[CV] clf__C=0.6846579724234434, clf__penalty=l1, clf__random_state=123, scaler__with_mean=True \n",
      "[CV]  clf__C=0.17984668960629735, clf__penalty=l2, clf__random_state=123, scaler__with_mean=True, total=   2.2s\n",
      "[CV] clf__C=0.6846579724234434, clf__penalty=l1, clf__random_state=123, scaler__with_mean=True \n",
      "[CV]  clf__C=0.066168907176401, clf__penalty=l1, clf__random_state=123, scaler__with_mean=False, total=   0.5s\n",
      "[CV] clf__C=0.6846579724234434, clf__penalty=l1, clf__random_state=123, scaler__with_mean=True \n",
      "[CV]  clf__C=0.6846579724234434, clf__penalty=l1, clf__random_state=123, scaler__with_mean=True, total=   1.0s\n",
      "[CV] clf__C=0.16932626914590523, clf__penalty=l2, clf__random_state=123, scaler__with_mean=False \n",
      "[CV]  clf__C=0.6846579724234434, clf__penalty=l1, clf__random_state=123, scaler__with_mean=True, total=   0.8s\n",
      "[CV]  clf__C=0.6846579724234434, clf__penalty=l1, clf__random_state=123, scaler__with_mean=True, total=   0.7s\n",
      "[CV] clf__C=0.16932626914590523, clf__penalty=l2, clf__random_state=123, scaler__with_mean=False \n",
      "[CV] clf__C=0.16932626914590523, clf__penalty=l2, clf__random_state=123, scaler__with_mean=False \n",
      "[CV]  clf__C=0.17984668960629735, clf__penalty=l2, clf__random_state=123, scaler__with_mean=True, total=   2.7s\n",
      "[CV]  clf__C=0.17984668960629735, clf__penalty=l2, clf__random_state=123, scaler__with_mean=True, total=   2.3s\n",
      "[CV] clf__C=0.16932626914590523, clf__penalty=l2, clf__random_state=123, scaler__with_mean=False \n",
      "[CV] clf__C=0.16932626914590523, clf__penalty=l2, clf__random_state=123, scaler__with_mean=False \n",
      "[CV]  clf__C=0.6846579724234434, clf__penalty=l1, clf__random_state=123, scaler__with_mean=True, total=   0.6s\n",
      "[CV]  clf__C=0.17984668960629735, clf__penalty=l2, clf__random_state=123, scaler__with_mean=True, total=   2.4s\n",
      "[CV] clf__C=0.17597644951448602, clf__penalty=l1, clf__random_state=123, scaler__with_mean=True \n",
      "[CV] clf__C=0.17597644951448602, clf__penalty=l1, clf__random_state=123, scaler__with_mean=True \n",
      "[CV]  clf__C=0.16932626914590523, clf__penalty=l2, clf__random_state=123, scaler__with_mean=False, total=   0.7s\n",
      "[CV]  clf__C=0.16932626914590523, clf__penalty=l2, clf__random_state=123, scaler__with_mean=False, total=   0.7s\n",
      "[CV] clf__C=0.17597644951448602, clf__penalty=l1, clf__random_state=123, scaler__with_mean=True \n",
      "[CV] clf__C=0.17597644951448602, clf__penalty=l1, clf__random_state=123, scaler__with_mean=True \n",
      "[CV]  clf__C=0.16932626914590523, clf__penalty=l2, clf__random_state=123, scaler__with_mean=False, total=   0.7s\n",
      "[CV]  clf__C=0.16932626914590523, clf__penalty=l2, clf__random_state=123, scaler__with_mean=False, total=   0.8s\n",
      "[CV] clf__C=0.17597644951448602, clf__penalty=l1, clf__random_state=123, scaler__with_mean=True \n",
      "[CV] clf__C=55.49070845521297, clf__penalty=l2, clf__random_state=123, scaler__with_mean=True \n",
      "[CV]  clf__C=0.16932626914590523, clf__penalty=l2, clf__random_state=123, scaler__with_mean=False, total=   1.0s\n",
      "[CV] clf__C=55.49070845521297, clf__penalty=l2, clf__random_state=123, scaler__with_mean=True \n",
      "[CV]  clf__C=55.49070845521297, clf__penalty=l2, clf__random_state=123, scaler__with_mean=True, total=   2.7s\n",
      "[CV] clf__C=55.49070845521297, clf__penalty=l2, clf__random_state=123, scaler__with_mean=True \n",
      "[CV]  clf__C=55.49070845521297, clf__penalty=l2, clf__random_state=123, scaler__with_mean=True, total=   3.1s\n",
      "[CV] clf__C=55.49070845521297, clf__penalty=l2, clf__random_state=123, scaler__with_mean=True \n",
      "[CV]  clf__C=0.17597644951448602, clf__penalty=l1, clf__random_state=123, scaler__with_mean=True, total=   4.4s\n",
      "[CV] clf__C=55.49070845521297, clf__penalty=l2, clf__random_state=123, scaler__with_mean=True \n",
      "[CV]  clf__C=0.17597644951448602, clf__penalty=l1, clf__random_state=123, scaler__with_mean=True, total=   6.5s\n",
      "[CV] clf__C=4.686779143259426, clf__penalty=l1, clf__random_state=123, scaler__with_mean=False \n",
      "[CV]  clf__C=0.17597644951448602, clf__penalty=l1, clf__random_state=123, scaler__with_mean=True, total=   6.1s\n",
      "[CV]  clf__C=55.49070845521297, clf__penalty=l2, clf__random_state=123, scaler__with_mean=True, total=   2.8s\n",
      "[CV] clf__C=4.686779143259426, clf__penalty=l1, clf__random_state=123, scaler__with_mean=False \n",
      "[CV]  clf__C=55.49070845521297, clf__penalty=l2, clf__random_state=123, scaler__with_mean=True, total=   2.3s\n",
      "[CV]  clf__C=0.17597644951448602, clf__penalty=l1, clf__random_state=123, scaler__with_mean=True, total=   6.4s\n",
      "[CV] clf__C=4.686779143259426, clf__penalty=l1, clf__random_state=123, scaler__with_mean=False \n",
      "[CV]  clf__C=55.49070845521297, clf__penalty=l2, clf__random_state=123, scaler__with_mean=True, total=   2.9s\n",
      "[CV] clf__C=4.686779143259426, clf__penalty=l1, clf__random_state=123, scaler__with_mean=False \n",
      "[CV] clf__C=4.686779143259426, clf__penalty=l1, clf__random_state=123, scaler__with_mean=False \n",
      "[CV] clf__C=0.023675003937163, clf__penalty=l1, clf__random_state=123, scaler__with_mean=False \n",
      "[CV]  clf__C=4.686779143259426, clf__penalty=l1, clf__random_state=123, scaler__with_mean=False, total=   0.5s\n",
      "[CV] clf__C=0.023675003937163, clf__penalty=l1, clf__random_state=123, scaler__with_mean=False \n",
      "[CV]  clf__C=4.686779143259426, clf__penalty=l1, clf__random_state=123, scaler__with_mean=False, total=   0.4s\n",
      "[CV] clf__C=0.023675003937163, clf__penalty=l1, clf__random_state=123, scaler__with_mean=False \n",
      "[CV]  clf__C=4.686779143259426, clf__penalty=l1, clf__random_state=123, scaler__with_mean=False, total=   0.4s\n",
      "[CV] clf__C=0.023675003937163, clf__penalty=l1, clf__random_state=123, scaler__with_mean=False \n",
      "[CV]  clf__C=0.023675003937163, clf__penalty=l1, clf__random_state=123, scaler__with_mean=False, total=   0.4s\n",
      "[CV] clf__C=0.023675003937163, clf__penalty=l1, clf__random_state=123, scaler__with_mean=False \n",
      "[CV]  clf__C=0.023675003937163, clf__penalty=l1, clf__random_state=123, scaler__with_mean=False, total=   0.3s\n",
      "[CV]  clf__C=0.023675003937163, clf__penalty=l1, clf__random_state=123, scaler__with_mean=False, total=   0.4s\n",
      "[CV]  clf__C=4.686779143259426, clf__penalty=l1, clf__random_state=123, scaler__with_mean=False, total=   0.6s\n",
      "[CV] clf__C=110.3123821864009, clf__penalty=l2, clf__random_state=123, scaler__with_mean=False \n",
      "[CV] clf__C=110.3123821864009, clf__penalty=l2, clf__random_state=123, scaler__with_mean=False \n",
      "[CV] clf__C=110.3123821864009, clf__penalty=l2, clf__random_state=123, scaler__with_mean=False \n",
      "[CV]  clf__C=0.023675003937163, clf__penalty=l1, clf__random_state=123, scaler__with_mean=False, total=   0.5s\n",
      "[CV] clf__C=110.3123821864009, clf__penalty=l2, clf__random_state=123, scaler__with_mean=False \n",
      "[CV]  clf__C=0.023675003937163, clf__penalty=l1, clf__random_state=123, scaler__with_mean=False, total=   0.4s\n",
      "[CV] clf__C=110.3123821864009, clf__penalty=l2, clf__random_state=123, scaler__with_mean=False \n",
      "[CV]  clf__C=0.17597644951448602, clf__penalty=l1, clf__random_state=123, scaler__with_mean=True, total=   8.1s\n",
      "[CV] clf__C=37.65330690538603, clf__penalty=l1, clf__random_state=123, scaler__with_mean=True \n",
      "[CV]  clf__C=110.3123821864009, clf__penalty=l2, clf__random_state=123, scaler__with_mean=False, total=   0.8s\n",
      "[CV] clf__C=37.65330690538603, clf__penalty=l1, clf__random_state=123, scaler__with_mean=True \n",
      "[CV]  clf__C=110.3123821864009, clf__penalty=l2, clf__random_state=123, scaler__with_mean=False, total=   0.9s\n",
      "[CV]  clf__C=4.686779143259426, clf__penalty=l1, clf__random_state=123, scaler__with_mean=False, total=   1.9s\n",
      "[CV] clf__C=37.65330690538603, clf__penalty=l1, clf__random_state=123, scaler__with_mean=True \n",
      "[CV]  clf__C=110.3123821864009, clf__penalty=l2, clf__random_state=123, scaler__with_mean=False, total=   0.9s\n",
      "[CV] clf__C=37.65330690538603, clf__penalty=l1, clf__random_state=123, scaler__with_mean=True \n",
      "[CV] clf__C=37.65330690538603, clf__penalty=l1, clf__random_state=123, scaler__with_mean=True \n",
      "[CV]  clf__C=110.3123821864009, clf__penalty=l2, clf__random_state=123, scaler__with_mean=False, total=   0.9s\n",
      "[CV] clf__C=0.003297064338248382, clf__penalty=l1, clf__random_state=123, scaler__with_mean=True \n",
      "[CV]  clf__C=37.65330690538603, clf__penalty=l1, clf__random_state=123, scaler__with_mean=True, total=   0.8s\n",
      "[CV]  clf__C=37.65330690538603, clf__penalty=l1, clf__random_state=123, scaler__with_mean=True, total=   0.7s\n",
      "[CV]  clf__C=110.3123821864009, clf__penalty=l2, clf__random_state=123, scaler__with_mean=False, total=   1.2s\n",
      "[CV] clf__C=0.003297064338248382, clf__penalty=l1, clf__random_state=123, scaler__with_mean=True \n",
      "[CV] clf__C=0.003297064338248382, clf__penalty=l1, clf__random_state=123, scaler__with_mean=True \n",
      "[CV] clf__C=0.003297064338248382, clf__penalty=l1, clf__random_state=123, scaler__with_mean=True \n",
      "[CV]  clf__C=37.65330690538603, clf__penalty=l1, clf__random_state=123, scaler__with_mean=True, total=   0.8s\n",
      "[CV] clf__C=0.003297064338248382, clf__penalty=l1, clf__random_state=123, scaler__with_mean=True \n",
      "[CV]  clf__C=0.003297064338248382, clf__penalty=l1, clf__random_state=123, scaler__with_mean=True, total=   0.5s\n",
      "[CV] clf__C=0.359702678393066, clf__penalty=l2, clf__random_state=123, scaler__with_mean=False \n",
      "[CV]  clf__C=0.003297064338248382, clf__penalty=l1, clf__random_state=123, scaler__with_mean=True, total=   0.5s\n",
      "[CV]  clf__C=37.65330690538603, clf__penalty=l1, clf__random_state=123, scaler__with_mean=True, total=   1.0s\n",
      "[CV] clf__C=0.359702678393066, clf__penalty=l2, clf__random_state=123, scaler__with_mean=False \n",
      "[CV]  clf__C=0.003297064338248382, clf__penalty=l1, clf__random_state=123, scaler__with_mean=True, total=   0.3s\n",
      "[CV] clf__C=0.359702678393066, clf__penalty=l2, clf__random_state=123, scaler__with_mean=False \n",
      "[CV]  clf__C=0.003297064338248382, clf__penalty=l1, clf__random_state=123, scaler__with_mean=True, total=   0.5s\n",
      "[CV]  clf__C=37.65330690538603, clf__penalty=l1, clf__random_state=123, scaler__with_mean=True, total=   1.1s\n",
      "[CV] clf__C=0.359702678393066, clf__penalty=l2, clf__random_state=123, scaler__with_mean=False \n",
      "[CV] clf__C=0.359702678393066, clf__penalty=l2, clf__random_state=123, scaler__with_mean=False \n",
      "[CV] clf__C=1.3751585631540372e-05, clf__penalty=l1, clf__random_state=123, scaler__with_mean=True \n",
      "[CV]  clf__C=0.003297064338248382, clf__penalty=l1, clf__random_state=123, scaler__with_mean=True, total=   0.5s\n",
      "[CV] clf__C=1.3751585631540372e-05, clf__penalty=l1, clf__random_state=123, scaler__with_mean=True \n",
      "[CV]  clf__C=0.359702678393066, clf__penalty=l2, clf__random_state=123, scaler__with_mean=False, total=   0.6s\n",
      "[CV] clf__C=1.3751585631540372e-05, clf__penalty=l1, clf__random_state=123, scaler__with_mean=True \n",
      "[CV]  clf__C=1.3751585631540372e-05, clf__penalty=l1, clf__random_state=123, scaler__with_mean=True, total=   0.5s\n",
      "[CV] clf__C=1.3751585631540372e-05, clf__penalty=l1, clf__random_state=123, scaler__with_mean=True \n",
      "[CV]  clf__C=0.359702678393066, clf__penalty=l2, clf__random_state=123, scaler__with_mean=False, total=   0.7s\n",
      "[CV]  clf__C=1.3751585631540372e-05, clf__penalty=l1, clf__random_state=123, scaler__with_mean=True, total=   0.4s\n",
      "[CV]  clf__C=0.359702678393066, clf__penalty=l2, clf__random_state=123, scaler__with_mean=False, total=   1.0s\n",
      "[CV] clf__C=1.3751585631540372e-05, clf__penalty=l1, clf__random_state=123, scaler__with_mean=True \n",
      "[CV]  clf__C=0.359702678393066, clf__penalty=l2, clf__random_state=123, scaler__with_mean=False, total=   0.8s\n",
      "[CV]  clf__C=0.359702678393066, clf__penalty=l2, clf__random_state=123, scaler__with_mean=False, total=   0.9s\n",
      "[CV] clf__C=40.847667765581036, clf__penalty=l1, clf__random_state=123, scaler__with_mean=False \n",
      "[CV]  clf__C=1.3751585631540372e-05, clf__penalty=l1, clf__random_state=123, scaler__with_mean=True, total=   0.2s\n",
      "[CV] clf__C=40.847667765581036, clf__penalty=l1, clf__random_state=123, scaler__with_mean=False \n",
      "[CV]  clf__C=1.3751585631540372e-05, clf__penalty=l1, clf__random_state=123, scaler__with_mean=True, total=   0.7s\n",
      "[CV] clf__C=40.847667765581036, clf__penalty=l1, clf__random_state=123, scaler__with_mean=False \n",
      "[CV] clf__C=40.847667765581036, clf__penalty=l1, clf__random_state=123, scaler__with_mean=False \n",
      "[CV] clf__C=40.847667765581036, clf__penalty=l1, clf__random_state=123, scaler__with_mean=False \n",
      "[CV] clf__C=0.49930271136349663, clf__penalty=l1, clf__random_state=123, scaler__with_mean=True \n",
      "[CV]  clf__C=1.3751585631540372e-05, clf__penalty=l1, clf__random_state=123, scaler__with_mean=True, total=   0.4s\n",
      "[CV]  clf__C=40.847667765581036, clf__penalty=l1, clf__random_state=123, scaler__with_mean=False, total=   0.3s\n",
      "[CV] clf__C=0.49930271136349663, clf__penalty=l1, clf__random_state=123, scaler__with_mean=True \n",
      "[CV] clf__C=0.49930271136349663, clf__penalty=l1, clf__random_state=123, scaler__with_mean=True \n",
      "[CV]  clf__C=40.847667765581036, clf__penalty=l1, clf__random_state=123, scaler__with_mean=False, total=   0.4s\n",
      "[CV] clf__C=0.49930271136349663, clf__penalty=l1, clf__random_state=123, scaler__with_mean=True \n",
      "[CV]  clf__C=40.847667765581036, clf__penalty=l1, clf__random_state=123, scaler__with_mean=False, total=   0.5s\n",
      "[CV]  clf__C=40.847667765581036, clf__penalty=l1, clf__random_state=123, scaler__with_mean=False, total=   0.4s\n",
      "[CV] clf__C=0.49930271136349663, clf__penalty=l1, clf__random_state=123, scaler__with_mean=True \n",
      "[CV]  clf__C=40.847667765581036, clf__penalty=l1, clf__random_state=123, scaler__with_mean=False, total=   0.3s\n",
      "[CV]  clf__C=0.49930271136349663, clf__penalty=l1, clf__random_state=123, scaler__with_mean=True, total=   0.7s\n",
      "[CV]  clf__C=0.49930271136349663, clf__penalty=l1, clf__random_state=123, scaler__with_mean=True, total=   0.7s\n",
      "[CV]  clf__C=0.49930271136349663, clf__penalty=l1, clf__random_state=123, scaler__with_mean=True, total=   0.7s\n",
      "[CV]  clf__C=0.49930271136349663, clf__penalty=l1, clf__random_state=123, scaler__with_mean=True, total=   0.7s\n",
      "[CV]  clf__C=0.49930271136349663, clf__penalty=l1, clf__random_state=123, scaler__with_mean=True, total=   0.8s\n",
      "[CV]  clf__C=0.6846579724234434, clf__penalty=l1, clf__random_state=123, scaler__with_mean=True, total=  14.8s\n"
     ]
    },
    {
     "name": "stderr",
     "output_type": "stream",
     "text": [
      "[Parallel(n_jobs=-1)]: Done 100 out of 100 | elapsed:   21.4s finished\n"
     ]
    },
    {
     "data": {
      "text/plain": [
       "RandomizedSearchCV(cv=StratifiedKFold(n_splits=5, random_state=123, shuffle=True),\n",
       "          error_score='raise',\n",
       "          estimator=Pipeline(memory=None,\n",
       "     steps=[('scaler', StandardScaler(copy=True, with_mean=True, with_std=True)), ('clf', LogisticRegression(C=1.0, class_weight=None, dual=False, fit_intercept=True,\n",
       "          intercept_scaling=1, max_iter=100, multi_class='ovr', n_jobs=1,\n",
       "          penalty='l2', random_state=None, solver='liblinear', tol=0.0001,\n",
       "          verbose=0, warm_start=False))]),\n",
       "          fit_params=None, iid=True, n_iter=20, n_jobs=-1,\n",
       "          param_distributions={'scaler__with_mean': [False, True], 'clf__penalty': ['l1', 'l2'], 'clf__random_state': [123], 'clf__C': <scipy.stats._distn_infrastructure.rv_frozen object at 0x7f1981824d30>},\n",
       "          pre_dispatch='2*n_jobs', random_state=123, refit=True,\n",
       "          return_train_score='warn', scoring='roc_auc', verbose=2)"
      ]
     },
     "execution_count": 31,
     "metadata": {},
     "output_type": "execute_result"
    }
   ],
   "source": [
    "# Рассмотрим 20 случайных комбинаций\n",
    "random_searcher = RandomizedSearchCV(model, param_grid, n_iter=20, \n",
    "                                     random_state=RND_SEED,\n",
    "                                     scoring='roc_auc', \n",
    "                                     n_jobs=-1, cv=cv, \n",
    "                                     verbose=2)\n",
    "\n",
    "random_searcher.fit(X, y)"
   ]
  },
  {
   "cell_type": "markdown",
   "metadata": {},
   "source": [
    "Аналогичный выхлоп"
   ]
  },
  {
   "cell_type": "code",
   "execution_count": 32,
   "metadata": {
    "collapsed": false,
    "scrolled": true
   },
   "outputs": [
    {
     "data": {
      "text/plain": [
       "{'clf__C': 0.066168907176401,\n",
       " 'clf__penalty': 'l1',\n",
       " 'clf__random_state': 123,\n",
       " 'scaler__with_mean': False}"
      ]
     },
     "execution_count": 32,
     "metadata": {},
     "output_type": "execute_result"
    }
   ],
   "source": [
    "random_searcher.best_params_"
   ]
  },
  {
   "cell_type": "code",
   "execution_count": 33,
   "metadata": {
    "collapsed": false
   },
   "outputs": [
    {
     "data": {
      "text/plain": [
       "0.8331573859251894"
      ]
     },
     "execution_count": 33,
     "metadata": {},
     "output_type": "execute_result"
    }
   ],
   "source": [
    "random_searcher.best_score_"
   ]
  },
  {
   "cell_type": "code",
   "execution_count": 34,
   "metadata": {
    "collapsed": false
   },
   "outputs": [
    {
     "name": "stderr",
     "output_type": "stream",
     "text": [
      "/home/alekum/.local/lib/python3.6/site-packages/sklearn/utils/deprecation.py:122: FutureWarning: You are accessing a training score ('split0_train_score'), which will not be available by default any more in 0.21. If you need training scores, please set return_train_score=True\n",
      "  warnings.warn(*warn_args, **warn_kwargs)\n",
      "/home/alekum/.local/lib/python3.6/site-packages/sklearn/utils/deprecation.py:122: FutureWarning: You are accessing a training score ('split1_train_score'), which will not be available by default any more in 0.21. If you need training scores, please set return_train_score=True\n",
      "  warnings.warn(*warn_args, **warn_kwargs)\n",
      "/home/alekum/.local/lib/python3.6/site-packages/sklearn/utils/deprecation.py:122: FutureWarning: You are accessing a training score ('split2_train_score'), which will not be available by default any more in 0.21. If you need training scores, please set return_train_score=True\n",
      "  warnings.warn(*warn_args, **warn_kwargs)\n",
      "/home/alekum/.local/lib/python3.6/site-packages/sklearn/utils/deprecation.py:122: FutureWarning: You are accessing a training score ('split3_train_score'), which will not be available by default any more in 0.21. If you need training scores, please set return_train_score=True\n",
      "  warnings.warn(*warn_args, **warn_kwargs)\n",
      "/home/alekum/.local/lib/python3.6/site-packages/sklearn/utils/deprecation.py:122: FutureWarning: You are accessing a training score ('split4_train_score'), which will not be available by default any more in 0.21. If you need training scores, please set return_train_score=True\n",
      "  warnings.warn(*warn_args, **warn_kwargs)\n",
      "/home/alekum/.local/lib/python3.6/site-packages/sklearn/utils/deprecation.py:122: FutureWarning: You are accessing a training score ('mean_train_score'), which will not be available by default any more in 0.21. If you need training scores, please set return_train_score=True\n",
      "  warnings.warn(*warn_args, **warn_kwargs)\n",
      "/home/alekum/.local/lib/python3.6/site-packages/sklearn/utils/deprecation.py:122: FutureWarning: You are accessing a training score ('std_train_score'), which will not be available by default any more in 0.21. If you need training scores, please set return_train_score=True\n",
      "  warnings.warn(*warn_args, **warn_kwargs)\n"
     ]
    }
   ],
   "source": [
    "results = pd.DataFrame(random_searcher.cv_results_)"
   ]
  },
  {
   "cell_type": "code",
   "execution_count": 35,
   "metadata": {
    "collapsed": false
   },
   "outputs": [
    {
     "data": {
      "text/html": [
       "<div>\n",
       "<style scoped>\n",
       "    .dataframe tbody tr th:only-of-type {\n",
       "        vertical-align: middle;\n",
       "    }\n",
       "\n",
       "    .dataframe tbody tr th {\n",
       "        vertical-align: top;\n",
       "    }\n",
       "\n",
       "    .dataframe thead th {\n",
       "        text-align: right;\n",
       "    }\n",
       "</style>\n",
       "<table border=\"1\" class=\"dataframe\">\n",
       "  <thead>\n",
       "    <tr style=\"text-align: right;\">\n",
       "      <th></th>\n",
       "      <th>mean_fit_time</th>\n",
       "      <th>std_fit_time</th>\n",
       "      <th>mean_score_time</th>\n",
       "      <th>std_score_time</th>\n",
       "      <th>param_clf__C</th>\n",
       "      <th>param_clf__penalty</th>\n",
       "      <th>param_clf__random_state</th>\n",
       "      <th>param_scaler__with_mean</th>\n",
       "      <th>params</th>\n",
       "      <th>split0_test_score</th>\n",
       "      <th>...</th>\n",
       "      <th>mean_test_score</th>\n",
       "      <th>std_test_score</th>\n",
       "      <th>rank_test_score</th>\n",
       "      <th>split0_train_score</th>\n",
       "      <th>split1_train_score</th>\n",
       "      <th>split2_train_score</th>\n",
       "      <th>split3_train_score</th>\n",
       "      <th>split4_train_score</th>\n",
       "      <th>mean_train_score</th>\n",
       "      <th>std_train_score</th>\n",
       "    </tr>\n",
       "  </thead>\n",
       "  <tbody>\n",
       "    <tr>\n",
       "      <th>0</th>\n",
       "      <td>0.297993</td>\n",
       "      <td>0.057410</td>\n",
       "      <td>0.042605</td>\n",
       "      <td>0.010693</td>\n",
       "      <td>0.0130037</td>\n",
       "      <td>l1</td>\n",
       "      <td>123</td>\n",
       "      <td>False</td>\n",
       "      <td>{'clf__C': 0.013003686130638284, 'clf__penalty...</td>\n",
       "      <td>0.827471</td>\n",
       "      <td>...</td>\n",
       "      <td>0.829825</td>\n",
       "      <td>0.004286</td>\n",
       "      <td>10</td>\n",
       "      <td>0.835122</td>\n",
       "      <td>0.834700</td>\n",
       "      <td>0.835108</td>\n",
       "      <td>0.835922</td>\n",
       "      <td>0.833295</td>\n",
       "      <td>0.834829</td>\n",
       "      <td>0.000864</td>\n",
       "    </tr>\n",
       "    <tr>\n",
       "      <th>1</th>\n",
       "      <td>1.006792</td>\n",
       "      <td>0.123799</td>\n",
       "      <td>0.094749</td>\n",
       "      <td>0.038083</td>\n",
       "      <td>54.0215</td>\n",
       "      <td>l1</td>\n",
       "      <td>123</td>\n",
       "      <td>True</td>\n",
       "      <td>{'clf__C': 54.02148221946703, 'clf__penalty': ...</td>\n",
       "      <td>0.829482</td>\n",
       "      <td>...</td>\n",
       "      <td>0.829800</td>\n",
       "      <td>0.003311</td>\n",
       "      <td>14</td>\n",
       "      <td>0.849479</td>\n",
       "      <td>0.850480</td>\n",
       "      <td>0.849283</td>\n",
       "      <td>0.850176</td>\n",
       "      <td>0.848428</td>\n",
       "      <td>0.849569</td>\n",
       "      <td>0.000720</td>\n",
       "    </tr>\n",
       "    <tr>\n",
       "      <th>2</th>\n",
       "      <td>3.736903</td>\n",
       "      <td>0.426574</td>\n",
       "      <td>0.115834</td>\n",
       "      <td>0.046521</td>\n",
       "      <td>0.0988254</td>\n",
       "      <td>l1</td>\n",
       "      <td>123</td>\n",
       "      <td>True</td>\n",
       "      <td>{'clf__C': 0.09882536189042468, 'clf__penalty'...</td>\n",
       "      <td>0.831300</td>\n",
       "      <td>...</td>\n",
       "      <td>0.832553</td>\n",
       "      <td>0.003361</td>\n",
       "      <td>3</td>\n",
       "      <td>0.848458</td>\n",
       "      <td>0.849134</td>\n",
       "      <td>0.847940</td>\n",
       "      <td>0.849445</td>\n",
       "      <td>0.847167</td>\n",
       "      <td>0.848429</td>\n",
       "      <td>0.000820</td>\n",
       "    </tr>\n",
       "    <tr>\n",
       "      <th>3</th>\n",
       "      <td>0.736573</td>\n",
       "      <td>0.024502</td>\n",
       "      <td>0.090906</td>\n",
       "      <td>0.004605</td>\n",
       "      <td>739.331</td>\n",
       "      <td>l1</td>\n",
       "      <td>123</td>\n",
       "      <td>True</td>\n",
       "      <td>{'clf__C': 739.3313143249965, 'clf__penalty': ...</td>\n",
       "      <td>0.829471</td>\n",
       "      <td>...</td>\n",
       "      <td>0.829790</td>\n",
       "      <td>0.003312</td>\n",
       "      <td>15</td>\n",
       "      <td>0.849478</td>\n",
       "      <td>0.850480</td>\n",
       "      <td>0.849282</td>\n",
       "      <td>0.850174</td>\n",
       "      <td>0.848427</td>\n",
       "      <td>0.849568</td>\n",
       "      <td>0.000720</td>\n",
       "    </tr>\n",
       "    <tr>\n",
       "      <th>4</th>\n",
       "      <td>0.161234</td>\n",
       "      <td>0.023635</td>\n",
       "      <td>0.087269</td>\n",
       "      <td>0.001544</td>\n",
       "      <td>6.08732e-05</td>\n",
       "      <td>l1</td>\n",
       "      <td>123</td>\n",
       "      <td>False</td>\n",
       "      <td>{'clf__C': 6.0873234832561394e-05, 'clf__penal...</td>\n",
       "      <td>0.500000</td>\n",
       "      <td>...</td>\n",
       "      <td>0.500000</td>\n",
       "      <td>0.000000</td>\n",
       "      <td>19</td>\n",
       "      <td>0.500000</td>\n",
       "      <td>0.500000</td>\n",
       "      <td>0.500000</td>\n",
       "      <td>0.500000</td>\n",
       "      <td>0.500000</td>\n",
       "      <td>0.500000</td>\n",
       "      <td>0.000000</td>\n",
       "    </tr>\n",
       "  </tbody>\n",
       "</table>\n",
       "<p>5 rows × 24 columns</p>\n",
       "</div>"
      ],
      "text/plain": [
       "   mean_fit_time  std_fit_time  mean_score_time  std_score_time param_clf__C  \\\n",
       "0       0.297993      0.057410         0.042605        0.010693    0.0130037   \n",
       "1       1.006792      0.123799         0.094749        0.038083      54.0215   \n",
       "2       3.736903      0.426574         0.115834        0.046521    0.0988254   \n",
       "3       0.736573      0.024502         0.090906        0.004605      739.331   \n",
       "4       0.161234      0.023635         0.087269        0.001544  6.08732e-05   \n",
       "\n",
       "  param_clf__penalty param_clf__random_state param_scaler__with_mean  \\\n",
       "0                 l1                     123                   False   \n",
       "1                 l1                     123                    True   \n",
       "2                 l1                     123                    True   \n",
       "3                 l1                     123                    True   \n",
       "4                 l1                     123                   False   \n",
       "\n",
       "                                              params  split0_test_score  \\\n",
       "0  {'clf__C': 0.013003686130638284, 'clf__penalty...           0.827471   \n",
       "1  {'clf__C': 54.02148221946703, 'clf__penalty': ...           0.829482   \n",
       "2  {'clf__C': 0.09882536189042468, 'clf__penalty'...           0.831300   \n",
       "3  {'clf__C': 739.3313143249965, 'clf__penalty': ...           0.829471   \n",
       "4  {'clf__C': 6.0873234832561394e-05, 'clf__penal...           0.500000   \n",
       "\n",
       "        ...         mean_test_score  std_test_score  rank_test_score  \\\n",
       "0       ...                0.829825        0.004286               10   \n",
       "1       ...                0.829800        0.003311               14   \n",
       "2       ...                0.832553        0.003361                3   \n",
       "3       ...                0.829790        0.003312               15   \n",
       "4       ...                0.500000        0.000000               19   \n",
       "\n",
       "   split0_train_score  split1_train_score  split2_train_score  \\\n",
       "0            0.835122            0.834700            0.835108   \n",
       "1            0.849479            0.850480            0.849283   \n",
       "2            0.848458            0.849134            0.847940   \n",
       "3            0.849478            0.850480            0.849282   \n",
       "4            0.500000            0.500000            0.500000   \n",
       "\n",
       "   split3_train_score  split4_train_score  mean_train_score  std_train_score  \n",
       "0            0.835922            0.833295          0.834829         0.000864  \n",
       "1            0.850176            0.848428          0.849569         0.000720  \n",
       "2            0.849445            0.847167          0.848429         0.000820  \n",
       "3            0.850174            0.848427          0.849568         0.000720  \n",
       "4            0.500000            0.500000          0.500000         0.000000  \n",
       "\n",
       "[5 rows x 24 columns]"
      ]
     },
     "execution_count": 35,
     "metadata": {},
     "output_type": "execute_result"
    }
   ],
   "source": [
    "results.head()"
   ]
  },
  {
   "cell_type": "code",
   "execution_count": 36,
   "metadata": {
    "collapsed": false
   },
   "outputs": [
    {
     "data": {
      "text/plain": [
       "Pipeline(memory=None,\n",
       "     steps=[('scaler', StandardScaler(copy=True, with_mean=False, with_std=True)), ('clf', LogisticRegression(C=0.066168907176401, class_weight=None, dual=False,\n",
       "          fit_intercept=True, intercept_scaling=1, max_iter=100,\n",
       "          multi_class='ovr', n_jobs=1, penalty='l1', random_state=123,\n",
       "          solver='liblinear', tol=0.0001, verbose=0, warm_start=False))])"
      ]
     },
     "execution_count": 36,
     "metadata": {},
     "output_type": "execute_result"
    }
   ],
   "source": [
    "best_model = random_searcher.best_estimator_\n",
    "best_model"
   ]
  },
  {
   "cell_type": "markdown",
   "metadata": {},
   "source": [
    "### HyperOpt"
   ]
  },
  {
   "cell_type": "markdown",
   "metadata": {},
   "source": [
    "Есть еще другой вариант - \"умный\" перебор параметров. И вот тут нам помогает библиотека `hyperopt`.\n",
    "\n",
    "Если невдаваться в детали, то `hyperopt` определяет следующего набора-кандидата с помощью некоторого алгоритма, который балансирует исследование еще не изведанных областей значений гиперпараметров и направления, вдоль которых наблюдались улучшения целеой метрики.\n",
    "\n",
    "То есть мы задаем некоторую функцию, и ставим себе цель **минимизировать** (такова договоренность в `hyperopt`) ее значение исходя из параметров, которые она принимает.\n",
    "\n",
    "Например, возьмем функцию $f(x) = \\sin(x)/x$ и будем искать ее минимум при условии, что $x$ будет равномерно распределен на интервале $[-7.5, 7.5]$"
   ]
  },
  {
   "cell_type": "code",
   "execution_count": 37,
   "metadata": {
    "collapsed": false
   },
   "outputs": [
    {
     "name": "stdout",
     "output_type": "stream",
     "text": [
      "networkx                      1.11                            \r\n"
     ]
    }
   ],
   "source": [
    "# sudo pip install networkx==1.11\n",
    "!pip3 list --format=columns | grep networkx "
   ]
  },
  {
   "cell_type": "code",
   "execution_count": 38,
   "metadata": {
    "collapsed": true
   },
   "outputs": [],
   "source": [
    "from hyperopt import fmin, tpe, hp, Trials, STATUS_OK, rand"
   ]
  },
  {
   "cell_type": "code",
   "execution_count": null,
   "metadata": {
    "collapsed": false
   },
   "outputs": [],
   "source": []
  },
  {
   "cell_type": "code",
   "execution_count": 39,
   "metadata": {
    "collapsed": false
   },
   "outputs": [
    {
     "name": "stdout",
     "output_type": "stream",
     "text": [
      "{'x': -0.005139562516253207}\n"
     ]
    }
   ],
   "source": [
    "best = fmin(fn=lambda x: -np.sin(x)/x,\n",
    "            space=hp.uniform('x', -7.5, 7.5),\n",
    "            algo=tpe.suggest,\n",
    "            max_evals=100,\n",
    "            trials=Trials())\n",
    "\n",
    "print(best)\n"
   ]
  },
  {
   "cell_type": "code",
   "execution_count": 40,
   "metadata": {
    "collapsed": false
   },
   "outputs": [
    {
     "data": {
      "text/plain": [
       "[<matplotlib.lines.Line2D at 0x7f19824b8080>]"
      ]
     },
     "execution_count": 40,
     "metadata": {},
     "output_type": "execute_result"
    },
    {
     "data": {
      "image/png": "[encoded data removed]",
      "text/plain": [
       "<Figure size 432x288 with 1 Axes>"
      ]
     },
     "metadata": {},
     "output_type": "display_data"
    }
   ],
   "source": [
    "x = np.linspace(-10,10,50)\n",
    "func = lambda x: -np.sin(x)/x\n",
    "y = func(x)\n",
    "plt.plot(x,y)\n",
    "\n",
    "y_best = func(best['x'])\n",
    "plt.plot(best['x'], y_best, marker='s')"
   ]
  },
  {
   "cell_type": "markdown",
   "metadata": {},
   "source": [
    "Нашли)"
   ]
  },
  {
   "cell_type": "markdown",
   "metadata": {},
   "source": [
    "Возвращаясь к нашим баранам, функция вданном случае будет возвращать метрику качества модели (пайплайна) на кроссвалидации. С помощью `hyperopt` мы будем искать минимум этой функции при заданных диаполознах значений гипер параметров.\n",
    "\n",
    "Но самым важным плюсом, как по мне, является гибкость - в функцию, которую мы хотим минимизировать можно написать все что угодно. Например, сейчас я добавлю вариативность в пайплайне по типу шкалирования между - StandartScaler или RobustScaler."
   ]
  },
  {
   "cell_type": "code",
   "execution_count": 41,
   "metadata": {
    "collapsed": true
   },
   "outputs": [],
   "source": [
    "from sklearn.preprocessing import RobustScaler\n",
    "from sklearn.model_selection import cross_val_score"
   ]
  },
  {
   "cell_type": "code",
   "execution_count": 42,
   "metadata": {
    "collapsed": true
   },
   "outputs": [],
   "source": [
    "X = df_features.loc[:, idx_features].values\n",
    "y = df_features.loc[:, ~idx_features].values.flatten()"
   ]
  },
  {
   "cell_type": "code",
   "execution_count": 43,
   "metadata": {
    "collapsed": true
   },
   "outputs": [],
   "source": [
    "def run_trials_template(X, y, params, evals=100):\n",
    "\n",
    "    def hyperopt_cv(X, y, params):\n",
    "        \n",
    "        X_ = X.copy()\n",
    "        \n",
    "        # Отделяем параметры лог регрессии в отдельный словарь\n",
    "        lm_params = {}\n",
    "        for k, v in params.items():\n",
    "            if k.startswith('glob'):\n",
    "                continue                \n",
    "            elif k.startswith('lm'):\n",
    "                lm_params[k.split('_', 1)[1]] = v\n",
    "        \n",
    "        # Задаем шкалирование\n",
    "        if params['scaler_type'] == 'standart':\n",
    "            scaler = StandardScaler(with_mean=params['scaler_centering'])\n",
    "        else:\n",
    "            assert params['scaler_type'] == 'robust'\n",
    "            scaler = RobustScaler(with_centering=params['scaler_centering'])\n",
    "        \n",
    "        # Создаем лог рег с нужными параметрами\n",
    "        clf = LogisticRegression(**lm_params)\n",
    "        \n",
    "        # Итоговый пайплайн\n",
    "        model = Pipeline([\n",
    "            ('scaler', scaler),\n",
    "            ('clf', clf)\n",
    "        ])\n",
    "\n",
    "        # Схема кросс-валидации\n",
    "        n_splits = 5\n",
    "        cv = StratifiedKFold(n_splits=n_splits, shuffle=True, \n",
    "                             random_state=RND_SEED)\n",
    "        scores = cross_val_score(model, X_, y,\n",
    "                                 scoring='roc_auc', \n",
    "                                 cv=cv, \n",
    "                                 n_jobs=-1)\n",
    "\n",
    "        # Возвращаем среднее значение метрики и отклонение (на всякий случай)\n",
    "        return scores.mean(), scores.std()\n",
    "\n",
    "    def f(params):\n",
    "        acc, std = hyperopt_cv(X, y, params)\n",
    "        return {'loss': -acc, 'qscore': -acc, 'qscore_std': std, 'status': STATUS_OK}\n",
    "\n",
    "    trials = Trials()\n",
    "    best = fmin(f, \n",
    "                params, \n",
    "                algo=tpe.suggest, \n",
    "                max_evals=evals, \n",
    "                trials=trials, \n",
    "                verbose=1)\n",
    "    \n",
    "    return trials"
   ]
  },
  {
   "cell_type": "code",
   "execution_count": 44,
   "metadata": {
    "collapsed": true
   },
   "outputs": [],
   "source": [
    "# Задаем пространство поиска\n",
    "space4_lm = {\n",
    "    'lm_penalty': hp.choice('penalty', ['l1', 'l2']),\n",
    "    'lm_C': hp.loguniform('C', -5, 3),\n",
    "    'lm_class_weight': hp.choice('class_weight', [None, 'balanced']),\n",
    "    'lm_random_state': RND_SEED,\n",
    "    'scaler_type': hp.choice('scaler_type', ['standart', 'robust']),\n",
    "    'scaler_centering': hp.choice('scaler_centering', [False, True])\n",
    "}"
   ]
  },
  {
   "cell_type": "code",
   "execution_count": null,
   "metadata": {
    "collapsed": true
   },
   "outputs": [],
   "source": []
  },
  {
   "cell_type": "code",
   "execution_count": 45,
   "metadata": {
    "collapsed": false
   },
   "outputs": [],
   "source": [
    "# Запускаем поиск\n",
    "trials = run_trials_template(X, y, space4_lm, evals=40)"
   ]
  },
  {
   "cell_type": "code",
   "execution_count": 46,
   "metadata": {
    "collapsed": false
   },
   "outputs": [
    {
     "data": {
      "text/plain": [
       "{'state': 2,\n",
       " 'tid': 26,\n",
       " 'spec': None,\n",
       " 'result': {'loss': -0.8369304775008564,\n",
       "  'qscore': -0.8369304775008564,\n",
       "  'qscore_std': 0.0036234257873619022,\n",
       "  'status': 'ok'},\n",
       " 'misc': {'tid': 26,\n",
       "  'cmd': ('domain_attachment', 'FMinIter_Domain'),\n",
       "  'workdir': None,\n",
       "  'idxs': {'C': [26],\n",
       "   'class_weight': [26],\n",
       "   'penalty': [26],\n",
       "   'scaler_centering': [26],\n",
       "   'scaler_type': [26]},\n",
       "  'vals': {'C': [0.024233593117861073],\n",
       "   'class_weight': [0],\n",
       "   'penalty': [0],\n",
       "   'scaler_centering': [0],\n",
       "   'scaler_type': [1]}},\n",
       " 'exp_key': None,\n",
       " 'owner': None,\n",
       " 'version': 0,\n",
       " 'book_time': datetime.datetime(2018, 8, 1, 8, 48, 22, 87000),\n",
       " 'refresh_time': datetime.datetime(2018, 8, 1, 8, 48, 23, 11000)}"
      ]
     },
     "execution_count": 46,
     "metadata": {},
     "output_type": "execute_result"
    }
   ],
   "source": [
    "trials.best_trial"
   ]
  },
  {
   "cell_type": "code",
   "execution_count": 47,
   "metadata": {
    "collapsed": true
   },
   "outputs": [],
   "source": [
    "def trials_df(trials):\n",
    "    '''\n",
    "    Функция форматирует результаты hyperopt в dataframe\n",
    "    '''\n",
    "    tr_dict = []\n",
    "    for t in trials:\n",
    "        trial = dict()\n",
    "        for k, v in t['misc']['vals'].items():\n",
    "            trial[k] = v[0]\n",
    "\n",
    "        trial['qscore'] = -t['result']['qscore']\n",
    "        trial['qscore_std'] = -t['result']['qscore_std']\n",
    "        tr_dict.append(trial)\n",
    "\n",
    "    df_res = pd.DataFrame.from_dict(tr_dict)\n",
    "    df_res = df_res.sort_values('qscore', ascending=False)\n",
    "    \n",
    "    return df_res"
   ]
  },
  {
   "cell_type": "markdown",
   "metadata": {},
   "source": [
    "Достаем результаты.\n",
    "\n",
    "Стоит оговорится, что в некоторых столбцах указаны не фактические значение гиперпараметров, а их позиция в соответствуюем поле в `space4_lm`"
   ]
  },
  {
   "cell_type": "code",
   "execution_count": 48,
   "metadata": {
    "collapsed": true
   },
   "outputs": [],
   "source": [
    "df_trials = trials_df(trials)"
   ]
  },
  {
   "cell_type": "markdown",
   "metadata": {},
   "source": [
    "Здесь `qscore` - метрика качесва, а `scaler_type = 1` означает, что был выбран `scaler_type = robust`"
   ]
  },
  {
   "cell_type": "code",
   "execution_count": 49,
   "metadata": {
    "collapsed": false
   },
   "outputs": [
    {
     "data": {
      "text/html": [
       "<div>\n",
       "<style scoped>\n",
       "    .dataframe tbody tr th:only-of-type {\n",
       "        vertical-align: middle;\n",
       "    }\n",
       "\n",
       "    .dataframe tbody tr th {\n",
       "        vertical-align: top;\n",
       "    }\n",
       "\n",
       "    .dataframe thead th {\n",
       "        text-align: right;\n",
       "    }\n",
       "</style>\n",
       "<table border=\"1\" class=\"dataframe\">\n",
       "  <thead>\n",
       "    <tr style=\"text-align: right;\">\n",
       "      <th></th>\n",
       "      <th>C</th>\n",
       "      <th>class_weight</th>\n",
       "      <th>penalty</th>\n",
       "      <th>qscore</th>\n",
       "      <th>qscore_std</th>\n",
       "      <th>scaler_centering</th>\n",
       "      <th>scaler_type</th>\n",
       "    </tr>\n",
       "  </thead>\n",
       "  <tbody>\n",
       "    <tr>\n",
       "      <th>26</th>\n",
       "      <td>0.024234</td>\n",
       "      <td>0</td>\n",
       "      <td>0</td>\n",
       "      <td>0.836930</td>\n",
       "      <td>-0.003623</td>\n",
       "      <td>0</td>\n",
       "      <td>1</td>\n",
       "    </tr>\n",
       "    <tr>\n",
       "      <th>38</th>\n",
       "      <td>0.029923</td>\n",
       "      <td>0</td>\n",
       "      <td>0</td>\n",
       "      <td>0.836877</td>\n",
       "      <td>-0.003422</td>\n",
       "      <td>0</td>\n",
       "      <td>1</td>\n",
       "    </tr>\n",
       "    <tr>\n",
       "      <th>23</th>\n",
       "      <td>0.020954</td>\n",
       "      <td>0</td>\n",
       "      <td>0</td>\n",
       "      <td>0.836822</td>\n",
       "      <td>-0.003859</td>\n",
       "      <td>0</td>\n",
       "      <td>1</td>\n",
       "    </tr>\n",
       "    <tr>\n",
       "      <th>22</th>\n",
       "      <td>0.020476</td>\n",
       "      <td>0</td>\n",
       "      <td>0</td>\n",
       "      <td>0.836819</td>\n",
       "      <td>-0.003887</td>\n",
       "      <td>0</td>\n",
       "      <td>1</td>\n",
       "    </tr>\n",
       "    <tr>\n",
       "      <th>25</th>\n",
       "      <td>0.019918</td>\n",
       "      <td>0</td>\n",
       "      <td>0</td>\n",
       "      <td>0.836807</td>\n",
       "      <td>-0.003903</td>\n",
       "      <td>0</td>\n",
       "      <td>1</td>\n",
       "    </tr>\n",
       "  </tbody>\n",
       "</table>\n",
       "</div>"
      ],
      "text/plain": [
       "           C  class_weight  penalty    qscore  qscore_std  scaler_centering  \\\n",
       "26  0.024234             0        0  0.836930   -0.003623                 0   \n",
       "38  0.029923             0        0  0.836877   -0.003422                 0   \n",
       "23  0.020954             0        0  0.836822   -0.003859                 0   \n",
       "22  0.020476             0        0  0.836819   -0.003887                 0   \n",
       "25  0.019918             0        0  0.836807   -0.003903                 0   \n",
       "\n",
       "    scaler_type  \n",
       "26            1  \n",
       "38            1  \n",
       "23            1  \n",
       "22            1  \n",
       "25            1  "
      ]
     },
     "execution_count": 49,
     "metadata": {},
     "output_type": "execute_result"
    }
   ],
   "source": [
    "df_trials.head()"
   ]
  },
  {
   "cell_type": "code",
   "execution_count": null,
   "metadata": {
    "collapsed": true
   },
   "outputs": [],
   "source": []
  },
  {
   "cell_type": "markdown",
   "metadata": {},
   "source": [
    "## Ваш черед"
   ]
  },
  {
   "cell_type": "markdown",
   "metadata": {},
   "source": [
    "### Новые признаки"
   ]
  },
  {
   "cell_type": "markdown",
   "metadata": {},
   "source": [
    "# @HW10\n",
    "\n",
    "Задание творческое - придумайте по новому признаку (группе признаков)\n",
    "* На основе mcc (tr_type)\n",
    "* На основе временного фактора\n",
    "* На основе текстов из описания mcc\n",
    "\n",
    "Реалиуйте их в функции, аналогичной `gen_features`."
   ]
  },
  {
   "cell_type": "code",
   "execution_count": 10,
   "metadata": {
    "collapsed": false
   },
   "outputs": [],
   "source": [
    "# df_transactions.to_csv('data/saved_preprocessed_transactions.csv')"
   ]
  },
  {
   "cell_type": "code",
   "execution_count": null,
   "metadata": {
    "collapsed": true
   },
   "outputs": [],
   "source": [
    "df_transactions = pd.read_csv('data/saved_preprocessed_transactions.csv')"
   ]
  },
  {
   "cell_type": "code",
   "execution_count": 15,
   "metadata": {
    "collapsed": false
   },
   "outputs": [],
   "source": [
    "def combiner(df, column):\n",
    "    df['group'] = df[column].apply(lambda value: int(value/100))\n",
    "\n",
    "combiner(df_mcc, 'mcc_code')\n",
    "combiner(df_tr, 'tr_type')"
   ]
  },
  {
   "cell_type": "code",
   "execution_count": 16,
   "metadata": {
    "collapsed": false
   },
   "outputs": [],
   "source": [
    "df_tr_groups = pd.DataFrame(df_tr.groupby('group')['tr_description'].apply(set))"
   ]
  },
  {
   "cell_type": "code",
   "execution_count": 17,
   "metadata": {
    "collapsed": false
   },
   "outputs": [],
   "source": [
    "df_mcc_groups = pd.DataFrame(df_mcc.groupby('group')['mcc_description'].apply(set))"
   ]
  },
  {
   "cell_type": "code",
   "execution_count": 20,
   "metadata": {
    "collapsed": false
   },
   "outputs": [],
   "source": [
    "# __df = df_transactions[['customer_id', 'mcc_code_group', 'amount']].groupby(['customer_id', 'mcc_code_group']).aggregate(np.sum).reset_index()"
   ]
  },
  {
   "cell_type": "code",
   "execution_count": 117,
   "metadata": {
    "collapsed": false
   },
   "outputs": [],
   "source": [
    "# amount_group_table = __df.pivot_table(index='customer_id', columns='mcc_code_group', values='amount', aggfunc=np.size, fill_value=0)"
   ]
  },
  {
   "cell_type": "code",
   "execution_count": 19,
   "metadata": {
    "collapsed": false
   },
   "outputs": [],
   "source": [
    "# __df.apply(lambd)"
   ]
  },
  {
   "cell_type": "code",
   "execution_count": null,
   "metadata": {
    "collapsed": false
   },
   "outputs": [],
   "source": []
  },
  {
   "cell_type": "code",
   "execution_count": 45,
   "metadata": {
    "collapsed": false
   },
   "outputs": [],
   "source": [
    "def create_tr_and_mcc_groups_features(_df_gender, _df_transactions, _df_trg, _df_mccg):\n",
    "    def get_group_and_descr(value):\n",
    "        group = int(value/100)\n",
    "        return group, df_mcc_groups.loc[group]['mcc_description']\n",
    "    \n",
    "    _df_transactions['mcc_code_group'] = _df_transactions['mcc_code'].apply(lambda value: int(value/100))\n",
    "    _df_transactions['tr_type_group'] = _df_transactions['tr_type'].apply(lambda value: int(value/100))\n",
    "    _df_transactions.drop(['mcc_code', 'tr_type'], axis=1)\n",
    "    \n",
    "# @DYING HERE BECAUSE IT\"S TO MUCH \n",
    "#     mcc_gd = []\n",
    "#     tr_gd = []\n",
    "#     for idx in _df_transactions.index:\n",
    "#         mcc_gd.append(_df_mccg.loc[_df_transactions.at(idx, 'mcc_code_group')]['mcc_description'])\n",
    "#         tr_gd.append(df_trg.loc[_df_transactions.at(idx, 'tr_type_group')]['tr_description'])\n",
    "        \n",
    "    \n",
    "#     _df_transactions['mcc_gd'], _df_transactions['tr_gd'] = mcc_gd, tr_gd\n",
    "    \n",
    "#     del mcc_gd, tr_gd\n",
    "    \n",
    "    \n",
    "    # Делаем группы по кодам\n",
    "    df_mcc_groups_counts = _df_transactions.pivot_table(index=['customer_id'], \n",
    "                                                        columns='mcc_code_group', \n",
    "                                                        values='amount', \n",
    "                                                        aggfunc=np.size, fill_value=0)\n",
    "    \n",
    "    # Делаем группы по типу транзакций, однако в презентации было сказано, что убирали редкие типы\n",
    "    # Так как я не понял, как подбиралась величина редкости, то я просто оставил все (скорее это плохо)\n",
    "    df_tr_groups_counts = _df_transactions.pivot_table(index=['customer_id'],\n",
    "                                                      columns='tr_type_group',\n",
    "                                                      values='amount',\n",
    "                                                      aggfunc=np.size, fill_value=0)\n",
    "    \n",
    "    df_mcc_groups_counts = df_mcc_groups_counts.rename(lambda x: 'mcc_group_{}_count'.format(x), axis=1)\n",
    "    df_tr_groups_counts = df_tr_groups_counts.rename(lambda x: 'tr_group_{}_count'.format(x), axis=1)\n",
    "    \n",
    "    \n",
    "    \n",
    "    \n",
    "    return _df_gender.join(df_mcc_groups_counts, on='customer_id', how='left')\\\n",
    "                        .join(df_tr_groups_counts, on='customer_id', how='left')"
   ]
  },
  {
   "cell_type": "code",
   "execution_count": null,
   "metadata": {
    "collapsed": false
   },
   "outputs": [],
   "source": []
  },
  {
   "cell_type": "code",
   "execution_count": 46,
   "metadata": {
    "collapsed": false
   },
   "outputs": [],
   "source": [
    "_df_features = df_gender.pipe(create_tr_and_mcc_groups_features, df_transactions, df_mcc_groups, df_tr_groups)"
   ]
  },
  {
   "cell_type": "code",
   "execution_count": 47,
   "metadata": {
    "collapsed": false
   },
   "outputs": [
    {
     "data": {
      "text/html": [
       "<div>\n",
       "<style scoped>\n",
       "    .dataframe tbody tr th:only-of-type {\n",
       "        vertical-align: middle;\n",
       "    }\n",
       "\n",
       "    .dataframe tbody tr th {\n",
       "        vertical-align: top;\n",
       "    }\n",
       "\n",
       "    .dataframe thead th {\n",
       "        text-align: right;\n",
       "    }\n",
       "</style>\n",
       "<table border=\"1\" class=\"dataframe\">\n",
       "  <thead>\n",
       "    <tr style=\"text-align: right;\">\n",
       "      <th></th>\n",
       "      <th>customer_id</th>\n",
       "      <th>gender</th>\n",
       "      <th>mcc_group_7_count</th>\n",
       "      <th>mcc_group_17_count</th>\n",
       "      <th>mcc_group_27_count</th>\n",
       "      <th>mcc_group_30_count</th>\n",
       "      <th>mcc_group_33_count</th>\n",
       "      <th>mcc_group_35_count</th>\n",
       "      <th>mcc_group_41_count</th>\n",
       "      <th>mcc_group_42_count</th>\n",
       "      <th>...</th>\n",
       "      <th>tr_group_24_count</th>\n",
       "      <th>tr_group_40_count</th>\n",
       "      <th>tr_group_41_count</th>\n",
       "      <th>tr_group_42_count</th>\n",
       "      <th>tr_group_45_count</th>\n",
       "      <th>tr_group_60_count</th>\n",
       "      <th>tr_group_61_count</th>\n",
       "      <th>tr_group_62_count</th>\n",
       "      <th>tr_group_70_count</th>\n",
       "      <th>tr_group_81_count</th>\n",
       "    </tr>\n",
       "  </thead>\n",
       "  <tbody>\n",
       "    <tr>\n",
       "      <th>0</th>\n",
       "      <td>75562265</td>\n",
       "      <td>0</td>\n",
       "      <td>0</td>\n",
       "      <td>0</td>\n",
       "      <td>0</td>\n",
       "      <td>0</td>\n",
       "      <td>0</td>\n",
       "      <td>0</td>\n",
       "      <td>0</td>\n",
       "      <td>0</td>\n",
       "      <td>...</td>\n",
       "      <td>0</td>\n",
       "      <td>1</td>\n",
       "      <td>0</td>\n",
       "      <td>0</td>\n",
       "      <td>0</td>\n",
       "      <td>0</td>\n",
       "      <td>0</td>\n",
       "      <td>0</td>\n",
       "      <td>47</td>\n",
       "      <td>0</td>\n",
       "    </tr>\n",
       "    <tr>\n",
       "      <th>1</th>\n",
       "      <td>10928546</td>\n",
       "      <td>1</td>\n",
       "      <td>0</td>\n",
       "      <td>0</td>\n",
       "      <td>0</td>\n",
       "      <td>0</td>\n",
       "      <td>0</td>\n",
       "      <td>0</td>\n",
       "      <td>0</td>\n",
       "      <td>0</td>\n",
       "      <td>...</td>\n",
       "      <td>0</td>\n",
       "      <td>33</td>\n",
       "      <td>1</td>\n",
       "      <td>0</td>\n",
       "      <td>0</td>\n",
       "      <td>3</td>\n",
       "      <td>1</td>\n",
       "      <td>1</td>\n",
       "      <td>16</td>\n",
       "      <td>0</td>\n",
       "    </tr>\n",
       "    <tr>\n",
       "      <th>2</th>\n",
       "      <td>69348468</td>\n",
       "      <td>1</td>\n",
       "      <td>0</td>\n",
       "      <td>0</td>\n",
       "      <td>0</td>\n",
       "      <td>0</td>\n",
       "      <td>0</td>\n",
       "      <td>0</td>\n",
       "      <td>0</td>\n",
       "      <td>0</td>\n",
       "      <td>...</td>\n",
       "      <td>0</td>\n",
       "      <td>0</td>\n",
       "      <td>0</td>\n",
       "      <td>0</td>\n",
       "      <td>0</td>\n",
       "      <td>0</td>\n",
       "      <td>0</td>\n",
       "      <td>0</td>\n",
       "      <td>5</td>\n",
       "      <td>0</td>\n",
       "    </tr>\n",
       "    <tr>\n",
       "      <th>3</th>\n",
       "      <td>84816985</td>\n",
       "      <td>1</td>\n",
       "      <td>0</td>\n",
       "      <td>0</td>\n",
       "      <td>0</td>\n",
       "      <td>0</td>\n",
       "      <td>0</td>\n",
       "      <td>0</td>\n",
       "      <td>0</td>\n",
       "      <td>0</td>\n",
       "      <td>...</td>\n",
       "      <td>1</td>\n",
       "      <td>8</td>\n",
       "      <td>0</td>\n",
       "      <td>0</td>\n",
       "      <td>0</td>\n",
       "      <td>0</td>\n",
       "      <td>1</td>\n",
       "      <td>0</td>\n",
       "      <td>22</td>\n",
       "      <td>0</td>\n",
       "    </tr>\n",
       "    <tr>\n",
       "      <th>4</th>\n",
       "      <td>61009479</td>\n",
       "      <td>0</td>\n",
       "      <td>0</td>\n",
       "      <td>0</td>\n",
       "      <td>0</td>\n",
       "      <td>0</td>\n",
       "      <td>0</td>\n",
       "      <td>0</td>\n",
       "      <td>2</td>\n",
       "      <td>0</td>\n",
       "      <td>...</td>\n",
       "      <td>0</td>\n",
       "      <td>31</td>\n",
       "      <td>2</td>\n",
       "      <td>0</td>\n",
       "      <td>0</td>\n",
       "      <td>0</td>\n",
       "      <td>0</td>\n",
       "      <td>0</td>\n",
       "      <td>103</td>\n",
       "      <td>0</td>\n",
       "    </tr>\n",
       "    <tr>\n",
       "      <th>5</th>\n",
       "      <td>74045822</td>\n",
       "      <td>0</td>\n",
       "      <td>0</td>\n",
       "      <td>0</td>\n",
       "      <td>0</td>\n",
       "      <td>0</td>\n",
       "      <td>0</td>\n",
       "      <td>0</td>\n",
       "      <td>0</td>\n",
       "      <td>0</td>\n",
       "      <td>...</td>\n",
       "      <td>0</td>\n",
       "      <td>9</td>\n",
       "      <td>0</td>\n",
       "      <td>0</td>\n",
       "      <td>0</td>\n",
       "      <td>0</td>\n",
       "      <td>0</td>\n",
       "      <td>0</td>\n",
       "      <td>10</td>\n",
       "      <td>0</td>\n",
       "    </tr>\n",
       "    <tr>\n",
       "      <th>6</th>\n",
       "      <td>27979606</td>\n",
       "      <td>1</td>\n",
       "      <td>0</td>\n",
       "      <td>0</td>\n",
       "      <td>0</td>\n",
       "      <td>0</td>\n",
       "      <td>0</td>\n",
       "      <td>0</td>\n",
       "      <td>0</td>\n",
       "      <td>0</td>\n",
       "      <td>...</td>\n",
       "      <td>0</td>\n",
       "      <td>0</td>\n",
       "      <td>0</td>\n",
       "      <td>0</td>\n",
       "      <td>0</td>\n",
       "      <td>0</td>\n",
       "      <td>0</td>\n",
       "      <td>0</td>\n",
       "      <td>2</td>\n",
       "      <td>0</td>\n",
       "    </tr>\n",
       "    <tr>\n",
       "      <th>7</th>\n",
       "      <td>54129921</td>\n",
       "      <td>0</td>\n",
       "      <td>0</td>\n",
       "      <td>0</td>\n",
       "      <td>0</td>\n",
       "      <td>0</td>\n",
       "      <td>0</td>\n",
       "      <td>0</td>\n",
       "      <td>0</td>\n",
       "      <td>0</td>\n",
       "      <td>...</td>\n",
       "      <td>0</td>\n",
       "      <td>17</td>\n",
       "      <td>11</td>\n",
       "      <td>0</td>\n",
       "      <td>0</td>\n",
       "      <td>0</td>\n",
       "      <td>0</td>\n",
       "      <td>0</td>\n",
       "      <td>15</td>\n",
       "      <td>0</td>\n",
       "    </tr>\n",
       "    <tr>\n",
       "      <th>8</th>\n",
       "      <td>23160845</td>\n",
       "      <td>0</td>\n",
       "      <td>0</td>\n",
       "      <td>0</td>\n",
       "      <td>0</td>\n",
       "      <td>0</td>\n",
       "      <td>0</td>\n",
       "      <td>0</td>\n",
       "      <td>0</td>\n",
       "      <td>0</td>\n",
       "      <td>...</td>\n",
       "      <td>1</td>\n",
       "      <td>3</td>\n",
       "      <td>14</td>\n",
       "      <td>1</td>\n",
       "      <td>0</td>\n",
       "      <td>0</td>\n",
       "      <td>0</td>\n",
       "      <td>0</td>\n",
       "      <td>10</td>\n",
       "      <td>0</td>\n",
       "    </tr>\n",
       "    <tr>\n",
       "      <th>9</th>\n",
       "      <td>44160317</td>\n",
       "      <td>1</td>\n",
       "      <td>0</td>\n",
       "      <td>0</td>\n",
       "      <td>0</td>\n",
       "      <td>0</td>\n",
       "      <td>0</td>\n",
       "      <td>0</td>\n",
       "      <td>0</td>\n",
       "      <td>0</td>\n",
       "      <td>...</td>\n",
       "      <td>0</td>\n",
       "      <td>16</td>\n",
       "      <td>0</td>\n",
       "      <td>0</td>\n",
       "      <td>0</td>\n",
       "      <td>0</td>\n",
       "      <td>0</td>\n",
       "      <td>0</td>\n",
       "      <td>283</td>\n",
       "      <td>0</td>\n",
       "    </tr>\n",
       "  </tbody>\n",
       "</table>\n",
       "<p>10 rows × 64 columns</p>\n",
       "</div>"
      ],
      "text/plain": [
       "   customer_id  gender  mcc_group_7_count  mcc_group_17_count  \\\n",
       "0     75562265       0                  0                   0   \n",
       "1     10928546       1                  0                   0   \n",
       "2     69348468       1                  0                   0   \n",
       "3     84816985       1                  0                   0   \n",
       "4     61009479       0                  0                   0   \n",
       "5     74045822       0                  0                   0   \n",
       "6     27979606       1                  0                   0   \n",
       "7     54129921       0                  0                   0   \n",
       "8     23160845       0                  0                   0   \n",
       "9     44160317       1                  0                   0   \n",
       "\n",
       "   mcc_group_27_count  mcc_group_30_count  mcc_group_33_count  \\\n",
       "0                   0                   0                   0   \n",
       "1                   0                   0                   0   \n",
       "2                   0                   0                   0   \n",
       "3                   0                   0                   0   \n",
       "4                   0                   0                   0   \n",
       "5                   0                   0                   0   \n",
       "6                   0                   0                   0   \n",
       "7                   0                   0                   0   \n",
       "8                   0                   0                   0   \n",
       "9                   0                   0                   0   \n",
       "\n",
       "   mcc_group_35_count  mcc_group_41_count  mcc_group_42_count  \\\n",
       "0                   0                   0                   0   \n",
       "1                   0                   0                   0   \n",
       "2                   0                   0                   0   \n",
       "3                   0                   0                   0   \n",
       "4                   0                   2                   0   \n",
       "5                   0                   0                   0   \n",
       "6                   0                   0                   0   \n",
       "7                   0                   0                   0   \n",
       "8                   0                   0                   0   \n",
       "9                   0                   0                   0   \n",
       "\n",
       "         ...          tr_group_24_count  tr_group_40_count  tr_group_41_count  \\\n",
       "0        ...                          0                  1                  0   \n",
       "1        ...                          0                 33                  1   \n",
       "2        ...                          0                  0                  0   \n",
       "3        ...                          1                  8                  0   \n",
       "4        ...                          0                 31                  2   \n",
       "5        ...                          0                  9                  0   \n",
       "6        ...                          0                  0                  0   \n",
       "7        ...                          0                 17                 11   \n",
       "8        ...                          1                  3                 14   \n",
       "9        ...                          0                 16                  0   \n",
       "\n",
       "   tr_group_42_count  tr_group_45_count  tr_group_60_count  tr_group_61_count  \\\n",
       "0                  0                  0                  0                  0   \n",
       "1                  0                  0                  3                  1   \n",
       "2                  0                  0                  0                  0   \n",
       "3                  0                  0                  0                  1   \n",
       "4                  0                  0                  0                  0   \n",
       "5                  0                  0                  0                  0   \n",
       "6                  0                  0                  0                  0   \n",
       "7                  0                  0                  0                  0   \n",
       "8                  1                  0                  0                  0   \n",
       "9                  0                  0                  0                  0   \n",
       "\n",
       "   tr_group_62_count  tr_group_70_count  tr_group_81_count  \n",
       "0                  0                 47                  0  \n",
       "1                  1                 16                  0  \n",
       "2                  0                  5                  0  \n",
       "3                  0                 22                  0  \n",
       "4                  0                103                  0  \n",
       "5                  0                 10                  0  \n",
       "6                  0                  2                  0  \n",
       "7                  0                 15                  0  \n",
       "8                  0                 10                  0  \n",
       "9                  0                283                  0  \n",
       "\n",
       "[10 rows x 64 columns]"
      ]
     },
     "execution_count": 47,
     "metadata": {},
     "output_type": "execute_result"
    }
   ],
   "source": [
    "_df_features.head(n=10)"
   ]
  },
  {
   "cell_type": "code",
   "execution_count": 48,
   "metadata": {
    "collapsed": false
   },
   "outputs": [],
   "source": [
    "def get_X_and_y(_df_features):\n",
    "    return _df_features.loc[:, _df_features.columns != 'gender'].values,\\\n",
    "           _df_features.loc[:, _df_features.columns == 'gender'].values.flatten()"
   ]
  },
  {
   "cell_type": "code",
   "execution_count": 49,
   "metadata": {
    "collapsed": false
   },
   "outputs": [],
   "source": [
    "X, y = get_X_and_y(_df_features)"
   ]
  },
  {
   "cell_type": "code",
   "execution_count": null,
   "metadata": {
    "collapsed": false
   },
   "outputs": [],
   "source": []
  },
  {
   "cell_type": "code",
   "execution_count": null,
   "metadata": {
    "collapsed": true
   },
   "outputs": [],
   "source": []
  },
  {
   "cell_type": "markdown",
   "metadata": {},
   "source": [
    "## Поиск гиперпараметров"
   ]
  },
  {
   "cell_type": "markdown",
   "metadata": {},
   "source": [
    "Реализуйте функцию для hyperopt по перебору гипер параметров вашего пайплайна\n",
    "\n",
    "На всякий случай почитайте еще про [`FeatureUnion`](http://scikit-learn.org/stable/modules/generated/sklearn.pipeline.FeatureUnion.html) и [пример](http://scikit-learn.org/stable/auto_examples/hetero_feature_union.html#sphx-glr-auto-examples-hetero-feature-union-py)"
   ]
  },
  {
   "cell_type": "code",
   "execution_count": 59,
   "metadata": {
    "collapsed": false
   },
   "outputs": [],
   "source": [
    "from sklearn.base import BaseEstimator, TransformerMixin\n",
    "from sklearn.pipeline import FeatureUnion, Pipeline, make_union\n",
    "from sklearn.preprocessing import RobustScaler,StandardScaler\n",
    "from sklearn.model_selection import cross_val_score\n",
    "from sklearn.model_selection import StratifiedKFold\n",
    "from sklearn.feature_selection import SelectKBest\n",
    "from sklearn.feature_extraction.text import CountVectorizer, TfidfVectorizer\n",
    "from sklearn.linear_model import LogisticRegression\n",
    "from hyperopt import fmin, tpe, hp, Trials, STATUS_OK, rand\n",
    "\n",
    "import warnings\n",
    "warnings.filterwarnings(\"ignore\")"
   ]
  },
  {
   "cell_type": "code",
   "execution_count": 51,
   "metadata": {
    "collapsed": false
   },
   "outputs": [],
   "source": [
    "# А это трансформер, который выбирает подможнество столбцов из матрицы X\n",
    "# Который нужен для того, чтобы делать какие-то действия только для подмноества столбцов, а потом объединять результаты\n",
    "# Через FeatureUnion\n",
    "\n",
    "class ColumnSelector(BaseEstimator, TransformerMixin):\n",
    "    def __init__(self, col_idx):\n",
    "        self.col_idx = col_idx\n",
    "    \n",
    "    def fit(self, X, y=None):\n",
    "        return self\n",
    "\n",
    "    def transform(self, X):\n",
    "        return X[:, self.col_idx]"
   ]
  },
  {
   "cell_type": "code",
   "execution_count": 54,
   "metadata": {
    "collapsed": false
   },
   "outputs": [],
   "source": [
    "RND_SEED=123"
   ]
  },
  {
   "cell_type": "code",
   "execution_count": 63,
   "metadata": {
    "collapsed": false
   },
   "outputs": [],
   "source": [
    "def hyperopt_grinding(X, y, kwargs):\n",
    "\n",
    "    def hyperopt_cv(X, y, params):\n",
    "        \n",
    "        lr_params = {}\n",
    "        skbest_params = {}\n",
    "        csel_params = {}\n",
    "        for k, v in params.items():\n",
    "            if k.startswith('glob'):\n",
    "                continue                \n",
    "            elif k.startswith('lr'):\n",
    "                lr_params[k.split('_', 1)[1]] = v\n",
    "            elif k.startswith('skbest'):\n",
    "                skbest_params[k.split('_', 1)[1]] = v\n",
    "            elif k.startswith('csel'):\n",
    "                csel_params[k.split('_', 1)[1]] = v\n",
    "\n",
    "        # Задаем шкалирование\n",
    "        if params['scaler_type'] == 'standart':\n",
    "            scaler = StandardScaler(with_mean=params['scaler_centering'])\n",
    "        else:\n",
    "            scaler = RobustScaler(with_centering=params['scaler_centering'])\n",
    "            \n",
    "        models_pipeline = Pipeline([\n",
    "            ('scaler', scaler)\n",
    "            ,\n",
    "#             ('f_union', FeatureUnion(transformer_list=[\n",
    "#                             ('mcc_descr', Pipeline([\n",
    "#                                         ('csel', ColumnSelector('mcc_group_description'))\n",
    "#                                         ,\n",
    "#                                         ('cv', CountVectorizer())\n",
    "#                                     ]))\n",
    "#                             ,\n",
    "#                             ('tr_descr', Pipeline([\n",
    "#                                         ('csel', ColumnSelector('tr_type_description'))\n",
    "#                                         ,\n",
    "#                                         ('tfidf', TfidfVectorizer())\n",
    "#                                     ]))\n",
    "#                         ]))\n",
    "#             ,    \n",
    "            ('clf', LogisticRegression(**lr_params))\n",
    "        ])\n",
    "\n",
    "        cv_iter = StratifiedKFold(n_splits=5, \n",
    "                                  shuffle=True, \n",
    "                                  random_state=RND_SEED)\n",
    "        \n",
    "        scores = cross_val_score(models_pipeline, \n",
    "                                 X.copy(), y,\n",
    "                                 scoring='roc_auc', \n",
    "                                 cv=cv_iter, \n",
    "                                 n_jobs=-1)\n",
    "\n",
    "        # Возвращаем среднее значение метрики и отклонение (на всякий случай)\n",
    "        return scores.mean(), scores.std()\n",
    "\n",
    "    def function(params):\n",
    "        acc, std = hyperopt_cv(X, y, params)\n",
    "        return {'loss': -acc, 'qscore': -acc, 'qscore_std': std, 'status': STATUS_OK}\n",
    "\n",
    "    trials = Trials()\n",
    "    best = fmin(function, \n",
    "                kwargs, \n",
    "                algo=tpe.suggest, \n",
    "                max_evals=100, \n",
    "                trials=trials, \n",
    "                verbose=1)\n",
    "    \n",
    "    return trials"
   ]
  },
  {
   "cell_type": "code",
   "execution_count": 64,
   "metadata": {
    "collapsed": false
   },
   "outputs": [],
   "source": [
    "hyperopt_options = {    \n",
    "    'lr_penalty': hp.choice('penalty', ['l1', 'l2']),\n",
    "    'lr_C': hp.loguniform('C', -5, 3),\n",
    "    'lr_class_weight': hp.choice('class_weight', [None, 'balanced']),\n",
    "    'lr_random_state': RND_SEED,\n",
    "    'scaler_type': hp.choice('scaler_type', ['standart', 'robust']),\n",
    "    'scaler_centering': hp.choice('scaler_centering', [False, True]),\n",
    "    'skbeast_K': hp.choice('K', [1,2]),\n",
    "    'csel_col_idx' : hp.choice('col_idx', [1,2])\n",
    "}"
   ]
  },
  {
   "cell_type": "code",
   "execution_count": 65,
   "metadata": {
    "collapsed": false
   },
   "outputs": [],
   "source": [
    "trials_result = hyperopt_grinding(X, y, hyperopt_options)"
   ]
  },
  {
   "cell_type": "code",
   "execution_count": 67,
   "metadata": {
    "collapsed": true
   },
   "outputs": [],
   "source": [
    "def trials_df(trials):\n",
    "    '''\n",
    "    Функция форматирует результаты hyperopt в dataframe\n",
    "    '''\n",
    "    tr_dict = []\n",
    "    for t in trials:\n",
    "        trial = dict()\n",
    "        for k, v in t['misc']['vals'].items():\n",
    "            trial[k] = v[0]\n",
    "\n",
    "        trial['qscore'] = -t['result']['qscore']\n",
    "        trial['qscore_std'] = -t['result']['qscore_std']\n",
    "        tr_dict.append(trial)\n",
    "\n",
    "    df_res = pd.DataFrame.from_dict(tr_dict)\n",
    "    df_res = df_res.sort_values('qscore', ascending=False)\n",
    "    \n",
    "    return df_res"
   ]
  },
  {
   "cell_type": "code",
   "execution_count": 68,
   "metadata": {
    "collapsed": false
   },
   "outputs": [
    {
     "data": {
      "text/html": [
       "<div>\n",
       "<style scoped>\n",
       "    .dataframe tbody tr th:only-of-type {\n",
       "        vertical-align: middle;\n",
       "    }\n",
       "\n",
       "    .dataframe tbody tr th {\n",
       "        vertical-align: top;\n",
       "    }\n",
       "\n",
       "    .dataframe thead th {\n",
       "        text-align: right;\n",
       "    }\n",
       "</style>\n",
       "<table border=\"1\" class=\"dataframe\">\n",
       "  <thead>\n",
       "    <tr style=\"text-align: right;\">\n",
       "      <th></th>\n",
       "      <th>C</th>\n",
       "      <th>K</th>\n",
       "      <th>class_weight</th>\n",
       "      <th>col_idx</th>\n",
       "      <th>penalty</th>\n",
       "      <th>qscore</th>\n",
       "      <th>qscore_std</th>\n",
       "      <th>scaler_centering</th>\n",
       "      <th>scaler_type</th>\n",
       "    </tr>\n",
       "  </thead>\n",
       "  <tbody>\n",
       "    <tr>\n",
       "      <th>71</th>\n",
       "      <td>0.011388</td>\n",
       "      <td>1</td>\n",
       "      <td>1</td>\n",
       "      <td>1</td>\n",
       "      <td>0</td>\n",
       "      <td>0.792876</td>\n",
       "      <td>-0.005815</td>\n",
       "      <td>0</td>\n",
       "      <td>1</td>\n",
       "    </tr>\n",
       "    <tr>\n",
       "      <th>31</th>\n",
       "      <td>0.010762</td>\n",
       "      <td>1</td>\n",
       "      <td>1</td>\n",
       "      <td>1</td>\n",
       "      <td>0</td>\n",
       "      <td>0.792844</td>\n",
       "      <td>-0.005942</td>\n",
       "      <td>0</td>\n",
       "      <td>1</td>\n",
       "    </tr>\n",
       "    <tr>\n",
       "      <th>74</th>\n",
       "      <td>0.011912</td>\n",
       "      <td>1</td>\n",
       "      <td>1</td>\n",
       "      <td>1</td>\n",
       "      <td>0</td>\n",
       "      <td>0.792842</td>\n",
       "      <td>-0.005727</td>\n",
       "      <td>0</td>\n",
       "      <td>1</td>\n",
       "    </tr>\n",
       "    <tr>\n",
       "      <th>77</th>\n",
       "      <td>0.012183</td>\n",
       "      <td>1</td>\n",
       "      <td>1</td>\n",
       "      <td>1</td>\n",
       "      <td>0</td>\n",
       "      <td>0.792833</td>\n",
       "      <td>-0.005679</td>\n",
       "      <td>0</td>\n",
       "      <td>1</td>\n",
       "    </tr>\n",
       "    <tr>\n",
       "      <th>33</th>\n",
       "      <td>0.010373</td>\n",
       "      <td>1</td>\n",
       "      <td>1</td>\n",
       "      <td>1</td>\n",
       "      <td>0</td>\n",
       "      <td>0.792833</td>\n",
       "      <td>-0.006010</td>\n",
       "      <td>0</td>\n",
       "      <td>1</td>\n",
       "    </tr>\n",
       "    <tr>\n",
       "      <th>41</th>\n",
       "      <td>0.010509</td>\n",
       "      <td>1</td>\n",
       "      <td>1</td>\n",
       "      <td>1</td>\n",
       "      <td>0</td>\n",
       "      <td>0.792830</td>\n",
       "      <td>-0.005995</td>\n",
       "      <td>0</td>\n",
       "      <td>1</td>\n",
       "    </tr>\n",
       "    <tr>\n",
       "      <th>65</th>\n",
       "      <td>0.010134</td>\n",
       "      <td>1</td>\n",
       "      <td>1</td>\n",
       "      <td>1</td>\n",
       "      <td>0</td>\n",
       "      <td>0.792812</td>\n",
       "      <td>-0.006032</td>\n",
       "      <td>0</td>\n",
       "      <td>1</td>\n",
       "    </tr>\n",
       "    <tr>\n",
       "      <th>66</th>\n",
       "      <td>0.009851</td>\n",
       "      <td>1</td>\n",
       "      <td>1</td>\n",
       "      <td>1</td>\n",
       "      <td>0</td>\n",
       "      <td>0.792812</td>\n",
       "      <td>-0.006060</td>\n",
       "      <td>0</td>\n",
       "      <td>1</td>\n",
       "    </tr>\n",
       "    <tr>\n",
       "      <th>37</th>\n",
       "      <td>0.009808</td>\n",
       "      <td>0</td>\n",
       "      <td>1</td>\n",
       "      <td>1</td>\n",
       "      <td>0</td>\n",
       "      <td>0.792809</td>\n",
       "      <td>-0.006069</td>\n",
       "      <td>0</td>\n",
       "      <td>1</td>\n",
       "    </tr>\n",
       "    <tr>\n",
       "      <th>26</th>\n",
       "      <td>0.013240</td>\n",
       "      <td>1</td>\n",
       "      <td>1</td>\n",
       "      <td>1</td>\n",
       "      <td>0</td>\n",
       "      <td>0.792787</td>\n",
       "      <td>-0.005543</td>\n",
       "      <td>0</td>\n",
       "      <td>1</td>\n",
       "    </tr>\n",
       "  </tbody>\n",
       "</table>\n",
       "</div>"
      ],
      "text/plain": [
       "           C  K  class_weight  col_idx  penalty    qscore  qscore_std  \\\n",
       "71  0.011388  1             1        1        0  0.792876   -0.005815   \n",
       "31  0.010762  1             1        1        0  0.792844   -0.005942   \n",
       "74  0.011912  1             1        1        0  0.792842   -0.005727   \n",
       "77  0.012183  1             1        1        0  0.792833   -0.005679   \n",
       "33  0.010373  1             1        1        0  0.792833   -0.006010   \n",
       "41  0.010509  1             1        1        0  0.792830   -0.005995   \n",
       "65  0.010134  1             1        1        0  0.792812   -0.006032   \n",
       "66  0.009851  1             1        1        0  0.792812   -0.006060   \n",
       "37  0.009808  0             1        1        0  0.792809   -0.006069   \n",
       "26  0.013240  1             1        1        0  0.792787   -0.005543   \n",
       "\n",
       "    scaler_centering  scaler_type  \n",
       "71                 0            1  \n",
       "31                 0            1  \n",
       "74                 0            1  \n",
       "77                 0            1  \n",
       "33                 0            1  \n",
       "41                 0            1  \n",
       "65                 0            1  \n",
       "66                 0            1  \n",
       "37                 0            1  \n",
       "26                 0            1  "
      ]
     },
     "execution_count": 68,
     "metadata": {},
     "output_type": "execute_result"
    }
   ],
   "source": [
    "dftrials= trials_df(trials_result)\n",
    "dftrials.head(n=10)"
   ]
  }
 ],
 "metadata": {
  "anaconda-cloud": {},
  "kernelspec": {
   "display_name": "Python 3",
   "language": "python",
   "name": "python3"
  },
  "language_info": {
   "codemirror_mode": {
    "name": "ipython",
    "version": 3
   },
   "file_extension": ".py",
   "mimetype": "text/x-python",
   "name": "python",
   "nbconvert_exporter": "python",
   "pygments_lexer": "ipython3",
   "version": "3.6.3"
  },
  "nav_menu": {},
  "toc": {
   "colors": {
    "hover_highlight": "#DAA520",
    "navigate_num": "#000000",
    "navigate_text": "#333333",
    "running_highlight": "#FF0000",
    "selected_highlight": "#FFD700",
    "sidebar_border": "#EEEEEE",
    "wrapper_background": "#FFFFFF"
   },
   "moveMenuLeft": true,
   "nav_menu": {
    "height": "347px",
    "width": "253px"
   },
   "navigate_menu": true,
   "number_sections": false,
   "sideBar": true,
   "threshold": 4,
   "toc_cell": true,
   "toc_position": {
    "height": "222px",
    "left": "0px",
    "right": "1247.33px",
    "top": "108px",
    "width": "182px"
   },
   "toc_section_display": "block",
   "toc_window_display": true,
   "widenNotebook": false
  },
  "toc_position": {
   "height": "40px",
   "left": "816px",
   "right": "38.6667px",
   "top": "0px",
   "width": "212px"
  }
 },
 "nbformat": 4,
 "nbformat_minor": 1
}
