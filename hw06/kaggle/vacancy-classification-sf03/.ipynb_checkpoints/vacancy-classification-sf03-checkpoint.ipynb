{
 "cells": [
  {
   "cell_type": "code",
   "execution_count": 2,
   "metadata": {
    "collapsed": false
   },
   "outputs": [
    {
     "name": "stdout",
     "output_type": "stream",
     "text": [
      "[nltk_data] Downloading package punkt to /home/alekum/nltk_data...\n",
      "[nltk_data]   Package punkt is already up-to-date!\n",
      "[nltk_data] Downloading package stopwords to /home/alekum/nltk_data...\n",
      "[nltk_data]   Package stopwords is already up-to-date!\n"
     ]
    }
   ],
   "source": [
    "import pandas as pd \n",
    "import numpy as np\n",
    "import re\n",
    "import pymystem3\n",
    "import pymorphy2\n",
    "from bs4 import BeautifulSoup\n",
    "import matplotlib.pyplot as plt\n",
    "from sklearn.feature_extraction.text import CountVectorizer, TfidfTransformer\n",
    "from nltk.text import TextCollection\n",
    "import nltk\n",
    "nltk.download('punkt')\n",
    "from nltk.corpus import stopwords\n",
    "nltk.download('stopwords')\n",
    "from collections import Counter\n",
    "%matplotlib notebook"
   ]
  },
  {
   "cell_type": "code",
   "execution_count": 2,
   "metadata": {
    "collapsed": false
   },
   "outputs": [
    {
     "name": "stdout",
     "output_type": "stream",
     "text": [
      "CPU times: user 8min 16s, sys: 1.72 s, total: 8min 18s\n",
      "Wall time: 8min 19s\n"
     ]
    }
   ],
   "source": [
    "%%time\n",
    "# NOT NECESSARY TO RUN: JUST PLAYING AROUND THE METHODS\n",
    "def strip_tags(file):\n",
    "    with open('stripped_'+file, mode='w+') as fd1:\n",
    "        with open(file, mode='r') as fd:\n",
    "            for line in fd:\n",
    "                fd1.write(BeautifulSoup(line, 'lxml').get_text())\n",
    "                \n",
    "strip_tags('train.csv')\n",
    "strip_tags('test.csv')\n",
    "# strip_tags('other.csv')\n",
    "\n",
    "# train_csv = pd.read_csv('train.csv', index_col='id', sep='\\t')\n",
    "# test_csv  = pd.read_csv('test.csv', index_col='id', sep='\\t')\n",
    "# other_csv = pd.read_csv('other.csv', sep='\\t')"
   ]
  },
  {
   "cell_type": "code",
   "execution_count": 5,
   "metadata": {
    "collapsed": false
   },
   "outputs": [
    {
     "name": "stdout",
     "output_type": "stream",
     "text": [
      "CPU times: user 5.46 s, sys: 506 ms, total: 5.96 s\n",
      "Wall time: 6.39 s\n"
     ]
    }
   ],
   "source": [
    "%%time\n",
    "# NOT NECESSARY TO RUN: JUST PLAYING AROUND THE METHODS\n",
    "def regex_stripper(file):\n",
    "    re_killer = re.compile('<.*?>')\n",
    "    with open('stripped1_'+file, mode='w+') as fd1:\n",
    "        with open(file, mode='r') as fd:\n",
    "            for line in fd:\n",
    "                fd1.write(re.sub(re_killer, '', line))\n",
    "\n",
    "regex_stripper('test.csv')"
   ]
  },
  {
   "cell_type": "code",
   "execution_count": 3,
   "metadata": {
    "collapsed": false
   },
   "outputs": [],
   "source": [
    "# df_train = pd.read_csv('stripped_train.csv', sep='\\t', index_col='id')"
   ]
  },
  {
   "cell_type": "code",
   "execution_count": 4,
   "metadata": {
    "collapsed": false
   },
   "outputs": [],
   "source": [
    "# df_test = pd.read_csv('stripped1_test.csv', sep='\\t', index_col='id')"
   ]
  },
  {
   "cell_type": "code",
   "execution_count": 85,
   "metadata": {
    "collapsed": false
   },
   "outputs": [
    {
     "name": "stdout",
     "output_type": "stream",
     "text": [
      "<class 'pandas.core.frame.DataFrame'>\n",
      "Index: 199957 entries, 0 to 199999\n",
      "Data columns (total 3 columns):\n",
      "name           199957 non-null object\n",
      "description    199952 non-null object\n",
      "target         199947 non-null float64\n",
      "dtypes: float64(1), object(2)\n",
      "memory usage: 11.1+ MB\n"
     ]
    }
   ],
   "source": [
    "# df_train.info()"
   ]
  },
  {
   "cell_type": "code",
   "execution_count": null,
   "metadata": {
    "collapsed": true
   },
   "outputs": [],
   "source": [
    "# df_test.info()"
   ]
  },
  {
   "cell_type": "code",
   "execution_count": 2,
   "metadata": {
    "collapsed": false
   },
   "outputs": [
    {
     "name": "stdout",
     "output_type": "stream",
     "text": [
      "<class 'pandas.core.frame.DataFrame'>\n",
      "Int64Index: 200000 entries, 0 to 199999\n",
      "Data columns (total 3 columns):\n",
      "name           200000 non-null object\n",
      "description    200000 non-null object\n",
      "target         200000 non-null int64\n",
      "dtypes: int64(1), object(2)\n",
      "memory usage: 6.1+ MB\n"
     ]
    }
   ],
   "source": [
    "df_train_raw = pd.read_csv('train.csv', sep='\\t', index_col='id')\n",
    "df_train_raw.info()"
   ]
  },
  {
   "cell_type": "code",
   "execution_count": 3,
   "metadata": {
    "collapsed": false
   },
   "outputs": [
    {
     "name": "stdout",
     "output_type": "stream",
     "text": [
      "<class 'pandas.core.frame.DataFrame'>\n",
      "Int64Index: 170179 entries, 200000 to 370178\n",
      "Data columns (total 2 columns):\n",
      "name           170179 non-null object\n",
      "description    170179 non-null object\n",
      "dtypes: object(2)\n",
      "memory usage: 3.9+ MB\n"
     ]
    }
   ],
   "source": [
    "df_test_raw = pd.read_csv('test.csv', sep='\\t', index_col='id')\n",
    "df_test_raw.info()"
   ]
  },
  {
   "cell_type": "code",
   "execution_count": 4,
   "metadata": {
    "collapsed": true
   },
   "outputs": [],
   "source": [
    "df_train_raw['description'] = df_train_raw['description'].map(lambda value: BeautifulSoup(value, 'lxml').text)\n",
    "df_train_raw['name'] = df_train_raw['name'].map(lambda value: BeautifulSoup(value, 'lxml').text)"
   ]
  },
  {
   "cell_type": "code",
   "execution_count": 5,
   "metadata": {
    "collapsed": true
   },
   "outputs": [],
   "source": [
    "df_test_raw['description'] = df_test_raw['description'].map(lambda value: BeautifulSoup(value, 'lxml').text)\n",
    "df_test_raw['name'] = df_test_raw['name'].map(lambda value: BeautifulSoup(value, 'lxml').text)"
   ]
  },
  {
   "cell_type": "code",
   "execution_count": 10,
   "metadata": {
    "collapsed": false
   },
   "outputs": [],
   "source": [
    "df_train_raw.head()\n",
    "df_train_raw.to_csv('cleared_train.csv', sep='\\t', index=True)"
   ]
  },
  {
   "cell_type": "code",
   "execution_count": 8,
   "metadata": {
    "collapsed": false
   },
   "outputs": [],
   "source": [
    "df_test_raw.head()\n",
    "df_test_raw.to_csv('cleared_test.csv', sep='\\t', index=True)"
   ]
  },
  {
   "cell_type": "code",
   "execution_count": 11,
   "metadata": {
    "collapsed": false
   },
   "outputs": [
    {
     "data": {
      "text/plain": [
       "(array([], dtype=int64),)"
      ]
     },
     "execution_count": 11,
     "metadata": {},
     "output_type": "execute_result"
    }
   ],
   "source": [
    "np.where(np.isnan(df_train_raw['target']) == True)"
   ]
  },
  {
   "cell_type": "code",
   "execution_count": 3,
   "metadata": {
    "collapsed": false
   },
   "outputs": [],
   "source": [
    "df_train = pd.read_csv('cleared_train.csv', sep='\\t', index_col='id')"
   ]
  },
  {
   "cell_type": "code",
   "execution_count": 4,
   "metadata": {
    "collapsed": true
   },
   "outputs": [],
   "source": [
    "df_test = pd.read_csv('cleared_test.csv', sep='\\t', index_col='id')"
   ]
  },
  {
   "cell_type": "code",
   "execution_count": 7,
   "metadata": {
    "collapsed": false
   },
   "outputs": [
    {
     "name": "stdout",
     "output_type": "stream",
     "text": [
      "<class 'pandas.core.frame.DataFrame'>\n",
      "Int64Index: 200000 entries, 0 to 199999\n",
      "Data columns (total 3 columns):\n",
      "name           200000 non-null object\n",
      "description    200000 non-null object\n",
      "target         200000 non-null int64\n",
      "dtypes: int64(1), object(2)\n",
      "memory usage: 11.1+ MB\n",
      "<class 'pandas.core.frame.DataFrame'>\n",
      "Int64Index: 170179 entries, 200000 to 370178\n",
      "Data columns (total 2 columns):\n",
      "name           170179 non-null object\n",
      "description    170179 non-null object\n",
      "dtypes: object(2)\n",
      "memory usage: 3.9+ MB\n"
     ]
    },
    {
     "data": {
      "text/plain": [
       "(None, None)"
      ]
     },
     "execution_count": 7,
     "metadata": {},
     "output_type": "execute_result"
    }
   ],
   "source": [
    "df_train.info(), df_test.info()"
   ]
  },
  {
   "cell_type": "code",
   "execution_count": 8,
   "metadata": {
    "collapsed": false
   },
   "outputs": [
    {
     "name": "stdout",
     "output_type": "stream",
     "text": [
      "<class 'pandas.core.frame.DataFrame'>\n",
      "Int64Index: 370179 entries, 0 to 370178\n",
      "Data columns (total 3 columns):\n",
      "name           370179 non-null object\n",
      "description    370179 non-null object\n",
      "sample         370179 non-null object\n",
      "dtypes: object(3)\n",
      "memory usage: 11.3+ MB\n"
     ]
    }
   ],
   "source": [
    "y_train = df_train['target']\n",
    "X_train = df_train.drop(['target'], axis=1)\n",
    "X_test  = df_test\n",
    "\n",
    "X_test['sample'] = 'test'\n",
    "X_train['sample'] = 'train'\n",
    "\n",
    "df = X_train.append(X_test)\n",
    "df.info()"
   ]
  },
  {
   "cell_type": "code",
   "execution_count": 10,
   "metadata": {
    "collapsed": false
   },
   "outputs": [
    {
     "data": {
      "text/plain": [
       "Менеджер по продажам                                           11643\n",
       "Продавец-консультант                                            9644\n",
       "Торговый представитель                                          9591\n",
       "Менеджер по работе с клиентами                                  6437\n",
       "Продавец-кассир                                                 2846\n",
       "Системный администратор                                         2792\n",
       "Мерчендайзер                                                    2762\n",
       "Маркетолог                                                      2108\n",
       "Программист 1С                                                  1897\n",
       "Менеджер по оптовым продажам                                    1868\n",
       "Руководитель отдела продаж                                      1619\n",
       "Инженер-конструктор                                             1615\n",
       "Продавец                                                        1485\n",
       "Фрезеровщик                                                     1298\n",
       "Кассир                                                          1280\n",
       "Менеджер по привлечению клиентов малого и среднего бизнеса      1177\n",
       "Интернет-маркетолог                                             1077\n",
       "Директор магазина                                               1028\n",
       "Специалист по работе с клиентами                                1025\n",
       "Специалист по продажам                                          1020\n",
       "Региональный менеджер по продажам                                991\n",
       "Инженер-технолог                                                 947\n",
       "SMM-менеджер                                                     931\n",
       "Территориальный менеджер                                         883\n",
       "Региональный менеджер                                            873\n",
       "Контент-менеджер                                                 854\n",
       "Программист 1C                                                   805\n",
       "Менеджер отдела продаж                                           719\n",
       "Супервайзер                                                      715\n",
       "Менеджер по закупкам                                             679\n",
       "                                                               ...  \n",
       "Middle web-developer / Веб-разработчик                             1\n",
       "Wordpress web developer                                            1\n",
       "Продавец-консультант ТЦ Авиапарк                                   1\n",
       "Консультант по страхованию                                         1\n",
       "REGIONAL SALES MANAGER (Agricultural Sector)                       1\n",
       "Заправщик картриджей                                               1\n",
       "Тайный покупатель / контролер торговой точки, Саяногорск           1\n",
       "Стационарный мерчендайзер (м. Международная)                       1\n",
       "Руководитель отдела PR & Media                                     1\n",
       "Java-разработчик Vaadin                                            1\n",
       "Монтажник спутникового телевидения                                 1\n",
       "Продавец-кассир (м. Динамо, улица Восточная)                       1\n",
       "Программист PHP/SQL                                                1\n",
       "Разработчик мобильных компонентов                                  1\n",
       "Senior QA Engineer, Virtual Surgical System                        1\n",
       "Приёмщик товара/кладовщик (Ленинский Проспект, Парк Победы)        1\n",
       "Менеджер - оператор 1С                                             1\n",
       "Продавец-кассир в ТЦ Бум                                           1\n",
       "Руководитель проекта (нефтепогружной кабель)                       1\n",
       "Эксперт-товаровед                                                  1\n",
       "Site Manager for Key Travel (Kyiv)                                 1\n",
       "Разработчик сайтов на word-press                                   1\n",
       "Продавец-консультант (шоссе Космонавтов)                           1\n",
       "Кассир-консультант Timberland (ТЦ Европа)                          1\n",
       "Кассир (м. Московские ворота, Московский проспект)                 1\n",
       "Senior Java Backend Developer                                      1\n",
       "Менеджер по Тепловой Автоматике                                    1\n",
       "Техничка (уборщик)                                                 1\n",
       "Ведущий Аналитик (Middle)                                          1\n",
       "Младший Bitrix-разработчик                                         1\n",
       "Name: name, Length: 113447, dtype: int64"
      ]
     },
     "execution_count": 10,
     "metadata": {},
     "output_type": "execute_result"
    }
   ],
   "source": [
    "df['name'].value_counts()"
   ]
  },
  {
   "cell_type": "code",
   "execution_count": 11,
   "metadata": {
    "collapsed": false
   },
   "outputs": [],
   "source": [
    "# Get rid of from all non helpful things from the text: по, (текст какой-то в скобках), slashes and etc\n",
    "re_parentheses_trash_ripper = re.compile(\"[!#$%&'*+.,^_`|~:;]|\\(.*?\\)\", flags=re.IGNORECASE)\n",
    "re_slash_dash_replacer = re.compile(\"[-/[\\\\]]\")\n",
    "re_double_quotes_ripper = re.compile(\"\\\".*?\\\"\")\n",
    "re_html_escapers = re.compile(\"&\\w+;\")\n",
    "re_punctuation_ripper = re.compile(\"[!\\\"#$%&\\'()*+,-./:;<=>?@[\\\\]^_`{|}~]\", flags=re.IGNORECASE)\n",
    "\n",
    "def erase_chars_by_pattern(_text, _re_compiled_pattern, _substitution=''):\n",
    "    _text = re.sub(_re_compiled_pattern, \n",
    "                   _substitution, \n",
    "                   str(_text)).strip()\n",
    "    return _text"
   ]
  },
  {
   "cell_type": "code",
   "execution_count": 12,
   "metadata": {
    "collapsed": false
   },
   "outputs": [],
   "source": [
    "def preprocessing_data(df):\n",
    "    # I am too far away from doing it more efficiently putting it into pipeline(loop) with line of the parameters\n",
    "    # so, suck it up=)\n",
    "    df['name'] = df['name'].map(lambda value: erase_chars_by_pattern(value, re_parentheses_trash_ripper))\n",
    "    df['name'] = df['name'].map(lambda value: erase_chars_by_pattern(value, re_slash_dash_replacer, ' '))\n",
    "    df['name'] = df['name'].map(lambda value: erase_chars_by_pattern(value, re_double_quotes_ripper))\n",
    "    df['name'] = df['name'].map(lambda value: str(value).lower())\n",
    "    \n",
    "    df['description'] = df['description'].map(lambda value: erase_chars_by_pattern(value, re_slash_dash_replacer, ' '))\n",
    "    df['description'] = df['description'].map(lambda value: erase_chars_by_pattern(value, re_punctuation_ripper))\n",
    "    df['description'] = df['description'].map(lambda value: erase_chars_by_pattern(value, re_html_escapers))\n",
    "    df['description'] = df['description'].map(lambda value: str(value).lower())\n",
    "    df['description'] = df['description'].map(lambda value: ' '.join([word for word in value.split() if word.isalnum()]))\n",
    "    \n",
    "    return df"
   ]
  },
  {
   "cell_type": "code",
   "execution_count": 13,
   "metadata": {
    "collapsed": false
   },
   "outputs": [
    {
     "data": {
      "text/html": [
       "<div>\n",
       "<style scoped>\n",
       "    .dataframe tbody tr th:only-of-type {\n",
       "        vertical-align: middle;\n",
       "    }\n",
       "\n",
       "    .dataframe tbody tr th {\n",
       "        vertical-align: top;\n",
       "    }\n",
       "\n",
       "    .dataframe thead th {\n",
       "        text-align: right;\n",
       "    }\n",
       "</style>\n",
       "<table border=\"1\" class=\"dataframe\">\n",
       "  <thead>\n",
       "    <tr style=\"text-align: right;\">\n",
       "      <th></th>\n",
       "      <th>name</th>\n",
       "      <th>description</th>\n",
       "      <th>sample</th>\n",
       "    </tr>\n",
       "    <tr>\n",
       "      <th>id</th>\n",
       "      <th></th>\n",
       "      <th></th>\n",
       "      <th></th>\n",
       "    </tr>\n",
       "  </thead>\n",
       "  <tbody>\n",
       "    <tr>\n",
       "      <th>0</th>\n",
       "      <td>заведующий отделом секцией в магазин york</td>\n",
       "      <td>в новый магазин york хозтовары приглашаем на п...</td>\n",
       "      <td>train</td>\n",
       "    </tr>\n",
       "    <tr>\n",
       "      <th>1</th>\n",
       "      <td>наладчик станков и манипуляторов с пу</td>\n",
       "      <td>обязанностиработа на токарных станках с чпу ta...</td>\n",
       "      <td>train</td>\n",
       "    </tr>\n",
       "    <tr>\n",
       "      <th>2</th>\n",
       "      <td>разработчик с</td>\n",
       "      <td>требования опыт программирования на с знание б...</td>\n",
       "      <td>train</td>\n",
       "    </tr>\n",
       "    <tr>\n",
       "      <th>3</th>\n",
       "      <td>фрезеровщик</td>\n",
       "      <td>условия на работу вахтовым методом в г калуга ...</td>\n",
       "      <td>train</td>\n",
       "    </tr>\n",
       "    <tr>\n",
       "      <th>4</th>\n",
       "      <td>мерчендайзер продавец консультант</td>\n",
       "      <td>компания палладиум стандарт признанный лидер п...</td>\n",
       "      <td>train</td>\n",
       "    </tr>\n",
       "  </tbody>\n",
       "</table>\n",
       "</div>"
      ],
      "text/plain": [
       "                                         name  \\\n",
       "id                                              \n",
       "0   заведующий отделом секцией в магазин york   \n",
       "1       наладчик станков и манипуляторов с пу   \n",
       "2                               разработчик с   \n",
       "3                                 фрезеровщик   \n",
       "4           мерчендайзер продавец консультант   \n",
       "\n",
       "                                          description sample  \n",
       "id                                                            \n",
       "0   в новый магазин york хозтовары приглашаем на п...  train  \n",
       "1   обязанностиработа на токарных станках с чпу ta...  train  \n",
       "2   требования опыт программирования на с знание б...  train  \n",
       "3   условия на работу вахтовым методом в г калуга ...  train  \n",
       "4   компания палладиум стандарт признанный лидер п...  train  "
      ]
     },
     "execution_count": 13,
     "metadata": {},
     "output_type": "execute_result"
    }
   ],
   "source": [
    "df.pipe(preprocessing_data).head()"
   ]
  },
  {
   "cell_type": "code",
   "execution_count": null,
   "metadata": {
    "collapsed": false
   },
   "outputs": [],
   "source": []
  },
  {
   "cell_type": "code",
   "execution_count": 15,
   "metadata": {
    "collapsed": false
   },
   "outputs": [
    {
     "data": {
      "text/plain": [
       "((200000, 3), (170179, 3), 370179, (200000,))"
      ]
     },
     "execution_count": 15,
     "metadata": {},
     "output_type": "execute_result"
    }
   ],
   "source": [
    "X_train.shape, X_test.shape, X_train.shape[0] + X_test.shape[0], y_train.shape"
   ]
  },
  {
   "cell_type": "code",
   "execution_count": 16,
   "metadata": {
    "collapsed": false
   },
   "outputs": [],
   "source": [
    "stem   = pymystem3.Mystem()\n",
    "morph  = pymorphy2.MorphAnalyzer()"
   ]
  },
  {
   "cell_type": "code",
   "execution_count": 17,
   "metadata": {
    "collapsed": false
   },
   "outputs": [],
   "source": [
    "_stopwords = []\n",
    "_stopwords.extend(stopwords.words('english'))\n",
    "_stopwords.extend(stopwords.words('russian'))\n",
    "\n",
    "def is_digit(g):\n",
    "    try:\n",
    "        float(g)\n",
    "    except ValueError:\n",
    "        return False\n",
    "    return True\n",
    "\n",
    "mystem_tokenizer = lambda text: [w for w in stem.lemmatize(text) if w.isalnum() and w not in _stopwords and not is_digit(w)]\n",
    "morphy_tokenizer = lambda text: [morph.parse(w)[0].normal_form for w in text.split() if w.isalnum() and not is_digit(w) and w not in _stopwords]\n",
    "nltk_tokenizer   = lambda text: [w for w in nltk.word_tokenize(text) if w.isalnum() and not is_digit(w) and w not in _stopwords]\n",
    "\n",
    "def get_count_vect_words(_cv) -> list:\n",
    "    return [x[0] for x in sorted(_cv.vocabulary_.items(), key=lambda x: x[1])]\n",
    "\n",
    "def stemmer_runner(stemmers, text):\n",
    "    return [stemmer(text) for stemmer in stemmers]"
   ]
  },
  {
   "cell_type": "code",
   "execution_count": 19,
   "metadata": {
    "collapsed": false
   },
   "outputs": [
    {
     "data": {
      "text/plain": [
       "[['должностной',\n",
       "  'обязанность',\n",
       "  'прием',\n",
       "  'выдача',\n",
       "  'заказ',\n",
       "  'работа',\n",
       "  'касса',\n",
       "  'терминал',\n",
       "  'оплата',\n",
       "  'сдача',\n",
       "  'инкассация',\n",
       "  'осуществление',\n",
       "  'товародвижение',\n",
       "  'программа',\n",
       "  '1с',\n",
       "  'торговля',\n",
       "  'склад',\n",
       "  'требование',\n",
       "  'доброжелательность',\n",
       "  'коммуникабельность',\n",
       "  'приоритет',\n",
       "  'скорость',\n",
       "  'качество',\n",
       "  'работа',\n",
       "  'неоспоримый',\n",
       "  'преимущество',\n",
       "  'знание',\n",
       "  'программа',\n",
       "  '1с',\n",
       "  'опыт',\n",
       "  'работа',\n",
       "  'касса',\n",
       "  'значительный',\n",
       "  'плюс',\n",
       "  'условие',\n",
       "  'официальный',\n",
       "  'трудоустройство',\n",
       "  'тк',\n",
       "  'рф',\n",
       "  'оплачивать',\n",
       "  'отпуск',\n",
       "  'больничный',\n",
       "  'лист',\n",
       "  'заработный',\n",
       "  'плата',\n",
       "  'окладбонус',\n",
       "  'сменный',\n",
       "  'график',\n",
       "  'место',\n",
       "  'работа',\n",
       "  'москва',\n",
       "  'м',\n",
       "  'багратионовский',\n",
       "  'тк',\n",
       "  'горбушка'],\n",
       " ['должностной',\n",
       "  'обязанность',\n",
       "  'приём',\n",
       "  'выдача',\n",
       "  'заказ',\n",
       "  'работа',\n",
       "  'касса',\n",
       "  'терминал',\n",
       "  'оплата',\n",
       "  'сдача',\n",
       "  'инкассация',\n",
       "  'осуществление',\n",
       "  'товародвижение',\n",
       "  'программа',\n",
       "  '1с',\n",
       "  'торговля',\n",
       "  'склад',\n",
       "  'требование',\n",
       "  'доброжелательность',\n",
       "  'коммуникабельность',\n",
       "  'приоритет',\n",
       "  'скорость',\n",
       "  'качество',\n",
       "  'работа',\n",
       "  'неоспоримый',\n",
       "  'преимущество',\n",
       "  'знание',\n",
       "  'программа',\n",
       "  '1с',\n",
       "  'опыт',\n",
       "  'работа',\n",
       "  'касса',\n",
       "  'значительный',\n",
       "  'плюс',\n",
       "  'условие',\n",
       "  'официальный',\n",
       "  'трудоустройство',\n",
       "  'тк',\n",
       "  'рф',\n",
       "  'оплачивать',\n",
       "  'отпуск',\n",
       "  'больничный',\n",
       "  'лист',\n",
       "  'заработный',\n",
       "  'плат',\n",
       "  'окладбонус',\n",
       "  'сменный',\n",
       "  'график',\n",
       "  'место',\n",
       "  'работа',\n",
       "  'москва',\n",
       "  'метр',\n",
       "  'багратионовский',\n",
       "  'тк',\n",
       "  'горбушка'],\n",
       " ['должностные',\n",
       "  'обязанности',\n",
       "  'прием',\n",
       "  'выдача',\n",
       "  'заказов',\n",
       "  'работа',\n",
       "  'кассе',\n",
       "  'терминалами',\n",
       "  'оплате',\n",
       "  'сдача',\n",
       "  'инкассации',\n",
       "  'осуществление',\n",
       "  'товародвижения',\n",
       "  'программе',\n",
       "  '1с',\n",
       "  'торговля',\n",
       "  'склад',\n",
       "  'требования',\n",
       "  'доброжелательность',\n",
       "  'коммуникабельность',\n",
       "  'приоритете',\n",
       "  'скорость',\n",
       "  'качество',\n",
       "  'работе',\n",
       "  'неоспоримое',\n",
       "  'преимущество',\n",
       "  'знание',\n",
       "  'программы',\n",
       "  '1с',\n",
       "  'опыт',\n",
       "  'работы',\n",
       "  'кассе',\n",
       "  'значительный',\n",
       "  'плюс',\n",
       "  'условия',\n",
       "  'официальное',\n",
       "  'трудоустройство',\n",
       "  'тк',\n",
       "  'рф',\n",
       "  'оплачиваемый',\n",
       "  'отпуск',\n",
       "  'больничный',\n",
       "  'лист',\n",
       "  'заработная',\n",
       "  'плата',\n",
       "  'окладбонусы',\n",
       "  'сменный',\n",
       "  'график',\n",
       "  'место',\n",
       "  'работы',\n",
       "  'москва',\n",
       "  'м',\n",
       "  'багратионовская',\n",
       "  'тк',\n",
       "  'горбушка']]"
      ]
     },
     "execution_count": 19,
     "metadata": {},
     "output_type": "execute_result"
    }
   ],
   "source": [
    "stemmer_runner([mystem_tokenizer, morphy_tokenizer, nltk_tokenizer], df['description'][234])"
   ]
  },
  {
   "cell_type": "code",
   "execution_count": 20,
   "metadata": {
    "collapsed": false
   },
   "outputs": [],
   "source": [
    "df['combined'] = df[['name', 'description']].apply(lambda x: ' '.join(x), axis=1)"
   ]
  },
  {
   "cell_type": "code",
   "execution_count": 21,
   "metadata": {
    "collapsed": false
   },
   "outputs": [],
   "source": [
    "_df = df.copy()"
   ]
  },
  {
   "cell_type": "code",
   "execution_count": 22,
   "metadata": {
    "collapsed": false
   },
   "outputs": [],
   "source": [
    "df = df.drop(['name', 'description'], axis=1)"
   ]
  },
  {
   "cell_type": "code",
   "execution_count": 23,
   "metadata": {
    "collapsed": false
   },
   "outputs": [],
   "source": [
    "cv = CountVectorizer(tokenizer=morphy_tokenizer, ngram_range=(1,1))\n",
    "tfidf = TfidfTransformer(smooth_idf=False, norm=False)"
   ]
  },
  {
   "cell_type": "code",
   "execution_count": null,
   "metadata": {
    "collapsed": false
   },
   "outputs": [],
   "source": []
  },
  {
   "cell_type": "code",
   "execution_count": 24,
   "metadata": {
    "collapsed": false
   },
   "outputs": [],
   "source": [
    "cvm = cv.fit_transform(df['combined'])"
   ]
  },
  {
   "cell_type": "code",
   "execution_count": 25,
   "metadata": {
    "collapsed": false
   },
   "outputs": [
    {
     "name": "stdout",
     "output_type": "stream",
     "text": [
      "CPU times: user 4 µs, sys: 0 ns, total: 4 µs\n",
      "Wall time: 8.82 µs\n"
     ]
    }
   ],
   "source": [
    "%time\n",
    "cvm_wcols = [x[0] for x in sorted(cv.vocabulary_.items(), key=lambda v: v[1])]"
   ]
  },
  {
   "cell_type": "code",
   "execution_count": 26,
   "metadata": {
    "collapsed": false
   },
   "outputs": [
    {
     "name": "stdout",
     "output_type": "stream",
     "text": [
      "CPU times: user 7 µs, sys: 0 ns, total: 7 µs\n",
      "Wall time: 12.9 µs\n"
     ]
    }
   ],
   "source": [
    "%time\n",
    "tfidfm = tfidf.fit_transform(cvm)"
   ]
  },
  {
   "cell_type": "code",
   "execution_count": 27,
   "metadata": {
    "collapsed": false
   },
   "outputs": [
    {
     "data": {
      "text/plain": [
       "((370179, 221796), (370179, 221796), 221796)"
      ]
     },
     "execution_count": 27,
     "metadata": {},
     "output_type": "execute_result"
    }
   ],
   "source": [
    "tfidfm.shape, cvm.shape, len(cvm_wcols)"
   ]
  },
  {
   "cell_type": "code",
   "execution_count": 56,
   "metadata": {
    "collapsed": false
   },
   "outputs": [],
   "source": [
    "# cv_name = CountVectorizer(tokenizer=morphy_tokenizer, ngram_range=(1,2))\n",
    "# cv_desc = CountVectorizer(tokenizer=morphy_tokenizer, ngram_range=(1,2))\n",
    "# tfidf_name = TfidfTransformer(smooth_idf=False, norm=False)\n",
    "# tfidf_desc = TfidfTransformer(smooth_idf=False, norm=False)\n",
    "\n",
    "# cvm_name = cv_name.fit_transform(l_name)\n",
    "# cvm_name_wcols = get_count_vect_words(cv_name)\n",
    "# cvm_desc = cv_desc.fit_transform(l_description)\n",
    "# cvm_desc_wcols = get_count_vect_words(cv_desc)\n",
    "# tfidf_matrix_name = tfidf_name.fit_transform(cvm_name)\n",
    "# tfidf_matrix_desc = tfidf_desc.fit_transform(cvm_desc)\n",
    "\n",
    "\n",
    "\n",
    "\n",
    "# tfidf_mname_train = tfidf_matrix_name[:199957]\n",
    "# tfidf_mname_test  = tfidf_matrix_name[200000:]\n",
    "# tfidf_mdesc_train = tfidf_matrix_desc[:199957]\n",
    "# tfidf_mdesc_test  = tfidf_matrix_desc[200000:]\n",
    "\n",
    "# КАК ОБЪЕДИНИТЬ ТЕПЕРЬ ДВЕ ВЫБОРКИ ЧТОБЫ ПОЛУЧИТЬ ТАКОЕ \n",
    "# df['_id'], tfidf_matrix_name, tfidf_matrix_desc, sample, \n",
    "# Чтобы потом засплитить. на выборки нормально. ???????????????\n",
    "\n",
    "# X_train.shape[0] + X_test.shape[0], tfidf_matrix_desc.shape[0], tfidf_matrix_name.shape[0], df.shape[0]"
   ]
  },
  {
   "cell_type": "code",
   "execution_count": 28,
   "metadata": {
    "collapsed": false
   },
   "outputs": [
    {
     "data": {
      "text/plain": [
       "(200000, 200000, 170179, 370179)"
      ]
     },
     "execution_count": 28,
     "metadata": {},
     "output_type": "execute_result"
    }
   ],
   "source": [
    "len(X_train), len(y_train), len(X_test), len(df)"
   ]
  },
  {
   "cell_type": "code",
   "execution_count": 29,
   "metadata": {
    "collapsed": false
   },
   "outputs": [
    {
     "data": {
      "text/plain": [
       "(370179, 370179)"
      ]
     },
     "execution_count": 29,
     "metadata": {},
     "output_type": "execute_result"
    }
   ],
   "source": [
    "cvm_train = cvm[:len(y_train)]\n",
    "cvm_test  = cvm[len(y_train):]\n",
    "tfidfm_train = tfidfm[:len(y_train)]\n",
    "tfidfm_test = tfidfm[len(y_train):]\n",
    "\n",
    "cvm_train.shape[0] + cvm_test.shape[0], tfidfm_train.shape[0] + tfidfm_test.shape[0]"
   ]
  },
  {
   "cell_type": "code",
   "execution_count": 30,
   "metadata": {
    "collapsed": false
   },
   "outputs": [],
   "source": [
    "def get_some_info_SM(sparse_matrix):\n",
    "    print ('Shape of Sparse Matrix: ', sparse_matrix.shape)\n",
    "    print ('Amount of Non-Zero occurences: ', sparse_matrix.nnz)\n",
    "    print ('sparsity: %.2f%%' % (100.0 * sparse_matrix.nnz /\n",
    "                             (sparse_matrix.shape[0] * sparse_matrix.shape[1])))\n",
    "    print('\\n')"
   ]
  },
  {
   "cell_type": "code",
   "execution_count": 31,
   "metadata": {
    "collapsed": false
   },
   "outputs": [
    {
     "name": "stdout",
     "output_type": "stream",
     "text": [
      "===> cvm_train\n",
      "Shape of Sparse Matrix:  (200000, 221796)\n",
      "Amount of Non-Zero occurences:  17447081\n",
      "sparsity: 0.04%\n",
      "\n",
      "\n",
      "===> cvm_train\n",
      "Shape of Sparse Matrix:  (170179, 221796)\n",
      "Amount of Non-Zero occurences:  14857488\n",
      "sparsity: 0.04%\n",
      "\n",
      "\n",
      "===> cvm_train\n",
      "Shape of Sparse Matrix:  (200000, 221796)\n",
      "Amount of Non-Zero occurences:  17447081\n",
      "sparsity: 0.04%\n",
      "\n",
      "\n",
      "===> cvm_train\n",
      "Shape of Sparse Matrix:  (170179, 221796)\n",
      "Amount of Non-Zero occurences:  14857488\n",
      "sparsity: 0.04%\n",
      "\n",
      "\n"
     ]
    }
   ],
   "source": [
    "print(\"===> cvm_train\"); get_some_info_SM(cvm_train)\n",
    "\n",
    "print(\"===> cvm_train\"); get_some_info_SM(cvm_test)\n",
    "\n",
    "print(\"===> cvm_train\"); get_some_info_SM(tfidfm_train)\n",
    "\n",
    "print(\"===> cvm_train\"); get_some_info_SM(tfidfm_test)"
   ]
  },
  {
   "cell_type": "code",
   "execution_count": 32,
   "metadata": {
    "collapsed": true
   },
   "outputs": [],
   "source": [
    "def tfidf_for_word(w):\n",
    "    return tfidf.idf_[cv.vocabulary_[w]] "
   ]
  },
  {
   "cell_type": "code",
   "execution_count": 33,
   "metadata": {
    "collapsed": false
   },
   "outputs": [
    {
     "data": {
      "text/plain": [
       "[('карпинск', 12.212304038984445),\n",
       " ('карпинский', 11.742300409738709),\n",
       " ('карповка', 13.1285947708586),\n",
       " ('карповский', 12.02998248219049),\n",
       " ('карпоратив', 12.723129662750436),\n",
       " ('каррента', 13.821741951418545),\n",
       " ('карринг', 13.821741951418545),\n",
       " ('каррирование', 12.723129662750436),\n",
       " ('карсунский', 13.821741951418545),\n",
       " ('карт2', 10.877302972252105)]"
      ]
     },
     "execution_count": 33,
     "metadata": {},
     "output_type": "execute_result"
    }
   ],
   "source": [
    "[(w, tfidf_for_word(w)) for w in cvm_wcols[111600:111610]]"
   ]
  },
  {
   "cell_type": "code",
   "execution_count": 34,
   "metadata": {
    "collapsed": false
   },
   "outputs": [
    {
     "data": {
      "text/plain": [
       "(array([], dtype=int64),)"
      ]
     },
     "execution_count": 34,
     "metadata": {},
     "output_type": "execute_result"
    }
   ],
   "source": [
    "np.where(np.isnan(y_train) == True)"
   ]
  },
  {
   "cell_type": "code",
   "execution_count": null,
   "metadata": {
    "collapsed": false
   },
   "outputs": [],
   "source": []
  },
  {
   "cell_type": "code",
   "execution_count": 35,
   "metadata": {
    "collapsed": false
   },
   "outputs": [],
   "source": [
    "from sklearn.utils import check_X_y"
   ]
  },
  {
   "cell_type": "code",
   "execution_count": 36,
   "metadata": {
    "collapsed": false
   },
   "outputs": [
    {
     "data": {
      "text/plain": [
       "(<200000x221796 sparse matrix of type '<class 'numpy.float64'>'\n",
       " \twith 17447081 stored elements in Compressed Sparse Row format>,\n",
       " array([1, 0, 0, ..., 1, 1, 0]))"
      ]
     },
     "execution_count": 36,
     "metadata": {},
     "output_type": "execute_result"
    }
   ],
   "source": [
    "check_X_y(tfidfm_train, y_train, accept_sparse='csr', dtype=tfidfm_train.dtype, order=\"C\")"
   ]
  },
  {
   "cell_type": "code",
   "execution_count": 37,
   "metadata": {
    "collapsed": false
   },
   "outputs": [],
   "source": [
    "from sklearn.linear_model import LogisticRegression\n",
    "from sklearn.model_selection import train_test_split\n",
    "\n",
    "lr = LogisticRegression()\n"
   ]
  },
  {
   "cell_type": "code",
   "execution_count": 63,
   "metadata": {
    "collapsed": true
   },
   "outputs": [],
   "source": [
    "lr1 = LogisticRegression()"
   ]
  },
  {
   "cell_type": "code",
   "execution_count": 50,
   "metadata": {
    "collapsed": true
   },
   "outputs": [],
   "source": [
    "X_train_train, X_train_test, y_train_train, y_train_test = train_test_split(tfidfm_train, \n",
    "                                                                            y_train, \n",
    "                                                                            test_size=0.2, \n",
    "                                                                            random_state=18)"
   ]
  },
  {
   "cell_type": "code",
   "execution_count": 51,
   "metadata": {
    "collapsed": false
   },
   "outputs": [],
   "source": [
    "lr.fit(X_train_train, y_train_train)\n",
    "predict_lr = lr.predict(X_train_test)\n",
    "predict_proba_lr = lr.predict_proba(X_train_test)"
   ]
  },
  {
   "cell_type": "code",
   "execution_count": 61,
   "metadata": {
    "collapsed": false,
    "scrolled": true
   },
   "outputs": [],
   "source": [
    "X_train_train, X_train_test, y_train_train, y_train_test = train_test_split(cvm_train, \n",
    "                                                                            y_train, \n",
    "                                                                            test_size=0.2, \n",
    "                                                                            random_state=18)\n"
   ]
  },
  {
   "cell_type": "code",
   "execution_count": 64,
   "metadata": {
    "collapsed": false
   },
   "outputs": [],
   "source": [
    "lr1.fit(X_train_train, y_train_train)\n",
    "predict_lr1 = lr1.predict(X_train_test)\n",
    "predict_proba_lr1 = lr1.predict_proba(X_train_test)"
   ]
  },
  {
   "cell_type": "code",
   "execution_count": 66,
   "metadata": {
    "collapsed": false
   },
   "outputs": [
    {
     "data": {
      "text/plain": [
       "({'accuracy': 0.94965,\n",
       "  'precision': 0.9432028319332171,\n",
       "  'recall_score': 0.9500292693310628},\n",
       " {'accuracy': 0.9605,\n",
       "  'precision': 0.9518034336115924,\n",
       "  'recall_score': 0.9647703687935714})"
      ]
     },
     "execution_count": 66,
     "metadata": {},
     "output_type": "execute_result"
    }
   ],
   "source": [
    "from sklearn.metrics import accuracy_score, precision_score, recall_score\n",
    "apr_results = { \n",
    "    'accuracy' : accuracy_score(y_train_test, predict_lr), \n",
    "    'precision' : precision_score(y_train_test, predict_lr),\n",
    "    'recall_score' : recall_score(y_train_test, predict_lr)\n",
    "}\n",
    "\n",
    "apr_results1 = { \n",
    "    'accuracy' : accuracy_score(y_train_test, predict_lr1), \n",
    "    'precision' : precision_score(y_train_test, predict_lr1),\n",
    "    'recall_score' : recall_score(y_train_test, predict_lr1)\n",
    "}\n",
    "\n",
    "apr_results, apr_results1"
   ]
  },
  {
   "cell_type": "code",
   "execution_count": 67,
   "metadata": {
    "collapsed": false
   },
   "outputs": [
    {
     "data": {
      "text/plain": [
       "(-0.01, 1.01)"
      ]
     },
     "execution_count": 67,
     "metadata": {},
     "output_type": "execute_result"
    },
    {
     "data": {
      "image/png": "[encoded data removed]",
      "text/plain": [
       "<Figure size 1080x1080 with 1 Axes>"
      ]
     },
     "metadata": {},
     "output_type": "display_data"
    }
   ],
   "source": [
    "from sklearn.metrics import precision_recall_curve\n",
    "from sklearn.metrics import roc_auc_score, roc_curve\n",
    "from matplotlib import pyplot as plt\n",
    "\n",
    "precision_prc_lr, recall_prc_lr, treshold_prc_lr = precision_recall_curve(y_train_test, predict_proba_lr[:,1])\n",
    "precision_prc_lr1, recall_prc_lr1, treshold_prc_lr1 = precision_recall_curve(y_train_test, predict_proba_lr1[:,1])\n",
    "\n",
    "plt.figure(figsize=(15, 15))\n",
    "plt.plot(precision_prc_lr, recall_prc_lr, label='lr')\n",
    "plt.plot(precision_prc_lr1, recall_prc_lr1, label='lr1')\n",
    "plt.legend(loc='upper right')\n",
    "plt.ylabel('recall')\n",
    "plt.xlabel('precision')\n",
    "plt.grid(True)\n",
    "plt.title('Precision Recall Curve')\n",
    "plt.xlim((-0.01, 1.01))\n",
    "plt.ylim((-0.01, 1.01))"
   ]
  },
  {
   "cell_type": "code",
   "execution_count": 70,
   "metadata": {
    "collapsed": false
   },
   "outputs": [
    {
     "name": "stdout",
     "output_type": "stream",
     "text": [
      "{'lr': 0.9829614426611761} {'lr1': 0.9891939299317414}\n"
     ]
    },
    {
     "data": {
      "image/png": "[encoded data removed]",
      "text/plain": [
       "<Figure size 864x864 with 1 Axes>"
      ]
     },
     "metadata": {},
     "output_type": "display_data"
    }
   ],
   "source": [
    "fpr_lr, tpr_lr, thresholds_lr = roc_curve(y_train_test, predict_proba_lr[:,1])\n",
    "fpr_lr1, tpr_lr1, thresholds_lr1 = roc_curve(y_train_test, predict_proba_lr1[:,1])\n",
    "plt.figure(figsize=(12, 12))\n",
    "plt.plot(fpr_lr, tpr_lr, label='lr')\n",
    "plt.plot(fpr_lr1, tpr_lr1, label='lr1')\n",
    "plt.legend()\n",
    "plt.plot([1.0, 0], [1.0, 0])\n",
    "plt.ylabel('tpr')\n",
    "plt.xlabel('fpr')\n",
    "plt.grid(True)\n",
    "plt.title('ROC curve')\n",
    "plt.xlim((-0.01, 1.01))\n",
    "plt.ylim((-0.01, 1.01))\n",
    "\n",
    "results = {'lr' : roc_auc_score(y_train_test, predict_proba_lr[:,1])} \n",
    "results1 = {'lr1' : roc_auc_score(y_train_test, predict_proba_lr1[:,1])} \n",
    "print(results, results1)"
   ]
  },
  {
   "cell_type": "code",
   "execution_count": 55,
   "metadata": {
    "collapsed": false
   },
   "outputs": [
    {
     "data": {
      "text/plain": [
       "array([0.97335842, 0.97726418, 0.97700737, 0.97909854, 0.97629565,\n",
       "       0.97699326, 0.97732119, 0.97709514, 0.98308952, 0.97692215,\n",
       "       0.98218392, 0.97572427, 0.97392235, 0.98022344, 0.98141742])"
      ]
     },
     "execution_count": 55,
     "metadata": {},
     "output_type": "execute_result"
    }
   ],
   "source": [
    "from sklearn.cross_validation import cross_val_score\n",
    "from sklearn.model_selection import StratifiedKFold\n",
    "cv0 = StratifiedKFold(n_splits=15, shuffle=True, random_state=100)\n",
    "cross_val_score(lr, X_train_test, y_train_test, scoring='roc_auc', cv=cv0.get_n_splits())"
   ]
  },
  {
   "cell_type": "code",
   "execution_count": 71,
   "metadata": {
    "collapsed": false
   },
   "outputs": [
    {
     "data": {
      "text/plain": [
       "array([0.98226717, 0.98736724, 0.98270346, 0.98513158, 0.98474383,\n",
       "       0.9848426 , 0.98389269, 0.98513186, 0.98841649, 0.98310363,\n",
       "       0.98800361, 0.98275461, 0.98182088, 0.98523324, 0.98720914])"
      ]
     },
     "execution_count": 71,
     "metadata": {},
     "output_type": "execute_result"
    }
   ],
   "source": [
    "from sklearn.cross_validation import cross_val_score\n",
    "from sklearn.model_selection import StratifiedKFold\n",
    "cv1 = StratifiedKFold(n_splits=15, shuffle=True, random_state=100)\n",
    "cross_val_score(lr1, X_train_test, y_train_test, scoring='roc_auc', cv=cv1.get_n_splits())"
   ]
  },
  {
   "cell_type": "code",
   "execution_count": 56,
   "metadata": {
    "collapsed": true
   },
   "outputs": [],
   "source": [
    "predicted_test = lr.predict(tfidfm_test)"
   ]
  },
  {
   "cell_type": "code",
   "execution_count": 72,
   "metadata": {
    "collapsed": true
   },
   "outputs": [],
   "source": [
    "predicted_test1 = lr1.predict(cvm_test)"
   ]
  },
  {
   "cell_type": "code",
   "execution_count": 57,
   "metadata": {
    "collapsed": true
   },
   "outputs": [],
   "source": [
    "combined_results_lr = list(zip(df_test.index, predicted_test))"
   ]
  },
  {
   "cell_type": "code",
   "execution_count": 73,
   "metadata": {
    "collapsed": true
   },
   "outputs": [],
   "source": [
    "combined_results_lr1 = list(zip(df_test.index, predicted_test1))"
   ]
  },
  {
   "cell_type": "code",
   "execution_count": 58,
   "metadata": {
    "collapsed": true
   },
   "outputs": [],
   "source": [
    "predicred_test_df = pd.DataFrame(combined_results_lr, columns=['id', 'target'])"
   ]
  },
  {
   "cell_type": "code",
   "execution_count": 74,
   "metadata": {
    "collapsed": true
   },
   "outputs": [],
   "source": [
    "predicred_test_df1 = pd.DataFrame(combined_results_lr1, columns=['id', 'target'])"
   ]
  },
  {
   "cell_type": "code",
   "execution_count": 59,
   "metadata": {
    "collapsed": false
   },
   "outputs": [],
   "source": [
    "import time \n",
    "submission_filename = 'hw06_kaggle_submission_{0}.csv'.format(str(time.time()).replace('.', '_'))\n",
    "predicred_test_df.to_csv(submission_filename, sep=',', index=False, columns=['id', 'target'])"
   ]
  },
  {
   "cell_type": "code",
   "execution_count": 75,
   "metadata": {
    "collapsed": true
   },
   "outputs": [],
   "source": [
    "import time \n",
    "submission_filename = 'hw06_kaggle_submission_lr1_{0}.csv'.format(str(time.time()).replace('.', '_'))\n",
    "predicred_test_df1.to_csv(submission_filename, sep=',', index=False, columns=['id', 'target'])"
   ]
  },
  {
   "cell_type": "code",
   "execution_count": 77,
   "metadata": {
    "collapsed": false
   },
   "outputs": [
    {
     "name": "stdout",
     "output_type": "stream",
     "text": [
      "             precision    recall  f1-score   support\n",
      "\n",
      "          0       0.99      0.99      0.99    106436\n",
      "          1       0.98      0.99      0.99     93564\n",
      "\n",
      "avg / total       0.99      0.99      0.99    200000\n",
      "\n",
      "             precision    recall  f1-score   support\n",
      "\n",
      "          0       0.99      0.94      0.97    106436\n",
      "          1       0.94      0.99      0.96     93564\n",
      "\n",
      "avg / total       0.97      0.96      0.97    200000\n",
      "\n"
     ]
    }
   ],
   "source": [
    "from sklearn.metrics import classification_report\n",
    "print (classification_report(y_train, lr.predict(tfidfm_train)))\n",
    "print (classification_report(y_train, lr.predict(cvm_train)))"
   ]
  },
  {
   "cell_type": "code",
   "execution_count": 79,
   "metadata": {
    "collapsed": false
   },
   "outputs": [
    {
     "name": "stdout",
     "output_type": "stream",
     "text": [
      "             precision    recall  f1-score   support\n",
      "\n",
      "          0       0.96      0.98      0.97    106436\n",
      "          1       0.98      0.95      0.96     93564\n",
      "\n",
      "avg / total       0.97      0.97      0.97    200000\n",
      "\n",
      "             precision    recall  f1-score   support\n",
      "\n",
      "          0       0.99      0.98      0.98    106436\n",
      "          1       0.97      0.98      0.98     93564\n",
      "\n",
      "avg / total       0.98      0.98      0.98    200000\n",
      "\n"
     ]
    }
   ],
   "source": [
    "from sklearn.metrics import classification_report\n",
    "print (classification_report(y_train, lr1.predict(tfidfm_train)))\n",
    "print (classification_report(y_train, lr1.predict(cvm_train)))"
   ]
  },
  {
   "cell_type": "code",
   "execution_count": null,
   "metadata": {
    "collapsed": true
   },
   "outputs": [],
   "source": []
  },
  {
   "cell_type": "code",
   "execution_count": null,
   "metadata": {
    "collapsed": true
   },
   "outputs": [],
   "source": []
  }
 ],
 "metadata": {
  "kernelspec": {
   "display_name": "Python 3",
   "language": "python",
   "name": "python3"
  },
  "language_info": {
   "codemirror_mode": {
    "name": "ipython",
    "version": 3
   },
   "file_extension": ".py",
   "mimetype": "text/x-python",
   "name": "python",
   "nbconvert_exporter": "python",
   "pygments_lexer": "ipython3",
   "version": "3.6.3"
  }
 },
 "nbformat": 4,
 "nbformat_minor": 2
}
