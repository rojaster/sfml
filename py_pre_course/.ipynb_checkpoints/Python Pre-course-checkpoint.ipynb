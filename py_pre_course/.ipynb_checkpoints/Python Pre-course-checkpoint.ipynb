{
 "cells": [
  {
   "cell_type": "code",
   "execution_count": 2,
   "metadata": {
    "collapsed": true
   },
   "outputs": [],
   "source": [
    "banner1_shows = 10*1000 * 100\n"
   ]
  },
  {
   "cell_type": "code",
   "execution_count": 3,
   "metadata": {
    "collapsed": false
   },
   "outputs": [
    {
     "data": {
      "text/plain": [
       "1000000"
      ]
     },
     "execution_count": 3,
     "metadata": {},
     "output_type": "execute_result"
    }
   ],
   "source": [
    "banner1_shows\n"
   ]
  },
  {
   "cell_type": "code",
   "execution_count": 4,
   "metadata": {
    "collapsed": true
   },
   "outputs": [],
   "source": [
    "banner1_clicks = 983\n",
    "banner2_shows = 100000"
   ]
  },
  {
   "cell_type": "code",
   "execution_count": 5,
   "metadata": {
    "collapsed": true
   },
   "outputs": [],
   "source": [
    "banner2_clicks = 4\n"
   ]
  },
  {
   "cell_type": "code",
   "execution_count": 9,
   "metadata": {
    "collapsed": false,
    "scrolled": false
   },
   "outputs": [],
   "source": [
    "ctr1 = (banner1_clicks/banner1_shows)\n"
   ]
  },
  {
   "cell_type": "code",
   "execution_count": 10,
   "metadata": {
    "collapsed": true
   },
   "outputs": [],
   "source": [
    "ctr2 = banner2_clicks/banner2_shows"
   ]
  },
  {
   "cell_type": "code",
   "execution_count": 11,
   "metadata": {
    "collapsed": false
   },
   "outputs": [
    {
     "data": {
      "text/plain": [
       "(0.000983, 4e-05)"
      ]
     },
     "execution_count": 11,
     "metadata": {},
     "output_type": "execute_result"
    }
   ],
   "source": [
    "ctr1, ctr2"
   ]
  },
  {
   "cell_type": "code",
   "execution_count": 12,
   "metadata": {
    "collapsed": false
   },
   "outputs": [
    {
     "data": {
      "text/plain": [
       "24.574999999999996"
      ]
     },
     "execution_count": 12,
     "metadata": {},
     "output_type": "execute_result"
    }
   ],
   "source": [
    "ctr1/ctr2\n"
   ]
  },
  {
   "cell_type": "code",
   "execution_count": 13,
   "metadata": {
    "collapsed": false
   },
   "outputs": [
    {
     "data": {
      "text/plain": [
       "0.04069175991861649"
      ]
     },
     "execution_count": 13,
     "metadata": {},
     "output_type": "execute_result"
    }
   ],
   "source": [
    "ctr2/ctr1\n"
   ]
  },
  {
   "cell_type": "code",
   "execution_count": 14,
   "metadata": {
    "collapsed": false
   },
   "outputs": [
    {
     "data": {
      "text/plain": [
       "24.574999999999996"
      ]
     },
     "execution_count": 14,
     "metadata": {},
     "output_type": "execute_result"
    }
   ],
   "source": [
    "0.000983/0.00004\n"
   ]
  },
  {
   "cell_type": "code",
   "execution_count": 15,
   "metadata": {
    "collapsed": false
   },
   "outputs": [
    {
     "data": {
      "text/plain": [
       "float"
      ]
     },
     "execution_count": 15,
     "metadata": {},
     "output_type": "execute_result"
    }
   ],
   "source": [
    "type(ctr1)"
   ]
  },
  {
   "cell_type": "code",
   "execution_count": 16,
   "metadata": {
    "collapsed": false
   },
   "outputs": [
    {
     "data": {
      "text/plain": [
       "float"
      ]
     },
     "execution_count": 16,
     "metadata": {},
     "output_type": "execute_result"
    }
   ],
   "source": [
    "type(2**0.5)\n"
   ]
  },
  {
   "cell_type": "code",
   "execution_count": 17,
   "metadata": {
    "collapsed": false
   },
   "outputs": [
    {
     "name": "stdout",
     "output_type": "stream",
     "text": [
      "Название курса Python для анализа данных\n"
     ]
    }
   ],
   "source": [
    "projectName = 'Python для анализа данных'\n",
    "print( 'Название курса ' + projectName )\n"
   ]
  },
  {
   "cell_type": "code",
   "execution_count": 18,
   "metadata": {
    "collapsed": false
   },
   "outputs": [
    {
     "name": "stdout",
     "output_type": "stream",
     "text": [
      "Результаты первой кампании: показов 1000000, кликов 983.0, CTR 0.098%\n"
     ]
    }
   ],
   "source": [
    "print( 'Результаты первой кампании: показов {}, кликов {:.1f}, CTR {:.3%}'.format( banner1_shows, banner1_clicks, ctr1 ) )"
   ]
  },
  {
   "cell_type": "code",
   "execution_count": 20,
   "metadata": {
    "collapsed": false
   },
   "outputs": [
    {
     "name": "stdout",
     "output_type": "stream",
     "text": [
      "Результаты кампаний: CTR первой 0.0983%, второй - 0.0040%\n"
     ]
    }
   ],
   "source": [
    "print( 'Результаты кампаний: CTR первой {:.4%}, второй - {:.4%}'.format( ctr1, ctr2 ) )"
   ]
  },
  {
   "cell_type": "code",
   "execution_count": 21,
   "metadata": {
    "collapsed": true
   },
   "outputs": [],
   "source": [
    "queryList = [\"смотреть сериалы онлайн\", \"новости спорта\", \"смотреть новости\", \"чемпионат мира по футболу\"]"
   ]
  },
  {
   "cell_type": "code",
   "execution_count": 22,
   "metadata": {
    "collapsed": false
   },
   "outputs": [
    {
     "name": "stdout",
     "output_type": "stream",
     "text": [
      "['смотреть сериалы онлайн', 'новости спорта', 'смотреть новости', 'чемпионат мира по футболу']\n"
     ]
    }
   ],
   "source": [
    "print(queryList)"
   ]
  },
  {
   "cell_type": "code",
   "execution_count": 23,
   "metadata": {
    "collapsed": true
   },
   "outputs": [],
   "source": [
    "justNumbers = [  2,1, 5, 4, 3 ]"
   ]
  },
  {
   "cell_type": "code",
   "execution_count": 25,
   "metadata": {
    "collapsed": false
   },
   "outputs": [
    {
     "data": {
      "text/plain": [
       "[1, 2, 3, 4, 5]"
      ]
     },
     "execution_count": 25,
     "metadata": {},
     "output_type": "execute_result"
    }
   ],
   "source": [
    "sorted(justNumbers)"
   ]
  },
  {
   "cell_type": "code",
   "execution_count": 26,
   "metadata": {
    "collapsed": true
   },
   "outputs": [],
   "source": [
    "justNumbers.append(55)"
   ]
  },
  {
   "cell_type": "code",
   "execution_count": 27,
   "metadata": {
    "collapsed": false
   },
   "outputs": [
    {
     "name": "stdout",
     "output_type": "stream",
     "text": [
      "[2, 1, 5, 4, 3, 55]\n"
     ]
    }
   ],
   "source": [
    "print(justNumbers)"
   ]
  },
  {
   "cell_type": "code",
   "execution_count": 28,
   "metadata": {
    "collapsed": false
   },
   "outputs": [
    {
     "data": {
      "text/plain": [
       "['два', 'один', 'три']"
      ]
     },
     "execution_count": 28,
     "metadata": {},
     "output_type": "execute_result"
    }
   ],
   "source": [
    "words = ['один', 'два', 'три']\n",
    "sorted(words)"
   ]
  },
  {
   "cell_type": "code",
   "execution_count": 29,
   "metadata": {
    "collapsed": true
   },
   "outputs": [],
   "source": [
    "queries_string = \"смотреть сериалы онлайн,новости спорта,афиша кино,курс доллара,сериалы этим летом,курс по питону,сериалы про спорт\""
   ]
  },
  {
   "cell_type": "code",
   "execution_count": 30,
   "metadata": {
    "collapsed": false
   },
   "outputs": [
    {
     "name": "stdout",
     "output_type": "stream",
     "text": [
      "['смотреть сериалы онлайн', 'новости спорта', 'афиша кино', 'курс доллара', 'сериалы этим летом', 'курс по питону', 'сериалы про спорт']\n"
     ]
    }
   ],
   "source": [
    "print( queries_string.split(',') )\n"
   ]
  },
  {
   "cell_type": "code",
   "execution_count": 31,
   "metadata": {
    "collapsed": true
   },
   "outputs": [],
   "source": [
    "filestring = \"003_logs_2017-11-03;001_logs_2017-11-01;005_logs_2017-11-05;002_logs_2017-11-02;004_logs_2017-11-04\"\n",
    "fileList = filestring.split(';')"
   ]
  },
  {
   "cell_type": "code",
   "execution_count": 32,
   "metadata": {
    "collapsed": false
   },
   "outputs": [
    {
     "data": {
      "text/plain": [
       "['003_logs_2017-11-03',\n",
       " '001_logs_2017-11-01',\n",
       " '005_logs_2017-11-05',\n",
       " '002_logs_2017-11-02',\n",
       " '004_logs_2017-11-04']"
      ]
     },
     "execution_count": 32,
     "metadata": {},
     "output_type": "execute_result"
    }
   ],
   "source": [
    "fileList \n"
   ]
  },
  {
   "cell_type": "code",
   "execution_count": 33,
   "metadata": {
    "collapsed": false
   },
   "outputs": [
    {
     "data": {
      "text/plain": [
       "['001_logs_2017-11-01',\n",
       " '002_logs_2017-11-02',\n",
       " '003_logs_2017-11-03',\n",
       " '004_logs_2017-11-04',\n",
       " '005_logs_2017-11-05']"
      ]
     },
     "execution_count": 33,
     "metadata": {},
     "output_type": "execute_result"
    }
   ],
   "source": [
    "sorted(fileList)"
   ]
  },
  {
   "cell_type": "code",
   "execution_count": 34,
   "metadata": {
    "collapsed": true
   },
   "outputs": [],
   "source": [
    "fileList.append('006_logs_2017-11-06')"
   ]
  },
  {
   "cell_type": "code",
   "execution_count": 36,
   "metadata": {
    "collapsed": false
   },
   "outputs": [],
   "source": [
    "fileList = sorted(fileList)\n",
    "\n"
   ]
  },
  {
   "cell_type": "code",
   "execution_count": 37,
   "metadata": {
    "collapsed": false
   },
   "outputs": [
    {
     "data": {
      "text/plain": [
       "['001_logs_2017-11-01',\n",
       " '002_logs_2017-11-02',\n",
       " '003_logs_2017-11-03',\n",
       " '004_logs_2017-11-04',\n",
       " '005_logs_2017-11-05',\n",
       " '006_logs_2017-11-06']"
      ]
     },
     "execution_count": 37,
     "metadata": {},
     "output_type": "execute_result"
    }
   ],
   "source": [
    "fileList\n"
   ]
  },
  {
   "cell_type": "code",
   "execution_count": 39,
   "metadata": {
    "collapsed": true
   },
   "outputs": [],
   "source": [
    "fileList1 = \"003_logs_2017-11-03;001_logs_2017-11-01;005_logs_2017-11-05;002_logs_2017-11-02;004_logs_2017-11-04\".split(';').append('006_logs_2017-11-06')"
   ]
  },
  {
   "cell_type": "code",
   "execution_count": 41,
   "metadata": {
    "collapsed": true
   },
   "outputs": [],
   "source": [
    "fileList1\n"
   ]
  },
  {
   "cell_type": "code",
   "execution_count": 42,
   "metadata": {
    "collapsed": false
   },
   "outputs": [
    {
     "data": {
      "text/plain": [
       "['001_logs_2017-11-01',\n",
       " '002_logs_2017-11-02',\n",
       " '003_logs_2017-11-03',\n",
       " '004_logs_2017-11-04',\n",
       " '005_logs_2017-11-05',\n",
       " '006_logs_2017-11-06']"
      ]
     },
     "execution_count": 42,
     "metadata": {},
     "output_type": "execute_result"
    }
   ],
   "source": [
    "fileList"
   ]
  },
  {
   "cell_type": "code",
   "execution_count": 43,
   "metadata": {
    "collapsed": true
   },
   "outputs": [],
   "source": [
    "fileList1 = \"003_logs_2017-11-03;001_logs_2017-11-01;005_logs_2017-11-05;002_logs_2017-11-02;004_logs_2017-11-04\".split(';')"
   ]
  },
  {
   "cell_type": "code",
   "execution_count": 44,
   "metadata": {
    "collapsed": false
   },
   "outputs": [
    {
     "data": {
      "text/plain": [
       "['003_logs_2017-11-03',\n",
       " '001_logs_2017-11-01',\n",
       " '005_logs_2017-11-05',\n",
       " '002_logs_2017-11-02',\n",
       " '004_logs_2017-11-04',\n",
       " '006_logs_2017-11-06']"
      ]
     },
     "execution_count": 44,
     "metadata": {},
     "output_type": "execute_result"
    }
   ],
   "source": [
    "fileList1.append('006_logs_2017-11-06')\n",
    "fileList1"
   ]
  },
  {
   "cell_type": "code",
   "execution_count": 45,
   "metadata": {
    "collapsed": true
   },
   "outputs": [],
   "source": [
    "queriesList = ['смотреть сериалы онлайн', 'новости спорта', 'афиша кино', 'курс доллара', 'сериалы этим летом', 'курс по питону', 'сериалы про спорт']"
   ]
  },
  {
   "cell_type": "code",
   "execution_count": 46,
   "metadata": {
    "collapsed": false
   },
   "outputs": [
    {
     "data": {
      "text/plain": [
       "'смотреть сериалы онлайн,новости спорта,афиша кино,курс доллара,сериалы этим летом,курс по питону,сериалы про спорт'"
      ]
     },
     "execution_count": 46,
     "metadata": {},
     "output_type": "execute_result"
    }
   ],
   "source": [
    "','.join(queriesList)"
   ]
  },
  {
   "cell_type": "code",
   "execution_count": 48,
   "metadata": {
    "collapsed": false
   },
   "outputs": [
    {
     "data": {
      "text/plain": [
       "'001_logs_2017-11-01||002_logs_2017-11-02||003_logs_2017-11-03||004_logs_2017-11-04||005_logs_2017-11-05||006_logs_2017-11-06'"
      ]
     },
     "execution_count": 48,
     "metadata": {},
     "output_type": "execute_result"
    }
   ],
   "source": [
    "'||'.join(fileList)"
   ]
  },
  {
   "cell_type": "code",
   "execution_count": 49,
   "metadata": {
    "collapsed": true
   },
   "outputs": [],
   "source": [
    "sequence = [ 'Google Adwords', 'Yandex Direct', 'Facebook', 'VK', 'Partner' ]\n",
    "\n"
   ]
  },
  {
   "cell_type": "code",
   "execution_count": 60,
   "metadata": {
    "collapsed": false
   },
   "outputs": [
    {
     "data": {
      "text/plain": [
       "['Facebook', 'VK']"
      ]
     },
     "execution_count": 60,
     "metadata": {},
     "output_type": "execute_result"
    }
   ],
   "source": [
    "sequence[2:-1]\n",
    "\n"
   ]
  },
  {
   "cell_type": "code",
   "execution_count": 61,
   "metadata": {
    "collapsed": false
   },
   "outputs": [
    {
     "data": {
      "text/plain": [
       "[1, 4, 55]"
      ]
     },
     "execution_count": 61,
     "metadata": {},
     "output_type": "execute_result"
    }
   ],
   "source": [
    "justNumbers[ 1::2 ]"
   ]
  },
  {
   "cell_type": "code",
   "execution_count": 63,
   "metadata": {
    "collapsed": false
   },
   "outputs": [],
   "source": [
    "justNumbers = [ 1, 2, 3, 4, 5, 6, 7, 8, 9, 10 ]\n"
   ]
  },
  {
   "cell_type": "code",
   "execution_count": 64,
   "metadata": {
    "collapsed": false
   },
   "outputs": [
    {
     "data": {
      "text/plain": [
       "[2, 4, 6, 8, 10]"
      ]
     },
     "execution_count": 64,
     "metadata": {},
     "output_type": "execute_result"
    }
   ],
   "source": [
    "justNumbers[ 1::2 ]"
   ]
  },
  {
   "cell_type": "code",
   "execution_count": 65,
   "metadata": {
    "collapsed": false
   },
   "outputs": [
    {
     "name": "stdout",
     "output_type": "stream",
     "text": [
      "0\n",
      "1\n",
      "2\n",
      "3\n",
      "4\n",
      "5\n",
      "6\n",
      "7\n",
      "8\n",
      "9\n"
     ]
    }
   ],
   "source": [
    "for i in range(10):\n",
    "    print( i )\n",
    "    "
   ]
  },
  {
   "cell_type": "code",
   "execution_count": 71,
   "metadata": {
    "collapsed": false
   },
   "outputs": [
    {
     "data": {
      "text/plain": [
       "[2.0,\n",
       " 2.449489742783178,\n",
       " 2.8284271247461903,\n",
       " 3.1622776601683795,\n",
       " 3.4641016151377544,\n",
       " 3.7416573867739413,\n",
       " 4.0,\n",
       " 4.242640687119285]"
      ]
     },
     "execution_count": 71,
     "metadata": {},
     "output_type": "execute_result"
    }
   ],
   "source": [
    "minValue = 4\n",
    "maxValue = 18\n",
    "nlist = [n**0.5 for n in range(minValue, maxValue+1,2)]\n",
    "nlist"
   ]
  },
  {
   "cell_type": "code",
   "execution_count": 73,
   "metadata": {
    "collapsed": false
   },
   "outputs": [
    {
     "data": {
      "text/plain": [
       "[83171, 151604, 46315, 98753, 208648, 184682, 204061]"
      ]
     },
     "execution_count": 73,
     "metadata": {},
     "output_type": "execute_result"
    }
   ],
   "source": [
    "directRevenue = [83171,151604, 46315, 98753, 208648, 184682, 204061,134911,94791,109076,37254, 224991,36400,149320, 171336, 83854, 206799,180922, 235647, 217546, 200478, 239445, 144901, 26522,177971,148458,154937,196095,140202,189223]\n",
    "week_1_revenue = directRevenue[:7]\n",
    "week_1_revenue\n"
   ]
  },
  {
   "cell_type": "code",
   "execution_count": 74,
   "metadata": {
    "collapsed": true
   },
   "outputs": [],
   "source": []
  },
  {
   "cell_type": "code",
   "execution_count": 80,
   "metadata": {
    "collapsed": false
   },
   "outputs": [
    {
     "name": "stdout",
     "output_type": "stream",
     "text": [
      "0\n",
      "1\n",
      "2\n",
      "3\n",
      "4\n",
      "379843\n",
      "5\n",
      "6\n"
     ]
    }
   ],
   "source": [
    "total_revenue = 0\n",
    "for indx, day in enumerate(week_1_revenue):\n",
    "    print(indx)\n",
    "    if indx == 4: print(total_revenue)\n",
    "    total_revenue += day\n"
   ]
  },
  {
   "cell_type": "code",
   "execution_count": 84,
   "metadata": {
    "collapsed": false
   },
   "outputs": [
    {
     "name": "stdout",
     "output_type": "stream",
     "text": [
      "['смотреть', 'сериалы', 'онлайн']\n"
     ]
    }
   ],
   "source": [
    "queriesList = \"смотреть сериалы онлайн\".split(' ')\n",
    "print(queriesList)"
   ]
  },
  {
   "cell_type": "code",
   "execution_count": 89,
   "metadata": {
    "collapsed": false
   },
   "outputs": [
    {
     "data": {
      "text/plain": [
       "18"
      ]
     },
     "execution_count": 89,
     "metadata": {},
     "output_type": "execute_result"
    }
   ],
   "source": [
    "queriesText = 'смотреть сериалы онлайн;новости спорта;афиша кино;курс доллара;сериалы этим летом;курс по питону;сериалы про спорт'\n",
    "queriesTextList = queriesText.split(';')\n",
    "lenOfWordsInQuery = []\n",
    "for queryText in queriesTextList:\n",
    "    lenOfWordsInQuery.append(len(queryText.split(' ')))\n",
    "total = 0\n",
    "for count in lenOfWordsInQuery:\n",
    "    total += count\n",
    "total"
   ]
  },
  {
   "cell_type": "code",
   "execution_count": null,
   "metadata": {
    "collapsed": true
   },
   "outputs": [],
   "source": [
    "traficSources=['прямой заход','яндекс','партнерка','вконтакте','инфопартнеры']"
   ]
  },
  {
   "cell_type": "code",
   "execution_count": 90,
   "metadata": {
    "collapsed": true
   },
   "outputs": [],
   "source": [
    "semantic_list = ['одеяло !купить', 'одеяло !продажа','одеяло цена',  'одеяло стоимость','одеяло прайс','одеяло дешево', 'одеяло недорого','одеяло заказать','одеяло на заказ', 'одеяло с доставкой', 'одеяло магазин','одеяло интернет магазин', 'одеяло со скидкой','одеяло акция','одеяло распродажа']"
   ]
  },
  {
   "cell_type": "code",
   "execution_count": 106,
   "metadata": {
    "collapsed": false
   },
   "outputs": [
    {
     "data": {
      "text/plain": [
       "'смотреть сериалы онлайн,курс доллара,сериалы этим летом,курс по питону,сериалы про спорт'"
      ]
     },
     "execution_count": 106,
     "metadata": {},
     "output_type": "execute_result"
    }
   ],
   "source": [
    "queries = \"смотреть сериалы онлайн,новости спорта,афиша кино,курс доллара,сериалы этим летом,курс по питону,сериалы про спорт\"\n",
    "words = ['сериалы', 'курс']\n",
    "result = ','.join([q for q in queries.split(',') if words[0] in q or words[1] in q])\n",
    "result"
   ]
  },
  {
   "cell_type": "code",
   "execution_count": 108,
   "metadata": {
    "collapsed": false
   },
   "outputs": [],
   "source": [
    "user_ids = []\n",
    "\n",
    "with open( 'user_ids.txt', 'r' ) as f:\n",
    "\n",
    "    for line in f:\n",
    "\n",
    "        user_id = line.strip()        \n",
    "\n",
    "        user_ids.append( user_id )"
   ]
  },
  {
   "cell_type": "code",
   "execution_count": 109,
   "metadata": {
    "collapsed": false
   },
   "outputs": [
    {
     "data": {
      "text/plain": [
       "['1010', '1036', '1041', '1041', '1042']"
      ]
     },
     "execution_count": 109,
     "metadata": {},
     "output_type": "execute_result"
    }
   ],
   "source": [
    "user_ids[:5]"
   ]
  },
  {
   "cell_type": "code",
   "execution_count": 110,
   "metadata": {
    "collapsed": false
   },
   "outputs": [
    {
     "data": {
      "text/plain": [
       "294"
      ]
     },
     "execution_count": 110,
     "metadata": {},
     "output_type": "execute_result"
    }
   ],
   "source": [
    "len(user_ids)"
   ]
  },
  {
   "cell_type": "code",
   "execution_count": 111,
   "metadata": {
    "collapsed": true
   },
   "outputs": [],
   "source": [
    "unique_ids = set( user_ids )"
   ]
  },
  {
   "cell_type": "code",
   "execution_count": 112,
   "metadata": {
    "collapsed": false
   },
   "outputs": [
    {
     "data": {
      "text/plain": [
       "124"
      ]
     },
     "execution_count": 112,
     "metadata": {},
     "output_type": "execute_result"
    }
   ],
   "source": [
    "len(unique_ids)"
   ]
  },
  {
   "cell_type": "code",
   "execution_count": 114,
   "metadata": {
    "collapsed": false
   },
   "outputs": [
    {
     "name": "stdout",
     "output_type": "stream",
     "text": [
      "20.2\n",
      "15.6\n",
      "13.2\n",
      "9.8\n",
      "14.8\n",
      "14.4\n",
      "14.0\n",
      "20.0\n",
      "16.2\n",
      "11.0\n",
      "10.8\n",
      "22.6\n",
      "22.4\n",
      "24.4\n",
      "16.6\n",
      "8.6\n",
      "12.4\n",
      "16.2\n",
      "24.0\n",
      "18.8\n",
      "11.8\n",
      "9.4\n",
      "11.2\n",
      "19.0\n",
      "23.4\n",
      "17.0\n",
      "20.8\n",
      "15.6\n",
      "22.4\n",
      "15.6\n",
      "21.0\n",
      "22.4\n",
      "20.4\n",
      "26.0\n",
      "18.4\n",
      "14.6\n",
      "29.8\n",
      "20.0\n",
      "19.0\n",
      "16.4\n",
      "16.2\n",
      "17.8\n",
      "18.8\n",
      "20.0\n",
      "21.0\n",
      "16.6\n",
      "20.0\n",
      "19.8\n",
      "16.8\n",
      "24.0\n",
      "12.0\n",
      "10.2\n",
      "24.0\n",
      "15.8\n",
      "22.0\n",
      "17.4\n",
      "14.8\n",
      "20.0\n",
      "11.6\n",
      "20.0\n",
      "16.0\n",
      "11.2\n",
      "12.2\n",
      "19.2\n",
      "17.8\n",
      "19.8\n",
      "8.6\n",
      "28.6\n",
      "18.8\n",
      "17.6\n",
      "16.0\n",
      "15.4\n",
      "21.6\n",
      "7.6\n",
      "21.6\n",
      "17.4\n",
      "22.0\n",
      "22.0\n",
      "16.0\n",
      "16.0\n",
      "20.0\n",
      "10.0\n",
      "21.2\n",
      "30.4\n",
      "18.8\n",
      "14.0\n",
      "22.0\n",
      "16.0\n",
      "12.6\n",
      "13.4\n",
      "13.6\n",
      "10.2\n",
      "17.4\n",
      "22.4\n",
      "11.4\n",
      "14.0\n",
      "22.4\n",
      "18.0\n",
      "17.0\n",
      "24.8\n",
      "16.6\n",
      "17.8\n",
      "9.0\n",
      "10.6\n",
      "23.4\n",
      "21.0\n",
      "16.6\n",
      "24.2\n",
      "20.4\n",
      "25.6\n",
      "19.8\n",
      "16.4\n",
      "16.2\n",
      "17.0\n",
      "16.8\n",
      "19.8\n",
      "15.6\n",
      "19.2\n",
      "23.2\n",
      "10.8\n",
      "24.4\n",
      "13.4\n",
      "12.0\n",
      "18.6\n",
      "16.6\n",
      "12.2\n",
      "22.4\n",
      "15.4\n",
      "17.2\n",
      "17.6\n",
      "16.4\n",
      "18.6\n",
      "19.8\n",
      "18.8\n",
      "17.6\n",
      "20.6\n",
      "15.0\n",
      "22.0\n",
      "17.4\n",
      "13.6\n",
      "17.6\n",
      "18.4\n",
      "20.4\n",
      "20.0\n",
      "17.8\n",
      "16.0\n",
      "14.6\n",
      "17.2\n",
      "13.6\n",
      "23.6\n",
      "15.6\n",
      "21.4\n",
      "13.0\n",
      "18.6\n",
      "20.6\n",
      "11.4\n",
      "18.0\n",
      "12.0\n",
      "16.0\n",
      "12.2\n",
      "23.0\n",
      "24.0\n",
      "11.8\n",
      "17.2\n",
      "24.6\n",
      "30.4\n",
      "18.0\n",
      "15.0\n",
      "13.2\n",
      "28.8\n",
      "22.0\n",
      "15.6\n",
      "13.6\n",
      "8.6\n",
      "22.0\n",
      "20.0\n",
      "12.6\n",
      "18.0\n",
      "11.0\n",
      "12.2\n",
      "18.0\n",
      "12.4\n",
      "13.0\n",
      "21.4\n",
      "13.6\n",
      "17.4\n",
      "15.0\n",
      "14.4\n",
      "16.0\n",
      "12.0\n",
      "12.8\n",
      "21.4\n",
      "17.4\n",
      "21.6\n",
      "16.0\n",
      "16.4\n",
      "16.0\n",
      "22.0\n",
      "21.8\n",
      "14.6\n",
      "22.0\n",
      "25.0\n",
      "15.6\n",
      "17.8\n",
      "14.8\n",
      "18.2\n",
      "12.6\n",
      "11.8\n",
      "16.0\n",
      "30.4\n",
      "13.4\n",
      "18.4\n",
      "20.0\n",
      "17.0\n",
      "26.0\n",
      "21.0\n",
      "19.4\n",
      "16.0\n",
      "12.8\n",
      "14.0\n",
      "21.8\n",
      "11.8\n",
      "25.8\n",
      "18.0\n",
      "10.2\n",
      "12.0\n",
      "13.8\n",
      "16.6\n",
      "11.4\n",
      "13.4\n",
      "14.0\n",
      "16.6\n",
      "24.0\n",
      "10.2\n",
      "18.6\n",
      "21.6\n",
      "20.2\n",
      "18.0\n",
      "17.4\n",
      "22.0\n",
      "17.4\n",
      "19.0\n",
      "18.0\n",
      "16.0\n",
      "28.6\n",
      "18.4\n",
      "18.8\n",
      "17.8\n",
      "16.8\n",
      "19.4\n",
      "20.0\n",
      "16.0\n",
      "22.0\n",
      "12.8\n",
      "20.0\n",
      "17.4\n",
      "15.6\n",
      "22.0\n",
      "14.4\n",
      "12.2\n",
      "12.2\n",
      "20.0\n",
      "13.0\n",
      "22.4\n",
      "13.6\n",
      "30.4\n",
      "12.4\n",
      "16.0\n",
      "30.4\n",
      "23.2\n",
      "20.0\n",
      "12.6\n",
      "14.6\n",
      "11.8\n",
      "20.2\n",
      "10.0\n",
      "12.8\n",
      "20.6\n",
      "18.0\n",
      "13.8\n",
      "12.8\n",
      "17.2\n",
      "16.0\n",
      "14.2\n",
      "19.6\n",
      "22.4\n",
      "14.8\n",
      "13.0\n",
      "13.6\n",
      "12.6\n",
      "19.2\n",
      "20.2\n",
      "16.0\n",
      "11.6\n"
     ]
    }
   ],
   "source": [
    "with open( 'data_3_columns.txt', 'r' ) as f:\n",
    "\n",
    "    for line in f:\n",
    "\n",
    "        line = line.strip().split('\\t')\n",
    "\n",
    "        \n",
    "\n",
    "        medium = line[0]\n",
    "\n",
    "        source = line[1]\n",
    "\n",
    "        amount_paid = float( line[2].replace(',', '.') )\n",
    "        print(amount_paid)\n",
    "\n"
   ]
  },
  {
   "cell_type": "code",
   "execution_count": 120,
   "metadata": {
    "collapsed": false
   },
   "outputs": [
    {
     "name": "stdout",
     "output_type": "stream",
     "text": [
      "Текущая сумма расходов: 12.40\n",
      "Текущая сумма расходов: 28.00\n",
      "Текущая сумма расходов: 46.40\n",
      "Текущая сумма расходов: 76.20\n",
      "Текущая сумма расходов: 92.80\n",
      "Текущая сумма расходов: 112.80\n",
      "Текущая сумма расходов: 124.00\n",
      "Текущая сумма расходов: 140.00\n",
      "Текущая сумма расходов: 170.40\n",
      "Текущая сумма расходов: 184.00\n",
      "Текущая сумма расходов: 206.40\n",
      "Текущая сумма расходов: 232.00\n",
      "Текущая сумма расходов: 249.00\n",
      "Текущая сумма расходов: 264.60\n",
      "Текущая сумма расходов: 276.60\n",
      "Текущая сумма расходов: 290.20\n",
      "Текущая сумма расходов: 307.80\n",
      "Текущая сумма расходов: 326.40\n",
      "Текущая сумма расходов: 337.80\n",
      "Текущая сумма расходов: 366.60\n",
      "Текущая сумма расходов: 381.00\n",
      "Текущая сумма расходов: 393.00\n",
      "Текущая сумма расходов: 415.00\n",
      "Текущая сумма расходов: 445.40\n",
      "Текущая сумма расходов: 463.20\n",
      "Текущая сумма расходов: 475.40\n",
      "Текущая сумма расходов: 505.80\n",
      "Текущая сумма расходов: 523.80\n",
      "Текущая сумма расходов: 536.60\n",
      "Текущая сумма расходов: 555.80\n"
     ]
    }
   ],
   "source": [
    "total_sum = 0\n",
    "\n",
    "with open( 'data_3_columns.txt', 'r' ) as f:\n",
    "\n",
    "    for line in f:\n",
    "\n",
    "        line = line.strip().split('\\t')\n",
    "\n",
    "        amount_paid = float( line[2].replace(',', '.') )\n",
    "\n",
    "        if line[1] == 'yandex' and line[0] == 'seo':\n",
    "            total_sum += amount_paid\n",
    "            print( 'Текущая сумма расходов: {:.2f}'.format( total_sum ) )\n"
   ]
  },
  {
   "cell_type": "code",
   "execution_count": 122,
   "metadata": {
    "collapsed": false
   },
   "outputs": [],
   "source": [
    "import openpyxl\n"
   ]
  },
  {
   "cell_type": "code",
   "execution_count": 126,
   "metadata": {
    "collapsed": false
   },
   "outputs": [
    {
     "name": "stdout",
     "output_type": "stream",
     "text": [
      "medium\n"
     ]
    }
   ],
   "source": [
    "workbook = 'data.xlsx'\n",
    "\n",
    "sheetName = 'data'\n",
    "sheet = openpyxl.load_workbook( workbook )[sheetName]\n",
    "\n",
    "for line in sheet[ 'A1:I1' ]:\n",
    "\n",
    "    print( line[4].value )\n",
    "\n"
   ]
  },
  {
   "cell_type": "code",
   "execution_count": 129,
   "metadata": {
    "collapsed": false
   },
   "outputs": [
    {
     "name": "stdout",
     "output_type": "stream",
     "text": [
      "google seo 20.2 <class 'float'>\n",
      "yandex sem 15.6 <class 'float'>\n",
      "promo email 13.2 <class 'float'>\n",
      "yandex sem 9.8 <class 'float'>\n",
      "google sem 14.8 <class 'float'>\n",
      "google sem 14.4 <class 'float'>\n",
      "google sem 14 <class 'int'>\n",
      "yandex brand 20 <class 'int'>\n",
      "yandex sem 16.2 <class 'float'>\n",
      "promo email 11 <class 'int'>\n",
      "burgerclub cpa-partners 10.8 <class 'float'>\n",
      "google seo 22.6 <class 'float'>\n",
      "google seo 22.4 <class 'float'>\n",
      "yandex sem 24.4 <class 'float'>\n",
      "google seo 16.6 <class 'float'>\n",
      "yandex sem 8.6 <class 'float'>\n",
      "yandex seo 12.4 <class 'float'>\n",
      "food-delivery cpa-partners 16.2 <class 'float'>\n",
      "promo email 24 <class 'int'>\n",
      "yandex sem 18.8 <class 'float'>\n",
      "promo email 11.8 <class 'float'>\n",
      "google sem 9.4 <class 'float'>\n",
      "google sem 11.2 <class 'float'>\n",
      "promo email 19 <class 'int'>\n",
      "google sem 23.4 <class 'float'>\n",
      "city-magazine cpc-partners 17 <class 'int'>\n",
      "google seo 20.8 <class 'float'>\n",
      "promo email 15.6 <class 'float'>\n",
      "foody cpc-partners 22.4 <class 'float'>\n",
      "yandex seo 15.6 <class 'float'>\n",
      "food-delivery cpa-partners 21 <class 'int'>\n",
      "google seo 22.4 <class 'float'>\n",
      "google sem 20.4 <class 'float'>\n",
      "promo email 26 <class 'int'>\n",
      "yandex seo 18.4 <class 'float'>\n",
      "promo email 14.6 <class 'float'>\n",
      "yandex seo 29.8 <class 'float'>\n",
      "promo email 20 <class 'int'>\n",
      "google sem 19 <class 'int'>\n",
      "google brand 16.4 <class 'float'>\n",
      "yandex sem 16.2 <class 'float'>\n",
      "yandex sem 17.8 <class 'float'>\n",
      "promo email 18.8 <class 'float'>\n",
      "burgerclub cpa-partners 20 <class 'int'>\n",
      "google seo 21 <class 'int'>\n",
      "yandex seo 16.6 <class 'float'>\n",
      "promo email 20 <class 'int'>\n",
      "yandex sem 19.8 <class 'float'>\n",
      "promo email 16.8 <class 'float'>\n",
      "food-delivery cpa-partners 24 <class 'int'>\n",
      "yandex sem 12 <class 'int'>\n",
      "yandex sem 10.2 <class 'float'>\n",
      "promo email 24 <class 'int'>\n",
      "yandex sem 15.8 <class 'float'>\n",
      "yandex sem 22 <class 'int'>\n",
      "google sem 17.4 <class 'float'>\n",
      "yandex sem 14.8 <class 'float'>\n",
      "promo email 20 <class 'int'>\n",
      "yandex brand 11.6 <class 'float'>\n",
      "yandex seo 20 <class 'int'>\n",
      "yandex sem 16 <class 'int'>\n",
      "yandex seo 11.2 <class 'float'>\n",
      "google seo 12.2 <class 'float'>\n",
      "yandex sem 19.2 <class 'float'>\n",
      "google sem 17.8 <class 'float'>\n",
      "google sem 19.8 <class 'float'>\n",
      "promo email 8.6 <class 'float'>\n",
      "promo email 28.6 <class 'float'>\n",
      "newsletter email 18.8 <class 'float'>\n",
      "google sem 17.6 <class 'float'>\n",
      "promo email 16 <class 'int'>\n",
      "food-delivery cpa-partners 15.4 <class 'float'>\n",
      "yandex sem 21.6 <class 'float'>\n",
      "promo email 7.6 <class 'float'>\n",
      "yandex brand 21.6 <class 'float'>\n",
      "facebook smm 17.4 <class 'float'>\n",
      "google sem 22 <class 'int'>\n",
      "promo email 22 <class 'int'>\n",
      "promo email 16 <class 'int'>\n",
      "yandex seo 16 <class 'int'>\n",
      "yandex sem 20 <class 'int'>\n",
      "promo email 10 <class 'int'>\n",
      "yandex sem 21.2 <class 'float'>\n",
      "yandex seo 30.4 <class 'float'>\n",
      "burgerclub cpa-partners 18.8 <class 'float'>\n",
      "yandex sem 14 <class 'int'>\n",
      "promo email 22 <class 'int'>\n",
      "google sem 16 <class 'int'>\n",
      "yandex sem 12.6 <class 'float'>\n",
      "google sem 13.4 <class 'float'>\n",
      "yandex seo 13.6 <class 'float'>\n",
      "yandex sem 10.2 <class 'float'>\n",
      "yandex brand 17.4 <class 'float'>\n",
      "google sem 22.4 <class 'float'>\n",
      "yandex sem 11.4 <class 'float'>\n",
      "google sem 14 <class 'int'>\n",
      "yandex seo 22.4 <class 'float'>\n",
      "yandex sem 18 <class 'int'>\n",
      "direct brand 17 <class 'int'>\n",
      "food-delivery cpa-partners 24.8 <class 'float'>\n",
      "google brand 16.6 <class 'float'>\n",
      "google sem 17.8 <class 'float'>\n",
      "google sem 9 <class 'int'>\n",
      "promo email 10.6 <class 'float'>\n",
      "google brand 23.4 <class 'float'>\n",
      "burgerclub cpa-partners 21 <class 'int'>\n",
      "promo email 16.6 <class 'float'>\n",
      "foody cpc-partners 24.2 <class 'float'>\n",
      "google seo 20.4 <class 'float'>\n",
      "yandex seo 25.6 <class 'float'>\n",
      "yandex brand 19.8 <class 'float'>\n",
      "facebook smm 16.4 <class 'float'>\n",
      "promo email 16.2 <class 'float'>\n",
      "yandex seo 17 <class 'int'>\n",
      "promo email 16.8 <class 'float'>\n",
      "yandex sem 19.8 <class 'float'>\n",
      "yandex seo 15.6 <class 'float'>\n",
      "newsletter email 19.2 <class 'float'>\n",
      "google sem 23.2 <class 'float'>\n",
      "yandex sem 10.8 <class 'float'>\n",
      "google sem 24.4 <class 'float'>\n",
      "yandex sem 13.4 <class 'float'>\n",
      "yandex seo 12 <class 'int'>\n",
      "facebook smm 18.6 <class 'float'>\n",
      "google sem 16.6 <class 'float'>\n",
      "burgerclub cpa-partners 12.2 <class 'float'>\n",
      "burgerclub cpa-partners 22.4 <class 'float'>\n",
      "google seo 15.4 <class 'float'>\n",
      "city-magazine cpc-partners 17.2 <class 'float'>\n",
      "burgerclub cpa-partners 17.6 <class 'float'>\n",
      "promo email 16.4 <class 'float'>\n",
      "promo email 18.6 <class 'float'>\n",
      "promo email 19.8 <class 'float'>\n",
      "google brand 18.8 <class 'float'>\n",
      "google seo 17.6 <class 'float'>\n",
      "promo email 20.6 <class 'float'>\n",
      "food-delivery cpa-partners 15 <class 'int'>\n",
      "yandex sem 22 <class 'int'>\n",
      "promo email 17.4 <class 'float'>\n",
      "yandex seo 13.6 <class 'float'>\n",
      "yandex seo 17.6 <class 'float'>\n",
      "promo email 18.4 <class 'float'>\n",
      "promo email 20.4 <class 'float'>\n",
      "yandex sem 20 <class 'int'>\n",
      "yandex brand 17.8 <class 'float'>\n",
      "google seo 16 <class 'int'>\n",
      "promo email 14.6 <class 'float'>\n",
      "promo email 17.2 <class 'float'>\n",
      "yandex sem 13.6 <class 'float'>\n",
      "promo email 23.6 <class 'float'>\n",
      "google sem 15.6 <class 'float'>\n",
      "yandex sem 21.4 <class 'float'>\n",
      "google sem 13 <class 'int'>\n",
      "yandex seo 18.6 <class 'float'>\n",
      "burgerclub cpa-partners 20.6 <class 'float'>\n",
      "yandex seo 11.4 <class 'float'>\n",
      "promo email 18 <class 'int'>\n",
      "vk smm 12 <class 'int'>\n",
      "yandex sem 16 <class 'int'>\n",
      "google sem 12.2 <class 'float'>\n",
      "direct brand 23 <class 'int'>\n",
      "yandex sem 24 <class 'int'>\n",
      "promo email 11.8 <class 'float'>\n",
      "newsletter email 17.2 <class 'float'>\n",
      "newsletter email 24.6 <class 'float'>\n",
      "yandex sem 30.4 <class 'float'>\n",
      "yandex sem 18 <class 'int'>\n",
      "promo email 15 <class 'int'>\n",
      "google sem 13.2 <class 'float'>\n",
      "yandex seo 28.8 <class 'float'>\n",
      "yandex sem 22 <class 'int'>\n",
      "promo email 15.6 <class 'float'>\n",
      "yandex sem 13.6 <class 'float'>\n",
      "google sem 8.6 <class 'float'>\n",
      "google sem 22 <class 'int'>\n",
      "promo email 20 <class 'int'>\n",
      "yandex sem 12.6 <class 'float'>\n",
      "google sem 18 <class 'int'>\n",
      "direct brand 11 <class 'int'>\n",
      "promo email 12.2 <class 'float'>\n",
      "yandex sem 18 <class 'int'>\n",
      "promo email 12.4 <class 'float'>\n",
      "google seo 13 <class 'int'>\n",
      "direct brand 21.4 <class 'float'>\n",
      "yandex sem 13.6 <class 'float'>\n",
      "food-delivery cpa-partners 17.4 <class 'float'>\n",
      "google sem 15 <class 'int'>\n",
      "yandex seo 14.4 <class 'float'>\n",
      "direct brand 16 <class 'int'>\n",
      "yandex seo 12 <class 'int'>\n",
      "yandex sem 12.8 <class 'float'>\n",
      "promo email 21.4 <class 'float'>\n",
      "yandex sem 17.4 <class 'float'>\n",
      "yandex sem 21.6 <class 'float'>\n",
      "promo email 16 <class 'int'>\n",
      "google sem 16.4 <class 'float'>\n",
      "yandex sem 16 <class 'int'>\n",
      "promo email 22 <class 'int'>\n",
      "yandex brand 21.8 <class 'float'>\n",
      "promo email 14.6 <class 'float'>\n",
      "yandex seo 22 <class 'int'>\n",
      "promo email 25 <class 'int'>\n",
      "google sem 15.6 <class 'float'>\n",
      "promo email 17.8 <class 'float'>\n",
      "yandex sem 14.8 <class 'float'>\n",
      "yandex sem 18.2 <class 'float'>\n",
      "google sem 12.6 <class 'float'>\n",
      "promo email 11.8 <class 'float'>\n",
      "yandex sem 16 <class 'int'>\n",
      "yandex seo 30.4 <class 'float'>\n",
      "google seo 13.4 <class 'float'>\n",
      "newsletter email 18.4 <class 'float'>\n",
      "promo email 20 <class 'int'>\n",
      "vk smm 17 <class 'int'>\n",
      "google sem 26 <class 'int'>\n",
      "google sem 21 <class 'int'>\n",
      "foody cpc-partners 19.4 <class 'float'>\n",
      "yandex sem 16 <class 'int'>\n",
      "yandex sem 12.8 <class 'float'>\n",
      "google sem 14 <class 'int'>\n",
      "burgerclub cpa-partners 21.8 <class 'float'>\n",
      "city-magazine cpc-partners 11.8 <class 'float'>\n",
      "google sem 25.8 <class 'float'>\n",
      "google sem 18 <class 'int'>\n",
      "google sem 10.2 <class 'float'>\n",
      "promo email 12 <class 'int'>\n",
      "google sem 13.8 <class 'float'>\n",
      "google sem 16.6 <class 'float'>\n",
      "google sem 11.4 <class 'float'>\n",
      "google brand 13.4 <class 'float'>\n",
      "yandex sem 14 <class 'int'>\n",
      "google sem 16.6 <class 'float'>\n",
      "promo email 24 <class 'int'>\n",
      "promo email 10.2 <class 'float'>\n",
      "promo email 18.6 <class 'float'>\n",
      "yandex sem 21.6 <class 'float'>\n",
      "burgerclub cpa-partners 20.2 <class 'float'>\n",
      "yandex sem 18 <class 'int'>\n",
      "promo email 17.4 <class 'float'>\n",
      "promo email 22 <class 'int'>\n",
      "yandex sem 17.4 <class 'float'>\n",
      "yandex sem 19 <class 'int'>\n",
      "facebook smm 18 <class 'int'>\n",
      "google brand 16 <class 'int'>\n",
      "promo email 28.6 <class 'float'>\n",
      "yandex sem 18.4 <class 'float'>\n",
      "promo email 18.8 <class 'float'>\n",
      "yandex seo 17.8 <class 'float'>\n",
      "yandex sem 16.8 <class 'float'>\n",
      "yandex sem 19.4 <class 'float'>\n",
      "google sem 20 <class 'int'>\n",
      "yandex sem 16 <class 'int'>\n",
      "google sem 22 <class 'int'>\n",
      "food-delivery cpa-partners 12.8 <class 'float'>\n",
      "promo email 20 <class 'int'>\n",
      "yandex sem 17.4 <class 'float'>\n",
      "promo email 15.6 <class 'float'>\n",
      "google sem 22 <class 'int'>\n",
      "google sem 14.4 <class 'float'>\n",
      "google sem 12.2 <class 'float'>\n",
      "yandex seo 12.2 <class 'float'>\n",
      "promo email 20 <class 'int'>\n",
      "food-delivery cpa-partners 13 <class 'int'>\n",
      "yandex sem 22.4 <class 'float'>\n",
      "yandex sem 13.6 <class 'float'>\n",
      "google sem 30.4 <class 'float'>\n",
      "yandex sem 12.4 <class 'float'>\n",
      "yandex sem 16 <class 'int'>\n",
      "yandex seo 30.4 <class 'float'>\n",
      "city-magazine cpc-partners 23.2 <class 'float'>\n",
      "google sem 20 <class 'int'>\n",
      "promo email 12.6 <class 'float'>\n",
      "google sem 14.6 <class 'float'>\n",
      "city-magazine cpc-partners 11.8 <class 'float'>\n",
      "facebook smm 20.2 <class 'float'>\n",
      "google sem 10 <class 'int'>\n",
      "promo email 12.8 <class 'float'>\n",
      "yandex sem 20.6 <class 'float'>\n",
      "yandex seo 18 <class 'int'>\n",
      "food-delivery cpa-partners 13.8 <class 'float'>\n",
      "yandex seo 12.8 <class 'float'>\n",
      "yandex sem 17.2 <class 'float'>\n",
      "google sem 16 <class 'int'>\n",
      "promo email 14.2 <class 'float'>\n",
      "yandex sem 19.6 <class 'float'>\n",
      "google seo 22.4 <class 'float'>\n",
      "promo email 14.8 <class 'float'>\n",
      "google sem 13 <class 'int'>\n",
      "google sem 13.6 <class 'float'>\n",
      "promo email 12.6 <class 'float'>\n",
      "yandex seo 19.2 <class 'float'>\n",
      "promo email 20.2 <class 'float'>\n",
      "google sem 16 <class 'int'>\n",
      "yandex sem 11.6 <class 'float'>\n",
      "5129.8\n"
     ]
    }
   ],
   "source": [
    "total_amount_paid = 0\n",
    "for line in sheet[ 'E2:I295' ]:\n",
    "    medium = line[0].value\n",
    "    source = line[1].value\n",
    "    amount_paid = line[4].value\n",
    "    total_amount_paid += amount_paid\n",
    "    print( source, medium, amount_paid, type(amount_paid) )\n",
    "    \n",
    "print(total_amount_paid)"
   ]
  },
  {
   "cell_type": "code",
   "execution_count": 133,
   "metadata": {
    "collapsed": false
   },
   "outputs": [
    {
     "name": "stdout",
     "output_type": "stream",
     "text": [
      "15.6\n",
      "9.8\n",
      "16.2\n",
      "24.4\n",
      "8.6\n",
      "18.8\n",
      "16.2\n",
      "17.8\n",
      "19.8\n",
      "12.0\n",
      "10.2\n",
      "15.8\n",
      "22.0\n",
      "14.8\n",
      "16.0\n",
      "19.2\n",
      "21.6\n",
      "20.0\n",
      "21.2\n",
      "14.0\n",
      "12.6\n",
      "10.2\n",
      "11.4\n",
      "18.0\n",
      "19.8\n",
      "10.8\n",
      "13.4\n",
      "22.0\n",
      "20.0\n",
      "13.6\n",
      "21.4\n",
      "16.0\n",
      "24.0\n",
      "30.4\n",
      "18.0\n",
      "22.0\n",
      "13.6\n",
      "12.6\n",
      "18.0\n",
      "13.6\n",
      "12.8\n",
      "17.4\n",
      "21.6\n",
      "16.0\n",
      "14.8\n",
      "18.2\n",
      "16.0\n",
      "16.0\n",
      "12.8\n",
      "14.0\n",
      "21.6\n",
      "18.0\n",
      "17.4\n",
      "19.0\n",
      "18.4\n",
      "16.8\n",
      "19.4\n",
      "16.0\n",
      "17.4\n",
      "22.4\n",
      "13.6\n",
      "12.4\n",
      "16.0\n",
      "20.6\n",
      "17.2\n",
      "19.6\n",
      "11.6\n"
     ]
    }
   ],
   "source": [
    "Started = True\n",
    "\n",
    "with open( 'data.txt', 'r' ) as f:\n",
    "\n",
    "    for line in f:\n",
    "\n",
    "        if Started:\n",
    "\n",
    "            Started = False\n",
    "\n",
    "        else:\n",
    "\n",
    "            line = line.strip().split('\\t')\n",
    "            medium = line[4]\n",
    "            source = line[5]            \n",
    "            amount = float( line[-1].replace(',', '.') )\n",
    "            if source == 'yandex' and medium == 'sem':\n",
    "                print(amount)\n"
   ]
  },
  {
   "cell_type": "code",
   "execution_count": 135,
   "metadata": {
    "collapsed": false
   },
   "outputs": [
    {
     "data": {
      "text/plain": [
       "685.8000000000001"
      ]
     },
     "execution_count": 135,
     "metadata": {},
     "output_type": "execute_result"
    }
   ],
   "source": [
    "Started = True\n",
    "allowedMedium = [ 'brand', 'seo' ]\n",
    "total_amount = 0\n",
    "allowedSource = 'yandex'\n",
    "with open( 'data.txt', 'r' ) as f:\n",
    "\n",
    "    for line in f:\n",
    "\n",
    "        if Started:\n",
    "\n",
    "            Started = False\n",
    "\n",
    "        else:\n",
    "\n",
    "            line = line.strip().split('\\t')\n",
    "\n",
    "            medium = line[4]\n",
    "\n",
    "            source = line[5]\n",
    "\n",
    "            amount = float( line[-1].replace(',', '.') )\n",
    "\n",
    "            if source == allowedSource and medium in allowedMedium:\n",
    "\n",
    "                total_amount += amount\n",
    "total_amount"
   ]
  },
  {
   "cell_type": "code",
   "execution_count": 141,
   "metadata": {
    "collapsed": false
   },
   "outputs": [
    {
     "data": {
      "text/plain": [
       "124"
      ]
     },
     "execution_count": 141,
     "metadata": {},
     "output_type": "execute_result"
    }
   ],
   "source": [
    "Started = True\n",
    "unique_user_ids = 0\n",
    "with open( 'data_no_header.txt', 'r' ) as f:\n",
    "\n",
    "    for line in f:\n",
    "\n",
    "        line = line.strip().split('\\t')\n",
    "\n",
    "        # ID пользователя на текущей строке\n",
    "\n",
    "        current_user_id = line[2]\n",
    "\n",
    "        if Started:\n",
    "\n",
    "            Started = False\n",
    "\n",
    "            # при обработке первой строки присваиваем \"прошлому\" ID пользователя первое значение\n",
    "\n",
    "            previous_user_id = current_user_id\n",
    "        else:\n",
    "\n",
    "            if previous_user_id != current_user_id:\n",
    "\n",
    "                unique_user_ids += 1\n",
    "\n",
    "        #print( current_user_id, previous_user_id )\n",
    "\n",
    "        previous_user_id = current_user_id\n",
    "\n",
    "unique_user_ids += 1\n",
    "unique_user_ids"
   ]
  },
  {
   "cell_type": "code",
   "execution_count": 142,
   "metadata": {
    "collapsed": false
   },
   "outputs": [
    {
     "data": {
      "text/plain": [
       "2500"
      ]
     },
     "execution_count": 142,
     "metadata": {},
     "output_type": "execute_result"
    }
   ],
   "source": [
    "total_costs = { 'google': 1319, 'yandex': 1818, 'promo': 1181 }\n",
    "\n",
    "total_costs['google'] + total_costs['promo'] "
   ]
  },
  {
   "cell_type": "code",
   "execution_count": 143,
   "metadata": {
    "collapsed": false
   },
   "outputs": [
    {
     "name": "stdout",
     "output_type": "stream",
     "text": [
      "Источник brand не найден в итоговой статистике\n"
     ]
    }
   ],
   "source": [
    "source = 'brand'\n",
    "\n",
    "if source in total_costs:\n",
    "\n",
    "    print( 'Расходы на источник {} составили {} рублей'.format( source, total_costs['google'] ) )\n",
    "\n",
    "else:\n",
    "\n",
    "    print( 'Источник {} не найден в итоговой статистике'.format( source ) )\n",
    "\n"
   ]
  },
  {
   "cell_type": "code",
   "execution_count": 148,
   "metadata": {
    "collapsed": false
   },
   "outputs": [
    {
     "name": "stdout",
     "output_type": "stream",
     "text": [
      "1319\n",
      "1818\n",
      "1181\n"
     ]
    }
   ],
   "source": [
    "for value in total_costs.values():\n",
    "\n",
    "    print( value )"
   ]
  },
  {
   "cell_type": "code",
   "execution_count": 150,
   "metadata": {
    "collapsed": false
   },
   "outputs": [
    {
     "name": "stdout",
     "output_type": "stream",
     "text": [
      "Кампания google, цена клика 2.00 USD\n",
      "Кампания yandex, цена клика 1.67 USD\n"
     ]
    }
   ],
   "source": [
    "campaign_stats = {\n",
    "\n",
    "    'google': { 'cost': 1000, 'clicks': 500 },\n",
    "\n",
    "    'yandex': { 'cost': 1500, 'clicks': 900 }\n",
    "\n",
    "}\n",
    "for campaign, stats in campaign_stats.items():\n",
    "\n",
    "    print( 'Кампания {}, цена клика {:.2f} USD'.format( campaign, stats['cost'] / stats['clicks'] ) )"
   ]
  },
  {
   "cell_type": "code",
   "execution_count": 155,
   "metadata": {
    "collapsed": false
   },
   "outputs": [],
   "source": [
    "users_stats_dict = {}\n",
    "\n",
    "i = 0\n",
    "\n",
    "with open( 'data_no_header.txt', 'r' ) as f:\n",
    "\n",
    "    for line in f:\n",
    "\n",
    "        line = line.strip().split('\\t')\n",
    "\n",
    "        current_user_id = line[2]\n",
    "\n",
    "        # если ID пользователя уже есть в нашем словаре, то добавляем ему +1\n",
    "\n",
    "        if current_user_id in users_stats_dict:\n",
    "\n",
    "            users_stats_dict[ current_user_id ] += 1\n",
    "\n",
    "        # если ID пользователя еще нет в словаре, то создаем для него ключ со значением 1\n",
    "\n",
    "        else:\n",
    "\n",
    "            users_stats_dict[ current_user_id ] = 1\n",
    "\n",
    "        \n",
    "\n",
    "        #print( 'Текущий ID: {}'.format( current_user_id ) )\n",
    "\n",
    "        #print( users_stats_dict )\n",
    "\n",
    "        #print( '' )\n",
    "        # если прошли более 5 шагов, то выходим из цикла (команда break)\n",
    "\n",
    "        i += 1\n",
    "        \n"
   ]
  },
  {
   "cell_type": "code",
   "execution_count": 156,
   "metadata": {
    "collapsed": false
   },
   "outputs": [
    {
     "data": {
      "text/plain": [
       "12"
      ]
     },
     "execution_count": 156,
     "metadata": {},
     "output_type": "execute_result"
    }
   ],
   "source": [
    "users_stats_dict['1042']"
   ]
  },
  {
   "cell_type": "code",
   "execution_count": 158,
   "metadata": {
    "collapsed": false
   },
   "outputs": [
    {
     "name": "stdout",
     "output_type": "stream",
     "text": [
      "search engines seo\n",
      "search engines seo\n",
      "other\n",
      "search engines seo\n",
      "search engines seo\n",
      "search engines seo\n",
      "search engines seo\n",
      "search engines brand\n",
      "search engines seo\n",
      "other\n",
      "other\n",
      "search engines seo\n",
      "search engines seo\n",
      "search engines seo\n",
      "search engines seo\n",
      "search engines seo\n",
      "search engines seo\n",
      "other\n",
      "other\n",
      "search engines seo\n",
      "other\n",
      "search engines seo\n",
      "search engines seo\n",
      "other\n",
      "search engines seo\n",
      "other\n",
      "search engines seo\n",
      "other\n",
      "other\n",
      "search engines seo\n",
      "other\n",
      "search engines seo\n",
      "search engines seo\n",
      "other\n",
      "search engines seo\n",
      "other\n",
      "search engines seo\n",
      "other\n",
      "search engines seo\n",
      "search engines brand\n",
      "search engines seo\n",
      "search engines seo\n",
      "other\n",
      "other\n",
      "search engines seo\n",
      "search engines seo\n",
      "other\n",
      "search engines seo\n",
      "other\n",
      "other\n",
      "search engines seo\n",
      "search engines seo\n",
      "other\n",
      "search engines seo\n",
      "search engines seo\n",
      "search engines seo\n",
      "search engines seo\n",
      "other\n",
      "search engines brand\n",
      "search engines seo\n",
      "search engines seo\n",
      "search engines seo\n",
      "search engines seo\n",
      "search engines seo\n",
      "search engines seo\n",
      "search engines seo\n",
      "other\n",
      "other\n",
      "other\n",
      "search engines seo\n",
      "other\n",
      "other\n",
      "search engines seo\n",
      "other\n",
      "search engines brand\n",
      "other\n",
      "search engines seo\n",
      "other\n",
      "other\n",
      "search engines seo\n",
      "search engines seo\n",
      "other\n",
      "search engines seo\n",
      "search engines seo\n",
      "other\n",
      "search engines seo\n",
      "other\n",
      "search engines seo\n",
      "search engines seo\n",
      "search engines seo\n",
      "search engines seo\n",
      "search engines seo\n",
      "search engines brand\n",
      "search engines seo\n",
      "search engines seo\n",
      "search engines seo\n",
      "search engines seo\n",
      "search engines seo\n",
      "other\n",
      "other\n",
      "search engines brand\n",
      "search engines seo\n",
      "search engines seo\n",
      "other\n",
      "search engines brand\n",
      "other\n",
      "other\n",
      "other\n",
      "search engines seo\n",
      "search engines seo\n",
      "search engines brand\n",
      "other\n",
      "other\n",
      "search engines seo\n",
      "other\n",
      "search engines seo\n",
      "search engines seo\n",
      "other\n",
      "search engines seo\n",
      "search engines seo\n",
      "search engines seo\n",
      "search engines seo\n",
      "search engines seo\n",
      "other\n",
      "search engines seo\n",
      "other\n",
      "other\n",
      "search engines seo\n",
      "other\n",
      "other\n",
      "other\n",
      "other\n",
      "other\n",
      "search engines brand\n",
      "search engines seo\n",
      "other\n",
      "other\n",
      "search engines seo\n",
      "other\n",
      "search engines seo\n",
      "search engines seo\n",
      "other\n",
      "other\n",
      "search engines seo\n",
      "search engines brand\n",
      "search engines seo\n",
      "other\n",
      "other\n",
      "search engines seo\n",
      "other\n",
      "search engines seo\n",
      "search engines seo\n",
      "search engines seo\n",
      "search engines seo\n",
      "other\n",
      "search engines seo\n",
      "other\n",
      "other\n",
      "search engines seo\n",
      "search engines seo\n",
      "other\n",
      "search engines seo\n",
      "other\n",
      "other\n",
      "other\n",
      "search engines seo\n",
      "search engines seo\n",
      "other\n",
      "search engines seo\n",
      "search engines seo\n",
      "search engines seo\n",
      "other\n",
      "search engines seo\n",
      "search engines seo\n",
      "search engines seo\n",
      "other\n",
      "search engines seo\n",
      "search engines seo\n",
      "other\n",
      "other\n",
      "search engines seo\n",
      "other\n",
      "search engines seo\n",
      "other\n",
      "search engines seo\n",
      "other\n",
      "search engines seo\n",
      "search engines seo\n",
      "other\n",
      "search engines seo\n",
      "search engines seo\n",
      "other\n",
      "search engines seo\n",
      "search engines seo\n",
      "other\n",
      "search engines seo\n",
      "search engines seo\n",
      "other\n",
      "search engines brand\n",
      "other\n",
      "search engines seo\n",
      "other\n",
      "search engines seo\n",
      "other\n",
      "search engines seo\n",
      "search engines seo\n",
      "search engines seo\n",
      "other\n",
      "search engines seo\n",
      "search engines seo\n",
      "search engines seo\n",
      "other\n",
      "other\n",
      "other\n",
      "search engines seo\n",
      "search engines seo\n",
      "other\n",
      "search engines seo\n",
      "search engines seo\n",
      "search engines seo\n",
      "other\n",
      "other\n",
      "search engines seo\n",
      "search engines seo\n",
      "search engines seo\n",
      "other\n",
      "search engines seo\n",
      "search engines seo\n",
      "search engines seo\n",
      "search engines brand\n",
      "search engines seo\n",
      "search engines seo\n",
      "other\n",
      "other\n",
      "other\n",
      "search engines seo\n",
      "other\n",
      "search engines seo\n",
      "other\n",
      "other\n",
      "search engines seo\n",
      "search engines seo\n",
      "other\n",
      "search engines brand\n",
      "other\n",
      "search engines seo\n",
      "other\n",
      "search engines seo\n",
      "search engines seo\n",
      "search engines seo\n",
      "search engines seo\n",
      "search engines seo\n",
      "search engines seo\n",
      "other\n",
      "other\n",
      "search engines seo\n",
      "other\n",
      "search engines seo\n",
      "search engines seo\n",
      "search engines seo\n",
      "search engines seo\n",
      "other\n",
      "other\n",
      "search engines seo\n",
      "search engines seo\n",
      "search engines seo\n",
      "search engines seo\n",
      "search engines seo\n",
      "search engines seo\n",
      "other\n",
      "search engines seo\n",
      "other\n",
      "search engines seo\n",
      "other\n",
      "other\n",
      "search engines seo\n",
      "other\n",
      "search engines seo\n",
      "search engines seo\n",
      "other\n",
      "search engines seo\n",
      "search engines seo\n",
      "search engines seo\n",
      "other\n",
      "search engines seo\n",
      "search engines seo\n",
      "other\n",
      "search engines seo\n",
      "search engines seo\n",
      "other\n",
      "search engines seo\n",
      "other\n",
      "search engines seo\n",
      "search engines seo\n"
     ]
    }
   ],
   "source": [
    "with open( 'data_no_header.txt', 'r' ) as f:\n",
    "\n",
    "    for line in f:\n",
    "\n",
    "        line = line.strip().split('\\t')\n",
    "\n",
    "        source = line[5]\n",
    "\n",
    "        medium = line[4]\n",
    "\n",
    "        if source == 'google' or source == 'yandex':\n",
    "\n",
    "            if medium == 'seo' or medium == 'sem':\n",
    "\n",
    "                sourceType = 'search engines seo'\n",
    "\n",
    "            elif medium == 'brand':\n",
    "\n",
    "                sourceType = 'search engines brand'\n",
    "\n",
    "            else:\n",
    "\n",
    "                # если вдруг встретится другой вариант, то ставим \"undefined\"\n",
    "\n",
    "                sourceType = 'search engines undefined'\n",
    "\n",
    "        else:\n",
    "\n",
    "            sourceType = 'other'\n",
    "        print(sourceType)\n",
    "\n",
    "        # код с формированием словаря статистики"
   ]
  },
  {
   "cell_type": "code",
   "execution_count": 159,
   "metadata": {
    "collapsed": true
   },
   "outputs": [],
   "source": [
    "def source_type_classification( source, medium ):\n",
    "\n",
    "    \"\"\"\n",
    "\n",
    "    Функция классифицирует источник трафика в зависимости от значения source и medium.\n",
    "\n",
    "    Возвращает название типа источника по правилам:\n",
    "\n",
    "        - если source равен 'google' или 'yandex', то проверяем medium:\n",
    "\n",
    "            - для medium 'seo' или 'sem' возвращаем 'search engines seo'\n",
    "\n",
    "            - для medium 'brand' - возвращаем 'search engines brand'\n",
    "\n",
    "            - для остальных случаев возвращаем 'search engines undefined'\n",
    "\n",
    "        - если условие не выполнено, то возвращаем 'other'\n",
    "\n",
    "    \"\"\"\n",
    "\n",
    "    if source == 'google' or source == 'yandex':\n",
    "\n",
    "        if medium == 'seo' or medium == 'sem':\n",
    "\n",
    "            return 'search engines seo'\n",
    "\n",
    "        elif medium == 'brand':\n",
    "\n",
    "            return 'search engines brand'\n",
    "\n",
    "        else:\n",
    "\n",
    "            # если вдруг встретится другой вариант, то ставим \"undefined\"\n",
    "\n",
    "            return 'search engines undefined'\n",
    "\n",
    "    else:\n",
    "\n",
    "        return 'other'\n",
    "\n"
   ]
  },
  {
   "cell_type": "code",
   "execution_count": 160,
   "metadata": {
    "collapsed": false
   },
   "outputs": [
    {
     "name": "stdout",
     "output_type": "stream",
     "text": [
      "search engines undefined\n"
     ]
    }
   ],
   "source": [
    "print(source_type_classification('google', '123'))"
   ]
  },
  {
   "cell_type": "code",
   "execution_count": 161,
   "metadata": {
    "collapsed": true
   },
   "outputs": [],
   "source": [
    "source_type_stats = {}\n",
    "\n",
    "with open( 'data_no_header.txt', 'r' ) as f:\n",
    "\n",
    "    for line in f:       \n",
    "\n",
    "        line = line.strip().split('\\t')\n",
    "\n",
    "        source = line[5]\n",
    "\n",
    "        medium = line[4]\n",
    "\n",
    "        sourceType = source_type_classification( source, medium )\n",
    "\n",
    "        if sourceType in source_type_stats:\n",
    "\n",
    "            source_type_stats[ sourceType ] += 1\n",
    "\n",
    "        else:\n",
    "\n",
    "            source_type_stats[ sourceType ] = 1\n",
    "\n"
   ]
  },
  {
   "cell_type": "code",
   "execution_count": 162,
   "metadata": {
    "collapsed": false
   },
   "outputs": [
    {
     "data": {
      "text/plain": [
       "168"
      ]
     },
     "execution_count": 162,
     "metadata": {},
     "output_type": "execute_result"
    }
   ],
   "source": [
    "source_type_stats['search engines seo']"
   ]
  },
  {
   "cell_type": "code",
   "execution_count": 172,
   "metadata": {
    "collapsed": true
   },
   "outputs": [],
   "source": [
    "def source_type_classification( line ):\n",
    "\n",
    "    source = line[5]\n",
    "\n",
    "    medium = line[4]\n",
    "\n",
    "    amount_paid = float( line[-1].replace(',', '.') )\n",
    "\n",
    "    if amount_paid >= 20:\n",
    "\n",
    "        orderType = 'expensive'\n",
    "\n",
    "    else:\n",
    "\n",
    "        orderType = 'cheap'\n",
    "\n",
    "    if source == 'google' or source == 'yandex':\n",
    "\n",
    "        if medium == 'seo' or medium == 'sem':\n",
    "\n",
    "            sourceType = 'search engines seo'\n",
    "\n",
    "        elif medium == 'brand':\n",
    "\n",
    "            sourceType = 'search engines brand'\n",
    "\n",
    "        else:\n",
    "\n",
    "            # если вдруг встретится другой вариант, то ставим \"undefined\"\n",
    "\n",
    "            sourceType = 'search engines undefined'\n",
    "\n",
    "    else:\n",
    "\n",
    "        sourceType = 'other'\n",
    "\n",
    "    return sourceType, orderType\n",
    "\n"
   ]
  },
  {
   "cell_type": "code",
   "execution_count": null,
   "metadata": {
    "collapsed": true
   },
   "outputs": [],
   "source": []
  },
  {
   "cell_type": "code",
   "execution_count": 173,
   "metadata": {
    "collapsed": false
   },
   "outputs": [],
   "source": [
    "source_type_stats = {}\n",
    "\n",
    "with open( 'data_no_header.txt', 'r' ) as f:\n",
    "\n",
    "    for line in f:\n",
    "\n",
    "        line = line.strip().split('\\t')\n",
    "\n",
    "        sourceType, orderType = source_type_classification( line )\n",
    "\n",
    "        source_order_type = sourceType + ' ' + orderType\n",
    "\n",
    "        if source_order_type in source_type_stats:\n",
    "\n",
    "            source_type_stats[ source_order_type ] += 1\n",
    "\n",
    "        else:\n",
    "\n",
    "            source_type_stats[ source_order_type ] = 1"
   ]
  },
  {
   "cell_type": "code",
   "execution_count": 175,
   "metadata": {
    "collapsed": false
   },
   "outputs": [
    {
     "data": {
      "text/plain": [
       "121"
      ]
     },
     "execution_count": 175,
     "metadata": {},
     "output_type": "execute_result"
    }
   ],
   "source": [
    "source_type_stats['search engines seo cheap']"
   ]
  },
  {
   "cell_type": "code",
   "execution_count": 176,
   "metadata": {
    "collapsed": true
   },
   "outputs": [],
   "source": [
    "cpa_commission = {\n",
    "\n",
    "    'burgerclub': 0.3,\n",
    "\n",
    "    'food-delivery': 0.25\n",
    "\n",
    "}\n",
    "\n",
    "cpc_commission = {\n",
    "\n",
    "    'city-magazine': 7,\n",
    "\n",
    "    'foody': 9\n",
    "\n",
    "}\n",
    "\n",
    "\n"
   ]
  },
  {
   "cell_type": "code",
   "execution_count": 177,
   "metadata": {
    "collapsed": true
   },
   "outputs": [],
   "source": [
    "fixed_commission = 4"
   ]
  },
  {
   "cell_type": "code",
   "execution_count": 178,
   "metadata": {
    "collapsed": true
   },
   "outputs": [],
   "source": [
    "def costs_classification( amount_paid, source ):\n",
    "\n",
    "    \"\"\"\n",
    "\n",
    "    Функция по названию канала source возвращает размер комиссии.\n",
    "\n",
    "    Размеры комиссий берутся из словарей cpa_commission, cpc_commission и значения fixed_commission\n",
    "\n",
    "    \"\"\"\n",
    "\n",
    "    # если источник source входит в словарь cpa_commission, то возвращаем долю от выручки\n",
    "\n",
    "    if source in cpa_commission:\n",
    "\n",
    "        return amount_paid * cpa_commission[ source ]\n",
    "\n",
    "    # в случае партнеров CPC стоимость расходов постоянная\n",
    "\n",
    "    if source in cpc_commission:\n",
    "\n",
    "        return cpc_commission[ source ]\n",
    "\n",
    "    # если ни один случай не подходит, то возвращаем фиксированную стоимость fixed_commission\n",
    "\n",
    "    return fixed_commission"
   ]
  },
  {
   "cell_type": "code",
   "execution_count": 180,
   "metadata": {
    "collapsed": false
   },
   "outputs": [
    {
     "data": {
      "text/plain": [
       "4"
      ]
     },
     "execution_count": 180,
     "metadata": {},
     "output_type": "execute_result"
    }
   ],
   "source": [
    "costs_classification( 10, 'google' )"
   ]
  },
  {
   "cell_type": "code",
   "execution_count": 181,
   "metadata": {
    "collapsed": true
   },
   "outputs": [],
   "source": [
    "def expense_and_income( line ):\n",
    "\n",
    "    \"\"\"\n",
    "\n",
    "    Функция для строки line возвращает итоговый расход и доход\n",
    "\n",
    "    \"\"\"\n",
    "\n",
    "    source = line[5]\n",
    "\n",
    "    amount_paid = float( line[-1].replace( ',', '.' ) )\n",
    "\n",
    "    cost = float( line[6].replace( ',', '.' ) )\n",
    "\n",
    "    return source, cost, amount_paid"
   ]
  },
  {
   "cell_type": "code",
   "execution_count": 183,
   "metadata": {
    "collapsed": false
   },
   "outputs": [
    {
     "data": {
      "text/plain": [
       "('google', 0.0, 20.2)"
      ]
     },
     "execution_count": 183,
     "metadata": {},
     "output_type": "execute_result"
    }
   ],
   "source": [
    "line = ['40443', '05.10.2016 23:18', '1010', '0,000925926', 'seo', 'google', '0', '6243', '20,20']\n",
    "expense_and_income( line )"
   ]
  },
  {
   "cell_type": "code",
   "execution_count": 184,
   "metadata": {
    "collapsed": true
   },
   "outputs": [],
   "source": [
    "def expense_and_income( line ):\n",
    "\n",
    "    \"\"\"\n",
    "\n",
    "    Функция для строки line возвращает итоговый расход и доход\n",
    "\n",
    "    \"\"\"\n",
    "\n",
    "    source = line[5]\n",
    "\n",
    "    amount_paid = float( line[-1].replace( ',', '.' ) )\n",
    "\n",
    "    cost = float( line[6].replace( ',', '.' ) )\n",
    "\n",
    "    partner_comission = costs_classification( amount_paid, source )\n",
    "\n",
    "    return source, cost, amount_paid, partner_comission"
   ]
  },
  {
   "cell_type": "code",
   "execution_count": 185,
   "metadata": {
    "collapsed": false
   },
   "outputs": [
    {
     "data": {
      "text/plain": [
       "('google', 0.0, 20.2, 4)"
      ]
     },
     "execution_count": 185,
     "metadata": {},
     "output_type": "execute_result"
    }
   ],
   "source": [
    "expense_and_income(line)"
   ]
  },
  {
   "cell_type": "code",
   "execution_count": 186,
   "metadata": {
    "collapsed": true
   },
   "outputs": [],
   "source": [
    "def expense_and_income( line ):\n",
    "\n",
    "    \"\"\"\n",
    "\n",
    "    Функция для строки line возвращает итоговый расход и доход\n",
    "\n",
    "    \"\"\"\n",
    "\n",
    "    source = line[5]\n",
    "\n",
    "    amount_paid = float( line[-1].replace( ',', '.' ) )\n",
    "\n",
    "    cost = float( line[6].replace( ',', '.' ) )\n",
    "\n",
    "    partner_comission = costs_classification( amount_paid, source )\n",
    "\n",
    "    return source, cost + partner_comission, amount_paid"
   ]
  },
  {
   "cell_type": "code",
   "execution_count": 187,
   "metadata": {
    "collapsed": false
   },
   "outputs": [
    {
     "data": {
      "text/plain": [
       "('burgerclub', 7.06, 20.2)"
      ]
     },
     "execution_count": 187,
     "metadata": {},
     "output_type": "execute_result"
    }
   ],
   "source": [
    "expense_and_income( ['40443', '05.10.2016 23:18', '1010', '0,000925926', 'seo', 'burgerclub', '1', '6243', '20,20'] )"
   ]
  },
  {
   "cell_type": "code",
   "execution_count": 200,
   "metadata": {
    "collapsed": false
   },
   "outputs": [],
   "source": [
    "roi_stats = {}\n",
    "\n",
    "with open( 'data_no_header.txt', 'r' ) as f:\n",
    "\n",
    "    for line in f:\n",
    "\n",
    "        line = line.strip().split('\\t')\n",
    "\n",
    "        source, cost, income = expense_and_income( line )\n",
    "        medium = line[4]\n",
    "        \n",
    "        if source in ['google', 'yandex']:\n",
    "            if medium in ['seo', 'sem']:\n",
    "                sourceType = 'search engines seo'\n",
    "            elif medium == 'brand':\n",
    "                sourceType = 'search engines brand'\n",
    "            else:\n",
    "                sourceType = 'search engines undefined'\n",
    "        else:\n",
    "            sourceType = 'other'\n",
    "        \n",
    "        if sourceType in roi_stats:\n",
    "            roi_stats[ sourceType ][ 'cost' ] += cost\n",
    "            roi_stats[ sourceType ][ 'income' ] += income\n",
    "        else:\n",
    "            roi_stats[ sourceType ] = {}\n",
    "            roi_stats[ sourceType ][ 'cost' ] = cost\n",
    "            roi_stats[ sourceType ][ 'income' ] = income \n"
   ]
  },
  {
   "cell_type": "code",
   "execution_count": null,
   "metadata": {
    "collapsed": true
   },
   "outputs": [],
   "source": []
  },
  {
   "cell_type": "code",
   "execution_count": 202,
   "metadata": {
    "collapsed": false
   },
   "outputs": [
    {
     "name": "stdout",
     "output_type": "stream",
     "text": [
      "search engines seo\t3.23\n",
      "other\t2.68\n",
      "search engines brand\t3.51\n"
     ]
    },
    {
     "data": {
      "text/plain": [
       "{'search engines seo': {'cost': 686.2699999999992,\n",
       "  'income': 2902.4,\n",
       "  'roi': 3.2292392207148843},\n",
       " 'other': {'cost': 541.1059999999999,\n",
       "  'income': 1992.7999999999997,\n",
       "  'roi': 2.682827394262862},\n",
       " 'search engines brand': {'cost': 52.0,\n",
       "  'income': 234.60000000000005,\n",
       "  'roi': 3.5115384615384624}}"
      ]
     },
     "execution_count": 202,
     "metadata": {},
     "output_type": "execute_result"
    }
   ],
   "source": [
    "for source, data in roi_stats.items():\n",
    "\n",
    "    data['roi'] = ( data['income'] - data['cost'] ) / data['cost']\n",
    "\n",
    "#Итоговый результат:\n",
    "\n",
    "for source, data in roi_stats.items():\n",
    "\n",
    "    print( '{}\\t{:.2f}'.format( source, data['roi'] ) )\n",
    "    \n",
    "roi_stats"
   ]
  },
  {
   "cell_type": "code",
   "execution_count": 206,
   "metadata": {
    "collapsed": true
   },
   "outputs": [],
   "source": [
    "from datetime import datetime"
   ]
  },
  {
   "cell_type": "code",
   "execution_count": 211,
   "metadata": {
    "collapsed": true
   },
   "outputs": [],
   "source": [
    "from datetime import timedelta\n"
   ]
  },
  {
   "cell_type": "code",
   "execution_count": null,
   "metadata": {
    "collapsed": true
   },
   "outputs": [],
   "source": []
  },
  {
   "cell_type": "code",
   "execution_count": 213,
   "metadata": {
    "collapsed": false
   },
   "outputs": [],
   "source": [
    "dt = datetime.strptime('May 9 2017 9:00AM', '%b %d %Y %H:%M%p') +  timedelta(hours=1)\n"
   ]
  },
  {
   "cell_type": "code",
   "execution_count": 214,
   "metadata": {
    "collapsed": false
   },
   "outputs": [
    {
     "data": {
      "text/plain": [
       "'2017-05-09'"
      ]
     },
     "execution_count": 214,
     "metadata": {},
     "output_type": "execute_result"
    }
   ],
   "source": [
    "dt.strftime('%Y-%m-%d')"
   ]
  },
  {
   "cell_type": "code",
   "execution_count": 215,
   "metadata": {
    "collapsed": false
   },
   "outputs": [
    {
     "name": "stdout",
     "output_type": "stream",
     "text": [
      "2017-01-01 00:00:00\n",
      "2017-01-01 01:00:00\n",
      "2017-01-01 02:00:00\n",
      "2017-01-01 03:00:00\n",
      "2017-01-01 04:00:00\n",
      "2017-01-01 05:00:00\n",
      "2017-01-01 06:00:00\n",
      "2017-01-01 07:00:00\n",
      "2017-01-01 08:00:00\n",
      "2017-01-01 09:00:00\n",
      "2017-01-01 10:00:00\n",
      "2017-01-01 11:00:00\n",
      "2017-01-01 12:00:00\n",
      "2017-01-01 13:00:00\n",
      "2017-01-01 14:00:00\n",
      "2017-01-01 15:00:00\n",
      "2017-01-01 16:00:00\n",
      "2017-01-01 17:00:00\n",
      "2017-01-01 18:00:00\n",
      "2017-01-01 19:00:00\n",
      "2017-01-01 20:00:00\n",
      "2017-01-01 21:00:00\n",
      "2017-01-01 22:00:00\n",
      "2017-01-01 23:00:00\n",
      "2017-01-02 00:00:00\n",
      "2017-01-02 01:00:00\n",
      "2017-01-02 02:00:00\n",
      "2017-01-02 03:00:00\n",
      "2017-01-02 04:00:00\n",
      "2017-01-02 05:00:00\n",
      "2017-01-02 06:00:00\n",
      "2017-01-02 07:00:00\n",
      "2017-01-02 08:00:00\n",
      "2017-01-02 09:00:00\n",
      "2017-01-02 10:00:00\n",
      "2017-01-02 11:00:00\n",
      "2017-01-02 12:00:00\n",
      "2017-01-02 13:00:00\n",
      "2017-01-02 14:00:00\n",
      "2017-01-02 15:00:00\n",
      "2017-01-02 16:00:00\n",
      "2017-01-02 17:00:00\n",
      "2017-01-02 18:00:00\n",
      "2017-01-02 19:00:00\n",
      "2017-01-02 20:00:00\n",
      "2017-01-02 21:00:00\n",
      "2017-01-02 22:00:00\n",
      "2017-01-02 23:00:00\n",
      "2017-01-03 00:00:00\n"
     ]
    }
   ],
   "source": [
    "startDate = '2017-01-01'\n",
    "endDate = '2017-01-03'\n",
    "startDate_datetime = datetime.strptime( startDate, '%Y-%m-%d' )\n",
    "endDate_datetime = datetime.strptime( endDate, '%Y-%m-%d' )\n",
    "current_day = startDate_datetime\n",
    "\n",
    "while current_day <= endDate_datetime:\n",
    "\n",
    "    print( current_day.strftime( '%Y-%m-%d %H:%M:%S' ) )\n",
    "\n",
    "    current_day += timedelta( hours = 1 )"
   ]
  },
  {
   "cell_type": "code",
   "execution_count": 223,
   "metadata": {
    "collapsed": false
   },
   "outputs": [],
   "source": [
    "hourly_stats = {}\n",
    "\n",
    "total_amount = 0\n",
    "\n",
    "with open( 'data_no_header.txt', 'r' ) as f:\n",
    "\n",
    "    for line in f:\n",
    "\n",
    "        line = line.strip().split('\\t')\n",
    "\n",
    "        date_string = line[1]\n",
    "\n",
    "        date_datetime = datetime.strptime( date_string, '%d.%m.%Y %H:%M' )\n",
    "\n",
    "        hour = date_datetime.hour\n",
    "\n",
    "        if hour in hourly_stats:\n",
    "\n",
    "            hourly_stats[ hour ] += 1\n",
    "\n",
    "        else:\n",
    "\n",
    "            hourly_stats[ hour ] = 1\n",
    "\n",
    "        total_amount += 1"
   ]
  },
  {
   "cell_type": "code",
   "execution_count": 224,
   "metadata": {
    "collapsed": false
   },
   "outputs": [
    {
     "data": {
      "text/plain": [
       "{23: 0.05442176870748299,\n",
       " 21: 0.03741496598639456,\n",
       " 3: 0.027210884353741496,\n",
       " 4: 0.047619047619047616,\n",
       " 20: 0.027210884353741496,\n",
       " 0: 0.027210884353741496,\n",
       " 13: 0.04421768707482993,\n",
       " 17: 0.05102040816326531,\n",
       " 15: 0.030612244897959183,\n",
       " 2: 0.047619047619047616,\n",
       " 5: 0.04421768707482993,\n",
       " 6: 0.07142857142857142,\n",
       " 16: 0.06462585034013606,\n",
       " 9: 0.04421768707482993,\n",
       " 19: 0.04081632653061224,\n",
       " 11: 0.027210884353741496,\n",
       " 14: 0.03741496598639456,\n",
       " 1: 0.034013605442176874,\n",
       " 18: 0.04421768707482993,\n",
       " 8: 0.03741496598639456,\n",
       " 10: 0.047619047619047616,\n",
       " 12: 0.034013605442176874,\n",
       " 22: 0.047619047619047616,\n",
       " 7: 0.030612244897959183}"
      ]
     },
     "execution_count": 224,
     "metadata": {},
     "output_type": "execute_result"
    }
   ],
   "source": [
    "for hour, number_of_orders in hourly_stats.items():\n",
    "\n",
    "    hourly_stats[ hour ] = number_of_orders / total_amount\n",
    "\n",
    "hourly_stats"
   ]
  },
  {
   "cell_type": "code",
   "execution_count": 225,
   "metadata": {
    "collapsed": false
   },
   "outputs": [
    {
     "name": "stdout",
     "output_type": "stream",
     "text": [
      "5.44%\n",
      "3.74%\n",
      "2.72%\n",
      "4.76%\n",
      "2.72%\n",
      "2.72%\n",
      "4.42%\n",
      "5.10%\n",
      "3.06%\n",
      "4.76%\n",
      "4.42%\n",
      "7.14%\n",
      "6.46%\n",
      "4.42%\n",
      "4.08%\n",
      "2.72%\n",
      "3.74%\n",
      "3.40%\n",
      "4.42%\n",
      "3.74%\n",
      "4.76%\n",
      "3.40%\n",
      "4.76%\n",
      "3.06%\n"
     ]
    }
   ],
   "source": [
    "for share_of_orders in hourly_stats.values():\n",
    "\n",
    "    print( '{:.2%}'.format( share_of_orders ) )\n",
    "\n"
   ]
  },
  {
   "cell_type": "code",
   "execution_count": 226,
   "metadata": {
    "collapsed": false
   },
   "outputs": [
    {
     "name": "stdout",
     "output_type": "stream",
     "text": [
      "5.44%\n",
      "3.74%\n",
      "2.72%\n",
      "4.76%\n",
      "2.72%\n",
      "2.72%\n",
      "4.42%\n",
      "5.10%\n",
      "3.06%\n",
      "4.76%\n",
      "4.42%\n",
      "7.14%\n",
      "6.46%\n",
      "4.42%\n",
      "4.08%\n",
      "2.72%\n",
      "3.74%\n",
      "3.40%\n",
      "4.42%\n",
      "3.74%\n",
      "4.76%\n",
      "3.40%\n",
      "4.76%\n",
      "3.06%\n",
      "100.00%\n"
     ]
    }
   ],
   "source": [
    "total_share_of_orders = 0\n",
    "for share_of_orders in hourly_stats.values():\n",
    "    total_share_of_orders += share_of_orders\n",
    "    print( '{:.2%}'.format( share_of_orders ) )\n",
    "\n",
    "print('{:.2%}'.format( total_share_of_orders ))"
   ]
  },
  {
   "cell_type": "code",
   "execution_count": 227,
   "metadata": {
    "collapsed": false
   },
   "outputs": [
    {
     "name": "stdout",
     "output_type": "stream",
     "text": [
      "2016-10-05 23:18:00 1010 20.2\n",
      "2016-10-09 21:40:00 1036 15.6\n",
      "2016-10-05 03:23:00 1041 13.2\n",
      "2016-10-05 23:19:00 1041 9.8\n",
      "2016-10-01 04:57:00 1042 14.8\n",
      "2016-10-01 23:29:00 1042 14.4\n",
      "2016-10-03 20:20:00 1042 14.0\n",
      "2016-10-04 00:35:00 1042 20.0\n",
      "2016-10-04 13:46:00 1042 16.2\n",
      "2016-10-04 17:34:00 1042 11.0\n",
      "2016-10-05 15:15:00 1042 10.8\n",
      "2016-10-06 20:45:00 1042 22.6\n",
      "2016-10-07 02:54:00 1042 22.4\n",
      "2016-10-07 05:02:00 1042 24.4\n",
      "2016-10-07 06:35:00 1042 16.6\n",
      "2016-10-08 16:46:00 1042 8.6\n",
      "2016-10-01 13:39:00 1047 12.4\n",
      "2016-10-05 21:41:00 1047 16.2\n",
      "2016-10-07 09:59:00 1052 24.0\n",
      "2016-10-08 19:36:00 1052 18.8\n",
      "2016-10-04 11:12:00 1057 11.8\n",
      "2016-10-09 02:47:00 1057 9.4\n",
      "2016-10-09 16:27:00 1062 11.2\n",
      "2016-10-05 04:38:00 1067 19.0\n",
      "2016-10-04 09:56:00 1078 23.4\n",
      "2016-10-04 14:36:00 1085 17.0\n",
      "2016-10-05 16:41:00 1096 20.8\n",
      "2016-10-01 11:55:00 1098 15.6\n",
      "2016-10-01 14:16:00 1100 22.4\n",
      "2016-10-02 01:39:00 1100 15.6\n",
      "2016-10-02 02:49:00 1100 21.0\n",
      "2016-10-02 13:05:00 1100 22.4\n",
      "2016-10-03 04:04:00 1100 20.4\n",
      "2016-10-03 06:58:00 1100 26.0\n",
      "2016-10-03 15:01:00 1100 18.4\n",
      "2016-10-04 23:43:00 1100 14.6\n",
      "2016-10-05 05:46:00 1100 29.8\n",
      "2016-10-06 00:31:00 1100 20.0\n",
      "2016-10-06 09:25:00 1100 19.0\n",
      "2016-10-08 15:15:00 1100 16.4\n",
      "2016-10-07 09:06:00 1105 16.2\n",
      "2016-10-01 04:30:00 1108 17.8\n",
      "2016-10-01 18:16:00 1108 18.8\n",
      "2016-10-02 02:58:00 1108 20.0\n",
      "2016-10-02 06:01:00 1108 21.0\n",
      "2016-10-02 20:03:00 1108 16.6\n",
      "2016-10-04 02:56:00 1108 20.0\n",
      "2016-10-04 06:57:00 1108 19.8\n",
      "2016-10-06 06:46:00 1108 16.8\n",
      "2016-10-09 08:33:00 1108 24.0\n",
      "2016-10-08 08:02:00 1111 12.0\n",
      "2016-10-05 05:25:00 1112 10.2\n",
      "2016-10-09 00:03:00 1112 24.0\n",
      "2016-10-06 10:09:00 1113 15.8\n",
      "2016-10-09 12:09:00 1113 22.0\n",
      "2016-10-05 18:00:00 1114 17.4\n",
      "2016-10-06 17:58:00 1114 14.8\n",
      "2016-10-05 23:19:00 1116 20.0\n",
      "2016-10-01 23:13:00 1118 11.6\n",
      "2016-10-09 21:14:00 1118 20.0\n",
      "2016-10-05 16:30:00 1123 16.0\n",
      "2016-10-06 05:27:00 1123 11.2\n",
      "2016-10-01 17:46:00 1128 12.2\n",
      "2016-10-04 05:00:00 1134 19.2\n",
      "2016-10-06 12:01:00 1134 17.8\n",
      "2016-10-01 15:58:00 1135 19.8\n",
      "2016-10-02 03:19:00 1135 8.6\n",
      "2016-10-02 19:24:00 1135 28.6\n",
      "2016-10-04 10:40:00 1135 18.8\n",
      "2016-10-06 06:06:00 1135 17.6\n",
      "2016-10-06 16:08:00 1135 16.0\n",
      "2016-10-08 00:31:00 1135 15.4\n",
      "2016-10-08 10:16:00 1135 21.6\n",
      "2016-10-08 23:10:00 1135 7.6\n",
      "2016-10-01 22:28:00 1136 21.6\n",
      "2016-10-03 23:03:00 1136 17.4\n",
      "2016-10-03 08:06:00 1140 22.0\n",
      "2016-10-04 10:01:00 1140 22.0\n",
      "2016-10-01 16:53:00 1141 16.0\n",
      "2016-10-05 03:31:00 1145 16.0\n",
      "2016-10-06 04:00:00 1145 20.0\n",
      "2016-10-02 08:08:00 1149 10.0\n",
      "2016-10-07 16:12:00 1149 21.2\n",
      "2016-10-08 06:55:00 1149 30.4\n",
      "2016-10-08 22:55:00 1149 18.8\n",
      "2016-10-09 04:10:00 1149 14.0\n",
      "2016-10-09 10:26:00 1149 22.0\n",
      "2016-10-09 22:22:00 1149 16.0\n",
      "2016-10-07 06:57:00 1150 12.6\n",
      "2016-10-02 12:03:00 1154 13.4\n",
      "2016-10-04 22:51:00 1154 13.6\n",
      "2016-10-04 09:28:00 1159 10.2\n",
      "2016-10-04 13:34:00 1159 17.4\n",
      "2016-10-08 09:43:00 1164 22.4\n",
      "2016-10-07 14:57:00 1167 11.4\n",
      "2016-10-07 20:25:00 1175 14.0\n",
      "2016-10-06 12:48:00 1181 22.4\n",
      "2016-10-07 09:54:00 1182 18.0\n",
      "2016-10-10 02:35:00 1182 17.0\n",
      "2016-10-04 13:49:00 1193 24.8\n",
      "2016-10-09 20:49:00 1193 16.6\n",
      "2016-10-01 05:12:00 1198 17.8\n",
      "2016-10-06 07:52:00 1198 9.0\n",
      "2016-10-06 05:15:00 1201 10.6\n",
      "2016-10-05 13:55:00 1203 23.4\n",
      "2016-10-06 05:56:00 1203 21.0\n",
      "2016-10-01 16:10:00 1207 16.6\n",
      "2016-10-02 01:24:00 1207 24.2\n",
      "2016-10-02 21:17:00 1207 20.4\n",
      "2016-10-03 16:08:00 1207 25.6\n",
      "2016-10-04 17:29:00 1207 19.8\n",
      "2016-10-05 01:39:00 1207 16.4\n",
      "2016-10-05 06:33:00 1207 16.2\n",
      "2016-10-05 18:57:00 1207 17.0\n",
      "2016-10-05 20:51:00 1207 16.8\n",
      "2016-10-07 08:55:00 1207 19.8\n",
      "2016-10-07 17:40:00 1207 15.6\n",
      "2016-10-08 23:36:00 1207 19.2\n",
      "2016-10-09 10:25:00 1207 23.2\n",
      "2016-10-09 21:04:00 1207 10.8\n",
      "2016-10-04 07:38:00 1208 24.4\n",
      "2016-10-09 14:53:00 1208 13.4\n",
      "2016-10-05 17:15:00 1209 12.0\n",
      "2016-10-03 06:16:00 1213 18.6\n",
      "2016-10-06 10:04:00 1213 16.6\n",
      "2016-10-01 16:52:00 1218 12.2\n",
      "2016-10-09 19:10:00 1218 22.4\n",
      "2016-10-02 08:42:00 1219 15.4\n",
      "2016-10-03 19:32:00 1223 17.2\n",
      "2016-10-06 22:11:00 1223 17.6\n",
      "2016-10-08 15:18:00 1224 16.4\n",
      "2016-10-01 04:41:00 1226 18.6\n",
      "2016-10-03 09:32:00 1226 19.8\n",
      "2016-10-07 18:32:00 1228 18.8\n",
      "2016-10-08 13:21:00 1228 17.6\n",
      "2016-10-03 15:47:00 1230 20.6\n",
      "2016-10-01 09:02:00 1233 15.0\n",
      "2016-10-01 10:27:00 1233 22.0\n",
      "2016-10-02 22:01:00 1236 17.4\n",
      "2016-10-05 05:27:00 1238 13.6\n",
      "2016-10-09 14:43:00 1238 17.6\n",
      "2016-10-04 22:25:00 1242 18.4\n",
      "2016-10-06 04:54:00 1243 20.4\n",
      "2016-10-06 14:28:00 1243 20.0\n",
      "2016-10-01 04:27:00 1246 17.8\n",
      "2016-10-02 04:27:00 1246 16.0\n",
      "2016-10-02 08:45:00 1246 14.6\n",
      "2016-10-02 16:58:00 1246 17.2\n",
      "2016-10-02 17:30:00 1246 13.6\n",
      "2016-10-02 19:46:00 1246 23.6\n",
      "2016-10-03 02:05:00 1246 15.6\n",
      "2016-10-03 02:57:00 1246 21.4\n",
      "2016-10-03 07:19:00 1246 13.0\n",
      "2016-10-03 12:15:00 1246 18.6\n",
      "2016-10-03 14:58:00 1246 20.6\n",
      "2016-10-03 19:43:00 1246 11.4\n",
      "2016-10-04 07:27:00 1246 18.0\n",
      "2016-10-04 09:08:00 1246 12.0\n",
      "2016-10-04 13:52:00 1246 16.0\n",
      "2016-10-04 16:34:00 1246 12.2\n",
      "2016-10-05 00:27:00 1246 23.0\n",
      "2016-10-05 06:36:00 1246 24.0\n",
      "2016-10-05 12:59:00 1246 11.8\n",
      "2016-10-05 16:52:00 1246 17.2\n",
      "2016-10-05 17:26:00 1246 24.6\n",
      "2016-10-06 06:48:00 1246 30.4\n",
      "2016-10-08 02:53:00 1246 18.0\n",
      "2016-10-10 00:59:00 1246 15.0\n",
      "2016-10-01 16:30:00 1248 13.2\n",
      "2016-10-01 21:06:00 1248 28.8\n",
      "2016-10-02 07:12:00 1252 22.0\n",
      "2016-10-04 13:51:00 1252 15.6\n",
      "2016-10-01 12:36:00 1253 13.6\n",
      "2016-10-04 17:11:00 1253 8.6\n",
      "2016-10-02 16:22:00 1258 22.0\n",
      "2016-10-08 19:34:00 1258 20.0\n",
      "2016-10-02 10:36:00 1263 12.6\n",
      "2016-10-03 06:10:00 1263 18.0\n",
      "2016-10-02 21:42:00 1267 11.0\n",
      "2016-10-04 09:02:00 1267 12.2\n",
      "2016-10-04 12:10:00 1267 18.0\n",
      "2016-10-04 15:40:00 1267 12.4\n",
      "2016-10-04 18:37:00 1267 13.0\n",
      "2016-10-04 21:29:00 1267 21.4\n",
      "2016-10-05 21:11:00 1267 13.6\n",
      "2016-10-05 22:09:00 1267 17.4\n",
      "2016-10-06 03:58:00 1267 15.0\n",
      "2016-10-06 11:16:00 1267 14.4\n",
      "2016-10-06 19:20:00 1267 16.0\n",
      "2016-10-07 10:18:00 1267 12.0\n",
      "2016-10-08 18:18:00 1267 12.8\n",
      "2016-10-09 04:41:00 1267 21.4\n",
      "2016-10-09 09:13:00 1267 17.4\n",
      "2016-10-09 15:37:00 1267 21.6\n",
      "2016-10-09 18:56:00 1267 16.0\n",
      "2016-10-05 02:48:00 1268 16.4\n",
      "2016-10-07 19:36:00 1268 16.0\n",
      "2016-10-02 14:12:00 1269 22.0\n",
      "2016-10-07 03:29:00 1270 21.8\n",
      "2016-10-01 08:56:00 1273 14.6\n",
      "2016-10-08 13:49:00 1273 22.0\n",
      "2016-10-07 06:00:00 1274 25.0\n",
      "2016-10-04 13:47:00 1278 15.6\n",
      "2016-10-07 06:42:00 1278 17.8\n",
      "2016-10-08 03:24:00 1279 14.8\n",
      "2016-10-03 01:03:00 1281 18.2\n",
      "2016-10-02 06:11:00 1283 12.6\n",
      "2016-10-02 19:24:00 1283 11.8\n",
      "2016-10-07 13:37:00 1288 16.0\n",
      "2016-10-08 19:46:00 1288 30.4\n",
      "2016-10-07 02:41:00 1291 13.4\n",
      "2016-10-01 17:29:00 1293 18.4\n",
      "2016-10-02 20:12:00 1293 20.0\n",
      "2016-10-02 23:36:00 1294 17.0\n",
      "2016-10-07 10:32:00 1296 26.0\n",
      "2016-10-03 20:41:00 1298 21.0\n",
      "2016-10-03 22:35:00 1298 19.4\n",
      "2016-10-05 12:19:00 1298 16.0\n",
      "2016-10-02 11:43:00 1300 12.8\n",
      "2016-10-03 23:18:00 1300 14.0\n",
      "2016-10-03 18:28:00 1302 21.8\n",
      "2016-10-02 08:06:00 1303 11.8\n",
      "2016-10-06 06:23:00 1303 25.8\n",
      "2016-10-03 10:42:00 1308 18.0\n",
      "2016-10-06 18:52:00 1308 10.2\n",
      "2016-10-06 16:16:00 1313 12.0\n",
      "2016-10-08 18:12:00 1313 13.8\n",
      "2016-10-02 14:04:00 1315 16.6\n",
      "2016-10-03 14:10:00 1318 11.4\n",
      "2016-10-03 18:15:00 1318 13.4\n",
      "2016-10-03 18:27:00 1318 14.0\n",
      "2016-10-04 17:09:00 1318 16.6\n",
      "2016-10-05 11:07:00 1318 24.0\n",
      "2016-10-06 01:46:00 1318 10.2\n",
      "2016-10-06 22:29:00 1318 18.6\n",
      "2016-10-07 00:44:00 1318 21.6\n",
      "2016-10-07 10:17:00 1318 20.2\n",
      "2016-10-07 11:29:00 1318 18.0\n",
      "2016-10-08 23:18:00 1318 17.4\n",
      "2016-10-09 01:37:00 1318 22.0\n",
      "2016-10-09 07:48:00 1318 17.4\n",
      "2016-10-09 22:27:00 1318 19.0\n",
      "2016-10-06 17:08:00 1320 18.0\n",
      "2016-10-09 02:35:00 1323 16.0\n",
      "2016-10-09 10:08:00 1323 28.6\n",
      "2016-10-05 07:29:00 1328 18.4\n",
      "2016-10-05 11:58:00 1328 18.8\n",
      "2016-10-03 00:36:00 1330 17.8\n",
      "2016-10-09 02:08:00 1331 16.8\n",
      "2016-10-03 02:19:00 1332 19.4\n",
      "2016-10-04 22:01:00 1333 20.0\n",
      "2016-10-08 03:48:00 1334 16.0\n",
      "2016-10-03 01:32:00 1343 22.0\n",
      "2016-10-08 04:34:00 1350 12.8\n",
      "2016-10-04 04:09:00 1351 20.0\n",
      "2016-10-06 19:09:00 1353 17.4\n",
      "2016-10-03 01:30:00 1354 15.6\n",
      "2016-10-02 23:30:00 1355 22.0\n",
      "2016-10-08 06:50:00 1359 14.4\n",
      "2016-10-02 13:33:00 1362 12.2\n",
      "2016-10-05 21:36:00 1363 12.2\n",
      "2016-10-04 22:06:00 1364 20.0\n",
      "2016-10-01 05:29:00 1366 13.0\n",
      "2016-10-07 09:40:00 1367 22.4\n",
      "2016-10-04 07:31:00 1371 13.6\n",
      "2016-10-04 01:36:00 1372 30.4\n",
      "2016-10-07 17:25:00 1374 12.4\n",
      "2016-10-05 23:06:00 1377 16.0\n",
      "2016-10-06 14:29:00 1380 30.4\n",
      "2016-10-09 04:55:00 1382 23.2\n",
      "2016-10-05 21:24:00 1383 20.0\n",
      "2016-10-05 08:14:00 1386 12.6\n",
      "2016-10-03 11:43:00 1387 14.6\n",
      "2016-10-01 06:21:00 1388 11.8\n",
      "2016-10-03 06:03:00 1392 20.2\n",
      "2016-10-06 05:34:00 1393 10.0\n",
      "2016-10-04 23:55:00 1394 12.8\n",
      "2016-10-05 05:01:00 1397 20.6\n",
      "2016-10-05 22:54:00 1398 18.0\n",
      "2016-10-01 17:01:00 1424 13.8\n",
      "2016-10-03 06:50:00 1424 12.8\n",
      "2016-10-04 05:27:00 1424 17.2\n",
      "2016-10-04 16:14:00 1424 16.0\n",
      "2016-10-04 18:21:00 1424 14.2\n",
      "2016-10-05 23:33:00 1424 19.6\n",
      "2016-10-06 07:27:00 1424 22.4\n",
      "2016-10-07 03:01:00 1424 14.8\n",
      "2016-10-07 16:08:00 1424 13.0\n",
      "2016-10-07 16:12:00 1424 13.6\n",
      "2016-10-08 12:41:00 1424 12.6\n",
      "2016-10-08 15:26:00 1424 19.2\n",
      "2016-10-08 17:21:00 1424 20.2\n",
      "2016-10-09 08:00:00 1424 16.0\n",
      "2016-10-10 01:24:00 1424 11.6\n"
     ]
    }
   ],
   "source": [
    "from datetime import datetime, date\n",
    "\n",
    "with open( 'data_no_header.txt', 'r' ) as f:\n",
    "\n",
    "    for line in f:\n",
    "\n",
    "        line = line.strip().split('\\t')\n",
    "\n",
    "        # дата покупки, по максимальному и минимальному значению которой будем считать LT\n",
    "\n",
    "        dateTime = datetime.strptime( line[1], '%d.%m.%Y %H:%M' )\n",
    "\n",
    "        # ID пользователя\n",
    "\n",
    "        user_id = line[2]\n",
    "\n",
    "        # сумма покупки\n",
    "\n",
    "        amount_paid = float( line[8].replace(',', '.') )\n",
    "\n",
    "        print( dateTime, user_id, amount_paid )"
   ]
  },
  {
   "cell_type": "code",
   "execution_count": 228,
   "metadata": {
    "collapsed": false
   },
   "outputs": [
    {
     "name": "stdout",
     "output_type": "stream",
     "text": [
      "2016-10-05 23:18:00 1010 20.2\n",
      "2016-10-09 21:40:00 1036 15.6 Смена!\n",
      "2016-10-05 03:23:00 1041 13.2 Смена!\n",
      "2016-10-05 23:19:00 1041 9.8\n",
      "2016-10-01 04:57:00 1042 14.8 Смена!\n",
      "2016-10-01 23:29:00 1042 14.4\n",
      "2016-10-03 20:20:00 1042 14.0\n",
      "2016-10-04 00:35:00 1042 20.0\n",
      "2016-10-04 13:46:00 1042 16.2\n",
      "2016-10-04 17:34:00 1042 11.0\n",
      "2016-10-05 15:15:00 1042 10.8\n",
      "2016-10-06 20:45:00 1042 22.6\n",
      "2016-10-07 02:54:00 1042 22.4\n",
      "2016-10-07 05:02:00 1042 24.4\n",
      "2016-10-07 06:35:00 1042 16.6\n",
      "2016-10-08 16:46:00 1042 8.6\n",
      "2016-10-01 13:39:00 1047 12.4 Смена!\n",
      "2016-10-05 21:41:00 1047 16.2\n",
      "2016-10-07 09:59:00 1052 24.0 Смена!\n",
      "2016-10-08 19:36:00 1052 18.8\n",
      "2016-10-04 11:12:00 1057 11.8 Смена!\n",
      "2016-10-09 02:47:00 1057 9.4\n",
      "2016-10-09 16:27:00 1062 11.2 Смена!\n",
      "2016-10-05 04:38:00 1067 19.0 Смена!\n",
      "2016-10-04 09:56:00 1078 23.4 Смена!\n",
      "2016-10-04 14:36:00 1085 17.0 Смена!\n",
      "2016-10-05 16:41:00 1096 20.8 Смена!\n",
      "2016-10-01 11:55:00 1098 15.6 Смена!\n",
      "2016-10-01 14:16:00 1100 22.4 Смена!\n",
      "2016-10-02 01:39:00 1100 15.6\n",
      "2016-10-02 02:49:00 1100 21.0\n",
      "2016-10-02 13:05:00 1100 22.4\n",
      "2016-10-03 04:04:00 1100 20.4\n",
      "2016-10-03 06:58:00 1100 26.0\n",
      "2016-10-03 15:01:00 1100 18.4\n",
      "2016-10-04 23:43:00 1100 14.6\n",
      "2016-10-05 05:46:00 1100 29.8\n",
      "2016-10-06 00:31:00 1100 20.0\n",
      "2016-10-06 09:25:00 1100 19.0\n",
      "2016-10-08 15:15:00 1100 16.4\n",
      "2016-10-07 09:06:00 1105 16.2 Смена!\n",
      "2016-10-01 04:30:00 1108 17.8 Смена!\n",
      "2016-10-01 18:16:00 1108 18.8\n",
      "2016-10-02 02:58:00 1108 20.0\n",
      "2016-10-02 06:01:00 1108 21.0\n",
      "2016-10-02 20:03:00 1108 16.6\n",
      "2016-10-04 02:56:00 1108 20.0\n",
      "2016-10-04 06:57:00 1108 19.8\n",
      "2016-10-06 06:46:00 1108 16.8\n",
      "2016-10-09 08:33:00 1108 24.0\n",
      "2016-10-08 08:02:00 1111 12.0 Смена!\n",
      "2016-10-05 05:25:00 1112 10.2 Смена!\n",
      "2016-10-09 00:03:00 1112 24.0\n",
      "2016-10-06 10:09:00 1113 15.8 Смена!\n",
      "2016-10-09 12:09:00 1113 22.0\n",
      "2016-10-05 18:00:00 1114 17.4 Смена!\n",
      "2016-10-06 17:58:00 1114 14.8\n",
      "2016-10-05 23:19:00 1116 20.0 Смена!\n",
      "2016-10-01 23:13:00 1118 11.6 Смена!\n",
      "2016-10-09 21:14:00 1118 20.0\n",
      "2016-10-05 16:30:00 1123 16.0 Смена!\n",
      "2016-10-06 05:27:00 1123 11.2\n",
      "2016-10-01 17:46:00 1128 12.2 Смена!\n",
      "2016-10-04 05:00:00 1134 19.2 Смена!\n",
      "2016-10-06 12:01:00 1134 17.8\n",
      "2016-10-01 15:58:00 1135 19.8 Смена!\n",
      "2016-10-02 03:19:00 1135 8.6\n",
      "2016-10-02 19:24:00 1135 28.6\n",
      "2016-10-04 10:40:00 1135 18.8\n",
      "2016-10-06 06:06:00 1135 17.6\n",
      "2016-10-06 16:08:00 1135 16.0\n",
      "2016-10-08 00:31:00 1135 15.4\n",
      "2016-10-08 10:16:00 1135 21.6\n",
      "2016-10-08 23:10:00 1135 7.6\n",
      "2016-10-01 22:28:00 1136 21.6 Смена!\n",
      "2016-10-03 23:03:00 1136 17.4\n",
      "2016-10-03 08:06:00 1140 22.0 Смена!\n",
      "2016-10-04 10:01:00 1140 22.0\n",
      "2016-10-01 16:53:00 1141 16.0 Смена!\n",
      "2016-10-05 03:31:00 1145 16.0 Смена!\n",
      "2016-10-06 04:00:00 1145 20.0\n",
      "2016-10-02 08:08:00 1149 10.0 Смена!\n",
      "2016-10-07 16:12:00 1149 21.2\n",
      "2016-10-08 06:55:00 1149 30.4\n",
      "2016-10-08 22:55:00 1149 18.8\n",
      "2016-10-09 04:10:00 1149 14.0\n",
      "2016-10-09 10:26:00 1149 22.0\n",
      "2016-10-09 22:22:00 1149 16.0\n",
      "2016-10-07 06:57:00 1150 12.6 Смена!\n",
      "2016-10-02 12:03:00 1154 13.4 Смена!\n",
      "2016-10-04 22:51:00 1154 13.6\n",
      "2016-10-04 09:28:00 1159 10.2 Смена!\n",
      "2016-10-04 13:34:00 1159 17.4\n",
      "2016-10-08 09:43:00 1164 22.4 Смена!\n",
      "2016-10-07 14:57:00 1167 11.4 Смена!\n",
      "2016-10-07 20:25:00 1175 14.0 Смена!\n",
      "2016-10-06 12:48:00 1181 22.4 Смена!\n",
      "2016-10-07 09:54:00 1182 18.0 Смена!\n",
      "2016-10-10 02:35:00 1182 17.0\n",
      "2016-10-04 13:49:00 1193 24.8 Смена!\n",
      "2016-10-09 20:49:00 1193 16.6\n",
      "2016-10-01 05:12:00 1198 17.8 Смена!\n",
      "2016-10-06 07:52:00 1198 9.0\n",
      "2016-10-06 05:15:00 1201 10.6 Смена!\n",
      "2016-10-05 13:55:00 1203 23.4 Смена!\n",
      "2016-10-06 05:56:00 1203 21.0\n",
      "2016-10-01 16:10:00 1207 16.6 Смена!\n",
      "2016-10-02 01:24:00 1207 24.2\n",
      "2016-10-02 21:17:00 1207 20.4\n",
      "2016-10-03 16:08:00 1207 25.6\n",
      "2016-10-04 17:29:00 1207 19.8\n",
      "2016-10-05 01:39:00 1207 16.4\n",
      "2016-10-05 06:33:00 1207 16.2\n",
      "2016-10-05 18:57:00 1207 17.0\n",
      "2016-10-05 20:51:00 1207 16.8\n",
      "2016-10-07 08:55:00 1207 19.8\n",
      "2016-10-07 17:40:00 1207 15.6\n",
      "2016-10-08 23:36:00 1207 19.2\n",
      "2016-10-09 10:25:00 1207 23.2\n",
      "2016-10-09 21:04:00 1207 10.8\n",
      "2016-10-04 07:38:00 1208 24.4 Смена!\n",
      "2016-10-09 14:53:00 1208 13.4\n",
      "2016-10-05 17:15:00 1209 12.0 Смена!\n",
      "2016-10-03 06:16:00 1213 18.6 Смена!\n",
      "2016-10-06 10:04:00 1213 16.6\n",
      "2016-10-01 16:52:00 1218 12.2 Смена!\n",
      "2016-10-09 19:10:00 1218 22.4\n",
      "2016-10-02 08:42:00 1219 15.4 Смена!\n",
      "2016-10-03 19:32:00 1223 17.2 Смена!\n",
      "2016-10-06 22:11:00 1223 17.6\n",
      "2016-10-08 15:18:00 1224 16.4 Смена!\n",
      "2016-10-01 04:41:00 1226 18.6 Смена!\n",
      "2016-10-03 09:32:00 1226 19.8\n",
      "2016-10-07 18:32:00 1228 18.8 Смена!\n",
      "2016-10-08 13:21:00 1228 17.6\n",
      "2016-10-03 15:47:00 1230 20.6 Смена!\n",
      "2016-10-01 09:02:00 1233 15.0 Смена!\n",
      "2016-10-01 10:27:00 1233 22.0\n",
      "2016-10-02 22:01:00 1236 17.4 Смена!\n",
      "2016-10-05 05:27:00 1238 13.6 Смена!\n",
      "2016-10-09 14:43:00 1238 17.6\n",
      "2016-10-04 22:25:00 1242 18.4 Смена!\n",
      "2016-10-06 04:54:00 1243 20.4 Смена!\n",
      "2016-10-06 14:28:00 1243 20.0\n",
      "2016-10-01 04:27:00 1246 17.8 Смена!\n",
      "2016-10-02 04:27:00 1246 16.0\n",
      "2016-10-02 08:45:00 1246 14.6\n",
      "2016-10-02 16:58:00 1246 17.2\n",
      "2016-10-02 17:30:00 1246 13.6\n",
      "2016-10-02 19:46:00 1246 23.6\n",
      "2016-10-03 02:05:00 1246 15.6\n",
      "2016-10-03 02:57:00 1246 21.4\n",
      "2016-10-03 07:19:00 1246 13.0\n",
      "2016-10-03 12:15:00 1246 18.6\n",
      "2016-10-03 14:58:00 1246 20.6\n",
      "2016-10-03 19:43:00 1246 11.4\n",
      "2016-10-04 07:27:00 1246 18.0\n",
      "2016-10-04 09:08:00 1246 12.0\n",
      "2016-10-04 13:52:00 1246 16.0\n",
      "2016-10-04 16:34:00 1246 12.2\n",
      "2016-10-05 00:27:00 1246 23.0\n",
      "2016-10-05 06:36:00 1246 24.0\n",
      "2016-10-05 12:59:00 1246 11.8\n",
      "2016-10-05 16:52:00 1246 17.2\n",
      "2016-10-05 17:26:00 1246 24.6\n",
      "2016-10-06 06:48:00 1246 30.4\n",
      "2016-10-08 02:53:00 1246 18.0\n",
      "2016-10-10 00:59:00 1246 15.0\n",
      "2016-10-01 16:30:00 1248 13.2 Смена!\n",
      "2016-10-01 21:06:00 1248 28.8\n",
      "2016-10-02 07:12:00 1252 22.0 Смена!\n",
      "2016-10-04 13:51:00 1252 15.6\n",
      "2016-10-01 12:36:00 1253 13.6 Смена!\n",
      "2016-10-04 17:11:00 1253 8.6\n",
      "2016-10-02 16:22:00 1258 22.0 Смена!\n",
      "2016-10-08 19:34:00 1258 20.0\n",
      "2016-10-02 10:36:00 1263 12.6 Смена!\n",
      "2016-10-03 06:10:00 1263 18.0\n",
      "2016-10-02 21:42:00 1267 11.0 Смена!\n",
      "2016-10-04 09:02:00 1267 12.2\n",
      "2016-10-04 12:10:00 1267 18.0\n",
      "2016-10-04 15:40:00 1267 12.4\n",
      "2016-10-04 18:37:00 1267 13.0\n",
      "2016-10-04 21:29:00 1267 21.4\n",
      "2016-10-05 21:11:00 1267 13.6\n",
      "2016-10-05 22:09:00 1267 17.4\n",
      "2016-10-06 03:58:00 1267 15.0\n",
      "2016-10-06 11:16:00 1267 14.4\n",
      "2016-10-06 19:20:00 1267 16.0\n",
      "2016-10-07 10:18:00 1267 12.0\n",
      "2016-10-08 18:18:00 1267 12.8\n",
      "2016-10-09 04:41:00 1267 21.4\n",
      "2016-10-09 09:13:00 1267 17.4\n",
      "2016-10-09 15:37:00 1267 21.6\n",
      "2016-10-09 18:56:00 1267 16.0\n",
      "2016-10-05 02:48:00 1268 16.4 Смена!\n",
      "2016-10-07 19:36:00 1268 16.0\n",
      "2016-10-02 14:12:00 1269 22.0 Смена!\n",
      "2016-10-07 03:29:00 1270 21.8 Смена!\n",
      "2016-10-01 08:56:00 1273 14.6 Смена!\n",
      "2016-10-08 13:49:00 1273 22.0\n",
      "2016-10-07 06:00:00 1274 25.0 Смена!\n",
      "2016-10-04 13:47:00 1278 15.6 Смена!\n",
      "2016-10-07 06:42:00 1278 17.8\n",
      "2016-10-08 03:24:00 1279 14.8 Смена!\n",
      "2016-10-03 01:03:00 1281 18.2 Смена!\n",
      "2016-10-02 06:11:00 1283 12.6 Смена!\n",
      "2016-10-02 19:24:00 1283 11.8\n",
      "2016-10-07 13:37:00 1288 16.0 Смена!\n",
      "2016-10-08 19:46:00 1288 30.4\n",
      "2016-10-07 02:41:00 1291 13.4 Смена!\n",
      "2016-10-01 17:29:00 1293 18.4 Смена!\n",
      "2016-10-02 20:12:00 1293 20.0\n",
      "2016-10-02 23:36:00 1294 17.0 Смена!\n",
      "2016-10-07 10:32:00 1296 26.0 Смена!\n",
      "2016-10-03 20:41:00 1298 21.0 Смена!\n",
      "2016-10-03 22:35:00 1298 19.4\n",
      "2016-10-05 12:19:00 1298 16.0\n",
      "2016-10-02 11:43:00 1300 12.8 Смена!\n",
      "2016-10-03 23:18:00 1300 14.0\n",
      "2016-10-03 18:28:00 1302 21.8 Смена!\n",
      "2016-10-02 08:06:00 1303 11.8 Смена!\n",
      "2016-10-06 06:23:00 1303 25.8\n",
      "2016-10-03 10:42:00 1308 18.0 Смена!\n",
      "2016-10-06 18:52:00 1308 10.2\n",
      "2016-10-06 16:16:00 1313 12.0 Смена!\n",
      "2016-10-08 18:12:00 1313 13.8\n",
      "2016-10-02 14:04:00 1315 16.6 Смена!\n",
      "2016-10-03 14:10:00 1318 11.4 Смена!\n",
      "2016-10-03 18:15:00 1318 13.4\n",
      "2016-10-03 18:27:00 1318 14.0\n",
      "2016-10-04 17:09:00 1318 16.6\n",
      "2016-10-05 11:07:00 1318 24.0\n",
      "2016-10-06 01:46:00 1318 10.2\n",
      "2016-10-06 22:29:00 1318 18.6\n",
      "2016-10-07 00:44:00 1318 21.6\n",
      "2016-10-07 10:17:00 1318 20.2\n",
      "2016-10-07 11:29:00 1318 18.0\n",
      "2016-10-08 23:18:00 1318 17.4\n",
      "2016-10-09 01:37:00 1318 22.0\n",
      "2016-10-09 07:48:00 1318 17.4\n",
      "2016-10-09 22:27:00 1318 19.0\n",
      "2016-10-06 17:08:00 1320 18.0 Смена!\n",
      "2016-10-09 02:35:00 1323 16.0 Смена!\n",
      "2016-10-09 10:08:00 1323 28.6\n",
      "2016-10-05 07:29:00 1328 18.4 Смена!\n",
      "2016-10-05 11:58:00 1328 18.8\n",
      "2016-10-03 00:36:00 1330 17.8 Смена!\n",
      "2016-10-09 02:08:00 1331 16.8 Смена!\n",
      "2016-10-03 02:19:00 1332 19.4 Смена!\n",
      "2016-10-04 22:01:00 1333 20.0 Смена!\n",
      "2016-10-08 03:48:00 1334 16.0 Смена!\n",
      "2016-10-03 01:32:00 1343 22.0 Смена!\n",
      "2016-10-08 04:34:00 1350 12.8 Смена!\n",
      "2016-10-04 04:09:00 1351 20.0 Смена!\n",
      "2016-10-06 19:09:00 1353 17.4 Смена!\n",
      "2016-10-03 01:30:00 1354 15.6 Смена!\n",
      "2016-10-02 23:30:00 1355 22.0 Смена!\n",
      "2016-10-08 06:50:00 1359 14.4 Смена!\n",
      "2016-10-02 13:33:00 1362 12.2 Смена!\n",
      "2016-10-05 21:36:00 1363 12.2 Смена!\n",
      "2016-10-04 22:06:00 1364 20.0 Смена!\n",
      "2016-10-01 05:29:00 1366 13.0 Смена!\n",
      "2016-10-07 09:40:00 1367 22.4 Смена!\n",
      "2016-10-04 07:31:00 1371 13.6 Смена!\n",
      "2016-10-04 01:36:00 1372 30.4 Смена!\n",
      "2016-10-07 17:25:00 1374 12.4 Смена!\n",
      "2016-10-05 23:06:00 1377 16.0 Смена!\n",
      "2016-10-06 14:29:00 1380 30.4 Смена!\n",
      "2016-10-09 04:55:00 1382 23.2 Смена!\n",
      "2016-10-05 21:24:00 1383 20.0 Смена!\n",
      "2016-10-05 08:14:00 1386 12.6 Смена!\n",
      "2016-10-03 11:43:00 1387 14.6 Смена!\n",
      "2016-10-01 06:21:00 1388 11.8 Смена!\n",
      "2016-10-03 06:03:00 1392 20.2 Смена!\n",
      "2016-10-06 05:34:00 1393 10.0 Смена!\n",
      "2016-10-04 23:55:00 1394 12.8 Смена!\n",
      "2016-10-05 05:01:00 1397 20.6 Смена!\n",
      "2016-10-05 22:54:00 1398 18.0 Смена!\n",
      "2016-10-01 17:01:00 1424 13.8 Смена!\n",
      "2016-10-03 06:50:00 1424 12.8\n",
      "2016-10-04 05:27:00 1424 17.2\n",
      "2016-10-04 16:14:00 1424 16.0\n",
      "2016-10-04 18:21:00 1424 14.2\n",
      "2016-10-05 23:33:00 1424 19.6\n",
      "2016-10-06 07:27:00 1424 22.4\n",
      "2016-10-07 03:01:00 1424 14.8\n",
      "2016-10-07 16:08:00 1424 13.0\n",
      "2016-10-07 16:12:00 1424 13.6\n",
      "2016-10-08 12:41:00 1424 12.6\n",
      "2016-10-08 15:26:00 1424 19.2\n",
      "2016-10-08 17:21:00 1424 20.2\n",
      "2016-10-09 08:00:00 1424 16.0\n",
      "2016-10-10 01:24:00 1424 11.6\n"
     ]
    }
   ],
   "source": [
    "Started = True \n",
    "\n",
    "with open( 'data_no_header.txt', 'r' ) as f:\n",
    "\n",
    "    for line in f:\n",
    "\n",
    "        \n",
    "\n",
    "        line = line.strip().split('\\t')\n",
    "\n",
    "        \n",
    "\n",
    "        # дата транзакции, по максимальному и минимальному значению которой будем считать LT\n",
    "\n",
    "        dateTime = datetime.strptime( line[1], '%d.%m.%Y %H:%M' )\n",
    "\n",
    "        \n",
    "\n",
    "        # ID пользователя\n",
    "\n",
    "        user_id = line[2]\n",
    "\n",
    "        \n",
    "\n",
    "        # сумма покупки\n",
    "\n",
    "        amount_paid = float( line[8].replace(',', '.') )\n",
    "\n",
    "        \n",
    "\n",
    "        if Started:\n",
    "\n",
    "            previous_user_id = user_id\n",
    "\n",
    "            print( dateTime, user_id, amount_paid )\n",
    "\n",
    "            Started = False\n",
    "\n",
    "        \n",
    "\n",
    "        else:\n",
    "\n",
    "            # если значение user_id не изменилось по сравнению с прошлой строкой\n",
    "\n",
    "            if user_id == previous_user_id:\n",
    "\n",
    "                print( dateTime, user_id, amount_paid )\n",
    "\n",
    "             \n",
    "            else:\n",
    "\n",
    "                print(dateTime, user_id, amount_paid, 'Смена!')\n",
    "\n",
    "                previous_user_id = user_id"
   ]
  },
  {
   "cell_type": "code",
   "execution_count": 229,
   "metadata": {
    "collapsed": false
   },
   "outputs": [
    {
     "name": "stdout",
     "output_type": "stream",
     "text": [
      "1010 [[datetime.datetime(2016, 10, 5, 23, 18), 20.2]]\n",
      "1036 [[datetime.datetime(2016, 10, 9, 21, 40), 15.6]]\n",
      "1041 [[datetime.datetime(2016, 10, 5, 3, 23), 13.2], [datetime.datetime(2016, 10, 5, 23, 19), 9.8]]\n",
      "1042 [[datetime.datetime(2016, 10, 1, 4, 57), 14.8], [datetime.datetime(2016, 10, 1, 23, 29), 14.4], [datetime.datetime(2016, 10, 3, 20, 20), 14.0], [datetime.datetime(2016, 10, 4, 0, 35), 20.0], [datetime.datetime(2016, 10, 4, 13, 46), 16.2], [datetime.datetime(2016, 10, 4, 17, 34), 11.0], [datetime.datetime(2016, 10, 5, 15, 15), 10.8], [datetime.datetime(2016, 10, 6, 20, 45), 22.6], [datetime.datetime(2016, 10, 7, 2, 54), 22.4], [datetime.datetime(2016, 10, 7, 5, 2), 24.4], [datetime.datetime(2016, 10, 7, 6, 35), 16.6], [datetime.datetime(2016, 10, 8, 16, 46), 8.6]]\n",
      "1047 [[datetime.datetime(2016, 10, 1, 13, 39), 12.4], [datetime.datetime(2016, 10, 5, 21, 41), 16.2]]\n",
      "1052 [[datetime.datetime(2016, 10, 7, 9, 59), 24.0], [datetime.datetime(2016, 10, 8, 19, 36), 18.8]]\n",
      "1057 [[datetime.datetime(2016, 10, 4, 11, 12), 11.8], [datetime.datetime(2016, 10, 9, 2, 47), 9.4]]\n",
      "1062 [[datetime.datetime(2016, 10, 9, 16, 27), 11.2]]\n",
      "1067 [[datetime.datetime(2016, 10, 5, 4, 38), 19.0]]\n",
      "1078 [[datetime.datetime(2016, 10, 4, 9, 56), 23.4]]\n",
      "1085 [[datetime.datetime(2016, 10, 4, 14, 36), 17.0]]\n",
      "1096 [[datetime.datetime(2016, 10, 5, 16, 41), 20.8]]\n",
      "1098 [[datetime.datetime(2016, 10, 1, 11, 55), 15.6]]\n",
      "1100 [[datetime.datetime(2016, 10, 1, 14, 16), 22.4], [datetime.datetime(2016, 10, 2, 1, 39), 15.6], [datetime.datetime(2016, 10, 2, 2, 49), 21.0], [datetime.datetime(2016, 10, 2, 13, 5), 22.4], [datetime.datetime(2016, 10, 3, 4, 4), 20.4], [datetime.datetime(2016, 10, 3, 6, 58), 26.0], [datetime.datetime(2016, 10, 3, 15, 1), 18.4], [datetime.datetime(2016, 10, 4, 23, 43), 14.6], [datetime.datetime(2016, 10, 5, 5, 46), 29.8], [datetime.datetime(2016, 10, 6, 0, 31), 20.0], [datetime.datetime(2016, 10, 6, 9, 25), 19.0], [datetime.datetime(2016, 10, 8, 15, 15), 16.4]]\n",
      "1105 [[datetime.datetime(2016, 10, 7, 9, 6), 16.2]]\n",
      "1108 [[datetime.datetime(2016, 10, 1, 4, 30), 17.8], [datetime.datetime(2016, 10, 1, 18, 16), 18.8], [datetime.datetime(2016, 10, 2, 2, 58), 20.0], [datetime.datetime(2016, 10, 2, 6, 1), 21.0], [datetime.datetime(2016, 10, 2, 20, 3), 16.6], [datetime.datetime(2016, 10, 4, 2, 56), 20.0], [datetime.datetime(2016, 10, 4, 6, 57), 19.8], [datetime.datetime(2016, 10, 6, 6, 46), 16.8], [datetime.datetime(2016, 10, 9, 8, 33), 24.0]]\n",
      "1111 [[datetime.datetime(2016, 10, 8, 8, 2), 12.0]]\n",
      "1112 [[datetime.datetime(2016, 10, 5, 5, 25), 10.2], [datetime.datetime(2016, 10, 9, 0, 3), 24.0]]\n",
      "1113 [[datetime.datetime(2016, 10, 6, 10, 9), 15.8], [datetime.datetime(2016, 10, 9, 12, 9), 22.0]]\n",
      "1114 [[datetime.datetime(2016, 10, 5, 18, 0), 17.4], [datetime.datetime(2016, 10, 6, 17, 58), 14.8]]\n",
      "1116 [[datetime.datetime(2016, 10, 5, 23, 19), 20.0]]\n",
      "1118 [[datetime.datetime(2016, 10, 1, 23, 13), 11.6], [datetime.datetime(2016, 10, 9, 21, 14), 20.0]]\n",
      "1123 [[datetime.datetime(2016, 10, 5, 16, 30), 16.0], [datetime.datetime(2016, 10, 6, 5, 27), 11.2]]\n",
      "1128 [[datetime.datetime(2016, 10, 1, 17, 46), 12.2]]\n",
      "1134 [[datetime.datetime(2016, 10, 4, 5, 0), 19.2], [datetime.datetime(2016, 10, 6, 12, 1), 17.8]]\n",
      "1135 [[datetime.datetime(2016, 10, 1, 15, 58), 19.8], [datetime.datetime(2016, 10, 2, 3, 19), 8.6], [datetime.datetime(2016, 10, 2, 19, 24), 28.6], [datetime.datetime(2016, 10, 4, 10, 40), 18.8], [datetime.datetime(2016, 10, 6, 6, 6), 17.6], [datetime.datetime(2016, 10, 6, 16, 8), 16.0], [datetime.datetime(2016, 10, 8, 0, 31), 15.4], [datetime.datetime(2016, 10, 8, 10, 16), 21.6], [datetime.datetime(2016, 10, 8, 23, 10), 7.6]]\n",
      "1136 [[datetime.datetime(2016, 10, 1, 22, 28), 21.6], [datetime.datetime(2016, 10, 3, 23, 3), 17.4]]\n",
      "1140 [[datetime.datetime(2016, 10, 3, 8, 6), 22.0], [datetime.datetime(2016, 10, 4, 10, 1), 22.0]]\n",
      "1141 [[datetime.datetime(2016, 10, 1, 16, 53), 16.0]]\n",
      "1145 [[datetime.datetime(2016, 10, 5, 3, 31), 16.0], [datetime.datetime(2016, 10, 6, 4, 0), 20.0]]\n",
      "1149 [[datetime.datetime(2016, 10, 2, 8, 8), 10.0], [datetime.datetime(2016, 10, 7, 16, 12), 21.2], [datetime.datetime(2016, 10, 8, 6, 55), 30.4], [datetime.datetime(2016, 10, 8, 22, 55), 18.8], [datetime.datetime(2016, 10, 9, 4, 10), 14.0], [datetime.datetime(2016, 10, 9, 10, 26), 22.0], [datetime.datetime(2016, 10, 9, 22, 22), 16.0]]\n",
      "1150 [[datetime.datetime(2016, 10, 7, 6, 57), 12.6]]\n",
      "1154 [[datetime.datetime(2016, 10, 2, 12, 3), 13.4], [datetime.datetime(2016, 10, 4, 22, 51), 13.6]]\n",
      "1159 [[datetime.datetime(2016, 10, 4, 9, 28), 10.2], [datetime.datetime(2016, 10, 4, 13, 34), 17.4]]\n",
      "1164 [[datetime.datetime(2016, 10, 8, 9, 43), 22.4]]\n",
      "1167 [[datetime.datetime(2016, 10, 7, 14, 57), 11.4]]\n",
      "1175 [[datetime.datetime(2016, 10, 7, 20, 25), 14.0]]\n",
      "1181 [[datetime.datetime(2016, 10, 6, 12, 48), 22.4]]\n",
      "1182 [[datetime.datetime(2016, 10, 7, 9, 54), 18.0], [datetime.datetime(2016, 10, 10, 2, 35), 17.0]]\n",
      "1193 [[datetime.datetime(2016, 10, 4, 13, 49), 24.8], [datetime.datetime(2016, 10, 9, 20, 49), 16.6]]\n",
      "1198 [[datetime.datetime(2016, 10, 1, 5, 12), 17.8], [datetime.datetime(2016, 10, 6, 7, 52), 9.0]]\n",
      "1201 [[datetime.datetime(2016, 10, 6, 5, 15), 10.6]]\n",
      "1203 [[datetime.datetime(2016, 10, 5, 13, 55), 23.4], [datetime.datetime(2016, 10, 6, 5, 56), 21.0]]\n",
      "1207 [[datetime.datetime(2016, 10, 1, 16, 10), 16.6], [datetime.datetime(2016, 10, 2, 1, 24), 24.2], [datetime.datetime(2016, 10, 2, 21, 17), 20.4], [datetime.datetime(2016, 10, 3, 16, 8), 25.6], [datetime.datetime(2016, 10, 4, 17, 29), 19.8], [datetime.datetime(2016, 10, 5, 1, 39), 16.4], [datetime.datetime(2016, 10, 5, 6, 33), 16.2], [datetime.datetime(2016, 10, 5, 18, 57), 17.0], [datetime.datetime(2016, 10, 5, 20, 51), 16.8], [datetime.datetime(2016, 10, 7, 8, 55), 19.8], [datetime.datetime(2016, 10, 7, 17, 40), 15.6], [datetime.datetime(2016, 10, 8, 23, 36), 19.2], [datetime.datetime(2016, 10, 9, 10, 25), 23.2], [datetime.datetime(2016, 10, 9, 21, 4), 10.8]]\n",
      "1208 [[datetime.datetime(2016, 10, 4, 7, 38), 24.4], [datetime.datetime(2016, 10, 9, 14, 53), 13.4]]\n",
      "1209 [[datetime.datetime(2016, 10, 5, 17, 15), 12.0]]\n",
      "1213 [[datetime.datetime(2016, 10, 3, 6, 16), 18.6], [datetime.datetime(2016, 10, 6, 10, 4), 16.6]]\n",
      "1218 [[datetime.datetime(2016, 10, 1, 16, 52), 12.2], [datetime.datetime(2016, 10, 9, 19, 10), 22.4]]\n",
      "1219 [[datetime.datetime(2016, 10, 2, 8, 42), 15.4]]\n",
      "1223 [[datetime.datetime(2016, 10, 3, 19, 32), 17.2], [datetime.datetime(2016, 10, 6, 22, 11), 17.6]]\n",
      "1224 [[datetime.datetime(2016, 10, 8, 15, 18), 16.4]]\n",
      "1226 [[datetime.datetime(2016, 10, 1, 4, 41), 18.6], [datetime.datetime(2016, 10, 3, 9, 32), 19.8]]\n",
      "1228 [[datetime.datetime(2016, 10, 7, 18, 32), 18.8], [datetime.datetime(2016, 10, 8, 13, 21), 17.6]]\n",
      "1230 [[datetime.datetime(2016, 10, 3, 15, 47), 20.6]]\n",
      "1233 [[datetime.datetime(2016, 10, 1, 9, 2), 15.0], [datetime.datetime(2016, 10, 1, 10, 27), 22.0]]\n",
      "1236 [[datetime.datetime(2016, 10, 2, 22, 1), 17.4]]\n",
      "1238 [[datetime.datetime(2016, 10, 5, 5, 27), 13.6], [datetime.datetime(2016, 10, 9, 14, 43), 17.6]]\n",
      "1242 [[datetime.datetime(2016, 10, 4, 22, 25), 18.4]]\n",
      "1243 [[datetime.datetime(2016, 10, 6, 4, 54), 20.4], [datetime.datetime(2016, 10, 6, 14, 28), 20.0]]\n",
      "1246 [[datetime.datetime(2016, 10, 1, 4, 27), 17.8], [datetime.datetime(2016, 10, 2, 4, 27), 16.0], [datetime.datetime(2016, 10, 2, 8, 45), 14.6], [datetime.datetime(2016, 10, 2, 16, 58), 17.2], [datetime.datetime(2016, 10, 2, 17, 30), 13.6], [datetime.datetime(2016, 10, 2, 19, 46), 23.6], [datetime.datetime(2016, 10, 3, 2, 5), 15.6], [datetime.datetime(2016, 10, 3, 2, 57), 21.4], [datetime.datetime(2016, 10, 3, 7, 19), 13.0], [datetime.datetime(2016, 10, 3, 12, 15), 18.6], [datetime.datetime(2016, 10, 3, 14, 58), 20.6], [datetime.datetime(2016, 10, 3, 19, 43), 11.4], [datetime.datetime(2016, 10, 4, 7, 27), 18.0], [datetime.datetime(2016, 10, 4, 9, 8), 12.0], [datetime.datetime(2016, 10, 4, 13, 52), 16.0], [datetime.datetime(2016, 10, 4, 16, 34), 12.2], [datetime.datetime(2016, 10, 5, 0, 27), 23.0], [datetime.datetime(2016, 10, 5, 6, 36), 24.0], [datetime.datetime(2016, 10, 5, 12, 59), 11.8], [datetime.datetime(2016, 10, 5, 16, 52), 17.2], [datetime.datetime(2016, 10, 5, 17, 26), 24.6], [datetime.datetime(2016, 10, 6, 6, 48), 30.4], [datetime.datetime(2016, 10, 8, 2, 53), 18.0], [datetime.datetime(2016, 10, 10, 0, 59), 15.0]]\n",
      "1248 [[datetime.datetime(2016, 10, 1, 16, 30), 13.2], [datetime.datetime(2016, 10, 1, 21, 6), 28.8]]\n",
      "1252 [[datetime.datetime(2016, 10, 2, 7, 12), 22.0], [datetime.datetime(2016, 10, 4, 13, 51), 15.6]]\n",
      "1253 [[datetime.datetime(2016, 10, 1, 12, 36), 13.6], [datetime.datetime(2016, 10, 4, 17, 11), 8.6]]\n",
      "1258 [[datetime.datetime(2016, 10, 2, 16, 22), 22.0], [datetime.datetime(2016, 10, 8, 19, 34), 20.0]]\n",
      "1263 [[datetime.datetime(2016, 10, 2, 10, 36), 12.6], [datetime.datetime(2016, 10, 3, 6, 10), 18.0]]\n",
      "1267 [[datetime.datetime(2016, 10, 2, 21, 42), 11.0], [datetime.datetime(2016, 10, 4, 9, 2), 12.2], [datetime.datetime(2016, 10, 4, 12, 10), 18.0], [datetime.datetime(2016, 10, 4, 15, 40), 12.4], [datetime.datetime(2016, 10, 4, 18, 37), 13.0], [datetime.datetime(2016, 10, 4, 21, 29), 21.4], [datetime.datetime(2016, 10, 5, 21, 11), 13.6], [datetime.datetime(2016, 10, 5, 22, 9), 17.4], [datetime.datetime(2016, 10, 6, 3, 58), 15.0], [datetime.datetime(2016, 10, 6, 11, 16), 14.4], [datetime.datetime(2016, 10, 6, 19, 20), 16.0], [datetime.datetime(2016, 10, 7, 10, 18), 12.0], [datetime.datetime(2016, 10, 8, 18, 18), 12.8], [datetime.datetime(2016, 10, 9, 4, 41), 21.4], [datetime.datetime(2016, 10, 9, 9, 13), 17.4], [datetime.datetime(2016, 10, 9, 15, 37), 21.6], [datetime.datetime(2016, 10, 9, 18, 56), 16.0]]\n",
      "1268 [[datetime.datetime(2016, 10, 5, 2, 48), 16.4], [datetime.datetime(2016, 10, 7, 19, 36), 16.0]]\n",
      "1269 [[datetime.datetime(2016, 10, 2, 14, 12), 22.0]]\n",
      "1270 [[datetime.datetime(2016, 10, 7, 3, 29), 21.8]]\n",
      "1273 [[datetime.datetime(2016, 10, 1, 8, 56), 14.6], [datetime.datetime(2016, 10, 8, 13, 49), 22.0]]\n",
      "1274 [[datetime.datetime(2016, 10, 7, 6, 0), 25.0]]\n",
      "1278 [[datetime.datetime(2016, 10, 4, 13, 47), 15.6], [datetime.datetime(2016, 10, 7, 6, 42), 17.8]]\n",
      "1279 [[datetime.datetime(2016, 10, 8, 3, 24), 14.8]]\n",
      "1281 [[datetime.datetime(2016, 10, 3, 1, 3), 18.2]]\n",
      "1283 [[datetime.datetime(2016, 10, 2, 6, 11), 12.6], [datetime.datetime(2016, 10, 2, 19, 24), 11.8]]\n",
      "1288 [[datetime.datetime(2016, 10, 7, 13, 37), 16.0], [datetime.datetime(2016, 10, 8, 19, 46), 30.4]]\n",
      "1291 [[datetime.datetime(2016, 10, 7, 2, 41), 13.4]]\n",
      "1293 [[datetime.datetime(2016, 10, 1, 17, 29), 18.4], [datetime.datetime(2016, 10, 2, 20, 12), 20.0]]\n",
      "1294 [[datetime.datetime(2016, 10, 2, 23, 36), 17.0]]\n",
      "1296 [[datetime.datetime(2016, 10, 7, 10, 32), 26.0]]\n",
      "1298 [[datetime.datetime(2016, 10, 3, 20, 41), 21.0], [datetime.datetime(2016, 10, 3, 22, 35), 19.4], [datetime.datetime(2016, 10, 5, 12, 19), 16.0]]\n",
      "1300 [[datetime.datetime(2016, 10, 2, 11, 43), 12.8], [datetime.datetime(2016, 10, 3, 23, 18), 14.0]]\n",
      "1302 [[datetime.datetime(2016, 10, 3, 18, 28), 21.8]]\n",
      "1303 [[datetime.datetime(2016, 10, 2, 8, 6), 11.8], [datetime.datetime(2016, 10, 6, 6, 23), 25.8]]\n",
      "1308 [[datetime.datetime(2016, 10, 3, 10, 42), 18.0], [datetime.datetime(2016, 10, 6, 18, 52), 10.2]]\n",
      "1313 [[datetime.datetime(2016, 10, 6, 16, 16), 12.0], [datetime.datetime(2016, 10, 8, 18, 12), 13.8]]\n",
      "1315 [[datetime.datetime(2016, 10, 2, 14, 4), 16.6]]\n",
      "1318 [[datetime.datetime(2016, 10, 3, 14, 10), 11.4], [datetime.datetime(2016, 10, 3, 18, 15), 13.4], [datetime.datetime(2016, 10, 3, 18, 27), 14.0], [datetime.datetime(2016, 10, 4, 17, 9), 16.6], [datetime.datetime(2016, 10, 5, 11, 7), 24.0], [datetime.datetime(2016, 10, 6, 1, 46), 10.2], [datetime.datetime(2016, 10, 6, 22, 29), 18.6], [datetime.datetime(2016, 10, 7, 0, 44), 21.6], [datetime.datetime(2016, 10, 7, 10, 17), 20.2], [datetime.datetime(2016, 10, 7, 11, 29), 18.0], [datetime.datetime(2016, 10, 8, 23, 18), 17.4], [datetime.datetime(2016, 10, 9, 1, 37), 22.0], [datetime.datetime(2016, 10, 9, 7, 48), 17.4], [datetime.datetime(2016, 10, 9, 22, 27), 19.0]]\n",
      "1320 [[datetime.datetime(2016, 10, 6, 17, 8), 18.0]]\n",
      "1323 [[datetime.datetime(2016, 10, 9, 2, 35), 16.0], [datetime.datetime(2016, 10, 9, 10, 8), 28.6]]\n",
      "1328 [[datetime.datetime(2016, 10, 5, 7, 29), 18.4], [datetime.datetime(2016, 10, 5, 11, 58), 18.8]]\n",
      "1330 [[datetime.datetime(2016, 10, 3, 0, 36), 17.8]]\n",
      "1331 [[datetime.datetime(2016, 10, 9, 2, 8), 16.8]]\n",
      "1332 [[datetime.datetime(2016, 10, 3, 2, 19), 19.4]]\n",
      "1333 [[datetime.datetime(2016, 10, 4, 22, 1), 20.0]]\n",
      "1334 [[datetime.datetime(2016, 10, 8, 3, 48), 16.0]]\n",
      "1343 [[datetime.datetime(2016, 10, 3, 1, 32), 22.0]]\n",
      "1350 [[datetime.datetime(2016, 10, 8, 4, 34), 12.8]]\n",
      "1351 [[datetime.datetime(2016, 10, 4, 4, 9), 20.0]]\n",
      "1353 [[datetime.datetime(2016, 10, 6, 19, 9), 17.4]]\n",
      "1354 [[datetime.datetime(2016, 10, 3, 1, 30), 15.6]]\n",
      "1355 [[datetime.datetime(2016, 10, 2, 23, 30), 22.0]]\n",
      "1359 [[datetime.datetime(2016, 10, 8, 6, 50), 14.4]]\n",
      "1362 [[datetime.datetime(2016, 10, 2, 13, 33), 12.2]]\n",
      "1363 [[datetime.datetime(2016, 10, 5, 21, 36), 12.2]]\n",
      "1364 [[datetime.datetime(2016, 10, 4, 22, 6), 20.0]]\n",
      "1366 [[datetime.datetime(2016, 10, 1, 5, 29), 13.0]]\n",
      "1367 [[datetime.datetime(2016, 10, 7, 9, 40), 22.4]]\n",
      "1371 [[datetime.datetime(2016, 10, 4, 7, 31), 13.6]]\n",
      "1372 [[datetime.datetime(2016, 10, 4, 1, 36), 30.4]]\n",
      "1374 [[datetime.datetime(2016, 10, 7, 17, 25), 12.4]]\n",
      "1377 [[datetime.datetime(2016, 10, 5, 23, 6), 16.0]]\n",
      "1380 [[datetime.datetime(2016, 10, 6, 14, 29), 30.4]]\n",
      "1382 [[datetime.datetime(2016, 10, 9, 4, 55), 23.2]]\n",
      "1383 [[datetime.datetime(2016, 10, 5, 21, 24), 20.0]]\n",
      "1386 [[datetime.datetime(2016, 10, 5, 8, 14), 12.6]]\n",
      "1387 [[datetime.datetime(2016, 10, 3, 11, 43), 14.6]]\n",
      "1388 [[datetime.datetime(2016, 10, 1, 6, 21), 11.8]]\n",
      "1392 [[datetime.datetime(2016, 10, 3, 6, 3), 20.2]]\n",
      "1393 [[datetime.datetime(2016, 10, 6, 5, 34), 10.0]]\n",
      "1394 [[datetime.datetime(2016, 10, 4, 23, 55), 12.8]]\n",
      "1397 [[datetime.datetime(2016, 10, 5, 5, 1), 20.6]]\n",
      "1398 [[datetime.datetime(2016, 10, 5, 22, 54), 18.0]]\n",
      "1424 [[datetime.datetime(2016, 10, 1, 17, 1), 13.8], [datetime.datetime(2016, 10, 3, 6, 50), 12.8], [datetime.datetime(2016, 10, 4, 5, 27), 17.2], [datetime.datetime(2016, 10, 4, 16, 14), 16.0], [datetime.datetime(2016, 10, 4, 18, 21), 14.2], [datetime.datetime(2016, 10, 5, 23, 33), 19.6], [datetime.datetime(2016, 10, 6, 7, 27), 22.4], [datetime.datetime(2016, 10, 7, 3, 1), 14.8], [datetime.datetime(2016, 10, 7, 16, 8), 13.0], [datetime.datetime(2016, 10, 7, 16, 12), 13.6], [datetime.datetime(2016, 10, 8, 12, 41), 12.6], [datetime.datetime(2016, 10, 8, 15, 26), 19.2], [datetime.datetime(2016, 10, 8, 17, 21), 20.2], [datetime.datetime(2016, 10, 9, 8, 0), 16.0], [datetime.datetime(2016, 10, 10, 1, 24), 11.6]]\n"
     ]
    }
   ],
   "source": [
    "Started = True\n",
    "\n",
    "# в этот лист будем записывать пары [dateTime, amount_paid]\n",
    "\n",
    "# т. е. для каждого значения user_id у нас будет лист user_id_transactions, состоящий из пар вида:\n",
    "\n",
    "# [ [..., ...], [..., ...], ... ]\n",
    "\n",
    "user_id_transactions = []\n",
    "\n",
    "with open( 'data_no_header.txt', 'r' ) as f:\n",
    "\n",
    "    for line in f:\n",
    "\n",
    "        \n",
    "\n",
    "        line = line.strip().split('\\t')\n",
    "\n",
    "        \n",
    "\n",
    "        # дата транзакции, по максимальному и минимальному значению которой будем считать LT\n",
    "\n",
    "        dateTime = datetime.strptime( line[1], '%d.%m.%Y %H:%M' )\n",
    "\n",
    "        \n",
    "\n",
    "        # ID пользователя\n",
    "\n",
    "        user_id = line[2]\n",
    "\n",
    "        \n",
    "\n",
    "        # сумма покупки\n",
    "\n",
    "        amount_paid = float( line[8].replace(',', '.') )\n",
    "\n",
    "        \n",
    "\n",
    "        if Started:\n",
    "\n",
    "            previous_user_id = user_id\n",
    "\n",
    "            user_id_transactions = [ [dateTime, amount_paid] ]\n",
    "\n",
    "            \n",
    "\n",
    "            Started = False\n",
    "\n",
    "        \n",
    "\n",
    "        else:\n",
    "\n",
    "            # если значение user_id не изменилось по сравнению с прошлой строкой\n",
    "\n",
    "            if user_id == previous_user_id:\n",
    "\n",
    "                user_id_transactions.append( [dateTime, amount_paid] )\n",
    "\n",
    "            \n",
    "\n",
    "            else:\n",
    "\n",
    "                print( previous_user_id, user_id_transactions )\n",
    "\n",
    "                \n",
    "\n",
    "                previous_user_id = user_id                \n",
    "\n",
    "                user_id_transactions = [ [dateTime, amount_paid] ]\n",
    "\n",
    "print( previous_user_id, user_id_transactions )\n",
    "\n"
   ]
  },
  {
   "cell_type": "code",
   "execution_count": 230,
   "metadata": {
    "collapsed": true
   },
   "outputs": [],
   "source": [
    "def LT_calculation( user_id_transactions ):\n",
    "\n",
    "    \"\"\"\n",
    "\n",
    "    Функция возвращает lifetime в днях для пользователя со списком транзакций user_id_transactions.\n",
    "\n",
    "    Лист user_id_transactions имеет вид\n",
    "\n",
    "    \n",
    "\n",
    "    [ \n",
    "\n",
    "        [datetime.datetime(2016, 10, 5, 3, 23), 13.2], \n",
    "\n",
    "        [datetime.datetime(2016, 10, 5, 23, 19), 9.8],\n",
    "\n",
    "        ...\n",
    "\n",
    "    ]\n",
    "\n",
    "    \"\"\"\n",
    "\n",
    "    \n",
    "\n",
    "    # первая покупка пользователя (т. е. первый элемент листа user_id_transactions [datetime.datetime(2016, 10, 5, 3, 23), 13.2])\n",
    "\n",
    "    first_order = user_id_transactions[0]\n",
    "\n",
    "    \n",
    "\n",
    "    # берем дату первой покупки\n",
    "\n",
    "    first_order_date = first_order[0]\n",
    "\n",
    "    \n",
    "\n",
    "    # аналогично последняя покупка пользователя\n",
    "\n",
    "    last_order = user_id_transactions[-1]\n",
    "\n",
    "    \n",
    "\n",
    "    # дата последней покупки\n",
    "\n",
    "    last_order_date = last_order[0]\n",
    "\n",
    "    \n",
    "\n",
    "    # возвращаем значение LT для пользователя\n",
    "\n",
    "    return (last_order_date - first_order_date).days"
   ]
  },
  {
   "cell_type": "code",
   "execution_count": 233,
   "metadata": {
    "collapsed": false
   },
   "outputs": [
    {
     "name": "stdout",
     "output_type": "stream",
     "text": [
      "1010 0\n",
      "1036 0\n",
      "1041 0\n",
      "1042 7\n",
      "1047 4\n",
      "1052 1\n",
      "1057 4\n",
      "1062 0\n",
      "1067 0\n",
      "1078 0\n",
      "1085 0\n",
      "1096 0\n",
      "1098 0\n",
      "1100 7\n",
      "1105 0\n",
      "1108 8\n",
      "1111 0\n",
      "1112 3\n",
      "1113 3\n",
      "1114 0\n",
      "1116 0\n",
      "1118 7\n",
      "1123 0\n",
      "1128 0\n",
      "1134 2\n",
      "1135 7\n",
      "1136 2\n",
      "1140 1\n",
      "1141 0\n",
      "1145 1\n",
      "1149 7\n",
      "1150 0\n",
      "1154 2\n",
      "1159 0\n",
      "1164 0\n",
      "1167 0\n",
      "1175 0\n",
      "1181 0\n",
      "1182 2\n",
      "1193 5\n",
      "1198 5\n",
      "1201 0\n",
      "1203 0\n",
      "1207 8\n",
      "1208 5\n",
      "1209 0\n",
      "1213 3\n",
      "1218 8\n",
      "1219 0\n",
      "1223 3\n",
      "1224 0\n",
      "1226 2\n",
      "1228 0\n",
      "1230 0\n",
      "1233 0\n",
      "1236 0\n",
      "1238 4\n",
      "1242 0\n",
      "1243 0\n",
      "1246 8\n",
      "1248 0\n",
      "1252 2\n",
      "1253 3\n",
      "1258 6\n",
      "1263 0\n",
      "1267 6\n",
      "1268 2\n",
      "1269 0\n",
      "1270 0\n",
      "1273 7\n",
      "1274 0\n",
      "1278 2\n",
      "1279 0\n",
      "1281 0\n",
      "1283 0\n",
      "1288 1\n",
      "1291 0\n",
      "1293 1\n",
      "1294 0\n",
      "1296 0\n",
      "1298 1\n",
      "1300 1\n",
      "1302 0\n",
      "1303 3\n",
      "1308 3\n",
      "1313 2\n",
      "1315 0\n",
      "1318 6\n",
      "1320 0\n",
      "1323 0\n",
      "1328 0\n",
      "1330 0\n",
      "1331 0\n",
      "1332 0\n",
      "1333 0\n",
      "1334 0\n",
      "1343 0\n",
      "1350 0\n",
      "1351 0\n",
      "1353 0\n",
      "1354 0\n",
      "1355 0\n",
      "1359 0\n",
      "1362 0\n",
      "1363 0\n",
      "1364 0\n",
      "1366 0\n",
      "1367 0\n",
      "1371 0\n",
      "1372 0\n",
      "1374 0\n",
      "1377 0\n",
      "1380 0\n",
      "1382 0\n",
      "1383 0\n",
      "1386 0\n",
      "1387 0\n",
      "1388 0\n",
      "1392 0\n",
      "1393 0\n",
      "1394 0\n",
      "1397 0\n",
      "1398 0\n",
      "1424 8\n",
      "173\n"
     ]
    }
   ],
   "source": [
    "Started = True\n",
    "\n",
    "# в этот лист будем записывать пары [dateTime, amount_paid]\n",
    "\n",
    "# т. е. для каждого значения user_id у нас будет лист user_id_transactions, состоящий из пар вида:\n",
    "\n",
    "# [ [..., ...], [..., ...], ... ]\n",
    "\n",
    "user_id_transactions = []\n",
    "total_lt = 0\n",
    "\n",
    "with open( 'data_no_header.txt', 'r' ) as f:\n",
    "\n",
    "    for line in f:\n",
    "\n",
    "        \n",
    "\n",
    "        line = line.strip().split('\\t')\n",
    "\n",
    "        \n",
    "\n",
    "        # дата транзакции, по максимальному и минимальному значению которой будем считать LT\n",
    "\n",
    "        dateTime = datetime.strptime( line[1], '%d.%m.%Y %H:%M' )\n",
    "\n",
    "        \n",
    "\n",
    "        # ID пользователя\n",
    "\n",
    "        user_id = line[2]\n",
    "\n",
    "        \n",
    "\n",
    "        # сумма покупки\n",
    "\n",
    "        amount_paid = float( line[8].replace(',', '.') )\n",
    "\n",
    "        \n",
    "\n",
    "        if Started:\n",
    "\n",
    "            previous_user_id = user_id\n",
    "\n",
    "            user_id_transactions = [ [dateTime, amount_paid] ]\n",
    "\n",
    "            \n",
    "\n",
    "            Started = False\n",
    "\n",
    "        \n",
    "\n",
    "        else:\n",
    "\n",
    "            # если значение user_id не изменилось по сравнению с прошлой строкой\n",
    "\n",
    "            if user_id == previous_user_id:\n",
    "\n",
    "                user_id_transactions.append( [dateTime, amount_paid] )\n",
    "\n",
    "            \n",
    "\n",
    "            else:\n",
    "\n",
    "                user_lt_days = LT_calculation( user_id_transactions )\n",
    "                total_lt += user_lt_days\n",
    "                print( previous_user_id, user_lt_days )\n",
    "\n",
    "                \n",
    "\n",
    "                previous_user_id = user_id                \n",
    "\n",
    "                user_id_transactions = [ [dateTime, amount_paid] ]\n",
    "\n",
    "# не забываем учесть последнего пользователя, значения для которого не выводятся в основном цикле\n",
    "user_lt_days = LT_calculation( user_id_transactions )\n",
    "total_lt += user_lt_days\n",
    "print(previous_user_id, user_lt_days)\n",
    "print(total_lt)"
   ]
  },
  {
   "cell_type": "code",
   "execution_count": null,
   "metadata": {
    "collapsed": true
   },
   "outputs": [],
   "source": [
    "Started = True\n",
    "\n",
    "# в этот лист будем записывать пары [dateTime, amount_paid]\n",
    "\n",
    "# т. е. для каждого значения user_id у нас будет лист user_id_transactions, состоящий из пар вида:\n",
    "\n",
    "# [ [..., ...], [..., ...], ... ]\n",
    "\n",
    "user_id_transactions = []\n",
    "unique_users_total_amount = dict()\n",
    "LT_days = 0\n",
    "LT_users = 0\n",
    "\n",
    "with open( 'data_no_header.txt', 'r' ) as f:\n",
    "    for line in f:\n",
    "        line = line.strip().split('\\t')\n",
    "        # дата транзакции, по максимальному и минимальному значению которой будем считать LT\n",
    "        dateTime = datetime.strptime( line[1], '%d.%m.%Y %H:%M' )\n",
    "        # ID пользователя\n",
    "        user_id = line[2]\n",
    "        # сумма покупки\n",
    "        amount_paid = float( line[8].replace(',', '.') )\n",
    "        if user_id in unique_users_total_amount:\n",
    "            unique_users_total_amount[user_id] += amount_paid\n",
    "        else:\n",
    "            unique_users_total_amount = amount_paid\n",
    "        \n",
    "\n",
    "        if Started:\n",
    "            previous_user_id = user_id\n",
    "            user_id_transactions = [ [dateTime, amount_paid] ]\n",
    "            Started = False\n",
    "        else:\n",
    "            # если значение user_id не изменилось по сравнению с прошлой строкой\n",
    "            if user_id == previous_user_id:\n",
    "                user_id_transactions.append( [dateTime, amount_paid] \n",
    "            else:\n",
    "\n",
    "                # значение LT для текущего пользователя\n",
    "\n",
    "                LT_days_for_current_user = LT_calculation( user_id_transactions )\n",
    "\n",
    "                \n",
    "\n",
    "                # здесь отсекаем пользователей с нулевым значением LT\n",
    "\n",
    "                #if LT_days_for_current_user > 0:\n",
    "\n",
    "                LT_days += LT_days_for_current_user\n",
    "\n",
    "                LT_users += 1\n",
    "\n",
    "                \n",
    "\n",
    "                previous_user_id = user_id                \n",
    "\n",
    "                user_id_transactions = [ [dateTime, amount_paid] ]\n",
    "\n",
    "# не забываем учесть последнего пользователя, значения для которого не выводятся в основном цикле\n",
    "\n",
    "LT"
   ]
  },
  {
   "cell_type": "code",
   "execution_count": 244,
   "metadata": {
    "collapsed": false
   },
   "outputs": [
    {
     "name": "stdout",
     "output_type": "stream",
     "text": [
      "Lifetime = 1.4 days\n"
     ]
    }
   ],
   "source": [
    "Started = True\n",
    "\n",
    "# в этот лист будем записывать пары [dateTime, amount_paid]\n",
    "\n",
    "# т. е. для каждого значения user_id у нас будет лист user_id_transactions, состоящий из пар вида:\n",
    "\n",
    "# [ [..., ...], [..., ...], ... ]\n",
    "\n",
    "user_id_transactions = []\n",
    "unique_users_total_amount = dict()\n",
    "LT_days = 0\n",
    "LT_users = 0\n",
    "\n",
    "with open( 'data_no_header.txt', 'r' ) as f:\n",
    "    for line in f:\n",
    "        line = line.strip().split('\\t')\n",
    "        # дата транзакции, по максимальному и минимальному значению которой будем считать LT\n",
    "        dateTime = datetime.strptime( line[1], '%d.%m.%Y %H:%M' )\n",
    "        # ID пользователя\n",
    "        user_id = line[2]\n",
    "        # сумма покупки\n",
    "        amount_paid = float( line[8].replace(',', '.') )\n",
    "        \n",
    "        if user_id in unique_users_total_amount:\n",
    "            unique_users_total_amount[user_id] += amount_paid\n",
    "        else:\n",
    "            unique_users_total_amount[user_id] = amount_paid\n",
    "        \n",
    "\n",
    "        if Started:\n",
    "            previous_user_id = user_id\n",
    "            user_id_transactions = [ [dateTime, amount_paid] ]\n",
    "            Started = False\n",
    "        else:\n",
    "            # если значение user_id не изменилось по сравнению с прошлой строкой\n",
    "            if user_id == previous_user_id:\n",
    "                user_id_transactions.append( [dateTime, amount_paid] )\n",
    "            else:\n",
    "\n",
    "                # значение LT для текущего пользователя\n",
    "\n",
    "                LT_days_for_current_user = LT_calculation( user_id_transactions )\n",
    "\n",
    "                \n",
    "\n",
    "                # здесь отсекаем пользователей с нулевым значением LT\n",
    "\n",
    "                #if LT_days_for_current_user > 0:\n",
    "\n",
    "                LT_days += LT_days_for_current_user\n",
    "\n",
    "                LT_users += 1\n",
    "\n",
    "                \n",
    "\n",
    "                previous_user_id = user_id                \n",
    "\n",
    "                user_id_transactions = [ [dateTime, amount_paid] ]\n",
    "\n",
    "# не забываем учесть последнего пользователя, значения для которого не выводятся в основном цикле\n",
    "\n",
    "LT_days_for_current_user = LT_calculation( user_id_transactions )\n",
    "\n",
    "#if LT_days_for_current_user > 0:\n",
    "LT_days += LT_days_for_current_user\n",
    "LT_users += 1\n",
    "print('Lifetime = {:.1f} days'.format( LT_days / LT_users ))\n",
    "\n"
   ]
  },
  {
   "cell_type": "code",
   "execution_count": 245,
   "metadata": {
    "collapsed": false
   },
   "outputs": [
    {
     "data": {
      "text/plain": [
       "{'1010': 20.2,\n",
       " '1036': 15.6,\n",
       " '1041': 23.0,\n",
       " '1042': 195.8,\n",
       " '1047': 28.6,\n",
       " '1052': 42.8,\n",
       " '1057': 21.200000000000003,\n",
       " '1062': 11.2,\n",
       " '1067': 19.0,\n",
       " '1078': 23.4,\n",
       " '1085': 17.0,\n",
       " '1096': 20.8,\n",
       " '1098': 15.6,\n",
       " '1100': 246.00000000000003,\n",
       " '1105': 16.2,\n",
       " '1108': 174.8,\n",
       " '1111': 12.0,\n",
       " '1112': 34.2,\n",
       " '1113': 37.8,\n",
       " '1114': 32.2,\n",
       " '1116': 20.0,\n",
       " '1118': 31.6,\n",
       " '1123': 27.2,\n",
       " '1128': 12.2,\n",
       " '1134': 37.0,\n",
       " '1135': 154.0,\n",
       " '1136': 39.0,\n",
       " '1140': 44.0,\n",
       " '1141': 16.0,\n",
       " '1145': 36.0,\n",
       " '1149': 132.39999999999998,\n",
       " '1150': 12.6,\n",
       " '1154': 27.0,\n",
       " '1159': 27.599999999999998,\n",
       " '1164': 22.4,\n",
       " '1167': 11.4,\n",
       " '1175': 14.0,\n",
       " '1181': 22.4,\n",
       " '1182': 35.0,\n",
       " '1193': 41.400000000000006,\n",
       " '1198': 26.8,\n",
       " '1201': 10.6,\n",
       " '1203': 44.4,\n",
       " '1207': 261.59999999999997,\n",
       " '1208': 37.8,\n",
       " '1209': 12.0,\n",
       " '1213': 35.2,\n",
       " '1218': 34.599999999999994,\n",
       " '1219': 15.4,\n",
       " '1223': 34.8,\n",
       " '1224': 16.4,\n",
       " '1226': 38.400000000000006,\n",
       " '1228': 36.400000000000006,\n",
       " '1230': 20.6,\n",
       " '1233': 37.0,\n",
       " '1236': 17.4,\n",
       " '1238': 31.200000000000003,\n",
       " '1242': 18.4,\n",
       " '1243': 40.4,\n",
       " '1246': 425.59999999999997,\n",
       " '1248': 42.0,\n",
       " '1252': 37.6,\n",
       " '1253': 22.2,\n",
       " '1258': 42.0,\n",
       " '1263': 30.6,\n",
       " '1267': 265.6,\n",
       " '1268': 32.4,\n",
       " '1269': 22.0,\n",
       " '1270': 21.8,\n",
       " '1273': 36.6,\n",
       " '1274': 25.0,\n",
       " '1278': 33.4,\n",
       " '1279': 14.8,\n",
       " '1281': 18.2,\n",
       " '1283': 24.4,\n",
       " '1288': 46.4,\n",
       " '1291': 13.4,\n",
       " '1293': 38.4,\n",
       " '1294': 17.0,\n",
       " '1296': 26.0,\n",
       " '1298': 56.4,\n",
       " '1300': 26.8,\n",
       " '1302': 21.8,\n",
       " '1303': 37.6,\n",
       " '1308': 28.2,\n",
       " '1313': 25.8,\n",
       " '1315': 16.6,\n",
       " '1318': 243.8,\n",
       " '1320': 18.0,\n",
       " '1323': 44.6,\n",
       " '1328': 37.2,\n",
       " '1330': 17.8,\n",
       " '1331': 16.8,\n",
       " '1332': 19.4,\n",
       " '1333': 20.0,\n",
       " '1334': 16.0,\n",
       " '1343': 22.0,\n",
       " '1350': 12.8,\n",
       " '1351': 20.0,\n",
       " '1353': 17.4,\n",
       " '1354': 15.6,\n",
       " '1355': 22.0,\n",
       " '1359': 14.4,\n",
       " '1362': 12.2,\n",
       " '1363': 12.2,\n",
       " '1364': 20.0,\n",
       " '1366': 13.0,\n",
       " '1367': 22.4,\n",
       " '1371': 13.6,\n",
       " '1372': 30.4,\n",
       " '1374': 12.4,\n",
       " '1377': 16.0,\n",
       " '1380': 30.4,\n",
       " '1382': 23.2,\n",
       " '1383': 20.0,\n",
       " '1386': 12.6,\n",
       " '1387': 14.6,\n",
       " '1388': 11.8,\n",
       " '1392': 20.2,\n",
       " '1393': 10.0,\n",
       " '1394': 12.8,\n",
       " '1397': 20.6,\n",
       " '1398': 18.0,\n",
       " '1424': 236.99999999999997}"
      ]
     },
     "execution_count": 245,
     "metadata": {},
     "output_type": "execute_result"
    }
   ],
   "source": [
    "unique_users_total_amount"
   ]
  },
  {
   "cell_type": "code",
   "execution_count": 247,
   "metadata": {
    "collapsed": false
   },
   "outputs": [
    {
     "data": {
      "text/plain": [
       "41.36935483870969"
      ]
     },
     "execution_count": 247,
     "metadata": {},
     "output_type": "execute_result"
    }
   ],
   "source": [
    "sum(unique_users_total_amount.values()) / len(unique_users_total_amount.keys())\n"
   ]
  },
  {
   "cell_type": "code",
   "execution_count": 249,
   "metadata": {
    "collapsed": false
   },
   "outputs": [],
   "source": [
    "def source_type_classification( line ):\n",
    "\n",
    "    \"\"\"\n",
    "\n",
    "    Пример строки на входе функции:\n",
    "\n",
    "    ['40443', '05.10.2016 23:18', '1010', '0,000925926', 'seo', 'google', '0', '6243', '20,20']\n",
    "\n",
    "    Функция классифицирует источник трафика в зависимости от значения source и medium.\n",
    "\n",
    "    Возвращает название типа источника по правилам:\n",
    "\n",
    "        - если source равен 'google' или 'yandex', то проверяем medium:\n",
    "\n",
    "            - для medium 'seo' или 'sem' возвращаем 'search engines seo'\n",
    "\n",
    "            - для medium 'brand' - возвращаем 'search engines brand'\n",
    "\n",
    "            - для остальных случаев возвращаем 'search engines undefined'\n",
    "\n",
    "        - если условие не выполнено, то возвращаем 'other'\n",
    "\n",
    "    \"\"\"\n",
    "\n",
    "    source = line[5]\n",
    "\n",
    "    medium = line[4]\n",
    "\n",
    "    if source == 'google' or source == 'yandex':\n",
    "\n",
    "        if medium == 'seo' or medium == 'sem':\n",
    "\n",
    "            return 'search engines seo'\n",
    "\n",
    "        elif medium == 'brand':\n",
    "\n",
    "            return 'search engines brand'\n",
    "\n",
    "        else:\n",
    "\n",
    "            # если вдруг встретится другой вариант, то ставим \"undefined\"\n",
    "\n",
    "            return 'search engines undefined'\n",
    "\n",
    "    else:\n",
    "\n",
    "        return 'other'"
   ]
  },
  {
   "cell_type": "code",
   "execution_count": 250,
   "metadata": {
    "collapsed": false
   },
   "outputs": [
    {
     "data": {
      "text/plain": [
       "'search engines seo'"
      ]
     },
     "execution_count": 250,
     "metadata": {},
     "output_type": "execute_result"
    }
   ],
   "source": [
    "source_type_classification(['40443', '05.10.2016 23:18', '1010', '0,000925926', 'seo', 'google', '0', '6243', '20,20'])"
   ]
  },
  {
   "cell_type": "code",
   "execution_count": null,
   "metadata": {
    "collapsed": true
   },
   "outputs": [],
   "source": []
  },
  {
   "cell_type": "code",
   "execution_count": null,
   "metadata": {
    "collapsed": true
   },
   "outputs": [],
   "source": []
  },
  {
   "cell_type": "code",
   "execution_count": null,
   "metadata": {
    "collapsed": true
   },
   "outputs": [],
   "source": []
  },
  {
   "cell_type": "code",
   "execution_count": null,
   "metadata": {
    "collapsed": true
   },
   "outputs": [],
   "source": []
  },
  {
   "cell_type": "code",
   "execution_count": null,
   "metadata": {
    "collapsed": true
   },
   "outputs": [],
   "source": []
  },
  {
   "cell_type": "code",
   "execution_count": null,
   "metadata": {
    "collapsed": true
   },
   "outputs": [],
   "source": []
  },
  {
   "cell_type": "code",
   "execution_count": null,
   "metadata": {
    "collapsed": true
   },
   "outputs": [],
   "source": []
  },
  {
   "cell_type": "code",
   "execution_count": null,
   "metadata": {
    "collapsed": true
   },
   "outputs": [],
   "source": []
  },
  {
   "cell_type": "code",
   "execution_count": null,
   "metadata": {
    "collapsed": true
   },
   "outputs": [],
   "source": []
  },
  {
   "cell_type": "code",
   "execution_count": null,
   "metadata": {
    "collapsed": false
   },
   "outputs": [],
   "source": []
  },
  {
   "cell_type": "code",
   "execution_count": null,
   "metadata": {
    "collapsed": true
   },
   "outputs": [],
   "source": []
  },
  {
   "cell_type": "code",
   "execution_count": null,
   "metadata": {
    "collapsed": true
   },
   "outputs": [],
   "source": []
  },
  {
   "cell_type": "code",
   "execution_count": null,
   "metadata": {
    "collapsed": false
   },
   "outputs": [],
   "source": []
  },
  {
   "cell_type": "code",
   "execution_count": null,
   "metadata": {
    "collapsed": true
   },
   "outputs": [],
   "source": []
  },
  {
   "cell_type": "code",
   "execution_count": null,
   "metadata": {
    "collapsed": true
   },
   "outputs": [],
   "source": []
  },
  {
   "cell_type": "code",
   "execution_count": null,
   "metadata": {
    "collapsed": true
   },
   "outputs": [],
   "source": []
  },
  {
   "cell_type": "code",
   "execution_count": null,
   "metadata": {
    "collapsed": true
   },
   "outputs": [],
   "source": []
  },
  {
   "cell_type": "code",
   "execution_count": null,
   "metadata": {
    "collapsed": true
   },
   "outputs": [],
   "source": []
  },
  {
   "cell_type": "code",
   "execution_count": null,
   "metadata": {
    "collapsed": false
   },
   "outputs": [],
   "source": []
  },
  {
   "cell_type": "code",
   "execution_count": null,
   "metadata": {
    "collapsed": true
   },
   "outputs": [],
   "source": []
  },
  {
   "cell_type": "code",
   "execution_count": null,
   "metadata": {
    "collapsed": true
   },
   "outputs": [],
   "source": []
  },
  {
   "cell_type": "code",
   "execution_count": null,
   "metadata": {
    "collapsed": true
   },
   "outputs": [],
   "source": []
  },
  {
   "cell_type": "code",
   "execution_count": null,
   "metadata": {
    "collapsed": true
   },
   "outputs": [],
   "source": []
  },
  {
   "cell_type": "code",
   "execution_count": null,
   "metadata": {
    "collapsed": true
   },
   "outputs": [],
   "source": []
  },
  {
   "cell_type": "code",
   "execution_count": null,
   "metadata": {
    "collapsed": true
   },
   "outputs": [],
   "source": []
  },
  {
   "cell_type": "code",
   "execution_count": null,
   "metadata": {
    "collapsed": true
   },
   "outputs": [],
   "source": []
  },
  {
   "cell_type": "code",
   "execution_count": null,
   "metadata": {
    "collapsed": true
   },
   "outputs": [],
   "source": []
  },
  {
   "cell_type": "code",
   "execution_count": null,
   "metadata": {
    "collapsed": true
   },
   "outputs": [],
   "source": []
  },
  {
   "cell_type": "code",
   "execution_count": null,
   "metadata": {
    "collapsed": true
   },
   "outputs": [],
   "source": []
  },
  {
   "cell_type": "code",
   "execution_count": null,
   "metadata": {
    "collapsed": true
   },
   "outputs": [],
   "source": []
  },
  {
   "cell_type": "code",
   "execution_count": null,
   "metadata": {
    "collapsed": true
   },
   "outputs": [],
   "source": []
  },
  {
   "cell_type": "code",
   "execution_count": null,
   "metadata": {
    "collapsed": true
   },
   "outputs": [],
   "source": []
  },
  {
   "cell_type": "code",
   "execution_count": null,
   "metadata": {
    "collapsed": true
   },
   "outputs": [],
   "source": []
  },
  {
   "cell_type": "code",
   "execution_count": null,
   "metadata": {
    "collapsed": true
   },
   "outputs": [],
   "source": []
  },
  {
   "cell_type": "code",
   "execution_count": null,
   "metadata": {
    "collapsed": true
   },
   "outputs": [],
   "source": []
  },
  {
   "cell_type": "code",
   "execution_count": null,
   "metadata": {
    "collapsed": false
   },
   "outputs": [],
   "source": []
  },
  {
   "cell_type": "code",
   "execution_count": null,
   "metadata": {
    "collapsed": true
   },
   "outputs": [],
   "source": []
  },
  {
   "cell_type": "code",
   "execution_count": null,
   "metadata": {
    "collapsed": true
   },
   "outputs": [],
   "source": []
  },
  {
   "cell_type": "code",
   "execution_count": null,
   "metadata": {
    "collapsed": true
   },
   "outputs": [],
   "source": []
  },
  {
   "cell_type": "code",
   "execution_count": null,
   "metadata": {
    "collapsed": true
   },
   "outputs": [],
   "source": []
  },
  {
   "cell_type": "code",
   "execution_count": null,
   "metadata": {
    "collapsed": true
   },
   "outputs": [],
   "source": []
  },
  {
   "cell_type": "code",
   "execution_count": null,
   "metadata": {
    "collapsed": true
   },
   "outputs": [],
   "source": []
  },
  {
   "cell_type": "code",
   "execution_count": null,
   "metadata": {
    "collapsed": true
   },
   "outputs": [],
   "source": []
  },
  {
   "cell_type": "code",
   "execution_count": 190,
   "metadata": {
    "collapsed": false
   },
   "outputs": [
    {
     "name": "stdout",
     "output_type": "stream",
     "text": [
      "google\t3.19\n",
      "yandex\t3.29\n",
      "promo\t3.34\n",
      "burgerclub\t1.64\n",
      "food-delivery\t1.56\n",
      "city-magazine\t1.26\n",
      "foody\t1.42\n",
      "newsletter\t3.91\n",
      "facebook\t3.53\n",
      "direct\t3.42\n",
      "vk\t2.62\n"
     ]
    }
   ],
   "source": []
  },
  {
   "cell_type": "code",
   "execution_count": null,
   "metadata": {
    "collapsed": true
   },
   "outputs": [],
   "source": []
  },
  {
   "cell_type": "code",
   "execution_count": null,
   "metadata": {
    "collapsed": true
   },
   "outputs": [],
   "source": []
  },
  {
   "cell_type": "code",
   "execution_count": null,
   "metadata": {
    "collapsed": true
   },
   "outputs": [],
   "source": []
  },
  {
   "cell_type": "code",
   "execution_count": null,
   "metadata": {
    "collapsed": true
   },
   "outputs": [],
   "source": []
  },
  {
   "cell_type": "code",
   "execution_count": null,
   "metadata": {
    "collapsed": true
   },
   "outputs": [],
   "source": []
  },
  {
   "cell_type": "code",
   "execution_count": null,
   "metadata": {
    "collapsed": true
   },
   "outputs": [],
   "source": []
  },
  {
   "cell_type": "code",
   "execution_count": null,
   "metadata": {
    "collapsed": true
   },
   "outputs": [],
   "source": []
  },
  {
   "cell_type": "code",
   "execution_count": null,
   "metadata": {
    "collapsed": false
   },
   "outputs": [],
   "source": []
  },
  {
   "cell_type": "code",
   "execution_count": null,
   "metadata": {
    "collapsed": true
   },
   "outputs": [],
   "source": []
  },
  {
   "cell_type": "code",
   "execution_count": null,
   "metadata": {
    "collapsed": true
   },
   "outputs": [],
   "source": []
  },
  {
   "cell_type": "code",
   "execution_count": null,
   "metadata": {
    "collapsed": true
   },
   "outputs": [],
   "source": []
  },
  {
   "cell_type": "code",
   "execution_count": null,
   "metadata": {
    "collapsed": false
   },
   "outputs": [],
   "source": []
  },
  {
   "cell_type": "code",
   "execution_count": null,
   "metadata": {
    "collapsed": true
   },
   "outputs": [],
   "source": []
  },
  {
   "cell_type": "code",
   "execution_count": null,
   "metadata": {
    "collapsed": true
   },
   "outputs": [],
   "source": []
  },
  {
   "cell_type": "code",
   "execution_count": null,
   "metadata": {
    "collapsed": true
   },
   "outputs": [],
   "source": []
  },
  {
   "cell_type": "code",
   "execution_count": null,
   "metadata": {
    "collapsed": true
   },
   "outputs": [],
   "source": []
  },
  {
   "cell_type": "code",
   "execution_count": null,
   "metadata": {
    "collapsed": true
   },
   "outputs": [],
   "source": []
  },
  {
   "cell_type": "code",
   "execution_count": null,
   "metadata": {
    "collapsed": true
   },
   "outputs": [],
   "source": []
  },
  {
   "cell_type": "code",
   "execution_count": null,
   "metadata": {
    "collapsed": true
   },
   "outputs": [],
   "source": []
  },
  {
   "cell_type": "code",
   "execution_count": null,
   "metadata": {
    "collapsed": true
   },
   "outputs": [],
   "source": []
  },
  {
   "cell_type": "code",
   "execution_count": null,
   "metadata": {
    "collapsed": true
   },
   "outputs": [],
   "source": []
  },
  {
   "cell_type": "code",
   "execution_count": null,
   "metadata": {
    "collapsed": true
   },
   "outputs": [],
   "source": []
  },
  {
   "cell_type": "code",
   "execution_count": null,
   "metadata": {
    "collapsed": true
   },
   "outputs": [],
   "source": []
  },
  {
   "cell_type": "code",
   "execution_count": null,
   "metadata": {
    "collapsed": false
   },
   "outputs": [],
   "source": []
  },
  {
   "cell_type": "code",
   "execution_count": null,
   "metadata": {
    "collapsed": true
   },
   "outputs": [],
   "source": []
  },
  {
   "cell_type": "code",
   "execution_count": null,
   "metadata": {
    "collapsed": true
   },
   "outputs": [],
   "source": []
  },
  {
   "cell_type": "code",
   "execution_count": null,
   "metadata": {
    "collapsed": true
   },
   "outputs": [],
   "source": []
  },
  {
   "cell_type": "code",
   "execution_count": null,
   "metadata": {
    "collapsed": true
   },
   "outputs": [],
   "source": []
  },
  {
   "cell_type": "code",
   "execution_count": null,
   "metadata": {
    "collapsed": true
   },
   "outputs": [],
   "source": []
  },
  {
   "cell_type": "code",
   "execution_count": null,
   "metadata": {
    "collapsed": true
   },
   "outputs": [],
   "source": []
  },
  {
   "cell_type": "code",
   "execution_count": null,
   "metadata": {
    "collapsed": true
   },
   "outputs": [],
   "source": []
  },
  {
   "cell_type": "code",
   "execution_count": null,
   "metadata": {
    "collapsed": true
   },
   "outputs": [],
   "source": []
  },
  {
   "cell_type": "code",
   "execution_count": null,
   "metadata": {
    "collapsed": true
   },
   "outputs": [],
   "source": []
  },
  {
   "cell_type": "code",
   "execution_count": null,
   "metadata": {
    "collapsed": true
   },
   "outputs": [],
   "source": []
  },
  {
   "cell_type": "code",
   "execution_count": null,
   "metadata": {
    "collapsed": true
   },
   "outputs": [],
   "source": []
  },
  {
   "cell_type": "code",
   "execution_count": null,
   "metadata": {
    "collapsed": true
   },
   "outputs": [],
   "source": []
  },
  {
   "cell_type": "code",
   "execution_count": null,
   "metadata": {
    "collapsed": true
   },
   "outputs": [],
   "source": []
  },
  {
   "cell_type": "code",
   "execution_count": null,
   "metadata": {
    "collapsed": true
   },
   "outputs": [],
   "source": []
  },
  {
   "cell_type": "code",
   "execution_count": null,
   "metadata": {
    "collapsed": true
   },
   "outputs": [],
   "source": []
  },
  {
   "cell_type": "code",
   "execution_count": null,
   "metadata": {
    "collapsed": true
   },
   "outputs": [],
   "source": []
  },
  {
   "cell_type": "code",
   "execution_count": null,
   "metadata": {
    "collapsed": true
   },
   "outputs": [],
   "source": []
  },
  {
   "cell_type": "code",
   "execution_count": null,
   "metadata": {
    "collapsed": true
   },
   "outputs": [],
   "source": []
  },
  {
   "cell_type": "code",
   "execution_count": null,
   "metadata": {
    "collapsed": true
   },
   "outputs": [],
   "source": []
  },
  {
   "cell_type": "code",
   "execution_count": null,
   "metadata": {
    "collapsed": true
   },
   "outputs": [],
   "source": []
  },
  {
   "cell_type": "code",
   "execution_count": null,
   "metadata": {
    "collapsed": true
   },
   "outputs": [],
   "source": []
  },
  {
   "cell_type": "code",
   "execution_count": null,
   "metadata": {
    "collapsed": true
   },
   "outputs": [],
   "source": []
  },
  {
   "cell_type": "code",
   "execution_count": null,
   "metadata": {
    "collapsed": true
   },
   "outputs": [],
   "source": []
  },
  {
   "cell_type": "code",
   "execution_count": null,
   "metadata": {
    "collapsed": true
   },
   "outputs": [],
   "source": []
  },
  {
   "cell_type": "code",
   "execution_count": null,
   "metadata": {
    "collapsed": true
   },
   "outputs": [],
   "source": []
  },
  {
   "cell_type": "code",
   "execution_count": null,
   "metadata": {
    "collapsed": true
   },
   "outputs": [],
   "source": []
  },
  {
   "cell_type": "code",
   "execution_count": null,
   "metadata": {
    "collapsed": true
   },
   "outputs": [],
   "source": []
  },
  {
   "cell_type": "code",
   "execution_count": null,
   "metadata": {
    "collapsed": true
   },
   "outputs": [],
   "source": []
  },
  {
   "cell_type": "code",
   "execution_count": null,
   "metadata": {
    "collapsed": true
   },
   "outputs": [],
   "source": []
  },
  {
   "cell_type": "code",
   "execution_count": null,
   "metadata": {
    "collapsed": true
   },
   "outputs": [],
   "source": []
  },
  {
   "cell_type": "code",
   "execution_count": null,
   "metadata": {
    "collapsed": true
   },
   "outputs": [],
   "source": []
  },
  {
   "cell_type": "code",
   "execution_count": null,
   "metadata": {
    "collapsed": true
   },
   "outputs": [],
   "source": []
  },
  {
   "cell_type": "code",
   "execution_count": null,
   "metadata": {
    "collapsed": true
   },
   "outputs": [],
   "source": []
  },
  {
   "cell_type": "code",
   "execution_count": null,
   "metadata": {
    "collapsed": true
   },
   "outputs": [],
   "source": []
  },
  {
   "cell_type": "code",
   "execution_count": null,
   "metadata": {
    "collapsed": true
   },
   "outputs": [],
   "source": []
  },
  {
   "cell_type": "code",
   "execution_count": null,
   "metadata": {
    "collapsed": true
   },
   "outputs": [],
   "source": []
  },
  {
   "cell_type": "code",
   "execution_count": null,
   "metadata": {
    "collapsed": true
   },
   "outputs": [],
   "source": []
  },
  {
   "cell_type": "code",
   "execution_count": null,
   "metadata": {
    "collapsed": true
   },
   "outputs": [],
   "source": []
  },
  {
   "cell_type": "code",
   "execution_count": null,
   "metadata": {
    "collapsed": true
   },
   "outputs": [],
   "source": []
  },
  {
   "cell_type": "code",
   "execution_count": null,
   "metadata": {
    "collapsed": true
   },
   "outputs": [],
   "source": []
  },
  {
   "cell_type": "code",
   "execution_count": null,
   "metadata": {
    "collapsed": true
   },
   "outputs": [],
   "source": []
  },
  {
   "cell_type": "code",
   "execution_count": null,
   "metadata": {
    "collapsed": true
   },
   "outputs": [],
   "source": []
  },
  {
   "cell_type": "code",
   "execution_count": null,
   "metadata": {
    "collapsed": true
   },
   "outputs": [],
   "source": []
  },
  {
   "cell_type": "code",
   "execution_count": null,
   "metadata": {
    "collapsed": true
   },
   "outputs": [],
   "source": []
  },
  {
   "cell_type": "code",
   "execution_count": null,
   "metadata": {
    "collapsed": true
   },
   "outputs": [],
   "source": []
  },
  {
   "cell_type": "code",
   "execution_count": null,
   "metadata": {
    "collapsed": true
   },
   "outputs": [],
   "source": []
  },
  {
   "cell_type": "code",
   "execution_count": null,
   "metadata": {
    "collapsed": true
   },
   "outputs": [],
   "source": []
  },
  {
   "cell_type": "code",
   "execution_count": null,
   "metadata": {
    "collapsed": true
   },
   "outputs": [],
   "source": []
  },
  {
   "cell_type": "code",
   "execution_count": null,
   "metadata": {
    "collapsed": true
   },
   "outputs": [],
   "source": []
  },
  {
   "cell_type": "code",
   "execution_count": null,
   "metadata": {
    "collapsed": true
   },
   "outputs": [],
   "source": []
  },
  {
   "cell_type": "code",
   "execution_count": null,
   "metadata": {
    "collapsed": true
   },
   "outputs": [],
   "source": []
  },
  {
   "cell_type": "code",
   "execution_count": null,
   "metadata": {
    "collapsed": true
   },
   "outputs": [],
   "source": []
  },
  {
   "cell_type": "code",
   "execution_count": null,
   "metadata": {
    "collapsed": false
   },
   "outputs": [],
   "source": []
  },
  {
   "cell_type": "code",
   "execution_count": null,
   "metadata": {
    "collapsed": true
   },
   "outputs": [],
   "source": []
  },
  {
   "cell_type": "code",
   "execution_count": null,
   "metadata": {
    "collapsed": true
   },
   "outputs": [],
   "source": []
  },
  {
   "cell_type": "code",
   "execution_count": null,
   "metadata": {
    "collapsed": true
   },
   "outputs": [],
   "source": []
  },
  {
   "cell_type": "code",
   "execution_count": null,
   "metadata": {
    "collapsed": true
   },
   "outputs": [],
   "source": []
  },
  {
   "cell_type": "code",
   "execution_count": null,
   "metadata": {
    "collapsed": true
   },
   "outputs": [],
   "source": []
  },
  {
   "cell_type": "code",
   "execution_count": null,
   "metadata": {
    "collapsed": true
   },
   "outputs": [],
   "source": []
  },
  {
   "cell_type": "code",
   "execution_count": null,
   "metadata": {
    "collapsed": true
   },
   "outputs": [],
   "source": []
  },
  {
   "cell_type": "code",
   "execution_count": null,
   "metadata": {
    "collapsed": true
   },
   "outputs": [],
   "source": []
  },
  {
   "cell_type": "code",
   "execution_count": null,
   "metadata": {
    "collapsed": true
   },
   "outputs": [],
   "source": []
  },
  {
   "cell_type": "code",
   "execution_count": null,
   "metadata": {
    "collapsed": true
   },
   "outputs": [],
   "source": []
  },
  {
   "cell_type": "code",
   "execution_count": null,
   "metadata": {
    "collapsed": false
   },
   "outputs": [],
   "source": []
  },
  {
   "cell_type": "code",
   "execution_count": null,
   "metadata": {
    "collapsed": true
   },
   "outputs": [],
   "source": []
  },
  {
   "cell_type": "code",
   "execution_count": null,
   "metadata": {
    "collapsed": true
   },
   "outputs": [],
   "source": []
  },
  {
   "cell_type": "code",
   "execution_count": null,
   "metadata": {
    "collapsed": true
   },
   "outputs": [],
   "source": []
  },
  {
   "cell_type": "code",
   "execution_count": null,
   "metadata": {
    "collapsed": true
   },
   "outputs": [],
   "source": []
  },
  {
   "cell_type": "code",
   "execution_count": null,
   "metadata": {
    "collapsed": true
   },
   "outputs": [],
   "source": []
  },
  {
   "cell_type": "code",
   "execution_count": null,
   "metadata": {
    "collapsed": true
   },
   "outputs": [],
   "source": []
  },
  {
   "cell_type": "code",
   "execution_count": null,
   "metadata": {
    "collapsed": true
   },
   "outputs": [],
   "source": []
  },
  {
   "cell_type": "code",
   "execution_count": null,
   "metadata": {
    "collapsed": true
   },
   "outputs": [],
   "source": []
  },
  {
   "cell_type": "code",
   "execution_count": null,
   "metadata": {
    "collapsed": true
   },
   "outputs": [],
   "source": []
  },
  {
   "cell_type": "code",
   "execution_count": null,
   "metadata": {
    "collapsed": true
   },
   "outputs": [],
   "source": []
  },
  {
   "cell_type": "code",
   "execution_count": null,
   "metadata": {
    "collapsed": true
   },
   "outputs": [],
   "source": []
  },
  {
   "cell_type": "code",
   "execution_count": null,
   "metadata": {
    "collapsed": true
   },
   "outputs": [],
   "source": []
  },
  {
   "cell_type": "code",
   "execution_count": null,
   "metadata": {
    "collapsed": true
   },
   "outputs": [],
   "source": []
  },
  {
   "cell_type": "code",
   "execution_count": null,
   "metadata": {
    "collapsed": true
   },
   "outputs": [],
   "source": []
  },
  {
   "cell_type": "code",
   "execution_count": null,
   "metadata": {
    "collapsed": true
   },
   "outputs": [],
   "source": []
  },
  {
   "cell_type": "code",
   "execution_count": null,
   "metadata": {
    "collapsed": true
   },
   "outputs": [],
   "source": []
  },
  {
   "cell_type": "code",
   "execution_count": null,
   "metadata": {
    "collapsed": true
   },
   "outputs": [],
   "source": []
  },
  {
   "cell_type": "code",
   "execution_count": null,
   "metadata": {
    "collapsed": true
   },
   "outputs": [],
   "source": []
  },
  {
   "cell_type": "code",
   "execution_count": null,
   "metadata": {
    "collapsed": true
   },
   "outputs": [],
   "source": []
  },
  {
   "cell_type": "code",
   "execution_count": null,
   "metadata": {
    "collapsed": true
   },
   "outputs": [],
   "source": []
  },
  {
   "cell_type": "code",
   "execution_count": null,
   "metadata": {
    "collapsed": true
   },
   "outputs": [],
   "source": []
  },
  {
   "cell_type": "code",
   "execution_count": null,
   "metadata": {
    "collapsed": true
   },
   "outputs": [],
   "source": []
  },
  {
   "cell_type": "code",
   "execution_count": null,
   "metadata": {
    "collapsed": true
   },
   "outputs": [],
   "source": []
  },
  {
   "cell_type": "code",
   "execution_count": null,
   "metadata": {
    "collapsed": true
   },
   "outputs": [],
   "source": []
  },
  {
   "cell_type": "code",
   "execution_count": null,
   "metadata": {
    "collapsed": true
   },
   "outputs": [],
   "source": []
  }
 ],
 "metadata": {
  "kernelspec": {
   "display_name": "Python 3",
   "language": "python",
   "name": "python3"
  },
  "language_info": {
   "codemirror_mode": {
    "name": "ipython",
    "version": 3
   },
   "file_extension": ".py",
   "mimetype": "text/x-python",
   "name": "python",
   "nbconvert_exporter": "python",
   "pygments_lexer": "ipython3",
   "version": "3.6.3"
  }
 },
 "nbformat": 4,
 "nbformat_minor": 2
}
