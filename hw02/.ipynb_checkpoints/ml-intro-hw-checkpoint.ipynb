{
 "cells": [
  {
   "cell_type": "markdown",
   "metadata": {},
   "source": [
    "# SkillFactory\n",
    "## Введение в ML, введение в sklearn"
   ]
  },
  {
   "cell_type": "markdown",
   "metadata": {},
   "source": [
    "В этом задании мы с вами рассмотрим данные с конкурса [Задача предсказания отклика клиентов ОТП Банка](http://www.machinelearning.ru/wiki/index.php?title=%D0%97%D0%B0%D0%B4%D0%B0%D1%87%D0%B0_%D0%BF%D1%80%D0%B5%D0%B4%D1%81%D0%BA%D0%B0%D0%B7%D0%B0%D0%BD%D0%B8%D1%8F_%D0%BE%D1%82%D0%BA%D0%BB%D0%B8%D0%BA%D0%B0_%D0%BA%D0%BB%D0%B8%D0%B5%D0%BD%D1%82%D0%BE%D0%B2_%D0%9E%D0%A2%D0%9F_%D0%91%D0%B0%D0%BD%D0%BA%D0%B0_%28%D0%BA%D0%BE%D0%BD%D0%BA%D1%83%D1%80%D1%81%29)"
   ]
  },
  {
   "cell_type": "code",
   "execution_count": 1225,
   "metadata": {
    "collapsed": true
   },
   "outputs": [],
   "source": [
    "import pandas as pd\n",
    "import numpy as np\n",
    "import matplotlib.pyplot as plt\n",
    "\n",
    "%matplotlib inline\n",
    "\n",
    "plt.style.use('ggplot')\n",
    "plt.rcParams['figure.figsize'] = (12,5)"
   ]
  },
  {
   "cell_type": "markdown",
   "metadata": {},
   "source": [
    "### Грузим данные"
   ]
  },
  {
   "cell_type": "markdown",
   "metadata": {},
   "source": [
    "Считаем описание данных"
   ]
  },
  {
   "cell_type": "code",
   "execution_count": 1226,
   "metadata": {
    "collapsed": true
   },
   "outputs": [],
   "source": [
    "\n",
    "df_descr = pd.read_csv('data/otp_description.csv', sep='\\t', encoding='utf8')"
   ]
  },
  {
   "cell_type": "code",
   "execution_count": 1227,
   "metadata": {
    "collapsed": false
   },
   "outputs": [
    {
     "data": {
      "text/html": [
       "<div>\n",
       "<style scoped>\n",
       "    .dataframe tbody tr th:only-of-type {\n",
       "        vertical-align: middle;\n",
       "    }\n",
       "\n",
       "    .dataframe tbody tr th {\n",
       "        vertical-align: top;\n",
       "    }\n",
       "\n",
       "    .dataframe thead th {\n",
       "        text-align: right;\n",
       "    }\n",
       "</style>\n",
       "<table border=\"1\" class=\"dataframe\">\n",
       "  <thead>\n",
       "    <tr style=\"text-align: right;\">\n",
       "      <th></th>\n",
       "      <th>ПОЛЕ</th>\n",
       "      <th>ОПИСАНИЕ</th>\n",
       "    </tr>\n",
       "  </thead>\n",
       "  <tbody>\n",
       "    <tr>\n",
       "      <th>0</th>\n",
       "      <td>AGREEMENT_RK</td>\n",
       "      <td>уникальный идентификатор объекта в выборке</td>\n",
       "    </tr>\n",
       "    <tr>\n",
       "      <th>1</th>\n",
       "      <td>AGE</td>\n",
       "      <td>возраст клиента</td>\n",
       "    </tr>\n",
       "    <tr>\n",
       "      <th>2</th>\n",
       "      <td>SOCSTATUS_WORK_FL</td>\n",
       "      <td>социальный статус клиента относительно работы ...</td>\n",
       "    </tr>\n",
       "    <tr>\n",
       "      <th>3</th>\n",
       "      <td>SOCSTATUS_PENS_FL</td>\n",
       "      <td>социальный статус клиента относительно пенсии ...</td>\n",
       "    </tr>\n",
       "    <tr>\n",
       "      <th>4</th>\n",
       "      <td>GENDER</td>\n",
       "      <td>пол клиента (1- женщины, 0-мужчины)</td>\n",
       "    </tr>\n",
       "    <tr>\n",
       "      <th>5</th>\n",
       "      <td>CHILD_TOTAL</td>\n",
       "      <td>количество детей клиента</td>\n",
       "    </tr>\n",
       "    <tr>\n",
       "      <th>6</th>\n",
       "      <td>DEPENDANTS</td>\n",
       "      <td>количество иждивенцев клиента</td>\n",
       "    </tr>\n",
       "    <tr>\n",
       "      <th>7</th>\n",
       "      <td>EDUCATION</td>\n",
       "      <td>образование</td>\n",
       "    </tr>\n",
       "    <tr>\n",
       "      <th>8</th>\n",
       "      <td>MARITAL_STATUS</td>\n",
       "      <td>семейное положение</td>\n",
       "    </tr>\n",
       "    <tr>\n",
       "      <th>9</th>\n",
       "      <td>GEN_INDUSTRY</td>\n",
       "      <td>отрасль работы клиента</td>\n",
       "    </tr>\n",
       "    <tr>\n",
       "      <th>10</th>\n",
       "      <td>GEN_TITLE</td>\n",
       "      <td>должность</td>\n",
       "    </tr>\n",
       "    <tr>\n",
       "      <th>11</th>\n",
       "      <td>ORG_TP_STATE</td>\n",
       "      <td>форма собственности компании</td>\n",
       "    </tr>\n",
       "    <tr>\n",
       "      <th>12</th>\n",
       "      <td>ORG_TP_FCAPITAL</td>\n",
       "      <td>отношение к иностранному капиталу</td>\n",
       "    </tr>\n",
       "    <tr>\n",
       "      <th>13</th>\n",
       "      <td>JOB_DIR</td>\n",
       "      <td>направление деятельности в нутри компании</td>\n",
       "    </tr>\n",
       "    <tr>\n",
       "      <th>14</th>\n",
       "      <td>FAMILY_INCOME</td>\n",
       "      <td>семейный доход (несколько категорий)</td>\n",
       "    </tr>\n",
       "    <tr>\n",
       "      <th>15</th>\n",
       "      <td>PERSONAL_INCOME</td>\n",
       "      <td>личный доход клиента (в рублях)</td>\n",
       "    </tr>\n",
       "    <tr>\n",
       "      <th>16</th>\n",
       "      <td>REG_ADDRESS_PROVINCE</td>\n",
       "      <td>область регистрации клиента</td>\n",
       "    </tr>\n",
       "    <tr>\n",
       "      <th>17</th>\n",
       "      <td>FACT_ADDRESS_PROVINCE</td>\n",
       "      <td>область фактического пребывания клиента</td>\n",
       "    </tr>\n",
       "    <tr>\n",
       "      <th>18</th>\n",
       "      <td>POSTAL_ADDRESS_PROVINCE</td>\n",
       "      <td>почтовый адрес область</td>\n",
       "    </tr>\n",
       "    <tr>\n",
       "      <th>19</th>\n",
       "      <td>TP_PROVINCE</td>\n",
       "      <td>область торговой точки, где клиент брал послед...</td>\n",
       "    </tr>\n",
       "    <tr>\n",
       "      <th>20</th>\n",
       "      <td>REGION_NM</td>\n",
       "      <td>регион РФ</td>\n",
       "    </tr>\n",
       "    <tr>\n",
       "      <th>21</th>\n",
       "      <td>REG_FACT_FL</td>\n",
       "      <td>адрес регистрации и адрес фактического пребыва...</td>\n",
       "    </tr>\n",
       "    <tr>\n",
       "      <th>22</th>\n",
       "      <td>FACT_POST_FL</td>\n",
       "      <td>адрес фактического пребывания клиента и его по...</td>\n",
       "    </tr>\n",
       "    <tr>\n",
       "      <th>23</th>\n",
       "      <td>REG_POST_FL</td>\n",
       "      <td>адрес регистрации клиента и его почтовый адрес...</td>\n",
       "    </tr>\n",
       "    <tr>\n",
       "      <th>24</th>\n",
       "      <td>REG_FACT_POST_FL</td>\n",
       "      <td>почтовый, фактический и адрес регистрации совп...</td>\n",
       "    </tr>\n",
       "    <tr>\n",
       "      <th>25</th>\n",
       "      <td>REG_FACT_POST_TP_FL</td>\n",
       "      <td>область регистрации, фактического пребывания, ...</td>\n",
       "    </tr>\n",
       "    <tr>\n",
       "      <th>26</th>\n",
       "      <td>FL_PRESENCE_FL</td>\n",
       "      <td>наличие в собственности квартиры (1 - есть, 0 ...</td>\n",
       "    </tr>\n",
       "    <tr>\n",
       "      <th>27</th>\n",
       "      <td>OWN_AUTO</td>\n",
       "      <td>кол-во автомобилей в собственности</td>\n",
       "    </tr>\n",
       "    <tr>\n",
       "      <th>28</th>\n",
       "      <td>AUTO_RUS_FL</td>\n",
       "      <td>наличие в собственности автомобиля российского...</td>\n",
       "    </tr>\n",
       "    <tr>\n",
       "      <th>29</th>\n",
       "      <td>HS_PRESENCE_FL</td>\n",
       "      <td>наличие в собственности загородного дома (1 - ...</td>\n",
       "    </tr>\n",
       "    <tr>\n",
       "      <th>30</th>\n",
       "      <td>COT_PRESENCE_FL</td>\n",
       "      <td>наличие в собственности котеджа (1 - есть, 0 -...</td>\n",
       "    </tr>\n",
       "    <tr>\n",
       "      <th>31</th>\n",
       "      <td>GAR_PRESENCE_FL</td>\n",
       "      <td>наличие в собственности гаража (1 - есть, 0 - ...</td>\n",
       "    </tr>\n",
       "    <tr>\n",
       "      <th>32</th>\n",
       "      <td>LAND_PRESENCE_FL</td>\n",
       "      <td>наличие в собственности земельного участка (1 ...</td>\n",
       "    </tr>\n",
       "    <tr>\n",
       "      <th>33</th>\n",
       "      <td>CREDIT</td>\n",
       "      <td>сумма последнего кредита клиента (в рублях)</td>\n",
       "    </tr>\n",
       "    <tr>\n",
       "      <th>34</th>\n",
       "      <td>TERM</td>\n",
       "      <td>срок кредита</td>\n",
       "    </tr>\n",
       "    <tr>\n",
       "      <th>35</th>\n",
       "      <td>FST_PAYMENT</td>\n",
       "      <td>первоначальный взнос (в рублях)</td>\n",
       "    </tr>\n",
       "    <tr>\n",
       "      <th>36</th>\n",
       "      <td>DL_DOCUMENT_FL</td>\n",
       "      <td>в анкете клиент указал водительское удостовере...</td>\n",
       "    </tr>\n",
       "    <tr>\n",
       "      <th>37</th>\n",
       "      <td>GPF_DOCUMENT_FL</td>\n",
       "      <td>в анкете клиен указал ГПФ (1 - указал, 0 - не ...</td>\n",
       "    </tr>\n",
       "    <tr>\n",
       "      <th>38</th>\n",
       "      <td>FACT_LIVING_TERM</td>\n",
       "      <td>количество месяцев проживания по месту фактиче...</td>\n",
       "    </tr>\n",
       "    <tr>\n",
       "      <th>39</th>\n",
       "      <td>WORK_TIME</td>\n",
       "      <td>время работы на текущем месте (в месяцах)</td>\n",
       "    </tr>\n",
       "    <tr>\n",
       "      <th>40</th>\n",
       "      <td>FACT_PHONE_FL</td>\n",
       "      <td>наличие в заявке телефона по фактическому мест...</td>\n",
       "    </tr>\n",
       "    <tr>\n",
       "      <th>41</th>\n",
       "      <td>REG_PHONE_FL</td>\n",
       "      <td>наличие в заявке телефона по месту регистрации</td>\n",
       "    </tr>\n",
       "    <tr>\n",
       "      <th>42</th>\n",
       "      <td>GEN_PHONE_FL</td>\n",
       "      <td>наличие в заявке рабочего телефона</td>\n",
       "    </tr>\n",
       "    <tr>\n",
       "      <th>43</th>\n",
       "      <td>LOAN_NUM_TOTAL</td>\n",
       "      <td>количество ссуд клиента</td>\n",
       "    </tr>\n",
       "    <tr>\n",
       "      <th>44</th>\n",
       "      <td>LOAN_NUM_CLOSED</td>\n",
       "      <td>количество погашенных ссуд клиента</td>\n",
       "    </tr>\n",
       "    <tr>\n",
       "      <th>45</th>\n",
       "      <td>LOAN_NUM_PAYM</td>\n",
       "      <td>количество платежей, которые сделал клиент</td>\n",
       "    </tr>\n",
       "    <tr>\n",
       "      <th>46</th>\n",
       "      <td>LOAN_DLQ_NUM</td>\n",
       "      <td>количество просрочек, допущенных клиентом</td>\n",
       "    </tr>\n",
       "    <tr>\n",
       "      <th>47</th>\n",
       "      <td>LOAN_MAX_DLQ</td>\n",
       "      <td>номер максимальной просрочки, допущенной клиентом</td>\n",
       "    </tr>\n",
       "    <tr>\n",
       "      <th>48</th>\n",
       "      <td>LOAN_AVG_DLQ_AMT</td>\n",
       "      <td>средняя сумма просрочки (в рублях)</td>\n",
       "    </tr>\n",
       "    <tr>\n",
       "      <th>49</th>\n",
       "      <td>LOAN_MAX_DLQ_AMT</td>\n",
       "      <td>максимальная сумма просрочки (в рублях)</td>\n",
       "    </tr>\n",
       "    <tr>\n",
       "      <th>50</th>\n",
       "      <td>PREVIOUS_CARD_NUM_UTILIZED</td>\n",
       "      <td>количество уже утилизированных карт ( если пус...</td>\n",
       "    </tr>\n",
       "  </tbody>\n",
       "</table>\n",
       "</div>"
      ],
      "text/plain": [
       "                          ПОЛЕ  \\\n",
       "0                 AGREEMENT_RK   \n",
       "1                          AGE   \n",
       "2            SOCSTATUS_WORK_FL   \n",
       "3            SOCSTATUS_PENS_FL   \n",
       "4                       GENDER   \n",
       "5                  CHILD_TOTAL   \n",
       "6                   DEPENDANTS   \n",
       "7                    EDUCATION   \n",
       "8               MARITAL_STATUS   \n",
       "9                 GEN_INDUSTRY   \n",
       "10                   GEN_TITLE   \n",
       "11                ORG_TP_STATE   \n",
       "12             ORG_TP_FCAPITAL   \n",
       "13                     JOB_DIR   \n",
       "14               FAMILY_INCOME   \n",
       "15             PERSONAL_INCOME   \n",
       "16        REG_ADDRESS_PROVINCE   \n",
       "17       FACT_ADDRESS_PROVINCE   \n",
       "18     POSTAL_ADDRESS_PROVINCE   \n",
       "19                 TP_PROVINCE   \n",
       "20                   REGION_NM   \n",
       "21                 REG_FACT_FL   \n",
       "22                FACT_POST_FL   \n",
       "23                 REG_POST_FL   \n",
       "24            REG_FACT_POST_FL   \n",
       "25         REG_FACT_POST_TP_FL   \n",
       "26              FL_PRESENCE_FL   \n",
       "27                    OWN_AUTO   \n",
       "28                 AUTO_RUS_FL   \n",
       "29              HS_PRESENCE_FL   \n",
       "30             COT_PRESENCE_FL   \n",
       "31             GAR_PRESENCE_FL   \n",
       "32            LAND_PRESENCE_FL   \n",
       "33                      CREDIT   \n",
       "34                        TERM   \n",
       "35                 FST_PAYMENT   \n",
       "36              DL_DOCUMENT_FL   \n",
       "37             GPF_DOCUMENT_FL   \n",
       "38            FACT_LIVING_TERM   \n",
       "39                   WORK_TIME   \n",
       "40               FACT_PHONE_FL   \n",
       "41                REG_PHONE_FL   \n",
       "42                GEN_PHONE_FL   \n",
       "43              LOAN_NUM_TOTAL   \n",
       "44             LOAN_NUM_CLOSED   \n",
       "45               LOAN_NUM_PAYM   \n",
       "46                LOAN_DLQ_NUM   \n",
       "47                LOAN_MAX_DLQ   \n",
       "48            LOAN_AVG_DLQ_AMT   \n",
       "49            LOAN_MAX_DLQ_AMT   \n",
       "50  PREVIOUS_CARD_NUM_UTILIZED   \n",
       "\n",
       "                                             ОПИСАНИЕ  \n",
       "0          уникальный идентификатор объекта в выборке  \n",
       "1                                     возраст клиента  \n",
       "2   социальный статус клиента относительно работы ...  \n",
       "3   социальный статус клиента относительно пенсии ...  \n",
       "4                 пол клиента (1- женщины, 0-мужчины)  \n",
       "5                            количество детей клиента  \n",
       "6                       количество иждивенцев клиента  \n",
       "7                                         образование  \n",
       "8                                  семейное положение  \n",
       "9                              отрасль работы клиента  \n",
       "10                                          должность  \n",
       "11                       форма собственности компании  \n",
       "12                  отношение к иностранному капиталу  \n",
       "13          направление деятельности в нутри компании  \n",
       "14               семейный доход (несколько категорий)  \n",
       "15                    личный доход клиента (в рублях)  \n",
       "16                        область регистрации клиента  \n",
       "17            область фактического пребывания клиента  \n",
       "18                             почтовый адрес область  \n",
       "19  область торговой точки, где клиент брал послед...  \n",
       "20                                          регион РФ  \n",
       "21  адрес регистрации и адрес фактического пребыва...  \n",
       "22  адрес фактического пребывания клиента и его по...  \n",
       "23  адрес регистрации клиента и его почтовый адрес...  \n",
       "24  почтовый, фактический и адрес регистрации совп...  \n",
       "25  область регистрации, фактического пребывания, ...  \n",
       "26  наличие в собственности квартиры (1 - есть, 0 ...  \n",
       "27                кол-во автомобилей в собственности   \n",
       "28  наличие в собственности автомобиля российского...  \n",
       "29  наличие в собственности загородного дома (1 - ...  \n",
       "30  наличие в собственности котеджа (1 - есть, 0 -...  \n",
       "31  наличие в собственности гаража (1 - есть, 0 - ...  \n",
       "32  наличие в собственности земельного участка (1 ...  \n",
       "33        сумма последнего кредита клиента (в рублях)  \n",
       "34                                       срок кредита  \n",
       "35                    первоначальный взнос (в рублях)  \n",
       "36  в анкете клиент указал водительское удостовере...  \n",
       "37  в анкете клиен указал ГПФ (1 - указал, 0 - не ...  \n",
       "38  количество месяцев проживания по месту фактиче...  \n",
       "39          время работы на текущем месте (в месяцах)  \n",
       "40  наличие в заявке телефона по фактическому мест...  \n",
       "41     наличие в заявке телефона по месту регистрации  \n",
       "42                 наличие в заявке рабочего телефона  \n",
       "43                            количество ссуд клиента  \n",
       "44                 количество погашенных ссуд клиента  \n",
       "45         количество платежей, которые сделал клиент  \n",
       "46          количество просрочек, допущенных клиентом  \n",
       "47  номер максимальной просрочки, допущенной клиентом  \n",
       "48                 средняя сумма просрочки (в рублях)  \n",
       "49            максимальная сумма просрочки (в рублях)  \n",
       "50  количество уже утилизированных карт ( если пус...  "
      ]
     },
     "execution_count": 1227,
     "metadata": {},
     "output_type": "execute_result"
    }
   ],
   "source": [
    "df_descr"
   ]
  },
  {
   "cell_type": "markdown",
   "metadata": {},
   "source": [
    "Считаем обучающую выборки и тестовую (которую мы как бы не видим)"
   ]
  },
  {
   "cell_type": "code",
   "execution_count": 1228,
   "metadata": {
    "collapsed": true
   },
   "outputs": [],
   "source": [
    "df_train = pd.read_csv('data/otp_train.csv', sep='\\t', encoding='utf8')"
   ]
  },
  {
   "cell_type": "code",
   "execution_count": 1229,
   "metadata": {
    "collapsed": false
   },
   "outputs": [
    {
     "data": {
      "text/plain": [
       "(15223, 52)"
      ]
     },
     "execution_count": 1229,
     "metadata": {},
     "output_type": "execute_result"
    }
   ],
   "source": [
    "df_train.shape"
   ]
  },
  {
   "cell_type": "code",
   "execution_count": 1230,
   "metadata": {
    "collapsed": true
   },
   "outputs": [],
   "source": [
    "df_test = pd.read_csv('data/otp_test.csv', sep='\\t', encoding='utf8')"
   ]
  },
  {
   "cell_type": "code",
   "execution_count": 1231,
   "metadata": {
    "collapsed": false
   },
   "outputs": [
    {
     "data": {
      "text/plain": [
       "(14910, 52)"
      ]
     },
     "execution_count": 1231,
     "metadata": {},
     "output_type": "execute_result"
    }
   ],
   "source": [
    "df_test.shape"
   ]
  },
  {
   "cell_type": "code",
   "execution_count": 1232,
   "metadata": {
    "collapsed": false
   },
   "outputs": [
    {
     "data": {
      "text/html": [
       "<div>\n",
       "<style scoped>\n",
       "    .dataframe tbody tr th:only-of-type {\n",
       "        vertical-align: middle;\n",
       "    }\n",
       "\n",
       "    .dataframe tbody tr th {\n",
       "        vertical-align: top;\n",
       "    }\n",
       "\n",
       "    .dataframe thead th {\n",
       "        text-align: right;\n",
       "    }\n",
       "</style>\n",
       "<table border=\"1\" class=\"dataframe\">\n",
       "  <thead>\n",
       "    <tr style=\"text-align: right;\">\n",
       "      <th></th>\n",
       "      <th>AGREEMENT_RK</th>\n",
       "      <th>TARGET</th>\n",
       "      <th>AGE</th>\n",
       "      <th>SOCSTATUS_WORK_FL</th>\n",
       "      <th>SOCSTATUS_PENS_FL</th>\n",
       "      <th>GENDER</th>\n",
       "      <th>CHILD_TOTAL</th>\n",
       "      <th>DEPENDANTS</th>\n",
       "      <th>EDUCATION</th>\n",
       "      <th>MARITAL_STATUS</th>\n",
       "      <th>...</th>\n",
       "      <th>REG_PHONE_FL</th>\n",
       "      <th>GEN_PHONE_FL</th>\n",
       "      <th>LOAN_NUM_TOTAL</th>\n",
       "      <th>LOAN_NUM_CLOSED</th>\n",
       "      <th>LOAN_NUM_PAYM</th>\n",
       "      <th>LOAN_DLQ_NUM</th>\n",
       "      <th>LOAN_MAX_DLQ</th>\n",
       "      <th>LOAN_AVG_DLQ_AMT</th>\n",
       "      <th>LOAN_MAX_DLQ_AMT</th>\n",
       "      <th>PREVIOUS_CARD_NUM_UTILIZED</th>\n",
       "    </tr>\n",
       "  </thead>\n",
       "  <tbody>\n",
       "    <tr>\n",
       "      <th>0</th>\n",
       "      <td>59910150</td>\n",
       "      <td>0</td>\n",
       "      <td>49</td>\n",
       "      <td>1</td>\n",
       "      <td>0</td>\n",
       "      <td>1</td>\n",
       "      <td>2</td>\n",
       "      <td>1</td>\n",
       "      <td>Среднее специальное</td>\n",
       "      <td>Состою в браке</td>\n",
       "      <td>...</td>\n",
       "      <td>0</td>\n",
       "      <td>1</td>\n",
       "      <td>1</td>\n",
       "      <td>1</td>\n",
       "      <td>6</td>\n",
       "      <td>2</td>\n",
       "      <td>1</td>\n",
       "      <td>1580</td>\n",
       "      <td>1580</td>\n",
       "      <td>NaN</td>\n",
       "    </tr>\n",
       "    <tr>\n",
       "      <th>1</th>\n",
       "      <td>59910230</td>\n",
       "      <td>0</td>\n",
       "      <td>32</td>\n",
       "      <td>1</td>\n",
       "      <td>0</td>\n",
       "      <td>1</td>\n",
       "      <td>3</td>\n",
       "      <td>3</td>\n",
       "      <td>Среднее</td>\n",
       "      <td>Состою в браке</td>\n",
       "      <td>...</td>\n",
       "      <td>0</td>\n",
       "      <td>1</td>\n",
       "      <td>1</td>\n",
       "      <td>1</td>\n",
       "      <td>6</td>\n",
       "      <td>1</td>\n",
       "      <td>1</td>\n",
       "      <td>4020</td>\n",
       "      <td>4020</td>\n",
       "      <td>NaN</td>\n",
       "    </tr>\n",
       "    <tr>\n",
       "      <th>2</th>\n",
       "      <td>59910525</td>\n",
       "      <td>0</td>\n",
       "      <td>52</td>\n",
       "      <td>1</td>\n",
       "      <td>0</td>\n",
       "      <td>1</td>\n",
       "      <td>4</td>\n",
       "      <td>0</td>\n",
       "      <td>Неполное среднее</td>\n",
       "      <td>Состою в браке</td>\n",
       "      <td>...</td>\n",
       "      <td>0</td>\n",
       "      <td>1</td>\n",
       "      <td>2</td>\n",
       "      <td>1</td>\n",
       "      <td>11</td>\n",
       "      <td>0</td>\n",
       "      <td>0</td>\n",
       "      <td>0</td>\n",
       "      <td>0</td>\n",
       "      <td>NaN</td>\n",
       "    </tr>\n",
       "    <tr>\n",
       "      <th>3</th>\n",
       "      <td>59910803</td>\n",
       "      <td>0</td>\n",
       "      <td>39</td>\n",
       "      <td>1</td>\n",
       "      <td>0</td>\n",
       "      <td>1</td>\n",
       "      <td>1</td>\n",
       "      <td>1</td>\n",
       "      <td>Высшее</td>\n",
       "      <td>Состою в браке</td>\n",
       "      <td>...</td>\n",
       "      <td>1</td>\n",
       "      <td>1</td>\n",
       "      <td>1</td>\n",
       "      <td>1</td>\n",
       "      <td>6</td>\n",
       "      <td>3</td>\n",
       "      <td>1</td>\n",
       "      <td>1589,92333333333</td>\n",
       "      <td>1590</td>\n",
       "      <td>NaN</td>\n",
       "    </tr>\n",
       "    <tr>\n",
       "      <th>4</th>\n",
       "      <td>59911781</td>\n",
       "      <td>0</td>\n",
       "      <td>30</td>\n",
       "      <td>1</td>\n",
       "      <td>0</td>\n",
       "      <td>0</td>\n",
       "      <td>0</td>\n",
       "      <td>0</td>\n",
       "      <td>Среднее</td>\n",
       "      <td>Состою в браке</td>\n",
       "      <td>...</td>\n",
       "      <td>0</td>\n",
       "      <td>1</td>\n",
       "      <td>2</td>\n",
       "      <td>1</td>\n",
       "      <td>16</td>\n",
       "      <td>2</td>\n",
       "      <td>1</td>\n",
       "      <td>1152,15</td>\n",
       "      <td>2230</td>\n",
       "      <td>NaN</td>\n",
       "    </tr>\n",
       "  </tbody>\n",
       "</table>\n",
       "<p>5 rows × 52 columns</p>\n",
       "</div>"
      ],
      "text/plain": [
       "   AGREEMENT_RK  TARGET  AGE  SOCSTATUS_WORK_FL  SOCSTATUS_PENS_FL  GENDER  \\\n",
       "0      59910150       0   49                  1                  0       1   \n",
       "1      59910230       0   32                  1                  0       1   \n",
       "2      59910525       0   52                  1                  0       1   \n",
       "3      59910803       0   39                  1                  0       1   \n",
       "4      59911781       0   30                  1                  0       0   \n",
       "\n",
       "   CHILD_TOTAL  DEPENDANTS            EDUCATION  MARITAL_STATUS  \\\n",
       "0            2           1  Среднее специальное  Состою в браке   \n",
       "1            3           3              Среднее  Состою в браке   \n",
       "2            4           0     Неполное среднее  Состою в браке   \n",
       "3            1           1               Высшее  Состою в браке   \n",
       "4            0           0              Среднее  Состою в браке   \n",
       "\n",
       "             ...             REG_PHONE_FL GEN_PHONE_FL LOAN_NUM_TOTAL  \\\n",
       "0            ...                        0            1              1   \n",
       "1            ...                        0            1              1   \n",
       "2            ...                        0            1              2   \n",
       "3            ...                        1            1              1   \n",
       "4            ...                        0            1              2   \n",
       "\n",
       "  LOAN_NUM_CLOSED LOAN_NUM_PAYM LOAN_DLQ_NUM LOAN_MAX_DLQ  LOAN_AVG_DLQ_AMT  \\\n",
       "0               1             6            2            1              1580   \n",
       "1               1             6            1            1              4020   \n",
       "2               1            11            0            0                 0   \n",
       "3               1             6            3            1  1589,92333333333   \n",
       "4               1            16            2            1           1152,15   \n",
       "\n",
       "  LOAN_MAX_DLQ_AMT PREVIOUS_CARD_NUM_UTILIZED  \n",
       "0             1580                        NaN  \n",
       "1             4020                        NaN  \n",
       "2                0                        NaN  \n",
       "3             1590                        NaN  \n",
       "4             2230                        NaN  \n",
       "\n",
       "[5 rows x 52 columns]"
      ]
     },
     "execution_count": 1232,
     "metadata": {},
     "output_type": "execute_result"
    }
   ],
   "source": [
    "df_train.head()"
   ]
  },
  {
   "cell_type": "markdown",
   "metadata": {},
   "source": [
    "## Объединим две выборки\n",
    "\n",
    "Так как пока мы пока не умеем работать sklearn  Pipeline, то для того, чтобы после предобработки столбцы в двух выборках находились на своих местах.\n",
    "\n",
    "Для того, чтобы в дальнейшем отделить их введем новый столбец \"sample\""
   ]
  },
  {
   "cell_type": "code",
   "execution_count": 1233,
   "metadata": {
    "collapsed": true
   },
   "outputs": [],
   "source": [
    "df_train.loc[:, 'sample'] = 'train'\n",
    "df_test.loc[:, 'sample'] = 'test'"
   ]
  },
  {
   "cell_type": "code",
   "execution_count": 1234,
   "metadata": {
    "collapsed": true
   },
   "outputs": [],
   "source": [
    "df = df_test.append(df_train).reset_index(drop=True)"
   ]
  },
  {
   "cell_type": "code",
   "execution_count": 1235,
   "metadata": {
    "collapsed": false
   },
   "outputs": [
    {
     "data": {
      "text/plain": [
       "(30133, 53)"
      ]
     },
     "execution_count": 1235,
     "metadata": {},
     "output_type": "execute_result"
    }
   ],
   "source": [
    "df.shape"
   ]
  },
  {
   "cell_type": "markdown",
   "metadata": {},
   "source": [
    "### Чуть-чуть посмотрим на данные"
   ]
  },
  {
   "cell_type": "markdown",
   "metadata": {
    "collapsed": true
   },
   "source": [
    "Посмотрим типы данных и их заполняемость"
   ]
  },
  {
   "cell_type": "code",
   "execution_count": 1236,
   "metadata": {
    "collapsed": false,
    "scrolled": false
   },
   "outputs": [
    {
     "name": "stdout",
     "output_type": "stream",
     "text": [
      "<class 'pandas.core.frame.DataFrame'>\n",
      "RangeIndex: 30133 entries, 0 to 30132\n",
      "Data columns (total 53 columns):\n",
      "AGREEMENT_RK                  30133 non-null int64\n",
      "TARGET                        30133 non-null int64\n",
      "AGE                           30133 non-null int64\n",
      "SOCSTATUS_WORK_FL             30133 non-null int64\n",
      "SOCSTATUS_PENS_FL             30133 non-null int64\n",
      "GENDER                        30133 non-null int64\n",
      "CHILD_TOTAL                   30133 non-null int64\n",
      "DEPENDANTS                    30133 non-null int64\n",
      "EDUCATION                     30133 non-null object\n",
      "MARITAL_STATUS                30133 non-null object\n",
      "GEN_INDUSTRY                  27420 non-null object\n",
      "GEN_TITLE                     27420 non-null object\n",
      "ORG_TP_STATE                  27420 non-null object\n",
      "ORG_TP_FCAPITAL               27425 non-null object\n",
      "JOB_DIR                       27420 non-null object\n",
      "FAMILY_INCOME                 30133 non-null object\n",
      "PERSONAL_INCOME               30133 non-null object\n",
      "REG_ADDRESS_PROVINCE          30133 non-null object\n",
      "FACT_ADDRESS_PROVINCE         30133 non-null object\n",
      "POSTAL_ADDRESS_PROVINCE       30133 non-null object\n",
      "TP_PROVINCE                   29543 non-null object\n",
      "REGION_NM                     30131 non-null object\n",
      "REG_FACT_FL                   30133 non-null int64\n",
      "FACT_POST_FL                  30133 non-null int64\n",
      "REG_POST_FL                   30133 non-null int64\n",
      "REG_FACT_POST_FL              30133 non-null int64\n",
      "REG_FACT_POST_TP_FL           30133 non-null int64\n",
      "FL_PRESENCE_FL                30133 non-null int64\n",
      "OWN_AUTO                      30133 non-null int64\n",
      "AUTO_RUS_FL                   30133 non-null int64\n",
      "HS_PRESENCE_FL                30133 non-null int64\n",
      "COT_PRESENCE_FL               30133 non-null int64\n",
      "GAR_PRESENCE_FL               30133 non-null int64\n",
      "LAND_PRESENCE_FL              30133 non-null int64\n",
      "CREDIT                        30133 non-null object\n",
      "TERM                          30133 non-null int64\n",
      "FST_PAYMENT                   30133 non-null object\n",
      "DL_DOCUMENT_FL                30133 non-null int64\n",
      "GPF_DOCUMENT_FL               30133 non-null int64\n",
      "FACT_LIVING_TERM              30133 non-null int64\n",
      "WORK_TIME                     27416 non-null float64\n",
      "FACT_PHONE_FL                 30133 non-null int64\n",
      "REG_PHONE_FL                  30133 non-null int64\n",
      "GEN_PHONE_FL                  30133 non-null int64\n",
      "LOAN_NUM_TOTAL                30133 non-null int64\n",
      "LOAN_NUM_CLOSED               30133 non-null int64\n",
      "LOAN_NUM_PAYM                 30133 non-null int64\n",
      "LOAN_DLQ_NUM                  30133 non-null int64\n",
      "LOAN_MAX_DLQ                  30133 non-null int64\n",
      "LOAN_AVG_DLQ_AMT              30133 non-null object\n",
      "LOAN_MAX_DLQ_AMT              30133 non-null object\n",
      "PREVIOUS_CARD_NUM_UTILIZED    600 non-null float64\n",
      "sample                        30133 non-null object\n",
      "dtypes: float64(2), int64(32), object(19)\n",
      "memory usage: 12.2+ MB\n"
     ]
    }
   ],
   "source": [
    "df.info()"
   ]
  },
  {
   "cell_type": "markdown",
   "metadata": {
    "collapsed": true
   },
   "source": [
    "Видим, что часть данных - object, скорее всего стоки.\n",
    "\n",
    "\n",
    "Давайте выведем эти значения для каждого столбца"
   ]
  },
  {
   "cell_type": "code",
   "execution_count": 1237,
   "metadata": {
    "collapsed": false
   },
   "outputs": [
    {
     "name": "stdout",
     "output_type": "stream",
     "text": [
      "==========\n",
      "EDUCATION\n",
      "{'Неоконченное высшее', 'Неполное среднее', 'Ученая степень', 'Среднее', 'Среднее специальное', 'Два и более высших образования', 'Высшее'}\n",
      "\n",
      "\n",
      "==========\n",
      "MARITAL_STATUS\n",
      "{'Гражданский брак', 'Состою в браке', 'Вдовец/Вдова', 'Не состоял в браке', 'Разведен(а)'}\n",
      "\n",
      "\n",
      "==========\n",
      "GEN_INDUSTRY\n",
      "{nan, 'Сборочные производства', 'Энергетика', 'Юридические услуги/нотариальные услуги', 'Банк/Финансы', 'Транспорт', 'Недвижимость', 'Сельское хозяйство', 'Страхование', 'ЧОП/Детективная д-ть', 'Торговля', 'Коммунальное хоз-во/Дорожные службы', 'Образование', 'Здравоохранение', 'Управляющая компания', 'Туризм', 'Наука', 'Информационные услуги', 'Салоны красоты и здоровья', 'СМИ/Реклама/PR-агенства', 'Логистика', 'Металлургия/Промышленность/Машиностроение', 'Химия/Парфюмерия/Фармацевтика', 'Информационные технологии', 'Нефтегазовая промышленность', 'Маркетинг', 'Ресторанный бизнес/Общественное питание', 'Государственная служба', 'Строительство', 'Подбор персонала', 'Развлечения/Искусство', 'Другие сферы'}\n",
      "\n",
      "\n",
      "==========\n",
      "GEN_TITLE\n",
      "{nan, 'Рабочий', 'Индивидуальный предприниматель', 'Руководитель низшего звена', 'Другое', 'Руководитель высшего звена', 'Работник сферы услуг', 'Партнер', 'Специалист', 'Служащий', 'Руководитель среднего звена', 'Военнослужащий по контракту', 'Высококвалифиц. специалист'}\n",
      "\n",
      "\n",
      "==========\n",
      "ORG_TP_STATE\n",
      "{nan, 'Частная компания', 'Государственная комп./учреж.', 'Индивидуальный предприниматель', 'Частная ком. с инос. капиталом', 'Некоммерческая организация'}\n",
      "\n",
      "\n",
      "==========\n",
      "ORG_TP_FCAPITAL\n",
      "{'Без участия', nan, 'С участием'}\n",
      "\n",
      "\n",
      "==========\n",
      "JOB_DIR\n",
      "{nan, 'Реклама и маркетинг', 'Служба безопасности', 'Кадровая служба и секретариат', 'Пр-техн. обесп. и телеком.', 'Юридическая служба', 'Снабжение и сбыт', 'Участие в основ. деятельности', 'Бухгалтерия, финансы, планир.', 'Вспомогательный техперсонал', 'Адм-хоз. и трансп. службы'}\n",
      "\n",
      "\n",
      "==========\n",
      "FAMILY_INCOME\n",
      "{'от 20000 до 50000 руб.', 'свыше 50000 руб.', 'до 5000 руб.', 'от 10000 до 20000 руб.', 'от 5000 до 10000 руб.'}\n",
      "\n",
      "\n",
      "==========\n",
      "PERSONAL_INCOME\n",
      "{'9330', '10600', '9100', '6700', '19700', '5500', '77000', '7200', '18700', '2100', '18000', '11600', '4340', '41000', '11800', '14800', '29000', '48000', '9700', '1950', '8350', '11400', '9240', '24500', '15000', '19500', '34000', '22500', '41900', '38000', '17600', '5680', '6359', '10700', '8100', '17200', '5100', '4000', '92000', '14300', '6100', '6299,19', '3600', '15200', '7500', '8700', '27300', '5000', '8600', '10000', '13800', '10200', '5790', '10300', '80000', '4100', '12300', '7650', '3900', '9340', '21800', '7220', '42000', '12600', '12800', '13000', '4500', '9000', '4200', '21500', '15560', '7250', '32000', '12700', '2000', '13160', '4515', '8900', '3500', '65000', '17404', '16800', '11200', '12900', '47000', '7700', '16500', '15600', '5460', '19000', '7830', '5088', '26000', '9300', '18200', '15400', '27000', '6670', '16900', '44000', '10100', '14500', '6400', '4950', '10800', '2800', '13900', '24', '5360', '8250', '8500', '7400', '3300', '8726', '2300', '29800', '20646,16', '13450', '22000', '4700', '8800', '25000', '10900', '13150', '32640', '55000', '6800', '17000', '13600', '52000', '3400', '7800', '35000', '4400', '37000', '3200', '6300', '170000', '100000', '28300', '5446', '12650', '19800', '3700', '7600', '9200', '9800', '13400', '7640', '12100', '5400', '5900', '4900', '15380', '14000', '13200', '51000', '9600', '16700', '23100', '40000', '7101', '4800', '17500', '3100', '33000', '250000', '8066', '5600', '53000', '7900', '7000', '7251', '24000', '7550', '26500', '11640', '5350', '5200', '22955', '67700', '43000', '8000', '6180', '4590', '5700', '12500', '10500', '13700', '31000', '12400', '12000', '28000', '70000', '23800', '20000', '6600', '6500', '23000', '54000', '16050', '56000', '6608', '16100', '5050', '4600', '6900', '18600', '75000', '39000', '67000', '13300', '5339', '19300', '24800', '11900', '68000', '150000', '15500', '23500', '4360', '30000', '16200', '14700', '46000', '7850', '5800', '9900', '50000', '8400', '17800', '21000', '5300', '45000', '14358', '18500', '5582', '7100', '49000', '4330', '11300', '7050', '8300', '11700', '36000', '7300', '42500', '15300', '16000', '29500', '9500', '11500', '4300', '10400', '9628', '17900', '11000', '160000', '5230', '25800', '20500', '5425', '9400', '19600', '220000', '6000', '3800', '6200', '3000', '60000', '17700', '110000', '13500', '8200'}\n",
      "\n",
      "\n",
      "==========\n",
      "REG_ADDRESS_PROVINCE\n",
      "{'Тульская область', 'Волгоградская область', 'Бурятия', 'Красноярский край', 'Брянская область', 'Северная Осетия', 'Камчатская область', 'Читинская область', 'Нижегородская область', 'Омская область', 'Курская область', 'Кабардино-Балкария', 'Ставропольский край', 'Рязанская область', 'Москва', 'Костромская область', 'Эвенкийский АО', 'Калмыкия', 'Хакасия', 'Псковская область', 'Краснодарский край', 'Хабаровский край', 'Ханты-Мансийский АО', 'Усть-Ордынский Бурятский АО', 'Астраханская область', 'Ленинградская область', 'Архангельская область', 'Мурманская область', 'Карелия', 'Ульяновская область', 'Самарская область', 'Удмуртия', 'Коми', 'Пензенская область', 'Тюменская область', 'Чувашия', 'Башкирия', 'Якутия', 'Марийская республика', 'Алтайский край', 'Татарстан', 'Новгородская область', 'Саратовская область', 'Владимирская область', 'Ростовская область', 'Магаданская область', 'Орловская область', 'Кировская область', 'Кемеровская область', 'Оренбургская область', 'Санкт-Петербург', 'Московская область', 'Сахалинская область', 'Еврейская АО', 'Свердловская область', 'Амурская область', 'Калужская область', 'Ярославская область', 'Адыгея', 'Белгородская область', 'Ивановская область', 'Вологодская область', 'Челябинская область', 'Дагестан', 'Липецкая область', 'Пермская область', 'Тамбовская область', 'Ямало-Ненецкий АО', 'Приморский край', 'Новосибирская область', 'Томская область', 'Мордовская республика', 'Курганская область', 'Карачаево-Черкесия', 'Калининградская область', 'Агинский Бурятский АО', 'Смоленская область', 'Воронежская область', 'Тверская область', 'Иркутская область', 'Горный Алтай'}\n",
      "\n",
      "\n",
      "==========\n",
      "FACT_ADDRESS_PROVINCE\n",
      "{'Тульская область', 'Волгоградская область', 'Бурятия', 'Красноярский край', 'Брянская область', 'Северная Осетия', 'Камчатская область', 'Читинская область', 'Нижегородская область', 'Омская область', 'Курская область', 'Кабардино-Балкария', 'Ставропольский край', 'Рязанская область', 'Москва', 'Костромская область', 'Эвенкийский АО', 'Калмыкия', 'Хакасия', 'Псковская область', 'Краснодарский край', 'Хабаровский край', 'Ханты-Мансийский АО', 'Усть-Ордынский Бурятский АО', 'Астраханская область', 'Ленинградская область', 'Архангельская область', 'Мурманская область', 'Карелия', 'Ульяновская область', 'Самарская область', 'Удмуртия', 'Коми', 'Пензенская область', 'Тюменская область', 'Чувашия', 'Башкирия', 'Якутия', 'Марийская республика', 'Алтайский край', 'Татарстан', 'Новгородская область', 'Саратовская область', 'Владимирская область', 'Ростовская область', 'Магаданская область', 'Орловская область', 'Кировская область', 'Кемеровская область', 'Оренбургская область', 'Санкт-Петербург', 'Московская область', 'Сахалинская область', 'Еврейская АО', 'Свердловская область', 'Амурская область', 'Калужская область', 'Ярославская область', 'Адыгея', 'Белгородская область', 'Ивановская область', 'Вологодская область', 'Челябинская область', 'Дагестан', 'Липецкая область', 'Пермская область', 'Тамбовская область', 'Ямало-Ненецкий АО', 'Приморский край', 'Новосибирская область', 'Томская область', 'Мордовская республика', 'Курганская область', 'Карачаево-Черкесия', 'Калининградская область', 'Агинский Бурятский АО', 'Смоленская область', 'Воронежская область', 'Тверская область', 'Иркутская область', 'Горный Алтай'}\n",
      "\n",
      "\n",
      "==========\n",
      "POSTAL_ADDRESS_PROVINCE\n",
      "{'Тульская область', 'Волгоградская область', 'Бурятия', 'Красноярский край', 'Брянская область', 'Северная Осетия', 'Камчатская область', 'Читинская область', 'Нижегородская область', 'Омская область', 'Курская область', 'Кабардино-Балкария', 'Ставропольский край', 'Рязанская область', 'Москва', 'Костромская область', 'Эвенкийский АО', 'Калмыкия', 'Хакасия', 'Псковская область', 'Краснодарский край', 'Хабаровский край', 'Ханты-Мансийский АО', 'Усть-Ордынский Бурятский АО', 'Астраханская область', 'Ленинградская область', 'Архангельская область', 'Мурманская область', 'Карелия', 'Ульяновская область', 'Самарская область', 'Удмуртия', 'Коми', 'Пензенская область', 'Тюменская область', 'Чувашия', 'Башкирия', 'Якутия', 'Марийская республика', 'Алтайский край', 'Татарстан', 'Новгородская область', 'Саратовская область', 'Владимирская область', 'Ростовская область', 'Магаданская область', 'Орловская область', 'Кировская область', 'Кемеровская область', 'Оренбургская область', 'Санкт-Петербург', 'Московская область', 'Сахалинская область', 'Еврейская АО', 'Свердловская область', 'Амурская область', 'Калужская область', 'Ярославская область', 'Адыгея', 'Белгородская область', 'Ивановская область', 'Вологодская область', 'Челябинская область', 'Липецкая область', 'Пермская область', 'Тамбовская область', 'Ямало-Ненецкий АО', 'Приморский край', 'Новосибирская область', 'Томская область', 'Мордовская республика', 'Курганская область', 'Карачаево-Черкесия', 'Калининградская область', 'Агинский Бурятский АО', 'Смоленская область', 'Воронежская область', 'Тверская область', 'Иркутская область', 'Горный Алтай'}\n",
      "\n",
      "\n",
      "==========\n",
      "TP_PROVINCE\n",
      "{nan, 'Тульская область', 'Волгоградская область', 'Бурятия', 'Красноярский край', 'Брянская область', 'Камчатская область', 'Читинская область', 'Нижегородская область', 'Омская область', 'Курская область', 'Ставропольский край', 'Кабардино-Балкария', 'Рязанская область', 'Москва', 'Костромская область', 'Псковская область', 'Краснодарский край', 'Хабаровский край', 'Ханты-Мансийский АО', 'Астраханская область', 'Архангельская область', 'Мурманская область', 'Карелия', 'Ульяновская область', 'Самарская область', 'Удмуртия', 'Коми', 'Пензенская область', 'Тюменская область', 'Чувашия', 'Башкирия', 'Якутия', 'Марийская республика', 'Алтайский край', 'Татарстан', 'Новгородская область', 'Саратовская область', 'Владимирская область', 'Ростовская область', 'Магаданская область', 'Орловская область', 'Кировская область', 'Санкт-Петербург', 'Оренбургская область', 'Кемеровская область', 'Сахалинская область', 'Еврейская АО', 'Свердловская область', 'Амурская область', 'Калужская область', 'Ярославская область', 'Адыгея', 'Белгородская область', 'Ивановская область', 'Вологодская область', 'Челябинская область', 'Липецкая область', 'Пермская область', 'Тамбовская область', 'Приморский край', 'Новосибирская область', 'Томская область', 'Мордовская республика', 'Курганская область', 'Калининградская область', 'Смоленская область', 'Воронежская область', 'Тверская область', 'Иркутская область', 'Горный Алтай'}\n",
      "\n",
      "\n",
      "==========\n",
      "REGION_NM\n",
      "{nan, 'ЮЖНЫЙ', 'ЗАПАДНО-СИБИРСКИЙ', 'ДАЛЬНЕВОСТОЧНЫЙ', 'ПРИВОЛЖСКИЙ', 'ЦЕНТРАЛЬНЫЙ 1', 'СЕВЕРО-ЗАПАДНЫЙ', 'ЦЕНТРАЛЬНЫЙ ОФИС', 'ПОВОЛЖСКИЙ', 'ЦЕНТРАЛЬНЫЙ 2', 'ВОСТОЧНО-СИБИРСКИЙ', 'УРАЛЬСКИЙ'}\n",
      "\n",
      "\n",
      "==========\n",
      "CREDIT\n",
      "{'14755', '8856', '14169,1', '26164', '24700', '16647', '2100', '74700', '18599,4', '10431', '41000', '2180', '34500', '23020', '3717,9', '41936', '3930', '13890', '10105', '21083', '13080', '9080', '15079,91', '19375', '6145', '13990,92', '31070', '5410', '11623', '15170', '6605', '12509,9', '16064', '24480', '4243', '15616', '6903', '21021,9', '4168,8', '19782', '5940', '8148', '37017', '18468', '11080', '5297', '26595', '98042', '3010', '12210', '6396', '12687', '35550', '3138', '29942', '28810', '5207', '24125', '22621', '6279', '11160', '26790', '9754', '25900', '17273', '16105', '10250', '13830', '3854', '9574', '4107', '21146,4', '9845', '19991', '36701', '51000', '25785', '40000', '33000', '4500,95', '13669', '5988', '26120', '6269', '11390', '16364', '10618', '3220', '28258', '13489', '17448', '5857', '7551', '10693', '6097,5', '29475', '15907', '9950', '5579', '27750', '17146', '28172', '7357', '15619', '29198', '9997', '6364', '28350', '13420', '32765', '2699', '31224', '8381,5', '16720', '7433', '3060', '23220', '19857', '3411', '16750', '5889', '19850', '20295', '17804', '2599', '13456', '12057', '3311', '41929', '11034', '8904', '30600', '29205', '11040', '13847', '3550', '10323', '12443', '21950', '16420', '16732', '9427', '15030', '32348', '15990', '9809', '16780', '92000', '4479', '3119', '9301', '9264,69', '8832', '21877', '22692', '24283', '24465', '9576', '13332', '4070', '25298', '3093', '9448', '24260', '4100', '32090', '15041', '29445', '3103,2', '13190', '8033', '20450', '28224', '8221', '5438', '14230', '8777,1', '12195', '18200', '8489', '43010', '16065', '9282', '17956', '20698,1', '17415', '39327,2', '4195', '15780', '18650', '18049', '9840,6', '11440', '20132', '19045', '11880', '4938', '4440', '8487', '32828', '16128', '10740,64', '4752', '11460', '16760', '3849', '15948', '35991', '14550', '18440', '27962', '18668', '18740,5', '6454,8', '18707,1', '4177', '32850', '4365', '22098', '21408', '35091', '4139', '15027', '19340', '23861', '17091', '30510', '15247', '16499', '10995', '17558', '5409', '16776', '11217', '17546', '6281', '16227', '21190', '30940', '10672', '18784', '24800', '16740', '10970', '4598,6', '14669', '11266', '19377', '3743', '23396', '12347', '12262', '27877', '9098', '15216,06', '30630', '29858', '8132', '7348,52', '16875', '23498', '2629,8', '24272', '27208', '2259,9', '70705,96', '14175', '15750,91', '21927', '54738', '41490', '10445', '13366', '6086', '22515', '15096', '2855', '27600', '7469', '5494', '14520', '15524', '24500', '8393', '3570', '38000', '30190', '4135', '5748,3', '7820', '14300', '9199', '14718', '6381', '7745', '4031', '18209', '13800', '18553', '10980', '8360', '5545', '20863', '23990,83', '6039', '8199', '21881', '12434', '15800', '14200', '12948', '8341', '42408', '6838', '30597', '15704', '19224', '5015', '8780', '16447', '10352', '30627', '4949', '11720', '4248', '5384', '12849', '35326', '25068,94', '9351', '6189,3', '11260', '6830', '20530', '6129', '8536', '6490', '7788', '51300', '2290,7', '9276', '5984', '12850', '25386', '46881', '90000', '10542', '29345', '10420', '18782,2', '22905', '6108', '28000', '22075', '22561', '39240', '16613', '12209,5', '18246', '5449', '5620', '22428', '17339', '8297', '17885', '9710', '11949', '15880', '4488', '20910', '13356', '9365', '15496', '10340', '24667', '15215', '6719', '14725', '11730', '26928', '4018', '20225', '12790', '10591', '10248,2', '25966', '7452', '23160', '6469', '10616', '89344', '29790', '12405', '9538,9', '84500', '13536', '34295', '4493', '4026,55', '10330', '11996', '17350', '4673', '24889', '3389', '20789', '16180', '10339', '19500', '5535', '12120', '7917', '35683', '8840', '22959', '19116', '17280', '14780', '23044', '25340', '21150', '9395', '3675', '26340', '12451', '4200', '7649', '8530', '7990', '23688', '3143', '15078', '9655', '4291', '18990,5', '2800', '22070', '17520', '29707', '29750', '35060', '10230', '16766', '6192', '7984', '8694', '16662', '28590', '17765', '18040', '18719', '3548', '24752', '25727', '11148', '4399', '18840', '6930', '27400', '22213', '25360', '6429', '7954', '21580', '5296', '4882', '22944', '4290', '5390', '22320', '16112', '27846', '23268', '14840', '6779', '3690,92', '49100', '29280', '8171', '65400', '19977', '13989', '3063', '3353', '13897', '18578', '58947', '14391', '19320', '13990', '26547,3', '25400', '20324,92', '11672', '6598', '9235', '15085', '10990,94', '11727', '24408', '10969', '3599', '4360', '16547,3', '5070', '25700', '19589', '6070', '19497', '23550', '4047', '2690', '4370', '20498,1', '23320', '11456', '4966', '15313', '24470', '5870', '6283', '4175', '10575', '25440', '15859', '21312', '19143', '13438,3', '5242,3', '16330', '6209', '19572,1', '4252', '18730', '21180', '18067', '5504', '21658', '30390', '19503', '8980', '24047', '18240,91', '35563', '22200', '20874', '19410', '30696', '10480', '22302', '5448', '5292', '4735', '11409', '6282', '11219', '116360', '16657', '30735', '22349', '3464', '25662', '23025', '15220', '5295', '9338', '4633', '27500', '16063', '13435', '3350', '11296', '30196', '30455', '50098', '10046', '20977', '40200', '11576', '20397', '23347', '18643', '30590,92', '21473', '25278,14', '24198,2', '8650', '7995', '22221', '5095', '9600', '15427', '7490', '4800', '13460', '12737', '12581,89', '14005', '5359', '25182,4', '14770', '35035,2', '3420', '27398', '4998', '10260', '10331', '4589', '3188', '19300', '9995', '16190', '3998', '15975', '2219', '20699', '14196', '10185', '23680', '10188', '6596', '3070', '19044', '22330', '11487', '60080', '17910', '6338', '11394', '19854', '11115', '2680', '61540', '12345', '21615', '24295', '10548', '8278', '19660', '4510', '35250', '7645', '26961', '9660', '10540', '11718,94', '4109', '3354', '7815', '27540', '9212', '53400', '8010', '24174', '4853', '35767,4', '23050', '3850,85', '39741', '22310', '3128,2', '6071', '5119', '19324', '18074', '13009', '15610', '8771', '32822', '47704', '12546', '20320', '15624', '32280', '16849', '13148', '23711', '9406', '17863', '18710', '14320', '41400', '18575,2', '25920', '6199', '21214', '15883', '31509', '14632', '27449', '21207', '14243', '3882', '2389', '28728', '8377', '36350', '17770', '9345', '17545', '8370', '4730', '9445', '8429', '13351', '6625', '19745', '23663', '5688', '7020,9', '2007', '39028', '4475', '7739', '5540', '23300', '3099', '11571', '27062', '2529,61', '26999,2', '6887', '4533', '3690,82', '9919', '88312', '9074', '4878', '9889', '23940', '7715', '37495,2', '9054', '10655', '16272', '13520', '23410', '7996', '34190', '9669', '4021,92', '31850', '13922', '13289', '5312', '26960', '7829', '12099,1', '15795', '26555', '18206', '17399,1', '11660,93', '30430', '31040', '8406', '50940', '4572', '31817,2', '11876', '23478', '48000', '18450', '30520', '74690', '27700', '33100', '8268', '9910', '5695', '14659,2', '14854', '24721', '10300', '12591', '18096', '21620', '10938', '24550', '18085', '11247', '11524,79', '15100,82', '18100', '3711', '4185', '8811', '8792', '9534', '11488', '14998', '32310', '14960', '6698,3', '10322', '46671', '40499', '9520', '31885', '20565', '49838', '5184', '16999', '9655,2', '3059', '93000', '13680', '20490', '13916', '19289', '20609', '16185', '3391', '18374', '6839', '3240', '20720', '18269', '13155', '19567', '10151', '4840', '19120', '8120', '27260', '4490', '44415', '10413', '4936', '28340', '12896', '46800', '3663', '19748', '4746', '6925', '3515', '38032', '13321', '40490,91', '6452', '11586', '2650', '56310', '28059', '15556', '22345', '4350', '8440', '24017', '6420', '4284', '41994', '9443', '56000', '28098', '25313', '3941', '3979', '9990', '64670', '37780', '18410', '9438', '3699', '6246', '16859', '22091', '4318,2', '13257', '33725', '15927', '13887,68', '21880', '14040', '3385', '12651', '11778', '17780', '53091', '4899', '11529,91', '10790', '16312', '10646,2', '6299,2', '3930,81', '7908,1', '6475', '9749', '17842', '34000', '12995', '22500', '24520', '4867', '5607', '23820', '9470', '9422', '11977', '19769', '9490', '7500', '8491,82', '10690', '3748', '40700', '20305', '8829', '3961', '62000', '3760', '14927,83', '46960', '21265', '34120', '75581', '15897,92', '3390', '17573', '18392,91', '4212,8', '14450', '22977', '30050', '15602,5', '24035,5', '9444', '7505', '5798', '3879,17', '10971', '6935', '5415', '19358', '14229', '5097', '14644', '30920', '18113', '21430', '37560', '30545', '17297,6', '13260', '11243', '15910', '18398', '8280', '16669', '6721', '4312', '39900', '7991', '44290', '13197', '7950', '26740', '13498', '23865', '5350', '5193', '3940', '19460', '30031', '53162', '3750,91', '19060', '3301', '12972', '28116', '5480', '17230', '22090', '16197', '13300,91', '21704', '9371', '20338', '26997', '2160', '11389,2', '3701', '7160', '17890', '4170', '10844', '8380', '5089', '9085', '17390', '22927', '25950', '27890', '5636', '12749', '27637', '21847', '21960', '28431', '3800', '4827', '24223', '6690', '31250', '11539', '7200', '30980', '9246', '13530', '8529', '8892', '3892,2', '6698', '9260', '19187', '3547,42', '11719', '13318', '13087', '4838', '9349,92', '9651', '2719,2', '24711', '7381', '8700', '14360', '23399', '14119', '14470', '11376', '21762', '12320', '9536', '16416', '17276', '4979', '22440', '20190', '5931', '10149', '8290', '6069', '33320', '5333', '5533', '9960', '4420', '7499', '3547', '11669', '21865', '14350', '10879', '16140', '6863', '36093', '12428,7', '57581', '8890', '4293', '3898,1', '24301', '26720', '23397', '14989', '5329', '14796', '3792,92', '25830', '23822', '13200', '21850,94', '7459', '12803,4', '33900', '7560', '11750', '6058,1', '96860', '7327', '17193', '14453', '12328', '35670', '6906', '7796', '9040', '5612', '2947', '11063', '3215', '6050', '20143', '13278', '6653', '15293', '14440', '11890', '11871', '20390', '28402', '25301', '33760', '8644', '9900', '23490', '10432', '25695', '22180', '13980', '16489,9', '19342', '2871', '25199', '4773', '7667', '2060', '24160', '62550', '17624', '20570', '11853', '32770', '30951', '9045', '5162', '6712', '4872', '6789', '4785', '13590', '75535,08', '2072,7', '3173', '53673', '3555', '20877', '8097', '9750', '17995', '5968', '12425', '4891', '11748', '7285', '9308', '17541', '9610', '19970', '14338', '10755', '16561', '9349', '26379', '21760', '18598', '20242', '8311,29', '7611', '14510', '10870', '6744', '9350', '37710', '12980', '32397', '13688', '4761', '2870', '7690', '15985', '6380', '21999', '12910', '8500', '13689,86', '28230', '11911', '9648', '2490,92', '2940', '24200', '15016', '20375', '7279', '8955', '19760', '78390', '11926', '4290,91', '4242', '26461', '28640', '17789', '3100', '18696', '3690', '4048', '16480', '13232,88', '12870', '8204', '12053', '21290', '26560', '17099,1', '7857', '11130', '22150', '16745', '39590', '2075', '9670', '18340', '4973', '16730', '6916', '6309', '30420', '12550', '3410', '4869', '23944', '11496', '9866', '10010', '32670,79', '12608', '8753', '4470', '23186', '28042', '10478', '3493', '30580', '6733', '2065,5', '16989,92', '40970', '19008', '8790', '10400', '4580', '20500', '11426', '4788', '19600', '10061', '12024', '6007', '14083', '13302', '20820,44', '10735', '13178', '15372', '28983', '15360', '6585', '39254', '11335', '25983', '16979', '14847', '24881', '22945', '14540,04', '17203', '9748', '8606', '70410', '22951', '33183,4', '8950', '15214', '21500', '16350', '5268', '14207,1', '5938', '12902', '3780', '59398,2', '18990', '26600', '16908', '3179', '16392', '13010', '17470', '59590', '9300', '8156', '2990,92', '15100', '12236', '11804', '3768', '26084', '12541', '16257', '3659,5', '6056', '5398', '14781', '7391', '58500', '20562,2', '10791', '26818', '41500', '23030', '6828', '22458', '15354', '20980', '10348', '12249', '24495', '14993', '61487', '4841', '4611', '9689', '9530', '3929', '20750', '13326,5', '3069,9', '2158', '15299', '13700', '14999', '11877', '3875', '5735,7', '7735', '6297', '13325', '6161', '3399', '19129', '8398,1', '7090', '12820', '4789,92', '17117', '19959', '16200', '23060', '6348', '9594', '20792', '32293', '7441', '21347', '4658', '39638', '50000', '43880', '21000', '3645', '24250', '27149', '7610', '22789', '23971', '24112', '31014', '41990', '17795', '7847', '33500', '31450', '25574', '10760', '5960', '12289', '9799', '3238', '8603', '10233', '10853', '2500', '15806', '15435', '4725', '2831,97', '21381,12', '9100', '18690', '2245', '17261', '5966,7', '11098,8', '9270', '19189', '14800', '20698', '6703', '11400', '20550', '11666', '13905', '4680', '21286', '3616', '18060', '2955', '3032', '10939', '14760', '9169', '12250', '12947', '12914', '27850', '17480', '13290', '45952', '41021', '48920', '7776', '9774', '46385', '3231', '4880', '42928', '5837', '19900', '28990,91', '6715,2', '8991', '6624', '23797', '23989', '19950', '22970', '10080', '4041', '24750', '79200', '19940', '4653', '14497', '18399', '3140', '55000', '15240', '26708', '13999', '15763', '7590,31', '18328,6', '8389,91', '18530', '38200', '30230', '15760', '5745', '27250', '3159', '20610', '9198', '6093', '25641', '37531', '4809', '22329,67', '15598', '6291', '2928', '50400', '78550', '15398', '3808', '24233', '10730', '6980', '23784', '7336', '12537', '4767', '12720', '12755', '11405', '18022', '14096', '2889', '16605', '28221', '11055', '21930', '17247', '26219', '3744', '5681', '6342', '18471', '13399', '7128', '74466', '12213', '19925', '8260', '7471', '3348', '16322', '18702', '26710', '9998', '15890,9', '44900', '16450', '7892', '35522', '26875', '8064', '10169', '13039', '22469', '8150', '70245', '22803', '23749,76', '5239', '7766', '11754', '36527', '81743,87', '7228,2', '14331', '13465', '25260', '22293', '21482', '2499', '16245', '7098', '23108', '27360', '6168', '12990', '25140', '19150', '38244', '29875', '24275', '16840', '32335', '27620', '4114', '19106', '5337', '10048', '27945', '26490', '5232', '16479', '12474', '8597', '3448,8', '2088', '5267', '12290,9', '12542', '21654', '20477', '7798', '9248', '20100', '20770', '5817', '13846', '26329', '8858,8', '14994', '26500', '15639', '6991', '4150,95', '22955', '42930', '3740', '26889', '2600', '13476', '10616,4', '6622', '4250', '27714', '21746', '39600', '4377', '4920', '32500', '26820', '18881', '29012', '11646', '4013', '3429', '12132', '5037', '15300', '20310', '7259', '5427', '9430', '7281,94', '2400', '3553', '14280', '27370', '16796', '26200', '32508,2', '8492', '31300', '12890,92', '35955', '29663', '30930', '4088', '5942', '3943', '2457', '19230', '25447', '29120', '7511', '43631', '11323', '42000', '18068', '4458', '6928', '16040', '9000', '71400', '7730', '6494', '13205', '20330', '10874', '5738', '2000', '35900', '2671,2', '25179', '24962', '6379', '16500', '25540', '20495', '35320', '7130', '2819', '14080', '5261', '23406', '2447', '23780', '7710', '14279', '21646', '8160', '11025', '3950', '16701', '30596', '22898', '5496', '26390', '22490', '29490', '27900', '13507', '6150', '27769', '12650', '19800', '13598', '17025', '20520', '12173', '13392', '12348', '16991', '8725', '71243', '13324', '87786', '4199', '17097', '29250', '2511,82', '26410', '18050', '29001', '18528', '11751', '23094', '40574', '7609,5', '6630', '14661', '22160', '11787', '19889,92', '17840', '3987', '6766,4', '88440', '26730', '9069', '89196', '5175', '14860', '15875', '29006', '3516', '27493', '20540', '5023', '7755', '23437', '21295', '8424', '3770', '33459', '17130', '11796', '13577', '11455', '44760', '7523', '19560', '42746', '10360', '5345', '2730', '27040', '20510', '24239', '10611', '4642', '19020', '4745', '4769', '18006', '24490', '5760', '5431,2', '9153', '2995', '8381', '37880', '11150', '6390', '21989', '17045', '31491', '21209', '30990', '4389', '30200', '5676', '24933', '28220', '3960', '7486,1', '17398,1', '4010', '20140', '14798', '27490', '29789,91', '17510', '19280', '4408', '78800', '11697,1', '8957', '12315', '10925', '99313', '16883', '17575', '17422', '7695', '22947', '20691', '4756,5', '10320', '17763', '29661', '9227', '9097', '27950', '26461,91', '21586', '3680', '15790', '3490,92', '4580,92', '12290,94', '7988', '83106', '20706', '8750', '5064', '4935', '18270', '9526', '30820', '5280', '2633', '5010', '5268,47', '13780,82', '19521', '4590', '12762', '29948', '94330', '4492', '3904,3', '17538', '10295', '17250', '26099', '16507', '15680', '3380', '29690', '9217', '5016', '31588', '15147', '24980', '3883', '69500', '7497', '18913', '18020', '29500', '22588', '26770', '74319', '7541', '7032', '10687', '76300', '27088', '6329', '28450', '7019', '28922', '3014', '11600', '6360', '30131', '10071', '9464', '19502', '10525,01', '5335', '28932', '11396', '7084', '7310', '16634,5', '28160', '23185', '11048', '34466,4', '7250', '13527', '11345', '30756', '28280', '5928,1', '9497', '11416', '22761', '59629', '37360', '45500', '5351', '6672', '16280', '10550', '7741', '5360', '26896', '9144', '8445', '7448', '5827', '3729', '38408', '17240', '20587', '8902', '17789,2', '34396', '20699,1', '17509', '16579', '6530', '13623', '15190', '5489', '23793', '9120', '24795', '3337', '4983', '24000', '6890', '20294', '13301', '37450', '3442', '7790', '6180', '18734', '4560', '4328,1', '14328', '10114', '15347', '8149', '6373', '5770', '20856', '24389', '5091', '7797,6', '11790', '16440', '26183,5', '11855', '37857,2', '13550', '16199', '10022', '35960', '16650', '35165', '23735', '31255', '20297', '3307', '11223', '6780,95', '11321', '24740', '7750', '13110', '10389', '23552', '29799', '3798', '14950', '14165', '21250', '4629', '14980', '18857', '30422', '7035', '6597', '7296', '20296', '6021', '17561,8', '26590', '7595', '4079', '5678', '8762', '58541', '17901', '18899', '8355', '27580', '8604', '27283', '22881', '14013', '34766', '13679', '3269', '6270', '29295', '9899,1', '15033', '16425', '25990', '7183', '7977', '11050', '17720', '21279', '7349', '13699', '9380', '22900', '6899', '18538', '23104', '8547', '9009,91', '20355', '5890', '5088', '14795', '43376', '20943', '9042', '13490', '9468', '24950', '12741', '3405', '16865', '50678', '25896', '19021', '17650', '6665', '6260', '4607', '11170', '20317', '16965', '41211', '12944', '30313', '10189', '21780', '33920', '10429', '12498', '8373', '2691', '47309', '5211', '11789', '11196', '16899', '5320', '24871', '25740', '11916', '5799,2', '14948', '38340', '32935', '9009', '4386', '7604', '13447', '11665', '45672', '18600', '98996', '39000', '16520', '16960', '18250', '24945', '12050', '6538', '13841', '18054', '2979', '14690', '10240', '3565', '34806', '6504', '18360', '9551', '7123', '27124', '19930', '10864', '29697', '21505', '86900', '14406', '4671', '10290', '20079', '21398', '3660', '7949', '29933,4', '26970,6', '11289', '13430', '16250', '41170', '12597', '16635', '4640', '14168', '30100', '3928', '7430', '6699', '29580', '28026', '4683', '11180', '18413', '13225', '2872', '6272', '83194', '23395', '12159', '63700', '3898', '27995', '18940', '23390', '5806', '28410', '23450', '11199', '4435', '15602', '10990,2', '23390,91', '4842', '16199,2', '11359', '15844', '8549,9', '32370', '19220', '6502', '4765', '13785', '28338', '7450', '13229', '9983', '9550,82', '4210', '23758', '22848', '21490', '33097', '74482', '6374,78', '19446', '10210', '15759', '45750', '7794', '20313', '35400', '14060', '23999', '4160', '17075', '3889', '9718', '9200', '7605', '19750', '5210', '8899', '9278,1', '4743,68', '50568', '6450', '11995', '39422', '16362', '3357', '2135,14', '29699', '11943', '18850', '28310', '10506,76', '2421', '25150', '9850', '10551', '13267', '5525', '8430', '4961', '30220', '13941', '4455', '2125', '2270', '8102,08', '7353', '7230', '11536', '16380', '11580', '7182', '46600', '5272', '11450,9', '18280', '32907,5', '21080', '16627', '14724', '9759,4', '18260', '34200', '10779', '13880', '25100', '3107,7', '52469,87', '15097', '20464', '26890', '9971,89', '28666', '3848', '8450', '10225', '19400', '16436', '7559', '6245', '7498,9', '5500', '19343', '11817', '15350', '21464', '9620', '10428', '25599', '12506', '11899', '28861', '7350', '4750', '21640', '4265', '3497', '21802', '5749', '15850', '6330', '32415', '11601', '18140', '13000', '5723', '23485', '3424', '36400', '13678', '3990', '7700', '20431', '9342', '6959', '16191', '4042', '25315', '10846', '12150', '8129', '5176,8', '28775', '19799', '12945', '22617', '13326', '3392', '17388', '12843', '41730', '6756', '6514', '16988', '27680', '6219', '22950', '14337', '16850', '31790', '2691,9', '38850', '29430', '24605', '27820', '4647', '2599,2', '18130', '21200', '11954', '6166', '20505', '9367', '4982,4', '5355', '5995', '7863', '2165,16', '17453', '31190', '4963', '57209', '13815', '35825', '17346', '28790', '7515', '19976', '4980', '6470', '6481,8', '17106', '18296', '21910', '16371', '6559', '31730,91', '4190', '17451', '6247,8', '15832', '4182', '48572', '16278', '36000', '14487', '17760', '8435', '20768', '3498', '9907,2', '69188', '31333', '15291', '18964', '32846', '5602', '14004', '17860', '18175', '25980', '20820,2', '12239', '16002', '10373', '17869', '14030', '7470', '7965', '21750', '4570', '5794', '9700', '22987', '7366', '12510', '2990', '21590', '55500', '10630', '20698,2', '15565,5', '23070,6', '15128', '6146', '9647', '19083', '8396', '6982', '2700', '6461', '2421,9', '6710', '25300', '10804', '40180', '22850', '65000', '10238,82', '21400', '6105', '17549', '5144', '25480', '9664,5', '13280', '8978', '9259', '16648', '18549', '22618', '8754', '15040', '9801', '27196,1', '4110', '6060', '31990', '4329', '12906', '23440', '7919', '9630', '12570', '14599', '14637', '14065', '23121', '13825', '5542', '27248', '14845', '12860', '4870', '11528', '16882', '8935', '9060', '31500', '2590', '9592', '4072', '26800', '27598', '8185', '12170', '16099', '12206', '15090', '23451', '22792', '15730', '14978', '9375', '19602', '8666', '75000', '14295', '22480', '4638', '40756', '10609,2', '8117', '62100', '10884', '22860', '23126', '17970', '9287', '13989,4', '36900', '9972', '14430', '18240', '10147', '25459,3', '9137', '8470', '33680', '17550', '8210', '5230', '7334', '12797', '24132', '9949', '41620', '17361,76', '25538', '10020', '7908', '10024', '21771', '4858', '4186', '86041', '4469', '40480', '40110', '16244,9', '13294', '20350', '12598,1', '22627', '4410', '6507', '5908', '21570', '22662', '10505,5', '2720', '7749', '5399', '7207', '16838', '3537', '12342', '3827', '10193', '47000', '34280', '26115', '6036', '13050', '28070', '58640', '23297', '7169', '3860', '14940', '16691', '3681', '16398', '31221', '20640', '5045', '27428', '18777', '12200', '14398', '72000', '3377', '26241,6', '28273', '9095', '8490', '35000', '12690', '17811', '3185', '8620', '6675', '41210', '14284', '27498', '13263', '13499', '4968', '12904', '7629', '22105', '12317', '3285', '8480', '72885,57', '2957', '96490', '16743', '25158', '39160', '12472', '25570', '9840', '2975', '30656', '9398', '23800', '16824', '19125', '3750', '18001,28', '2610', '70360', '27060', '18334', '90590', '17330', '8910', '3682', '18376', '23600', '34555', '17800', '17690', '21243', '7720', '27180', '19547', '2299', '24897', '5149', '28210', '14461', '16598', '23715', '39500', '18329', '7300', '12339', '13910', '2150', '8438', '38800', '29382', '7399', '22324', '4379', '32076', '4599', '6550', '16879', '9417', '23029', '2045', '4366', '2635', '98136', '6517', '9396', '8998', '8350', '3530', '19470', '13208', '14696', '12953', '12702', '21597,8', '7902', '2165,4', '5456', '3460', '18615', '2724', '27905', '9496', '7625', '21717', '13302,83', '14206', '7327,8', '6950', '19490', '9251', '4923', '10040', '11966', '12197', '19254', '12160', '41397', '14316', '23459', '6944', '13640', '9420', '30350', '2238', '21350', '2050', '3290', '6202', '33300', '13462', '4430', '3959', '3330', '5301', '18749', '23009', '10424,6', '13248', '25390,94', '7763', '38570', '13400', '5912', '9650', '21550', '16860', '31404', '7795', '18560', '23110', '7900', '99000', '6035', '21670', '40900', '14150', '5755', '8000', '13495', '24675,85', '5751', '26080', '16050', '20091', '30603', '22139', '20095', '14636', '17460', '2974,15', '4525', '18566', '9019', '71600', '2910', '23499', '10084', '12511', '18547', '25330', '3779', '32100', '3535', '31587', '14891', '17962', '26950', '31484,1', '8102', '17398,2', '6323', '13719', '22575', '44660', '18481', '7022,7', '30825', '12868', '11362', '6544', '4940', '16070,5', '12606', '30011', '3199,2', '13615', '7439', '14609', '5849', '33088,5', '9347', '5865', '12840', '14766', '29677', '19751', '18390', '19980', '19040', '11126', '15840', '20409', '19145', '9837', '19417', '18458', '23737', '3294', '19895', '40824', '17170', '21388', '29630', '5718', '6885', '3980', '29599', '21060', '22498', '20658,2', '7197', '5299', '17270', '19615', '8874', '7660', '6785', '7598', '18984', '3640', '4911', '4401', '15010', '30800', '3396', '11495', '4701,6', '25317', '12331', '11315', '9996', '19099', '60888', '9800', '13184', '5900', '7039', '14493', '8723', '15099', '12833', '17609', '4040', '49750', '10841', '19590', '58670', '10450', '5189', '25940', '11999', '14976', '25109', '9447', '18012', '30325', '13350', '41600', '15098', '65250', '6256,8', '7137', '16992', '37150', '62240', '25999', '6290', '28050', '10286', '12598', '84000', '11410', '3039', '9467', '35520', '11700', '17920', '14698', '28551', '20636,91', '12493', '24085', '29443', '3028', '22864', '3762', '11897', '14494', '9790', '26837', '9397', '13254', '28715', '5219', '26060', '61920', '7066', '35744', '6088', '9597', '58567', '8184', '16596', '19989', '10708', '10738,5', '9325', '10446', '13138', '12220', '7224', '17631', '5550', '43200', '34479', '13750', '20883', '22640', '19089', '32000', '20939', '28674', '13728', '28684', '7970', '32387', '41837', '30796', '19000', '5238', '28420', '21166', '89640', '8099', '21600', '2428,2', '3510', '20660', '10605', '13016', '11302', '6424', '33470', '3752,9', '23197', '5625', '11383', '25145,79', '34990,8', '25588', '20298', '10134', '9061', '22057', '9432', '21595', '3509', '16833', '8990,9', '7455', '4097', '8095', '13120', '33862', '12470', '26580', '6096,13', '8680', '3314', '10782', '12646', '15270', '8730', '4879,8', '16052', '10216', '22750', '7240,5', '3109', '18669,2', '6118', '21062', '27686,2', '14588', '23706', '19290', '4843', '17379,99', '26920', '9557,1', '18220', '7874', '11303', '2048', '21123', '6650', '4390,91', '15580', '31833', '9128', '32391', '8499', '27166', '17091,9', '25225', '26479', '13539,2', '10523', '64660', '7319', '6299,72', '8698', '8448', '26397', '7858', '21170', '34999', '5639', '8020', '5680', '4703', '7981', '8220', '46695', '20060', '15279', '4290,95', '10200', '3299', '38406', '6024', '17220', '8230', '2119', '26321', '14110', '2333', '24346', '4885', '6522', '4579', '2495', '9970', '5670', '19790', '43996', '7848', '30946,29', '13730', '8037', '8055', '21770', '15400', '27816', '30826', '10830', '14942', '10800', '37415', '17530', '11560', '18304', '4661', '17946,2', '12512', '21510', '6004', '22427', '3128', '4281', '9180', '36800', '4297', '3520,8', '23140', '16490', '11330', '26370', '15930', '25640', '12991,82', '5568', '11808', '3434', '10992', '29694', '13793', '22214,69', '14130', '5259', '20343', '12000', '37350', '8180', '6757', '5408', '8517', '19699', '23575', '6831', '9955', '2745,9', '4620', '9315', '5247', '3190', '5199', '17560', '8419', '8011', '33881', '7632', '27472', '4115', '21858', '5614', '16920', '8330', '28600', '16485', '6205', '20650', '15820', '13320', '8699', '18319', '13265', '10381,5', '30324', '6780', '48580', '7105', '3245', '9477', '6200', '25263', '31020', '3920', '2248', '5043', '12048', '23251', '6575', '32706', '9341,5', '25406', '35669', '14875', '25631', '18143', '24362', '6503', '9460', '17040', '43373', '35142', '14947', '26395', '21349', '46500', '10220', '7642', '7509', '14107', '23516,84', '29075', '8717', '27970', '8797', '10438', '18030', '2104', '14619', '21015', '11590,92', '14460', '10912', '12745', '26000', '4860', '40500', '10457', '21238', '11236', '14356', '15120', '8250', '19529', '15540', '18239', '4952', '27939', '3916', '11753', '12716', '17000', '16530', '22810', '9891', '18686', '7080', '24190', '10799', '13157', '19350', '7729', '21481', '14916', '17316', '3703', '30681', '22124', '43950', '7272', '8420', '33340', '7473', '8241', '22799', '38725', '6640', '31200', '3407', '29294', '29460', '15065', '7135', '10778', '24990', '17854', '8025', '36290', '7189', '32576,5', '3284', '12708', '32400', '17802', '4499,2', '49490', '19420', '7947', '10128,8', '21980', '6978', '5231', '32292', '21943', '17379', '24466', '27736', '28641', '14891,92', '15255', '6867', '34195', '12655', '2439', '22589', '22225', '5898', '6556', '12518,5', '8240', '29266', '4990', '7632,92', '5630', '6298,6', '10650', '26780', '50700', '14092', '13173', '26138', '27800', '6247', '10021', '27446', '16544', '12530', '37437,66', '8100', '8369', '6136', '9814', '16395', '7580', '26524', '19498', '28970', '26055', '18170', '12397', '25937', '34905', '7597', '9013', '12600', '16880', '12340', '54105', '15727', '5694', '4816', '16460', '33598', '14288', '11190', '17949', '11764', '10398', '48600', '16910', '9215', '23661', '67795', '6800', '6116', '10349', '29680', '11204', '8889', '61250', '24840', '6940', '3387', '8846', '6875', '5589', '16868', '4608', '28016', '20090', '14292', '8405', '8825', '18711,05', '35580,91', '4520', '10599', '27340', '8770', '7824', '25881', '5364', '24145', '13386', '16160', '9525', '47691', '5032', '3877', '13441', '11295', '5195', '21075', '5050', '10025', '15904', '12699', '21487', '4652', '5250', '3448', '7132', '17112', '17020', '30837', '10319', '6103', '8549', '5135', '5847', '6985', '18582', '15670', '34821', '19464', '7655', '28247', '12557', '23152', '28509', '31882', '25460', '11093', '9994', '11389', '17700', '20179', '8639', '14410', '8886', '17298', '14006', '17110', '24599', '19993', '11749', '2555', '5921', '16110', '18602', '69000', '21948', '29094', '27348', '4581,87', '31792', '24103', '14380', '14097', '10354', '37480', '10442', '14446,3', '44700', '13644', '15696', '16317', '12742', '3789', '10854', '23130', '5389', '37508', '8830', '9931', '5190', '4807', '13891,5', '15600', '14361', '7878', '10496', '22890', '15629', '4994', '8285', '11297', '9813', '16198', '44440', '21999,2', '19670', '20561', '8948', '7400', '14081', '12631', '8581', '7867', '3906', '6240', '15370', '10112,8', '17248', '19404', '11135', '25897,4', '15246', '19110', '6289', '36980', '32955', '10706', '22920', '14625', '7194,72', '12488,25', '19689', '15380', '3187', '14856', '10697', '18630', '19999', '15725', '23998', '24100,83', '16310', '5120', '7443', '5377', '17089,9', '25904', '34740', '19966', '34699', '16399', '18445', '6873', '26280', '16048', '14400', '3786', '21827', '13344', '16715', '7492', '3654', '5800', '9588', '13690', '8617', '3440', '8652', '11620', '3199', '11286', '14629', '3850', '5369', '6999,3', '83407', '10940', '17930', '7618', '15237,1', '10999', '6299', '15640', '4239', '3745', '19791', '4888', '39450', '5936,81', '19998', '5761,9', '7799', '76000', '8532', '35530', '18599', '28750', '11398', '6999', '8386', '17531', '24570', '2619', '6584', '7235', '45438', '9577,8', '41470', '13624', '22460', '5105,7', '17838', '13021', '6498', '8878', '29592', '24929', '12628,91', '22147', '15638', '21630', '5880', '14994,6', '15320', '51140', '4921', '29470', '10124', '8564', '28472', '20424', '7173', '29949,7', '27589', '47600', '20519', '7982', '26543', '2759', '12191', '26276', '26658,9', '52000', '10680', '51570', '16428', '3894,2', '22194', '7236', '16620', '17310', '13360', '11446', '3339', '7404', '4311', '4628', '9540', '8610', '23530', '16098', '17329,92', '6127', '19680', '6691', '6492', '13985', '21298', '9554', '6539', '11978', '5005', '3784', '36194', '12680', '15292', '17567', '22236', '31000', '22747,4', '16150', '14340', '15325', '12835', '9456', '9826', '9230', '12060', '22317', '11368', '3329', '7530', '4962', '9390', '32990', '4777', '24864', '5724,2', '26462', '20620', '19051', '10419', '14050', '14035', '10803,84', '6419,78', '18187', '8412', '6599', '13134', '20290', '11377', '17198', '11154', '12038', '38070', '14530', '17529,91', '6375', '29400', '30197', '11466', '21520', '14598', '37016', '22798', '6746', '10492', '33450', '43573', '10560', '14456', '31694', '18700', '21700', '23700', '15890', '7198', '16175', '29493', '15748', '21086', '17613', '12450', '12725', '4148', '18997', '4000', '3764', '20160', '7063', '13748', '40080', '21382', '23377', '6263', '31498', '12784', '17360', '4527', '27130', '22430', '30370', '45297', '8320', '12385', '3222,9', '9268', '46921', '28930', '25713', '26339', '4915', '25385', '12463', '12360', '20592', '19035', '19720', '12734', '10640', '19415', '39865', '13198', '15363', '3874', '39980', '13489,91', '7373', '12417', '27740', '17966', '16786', '20300', '21696', '5005,8', '35640', '5759', '16823', '10274', '32175', '18590', '13950', '3590', '17076,2', '5482,3', '22369', '9999', '13018,1', '12389', '8460', '9090', '15336', '18495', '27448', '5391', '22398', '29788', '21920', '46000', '28041', '31875,3', '31294', '30372', '84558', '3520', '9654', '9034', '15393', '28162', '24061', '35610', '11850', '17290', '20209', '35596', '4850', '12822', '18603', '9189', '11833', '94720', '31991', '7459,6', '6610', '6920', '80973', '28842', '13695', '8720', '13882,92', '13650', '11970', '6652', '24199', '11392', '17704', '13250', '31415', '70500', '4380', '6561,9', '51900', '65629,5', '4617', '10910,6', '39830', '23202', '2998', '18171', '8237', '10238', '24680', '40050', '15856', '14044', '3385,92', '8198', '19746', '14570,01', '12410', '63306', '6750', '7687', '2578', '2390', '2520', '16070', '14140', '3271,5', '19245', '27347', '4398', '7157', '9440', '42950', '3196', '2540', '4320', '7588', '4021', '21220', '8346', '6018,39', '18799', '4744', '6141,75', '25200', '2689', '4781', '4826', '37305', '12514', '4480', '5218', '11615,4', '4900', '20179,3', '78120', '27200', '3899', '13998', '6467', '3542', '6732', '5588', '5516', '14618', '22047', '29640', '13195', '13020', '12265', '5740', '9532', '3383', '16324', '12678', '76550', '2489', '12061', '15490', '6295', '8253', '13670', '4428,1', '11526', '15500', '23146', '17568,3', '3949,92', '36267', '20430', '4491', '36308', '3720', '14521', '7050', '6477', '12211', '27369', '5424', '35097,66', '28060', '15430', '15615', '30110', '3989', '12959', '5451', '14590', '22233', '5140', '55846', '18910', '3710', '24263', '2000,51', '7416', '22395', '13287', '23830', '17073', '10116', '13240', '10910', '30500', '9842', '14688', '14100', '16300', '26380', '5310', '2680,4', '12670', '2250', '13488', '5404', '14270', '14660', '3490,91', '13848', '11830', '18890', '9117', '33510', '15315', '21814', '18535', '3095', '18318', '3276', '21866', '9370', '10359', '2970', '17998,2', '14031', '21940', '13122', '22990', '13433', '44879', '26049', '35450', '17697', '63000', '16540', '5346', '28778,3', '10140', '26232', '51200', '3180', '5058', '20480', '25271', '3591', '13570', '3951', '8598', '13494', '4534', '13689', '31560', '47247', '13100', '5594', '10740', '17496', '75424', '22168', '11090', '23790', '31499', '38250', '10298', '14385', '19620', '10820', '3798,9', '41700', '19457', '6600', '44560', '17950', '23000', '18499', '11724', '15647', '8905', '11340', '8116', '28308', '12960', '15720,91', '9538', '8651', '21919', '38625', '22212', '67950', '34335', '18162', '33678,2', '15309', '9167', '26848', '10508', '16285', '10590', '10860', '4896', '6115', '53364', '34422', '23475', '7680', '7760', '3715', '3919', '3730', '21665', '28565', '15547', '49000', '4930,95', '6790', '25280', '7619', '29386', '22656', '21870', '2873', '19390', '16260', '2330', '18825', '5198', '19728', '6520', '17888', '6700', '13078', '5573', '24900', '16218', '19860', '10840', '10775', '5989', '17050', '5478', '10089', '9989', '34148', '22290', '6490,5', '6186,7', '24400', '21809', '30418', '3305', '5276', '25992', '26346', '16783', '9738', '17688', '7968', '15127,38', '19877', '12636', '25855', '6518', '8918', '13686', '2860', '5708', '17366', '12848', '3610', '14330', '2704', '12260', '13960', '9898', '19080', '15575', '13921,52', '18497', '49653', '8490,92', '23310', '16170', '2300', '14678', '9759', '7190', '23720', '30738', '24131', '3335', '29478', '19210', '27986', '8755', '5611', '3023,58', '18882', '3072', '13491', '22830', '25020', '12189', '8399', '5220', '14938', '6945', '7336,3', '13930', '12100', '4074', '30615', '14000', '6327', '29461,34', '5370', '10757', '35940', '3089', '4790', '19301', '53000', '16390', '4099,9', '10500', '83871', '22962', '26930', '24120', '13591', '16629', '25420', '28170', '12575', '12251', '11786,85', '15367', '12465', '10338', '26140', '19665', '13300', '10310', '25122', '10538', '9219', '13199', '60300', '23684', '23315', '5995,46', '5445', '12935', '45000', '21578', '5055', '36570', '4330', '23945', '19593', '16765', '87570', '12730', '9280', '18693', '9295', '11000', '19133', '5789', '2360', '6967', '11955', '22269', '15789', '2490', '15940', '10852', '29040', '6435', '31538', '7869,61', '11428', '8999', '15221', '16020', '6881', '17049', '12639', '27898', '3820', '3879', '50652,94', '31278', '14580', '51700,5', '24119', '25720', '26872', '5285', '79910', '7181', '12309', '10467,1', '7084,28', '9629', '6939', '6230', '4575', '17875', '12300', '19540', '7380', '21800', '13463', '8195', '12780', '22240', '3393', '31460', '4768', '9690', '5155', '11595', '2573', '6400', '21974', '29877,3', '15390', '8658', '23647', '25137', '3328', '21330', '2241', '24030', '2255,4', '3575', '5300,9', '18900', '14596', '33821', '12310,91', '9760', '37440', '2189', '7386,75', '32540', '6191', '17610', '19580', '14574', '5600', '21246', '33660', '9296', '9858', '24778', '8745', '17595', '17750', '17991', '86071', '12508,2', '18491', '4996,8', '8098', '4964', '20767', '32975,3', '15470', '11765', '46649', '17590', '28755', '4362', '32819', '2934', '6449', '21650', '2879', '23488', '4837', '16948', '19610', '2200', '18885', '8508', '8322,77', '7876', '16407', '6639', '4670', '22080', '11325', '23400', '11445', '17790', '8515,7', '38108', '6101', '18358', '7637,63', '4879', '18460', '9963', '29206', '3561', '73996', '32200', '14355', '26910', '7472', '12572', '2190', '2440', '17630', '9573', '12421', '3160', '11099', '9224', '16571', '5548', '19130', '10714', '4758', '10435', '8744', '22097', '13090', '2310', '11250', '5730', '9116', '19797,1', '3322', '26365,6', '13665', '38832', '14193', '20133', '9340', '9622,77', '22413', '18176', '71740', '20249', '12710', '60500', '19611', '16736', '8090', '40313', '15115', '31646', '19570', '20600', '5669', '11480', '5253', '4319', '10759', '4592', '76730', '27228', '8920', '26989', '30925', '22770', '2878', '82800', '23124', '61000', '6300', '27070', '17850', '5328', '4463', '19650', '2341', '5400', '4207', '8270', '12810,94', '9498', '84570', '7648', '21721,1', '6995', '66680', '6301', '5051', '23772,27', '21050', '12400', '8361', '6099', '4280', '9560', '17010', '8648,5', '5077', '4351', '18204', '39020', '5060', '6165', '57593', '23500', '15770', '30000', '11635', '11986', '13063', '10780', '2580', '3316', '26865', '4098', '37100', '22635', '11558', '3834', '15201', '7150', '4941', '21673', '19993,4', '19491', '13060', '5531,8', '21985', '11989', '7152', '5530', '60000', '17599', '13918', '21237', '30960', '10466', '30879,55', '2366', '18350', '6545', '24850', '23355', '4986,5', '13001', '25812,5', '18934', '40410', '9606', '15599', '35369,4', '20985,62', '17714', '24777', '22394', '7703,1', '20400', '11510', '3376,8', '28400', '8806', '4710', '15582', '22040', '29970', '23990', '2399', '20277', '4485', '27170', '19011', '13230', '7810', '7621', '13284', '21805', '14611', '7011', '5793,3', '27617,1', '20679', '98030', '4020', '15865,65', '19924', '6793', '11100', '16653', '20751', '5888', '5347', '22192', '8128', '18463', '9393', '12398', '3031', '5330', '18960', '16263', '73300', '30300', '25600', '89018', '9021', '5225', '18027', '16700', '9599', '27759', '10671', '95441', '8188,04', '5683', '15003', '17649', '24630', '22167,6', '5839', '8225', '27744', '11551', '17006', '17851', '5910', '22082', '14090', '29220', '27990', '19520', '6889', '8550', '9241', '78000', '5936', '19719', '37466', '6616', '6255,15', '8793', '7563', '7362', '16039', '6000', '24280', '20205', '21280', '4930', '18185', '44500', '20925', '4103', '4596', '9971,3', '17162', '15199', '18855', '3061,45', '3398', '22590', '21895', '25870', '14990,95', '16781', '10850', '6594', '32490', '28945', '23539', '5988,46', '12645', '11189', '6969', '20356', '9823', '27313', '15230', '6822', '20536,1', '29300', '5606', '16993', '13388', '17300', '10968', '12318', '7630', '3195', '7280', '5090', '6499', '44000', '4910', '16470', '7676', '3470', '11317', '23690,91', '8675', '3886', '4835', '33111', '19765', '9567', '7478', '4060', '60829', '14481', '10418', '11030', '45280', '23517', '3933', '20826', '21726', '6513', '7651', '8416', '5221', '19840', '4041,9', '3538', '25625', '10174', '11470', '10648', '49798,1', '26641', '7599', '3996,9', '7407', '12090', '31060', '4120', '16893', '22102', '9679', '13653', '19430', '25780', '11113', '24835', '11520', '18225', '7539', '2850', '10463', '24844', '17501', '22188', '10490,91', '7180,9', '4080', '7147', '8088', '19296', '10699', '3152', '12789', '3480', '18498', '50177', '35992', '35598', '7110', '22323', '12889', '7895', '8078', '7315', '4704', '24459', '5748', '26750', '24858', '14052', '78400', '20802', '6662', '7410', '29898', '32114', '3628', '11958', '38830', '18048', '8049', '42300', '10555', '6938', '17397', '7425', '9400', '5807', '14290', '37069', '81423', '8940', '10737', '7070', '6893', '28800', '12365,2', '21484', '16975', '14321', '16897', '18389', '19839', '5309', '20113', '16011', '21860', '11690', '22307', '3040', '27190', '3540', '6919', '11650', '3067', '13790', '13733', '42940', '28557', '23745', '14513', '29037,12', '16222', '26550', '29622', '4576,5', '9298', '18760,75', '4542', '61600', '29065', '12350', '18224', '15739', '59009', '17826', '49743', '22650', '29780', '9980', '10635', '3897', '32444', '19730', '23240', '25000', '20989', '7369', '14930', '8295', '33476', '24179', '3984', '28781', '14820', '14717', '26085', '7875', '49860', '9899', '26355', '24867', '23667', '21470', '10058,5', '32900', '18789', '8360,92', '2305,8', '14094', '19960', '19177', '5736,6', '18999,2', '7189,6', '17490', '31716', '29880', '7769', '6741', '10447', '15887', '3840', '18797', '70000', '4754', '6843', '20088', '34720', '6834', '22263', '17425', '10617', '6562', '21460', '8941', '28530', '22482', '23950', '6090', '11240', '3418,5', '29390', '29905', '20440', '9862', '21197', '4274', '9533', '45665', '76738', '4300', '3484', '5178', '14744', '4602', '20129', '6748', '6941', '16995', '50879,83', '5689', '12520', '11630', '61832', '6696', '25840', '6181', '17540', '21498', '17775', '24423', '4495', '2009', '23103', '4550', '6776', '35787', '26547,1', '17600', '34140', '23760', '21984,55', '17769', '15755', '10000', '45110', '6770', '7872', '23259', '5078', '20715', '10904', '21808', '29990', '6340', '21499', '12830', '11269', '23304,6', '13040', '16045,2', '22110', '17640', '22050', '20871', '23650', '6883', '20646', '7980', '28208', '11363,99', '39627', '10576', '22450', '4939', '19382', '15745', '52930', '15621', '31806', '6643', '9030', '15481', '7478,2', '12599', '23128', '9720', '9729', '17060', '28421', '21589,9', '20086', '19482', '5879', '5965', '7870', '15822', '7000', '33978,63', '22497', '38880', '39276', '13010,94', '14490', '3340', '10987', '12166', '18898', '3869', '10990', '10499', '14197', '19886', '11349', '22384', '11565', '22509', '13443', '2844', '33330', '14177', '7040', '7020', '10150', '4969', '11910', '37456', '26642', '9461,5', '5544', '24015', '5616,15', '19205', '9586', '12799', '4241', '4039', '14648', '18880', '9290,91', '17090', '3737,6', '7639', '27012', '23595', '19315', '31050', '12454', '16010', '20580', '9550', '9835', '24027', '11670', '9986', '6997', '21840', '10440', '41907', '8398', '5472', '2799', '27922', '6347', '31895,48', '6125', '5562', '6983', '8990', '5710', '22896', '17367', '4339', '6560', '3614', '15226', '4743', '6130', '8619', '20499', '9405', '24587', '10248', '2263', '16551', '17580', '4889', '27501', '7660,42', '53499', '24970', '3630', '5840', '3200', '4535', '14245', '6163', '25897', '6430', '3935', '3474', '80440', '6848', '18090', '15784', '2099', '3015,2', '2961', '10769', '3006', '7550', '21240', '24314', '3725', '17466', '16814', '11600,6', '14098,1', '22760', '5829', '3501', '11167', '13948,2', '8034,2', '19945,35', '10470', '22085', '28238', '5929,95', '5017,9', '14189', '5932', '3296', '17279,2', '27110', '6142', '9031', '3816', '25177', '4099', '24420', '10855', '14260', '11264,25', '17702', '9768', '5490', '26941', '8741', '13567', '9500', '16512', '24552', '12412', '20536', '37656', '13025', '28500', '50970', '16872,3', '29100', '20169', '9675', '6048', '29742', '19419', '16367', '6089', '10570', '18000', '7578', '29336,4', '6311', '2800,85', '70047', '9973', '44225', '6399', '3870', '3769', '17712', '24940', '16455', '12325', '13030', '17960', '15899', '2151', '4276', '9825', '6799', '3639', '16799,4', '30391', '31910', '4726', '14910', '12228', '23677', '24340', '37400', '10734', '6109', '3034', '4505', '31466', '5366', '16820', '15359', '14047', '11422', '6745', '5517', '6726,1', '6367', '17043', '17098,2', '7920', '3865', '2240', '3700', '5757', '14678,63', '26499', '32810', '5560', '16785', '9652', '26337,6', '75500', '13820', '15482', '97220', '16977', '7317', '15625', '7047', '27925', '9988', '13421', '22781', '3046', '27550', '24290', '6970', '4555', '7291,85', '25899', '7144', '2660', '21120', '11350', '4202', '13949', '6578', '7210', '46156', '13558', '9621', '34916', '27541', '7582', '6365', '4918', '27456', '6519', '8556', '5405', '13098', '13776', '6950,7', '30060', '14528', '18790', '21598', '2152', '89200', '22616', '6854', '6204', '9510', '13006', '7620', '28428', '4221', '18010', '10950', '42228', '13315', '22244', '9590', '4522', '23280', '11699', '13479', '19513', '4869,66', '5508', '8857', '22530', '7885', '5632', '15340', '13389', '23985', '7997', '5100', '10350', '19899', '8988', '19905', '2372', '5937', '8689', '19316', '19608', '6870', '4035,2', '15127,4', '11288', '6190,92', '24717', '23147', '31596,92', '77210', '9425', '21340', '22419', '25584', '6835', '4898', '4230', '15914', '83000', '9278', '29650', '24281', '18724', '27645', '19591,36', '7937', '12829', '28417', '8735', '10585', '18290', '7454', '30590', '20069,33', '87600', '11842', '16848', '24070', '7800', '37000', '22100', '21728', '90747,9', '12782', '9389', '10490', '7614', '19626', '5487', '5906', '23411', '8286', '3876', '28440', '13843', '8640', '21861', '7891', '21724', '10417', '14204', '5835', '8625', '11225', '6500', '54000', '17099', '26174', '10374', '7395', '5279', '42320', '7201', '4140', '52561', '10423', '19169', '6250', '4140,2', '21710', '6993', '20833', '5019', '4672', '4008', '4450', '17865', '24300', '5867', '19798', '25491', '22600', '11195', '11502', '9846', '5745,12', '31990,6', '13940', '3000', '12590', '20862', '13500', '8200', '4548', '17199', '16949', '6782', '16692', '9240', '39780', '24236', '3413', '9416', '38553', '8038', '5941', '5353,5', '6346', '13563', '7452,4', '9880', '4690', '4040,1', '30360', '13387', '15327', '18849', '4780', '7290', '34695', '50929,82', '79380', '63320', '6984', '13709', '13193', '22299', '25105,1', '33830', '26054', '10279', '12390', '6136,58', '18105', '11450', '27560', '14730', '4890', '11259', '12593,7', '73306', '7498', '18517,1', '14600', '6189,92', '3400', '9870', '6278', '9515', '5877', '8050', '38700', '30198', '17476', '10837', '33030', '15658', '28745', '14593', '27381', '9130', '6020', '13166', '3731', '10917', '4131', '26538', '35201', '9681,5', '4845', '18740', '7089', '8906', '12480', '10972', '19250', '30299', '11920', '24949,09', '11590', '18080', '7713', '27480', '3541', '5590', '14185', '2907', '19295', '4292', '10525', '7313', '4812', '10529', '2090', '23170', '29200', '12080', '11710', '4970', '18500', '7638', '26100', '10198', '8669', '37818', '19622', '17997', '20007', '9798', '11637', '16980', '20046', '14438', '13747', '10342', '5690', '5895', '11304', '23137', '5721', '25765', '10580', '21405', '23393', '2223', '12919', '31610', '6739', '15000', '56700', '11799', '11333', '6138', '33475', '5304', '17671,2', '13899', '10981,82', '3045', '5660', '34493', '19630', '2781', '3540,2', '15442', '24270', '34499,2', '8638', '29334', '70300', '7151', '4738', '9263', '8883', '8298', '23166', '3370', '6386', '5232,2', '10752', '12455', '14773', '16900', '6796', '26150', '31672', '3123', '27080', '26199', '24210', '8880', '5859', '3110', '32940', '9979', '21218', '5950', '6619', '6030', '14880', '26988', '3141', '18962', '6370', '16680', '19740', '56277', '31702', '9457', '2890', '13235', '4779', '22930', '3885', '15290,7', '41171', '8589', '6975', '5432', '23358', '4228', '7713,42', '9791', '13620', '4290,9', '11151', '24519', '12711', '32650', '14160', '15740', '10646', '27020', '14046', '20900', '17251', '16169', '11194,06', '6210', '17190', '15319', '13770', '4260', '14383', '63271', '3275', '6288', '24580', '13566', '29471', '17272', '2880', '10163', '20433', '5970', '22210', '14645', '19475', '29612', '6797', '21915', '7549,89', '92951', '14370', '9695', '10920', '19260', '12713', '18230', '17324', '19883', '24405,4', '5980', '17815', '7394', '15192', '14849', '4775', '10665', '5180', '3718', '31317', '13829', '15389', '97000', '16491', '10675', '11990,95', '9360', '8389', '13592', '6193', '4951', '10539', '44697', '15570', '26760', '6747', '20220', '22252', '48700', '20882', '21160', '24059,83', '25520', '5824', '19170', '4770', '11070', '18540', '23290', '22195', '9890', '21069,8', '17039,91', '20381', '7199', '20050', '11798', '3035', '11060', '22660', '8879', '3222', '3300', '34199', '10410', '17633', '15555', '6228', '4700', '15121', '12138', '58900', '23057', '51685', '16773', '7558', '13600', '5765', '4082', '15070', '2638', '5290', '70936,32', '23975', '7431', '11927', '15468', '13780', '2751', '9430,38', '8067', '11477', '12232', '10191', '13140', '30150', '2190,2', '4540', '16990', '11980', '5930', '6489', '18972', '12899', '10960', '3137', '7493', '22598,1', '7170', '28900', '24768', '3549', '27096', '4922', '12198', '10520', '23370', '16081', '4499', '22756', '6561', '19770', '18896', '3668', '30344', '15035', '16141', '12898', '24367', '11500', '23825', '7513', '23954', '7440', '16591', '12810', '25343', '6510', '6081', '7899', '7510', '62468', '23352', '11490', '12435', '7180', '20990', '87673', '25227', '26695,8', '9546', '31263', '32449', '5520', '19795', '16834', '47529,91', '14201', '6201', '26774', '2430', '25760', '11768', '51750', '28850', '26430', '21889,92', '11680', '13872', '72890', '3900', '19235', '16030', '21890', '15980', '15084', '8235', '8459', '9570', '6190', '39720', '5450', '14522', '26051', '12900', '21938', '10422', '47789', '56340', '5031', '26547', '7693', '13900', '6393', '13934', '4257', '11399', '5955', '8047', '13115', '11750,31', '10430', '8170', '26871', '14170', '12559', '15960', '9977', '25829,1', '19085', '26170', '53169', '7120', '24399', '22498,2', '23389', '14646', '23100', '14348', '28999', '2570', '13312', '13439', '20229', '46729', '24771', '35943', '3646', '3430', '12616', '10818', '5871', '3237', '6964', '18099', '25887', '4314', '16438', '5208', '10245', '8630', '28490', '4315', '10113', '17592', '3670', '11810', '21850', '30471', '13490,2', '26315', '4299', '10280', '12393', '28215', '10265', '11020', '27342,5', '7092', '6119', '9733', '6918,34', '16090', '6680', '21380', '2030', '24370', '4546', '13170', '3090', '23391', '9924', '45863', '25989', '47223', '13920', '3048', '16265', '7589', '26260', '61915', '6660', '5780', '11935', '7289', '20370', '8901', '14571', '7060', '8108', '16284', '6130,8', '7174,6', '18400', '80000', '7540', '25508', '14144', '6819', '7752', '28241', '8860', '5128', '42135', '10052', '21845', '25936', '19890', '42689', '39025', '8441', '6749', '27000', '9913', '4125', '19439', '19360', '22599', '3990,92', '10075', '7516', '7342', '21730', '9173,88', '13450', '18004', '13221', '20648', '8453', '7187', '15732', '25050', '27450', '14148', '12380', '7247', '35360', '5778', '2745', '25783', '4005', '16590', '23425', '19797', '5197', '17752', '4030', '23713', '5131', '85270', '33570', '26457', '52509', '22455', '15838', '18800', '98644', '2559', '17150', '19050', '8912', '25627', '56673', '6697', '24650', '32617', '36805', '4645', '14449', '13727', '13740', '4240', '7163', '22870', '4366,8', '24220', '10990,92', '29600', '17082', '5505', '4799', '84800', '11514', '4504', '8609,92', '10600', '19840,5', '4851,81', '14215', '9170', '16448', '16214', '24344', '13999,2', '25080', '39690', '6880', '9614', '10898', '22300', '7390', '19938', '6217', '9820', '7417,5', '23659', '5426', '21112', '17572,68', '28955', '23200', '81612', '16748,1', '5757,1', '23795', '15020', '18425', '5825', '6440', '6323,33', '20960', '17320', '4217', '12598,2', '21479', '27518', '24130', '67500', '7682', '11655', '5746', '5152', '19820', '20059', '13792', '11202,3', '2268', '14349', '10773', '6040', '42669', '29384', '13440', '7040,92', '19809', '4995', '42436', '3790', '28502', '6549,83', '5920', '9927', '5174', '25081,98', '29285', '6570', '8979', '10836', '8056', '21355', '4089', '5990', '7544', '21936', '13860', '4405', '4810', '4134,4', '13850', '11795', '21100', '8568', '20000', '4619', '3528', '34391', '20852', '11519,1', '6647', '38058', '4487,4', '19286', '37235', '14205', '17940', '15440', '18414', '5580', '8788', '27780', '8400', '21899,94', '18654', '4892', '31800', '5640', '17528', '6491', '3360', '27971', '88555', '22674', '29944', '21536', '23608', '11085', '5222', '7677', '12290', '10631', '8047,1', '10801', '5796', '21440', '35332', '5852', '22960', '24357', '5848', '3489', '14651', '32593', '26379,91', '94358', '13698', '17896', '29782', '2572', '15950', '11434', '5832', '6783', '4648', '4095', '14527', '17660', '34630', '10712', '7115', '6958,92', '15186', '9341', '17140', '7830', '15017', '8544', '38120', '12012', '9237', '3801', '11642,3', '8289', '94300', '19929', '5772', '16145', '7422', '10964', '52295', '14658', '15912', '16045', '17400', '9480', '56899', '7787', '29700', '54700', '15999', '5742', '26020', '2797', '9140', '12580', '11077', '25680', '15520', '3230', '35793', '4664', '13365', '31015', '26090', '6730', '5179', '20931', '3239', '27860', '41100', '8080', '97026', '27599', '91536', '13402', '17880', '3955', '15299,9', '3051', '4169', '5712', '24003', '3924', '20790', '7547,2', '12490,9', '5340', '9596', '7068', '10057', '17173', '14498', '55174', '6377', '7302', '23900', '33255', '24810', '20063', '6273', '3168', '45160', '26440', '8715', '20644', '15518', '22570', '23226', '21900', '4057', '21195', '29388', '15314', '6546', '17980', '4059', '17594', '2322', '31474', '23095', '2679', '25749', '13112', '12059,1', '18648', '23890', '4741', '5661', '8929', '7999,1', '14850', '15067', '17370', '13165', '7859', '14489,2', '8900', '18251', '12695', '11685', '16985', '16660', '6415', '4760', '34150', '21097', '4117,5', '42740', '16870', '8800', '19341,2', '58490', '3356', '5357', '5169', '9680', '2470', '4928,96', '27781', '4887', '10750', '7340', '23148', '11692', '34900', '9930', '4689', '10158', '12610', '18649', '36910', '29691', '4132,5', '26300', '10021,5', '11687', '13981,8', '6567', '48800', '21778', '23980', '5109', '16669,84', '96000', '19627', '7017', '4212,9', '6080', '13965', '9230,9', '24647', '13975', '11136', '16890', '30599', '33192', '25991', '5750', '2595', '14700', '18286', '3359', '12672', '21592', '4476', '11619,84', '3130', '4984', '16798,2', '24059', '4240,91', '24600', '4302', '28580', '23850', '15830', '28594', '28933', '20630', '15498', '2930', '6455', '26091', '9290', '9450', '13383', '6998', '21994', '14480', '13179', '7140', '28820', '27790', '2899', '29234', '6893,7', '4830', '15889', '6904', '29000', '6350', '19440', '5160', '22525', '4369', '29900', '20326', '4563', '30974', '8540', '15102', '5419', '16450,71', '32580', '15552', '14787', '3824', '24330', '5282', '13180', '17347', '27980', '10439', '19880', '14866', '29997,24', '6027', '21300', '8718,1', '20200', '23783', '13259', '27270', '4934', '12816', '23216', '6496,1', '8767', '12130', '26660,2', '3909', '7593', '23480', '3492', '59760', '18610', '2224,8', '11290', '4270', '14219', '8595', '14921', '13469', '11499', '31680', '7640', '3033', '27706', '20393', '14472', '7229', '20598', '8127', '13496', '4858,1', '6990,92', '7978', '10512', '21648', '5085', '12500', '5818,5', '39800', '21901', '13992', '13448', '17999', '12411', '3308', '2498', '19674', '28700', '9010', '14765', '13671', '22286', '12549,07', '18970', '66578', '18980', '13366,2', '10366', '30428', '23696', '8984', '33358,84', '30686', '35700', '21597', '10390', '3970', '16005', '20379,5', '27673', '8233,95', '32914,31', '2243,7', '33996', '40534', '7905', '10130', '6100', '13130', '5435', '33344', '15210', '10704', '82910', '6948', '23854', '18370', '31520', '18338', '22711,21', '2450', '36136', '5129', '38520', '37640,77', '18217', '10483', '24640', '6264', '20196', '37200', '26819', '5020', '27510', '6462', '24741', '4950', '26400', '36086', '10880', '2412', '40521', '21619', '8091', '16092', '21124', '7249', '36490', '22495', '2881', '16830', '3604', '38810', '7307', '37752', '32938', '11188,14', '11116', '20690', '17778', '19597', '15164', '13580', '2798', '7600', '8188', '3499', '15897', '16789,98', '12940', '13734', '5240', '22162', '21496', '18121', '4220', '8977', '45820', '6850', '7880', '7590', '2900', '10647', '77762', '14020', '2936', '4375', '12330', '11892', '3868', '19218', '87880', '10930,52', '36177', '6537', '35500', '51370', '9804', '19736', '5018', '5715', '10256,1', '3636,9', '16100', '6979', '19542', '4904', '4600', '5913', '32525', '10767', '9730', '2909', '14848', '25168', '4804', '16220', '4610', '8844', '99308', '6023,7', '7337', '6237,03', '12148', '3861', '24690', '17424', '12903', '44100', '11518', '17990', '16320', '12240', '18197', '13455', '21042', '25800', '10479', '8292', '5130', '32790,9', '16616', '32700', '7940', '16063,29', '6525', '20748', '39090', '17505', '3195,9', '5040', '6470,9', '5110', '20252', '5482', '12989', '30340', '8685', '15863', '10001', '11740', '9990,91', '5270', '4208', '12499', '17605', '28059,81', '10998', '9573,1', '11529', '7369,7', '7574', '5855', '29052', '31090', '5768', '17593', '6679', '10448', '9879', '10536', '3500', '7998', '23109', '6495', '14595', '31900', '12750', '23992', '38300', '3255', '33850', '19772', '5699', '4679', '18670', '6397', '8244', '14390', '19830', '16060', '20040', '23852', '34557,1', '2028,56', '7888', '18720', '18725', '35775', '6361', '13978', '23840', '3358', '7985', '11395', '19082,3', '19278', '36500', '10170', '7845', '5706', '15036,21', '27150', '12495', '28722', '11212,06', '22499', '5869', '10097', '8442', '18300', '9053', '25498', '3001', '30673', '11760', '8275', '9004', '10115', '13630', '4477', '12640', '6990', '15895', '5260', '45900', '8763', '33292', '11968', '27234', '15150', '10659', '7204', '19920', '35990', '10394', '10497', '12092', '3895', '6910', '18470', '8299', '24772', '26450', '18138', '6033', '3490', '14758', '22198,1', '11138', '15034', '19983', '9555', '33400', '20800', '7770', '29975', '11081,52', '13952,73', '22528', '10190', '5840,5', '18144', '17716', '11819', '20992,78', '14670', '11936', '15110', '28110', '3910', '12460', '21009', '21270', '15045', '14388,3', '7586', '3167', '11725', '5488', '12396', '5790', '11211', '15806,5', '79770', '8785', '15560', '7368', '28950', '3752', '79959', '26700', '20670', '18632', '28090', '5185', '17503', '3923', '2282', '28186', '17184', '28055', '10090', '5773', '8648', '64500', '16687', '14257,91', '23154', '13409', '7299', '14399', '15250', '18450,8', '20928', '9025', '8186', '25250', '17952', '3651', '8570', '11298', '16996', '7385', '12854', '16467', '27005', '11305', '21660', '20680', '17500', '5465,26', '31810', '6960', '3080', '15290', '14872', '7088', '3560', '3289', '6658', '2089', '4497', '4801', '22490,91', '7514', '15705', '6840', '61290', '6876', '6900', '11930', '3647', '10194', '3942', '3205', '11192', '5592', '11950', '4268', '25820', '11648', '3749', '5436', '41125,88', '3419', '5570', '14133', '4056', '7488', '17380', '20779', '23040', '7860', '19550', '6720', '18490,91', '2489,4', '7360', '23382', '23579', '9719', '6336', '9902', '9899,92', '69282', '35750', '3892', '79679', '5030', '17670', '6898', '18750', '4489', '8600', '27350', '49500', '84630', '29376', '11748,2', '27670', '13380,56', '28971', '23660', '16999,82', '8690', '29950', '12800', '4500', '34100', '21450', '35770', '4590,2', '30697', '10795', '18660', '9908', '22520', '10262,2', '18906', '18198', '22390', '5388', '11674', '9810', '4196', '11049', '18810', '16381', '6319', '14443', '16698', '25240', '10900', '19046', '21685', '13191', '10526', '20999', '40581', '5294', '9452,97', '52200', '15160', '22140', '4508', '4909', '13635', '13888', '12447', '18045', '4919', '17998', '13298', '29450', '13216', '6411,72', '28991', '32970', '5200', '17439', '25623', '16358', '11310', '11691', '26034', '6999,9', '3310', '11293', '6354', '20880', '25732,2', '4905', '34618', '46540', '20155', '10029,92', '3825', '32750', '5555', '4595', '21320', '13889', '26900', '34990', '16189,4', '7348', '17450', '16550', '12246', '4660', '12908', '12029', '21105', '18472', '22522', '17622', '13137', '8560', '28079,84', '18515,03', '5083', '4727', '14441', '22969', '12077', '7898', '30918', '17428', '14570', '29177', '9499', '31091', '3600', '7709', '22264', '11498', '3580', '23399,2', '4310', '16240', '19269', '24458', '8228', '17432', '19734', '11938', '6049', '6792', '8262', '29830', '26529', '10770', '11583', '27796', '34891', '32980', '12554', '11960', '22880', '2792', '11021', '4077', '27880', '5899', '38778,01', '82700,9', '21810', '5380', '13336', '49227', '10584', '24682', '43515', '12696', '10361', '8697', '35100', '23351', '12199', '9793', '5850', '10205,5', '7376', '13227,7', '10088', '62800', '38718', '36730', '8543', '28899', '7101', '22230', '9839', '13926', '5897', '21494', '22072', '8870', '5687', '13355', '7570', '14900', '23204', '9107', '47900', '14365', '5430', '21690', '7780', '22872', '17215', '22410', '6580', '16389', '11940', '35529', '30170', '11779', '5999', '23598', '18426', '23930', '9484', '5300', '7909', '9072', '8515', '12566', '13835', '15750', '6758', '17556', '13288', '25492', '2039', '93947', '16107', '21838', '6540', '10989', '6345', '11133', '14965', '19897,1', '7812', '5599', '28517', '22356', '11370', '4004', '3999', '5645', '20659', '5860', '11227', '12478', '30224', '22488', '14390,92', '9158', '28469', '7220', '24110', '18190', '12845', '4244', '11723,2', '7107', '9412', '15403,02', '6266', '11200', '20575', '6892', '7839', '7480', '63657', '12890', '18820', '29526,12', '4641', '11391', '10660', '27356', '34641', '10085,9', '10495', '16400', '21907', '6966', '5455,8', '63776', '4729,72', '3771', '10528,3', '4454', '9050', '11042', '4392', '12872', '16498', '4400', '40084', '18330', '16600', '25998', '12284', '10936', '10628', '2070', '4630', '4644', '19489,91', '8169,55', '5150', '29760', '7002', '93400', '9728', '29070', '34804', '21420', '26022', '5575', '7166', '24923', '6181,09', '22015', '30813', '13995', '34449', '50950', '20272', '42335', '33990', '8995', '12304', '7209', '56518', '22560', '28242', '8951', '13768', '17988', '40037', '8071', '7100', '14190', '43353', '16000', '17900', '24830', '26489', '24502', '22670', '5720', '6651', '4372,2', '3815', '4209,2', '12490', '16704', '14639', '23577', '11651', '12070', '11755', '21128', '16961,1', '15998', '10668', '6865', '11677', '4050', '8340', '90200', '32041', '17906', '27854', '6858', '14680', '25350', '10700', '23037', '25587', '21990', '13456,82', '23453', '4189', '5634', '4650', '18510', '12110', '77860', '18580', '8698,1', '16519', '14890', '8960', '8641', '16194', '21480', '6543', '4180', '27886', '52250', '5099', '8943', '11175', '6053', '17820', '21475', '19079', '13993', '10566', '19005', '4460', '99540', '8410', '22000', '17263', '9920', '12597,3', '22536', '17308', '27065', '15920', '14996', '6781', '19184', '16950', '37517', '100000', '13875', '5440', '31933', '16449', '16670', '21740', '20987', '12280', '7698', '28460', '3145', '21390', '27810', '39110', '6860', '14610', '43682', '12424', '2380', '10720', '14240', '15165', '28879', '23689', '9580', '10805', '18380', '6809', '41451', '60720', '17372', '7999', '12818', '11322', '22361', '14917', '18216', '6280', '31400', '24479', '11308', '3674', '5754', '17080', '17981,9', '7740', '8580', '12140', '33800', '4978', '2514', '7910', '3134', '16733', '15503', '30720', '26990', '6856', '23230', '14949', '8190', '44030', '4428', '11860', '22280', '9326', '19844', '22980', '6120', '56964,6', '11230', '3149', '13599', '44495', '3415', '18949', '7711', '3799', '21328', '9702', '16290', '17911', '22011', '12998', '12384', '5397', '5076', '16880,91', '20280', '21038', '7581', '5830', '3735', '85100', '20700', '14500', '13710', '23584', '25683', '76360', '18895', '9830', '14620', '31580', '31096', '14397', '4740', '4999', '2569', '10789', '8006,1', '18490', '5650', '3375', '7495', '8068', '17756', '2676', '4674', '20263', '82162', '15280', '11540', '3717', '4349', '7083,05', '8917', '7240', '18119', '21216', '10656', '8970', '25167', '10231', '19805', '4150', '3894', '25730', '25702', '19710', '4890,2', '10670', '12219', '3602', '5922', '3321', '4387', '31726', '16370', '13769,2', '20710', '5605', '19819', '4967', '10953', '19990', '13139', '14709', '35950', '2748', '3033,9', '21784', '5775', '30729', '5499', '5170', '18592', '14990', '24475', '9855', '28039', '34650', '3170', '22121,1', '8140', '10347', '17200', '16519,02', '50020', '6590', '28341', '25299', '26082', '22999', '4336,2', '5665', '25515', '5288', '12019', '27470', '14209', '7191', '23792', '16998', '2790', '6445', '15984', '5243', '28288', '4947', '8997', '11039', '4675', '7507', '17231', '6220', '13649', '3117', '18624', '15843', '12044', '13150', '25500', '12366', '2420', '20995', '15450', '24380', '4165', '5684', '27298', '11550', '20180', '4064', '10935', '6740', '13541', '78150', '15190,5', '14747,1', '18692', '22400', '3650', '20009', '17499', '22250', '3722', '3619', '4122', '11430', '23920', '11489,91', '4986', '12127', '17648', '5339', '3598', '7850', '3312', '5977', '32844', '33700', '10456', '17873,75', '16080', '17895', '6529', '18115', '29615', '11698', '29380', '7679', '14885', '48900', '17134', '9176', '14310', '42180', '20903,5', '11800', '28845', '25211', '3076', '19037,2', '17340', '18180', '4720', '56130', '2350', '11769', '24983', '18819', '8110', '6313', '30799', '8057', '15771', '23331', '15200', '41132', '33126', '5298,1', '12760', '23750', '3250', '17420', '18891', '25290', '6692', '16800', '7460', '15900', '50330', '20786', '20053', '7077', '34390', '7747', '26817', '5820', '16940', '16379', '4390', '14250', '4090', '21187', '10034', '25632', '96200', '4729', '21588', '21688', '20583', '17810,82', '3450', '71500', '15695', '81000', '25639', '15512', '29653', '28294', '27895', '16576,2', '22940', '13745', '5700', '18698', '88000', '6075', '2095', '2183', '22904', '26485', '34154', '20268', '66504', '9769', '5287', '20653', '9545', '12095', '11279', '10530', '31696', '6678', '19128,41', '4118', '13136', '7370', '15788', '7030', '11990', '15685', '5799', '5577', '6460', '9127', '77000', '37790', '4191', '10990,91', '13720', '74650', '6707', '28661', '25960', '21030', '23365', '17325', '4326', '13895', '11690,91', '12884', '22550', '9250', '22692,96', '16649', '23912', '25180', '17430', '5000', '5143', '15036', '4908', '9007', '18573', '16630', '12996', '8994', '10991', '4624', '19047', '15756', '21717,92', '28890', '17399,2', '12700', '24328', '20645', '18861', '36260', '10695,13', '5805', '5997', '6552', '5103', '16114', '21204', '17615', '15523', '23470', '9595', '59224', '10287', '5510', '3150', '47195,92', '12310', '11159', '16418', '14396', '11429', '13390', '22645', '13141', '2950', '9150', '9991', '36617', '24195', '11441', '2999', '25220', '34020', '10610', '17483', '14387', '8456', '18150', '5994', '15272', '25320', '25506,19', '33280', '7975', '10315', '29199', '11689', '14750', '9956', '22145,1', '6947', '16298', '20755', '39388', '13310', '22672', '14199', '20488', '19789', '73230', '13382', '10978', '37881', '19522', '5080', '9892', '18999', '21736,2', '8869', '16501', '3030', '11776', '11300', '3545', '86618', '7890', '6073', '18361', '4852', '15650', '10268', '8432', '15824', '32450', '5963', '18868', '16690', '8041', '3270', '3320', '9529', '11598', '4498', '18210', '19843', '4262', '6457', '10019', '32800', '10060', '27570', '7650', '62700', '20753', '21624', '5025', '24450', '13492', '20601', '9059,92', '8076', '17254', '15460', '11280', '4130', '3385,83', '18780', '23625', '22558', '25454', '17459', '13410', '8421', '3890', '8118', '10100', '20850', '27010', '10785', '18631', '43732,8', '3114', '10471', '12136', '12599,9', '6380,91', '6236', '27795', '6170', '18550', '7116', '9755', '7258', '4462', '11489', '19140', '24760', '13005', '35600', '25146', '26510', '20590', '10073', '12283', '8850', '15245', '6139', '7556', '29590', '9504', '5987', '9160', '4413', '17839,92', '14857', '21506', '23774', '15857', '11900', '33190', '26999', '7420', '11997,2', '9429', '6787,8', '22338,94', '24833', '14089', '33120', '8300', '12950', '8070', '29980', '119700', '27934', '13921,36', '5610', '19095', '34162', '20250', '6527', '20475', '15653', '14560', '26596', '45034', '27690', '88300', '19700', '16615', '24506', '3050', '21082', '4188', '23511', '5011', '17111', '20443', '4945', '9940', '7849', '26650', '9789', '11639', '15870', '8590', '30361', '2435', '16621', '8633,7', '21154', '9310', '6820', '22275', '93890', '5228', '4452,91', '41498', '3280', '23882', '18667', '15690', '25898', '15269', '4820', '8849', '22800', '19100', '14420', '32499', '12097', '8835', '19810', '13641,3', '2620', '8498', '27372', '15466', '12427,1', '22700', '31502', '3983', '37500', '9928', '26886', '30999', '3880', '6609', '14991', '9923', '12560,01', '7112', '10890', '13275', '5707,8', '91168', '3617', '13959', '19240', '15480', '5306', '8833', '11385', '2120', '9985', '6197', '5265', '7262', '44690', '35145', '26690', '65747', '8308,35', '2031', '34700', '5931,8', '13480', '4275', '9917', '16189', '19781', '11270', '6480', '8775', '4212', '12999', '14469', '6479', '11589', '17100', '15700', '17955', '32481,83', '20237', '14925', '7208', '26330', '27990,91', '37800', '4345', '6182', '21410', '6620', '18689', '5949', '8390', '7838', '9876', '31490', '8303', '4436', '11898', '25490', '7335', '15810', '5797', '4403', '14495,35', '11212', '20979', '6407,5', '19200', '6682'}\n",
      "\n",
      "\n",
      "==========\n",
      "FST_PAYMENT\n",
      "{'6700', '910', '835', '2608', '1094', '3126', '4318', '1619', '5244', '2100', '5989', '10515', '2000,22', '565', '1500,95', '41000', '10431', '3435', '2180', '800', '1566', '598', '2688', '2572', '2550', '3930', '48052,1', '1500,2', '1525', '1225', '1639', '4095', '2062,5', '588', '1153,5', '2458', '2860', '5708', '1036', '1381', '1730', '3610', '7531', '9898', '309', '2369', '5890', '1272', '1717,92', '5940', '49200', '12012', '1670,69', '11080', '439,95', '8082', '9272', '1876', '9267', '900,2', '1291', '2300', '1933', '3010', '1000,92', '6396', '3138', '390', '2149', '1935', '1322,9', '1814', '9480', '1559', '3335', '14990,94', '2115', '5611', '995', '2740', '10527', '9096', '9754', '6945', '2797', '2204', '3403', '6625,16', '9574', '12100', '9845', '14000', '30303', '1430', '3230', '40000', '777', '9528', '2129', '2352', '1805', '34923', '5320', '2775', '3220', '1353', '26090', '2655', '6730', '2325', '3469', '682', '10500', '1099,9', '651', '2901', '63219', '2260', '280', '12251', '1251', '4000,22', '13300', '4983,2', '1584', '2179', '11548', '2316', '576', '2518', '1001,7', '507', '1257', '389', '9418', '1080', '49356', '10240', '5340', '51127', '2320', '45000', '799', '3765', '4521', '3060', '7118', '1240', '4330', '3411', '774', '16750', '23900', '50', '6933', '11000', '1310,62', '1050', '618', '1708', '1771', '2599', '3311', '2360', '415', '977', '9037', '14448', '2092,94', '1860,9', '1512,1', '20644', '4395', '2490', '355', '3550', '21900', '3660', '1139', '429', '2926,4', '3257,04', '18588', '1020', '16250', '1418', '258', '4640', '2697', '795', '1238', '6699', '3119', '1812', '1495', '1373', '1831', '562', '6599,8', '2323', '2835', '1475', '4100', '446,05', '12300', '438', '1297', '416', '2014', '2259', '75606', '4806', '1992', '6882', '847', '2954', '605', '269,1', '542,2', '601', '1535', '8900', '6174', '10981', '1779', '420', '659', '1999,2', '1179,6', '1802', '1220', '646,5', '449', '953', '381', '5155', '4768', '1235', '6400', '2197', '4210', '3620', '1099', '1268', '8800', '7883', '11440', '1411', '2470', '1455', '2000,79', '2345', '9568', '1939', '3328', '1009', '10750', '998', '2241', '4752', '1498', '3575', '276,6', '690,95', '4160', '1680,82', '18900', '771', '9200', '9664', '3907', '1530', '5210', '2499,8', '2285', '1147', '1962', '2130', '17610', '1640', '4177', '1029,41', '5600', '1700,92', '2395', '3223', '840', '3357', '1116', '1379', '48800', '18850', '1405', '1958', '868,42', '1790', '684', '2962,1', '1819', '16481', '3463', '4455', '2125', '2270', '3120', '1575', '1002', '3318,4', '7230', '1899', '470', '1082', '2770', '279', '24800', '6160', '1632', '20235', '5750', '2595', '1380', '2879', '2934', '3359', '2200', '4476', '230', '6832', '677,5', '4587', '3130', '1610', '627', '1210', '60360', '1555', '3015', '1250', '3260', '2930', '2685', '1440', '2454', '1915', '4197', '439', '2244', '3104', '4186,59', '465', '8450', '575,2', '1071', '2899', '1841,91', '686', '3037', '929', '700,83', '5500', '1302', '2855', '4830', '391,2', '2440', '1011', '2190', '599,95', '950,92', '3334', '1069', '3160', '24500', '1059', '25599', '54870', '1130', '3570', '38000', '7350', '4750', '1745', '947', '7820', '4352,37', '2310', '850', '5730', '8540', '10980', '2616', '14786', '1876,25', '2047', '818', '13000', '8274', '2887', '1700,95', '4944', '3159,86', '3990', '1885', '2869,9', '5002', '7700', '14200', '4358', '1200,2', '5038', '979', '798', '516', '2937', '1389,8', '4319', '2849', '1489', '10759', '440', '1615', '10162', '4949', '7913', '3392', '3492', '2878', '513', '3685', '1055', '437', '1026', '7174,87', '4270', '6300', '8688,09', '1341', '894', '14640', '16515', '1185', '921', '930,91', '1866', '732', '5400', '1999', '855', '1581', '2000,92', '3216', '1596', '5044', '9498', '778', '1239', '5437', '100', '3595', '918', '5000,8', '691', '1509', '5074', '54230', '10512', '1780', '53370', '752', '21648', '4647', '2784', '12500', '28000', '4280', '445', '10637,7', '11027', '713', '1823', '868', '1231', '5060', '1524', '1255,41', '10502', '925', '5383,85', '4498,91', '643', '376,21', '833', '30000', '15000,4', '2498', '538', '4346', '2580', '550', '4190', '981', '2019', '4098', '16484', '586', '12335', '4018', '1000,1', '3498', '2816', '5761', '830', '582', '10152', '1258', '1622', '7623,3', '1810', '7945', '1648,5', '1188', '1216', '4139,36', '40758', '2535', '3363', '1689', '4666', '9964', '13536', '5361', '2271', '2547', '1065', '2078', '53530', '3970', '10330', '21750', '30660', '681,2', '9700', '9788', '639', '2990', '3451', '2132', '4986,5', '10394,5', '1829', '6010,3', '867', '6100', '3124', '430', '4850,8', '1703', '4567', '6948', '2700', '2315', '4712', '1635', '300', '25300', '1599', '2450', '4198', '10026', '503', '4200', '4364', '323,25', '2703', '2155', '7990', '1545', '5814', '3658', '2280', '65000', '532', '2399', '2192', '964', '629', '2355', '1399,8', '1547', '524,85', '1107', '1997', '1253,7', '558', '2800', '4950', '51929', '1572', '4020', '3810', '1000,2', '1503', '2598', '19924', '2832', '5234', '4287', '4110', '1249,95', '2156', '10230', '3202', '1717', '868,83', '10696', '8342,38', '2218', '276', '1650', '18719', '11116', '2387', '4399', '2630', '2000,4', '480,9', '2798', '13580', '553', '2205', '648', '7082', '670', '7600', '11024', '3374', '1497', '3499', '508', '2696', '4870', '11528', '878', '5240', '746', '2455', '5928', '2590', '2708', '2213', '2571', '2346', '2135', '2077', '7880', '7590', '5752', '2900', '296,8', '48210', '159', '2368', '3198', '256,2', '1444', '7764', '553,6', '1533', '1197', '667', '1877', '3718,2', '9824', '377', '9375', '6554', '16100', '10467', '780', '4600', '2028', '1751', '10015', '9730', '25400', '6598', '669,3', '3599', '4360', '26802', '1010', '874', '8117', '2564', '475', '4206,8', '240,6', '2532', '5726,3', '861', '1653', '8', '2437,5', '2690', '479', '4370', '4742', '2670', '2206', '1243', '855,9', '10147', '1035', '2098', '1158', '326', '531', '1991', '2665', '6000', '6196', '5130', '217,5', '571', '940', '2020', '1259', '138', '1619,95', '2515', '2279', '3088', '44500', '1854', '2615', '2017', '1679', '5703', '522,4', '1629', '8000,91', '2349,6', '3398', '5504', '290', '20595', '2688,69', '6995,92', '2157', '4263', '1610,4', '1739,69', '1182', '1634', '8923', '6820,45', '2720', '1841', '7207', '160', '3270,82', '965', '433', '3537', '903', '3105', '3500', '6495', '1834', '3677', '955', '1682', '8349', '1215', '16657', '7630', '3195', '10729', '943', '2588', '21094', '6670', '799,5', '4910', '177', '14940', '4289', '2338', '687', '3470', '5045', '3739', '5246,5', '4060', '3350', '10434', '457', '319', '2046', '405', '6513', '337', '556,2', '1320', '35000', '2574', '2365', '1165', '1961', '39910', '1129', '3538', '247,2', '510', '3049', '2500,4', '7506', '8650', '7995', '3596', '3100,1', '4014', '8328', '5095', '9600', '5667', '7845', '8480', '369', '2131', '4800', '1482', '3408,8', '1625,2', '238', '10097', '10267', '19430', '450', '1295', '3333', '3500,6', '2796', '6317', '2850', '5245', '2975', '739', '1474,3', '23800', '4080', '3750', '4565', '1348', '1808', '1392,4', '6990', '2778', '10260', '13126', '5260', '3480', '2863', '2467', '11762,27', '2610', '0,95', '7110', '315', '371', '1394', '2110', '1175', '485,2', '2811', '2237', '2287', '2466', '620', '10497', '1269', '6910', '140000', '2199,95', '7300', '2840', '3346', '1731', '2150', '663', '10008', '38800', '512', '2394', '11597', '1056', '9400', '1608', '934', '3490', '2680', '3698', '6844', '1292', '8940', '1265', '28800', '6550', '5631', '205', '281', '2045', '1752', '2635', '8998', '7142', '293', '3910', '1655', '4510', '1504', '616', '3092', '7586', '393', '6399,9', '1200', '360', '3650,1', '2858', '730', '780,3', '1799', '5790', '5811', '869', '488', '2142', '13790', '938', '915', '2923', '744', '6950', '481,8', '885', '3454', '3158', '912', '3752', '1813', '1328', '26550', '1892', '760', '2698,89', '11292', '849', '7261', '6000,81', '10090', '2892', '2238', '592', '2758', '1590', '2050', '797', '375,2', '3298,92', '3290', '370', '1152', '1462', '859', '694', '1111', '25000', '4430', '7964', '2199', '4184', '3330', '1395', '3984', '2985', '1089', '2253', '694,2', '2239', '3425', '2328', '3055', '2482', '1132', '1278', '13400', '2765', '2716', '435', '1875', '1246', '4989,92', '1045', '987', '1516', '1830', '17500', '7795', '711', '1398', '7900', '3080', '1064,2', '772,3', '10619', '1420', '8000', '529', '3426', '1356', '2000,2', '3187,74', '3840', '2007', '570', '2286', '5540', '345,3', '3099', '9108', '1399,3', '854', '6900', '1051', '837,91', '1649', '363,5', '1339,9', '677,3', '1091', '316', '395', '3205', '1940', '3078', '3288', '4011', '1266', '399', '2910', '1438', '1556,8', '4274', '1796,94', '41580', '383,2', '4300', '3484', '500', '3779', '4739', '2989', '9016', '1865', '6748', '1670', '6923', '873', '1190', '1864', '3524', '12520', '8008', '6323', '464', '2763', '16000,1', '421', '8751', '10725', '3794', '14753', '549', '1306', '4550', '792', '779', '862', '527', '9910', '2405,69', '9254', '1740', '1233,2', '7238,86', '985', '10041', '3749,74', '936', '400,2', '4145', '1050,92', '49038', '10000', '941', '27350', '1098', '1355', '612', '545', '1053', '3209', '3294', '5387', '2826', '311', '1785', '1290', '4500', '1313', '1570', '6340', '889', '5718', '223', '1651', '9784', '3711', '1500,92', '3980', '418', '344,8', '750', '2419', '4185', '1686', '346', '3774', '4593', '55982', '10795', '557', '877', '875', '1815', '1523', '9520', '336', '625', '5735', '2553', '658', '7660', '5352', '3538,92', '6785', '1181', '120', '517', '9685', '7243', '911', '2029', '8734', '7794,92', '3975', '2403', '10900', '5767', '3391', '5722,21', '622', '3240', '552', '5192', '6000,95', '3023', '3902', '349', '2013', '1691,6', '48156,13', '9996', '539,09', '9800', '747', '2167', '8120', '5900', '1100', '1510', '4490', '1092', '1680', '1469', '3416', '2698', '7034', '1172', '2414', '1784,81', '2289', '988', '4919', '419', '4091', '4040', '555,2', '13519', '1491', '4746', '7000', '2283', '1979', '213', '5200', '1452', '3340', '3669,6', '2650', '2530', '10177', '1261', '2173', '424', '4350', '1842', '2482,84', '1528', '50642', '800,82', '33694', '827', '3310', '7631', '299', '574', '13772,82', '749', '1271', '2640', '1700', '2433', '3172', '32750', '6290', '842', '1399,7', '6481,31', '2186', '1433', '765', '247', '7020', '260', '5461,11', '3039', '723', '3364', '1368', '4343', '409', '3997', '11425,8', '352', '3385', '7519', '1999,8', '2698,93', '4000,5', '1770', '4660', '3687,5', '50500', '3995', '1280', '2625', '1480', '2702', '3028', '1463', '1499', '2357', '9790', '2634', '2178', '11044', '813', '3183', '2375', '1700,91', '9550', '509', '2500,95', '2084', '34000', '22500', '786', '634,2', '775', '541', '845,5', '12144,42', '9325', '3600', '9490', '514', '7500', '729,1', '5472', '1855', '5550', '4310', '984', '2749', '5562', '2667', '3760', '341,1', '725', '13750', '1701', '7553', '3277', '5710', '718', '1340', '16293', '14221', '6326', '1102', '1012', '1150', '5398,1', '2700,75', '905', '19000', '3678', '4743', '11660', '3390', '554', '1987', '8710', '15939', '508,79', '1567', '2490,95', '594', '8099', '1329', '3510', '2263', '3214', '2278', '449,1', '9444', '5899', '10933', '1704', '1477', '2584', '2493', '755', '485,8', '1609', '4517', '759', '2517', '5097', '3200', '9793', '1084', '5850', '525', '3935', '804,5', '3084', '10205,5', '7707', '2099', '3000,68', '4000,91', '26565', '1281', '3298', '2825,5', '150', '705', '4000,92', '392', '1710', '1390', '2754', '3210', '1563', '7950', '3006', '7550', '3236', '1260', '8650,48', '8680', '846', '1000,89', '2053', '5350', '1957', '46300', '2674', '638', '790', '1574,1', '895', '952', '2690,92', '1702', '1735', '499', '697', '1138', '3107', '3087', '2006', '9391', '649', '3148', '1072', '1486', '668,71', '443', '10489,92', '1873', '8125', '920', '2160', '677', '16668,82', '5999', '468,1', '359', '6541', '2614', '2235', '1361', '3097,8', '736', '1994', '500,39', '1937', '5300', '1546', '2632', '555', '12358', '3605', '2384', '2653', '1108', '1781,83', '10397', '3439', '9500', '3511', '2201', '7547,8', '6650', '2039', '8499', '11076', '432', '268', '3800', '3265', '0', '962', '3157', '2845', '7200', '781', '18589', '18000', '1049', '11320', '1930', '373', '17669', '33590', '5838', '3999', '2025', '387', '1039', '1365', '1860', '5609', '3870', '1077', '8700', '1978', '3266', '10200', '3299', '1955', '573', '969,8', '2333', '754', '706', '1638', '2508', '2151', '4579', '644', '2495', '6532', '1330', '5670', '230,3', '1959', '404,1', '7811', '7480', '1847', '11200', '9960', '1936', '383', '1487', '1973', '2210', '3763', '656', '29080,92', '16400', '1422,6', '2331', '10800', '305,1', '2437', '11560', '3534', '2528', '567', '1408', '2877', '5366', '2166', '3293', '3100,3', '764', '455', '8522,2', '1820,94', '1199', '4400', '2560', '5517', '1195', '971', '210', '535', '698', '250,6', '1715', '2240', '3700', '2070', '457,5', '2760', '980', '5150', '1685', '5560', '13200', '530', '1849', '1279,9', '9699,69', '75500', '1343', '1271,1', '52182', '43359', '362', '1458', '1897', '825', '18735', '958', '8688', '1767', '34698,2', '4686', '4536', '9040', '2947', '436', '3609', '12000', '1015', '8180', '9838', '3215', '6050', '2660', '249', '1338', '580', '1030', '9955', '5844', '14440', '1247', '11890', '1200,8', '745', '2861', '6365', '3304', '9900', '7124', '3657', '6519', '1112', '3621,7', '13776', '3444', '7100', '1900', '251,1', '334', '853', '2373', '2152', '14190', '3495', '3414', '2710', '2060', '2935', '1598', '16000', '4245', '539', '1560', '5373', '53541', '358,1', '10051', '3815', '6712', '6789', '1434', '1364', '1013', '3245', '5000,87', '6200', '669', '10950', '3173', '7567', '2248', '4081', '989', '1399', '40664', '4050', '3555', '1869', '6575', '9750', '510,9', '478', '4275,2', '2444', '1384', '1126', '4444', '10700', '726', '1060', '5100', '630', '10350', '2293', '2915', '2375,68', '2372', '1821', '8618', '1370', '4650', '1207', '46500', '490', '808', '788', '1300,92', '7464', '899', '982', '2981', '9425', '2398', '2487', '3000,4', '6543', '1245', '1591', '2248,1', '6835', '2668', '4898', '2041', '4230', '58800', '26000', '551', '974', '20890', '1845', '6603', '965,92', '2870', '888', '12910', '2062', '8250', '8500', '1883', '540', '11221,5', '2805', '4823', '22000', '2231', '2327', '3916', '2940', '75570', '3688', '1924', '17000', '7800', '631', '2686', '5786', '685', '7080', '756', '44963', '999', '519', '5440', '1493', '249,3', '1123', '283', '858', '2170', '2022', '3703', '815', '1160', '2076', '3186', '21839', '3100', '5081', '5226,9', '579', '740', '4048', '515', '8640', '2380', '239', '2420,1', '7270', '1287', '695,2', '1671', '2324', '1630', '1949', '2410', '2198', '6500', '606,2', '2348,8', '524', '1327', '31350', '1625', '1331', '3284', '7395', '1818', '1561', '5279', '3410', '1809', '2949,7', '1000,95', '2247', '2597', '748', '2651', '880,2', '1768', '2044', '1874,7', '4450', '1351', '1982', '250', '560', '4597', '1514', '8790', '10400', '4580', '2988', '4990', '2593', '3043', '7740', '4788', '2299,9', '18375', '3000', '422,1', '10650', '6007', '13500', '456', '8200', '6000,1', '4978', '2514', '7049', '410', '1725', '5999,2', '54910', '6782', '970', '1661', '3134', '4348', '561', '8190', '1226', '1656', '6151', '11860', '1899,9', '7148,1', '39804', '2803', '8100', '1248', '3073,8', '3413', '1005', '11230', '1544', '3149', '2500,2', '4708', '3415', '35800', '1424', '6837', '11382', '458', '12600', '3899,95', '4690', '13203', '21500', '16350', '5022', '1600', '3780', '413,1', '2027,7', '54080', '1501', '459', '1326', '19355', '4194,3', '463,2', '4851', '2500,8', '9300', '2780', '1824', '1789', '3735', '3000,91', '1106', '14500', '1363', '367', '635', '6445,86', '7822', '676', '489', '1442', '2335', '2457,9', '1179', '5177', '857', '5075,84', '4393', '860', '2413', '2569', '3569', '4363', '942', '4434', '6800', '4225,44', '3400', '1042', '1168', '2299,8', '1219', '2772,13', '6875', '5650', '1058', '7495', '8164', '5375', '1674', '4551', '368', '13395', '1290,6', '19958', '2846', '2010', '1103', '3717', '2510', '9530', '1694', '2865', '1041', '1171', '9445,95', '2034', '2729', '7240', '1989', '29032', '1303', '1921', '13700', '7659,01', '469', '2605', '10136', '6297', '3872', '18080', '1928', '200', '1737', '2568', '637,3', '1543,5', '5050', '229,5', '1880', '870', '1360', '10525', '5250', '3448', '3602', '948', '2090', '15140', '4387', '1866,6', '608', '50000', '21000', '891', '652', '3108', '2340', '1264', '2096', '1095', '375', '5847', '2966,2', '615', '3666,2', '15670', '2080', '320', '1800,1', '2506', '19990', '564', '2175', '933', '15701', '2112', '46832', '1490', '1481', '2459', '2500', '3000,95', '5690', '1350', '1047,82', '2245', '9039', '4138', '4828', '511', '1620', '5170', '709', '1750', '2040', '17110', '5499', '1148', '9270', '715', '2223', '2555', '1950', '20550', '5033', '3170', '1255', '3846', '1004', '15000', '4680', '6138', '7125', '11673', '1445', '2955', '1999,94', '14760', '11924', '950', '1778', '1093', '54929', '834', '13818', '14220', '3045', '5660', '1318', '2136', '816', '10098', '498,6', '2358', '2830', '7776', '2790', '3169', '1720', '1450', '1605', '15600', '5460', '1708,5', '3370', '2852', '704', '16086', '10', '4675', '19950', '4992', '4027', '7507', '299,92', '1340,92', '811', '9602', '7400', '3830', '1025', '12044', '3110', '10695', '4653', '9979', '5812', '6240', '10557', '5950', '3369', '55000', '2420', '3140', '2857', '6370', '2649', '1417', '2586', '3822', '2890', '9457', '10706', '14806', '3297', '1969', '528,5', '3885', '1990', '1180', '5108', '4632', '56638', '6975', '3159', '1140', '1648', '695', '22400', '799,92', '3650', '645', '379', '7805', '1299', '2538', '1588', '5120', '2504', '610', '688', '3568', '1400,1', '425', '4809', '3619', '1871,75', '39487', '7528', '8820', '2712', '7520', '2522', '1975', '1666', '4260', '1146', '3275', '350', '2952', '2880', '4697', '2016', '1143', '9047', '1677', '3502', '2228', '1776', '10000,1', '5445,92', '5800', '364', '2140', '1996', '626', '1970', '342', '9695', '3440', '5000,91', '1520', '1595', '13807', '3135', '2753', '1093,4', '3850', '5980', '640', '17930', '4775', '5532,66', '225', '2052', '7128', '1288', '2290', '4239', '3745', '820', '1196', '1400,95', '3165', '544', '2864', '3003,3', '2024', '3639,5', '11800', '8389', '589', '839', '623', '1016', '4720', '2350', '2233', '6999', '8945', '1460', '11337', '700', '960', '8064', '1995', '2294', '3194', '1835', '11754', '1695', '546', '2480', '1890', '1829,43', '1703,2', '1786', '42518', '2843', '1376', '642', '4086', '2499', '496', '62250', '1081', '386', '3250', '687,7', '4770', '3585', '15900', '1374', '2750', '7747', '596', '1540,84', '2200,91', '5820', '2001', '41774', '3300', '2265', '956', '2596', '3800,2', '10465', '6228', '4390', '4700', '480', '1008', '495', '959,3', '2088', '2200,05', '1948,92', '4082', '9639', '168', '2477', '2578,8', '5998', '292,2', '468', '13360', '1534', '613', '1202', '330', '636', '1275', '2916', '9248', '737', '2643', '3339', '973', '1369', '3450', '769', '2999,6', '1980', '742', '2472,5', '1046', '5817', '9770', '5521', '2751', '6127', '363', '340', '3787', '407', '473', '366', '2848', '413', '3597', '3795', '13140', '3740', '776', '5700', '31000', '518', '2356', '2095', '6075', '1300', '2600', '5145', '2898', '590', '4250', '681', '690', '9020', '10007', '39600', '4155', '1178', '49582', '990', '7170', '712', '448,9', '2370', '9472', '13539', '619', '4499', '15091', '1135', '1952', '2230', '25089', '2159', '54470', '5148', '900', '520', '1914', '672', '11500', '7259', '2383', '793', '1568', '824', '10460', '2000,85', '3449', '14935', '863', '999,2', '11990', '3969', '674', '3318', '1507', '2400', '22399', '11490', '1571', '10560', '285', '1124', '23700', '1726', '1383', '7670', '4340', '1763', '1176', '9663', '4715', '5038,1', '2430', '848', '1895', '3943', '4000', '6929', '1517', '783', '9250', '2469', '2958', '5000', '1800', '1279', '5143', '3900', '1273', '5902', '3235', '9000', '1806', '1244,7', '12700', '9570', '2000', '5450', '8320', '20645', '6387', '16500', '400', '1040', '880', '8816', '130', '1580', '15886', '388', '1872', '810', '1305', '70940', '3950', '3874', '5001,9', '7185', '845', '3150', '3901', '2409', '720', '728', '1889', '638,7', '2950', '767', '3319,7', '3245,95', '21696', '2079,02', '2885', '1294', '9991', '10270', '1159', '1087', '2570', '3136', '2067', '19151', '50120', '7477', '2567', '2055', '7447', '2347', '4199', '1828', '1400', '3590', '26410', '4267', '50442', '0,92', '890', '1747', '650', '1759', '567,3', '4335', '1222', '727', '11689', '9871', '1690', '1155', '734', '1204', '5979', '4315', '8040', '1912', '6641', '772', '3670', '39400', '1956', '10000,92', '1333', '1018', '3000,92', '1431', '380', '5705', '1894', '1393', '11020', '3030', '3520', '197', '3545', '60432', '3516', '1161', '1000', '5023', '3976,32', '426', '2999,9', '3000,2', '10227,2', '6257', '1721', '24500,03', '306', '3064', '272', '7165', '717,2', '1229', '2030', '7095', '6610', '828', '887', '1788', '3090', '28257', '479,8', '10000,2', '299,1', '13650', '2920', '1385', '1765', '2730', '431', '1573', '5036', '1597', '3270', '1880,2', '1289', '3320', '4268,72', '628', '2288', '1470', '4498', '1256', '5760', '5784', '460', '643,7', '7669', '337,1', '4948', '1888', '18400', '1500', '2998', '4053', '1522', '4546,8', '9288', '3679', '451', '2549', '1319', '1557', '5985', '11233', '3960', '2491', '2222', '446,88', '6750', '1371', '2390', '3162,71', '27000', '1922', '3252', '2520', '508,5', '16070', '1500,5', '10100', '3228', '9922', '4398', '384', '2980', '9411', '3114', '6777', '2540', '4320', '2460', '7953', '2000,7', '1512', '60488', '372', '3829,6', '1837', '10723', '2689', '3680', '1410', '720,2', '2745', '1004,2', '2888', '7116', '4005', '4480', '7836', '1034', '2442', '4900', '3086', '7000,5', '515,85', '3899', '7633', '2004', '1820', '2485', '1386', '6398', '8750', '4935', '1660', '2364', '1884', '4030', '332', '1392', '2220', '5010', '1515', '19521', '1899,1', '2415', '4590', '7816', '5000,1', '18800', '758', '2015', '29590', '6509', '2559', '3249', '1760', '13613', '1960', '729', '1050,33', '949', '15680', '1254', '1115', '3380', '653', '2911', '1453', '13670', '11900', '650,95', '25131,59', '2114', '15500', '696', '269', '1198', '304', '7420', '323', '1003', '4980,91', '1887', '4353', '2776', '2900,5', '3482', '787', '2613', '1515,7', '8263', '3720', '1870', '176', '6325', '2807', '12211', '8300', '1366,05', '1293', '353', '5610', '29500', '4937', '1508', '4798', '1312', '2604', '814,2', '1910', '1284', '838', '1230', '724', '7541', '5140', '1920', '1063', '5744,5', '1556', '3212', '1550', '692', '60245', '4504', '3710', '7019', '1484', '6534', '1850', '559', '3050', '3014', '1309,65', '4000,9', '3278,9', '11600', '1360,92', '1000,67', '1722', '1120', '770', '3371', '7298', '14100', '29860', '6957', '1070', '6320', '583', '1457', '36330', '6217', '365', '633', '2250', '1267', '1252', '10425', '6820', '780,1', '4815', '10516', '19556', '599', '5248,91', '1170', '606', '2997', '3280', '1075', '1270', '339', '3137,9', '3095', '1141', '7250', '660', '2970', '3264', '4925', '699', '4817', '2587', '4820', '1121', '6357', '655', '10550', '1119', '2620', '832', '1519', '10140', '5746', '917', '3180', '13526', '3880', '542', '444,1', '25405', '301', '8879,48', '1479', '4523', '2810', '7882', '4995', '2647', '13100', '3790', '18152', '5594', '4846,96', '1488', '10095', '1565', '1840', '637,4', '1110', '2031', '11090', '3337', '2011', '1719', '1213', '1800,2', '234', '1048', '6480', '735', '24000', '6890', '9190', '12999', '3433', '14385', '3442', '485', '5990', '1201', '4916', '20000', '40100', '4619', '6600', '23000', '2000,9', '1310', '1901', '4045', '1693', '1374,88', '1090', '930', '34492', '1898', '600', '22097,99', '4235', '5580', '710', '8390', '6115', '8400', '2121', '9068', '927', '1151', '3730', '6491', '1705,5', '1337', '1549', '3360', '757', '6410', '2429', '2000,6', '1786,9', '7750', '738', '754,2', '1103,85', '4403', '9661,66', '4953', '893', '5305', '2330', '675', '1540', '5198', '602', '680', '42906', '1125', '6646', '4629', '3020', '3489', '1899,8'}\n",
      "\n",
      "\n",
      "==========\n",
      "LOAN_AVG_DLQ_AMT\n",
      "{'966,07', '820', '0', '670,085', '940', '2020', '910', '620,75', '678,2', '2598,9', '1283,93', '1094', '863,68', '5040', '1985,3', '1348,68', '5110', '324,16', '750,175', '2100', '849,91', '1930', '599,19', '2157,32', '2180', '1258,585', '5526,72666666667', '2350', '1686,92', '800', '8020', '1288,63', '2340,06777777778', '957,59', '339,83', '806,19', '1230,63', '918,55', '1460', '700', '1149,395', '2097,97333333333', '1860', '960', '198,88', '1412,55', '596,29', '63,31', '2550', '1066,005', '5075,99', '535,53', '836,79', '2262,12', '216,59', '1155,125', '2031,34333333333', '2480', '1890', '1147,5', '1077,605', '2720', '5410', '569,121428571429', '1352,85714285714', '1731,06', '1330', '1413,765', '970,155', '2860', '3250', '4770', '552,57', '3500', '1730', '1570,46', '2656,68', '763,3', '3610', '310,126', '1418,86', '630,49', '1409,965', '1069,6', '658,42', '749,82', '892,18', '3762,5', '1957,21', '6133,41', '1215', '1068,47', '2750', '2467,33', '1152,15', '2210', '3072,475', '1986,88', '3626,91', '224,59', '1817,76', '882,01', '1314,11', '782,705', '1749,69', '3470', '62,46', '3300', '2265', '2679,82', '1599,9', '2300', '1593,76', '3010', '4390', '4700', '1120,93', '6260', '1792,71', '756,1', '480', '1670,18', '2429,09', '1477,37', '1320', '2235,225', '1205,4725', '4400', '2560', '722,59', '2740', '913,4975', '2261,19', '1222,06', '2293,65', '510', '2240', '1889,43', '1033', '684,89', '1492,404', '1733,88', '2070', '330', '4630', '1398,58', '2760', '980', '1109,855', '1296,74', '2707,25', '1199,27', '5560', '2959', '530', '5370', '1980', '1430', '1880,59', '310', '4472,91333333333', '3230', '1614,36', '4120', '2002,45', '2782,89', '499,69', '1369,755', '1538,69', '673,6825', '823,54', '450', '5545,0225', '5320', '767,566', '3964,85', '1066,605', '872,065', '846,55', '2185', '327,98', '2518,18', '2755,21', '683,9975', '1208,09', '682', '2850', '3237,94', '1496,3275', '879', '1922,69', '1113,74', '578,3', '3303,2', '1260,55', '1300', '2600', '1304,0625', '3420', '437,26', '687,11', '2260', '1015', '4565', '3750', '2660', '2232,28333333333', '4445,6', '580', '2742,25', '1030', '4250', '1033,905', '3480', '1300,386', '690', '4620', '2610', '1007,36', '1608,255', '1892,238', '1175,57', '3190', '1059,47', '990', '2110', '4920', '3024', '1894,04', '1768,07', '1582,435', '702,565', '2154,02', '2370', '1080', '1716,52', '444', '2320', '1154,34', '1441,57', '1010,43', '620', '3860,18', '1135', '3060', '7100', '14870', '2230', '1900', '1666,28', '1240', '673,89', '1717,47333333333', '472,11', '728,49', '2247,51', '2840', '2710', '900', '3070', '2060', '9280', '1560', '1778,635', '2150', '5872,64', '976,68', '1050', '2796,66', '2082,47857142857', '2441,4', '2549,52', '1095,89', '1883,04', '2360', '2370,01', '1072,34', '1706,3', '6200', '3490', '446,31', '663,05', '2400', '560,86', '2680', '1264,23', '4055,03', '2490', '805,86', '812,693333333333', '2105', '965,1', '1144,03', '3660', '986,606666666667', '699,78', '1468,38', '1258,69', '4050', '951', '7670', '3102,49333333333', '18307,16', '1831,51333333333', '1020', '289,02', '619,73', '991,19', '948,58', '957,63', '4640', '3530', '59,68', '3820', '3910', '2957,71', '2430', '918,255', '2462,1', '1060', '1692,49', '1179,394', '4530', '630', '901,64', '4000', '407,8', '1679,2', '1200', '752,923076923077', '3460', '360', '758,95', '1601,63', '1098,8', '3540', '730', '1164,99666666667', '3040', '2379,46', '1370', '1299,55', '4650', '1800', '875,2', '4070', '1176,82', '490', '567,51', '1429,99', '1065,62', '1149,495', '2361,22', '110,91', '1829,73', '3900', '642,31', '1095,61', '782,21', '1634,81', '1867,66166666667', '2569,05', '2573,8', '457,71', '1798,49', '2000', '3037,58', '769,915', '1433,4', '526,563333333333', '3315', '2051,5', '760', '1220', '2272,5', '1070,52', '1833,77', '768,97', '4760', '400', '1040', '1141,06', '789,23', '2870', '1179,86', '880', '904,08', '1590', '1580', '2050', '4210', '2059,46', '4164,34', '3620', '540', '1266,34', '370', '1321,68833333333', '810', '727,63', '762,93', '1275,785', '2470', '704,93', '1070,05', '2940', '862,43', '3959', '5510', '2237,245', '3330', '3150', '859,92', '631', '7340', '1040,78666666667', '1134,58', '1010,55', '720', '682,56', '4160', '510,136666666667', '1426,72', '1581,82', '2950', '5428,62', '2269,565', '2816,25', '1411,835', '2090,53', '2960', '1530', '980,42', '1259,71333333333', '2170', '1160', '909,424285714286', '603,55', '1830', '2130', '2287,02', '1391,47', '3100', '776,59', '1640', '2570', '766,26', '740', '1276,66666666667', '3080', '840', '2380', '2186,585', '1478,49', '1400', '3590', '1671,7', '3172,83', '1594,914', '568,7', '1420', '2326,81', '2554,005', '3106,29', '1942,72', '4158,85', '890', '1010,27', '1751,37', '2269,735', '1790', '3840', '650', '1630', '769,43', '2066,905', '2410', '1879,28', '570', '558,06625', '1878,86', '648,68', '6500', '1539,2', '1144,98', '3201,95', '1690', '2270', '2142,2', '3120', '1427,295', '6080', '929,51', '1200,99', '1215,45777777778', '1539,13', '2018,255', '605,496', '917,57', '2770', '1258,49', '3670', '3509,805', '1309,89', '1093,75', '957,4', '1259,1', '4140', '1639,99', '3410', '3209,5', '2315,64857142857', '1841,9', '3971,6', '1380', '2349,51', '1940', '370,77', '1003,255', '988,85', '433,306666666667', '2200', '1182,23', '2084,32', '2647,9', '1247,92', '380', '2044,155', '1610', '880,2', '1210', '2910', '1677,48', '3520', '3030', '4450', '2263,2', '668,53', '896,1', '1250', '1949,8', '726,57', '1000', '5603,82', '560', '2930', '3260', '1002,60333333333', '4300', '1440', '1102,7', '500', '386,666666666667', '1314,58666666667', '2794,22333333333', '1439,9', '1272,72', '1138,2', '3770', '2030', '3000', '1670', '3635,77', '946,49', '1190', '1107,5', '758,82', '2201,11', '5500', '2920', '1405,53', '13920', '7010', '2190', '1286,73', '2372,77', '2440', '702,23', '1313,33333333333', '651,625', '970', '2699,88', '4940', '869,26', '1171,686', '860,505', '2240,34', '1597,92', '543,33', '438,19', '2009', '3160', '1931,44', '1269,82', '3870,25', '4550', '516,18', '5160', '1130', '656,705', '0,71', '1317,06', '6660', '3570', '517,51', '5780', '3089,155', '5760', '5030', '1470', '1386,96', '2441,465', '1740', '989,39', '827,57', '2310', '1459,99', '850', '6390', '859,84', '1373,99333333333', '2701,5', '2127,1', '1090,8', '478,13', '1500', '812,11', '849,085', '1053', '2676,2125', '2547,85', '4827,666', '1155,02142857143', '1290', '724,38', '3659,0625', '809,42', '1570', '4690', '2568,45', '1600', '3780', '1259,39', '1745,7', '3283,1', '613,12', '840,7', '1359,6', '3990', '3960', '750', '613,21', '2083', '1312,44', '856,64', '2273,72', '429,11', '2751,25', '2510,2', '2910,25', '2390', '5830', '3890', '1899,7', '2128,74', '497,62', '2520', '1848,05', '367', '1196,43', '1626,75', '2980', '3509,22', '1116,49', '4729,07', '3716,35', '1329,54', '1288,898', '1388,83769230769', '2540', '440', '4320', '1615', '860', '2070,52', '269,51', '791,56', '518,9', '2585', '1512', '1555,00090909091', '3400', '3240', '1371,86', '2013,19', '134,78', '2112,17', '767,7', '3769,3625', '779,415', '5650', '1410', '2163,94', '5269,78', '2101,256', '6490', '1108,574', '802,36', '2409,01', '481,506', '796,59', '4884,95', '2406,8', '855', '1100', '1510', '1740,19', '1591,94', '1804,9', '1680', '578,06', '2476,77', '2005,15', '1325,63', '6041,86', '2010', '604,353333333333', '1820', '2925', '2510', '2119,77', '1563,45', '588,13', '100', '1439,815', '1742,41', '1411,31', '4030', '532,24', '1489,13', '1319,56', '798,53', '2220', '1498,26', '1780', '673,02', '2239,37', '11310', '674,263333333333', '2650', '2530', '894,29', '1516,872', '791,98', '1776,96666666667', '4350', '855,675', '1713,74', '2151,50333333333', '5397,15', '1140,2', '1760', '3310', '366,58', '1724,15333333333', '1258,95', '957,46', '1960', '1006,59', '1880', '870', '1360', '1145,85', '2497,09', '549,88', '896,31', '2640', '1700', '1283,89', '586,646666666667', '554,36', '574,21', '2090', '1535,89', '887,79', '1810,155', '772,73', '2425', '911,793333333333', '2629,87', '1552,325', '2580', '550', '857,956666666667', '2466,8625', '2088,86', '4190', '2340', '1953,6', '3279,705', '1605,95', '433,3425', '1221,92', '1870', '1324,41285714286', '1959,99', '604,43', '1683,49', '4240', '1029,75', '1374,28', '6689,82', '1459,54666666667', '714', '2080', '177,34', '2509,38', '1002,22', '3506,07', '3702,8', '5394,29', '830', '1910', '502,1', '879,74', '1230', '1684,04', '990,85', '1490', '1770', '4660', '1810', '3086,66666666667', '5140', '1920', '455,32', '49,35', '1280', '2500', '2202,69', '4376,4', '600,93', '2464,55', '1550', '1480', '778,32', '567,16', '1193,9675', '1350', '830,53', '1508,79', '315,796666666667', '1850', '1920,9575', '1620', '5170', '2259,35', '1750', '1966,99', '14990', '2040', '136,76', '1781,225', '3050', '3970', '2779,4', '2178', '1626', '1697,22', '1950', '1851,55', '2524,28', '1120', '3170', '770', '1439,94', '2990', '1305,97', '908,78', '4680', '849,19', '865,05', '1007,8', '1070', '1402,92', '1088,05', '2365,47', '950', '892,95', '3600', '5048,19', '804,32', '2701,26', '1288,7', '1097,86', '837,48', '2739,76', '740,575', '430', '6310', '2419,9', '2250', '2276,54666666667', '28012,2', '4310', '5550', '1402,43', '1761,03', '2700', '4710', '2690,33333333333', '3760', '966,953333333333', '300', '240', '1091,2', '2450', '1410,53333333333', '777,84', '598,5', '1170', '820,124', '1085,5', '1270', '4200', '1340', '2830', '1589,92333333333', '821,45', '660', '2790', '3322,7775', '1259,43', '2970', '1720', '2280', '975', '1150', '669,12', '1450', '1119,27', '1113,335', '3651,445', '2989,98', '1127,76', '5698,46', '1052,63', '1789,04', '755,063333333333', '2359,898', '3433,42', '3390', '818,74', '94,89', '3539,82', '582,386666666667', '1056,95', '6130', '1875,70333333333', '270', '1424,9175', '5076,65', '821,93', '2492,54', '1675,75', '51,8', '2800', '3510', '709,96', '3180', '4020', '3810', '845,55', '4115,33333333333', '3110', '3777,93333333333', '647,42', '3880', '3914,24', '2503,19', '2820', '1296,4', '560,36', '3140', '3428,56', '1237,24', '0,04', '3630', '1939,61', '1108,96333333333', '2477,64', '2120', '3200', '954,65', '1650', '2810', '2139,63375', '862,5', '2890', '2630', '1636,04', '1549,18', '553', '5850', '3119,99', '1990', '1180', '1386,115', '670', '959,955', '816,83', '1840', '1844,885', '1241,32428571429', '2979,31', '1140', '677,474', '2343,41', '1110', '875,09', '761,866666666667', '4290', '1793,66', '355,04', '3202,2', '9060', '4001,34', '1390', '2961', '2590', '1710', '979,63', '2258,3', '3018,275', '4508,2', '989,15', '4220', '1830,2', '3127,19', '735', '2094,3', '1260', '1197,38333333333', '2538', '2916,18', '846,74', '610', '38,32', '3940', '2900', '790', '1639,24571428571', '451,495', '1509,44', '1335,47', '1292,59', '3768,7', '1649,37', '4810', '1663,27', '3782,39', '2184,66', '1845,5', '1387,15', '5430', '543,17', '610,986666666667', '2158,72', '1077,03', '509,52', '7780', '4260', '780', '4600', '1310', '836,6', '1090', '984,79', '930', '2880', '920', '2160', '533', '600', '1093,22', '605,32', '1529,06', '1010', '1004,225', '6070', '1139,49', '710', '2140', '1932,5', '981,71', '665,57', '1970', '115,65', '3589,09', '3440', '1520', '2702,4', '776,3', '1399,25', '1088,48', '830,7', '3360', '4370', '2670', '1909,16', '2732,2', '619,4', '1160,96', '3850', '5870', '559,94', '3691,2675', '640', '6650', '824,581428571429', '2590,15', '87,39', '651,16', '753', '3637,43', '588,9', '2368,84', '2330', '1930,595', '1540', '3501,45', '763,185', '1344,33', '3020', '680', '2290', '425,97', '825,10875', '2858,6', '2386,505', '367,35'}\n",
      "\n",
      "\n",
      "==========\n",
      "LOAN_MAX_DLQ_AMT\n",
      "{'966,07', '820', '0', '1012,9', '2598,9', '940', '2020', '910', '620,75', '678,2', '1283,93', '1094', '863,68', '5040', '1985,3', '1348,68', '5110', '324,16', '2100', '849,91', '1930', '599,19', '849,07', '2157,32', '2180', '1686,92', '2350', '800', '8020', '1288,63', '957,59', '339,83', '806,19', '1230,63', '2064,08', '1365', '1460', '700', '937,6', '918,55', '1860', '960', '596,29', '63,31', '2550', '2497', '5075,99', '724,93', '535,53', '836,79', '2262,12', '216,59', '2480', '1890', '2720', '5410', '490,88', '1731,06', '1330', '2860', '3250', '4770', '552,57', '3500', '1730', '1418,86', '2656,68', '3610', '630,49', '1069,6', '658,42', '749,82', '892,18', '3762,5', '1957,21', '6133,41', '1068,47', '2750', '2467,33', '2210', '1986,88', '3626,91', '224,59', '1817,76', '1105,07', '660,86', '1749,69', '3470', '62,46', '3300', '2265', '2679,82', '1599,9', '2300', '1593,76', '3010', '4390', '4700', '1120,93', '883,33', '6260', '1792,71', '756,1', '480', '1670,18', '2429,09', '1477,37', '1320', '4400', '2560', '722,59', '2740', '2261,19', '1222,06', '826,77', '3357,52', '2293,65', '2240', '510', '3700', '1300,16', '684,89', '2398,8', '1889,43', '2070', '330', '736,3', '1398,58', '2760', '980', '1296,74', '2707,25', '3450', '1199,27', '5560', '2959', '530', '5370', '1980', '1430', '489,13', '1880,59', '310', '1614,36', '3230', '4120', '2002,45', '2979,35', '499,69', '1538,69', '2618,78', '823,54', '1819,09', '450', '5320', '3220', '3964,85', '1930,47', '846,55', '327,98', '2518,18', '2755,21', '1208,09', '682', '2850', '3237,94', '879', '1113,74', '1819,26', '578,3', '3303,2', '1260,55', '1300', '2600', '3420', '437,26', '687,11', '2260', '1015', '4565', '3750', '2660', '590', '1030', '2742,25', '4250', '580', '4960', '3480', '690', '4620', '2610', '2044,32', '1175,57', '3190', '1059,47', '990', '2110', '4920', '1768,07', '1894,04', '1066', '2154,02', '2370', '1080', '1716,52', '5340', '444', '2320', '1154,34', '620', '3860,18', '3060', '7100', '14870', '2230', '1900', '1666,28', '1240', '673,89', '919,88', '472,11', '1387,47', '1408,32', '728,49', '2840', '2710', '900', '3070', '2060', '9280', '1560', '2150', '5872,64', '976,68', '1050', '2796,66', '2441,4', '2549,52', '1095,89', '1883,04', '2360', '609,52', '1090,01', '1828,89', '1706,3', '6200', '3490', '446,31', '663,05', '2400', '2680', '1901,3', '4055,03', '2490', '3920', '965,1', '1144,03', '3660', '1468,38', '699,78', '1056,64', '4050', '7670', '1020', '289,02', '619,73', '991,19', '948,58', '1450,22', '957,63', '4640', '3530', '3111,86', '59,68', '3910', '2957,71', '2430', '3820', '2462,1', '1060', '1692,49', '4530', '630', '2589,2', '901,64', '4000', '407,8', '1519,64', '1679,2', '1200', '783', '3460', '360', '3040', '758,95', '1601,63', '3540', '730', '1098,8', '2379,46', '1370', '1299,55', '18310', '4650', '1800', '875,2', '4070', '1176,82', '490', '567,51', '1429,99', '1065,62', '2361,22', '110,91', '3900', '642,31', '1095,61', '1249,61', '2569,05', '2573,8', '457,71', '1798,49', '2000', '2220,72', '856,3', '1433,4', '2051,5', '760', '1220', '1070,52', '2782,93', '1833,77', '3089,5', '768,97', '4760', '400', '1040', '1141,06', '789,23', '2870', '1179,86', '880', '904,08', '1590', '1580', '2050', '4210', '2059,46', '4164,34', '3620', '540', '1266,34', '370', '2247,51', '810', '1324,5', '762,93', '2858,62', '2470', '704,93', '1070,05', '2940', '862,43', '2058,71', '3959', '3330', '3150', '859,92', '631', '7340', '1010,55', '1134,58', '720', '2642,83', '4160', '1489,45', '1426,72', '1581,82', '2950', '5428,62', '2816,25', '2090,53', '2170', '2960', '1530', '980,42', '755,76', '1160', '603,55', '1830', '2130', '2287,02', '3100', '1391,47', '776,59', '1640', '2570', '766,26', '740', '1154,9', '3080', '840', '2380', '1478,49', '1400', '3590', '1671,7', '3560', '3172,83', '568,7', '1420', '5470', '3106,29', '1942,72', '4158,85', '890', '1010,27', '1751,37', '2142,2', '1790', '3840', '650', '1630', '5980,18', '769,43', '2410', '648,68', '570', '1539,2', '6500', '604,76', '1144,98', '3201,95', '1690', '2270', '3120', '6080', '1200,99', '1539,13', '473,16', '917,57', '2770', '1258,49', '3670', '470', '1309,89', '1093,75', '957,4', '1259,1', '4140', '1639,99', '3410', '1841,9', '3971,6', '1380', '2349,51', '1940', '370,77', '2084,32', '988,85', '2200', '2647,9', '1247,92', '1610', '880,2', '1210', '2910', '1677,48', '3520', '3030', '4450', '2263,2', '668,53', '896,1', '1250', '1046,01', '1949,8', '726,57', '1000', '5603,82', '560', '2930', '3260', '7890', '4300', '1440', '1102,7', '500', '1439,9', '1272,72', '1138,2', '3770', '2030', '3000', '1670', '3635,77', '946,49', '1190', '2201,11', '5500', '2920', '1405,53', '13920', '7010', '2190', '4830', '2372,77', '2440', '702,23', '2699,88', '970', '4940', '1597,92', '869,26', '543,33', '438,19', '4446,3', '2009', '3160', '1931,44', '3870,25', '2375,59', '4550', '516,18', '5160', '1130', '0,71', '3570', '1317,06', '6660', '517,51', '5780', '5760', '5030', '1470', '1740', '989,39', '572,22', '827,57', '2310', '1459,99', '850', '6390', '2127,1', '1090,8', '478,13', '1500', '812,11', '1053', '2547,85', '1290', '724,38', '809,42', '1570', '4690', '1395,7', '2568,45', '1600', '3780', '1259,39', '1745,7', '3283,1', '1359,6', '3990', '3960', '750', '613,21', '481,51', '2083', '1312,44', '856,64', '429,11', '2751,25', '2510,2', '2390', '2064,03', '5830', '3890', '776,6', '497,62', '2520', '1848,05', '367', '1196,43', '1626,75', '2980', '3509,22', '1116,49', '4729,07', '3716,35', '2540', '440', '4320', '1615', '943,56', '581,67', '1110,39', '1479,51', '860', '1033', '269,51', '791,56', '1351,06', '518,9', '3400', '3240', '1371,86', '2013,19', '134,78', '2112,17', '767,7', '797,16', '5650', '1410', '2163,94', '5269,78', '6490', '802,36', '2409,01', '796,59', '1672,88', '4884,95', '2406,8', '1100', '1510', '1740,19', '4490', '1591,94', '1804,9', '1680', '578,06', '2005,15', '1325,63', '6041,86', '2010', '1820', '2510', '2119,77', '1563,45', '588,13', '100', '1742,41', '1411,31', '4030', '1489,13', '1319,56', '798,53', '2220', '1498,26', '1452', '1780', '673,02', '2239,37', '11310', '2650', '2530', '894,29', '791,98', '4350', '1783,55', '5397,15', '1140,2', '1760', '3310', '366,58', '1960', '3018,62', '1006,59', '1880', '870', '1360', '1145,85', '2497,09', '549,88', '896,31', '2640', '1700', '840,4', '554,36', '574,21', '2090', '887,79', '2969,75', '772,73', '1733,88', '2425', '2629,87', '2580', '550', '2088,86', '4190', '2340', '1953,6', '1221,92', '1870', '604,43', '1959,99', '1683,49', '4240', '1029,75', '1374,28', '6689,82', '714', '2080', '177,34', '2509,38', '1002,22', '3506,07', '1837,31', '3702,8', '5394,29', '830', '1910', '502,1', '879,74', '1302,38', '1230', '990,85', '1490', '1770', '4660', '1810', '49,35', '5140', '1920', '1840,14', '1280', '2500', '2202,69', '600,93', '1550', '1480', '778,32', '567,16', '830,53', '1350', '1508,79', '1850', '1620', '5170', '1750', '1966,99', '14990', '2040', '136,76', '3050', '3970', '2178', '2779,4', '1697,22', '1387,3', '1950', '1851,55', '2524,28', '1120', '3170', '770', '1439,94', '2990', '910,63', '331', '908,78', '4680', '849,19', '1007,8', '1070', '2365,47', '1088,05', '950', '892,95', '3600', '5048,19', '804,32', '2701,26', '1288,7', '1097,86', '837,48', '2739,76', '430', '6310', '2419,9', '2250', '28012,2', '4310', '5550', '1402,43', '1761,03', '2700', '4710', '3760', '300', '240', '1086,57', '2450', '598,5', '777,84', '1170', '1085,5', '1270', '4200', '1340', '2830', '1860,72', '660', '2790', '1259,43', '2970', '1720', '2280', '975', '1150', '669,12', '1450', '1119,27', '1185,5', '2989,98', '1127,76', '4880', '5698,46', '1052,63', '1789,04', '3433,42', '3390', '818,74', '94,89', '3539,82', '1056,95', '6130', '270', '2620', '589,45', '5076,65', '2492,54', '51,8', '821,93', '605,59', '2800', '3510', '3180', '4020', '3810', '3110', '1427,4', '647,42', '3880', '1870,69', '3914,24', '2503,19', '2820', '1296,4', '560,36', '828,51', '3285,74', '3140', '3428,56', '0,04', '3630', '1939,61', '2477,64', '3780,1', '2120', '3200', '954,65', '1650', '2810', '862,5', '2890', '2630', '1636,04', '1549,18', '553', '5850', '1990', '1180', '670', '816,83', '918,83', '1840', '1140', '954,34', '2343,41', '1110', '875,09', '2289,89', '2281,1', '4290', '1793,66', '355,04', '3202,2', '9060', '4001,34', '2902,89', '1390', '2590', '1710', '979,63', '4508,2', '2258,3', '997,66', '937,79', '989,15', '4220', '2094,3', '3127,19', '2916,18', '1260', '620,18', '846,74', '610', '2102,75', '38,32', '3940', '2900', '790', '1509,44', '1335,47', '1292,59', '3768,7', '1649,37', '1663,27', '3782,39', '2184,66', '1845,5', '1387,15', '5430', '543,17', '790,77', '2158,72', '1077,03', '4260', '780', '4600', '1310', '1386,14', '836,6', '1090', '930', '2880', '920', '2160', '533', '961,94', '600', '1093,22', '605,32', '1529,06', '1010', '6070', '5580', '710', '2140', '1139,49', '981,71', '1370,25', '665,57', '1970', '115,65', '3589,09', '3440', '1520', '2702,4', '776,3', '1650,53', '830,7', '3360', '4370', '2670', '1909,16', '2732,2', '586,5', '1160,96', '3850', '5870', '559,94', '640', '6650', '1729,66', '2590,15', '87,39', '651,16', '3637,43', '2368,84', '2330', '1540', '3501,45', '1344,33', '3020', '918,28', '680', '2290', '2858,6', '367,35'}\n",
      "\n",
      "\n",
      "==========\n",
      "sample\n",
      "{'train'}\n",
      "\n",
      "\n"
     ]
    }
   ],
   "source": [
    "for i in df_train.columns: # перебираем все столбцы\n",
    "    if str(df_train[i].dtype) == 'object': # если тип столбца - object\n",
    "        print('='*10)\n",
    "        print(i) # выводим название столбца\n",
    "        print(set(df_train[i])) # выводим все его значения (но делаем set - чтоб значения не повторялись)\n",
    "        print('\\n') # выводим пустую строку"
   ]
  },
  {
   "cell_type": "markdown",
   "metadata": {
    "collapsed": true
   },
   "source": [
    "Mожно заметить что некоторые переменные, которые обозначены как строки (например PERSONAL_INCOME) на самом деле числа, но по какой-то причине были распознаны как строки\n",
    "\n",
    "Причина же что использовалась запятая для разделения не целой части числа.."
   ]
  },
  {
   "cell_type": "markdown",
   "metadata": {},
   "source": [
    "Перекодировать их можно например так:"
   ]
  },
  {
   "cell_type": "code",
   "execution_count": 1238,
   "metadata": {
    "collapsed": false
   },
   "outputs": [
    {
     "data": {
      "text/plain": [
       "0         7000.0\n",
       "1         4100.0\n",
       "2        40000.0\n",
       "3        20000.0\n",
       "4        17000.0\n",
       "5         7000.0\n",
       "6        10000.0\n",
       "7         7500.0\n",
       "8         9000.0\n",
       "9         4000.0\n",
       "10       15000.0\n",
       "11       12000.0\n",
       "12        8000.0\n",
       "13       20000.0\n",
       "14       18500.0\n",
       "15       14000.0\n",
       "16        6000.0\n",
       "17        9000.0\n",
       "18        5000.0\n",
       "19       15000.0\n",
       "20        6100.0\n",
       "21       22180.0\n",
       "22        9000.0\n",
       "23        8700.0\n",
       "24        7000.0\n",
       "25        6000.0\n",
       "26       15000.0\n",
       "27       12000.0\n",
       "28       11000.0\n",
       "29        8000.0\n",
       "          ...   \n",
       "30103    12000.0\n",
       "30104    10000.0\n",
       "30105    10000.0\n",
       "30106     8000.0\n",
       "30107    11000.0\n",
       "30108     7000.0\n",
       "30109    10000.0\n",
       "30110     8000.0\n",
       "30111    25000.0\n",
       "30112    10000.0\n",
       "30113    12000.0\n",
       "30114     7000.0\n",
       "30115    12000.0\n",
       "30116    14500.0\n",
       "30117    12000.0\n",
       "30118     8000.0\n",
       "30119     7000.0\n",
       "30120    10000.0\n",
       "30121    10000.0\n",
       "30122    10000.0\n",
       "30123    15000.0\n",
       "30124     8100.0\n",
       "30125     9500.0\n",
       "30126    13000.0\n",
       "30127    10000.0\n",
       "30128    12000.0\n",
       "30129    10000.0\n",
       "30130     6000.0\n",
       "30131     4500.0\n",
       "30132    20000.0\n",
       "Name: PERSONAL_INCOME, Length: 30133, dtype: float64"
      ]
     },
     "execution_count": 1238,
     "metadata": {},
     "output_type": "execute_result"
    }
   ],
   "source": [
    "df['PERSONAL_INCOME'].map(lambda x: x.replace(',', '.')).astype('float')"
   ]
  },
  {
   "cell_type": "markdown",
   "metadata": {},
   "source": [
    "Такой эффект наблюдается в столбцах `PERSONAL_INCOME`, `CREDIT`, `FST_PAYMENT`, `LOAN_AVG_DLQ_AMT`, `LOAN_MAX_DLQ_AMT`"
   ]
  },
  {
   "cell_type": "markdown",
   "metadata": {},
   "source": [
    "### Теперь ваше небольшое исследование"
   ]
  },
  {
   "cell_type": "markdown",
   "metadata": {
    "collapsed": true
   },
   "source": [
    "#### Задание 1. Есть ли пропуски в данных? Что с ними сделать?\n",
    "\n",
    "(единственного верного ответа нет - аргументируйте)"
   ]
  },
  {
   "cell_type": "code",
   "execution_count": 1239,
   "metadata": {
    "collapsed": true
   },
   "outputs": [],
   "source": [
    "# Пропуски для данных можно попробовать восстановить по косвенным признакам. Допустим WORK_TIME - можно принять, что\n",
    "# если имеется GEN_TITLE и|или ORG_TP_STATE, JOB_DIR и т.п, то можно предположить, что WORK_TIME будет равен FACT_LIVING_TERM\n",
    "# Если по косвенным определить трудно, то можно сгруппировать наверное признаки, создав группы, которые закодируют кортеж фич,\n",
    "# и на место столбцов подставить код. Либо пытаться определить среднее, полагая, что разброс вряд ли будет больше одной сигмы.\n",
    "# А некоторые поля - допустим регионы - можно опустить, судя по условию задачи это не слишком значимые признаки."
   ]
  },
  {
   "cell_type": "markdown",
   "metadata": {
    "collapsed": true
   },
   "source": [
    "#### Задание 2. Есть ли категориальные признаки? Что с ними делать?"
   ]
  },
  {
   "cell_type": "code",
   "execution_count": 1240,
   "metadata": {
    "collapsed": true
   },
   "outputs": [],
   "source": [
    "# Ввести кодирование - либо по средним значениям группы, \n",
    "# либо по количеству входящих объектов, либо пользоваться LabelEncoder, OneHotEncoder"
   ]
  },
  {
   "cell_type": "code",
   "execution_count": null,
   "metadata": {
    "collapsed": false
   },
   "outputs": [],
   "source": []
  },
  {
   "cell_type": "code",
   "execution_count": null,
   "metadata": {
    "collapsed": false
   },
   "outputs": [],
   "source": []
  },
  {
   "cell_type": "markdown",
   "metadata": {},
   "source": [
    "#### Задание 3. Фунция предобработки"
   ]
  },
  {
   "cell_type": "markdown",
   "metadata": {},
   "source": [
    "Напишите функцию, которая бы\n",
    "\n",
    "* Удаляло идентификатор `AGREEMENT_RK`\n",
    "* Избавлялась от проблем с '.' и ',' в стобцах PERSONAL_INCOME, CREDIT, FST_PAYMENT, LOAN_AVG_DLQ_AMT, LOAN_MAX_DLQ_AMT\n",
    "* Что-то делала с пропусками\n",
    "* Кодировала категориальные признаки\n",
    "\n",
    "В результате, ваш датафрейм должен содержать только числа и не содержать пропусков!"
   ]
  },
  {
   "cell_type": "code",
   "execution_count": 1312,
   "metadata": {
    "collapsed": false,
    "scrolled": false
   },
   "outputs": [
    {
     "data": {
      "text/html": [
       "<div>\n",
       "<style scoped>\n",
       "    .dataframe tbody tr th:only-of-type {\n",
       "        vertical-align: middle;\n",
       "    }\n",
       "\n",
       "    .dataframe tbody tr th {\n",
       "        vertical-align: top;\n",
       "    }\n",
       "\n",
       "    .dataframe thead th {\n",
       "        text-align: right;\n",
       "    }\n",
       "</style>\n",
       "<table border=\"1\" class=\"dataframe\">\n",
       "  <thead>\n",
       "    <tr style=\"text-align: right;\">\n",
       "      <th></th>\n",
       "      <th>sample</th>\n",
       "    </tr>\n",
       "  </thead>\n",
       "  <tbody>\n",
       "    <tr>\n",
       "      <th>0</th>\n",
       "      <td>test</td>\n",
       "    </tr>\n",
       "    <tr>\n",
       "      <th>1</th>\n",
       "      <td>test</td>\n",
       "    </tr>\n",
       "    <tr>\n",
       "      <th>2</th>\n",
       "      <td>test</td>\n",
       "    </tr>\n",
       "    <tr>\n",
       "      <th>3</th>\n",
       "      <td>test</td>\n",
       "    </tr>\n",
       "    <tr>\n",
       "      <th>4</th>\n",
       "      <td>test</td>\n",
       "    </tr>\n",
       "    <tr>\n",
       "      <th>5</th>\n",
       "      <td>test</td>\n",
       "    </tr>\n",
       "    <tr>\n",
       "      <th>6</th>\n",
       "      <td>test</td>\n",
       "    </tr>\n",
       "    <tr>\n",
       "      <th>7</th>\n",
       "      <td>test</td>\n",
       "    </tr>\n",
       "    <tr>\n",
       "      <th>8</th>\n",
       "      <td>test</td>\n",
       "    </tr>\n",
       "    <tr>\n",
       "      <th>9</th>\n",
       "      <td>test</td>\n",
       "    </tr>\n",
       "    <tr>\n",
       "      <th>10</th>\n",
       "      <td>test</td>\n",
       "    </tr>\n",
       "    <tr>\n",
       "      <th>11</th>\n",
       "      <td>test</td>\n",
       "    </tr>\n",
       "    <tr>\n",
       "      <th>12</th>\n",
       "      <td>test</td>\n",
       "    </tr>\n",
       "    <tr>\n",
       "      <th>13</th>\n",
       "      <td>test</td>\n",
       "    </tr>\n",
       "    <tr>\n",
       "      <th>14</th>\n",
       "      <td>test</td>\n",
       "    </tr>\n",
       "    <tr>\n",
       "      <th>15</th>\n",
       "      <td>test</td>\n",
       "    </tr>\n",
       "    <tr>\n",
       "      <th>16</th>\n",
       "      <td>test</td>\n",
       "    </tr>\n",
       "    <tr>\n",
       "      <th>17</th>\n",
       "      <td>test</td>\n",
       "    </tr>\n",
       "    <tr>\n",
       "      <th>18</th>\n",
       "      <td>test</td>\n",
       "    </tr>\n",
       "    <tr>\n",
       "      <th>19</th>\n",
       "      <td>test</td>\n",
       "    </tr>\n",
       "    <tr>\n",
       "      <th>20</th>\n",
       "      <td>test</td>\n",
       "    </tr>\n",
       "    <tr>\n",
       "      <th>21</th>\n",
       "      <td>test</td>\n",
       "    </tr>\n",
       "    <tr>\n",
       "      <th>22</th>\n",
       "      <td>test</td>\n",
       "    </tr>\n",
       "    <tr>\n",
       "      <th>23</th>\n",
       "      <td>test</td>\n",
       "    </tr>\n",
       "    <tr>\n",
       "      <th>24</th>\n",
       "      <td>test</td>\n",
       "    </tr>\n",
       "    <tr>\n",
       "      <th>25</th>\n",
       "      <td>test</td>\n",
       "    </tr>\n",
       "    <tr>\n",
       "      <th>26</th>\n",
       "      <td>test</td>\n",
       "    </tr>\n",
       "    <tr>\n",
       "      <th>27</th>\n",
       "      <td>test</td>\n",
       "    </tr>\n",
       "    <tr>\n",
       "      <th>28</th>\n",
       "      <td>test</td>\n",
       "    </tr>\n",
       "    <tr>\n",
       "      <th>29</th>\n",
       "      <td>test</td>\n",
       "    </tr>\n",
       "    <tr>\n",
       "      <th>...</th>\n",
       "      <td>...</td>\n",
       "    </tr>\n",
       "    <tr>\n",
       "      <th>30103</th>\n",
       "      <td>train</td>\n",
       "    </tr>\n",
       "    <tr>\n",
       "      <th>30104</th>\n",
       "      <td>train</td>\n",
       "    </tr>\n",
       "    <tr>\n",
       "      <th>30105</th>\n",
       "      <td>train</td>\n",
       "    </tr>\n",
       "    <tr>\n",
       "      <th>30106</th>\n",
       "      <td>train</td>\n",
       "    </tr>\n",
       "    <tr>\n",
       "      <th>30107</th>\n",
       "      <td>train</td>\n",
       "    </tr>\n",
       "    <tr>\n",
       "      <th>30108</th>\n",
       "      <td>train</td>\n",
       "    </tr>\n",
       "    <tr>\n",
       "      <th>30109</th>\n",
       "      <td>train</td>\n",
       "    </tr>\n",
       "    <tr>\n",
       "      <th>30110</th>\n",
       "      <td>train</td>\n",
       "    </tr>\n",
       "    <tr>\n",
       "      <th>30111</th>\n",
       "      <td>train</td>\n",
       "    </tr>\n",
       "    <tr>\n",
       "      <th>30112</th>\n",
       "      <td>train</td>\n",
       "    </tr>\n",
       "    <tr>\n",
       "      <th>30113</th>\n",
       "      <td>train</td>\n",
       "    </tr>\n",
       "    <tr>\n",
       "      <th>30114</th>\n",
       "      <td>train</td>\n",
       "    </tr>\n",
       "    <tr>\n",
       "      <th>30115</th>\n",
       "      <td>train</td>\n",
       "    </tr>\n",
       "    <tr>\n",
       "      <th>30116</th>\n",
       "      <td>train</td>\n",
       "    </tr>\n",
       "    <tr>\n",
       "      <th>30117</th>\n",
       "      <td>train</td>\n",
       "    </tr>\n",
       "    <tr>\n",
       "      <th>30118</th>\n",
       "      <td>train</td>\n",
       "    </tr>\n",
       "    <tr>\n",
       "      <th>30119</th>\n",
       "      <td>train</td>\n",
       "    </tr>\n",
       "    <tr>\n",
       "      <th>30120</th>\n",
       "      <td>train</td>\n",
       "    </tr>\n",
       "    <tr>\n",
       "      <th>30121</th>\n",
       "      <td>train</td>\n",
       "    </tr>\n",
       "    <tr>\n",
       "      <th>30122</th>\n",
       "      <td>train</td>\n",
       "    </tr>\n",
       "    <tr>\n",
       "      <th>30123</th>\n",
       "      <td>train</td>\n",
       "    </tr>\n",
       "    <tr>\n",
       "      <th>30124</th>\n",
       "      <td>train</td>\n",
       "    </tr>\n",
       "    <tr>\n",
       "      <th>30125</th>\n",
       "      <td>train</td>\n",
       "    </tr>\n",
       "    <tr>\n",
       "      <th>30126</th>\n",
       "      <td>train</td>\n",
       "    </tr>\n",
       "    <tr>\n",
       "      <th>30127</th>\n",
       "      <td>train</td>\n",
       "    </tr>\n",
       "    <tr>\n",
       "      <th>30128</th>\n",
       "      <td>train</td>\n",
       "    </tr>\n",
       "    <tr>\n",
       "      <th>30129</th>\n",
       "      <td>train</td>\n",
       "    </tr>\n",
       "    <tr>\n",
       "      <th>30130</th>\n",
       "      <td>train</td>\n",
       "    </tr>\n",
       "    <tr>\n",
       "      <th>30131</th>\n",
       "      <td>train</td>\n",
       "    </tr>\n",
       "    <tr>\n",
       "      <th>30132</th>\n",
       "      <td>train</td>\n",
       "    </tr>\n",
       "  </tbody>\n",
       "</table>\n",
       "<p>30133 rows × 1 columns</p>\n",
       "</div>"
      ],
      "text/plain": [
       "      sample\n",
       "0       test\n",
       "1       test\n",
       "2       test\n",
       "3       test\n",
       "4       test\n",
       "5       test\n",
       "6       test\n",
       "7       test\n",
       "8       test\n",
       "9       test\n",
       "10      test\n",
       "11      test\n",
       "12      test\n",
       "13      test\n",
       "14      test\n",
       "15      test\n",
       "16      test\n",
       "17      test\n",
       "18      test\n",
       "19      test\n",
       "20      test\n",
       "21      test\n",
       "22      test\n",
       "23      test\n",
       "24      test\n",
       "25      test\n",
       "26      test\n",
       "27      test\n",
       "28      test\n",
       "29      test\n",
       "...      ...\n",
       "30103  train\n",
       "30104  train\n",
       "30105  train\n",
       "30106  train\n",
       "30107  train\n",
       "30108  train\n",
       "30109  train\n",
       "30110  train\n",
       "30111  train\n",
       "30112  train\n",
       "30113  train\n",
       "30114  train\n",
       "30115  train\n",
       "30116  train\n",
       "30117  train\n",
       "30118  train\n",
       "30119  train\n",
       "30120  train\n",
       "30121  train\n",
       "30122  train\n",
       "30123  train\n",
       "30124  train\n",
       "30125  train\n",
       "30126  train\n",
       "30127  train\n",
       "30128  train\n",
       "30129  train\n",
       "30130  train\n",
       "30131  train\n",
       "30132  train\n",
       "\n",
       "[30133 rows x 1 columns]"
      ]
     },
     "execution_count": 1312,
     "metadata": {},
     "output_type": "execute_result"
    }
   ],
   "source": [
    "def collect_emptyvalue_features(_df):\n",
    "    return _df.columns[_df.isnull().any()].values\n",
    "\n",
    "def preproc_data(df_input):\n",
    "    df_output = df_input.copy()\n",
    "    # Удаляло идентификатор AGREEMENT_RK\n",
    "    df_output.drop(['AGREEMENT_RK'], axis=1, inplace=True)\n",
    "    \n",
    "    # Избавлялась от проблем с '.' и ',' в стобцах PERSONAL_INCOME, CREDIT, FST_PAYMENT, \n",
    "    # LOAN_AVG_DLQ_AMT, LOAN_MAX_DLQ_AMT\n",
    "    convertable_featrues = ['PERSONAL_INCOME', 'CREDIT', 'FST_PAYMENT', 'LOAN_AVG_DLQ_AMT', 'LOAN_MAX_DLQ_AMT']\n",
    "    for cf in convertable_features:\n",
    "        df_output[cf] = df_output[cf].map(lambda v: v.replace(',', '.')).astype('float')\n",
    "    \n",
    "    # Что-то делала с пропусками\n",
    "    # 1st variant\n",
    "    # дропаем те фичи,которые имеют пропуски, потому что для них трудно определить заполнитель\n",
    "    # вероятно это сразу приводит к уменьшению точности модели\n",
    "    df_output.drop(['TP_PROVINCE', \n",
    "                    'REGION_NM', \n",
    "                    'REG_ADDRESS_PROVINCE',\n",
    "                    'POSTAL_ADDRESS_PROVINCE',\n",
    "                    'FACT_ADDRESS_PROVINCE',\n",
    "                    'JOB_DIR'], axis=1, inplace=True)\n",
    "    #\n",
    "    # 2nd variant\n",
    "    # Попробуем указать данным полям статус - не указан\n",
    "    # for c in ['TP_PROVINCE', 'REGION_NM', 'ORG_TP_STATE', 'JOB_DIR']:\n",
    "    #    df_output[c].fillna('Не указано', inplace=True)\n",
    "    df_output['ORG_TP_STATE'].fillna('Не указано', inplace=True)\n",
    "    df_output['GEN_TITLE'].fillna('Другое', inplace=True)\n",
    "    df_output['GEN_INDUSTRY'].fillna('Другие сферы', inplace=True)\n",
    "    df_output['PREVIOUS_CARD_NUM_UTILIZED'].fillna(0, inplace=True)\n",
    "    df_output['ORG_TP_FCAPITAL'].fillna('Без участия', inplace=True)\n",
    "    df_output.loc[(df_output['SOCSTATUS_PENS_FL'] == 1) \n",
    "                  & (df_output['SOCSTATUS_WORK_FL'] == 0)\n",
    "                  & df_output['WORK_TIME'].isnull(), 'WORK_TIME'] = 0\n",
    "    df_output['WORK_TIME'].fillna(df_output[~df_output['WORK_TIME'].isnull()]['WORK_TIME'].median(), inplace=True)\n",
    "\n",
    "    \n",
    "    # Если я что-то упустил, кинем исключение, чтобы взглянуть на данные и определить заполнитель\n",
    "    evf = collect_emptyvalue_features(df_output)\n",
    "    if evf.size > 0:\n",
    "        print(evf)\n",
    "        # raise TypeError('There are some features with empty values')\n",
    "    \n",
    "    # Кодировала категориальные признаки\n",
    "    #\n",
    "    # 1st variant\n",
    "#     df_output = pd.get_dummies(df_output, columns=['ORG_TP_FCAPITAL', 'EDUCATION', 'MARITAL_STATUS',\n",
    "#                                                   'GEN_INDUSTRY', 'GEN_TITLE', 'ORG_TP_STATE',\n",
    "#                                                   'JOB_DIR', 'FAMILY_INCOME', 'REG_ADDRESS_PROVINCE',\n",
    "#                                                   'FACT_ADDRESS_PROVINCE', 'POSTAL_ADDRESS_PROVINCE',\n",
    "#                                                   'TP_PROVINCE', 'REGION_NM'])\n",
    "    \n",
    "    df_output = pd.get_dummies(df_output, columns=['EDUCATION',\n",
    "                                                  'MARITAL_STATUS',\n",
    "                                                  'GEN_INDUSTRY',\n",
    "                                                  'GEN_TITLE',\n",
    "                                                  'FAMILY_INCOME',\n",
    "                                                  'ORG_TP_FCAPITAL',\n",
    "                                                  'ORG_TP_STATE'])\n",
    "    #\n",
    "    # 2nd variant\n",
    "#     df_output['ORG_TP_FCAPITAL'] = np.where(df_output['ORG_TP_FCAPITAL'].str.contains('Без участия'), 1, 0)\n",
    "    \n",
    "#     from sklearn.preprocessing import LabelEncoder\n",
    "#     le_edu = LabelEncoder()\n",
    "#     le_ms = LabelEncoder()\n",
    "#     le_gi = LabelEncoder()\n",
    "#     le_gt = LabelEncoder()\n",
    "#     le_ots = LabelEncoder() \n",
    "#     # le_jd = LabelEncoder() \n",
    "#     le_fi = LabelEncoder()\n",
    "#     # le_rap = LabelEncoder() \n",
    "#     # le_fap = LabelEncoder()\n",
    "#     # le_pap = LabelEncoder()\n",
    "#     # le_tp = LabelEncoder()\n",
    "#     # le_rn = LabelEncoder()\n",
    "#     df_output['EDUCATION'] = le_edu.fit_transform(df_output['EDUCATION'])\n",
    "#     df_output['MARITAL_STATUS'] = le_ms.fit_transform(df_output['MARITAL_STATUS'])\n",
    "#     df_output['GEN_INDUSTRY'] = le_gi.fit_transform(df_output['GEN_INDUSTRY'])\n",
    "#     df_output['GEN_TITLE'] = le_gt.fit_transform(df_output['GEN_TITLE'])\n",
    "#     df_output['ORG_TP_STATE'] = le_ots.fit_transform(df_output['ORG_TP_STATE'])\n",
    "#     # df_output['JOB_DIR'] = le_jd.fit_transform(df_output['JOB_DIR'])\n",
    "#     df_output['FAMILY_INCOME'] = le_fi.fit_transform(df_output['FAMILY_INCOME'])\n",
    "#     # df_output['REG_ADDRESS_PROVINCE'] = le_rap.fit_transform(df_output['REG_ADDRESS_PROVINCE'])\n",
    "#     # df_output['FACT_ADDRESS_PROVINCE'] = le_fap.fit_transform(df_output['FACT_ADDRESS_PROVINCE'])\n",
    "#     # df_output['POSTAL_ADDRESS_PROVINCE'] = le_pap.fit_transform(df_output['POSTAL_ADDRESS_PROVINCE'])\n",
    "#     # df_output['TP_PROVINCE'] = le_tp.fit_transform(df_output['TP_PROVINCE'])\n",
    "#     # df_output['REGION_NM'] = le_rn.fit_transform(df_output['REGION_NM'])\n",
    "    \n",
    "    return df_output\n",
    "\n",
    "df_output = preproc_data(df)\n",
    "df_output.select_dtypes(include='object') # here must be only `sample`"
   ]
  },
  {
   "cell_type": "code",
   "execution_count": 1313,
   "metadata": {
    "collapsed": false
   },
   "outputs": [],
   "source": [
    "df_preproc = df.pipe(preproc_data)\n",
    "\n",
    "df_train_preproc = df_preproc.query('sample == \"train\"').drop(['sample'], axis=1)\n",
    "df_test_preproc = df_preproc.query('sample == \"test\"').drop(['sample'], axis=1)"
   ]
  },
  {
   "cell_type": "code",
   "execution_count": null,
   "metadata": {
    "collapsed": false
   },
   "outputs": [],
   "source": []
  },
  {
   "cell_type": "markdown",
   "metadata": {},
   "source": [
    "#### Задание 4. Отделите целевую переменную и остальные признаки\n",
    "\n",
    "Должно получится:\n",
    "* 2 матрицы: X и X_test\n",
    "* 2 вектора: y и y_test"
   ]
  },
  {
   "cell_type": "code",
   "execution_count": 1315,
   "metadata": {
    "collapsed": false
   },
   "outputs": [],
   "source": [
    "y = df_train_preproc['TARGET']\n",
    "X = df_train_preproc.drop(['TARGET'], axis=1)\n",
    "\n",
    "y_test = df_test_preproc['TARGET']\n",
    "X_test = df_test_preproc.drop(['TARGET'], axis=1)"
   ]
  },
  {
   "cell_type": "code",
   "execution_count": 1316,
   "metadata": {
    "collapsed": false
   },
   "outputs": [
    {
     "data": {
      "text/plain": [
       "((15223, 105), (15223,))"
      ]
     },
     "execution_count": 1316,
     "metadata": {},
     "output_type": "execute_result"
    }
   ],
   "source": [
    "X.shape, y.shape"
   ]
  },
  {
   "cell_type": "markdown",
   "metadata": {},
   "source": [
    "#### Задание 5. Обучение и оценка качества разных моделей"
   ]
  },
  {
   "cell_type": "code",
   "execution_count": 1317,
   "metadata": {
    "collapsed": true
   },
   "outputs": [],
   "source": [
    "from sklearn.cross_validation import train_test_split\n",
    "# train_test_split?"
   ]
  },
  {
   "cell_type": "code",
   "execution_count": 1318,
   "metadata": {
    "collapsed": false
   },
   "outputs": [
    {
     "data": {
      "text/plain": [
       "((10656, 105), (10656,), (4567, 105), (4567,))"
      ]
     },
     "execution_count": 1318,
     "metadata": {},
     "output_type": "execute_result"
    }
   ],
   "source": [
    "# test_size=0.3, random_state=42\n",
    "\n",
    "## Your Code Here\n",
    "X_train, X_train_test, y_train, y_train_test = train_test_split(X, y, test_size=0.3, random_state=42)\n",
    "X_train.shape, y_train.shape, X_train_test.shape, y_train_test.shape"
   ]
  },
  {
   "cell_type": "code",
   "execution_count": 1322,
   "metadata": {
    "collapsed": false
   },
   "outputs": [],
   "source": [
    "# Попробовать следующие \"черные ящики\": интерфейс одинаковый \n",
    "#     fit, \n",
    "#     predict, \n",
    "#     predict_proba\n",
    "\n",
    "from sklearn.tree import DecisionTreeClassifier\n",
    "from sklearn.ensemble import RandomForestClassifier\n",
    "from sklearn.linear_model import LogisticRegression\n",
    "\n",
    "## Your Code Here\n",
    "dtc = DecisionTreeClassifier()\n",
    "dtc.fit(X_train, y_train)\n",
    "predict_dtc = dtc.predict(X_train_test)\n",
    "predict_proba_dtc = dtc.predict_proba(X_train_test)\n",
    "\n",
    "rfc = RandomForestClassifier()\n",
    "rfc.fit(X_train, y_train)\n",
    "predict_rfc = rfc.predict(X_train_test)\n",
    "predict_proba_rfc = rfc.predict_proba(X_train_test)\n",
    "\n",
    "lr = LogisticRegression()\n",
    "lr.fit(X_train, y_train)\n",
    "predict_lr = lr.predict(X_train_test)\n",
    "predict_proba_lr = lr.predict_proba(X_train_test)"
   ]
  },
  {
   "cell_type": "code",
   "execution_count": 1323,
   "metadata": {
    "collapsed": false
   },
   "outputs": [
    {
     "data": {
      "text/plain": [
       "({'dtc': 0.7961462666958616,\n",
       "  'rfc': 0.8767243266914824,\n",
       "  'lr': 0.877819137289249},\n",
       " {'dtc': 0.17017543859649123,\n",
       "  'rfc': 0.3181818181818182,\n",
       "  'lr': 0.2857142857142857},\n",
       " {'dtc': 0.17477477477477477,\n",
       "  'rfc': 0.012612612612612612,\n",
       "  'lr': 0.0036036036036036037})"
      ]
     },
     "execution_count": 1323,
     "metadata": {},
     "output_type": "execute_result"
    }
   ],
   "source": [
    "# Посчитать метрики стандартные\n",
    "# accuracy, precision, recall\n",
    "\n",
    "from sklearn.metrics import accuracy_score, precision_score, recall_score\n",
    "\n",
    "models_accuracy = {\n",
    "    'dtc' : accuracy_score(y_train_test, predict_dtc),\n",
    "    'rfc' : accuracy_score(y_train_test, predict_rfc),\n",
    "    'lr'  : accuracy_score(y_train_test, predict_lr)\n",
    "}\n",
    "\n",
    "best_accuracy_score = max(models_accuracy.values())\n",
    "models_accuracy, best_accuracy_score, list(filter(lambda k: models_accuracy.get(k) == best_accuracy_score, models_accuracy.keys()))\n",
    "\n",
    "models_precision_score  = {\n",
    "    'dtc' : precision_score(y_train_test, predict_dtc),\n",
    "    'rfc' : precision_score(y_train_test, predict_rfc),\n",
    "    'lr' : precision_score(y_train_test, predict_lr)\n",
    "}\n",
    "\n",
    "best_precision_score = max(models_precision_score.values())\n",
    "models_precision_score, best_precision_score, list(filter(lambda k: models_precision_score.get(k) == best_precision_score, models_precision_score.keys()))\n",
    "\n",
    "\n",
    "models_recall_score = {\n",
    "    'dtc' : recall_score(y_train_test, predict_dtc),\n",
    "    'rfc' : recall_score(y_train_test, predict_rfc),\n",
    "    'lr' : recall_score(y_train_test, predict_lr)\n",
    "}\n",
    "    \n",
    "best_recall_score = max(models_recall_score.values())\n",
    "models_recall_score, best_recall_score, list(filter(lambda k: models_recall_score.get(k) == best_recall_score, models_recall_score.keys()))\n",
    "\n",
    "\n",
    "models_accuracy, models_precision_score, models_recall_score"
   ]
  },
  {
   "cell_type": "code",
   "execution_count": 1328,
   "metadata": {
    "collapsed": false
   },
   "outputs": [
    {
     "data": {
      "text/plain": [
       "(-0.01, 1.01)"
      ]
     },
     "execution_count": 1328,
     "metadata": {},
     "output_type": "execute_result"
    },
    {
     "data": {
      "image/png": "[encoded data removed]",
      "text/plain": [
       "<Figure size 720x720 with 1 Axes>"
      ]
     },
     "metadata": {},
     "output_type": "display_data"
    }
   ],
   "source": [
    "# Визуалищировать эти метрики всех моделей на одном графике (чтоб визуально посмотреть)\n",
    "\n",
    "## Your Code Here\n",
    "from sklearn.metrics import precision_recall_curve\n",
    "from matplotlib import pyplot as plt\n",
    "from sklearn.metrics import roc_auc_score, roc_curve\n",
    "\n",
    "precision_prc_dtc, recall_prc_dtc, treshold_prc_dtc = precision_recall_curve(y_train_test, predict_proba_dtc[:,1])\n",
    "precision_prc_rfc, recall_prc_rfc, treshold_prc_rfc = precision_recall_curve(y_train_test, predict_proba_rfc[:,1])\n",
    "precision_prc_lr, recall_prc_lr, treshold_prc_lr = precision_recall_curve(y_train_test, predict_proba_lr[:,1])\n",
    "\n",
    "%matplotlib inline\n",
    "plt.figure(figsize=(10, 10))\n",
    "plt.plot(precision_prc_dtc, recall_prc_dtc, label='dtc')\n",
    "plt.plot(precision_prc_rfc, recall_prc_rfc, label='rfc')\n",
    "plt.plot(precision_prc_lr, recall_prc_lr, label='lr')\n",
    "plt.legend(loc='upper right')\n",
    "plt.ylabel('recall')\n",
    "plt.xlabel('precision')\n",
    "plt.grid(True)\n",
    "plt.title('Precision Recall Curve')\n",
    "plt.xlim((-0.01, 1.01))\n",
    "plt.ylim((-0.01, 1.01))"
   ]
  },
  {
   "cell_type": "code",
   "execution_count": 1331,
   "metadata": {
    "collapsed": false
   },
   "outputs": [
    {
     "data": {
      "text/plain": [
       "(0.5284392318539876, 0.5957550771110093, 0.6378364905284146)"
      ]
     },
     "execution_count": 1331,
     "metadata": {},
     "output_type": "execute_result"
    },
    {
     "data": {
      "image/png": "[encoded data removed]",
      "text/plain": [
       "<Figure size 720x720 with 1 Axes>"
      ]
     },
     "metadata": {},
     "output_type": "display_data"
    }
   ],
   "source": [
    "# Потроить roc-кривые всех можелей на одном графике\n",
    "# Вывести roc_auc каждой моделе\n",
    "## Your Code Here\n",
    "\n",
    "fpr_dtc, tpr_dtc, thresholds_dtc = roc_curve(y_train_test, predict_proba_dtc[:,1])\n",
    "fpr_rfc, tpr_rfc, thresholds_rfc = roc_curve(y_train_test, predict_proba_rfc[:,1])\n",
    "fpr_lr, tpr_lr, thresholds_lr = roc_curve(y_train_test, predict_proba_lr[:,1])\n",
    "plt.figure(figsize=(10, 10))\n",
    "plt.plot(fpr_dtc, tpr_dtc, label='dtc')\n",
    "plt.plot(fpr_rfc, tpr_rfc, label='rfc')\n",
    "plt.plot(fpr_lr, tpr_lr, label='lr')\n",
    "plt.legend()\n",
    "plt.plot([1.0, 0], [1.0, 0])\n",
    "plt.ylabel('tpr')\n",
    "plt.xlabel('fpr')\n",
    "plt.grid(True)\n",
    "plt.title('ROC curve')\n",
    "plt.xlim((-0.01, 1.01))\n",
    "plt.ylim((-0.01, 1.01))\n",
    "\n",
    "roc_auc_score(y_train_test, predict_proba_dtc[:,1]), roc_auc_score(y_train_test, predict_proba_rfc[:,1]), roc_auc_score(y_train_test, predict_proba_lr[:,1])"
   ]
  },
  {
   "cell_type": "code",
   "execution_count": 1350,
   "metadata": {
    "collapsed": false
   },
   "outputs": [
    {
     "data": {
      "text/plain": [
       "((array([0.54744136, 0.50697406, 0.57263092, 0.56639651, 0.54335144,\n",
       "         0.53105872, 0.51199275, 0.52607119, 0.52394015, 0.5127182 ]),\n",
       "  array([0.48247601, 0.63714908, 0.57058247, 0.64926968, 0.6382704 ,\n",
       "         0.56937202, 0.57007481, 0.51883927, 0.57950578, 0.59430968]),\n",
       "  array([0.62624378, 0.72272566, 0.65252048, 0.60545066, 0.61978981,\n",
       "         0.71924734, 0.65069145, 0.6594423 , 0.61514396, 0.65005668])),\n",
       " (array([0.53779275, 0.49266294, 0.52209504, 0.49325509, 0.52715499,\n",
       "         0.54431715, 0.49240626, 0.51570339, 0.50427211, 0.52623754]),\n",
       "  array([0.60257492, 0.55668112, 0.6058854 , 0.58641056, 0.62553052,\n",
       "         0.5991227 , 0.60083816, 0.63526667, 0.60918161, 0.65899838]),\n",
       "  array([0.65635925, 0.62982805, 0.68337561, 0.6669835 , 0.65805806,\n",
       "         0.62837944, 0.64613883, 0.64904621, 0.64113225, 0.66717156])))"
      ]
     },
     "execution_count": 1350,
     "metadata": {},
     "output_type": "execute_result"
    }
   ],
   "source": [
    "from sklearn.cross_validation import cross_val_score\n",
    "from sklearn.model_selection import StratifiedKFold\n",
    "# Сделать k-fold (10 фолдов) кросс-валидацию каждой модели\n",
    "# И посчитать средний roc_auc\n",
    "cv = StratifiedKFold(n_splits=10, shuffle=True, random_state=123)\n",
    "## Your Code Here\n",
    "s1 = cross_val_score( dtc, X_train_test, y_train_test, scoring='roc_auc', cv=cv.get_n_splits()), cross_val_score( rfc, X_train_test, y_train_test, scoring='roc_auc', cv=cv.get_n_splits()), cross_val_score( lr, X_train_test, y_train_test, scoring='roc_auc', cv=cv.get_n_splits())\n",
    "\n",
    "for train_ind, test_ind in cv.split(X, y):\n",
    "    x_train_xval_ml = np.array(X)[train_ind,:]\n",
    "    x_test_xval_ml = np.array(X)[test_ind,:]\n",
    "    y_train_xval_ml = np.array(y)[train_ind]\n",
    "\n",
    "s2 = cross_val_score( dtc, x_train_xval_ml, y_train_xval_ml, scoring='roc_auc', cv=cv.get_n_splits()), cross_val_score( rfc, x_train_xval_ml, y_train_xval_ml, scoring='roc_auc', cv=cv.get_n_splits()), cross_val_score( lr, x_train_xval_ml, y_train_xval_ml, scoring='roc_auc', cv=cv.get_n_splits())\n",
    "\n",
    "\n",
    "s1,s2"
   ]
  },
  {
   "cell_type": "code",
   "execution_count": 1340,
   "metadata": {
    "collapsed": true
   },
   "outputs": [],
   "source": [
    "# Взять лучшую модель и сделать predict (с вероятностями (!!!)) для test выборки\n",
    "## Your Code Here\n",
    "predict_lr_XTEST_proba = lr.predict_proba(X_test)"
   ]
  },
  {
   "cell_type": "code",
   "execution_count": 1342,
   "metadata": {
    "collapsed": false
   },
   "outputs": [
    {
     "data": {
      "text/plain": [
       "0.6199107685627443"
      ]
     },
     "execution_count": 1342,
     "metadata": {},
     "output_type": "execute_result"
    },
    {
     "data": {
      "image/png": "[encoded data removed]",
      "text/plain": [
       "<Figure size 720x720 with 1 Axes>"
      ]
     },
     "metadata": {},
     "output_type": "display_data"
    }
   ],
   "source": [
    "# Померить roc_auc на тесте\n",
    "fpr_lr, tpr_lr, thresholds_lr = roc_curve(y_test, predict_lr_XTEST_proba[:, 1])\n",
    "plt.figure(figsize=(10, 10))\n",
    "plt.plot(fpr_dtc, tpr_dtc, label='lr')\n",
    "plt.legend()\n",
    "plt.plot([1.0, 0], [1.0, 0])\n",
    "plt.ylabel('tpr')\n",
    "plt.xlabel('fpr')\n",
    "plt.grid(True)\n",
    "plt.title('ROC curve')\n",
    "plt.xlim((-0.01, 1.01))\n",
    "plt.ylim((-0.01, 1.01))\n",
    "roc_auc_score(y_test, predict_lr_XTEST_proba[:, 1])"
   ]
  },
  {
   "cell_type": "code",
   "execution_count": null,
   "metadata": {
    "collapsed": true
   },
   "outputs": [],
   "source": []
  }
 ],
 "metadata": {
  "anaconda-cloud": {},
  "kernelspec": {
   "display_name": "Python 3",
   "language": "python",
   "name": "python3"
  },
  "language_info": {
   "codemirror_mode": {
    "name": "ipython",
    "version": 3
   },
   "file_extension": ".py",
   "mimetype": "text/x-python",
   "name": "python",
   "nbconvert_exporter": "python",
   "pygments_lexer": "ipython3",
   "version": "3.6.3"
  },
  "toc": {
   "colors": {
    "hover_highlight": "#DAA520",
    "navigate_num": "#000000",
    "navigate_text": "#333333",
    "running_highlight": "#FF0000",
    "selected_highlight": "#FFD700",
    "sidebar_border": "#EEEEEE",
    "wrapper_background": "#FFFFFF"
   },
   "moveMenuLeft": true,
   "nav_menu": {
    "height": "31px",
    "width": "253px"
   },
   "navigate_menu": true,
   "number_sections": false,
   "sideBar": true,
   "threshold": 4,
   "toc_cell": false,
   "toc_section_display": "block",
   "toc_window_display": false,
   "widenNotebook": false
  }
 },
 "nbformat": 4,
 "nbformat_minor": 2
}
