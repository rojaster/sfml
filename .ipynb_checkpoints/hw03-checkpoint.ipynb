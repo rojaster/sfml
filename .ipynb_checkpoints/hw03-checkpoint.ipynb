{
 "cells": [
  {
   "cell_type": "code",
   "execution_count": 2,
   "metadata": {
    "collapsed": true
   },
   "outputs": [],
   "source": [
    "import pandas as pd "
   ]
  },
  {
   "cell_type": "code",
   "execution_count": 3,
   "metadata": {
    "collapsed": true
   },
   "outputs": [],
   "source": [
    "train = pd.read_csv('train.csv', index_col='_id')\n",
    "test = pd.read_csv('test.csv', index_col='_id')"
   ]
  },
  {
   "cell_type": "code",
   "execution_count": 7,
   "metadata": {
    "collapsed": false
   },
   "outputs": [
    {
     "name": "stdout",
     "output_type": "stream",
     "text": [
      "<class 'pandas.core.frame.DataFrame'>\n",
      "Index: 24712 entries, df7489733b004bbe40d3d37b34f82419 to 46d0d25dfd1def79632dd437261d0b5c\n",
      "Data columns (total 21 columns):\n",
      "age               24712 non-null int64\n",
      "job               24712 non-null object\n",
      "marital           24712 non-null object\n",
      "education         24712 non-null object\n",
      "default           24712 non-null object\n",
      "housing           24712 non-null object\n",
      "loan              24712 non-null object\n",
      "contact           24712 non-null object\n",
      "month             24712 non-null object\n",
      "day_of_week       24712 non-null object\n",
      "duration          24712 non-null int64\n",
      "campaign          24712 non-null int64\n",
      "pdays             24712 non-null int64\n",
      "previous          24712 non-null int64\n",
      "poutcome          24712 non-null object\n",
      "emp.var.rate      24712 non-null float64\n",
      "cons.price.idx    24712 non-null float64\n",
      "cons.conf.idx     24712 non-null float64\n",
      "euribor3m         24712 non-null float64\n",
      "nr.employed       24712 non-null float64\n",
      "target            24712 non-null int64\n",
      "dtypes: float64(5), int64(6), object(10)\n",
      "memory usage: 4.1+ MB\n",
      "<class 'pandas.core.frame.DataFrame'>\n",
      "Index: 16476 entries, 66810d8e6bf2b41c880a7bc6c8a1e295 to 82db4c5dd22e8182b30917571fe77c4d\n",
      "Data columns (total 20 columns):\n",
      "age               16476 non-null int64\n",
      "job               16476 non-null object\n",
      "marital           16476 non-null object\n",
      "education         16476 non-null object\n",
      "default           16476 non-null object\n",
      "housing           16476 non-null object\n",
      "loan              16476 non-null object\n",
      "contact           16476 non-null object\n",
      "month             16476 non-null object\n",
      "day_of_week       16476 non-null object\n",
      "duration          16476 non-null int64\n",
      "campaign          16476 non-null int64\n",
      "pdays             16476 non-null int64\n",
      "previous          16476 non-null int64\n",
      "poutcome          16476 non-null object\n",
      "emp.var.rate      16476 non-null float64\n",
      "cons.price.idx    16476 non-null float64\n",
      "cons.conf.idx     16476 non-null float64\n",
      "euribor3m         16476 non-null float64\n",
      "nr.employed       16476 non-null float64\n",
      "dtypes: float64(5), int64(5), object(10)\n",
      "memory usage: 2.6+ MB\n"
     ]
    },
    {
     "data": {
      "text/plain": [
       "(None, None)"
      ]
     },
     "execution_count": 7,
     "metadata": {},
     "output_type": "execute_result"
    }
   ],
   "source": [
    "train.info(), test.info()"
   ]
  },
  {
   "cell_type": "code",
   "execution_count": 8,
   "metadata": {
    "collapsed": false
   },
   "outputs": [
    {
     "data": {
      "text/plain": [
       "((24712, 21), (16476, 20))"
      ]
     },
     "execution_count": 8,
     "metadata": {},
     "output_type": "execute_result"
    }
   ],
   "source": [
    "train.shape, test.shape"
   ]
  },
  {
   "cell_type": "code",
   "execution_count": 10,
   "metadata": {
    "collapsed": false
   },
   "outputs": [],
   "source": [
    "y_train = list(train['target'])\n",
    "train = train.drop('target', axis=1)"
   ]
  },
  {
   "cell_type": "code",
   "execution_count": 18,
   "metadata": {
    "collapsed": false
   },
   "outputs": [
    {
     "name": "stdout",
     "output_type": "stream",
     "text": [
      "<class 'pandas.core.frame.DataFrame'>\n",
      "Index: 24712 entries, df7489733b004bbe40d3d37b34f82419 to 46d0d25dfd1def79632dd437261d0b5c\n",
      "Data columns (total 20 columns):\n",
      "age               24712 non-null int64\n",
      "job               24712 non-null object\n",
      "marital           24712 non-null object\n",
      "education         24712 non-null object\n",
      "default           24712 non-null object\n",
      "housing           24712 non-null object\n",
      "loan              24712 non-null object\n",
      "contact           24712 non-null object\n",
      "month             24712 non-null object\n",
      "day_of_week       24712 non-null object\n",
      "duration          24712 non-null int64\n",
      "campaign          24712 non-null int64\n",
      "pdays             24712 non-null int64\n",
      "previous          24712 non-null int64\n",
      "poutcome          24712 non-null object\n",
      "emp.var.rate      24712 non-null float64\n",
      "cons.price.idx    24712 non-null float64\n",
      "cons.conf.idx     24712 non-null float64\n",
      "euribor3m         24712 non-null float64\n",
      "nr.employed       24712 non-null float64\n",
      "dtypes: float64(5), int64(5), object(10)\n",
      "memory usage: 4.0+ MB\n"
     ]
    }
   ],
   "source": [
    "train.info(verbose=True)"
   ]
  },
  {
   "cell_type": "raw",
   "metadata": {},
   "source": []
  },
  {
   "cell_type": "code",
   "execution_count": null,
   "metadata": {
    "collapsed": true
   },
   "outputs": [],
   "source": [
    "def join_train_test(train, test):\n",
    "    "
   ]
  },
  {
   "cell_type": "code",
   "execution_count": 21,
   "metadata": {
    "collapsed": false
   },
   "outputs": [],
   "source": [
    "from sklearn.model_selection import train_test_split"
   ]
  },
  {
   "cell_type": "code",
   "execution_count": 22,
   "metadata": {
    "collapsed": true
   },
   "outputs": [],
   "source": [
    "X_train_train, X_train_test, y_train_train, y_train_test = train_test_split(train, y_train, test_size=0.35, random_state=40)"
   ]
  },
  {
   "cell_type": "code",
   "execution_count": 24,
   "metadata": {
    "collapsed": false
   },
   "outputs": [
    {
     "data": {
      "text/plain": [
       "((16062, 20), (8650, 20))"
      ]
     },
     "execution_count": 24,
     "metadata": {},
     "output_type": "execute_result"
    }
   ],
   "source": [
    "X_train_train.shape, X_train_test.shape"
   ]
  },
  {
   "cell_type": "code",
   "execution_count": null,
   "metadata": {
    "collapsed": true
   },
   "outputs": [],
   "source": []
  }
 ],
 "metadata": {
  "kernelspec": {
   "display_name": "Python 3",
   "language": "python",
   "name": "python3"
  },
  "language_info": {
   "codemirror_mode": {
    "name": "ipython",
    "version": 3
   },
   "file_extension": ".py",
   "mimetype": "text/x-python",
   "name": "python",
   "nbconvert_exporter": "python",
   "pygments_lexer": "ipython3",
   "version": "3.6.3"
  }
 },
 "nbformat": 4,
 "nbformat_minor": 2
}
